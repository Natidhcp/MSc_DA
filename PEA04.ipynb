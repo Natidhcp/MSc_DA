{
 "cells": [
  {
   "cell_type": "code",
   "execution_count": 2,
   "id": "796da6d5",
   "metadata": {},
   "outputs": [],
   "source": [
    "##IMPORTING LIBRARIES\n",
    "import pandas as pd\n",
    "import statistics as stats\n",
    "import numpy as np\n",
    "import matplotlib.pyplot as plt\n",
    "import seaborn as sns"
   ]
  },
  {
   "cell_type": "code",
   "execution_count": 3,
   "id": "237d0c9e",
   "metadata": {
    "scrolled": true
   },
   "outputs": [
    {
     "data": {
      "text/html": [
       "<div>\n",
       "<style scoped>\n",
       "    .dataframe tbody tr th:only-of-type {\n",
       "        vertical-align: middle;\n",
       "    }\n",
       "\n",
       "    .dataframe tbody tr th {\n",
       "        vertical-align: top;\n",
       "    }\n",
       "\n",
       "    .dataframe thead th {\n",
       "        text-align: right;\n",
       "    }\n",
       "</style>\n",
       "<table border=\"1\" class=\"dataframe\">\n",
       "  <thead>\n",
       "    <tr style=\"text-align: right;\">\n",
       "      <th></th>\n",
       "      <th>STATISTIC Label</th>\n",
       "      <th>Year</th>\n",
       "      <th>Age Group</th>\n",
       "      <th>Sex</th>\n",
       "      <th>Region</th>\n",
       "      <th>UNIT</th>\n",
       "      <th>VALUE</th>\n",
       "    </tr>\n",
       "  </thead>\n",
       "  <tbody>\n",
       "    <tr>\n",
       "      <th>277</th>\n",
       "      <td>Estimated Population (Persons in April)</td>\n",
       "      <td>2011</td>\n",
       "      <td>50 - 54 years</td>\n",
       "      <td>Both sexes</td>\n",
       "      <td>Mid-East</td>\n",
       "      <td>Thousand</td>\n",
       "      <td>38.2</td>\n",
       "    </tr>\n",
       "    <tr>\n",
       "      <th>4505</th>\n",
       "      <td>Estimated Population (Persons in April)</td>\n",
       "      <td>2019</td>\n",
       "      <td>70 - 74 years</td>\n",
       "      <td>Female</td>\n",
       "      <td>South-West</td>\n",
       "      <td>Thousand</td>\n",
       "      <td>14.7</td>\n",
       "    </tr>\n",
       "    <tr>\n",
       "      <th>2004</th>\n",
       "      <td>Estimated Population (Persons in April)</td>\n",
       "      <td>2014</td>\n",
       "      <td>85 years and over</td>\n",
       "      <td>Both sexes</td>\n",
       "      <td>Dublin</td>\n",
       "      <td>Thousand</td>\n",
       "      <td>16.6</td>\n",
       "    </tr>\n",
       "    <tr>\n",
       "      <th>4793</th>\n",
       "      <td>Estimated Population (Persons in April)</td>\n",
       "      <td>2020</td>\n",
       "      <td>30 - 34 years</td>\n",
       "      <td>Male</td>\n",
       "      <td>South-West</td>\n",
       "      <td>Thousand</td>\n",
       "      <td>22.0</td>\n",
       "    </tr>\n",
       "    <tr>\n",
       "      <th>4373</th>\n",
       "      <td>Estimated Population (Persons in April)</td>\n",
       "      <td>2019</td>\n",
       "      <td>45 - 49 years</td>\n",
       "      <td>Female</td>\n",
       "      <td>Midland</td>\n",
       "      <td>Thousand</td>\n",
       "      <td>10.8</td>\n",
       "    </tr>\n",
       "    <tr>\n",
       "      <th>4236</th>\n",
       "      <td>Estimated Population (Persons in April)</td>\n",
       "      <td>2019</td>\n",
       "      <td>20 - 24 years</td>\n",
       "      <td>Female</td>\n",
       "      <td>Dublin</td>\n",
       "      <td>Thousand</td>\n",
       "      <td>45.9</td>\n",
       "    </tr>\n",
       "    <tr>\n",
       "      <th>5715</th>\n",
       "      <td>Estimated Population (Persons in April)</td>\n",
       "      <td>2022</td>\n",
       "      <td>10 - 14 years</td>\n",
       "      <td>Female</td>\n",
       "      <td>State</td>\n",
       "      <td>Thousand</td>\n",
       "      <td>183.4</td>\n",
       "    </tr>\n",
       "    <tr>\n",
       "      <th>2128</th>\n",
       "      <td>Estimated Population (Persons in April)</td>\n",
       "      <td>2015</td>\n",
       "      <td>10 - 14 years</td>\n",
       "      <td>Female</td>\n",
       "      <td>South-East</td>\n",
       "      <td>Thousand</td>\n",
       "      <td>14.6</td>\n",
       "    </tr>\n",
       "  </tbody>\n",
       "</table>\n",
       "</div>"
      ],
      "text/plain": [
       "                              STATISTIC Label  Year          Age Group  \\\n",
       "277   Estimated Population (Persons in April)  2011      50 - 54 years   \n",
       "4505  Estimated Population (Persons in April)  2019      70 - 74 years   \n",
       "2004  Estimated Population (Persons in April)  2014  85 years and over   \n",
       "4793  Estimated Population (Persons in April)  2020      30 - 34 years   \n",
       "4373  Estimated Population (Persons in April)  2019      45 - 49 years   \n",
       "4236  Estimated Population (Persons in April)  2019      20 - 24 years   \n",
       "5715  Estimated Population (Persons in April)  2022      10 - 14 years   \n",
       "2128  Estimated Population (Persons in April)  2015      10 - 14 years   \n",
       "\n",
       "             Sex      Region      UNIT  VALUE  \n",
       "277   Both sexes    Mid-East  Thousand   38.2  \n",
       "4505      Female  South-West  Thousand   14.7  \n",
       "2004  Both sexes      Dublin  Thousand   16.6  \n",
       "4793        Male  South-West  Thousand   22.0  \n",
       "4373      Female     Midland  Thousand   10.8  \n",
       "4236      Female      Dublin  Thousand   45.9  \n",
       "5715      Female       State  Thousand  183.4  \n",
       "2128      Female  South-East  Thousand   14.6  "
      ]
     },
     "execution_count": 3,
     "metadata": {},
     "output_type": "execute_result"
    }
   ],
   "source": [
    "#Creating a DataFrame with data from file with Estimated Population statistic\n",
    "df_pop = pd.read_csv(\"PEA04.csv\")\n",
    "df_pop.sample(8)"
   ]
  },
  {
   "cell_type": "code",
   "execution_count": 4,
   "id": "facc5783",
   "metadata": {},
   "outputs": [
    {
     "name": "stdout",
     "output_type": "stream",
     "text": [
      "<class 'pandas.core.frame.DataFrame'>\n",
      "RangeIndex: 6669 entries, 0 to 6668\n",
      "Data columns (total 7 columns):\n",
      " #   Column           Non-Null Count  Dtype  \n",
      "---  ------           --------------  -----  \n",
      " 0   STATISTIC Label  6669 non-null   object \n",
      " 1   Year             6669 non-null   int64  \n",
      " 2   Age Group        6669 non-null   object \n",
      " 3   Sex              6669 non-null   object \n",
      " 4   Region           6669 non-null   object \n",
      " 5   UNIT             6669 non-null   object \n",
      " 6   VALUE            6669 non-null   float64\n",
      "dtypes: float64(1), int64(1), object(5)\n",
      "memory usage: 364.8+ KB\n"
     ]
    }
   ],
   "source": [
    "#Explore information about the DataFrame, i.e. nr of rows, nr of not null values, data types for columns, etc...\n",
    "df_pop.info()"
   ]
  },
  {
   "cell_type": "code",
   "execution_count": 5,
   "id": "0cdf2bd1",
   "metadata": {},
   "outputs": [
    {
     "data": {
      "text/html": [
       "<div>\n",
       "<style scoped>\n",
       "    .dataframe tbody tr th:only-of-type {\n",
       "        vertical-align: middle;\n",
       "    }\n",
       "\n",
       "    .dataframe tbody tr th {\n",
       "        vertical-align: top;\n",
       "    }\n",
       "\n",
       "    .dataframe thead th {\n",
       "        text-align: right;\n",
       "    }\n",
       "</style>\n",
       "<table border=\"1\" class=\"dataframe\">\n",
       "  <thead>\n",
       "    <tr style=\"text-align: right;\">\n",
       "      <th></th>\n",
       "      <th>count</th>\n",
       "      <th>mean</th>\n",
       "      <th>std</th>\n",
       "      <th>min</th>\n",
       "      <th>25%</th>\n",
       "      <th>50%</th>\n",
       "      <th>75%</th>\n",
       "      <th>max</th>\n",
       "    </tr>\n",
       "  </thead>\n",
       "  <tbody>\n",
       "    <tr>\n",
       "      <th>Year</th>\n",
       "      <td>6669.0</td>\n",
       "      <td>2017.00000</td>\n",
       "      <td>3.741938</td>\n",
       "      <td>2011.0</td>\n",
       "      <td>2014.0</td>\n",
       "      <td>2017.0</td>\n",
       "      <td>2020.0</td>\n",
       "      <td>2023.0</td>\n",
       "    </tr>\n",
       "    <tr>\n",
       "      <th>VALUE</th>\n",
       "      <td>6669.0</td>\n",
       "      <td>75.67046</td>\n",
       "      <td>281.512172</td>\n",
       "      <td>1.2</td>\n",
       "      <td>12.5</td>\n",
       "      <td>20.7</td>\n",
       "      <td>42.2</td>\n",
       "      <td>5281.6</td>\n",
       "    </tr>\n",
       "  </tbody>\n",
       "</table>\n",
       "</div>"
      ],
      "text/plain": [
       "        count        mean         std     min     25%     50%     75%     max\n",
       "Year   6669.0  2017.00000    3.741938  2011.0  2014.0  2017.0  2020.0  2023.0\n",
       "VALUE  6669.0    75.67046  281.512172     1.2    12.5    20.7    42.2  5281.6"
      ]
     },
     "execution_count": 5,
     "metadata": {},
     "output_type": "execute_result"
    }
   ],
   "source": [
    "#using the transpose view for more comfortable reading\n",
    "df_pop.describe().T"
   ]
  },
  {
   "cell_type": "code",
   "execution_count": 6,
   "id": "8f69fce5",
   "metadata": {},
   "outputs": [
    {
     "data": {
      "text/plain": [
       "array(['0 - 4 years', '5 - 9 years', '10 - 14 years', '15 - 19 years',\n",
       "       '20 - 24 years', '25 - 29 years', '30 - 34 years', '35 - 39 years',\n",
       "       '40 - 44 years', '45 - 49 years', '50 - 54 years', '55 - 59 years',\n",
       "       '60 - 64 years', '65 - 69 years', '70 - 74 years', '75 - 79 years',\n",
       "       '80 - 84 years', '85 years and over', 'All ages'], dtype=object)"
      ]
     },
     "execution_count": 6,
     "metadata": {},
     "output_type": "execute_result"
    }
   ],
   "source": [
    "#Checking available age groups in the DataFrame with Estimated Population\n",
    "df_pop[\"Age Group\"].unique()"
   ]
  },
  {
   "cell_type": "code",
   "execution_count": 7,
   "id": "587b6c0c",
   "metadata": {},
   "outputs": [],
   "source": [
    "df_f_age = pd.read_csv(\"ICA108.csv\")"
   ]
  },
  {
   "cell_type": "code",
   "execution_count": 8,
   "id": "cfba7c4f",
   "metadata": {},
   "outputs": [
    {
     "data": {
      "text/plain": [
       "array(['16 - 29 years', '30 - 44 years', '45 - 59 years', '60 - 74 years',\n",
       "       '75 years and over'], dtype=object)"
      ]
     },
     "execution_count": 8,
     "metadata": {},
     "output_type": "execute_result"
    }
   ],
   "source": [
    "df_f_age[\"Age Group\"].unique() "
   ]
  },
  {
   "cell_type": "code",
   "execution_count": 9,
   "id": "6ad08167",
   "metadata": {},
   "outputs": [],
   "source": [
    "#Function that converts Age Groups by combining several age groups in bigger one\n",
    "def age_conv (x):\n",
    "    if(x[\"Age Group\"]==\"0 - 4 years\" or x[\"Age Group\"]==\"5 - 9 years\" or x[\"Age Group\"]==\"10 - 14 years\"):\n",
    "        age = \"0 - 14 years\" \n",
    "    elif (x[\"Age Group\"]==\"15 - 19 years\" or x[\"Age Group\"]==\"20 - 24 years\" or x[\"Age Group\"]==\"25 - 29 years\"):\n",
    "        age = \"16 - 29 years\" \n",
    "    elif (x[\"Age Group\"]==\"30 - 34 years\" or x[\"Age Group\"]==\"35 - 39 years\" or x[\"Age Group\"]==\"40 - 44 years\"):\n",
    "        age = \"30 - 44 years\" \n",
    "    elif (x[\"Age Group\"]==\"45 - 49 years\" or x[\"Age Group\"]==\"50 - 54 years\" or x[\"Age Group\"]==\"55 - 59 years\"):\n",
    "        age = \"45 - 59 years\" \n",
    "    elif (x[\"Age Group\"]==\"60 - 64 years\" or x[\"Age Group\"]==\"65 - 69 years\" or x[\"Age Group\"]==\"70 - 74 years\"):\n",
    "        age = \"60 - 74 years\" \n",
    "    elif (x[\"Age Group\"]==\"80 - 84 years\" or x[\"Age Group\"]==\"85 years and over\"):\n",
    "        age = \"75 years and over\" \n",
    "    else:\n",
    "        age = \"'All ages'\"\n",
    "    return age"
   ]
  },
  {
   "cell_type": "code",
   "execution_count": 10,
   "id": "aead8299",
   "metadata": {},
   "outputs": [
    {
     "data": {
      "text/html": [
       "<div>\n",
       "<style scoped>\n",
       "    .dataframe tbody tr th:only-of-type {\n",
       "        vertical-align: middle;\n",
       "    }\n",
       "\n",
       "    .dataframe tbody tr th {\n",
       "        vertical-align: top;\n",
       "    }\n",
       "\n",
       "    .dataframe thead th {\n",
       "        text-align: right;\n",
       "    }\n",
       "</style>\n",
       "<table border=\"1\" class=\"dataframe\">\n",
       "  <thead>\n",
       "    <tr style=\"text-align: right;\">\n",
       "      <th></th>\n",
       "      <th>STATISTIC Label</th>\n",
       "      <th>Year</th>\n",
       "      <th>Age Group</th>\n",
       "      <th>Sex</th>\n",
       "      <th>Region</th>\n",
       "      <th>UNIT</th>\n",
       "      <th>VALUE</th>\n",
       "      <th>Converted Age</th>\n",
       "    </tr>\n",
       "  </thead>\n",
       "  <tbody>\n",
       "    <tr>\n",
       "      <th>0</th>\n",
       "      <td>Estimated Population (Persons in April)</td>\n",
       "      <td>2011</td>\n",
       "      <td>0 - 4 years</td>\n",
       "      <td>Both sexes</td>\n",
       "      <td>State</td>\n",
       "      <td>Thousand</td>\n",
       "      <td>356.0</td>\n",
       "      <td>0 - 14 years</td>\n",
       "    </tr>\n",
       "    <tr>\n",
       "      <th>1</th>\n",
       "      <td>Estimated Population (Persons in April)</td>\n",
       "      <td>2011</td>\n",
       "      <td>0 - 4 years</td>\n",
       "      <td>Both sexes</td>\n",
       "      <td>Border</td>\n",
       "      <td>Thousand</td>\n",
       "      <td>30.7</td>\n",
       "      <td>0 - 14 years</td>\n",
       "    </tr>\n",
       "    <tr>\n",
       "      <th>2</th>\n",
       "      <td>Estimated Population (Persons in April)</td>\n",
       "      <td>2011</td>\n",
       "      <td>0 - 4 years</td>\n",
       "      <td>Both sexes</td>\n",
       "      <td>West</td>\n",
       "      <td>Thousand</td>\n",
       "      <td>32.6</td>\n",
       "      <td>0 - 14 years</td>\n",
       "    </tr>\n",
       "    <tr>\n",
       "      <th>3</th>\n",
       "      <td>Estimated Population (Persons in April)</td>\n",
       "      <td>2011</td>\n",
       "      <td>0 - 4 years</td>\n",
       "      <td>Both sexes</td>\n",
       "      <td>Mid-West</td>\n",
       "      <td>Thousand</td>\n",
       "      <td>35.0</td>\n",
       "      <td>0 - 14 years</td>\n",
       "    </tr>\n",
       "    <tr>\n",
       "      <th>4</th>\n",
       "      <td>Estimated Population (Persons in April)</td>\n",
       "      <td>2011</td>\n",
       "      <td>0 - 4 years</td>\n",
       "      <td>Both sexes</td>\n",
       "      <td>South-East</td>\n",
       "      <td>Thousand</td>\n",
       "      <td>32.0</td>\n",
       "      <td>0 - 14 years</td>\n",
       "    </tr>\n",
       "  </tbody>\n",
       "</table>\n",
       "</div>"
      ],
      "text/plain": [
       "                           STATISTIC Label  Year    Age Group         Sex  \\\n",
       "0  Estimated Population (Persons in April)  2011  0 - 4 years  Both sexes   \n",
       "1  Estimated Population (Persons in April)  2011  0 - 4 years  Both sexes   \n",
       "2  Estimated Population (Persons in April)  2011  0 - 4 years  Both sexes   \n",
       "3  Estimated Population (Persons in April)  2011  0 - 4 years  Both sexes   \n",
       "4  Estimated Population (Persons in April)  2011  0 - 4 years  Both sexes   \n",
       "\n",
       "       Region      UNIT  VALUE Converted Age  \n",
       "0       State  Thousand  356.0  0 - 14 years  \n",
       "1      Border  Thousand   30.7  0 - 14 years  \n",
       "2        West  Thousand   32.6  0 - 14 years  \n",
       "3    Mid-West  Thousand   35.0  0 - 14 years  \n",
       "4  South-East  Thousand   32.0  0 - 14 years  "
      ]
     },
     "execution_count": 10,
     "metadata": {},
     "output_type": "execute_result"
    }
   ],
   "source": [
    "#Creating new column with converted age groups in the existing DataFrame and checking if column is created\n",
    "df_pop[\"Converted Age\"] = df_pop.apply(age_conv,axis=1)\n",
    "df_pop.head()"
   ]
  },
  {
   "cell_type": "code",
   "execution_count": 11,
   "id": "a29139e1",
   "metadata": {},
   "outputs": [
    {
     "data": {
      "text/plain": [
       "array(['0 - 14 years', '16 - 29 years', '30 - 44 years', '45 - 59 years',\n",
       "       '60 - 74 years', \"'All ages'\", '75 years and over'], dtype=object)"
      ]
     },
     "execution_count": 11,
     "metadata": {},
     "output_type": "execute_result"
    }
   ],
   "source": [
    "#quick verification that we have only new age groups\n",
    "df_pop[\"Converted Age\"].unique()"
   ]
  },
  {
   "cell_type": "code",
   "execution_count": 12,
   "id": "9d4260ff",
   "metadata": {},
   "outputs": [
    {
     "name": "stdout",
     "output_type": "stream",
     "text": [
      "<class 'pandas.core.frame.DataFrame'>\n",
      "Index: 4914 entries, 81 to 6641\n",
      "Data columns (total 8 columns):\n",
      " #   Column           Non-Null Count  Dtype  \n",
      "---  ------           --------------  -----  \n",
      " 0   STATISTIC Label  4914 non-null   object \n",
      " 1   Year             4914 non-null   int64  \n",
      " 2   Age Group        4914 non-null   object \n",
      " 3   Sex              4914 non-null   object \n",
      " 4   Region           4914 non-null   object \n",
      " 5   UNIT             4914 non-null   object \n",
      " 6   VALUE            4914 non-null   float64\n",
      " 7   Converted Age    4914 non-null   object \n",
      "dtypes: float64(1), int64(1), object(6)\n",
      "memory usage: 345.5+ KB\n"
     ]
    }
   ],
   "source": [
    "# Boolean indexing - https://pandas.pydata.org/pandas-docs/stable/user_guide/indexing.html#boolean-indexing\n",
    "#removing unnecessary rows with irrelevant age groups\n",
    "#and verifying nr of remaining rows\n",
    "\n",
    "df_pop = df_pop.drop(df_pop[(df_pop[\"Converted Age\"]==\"'All ages'\") | (df_pop[\"Converted Age\"]==\"0 - 14 years\")].index)\n",
    "\n",
    "df_pop.info()"
   ]
  },
  {
   "cell_type": "code",
   "execution_count": 13,
   "id": "5707db4e",
   "metadata": {
    "scrolled": true
   },
   "outputs": [
    {
     "data": {
      "text/plain": [
       "array(['16 - 29 years', '30 - 44 years', '45 - 59 years', '60 - 74 years',\n",
       "       '75 years and over'], dtype=object)"
      ]
     },
     "execution_count": 13,
     "metadata": {},
     "output_type": "execute_result"
    }
   ],
   "source": [
    "#quick check that only relevant age groups are in the DataFrame\n",
    "df_pop[\"Converted Age\"].unique()"
   ]
  },
  {
   "cell_type": "code",
   "execution_count": 14,
   "id": "00383ff5",
   "metadata": {},
   "outputs": [
    {
     "name": "stdout",
     "output_type": "stream",
     "text": [
      "<class 'pandas.core.frame.DataFrame'>\n",
      "Index: 1638 entries, 81 to 6623\n",
      "Data columns (total 8 columns):\n",
      " #   Column           Non-Null Count  Dtype  \n",
      "---  ------           --------------  -----  \n",
      " 0   STATISTIC Label  1638 non-null   object \n",
      " 1   Year             1638 non-null   int64  \n",
      " 2   Age Group        1638 non-null   object \n",
      " 3   Sex              1638 non-null   object \n",
      " 4   Region           1638 non-null   object \n",
      " 5   UNIT             1638 non-null   object \n",
      " 6   VALUE            1638 non-null   float64\n",
      " 7   Converted Age    1638 non-null   object \n",
      "dtypes: float64(1), int64(1), object(6)\n",
      "memory usage: 115.2+ KB\n"
     ]
    }
   ],
   "source": [
    "#removing rows that reflect data splitted by sex and leaving only data related to both sexes\n",
    "\n",
    "df_pop = df_pop.drop(df_pop[(df_pop[\"Sex\"] != \"Both sexes\")].index)\n",
    "\n",
    "df_pop.info()"
   ]
  },
  {
   "cell_type": "code",
   "execution_count": 15,
   "id": "d42ff086",
   "metadata": {},
   "outputs": [
    {
     "data": {
      "text/plain": [
       "array(['Both sexes'], dtype=object)"
      ]
     },
     "execution_count": 15,
     "metadata": {},
     "output_type": "execute_result"
    }
   ],
   "source": [
    "#quick check for left data\n",
    "df_pop[\"Sex\"].unique()"
   ]
  },
  {
   "cell_type": "code",
   "execution_count": 16,
   "id": "cbaaf4ac",
   "metadata": {
    "scrolled": true
   },
   "outputs": [
    {
     "data": {
      "text/html": [
       "<div>\n",
       "<style scoped>\n",
       "    .dataframe tbody tr th:only-of-type {\n",
       "        vertical-align: middle;\n",
       "    }\n",
       "\n",
       "    .dataframe tbody tr th {\n",
       "        vertical-align: top;\n",
       "    }\n",
       "\n",
       "    .dataframe thead th {\n",
       "        text-align: right;\n",
       "    }\n",
       "</style>\n",
       "<table border=\"1\" class=\"dataframe\">\n",
       "  <thead>\n",
       "    <tr style=\"text-align: right;\">\n",
       "      <th></th>\n",
       "      <th>STATISTIC Label</th>\n",
       "      <th>Year</th>\n",
       "      <th>Age Group</th>\n",
       "      <th>Sex</th>\n",
       "      <th>Region</th>\n",
       "      <th>UNIT</th>\n",
       "      <th>VALUE</th>\n",
       "      <th>Converted Age</th>\n",
       "    </tr>\n",
       "  </thead>\n",
       "  <tbody>\n",
       "    <tr>\n",
       "      <th>3165</th>\n",
       "      <td>Estimated Population (Persons in April)</td>\n",
       "      <td>2017</td>\n",
       "      <td>16 - 29 years</td>\n",
       "      <td>Both sexes</td>\n",
       "      <td>Dublin</td>\n",
       "      <td>Thousand</td>\n",
       "      <td>78.3</td>\n",
       "      <td>16 - 29 years</td>\n",
       "    </tr>\n",
       "    <tr>\n",
       "      <th>248</th>\n",
       "      <td>Estimated Population (Persons in April)</td>\n",
       "      <td>2011</td>\n",
       "      <td>45 - 59 years</td>\n",
       "      <td>Both sexes</td>\n",
       "      <td>South-West</td>\n",
       "      <td>Thousand</td>\n",
       "      <td>45.5</td>\n",
       "      <td>45 - 59 years</td>\n",
       "    </tr>\n",
       "    <tr>\n",
       "      <th>2814</th>\n",
       "      <td>Estimated Population (Persons in April)</td>\n",
       "      <td>2016</td>\n",
       "      <td>45 - 59 years</td>\n",
       "      <td>Both sexes</td>\n",
       "      <td>Dublin</td>\n",
       "      <td>Thousand</td>\n",
       "      <td>85.7</td>\n",
       "      <td>45 - 59 years</td>\n",
       "    </tr>\n",
       "    <tr>\n",
       "      <th>2788</th>\n",
       "      <td>Estimated Population (Persons in April)</td>\n",
       "      <td>2016</td>\n",
       "      <td>30 - 44 years</td>\n",
       "      <td>Both sexes</td>\n",
       "      <td>Mid-East</td>\n",
       "      <td>Thousand</td>\n",
       "      <td>56.9</td>\n",
       "      <td>30 - 44 years</td>\n",
       "    </tr>\n",
       "    <tr>\n",
       "      <th>817</th>\n",
       "      <td>Estimated Population (Persons in April)</td>\n",
       "      <td>2012</td>\n",
       "      <td>45 - 59 years</td>\n",
       "      <td>Both sexes</td>\n",
       "      <td>Mid-East</td>\n",
       "      <td>Thousand</td>\n",
       "      <td>34.1</td>\n",
       "      <td>45 - 59 years</td>\n",
       "    </tr>\n",
       "  </tbody>\n",
       "</table>\n",
       "</div>"
      ],
      "text/plain": [
       "                              STATISTIC Label  Year      Age Group  \\\n",
       "3165  Estimated Population (Persons in April)  2017  16 - 29 years   \n",
       "248   Estimated Population (Persons in April)  2011  45 - 59 years   \n",
       "2814  Estimated Population (Persons in April)  2016  45 - 59 years   \n",
       "2788  Estimated Population (Persons in April)  2016  30 - 44 years   \n",
       "817   Estimated Population (Persons in April)  2012  45 - 59 years   \n",
       "\n",
       "             Sex      Region      UNIT  VALUE  Converted Age  \n",
       "3165  Both sexes      Dublin  Thousand   78.3  16 - 29 years  \n",
       "248   Both sexes  South-West  Thousand   45.5  45 - 59 years  \n",
       "2814  Both sexes      Dublin  Thousand   85.7  45 - 59 years  \n",
       "2788  Both sexes    Mid-East  Thousand   56.9  30 - 44 years  \n",
       "817   Both sexes    Mid-East  Thousand   34.1  45 - 59 years  "
      ]
     },
     "execution_count": 16,
     "metadata": {},
     "output_type": "execute_result"
    }
   ],
   "source": [
    "df_pop[\"Age Group\"] = df_pop[\"Converted Age\"].values\n",
    "df_pop.sample(5)\n"
   ]
  },
  {
   "cell_type": "code",
   "execution_count": 17,
   "id": "2d94a9fb",
   "metadata": {},
   "outputs": [],
   "source": [
    "df_pop = df_pop.rename(columns={'Age Group': 'AgeGroup'})"
   ]
  },
  {
   "cell_type": "code",
   "execution_count": 18,
   "id": "fc537492",
   "metadata": {
    "scrolled": true
   },
   "outputs": [],
   "source": [
    "df_pop = df_pop.drop(columns=[\"Converted Age\"])"
   ]
  },
  {
   "cell_type": "code",
   "execution_count": 24,
   "id": "59149323",
   "metadata": {},
   "outputs": [
    {
     "data": {
      "text/html": [
       "<div>\n",
       "<style scoped>\n",
       "    .dataframe tbody tr th:only-of-type {\n",
       "        vertical-align: middle;\n",
       "    }\n",
       "\n",
       "    .dataframe tbody tr th {\n",
       "        vertical-align: top;\n",
       "    }\n",
       "\n",
       "    .dataframe thead th {\n",
       "        text-align: right;\n",
       "    }\n",
       "</style>\n",
       "<table border=\"1\" class=\"dataframe\">\n",
       "  <thead>\n",
       "    <tr style=\"text-align: right;\">\n",
       "      <th></th>\n",
       "      <th>STATISTIC Label</th>\n",
       "      <th>Year</th>\n",
       "      <th>AgeGroup</th>\n",
       "      <th>Sex</th>\n",
       "      <th>Region</th>\n",
       "      <th>UNIT</th>\n",
       "      <th>VALUE</th>\n",
       "    </tr>\n",
       "  </thead>\n",
       "  <tbody>\n",
       "    <tr>\n",
       "      <th>81</th>\n",
       "      <td>Estimated Population (Persons in April)</td>\n",
       "      <td>2011</td>\n",
       "      <td>16 - 29 years</td>\n",
       "      <td>Both sexes</td>\n",
       "      <td>State</td>\n",
       "      <td>Thousand</td>\n",
       "      <td>281.0</td>\n",
       "    </tr>\n",
       "    <tr>\n",
       "      <th>82</th>\n",
       "      <td>Estimated Population (Persons in April)</td>\n",
       "      <td>2011</td>\n",
       "      <td>16 - 29 years</td>\n",
       "      <td>Both sexes</td>\n",
       "      <td>Border</td>\n",
       "      <td>Thousand</td>\n",
       "      <td>25.9</td>\n",
       "    </tr>\n",
       "    <tr>\n",
       "      <th>83</th>\n",
       "      <td>Estimated Population (Persons in April)</td>\n",
       "      <td>2011</td>\n",
       "      <td>16 - 29 years</td>\n",
       "      <td>Both sexes</td>\n",
       "      <td>West</td>\n",
       "      <td>Thousand</td>\n",
       "      <td>27.9</td>\n",
       "    </tr>\n",
       "    <tr>\n",
       "      <th>84</th>\n",
       "      <td>Estimated Population (Persons in April)</td>\n",
       "      <td>2011</td>\n",
       "      <td>16 - 29 years</td>\n",
       "      <td>Both sexes</td>\n",
       "      <td>Mid-West</td>\n",
       "      <td>Thousand</td>\n",
       "      <td>29.9</td>\n",
       "    </tr>\n",
       "    <tr>\n",
       "      <th>85</th>\n",
       "      <td>Estimated Population (Persons in April)</td>\n",
       "      <td>2011</td>\n",
       "      <td>16 - 29 years</td>\n",
       "      <td>Both sexes</td>\n",
       "      <td>South-East</td>\n",
       "      <td>Thousand</td>\n",
       "      <td>25.9</td>\n",
       "    </tr>\n",
       "    <tr>\n",
       "      <th>86</th>\n",
       "      <td>Estimated Population (Persons in April)</td>\n",
       "      <td>2011</td>\n",
       "      <td>16 - 29 years</td>\n",
       "      <td>Both sexes</td>\n",
       "      <td>South-West</td>\n",
       "      <td>Thousand</td>\n",
       "      <td>40.8</td>\n",
       "    </tr>\n",
       "    <tr>\n",
       "      <th>87</th>\n",
       "      <td>Estimated Population (Persons in April)</td>\n",
       "      <td>2011</td>\n",
       "      <td>16 - 29 years</td>\n",
       "      <td>Both sexes</td>\n",
       "      <td>Dublin</td>\n",
       "      <td>Thousand</td>\n",
       "      <td>72.0</td>\n",
       "    </tr>\n",
       "    <tr>\n",
       "      <th>88</th>\n",
       "      <td>Estimated Population (Persons in April)</td>\n",
       "      <td>2011</td>\n",
       "      <td>16 - 29 years</td>\n",
       "      <td>Both sexes</td>\n",
       "      <td>Mid-East</td>\n",
       "      <td>Thousand</td>\n",
       "      <td>40.7</td>\n",
       "    </tr>\n",
       "  </tbody>\n",
       "</table>\n",
       "</div>"
      ],
      "text/plain": [
       "                            STATISTIC Label  Year       AgeGroup         Sex  \\\n",
       "81  Estimated Population (Persons in April)  2011  16 - 29 years  Both sexes   \n",
       "82  Estimated Population (Persons in April)  2011  16 - 29 years  Both sexes   \n",
       "83  Estimated Population (Persons in April)  2011  16 - 29 years  Both sexes   \n",
       "84  Estimated Population (Persons in April)  2011  16 - 29 years  Both sexes   \n",
       "85  Estimated Population (Persons in April)  2011  16 - 29 years  Both sexes   \n",
       "86  Estimated Population (Persons in April)  2011  16 - 29 years  Both sexes   \n",
       "87  Estimated Population (Persons in April)  2011  16 - 29 years  Both sexes   \n",
       "88  Estimated Population (Persons in April)  2011  16 - 29 years  Both sexes   \n",
       "\n",
       "        Region      UNIT  VALUE  \n",
       "81       State  Thousand  281.0  \n",
       "82      Border  Thousand   25.9  \n",
       "83        West  Thousand   27.9  \n",
       "84    Mid-West  Thousand   29.9  \n",
       "85  South-East  Thousand   25.9  \n",
       "86  South-West  Thousand   40.8  \n",
       "87      Dublin  Thousand   72.0  \n",
       "88    Mid-East  Thousand   40.7  "
      ]
     },
     "execution_count": 24,
     "metadata": {},
     "output_type": "execute_result"
    }
   ],
   "source": [
    "#one last check\n",
    "df_pop.head(8)"
   ]
  },
  {
   "cell_type": "code",
   "execution_count": 25,
   "id": "0d533525",
   "metadata": {},
   "outputs": [],
   "source": [
    "#Export DataFrame to a csv File\n",
    "df_pop.to_csv(\"e_population_cleared.csv\", index = False)"
   ]
  }
 ],
 "metadata": {
  "kernelspec": {
   "display_name": "Python 3 (ipykernel)",
   "language": "python",
   "name": "python3"
  },
  "language_info": {
   "codemirror_mode": {
    "name": "ipython",
    "version": 3
   },
   "file_extension": ".py",
   "mimetype": "text/x-python",
   "name": "python",
   "nbconvert_exporter": "python",
   "pygments_lexer": "ipython3",
   "version": "3.11.4"
  }
 },
 "nbformat": 4,
 "nbformat_minor": 5
}
