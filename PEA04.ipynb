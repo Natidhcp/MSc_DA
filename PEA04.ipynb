{
 "cells": [
  {
   "cell_type": "markdown",
   "id": "be80e4be",
   "metadata": {},
   "source": [
    "# Preparing file with Estimated population\n",
    "\n",
    "**Next modifications will be applied to the PEA04.csv file:**\n",
    "* removing rows that cotain data splitted by sex\n",
    "* In column 'Region' replacing value 'State' with 'Ireland' and 'Midland' with 'Midlands'\n",
    "* Renaming last column with values\n",
    "* Multipliyng values by 1000\n",
    "* Export DataFrame to a csv File\n",
    "\n",
    "**Note:** Please check \"Data overview\" Jupiter Notebook for reference"
   ]
  },
  {
   "cell_type": "code",
   "execution_count": 3,
   "id": "796da6d5",
   "metadata": {},
   "outputs": [],
   "source": [
    "##IMPORTING LIBRARIES\n",
    "import pandas as pd\n",
    "import statistics as stats\n",
    "import numpy as np\n",
    "import matplotlib.pyplot as plt\n",
    "import seaborn as sns"
   ]
  },
  {
   "cell_type": "code",
   "execution_count": 4,
   "id": "237d0c9e",
   "metadata": {
    "scrolled": true
   },
   "outputs": [
    {
     "data": {
      "text/html": [
       "<div>\n",
       "<style scoped>\n",
       "    .dataframe tbody tr th:only-of-type {\n",
       "        vertical-align: middle;\n",
       "    }\n",
       "\n",
       "    .dataframe tbody tr th {\n",
       "        vertical-align: top;\n",
       "    }\n",
       "\n",
       "    .dataframe thead th {\n",
       "        text-align: right;\n",
       "    }\n",
       "</style>\n",
       "<table border=\"1\" class=\"dataframe\">\n",
       "  <thead>\n",
       "    <tr style=\"text-align: right;\">\n",
       "      <th></th>\n",
       "      <th>STATISTIC Label</th>\n",
       "      <th>Year</th>\n",
       "      <th>Age Group</th>\n",
       "      <th>Sex</th>\n",
       "      <th>Region</th>\n",
       "      <th>UNIT</th>\n",
       "      <th>VALUE</th>\n",
       "    </tr>\n",
       "  </thead>\n",
       "  <tbody>\n",
       "    <tr>\n",
       "      <th>4933</th>\n",
       "      <td>Estimated Population (Persons in April)</td>\n",
       "      <td>2020</td>\n",
       "      <td>55 - 59 years</td>\n",
       "      <td>Female</td>\n",
       "      <td>Border</td>\n",
       "      <td>Thousand</td>\n",
       "      <td>12.9</td>\n",
       "    </tr>\n",
       "    <tr>\n",
       "      <th>3056</th>\n",
       "      <td>Estimated Population (Persons in April)</td>\n",
       "      <td>2016</td>\n",
       "      <td>All ages</td>\n",
       "      <td>Both sexes</td>\n",
       "      <td>South-West</td>\n",
       "      <td>Thousand</td>\n",
       "      <td>685.0</td>\n",
       "    </tr>\n",
       "    <tr>\n",
       "      <th>5478</th>\n",
       "      <td>Estimated Population (Persons in April)</td>\n",
       "      <td>2021</td>\n",
       "      <td>60 - 64 years</td>\n",
       "      <td>Female</td>\n",
       "      <td>Dublin</td>\n",
       "      <td>Thousand</td>\n",
       "      <td>35.3</td>\n",
       "    </tr>\n",
       "    <tr>\n",
       "      <th>455</th>\n",
       "      <td>Estimated Population (Persons in April)</td>\n",
       "      <td>2011</td>\n",
       "      <td>80 - 84 years</td>\n",
       "      <td>Female</td>\n",
       "      <td>South-West</td>\n",
       "      <td>Thousand</td>\n",
       "      <td>6.4</td>\n",
       "    </tr>\n",
       "    <tr>\n",
       "      <th>2341</th>\n",
       "      <td>Estimated Population (Persons in April)</td>\n",
       "      <td>2015</td>\n",
       "      <td>50 - 54 years</td>\n",
       "      <td>Female</td>\n",
       "      <td>Border</td>\n",
       "      <td>Thousand</td>\n",
       "      <td>12.7</td>\n",
       "    </tr>\n",
       "    <tr>\n",
       "      <th>953</th>\n",
       "      <td>Estimated Population (Persons in April)</td>\n",
       "      <td>2012</td>\n",
       "      <td>80 - 84 years</td>\n",
       "      <td>Both sexes</td>\n",
       "      <td>Midland</td>\n",
       "      <td>Thousand</td>\n",
       "      <td>4.2</td>\n",
       "    </tr>\n",
       "    <tr>\n",
       "      <th>220</th>\n",
       "      <td>Estimated Population (Persons in April)</td>\n",
       "      <td>2011</td>\n",
       "      <td>40 - 44 years</td>\n",
       "      <td>Both sexes</td>\n",
       "      <td>South-East</td>\n",
       "      <td>Thousand</td>\n",
       "      <td>29.9</td>\n",
       "    </tr>\n",
       "    <tr>\n",
       "      <th>3334</th>\n",
       "      <td>Estimated Population (Persons in April)</td>\n",
       "      <td>2017</td>\n",
       "      <td>45 - 49 years</td>\n",
       "      <td>Male</td>\n",
       "      <td>South-East</td>\n",
       "      <td>Thousand</td>\n",
       "      <td>15.1</td>\n",
       "    </tr>\n",
       "  </tbody>\n",
       "</table>\n",
       "</div>"
      ],
      "text/plain": [
       "                              STATISTIC Label  Year      Age Group  \\\n",
       "4933  Estimated Population (Persons in April)  2020  55 - 59 years   \n",
       "3056  Estimated Population (Persons in April)  2016       All ages   \n",
       "5478  Estimated Population (Persons in April)  2021  60 - 64 years   \n",
       "455   Estimated Population (Persons in April)  2011  80 - 84 years   \n",
       "2341  Estimated Population (Persons in April)  2015  50 - 54 years   \n",
       "953   Estimated Population (Persons in April)  2012  80 - 84 years   \n",
       "220   Estimated Population (Persons in April)  2011  40 - 44 years   \n",
       "3334  Estimated Population (Persons in April)  2017  45 - 49 years   \n",
       "\n",
       "             Sex      Region      UNIT  VALUE  \n",
       "4933      Female      Border  Thousand   12.9  \n",
       "3056  Both sexes  South-West  Thousand  685.0  \n",
       "5478      Female      Dublin  Thousand   35.3  \n",
       "455       Female  South-West  Thousand    6.4  \n",
       "2341      Female      Border  Thousand   12.7  \n",
       "953   Both sexes     Midland  Thousand    4.2  \n",
       "220   Both sexes  South-East  Thousand   29.9  \n",
       "3334        Male  South-East  Thousand   15.1  "
      ]
     },
     "execution_count": 4,
     "metadata": {},
     "output_type": "execute_result"
    }
   ],
   "source": [
    "#Creating a DataFrame from file with Estimated Population statistic and displaing random rows\n",
    "df_pop = pd.read_csv(\"PEA04.csv\")\n",
    "df_pop.sample(8)"
   ]
  },
  {
   "cell_type": "code",
   "execution_count": 5,
   "id": "facc5783",
   "metadata": {},
   "outputs": [
    {
     "name": "stdout",
     "output_type": "stream",
     "text": [
      "<class 'pandas.core.frame.DataFrame'>\n",
      "RangeIndex: 6669 entries, 0 to 6668\n",
      "Data columns (total 7 columns):\n",
      " #   Column           Non-Null Count  Dtype  \n",
      "---  ------           --------------  -----  \n",
      " 0   STATISTIC Label  6669 non-null   object \n",
      " 1   Year             6669 non-null   int64  \n",
      " 2   Age Group        6669 non-null   object \n",
      " 3   Sex              6669 non-null   object \n",
      " 4   Region           6669 non-null   object \n",
      " 5   UNIT             6669 non-null   object \n",
      " 6   VALUE            6669 non-null   float64\n",
      "dtypes: float64(1), int64(1), object(5)\n",
      "memory usage: 364.8+ KB\n"
     ]
    }
   ],
   "source": [
    "#Explore information about the DataFrame, i.e. nr of rows, nr of not null values, data types for columns, etc...\n",
    "df_pop.info()"
   ]
  },
  {
   "cell_type": "code",
   "execution_count": 6,
   "id": "00383ff5",
   "metadata": {
    "scrolled": true
   },
   "outputs": [
    {
     "name": "stdout",
     "output_type": "stream",
     "text": [
      "<class 'pandas.core.frame.DataFrame'>\n",
      "Index: 2223 entries, 0 to 6650\n",
      "Data columns (total 7 columns):\n",
      " #   Column           Non-Null Count  Dtype  \n",
      "---  ------           --------------  -----  \n",
      " 0   STATISTIC Label  2223 non-null   object \n",
      " 1   Year             2223 non-null   int64  \n",
      " 2   Age Group        2223 non-null   object \n",
      " 3   Sex              2223 non-null   object \n",
      " 4   Region           2223 non-null   object \n",
      " 5   UNIT             2223 non-null   object \n",
      " 6   VALUE            2223 non-null   float64\n",
      "dtypes: float64(1), int64(1), object(5)\n",
      "memory usage: 138.9+ KB\n"
     ]
    }
   ],
   "source": [
    "#removing rows that reflect data splitted by sex and leaving only data related to both sexes. \n",
    "\n",
    "df_pop = df_pop.drop(df_pop[(df_pop[\"Sex\"] != \"Both sexes\")].index)\n",
    "\n",
    "#Checking and comparing nr of rows\n",
    "\n",
    "df_pop.info()"
   ]
  },
  {
   "cell_type": "code",
   "execution_count": 7,
   "id": "af1c3f27",
   "metadata": {},
   "outputs": [
    {
     "data": {
      "text/plain": [
       "2223.0"
      ]
     },
     "execution_count": 7,
     "metadata": {},
     "output_type": "execute_result"
    }
   ],
   "source": [
    "#it should be 1/3 left and it's corerct\n",
    "6669/3"
   ]
  },
  {
   "cell_type": "code",
   "execution_count": 8,
   "id": "d42ff086",
   "metadata": {},
   "outputs": [
    {
     "data": {
      "text/plain": [
       "array(['Both sexes'], dtype=object)"
      ]
     },
     "execution_count": 8,
     "metadata": {},
     "output_type": "execute_result"
    }
   ],
   "source": [
    "#quick check for left data\n",
    "df_pop[\"Sex\"].unique()"
   ]
  },
  {
   "cell_type": "code",
   "execution_count": 9,
   "id": "59149323",
   "metadata": {},
   "outputs": [],
   "source": [
    "# In column 'Region' replacing value 'State' with 'Ireland' and 'Midland' with 'Midlands'\n",
    "df_pop = df_pop.replace('State', 'Ireland')"
   ]
  },
  {
   "cell_type": "code",
   "execution_count": 10,
   "id": "896a7b89",
   "metadata": {},
   "outputs": [],
   "source": [
    "df_pop = df_pop.replace('Midland', 'Midlands')"
   ]
  },
  {
   "cell_type": "code",
   "execution_count": 11,
   "id": "8a769634",
   "metadata": {},
   "outputs": [],
   "source": [
    "#Renaming last column with values\n",
    "df_pop = df_pop.rename(columns={'VALUE': 'Estimated Population nr'})"
   ]
  },
  {
   "cell_type": "code",
   "execution_count": 12,
   "id": "0451d4f3",
   "metadata": {},
   "outputs": [],
   "source": [
    "#Multipliyng values by 1000\n",
    "df_pop['Estimated Population nr'] = df_pop['Estimated Population nr'].mul(1000)"
   ]
  },
  {
   "cell_type": "code",
   "execution_count": 13,
   "id": "428c7d50",
   "metadata": {},
   "outputs": [],
   "source": [
    "#Now we have 'Number' as a UNIT\n",
    "df_pop = df_pop.replace('Thousand', 'Number')"
   ]
  },
  {
   "cell_type": "code",
   "execution_count": 14,
   "id": "1b352b4a",
   "metadata": {
    "scrolled": true
   },
   "outputs": [
    {
     "data": {
      "text/plain": [
       "array(['Ireland', 'Border', 'West', 'Mid-West', 'South-East',\n",
       "       'South-West', 'Dublin', 'Mid-East', 'Midlands'], dtype=object)"
      ]
     },
     "execution_count": 14,
     "metadata": {},
     "output_type": "execute_result"
    }
   ],
   "source": [
    "#Checking region values\n",
    "df_pop.Region.unique()"
   ]
  },
  {
   "cell_type": "code",
   "execution_count": 15,
   "id": "dc5870c6",
   "metadata": {
    "scrolled": true
   },
   "outputs": [
    {
     "data": {
      "text/html": [
       "<div>\n",
       "<style scoped>\n",
       "    .dataframe tbody tr th:only-of-type {\n",
       "        vertical-align: middle;\n",
       "    }\n",
       "\n",
       "    .dataframe tbody tr th {\n",
       "        vertical-align: top;\n",
       "    }\n",
       "\n",
       "    .dataframe thead th {\n",
       "        text-align: right;\n",
       "    }\n",
       "</style>\n",
       "<table border=\"1\" class=\"dataframe\">\n",
       "  <thead>\n",
       "    <tr style=\"text-align: right;\">\n",
       "      <th></th>\n",
       "      <th>STATISTIC Label</th>\n",
       "      <th>Year</th>\n",
       "      <th>Age Group</th>\n",
       "      <th>Sex</th>\n",
       "      <th>Region</th>\n",
       "      <th>UNIT</th>\n",
       "      <th>Estimated Population nr</th>\n",
       "    </tr>\n",
       "  </thead>\n",
       "  <tbody>\n",
       "    <tr>\n",
       "      <th>1595</th>\n",
       "      <td>Estimated Population (Persons in April)</td>\n",
       "      <td>2014</td>\n",
       "      <td>10 - 14 years</td>\n",
       "      <td>Both sexes</td>\n",
       "      <td>West</td>\n",
       "      <td>Number</td>\n",
       "      <td>29900.0</td>\n",
       "    </tr>\n",
       "    <tr>\n",
       "      <th>6433</th>\n",
       "      <td>Estimated Population (Persons in April)</td>\n",
       "      <td>2023</td>\n",
       "      <td>50 - 54 years</td>\n",
       "      <td>Both sexes</td>\n",
       "      <td>Mid-East</td>\n",
       "      <td>Number</td>\n",
       "      <td>55900.0</td>\n",
       "    </tr>\n",
       "    <tr>\n",
       "      <th>811</th>\n",
       "      <td>Estimated Population (Persons in April)</td>\n",
       "      <td>2012</td>\n",
       "      <td>55 - 59 years</td>\n",
       "      <td>Both sexes</td>\n",
       "      <td>Border</td>\n",
       "      <td>Number</td>\n",
       "      <td>22400.0</td>\n",
       "    </tr>\n",
       "    <tr>\n",
       "      <th>3814</th>\n",
       "      <td>Estimated Population (Persons in April)</td>\n",
       "      <td>2018</td>\n",
       "      <td>40 - 44 years</td>\n",
       "      <td>Both sexes</td>\n",
       "      <td>Mid-East</td>\n",
       "      <td>Number</td>\n",
       "      <td>58200.0</td>\n",
       "    </tr>\n",
       "    <tr>\n",
       "      <th>1865</th>\n",
       "      <td>Estimated Population (Persons in April)</td>\n",
       "      <td>2014</td>\n",
       "      <td>60 - 64 years</td>\n",
       "      <td>Both sexes</td>\n",
       "      <td>West</td>\n",
       "      <td>Number</td>\n",
       "      <td>23800.0</td>\n",
       "    </tr>\n",
       "    <tr>\n",
       "      <th>4025</th>\n",
       "      <td>Estimated Population (Persons in April)</td>\n",
       "      <td>2018</td>\n",
       "      <td>80 - 84 years</td>\n",
       "      <td>Both sexes</td>\n",
       "      <td>West</td>\n",
       "      <td>Number</td>\n",
       "      <td>9100.0</td>\n",
       "    </tr>\n",
       "    <tr>\n",
       "      <th>5488</th>\n",
       "      <td>Estimated Population (Persons in April)</td>\n",
       "      <td>2021</td>\n",
       "      <td>65 - 69 years</td>\n",
       "      <td>Both sexes</td>\n",
       "      <td>Mid-East</td>\n",
       "      <td>Number</td>\n",
       "      <td>31600.0</td>\n",
       "    </tr>\n",
       "    <tr>\n",
       "      <th>2840</th>\n",
       "      <td>Estimated Population (Persons in April)</td>\n",
       "      <td>2016</td>\n",
       "      <td>50 - 54 years</td>\n",
       "      <td>Both sexes</td>\n",
       "      <td>South-West</td>\n",
       "      <td>Number</td>\n",
       "      <td>44800.0</td>\n",
       "    </tr>\n",
       "  </tbody>\n",
       "</table>\n",
       "</div>"
      ],
      "text/plain": [
       "                              STATISTIC Label  Year      Age Group  \\\n",
       "1595  Estimated Population (Persons in April)  2014  10 - 14 years   \n",
       "6433  Estimated Population (Persons in April)  2023  50 - 54 years   \n",
       "811   Estimated Population (Persons in April)  2012  55 - 59 years   \n",
       "3814  Estimated Population (Persons in April)  2018  40 - 44 years   \n",
       "1865  Estimated Population (Persons in April)  2014  60 - 64 years   \n",
       "4025  Estimated Population (Persons in April)  2018  80 - 84 years   \n",
       "5488  Estimated Population (Persons in April)  2021  65 - 69 years   \n",
       "2840  Estimated Population (Persons in April)  2016  50 - 54 years   \n",
       "\n",
       "             Sex      Region    UNIT  Estimated Population nr  \n",
       "1595  Both sexes        West  Number                  29900.0  \n",
       "6433  Both sexes    Mid-East  Number                  55900.0  \n",
       "811   Both sexes      Border  Number                  22400.0  \n",
       "3814  Both sexes    Mid-East  Number                  58200.0  \n",
       "1865  Both sexes        West  Number                  23800.0  \n",
       "4025  Both sexes        West  Number                   9100.0  \n",
       "5488  Both sexes    Mid-East  Number                  31600.0  \n",
       "2840  Both sexes  South-West  Number                  44800.0  "
      ]
     },
     "execution_count": 15,
     "metadata": {},
     "output_type": "execute_result"
    }
   ],
   "source": [
    "#last final check \n",
    "df_pop.sample(8)"
   ]
  },
  {
   "cell_type": "code",
   "execution_count": 16,
   "id": "0d533525",
   "metadata": {},
   "outputs": [],
   "source": [
    "#Export DataFrame to a csv File\n",
    "df_pop.to_csv(\"PEA04_c.csv\", index = False)"
   ]
  },
  {
   "cell_type": "markdown",
   "id": "e73a6041",
   "metadata": {},
   "source": [
    "**Now we have file ready to use**"
   ]
  }
 ],
 "metadata": {
  "kernelspec": {
   "display_name": "Python 3 (ipykernel)",
   "language": "python",
   "name": "python3"
  },
  "language_info": {
   "codemirror_mode": {
    "name": "ipython",
    "version": 3
   },
   "file_extension": ".py",
   "mimetype": "text/x-python",
   "name": "python",
   "nbconvert_exporter": "python",
   "pygments_lexer": "ipython3",
   "version": "3.11.4"
  }
 },
 "nbformat": 4,
 "nbformat_minor": 5
}
