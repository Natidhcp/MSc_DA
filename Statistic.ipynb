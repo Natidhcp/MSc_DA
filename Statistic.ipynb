{
 "cells": [
  {
   "cell_type": "code",
   "execution_count": 47,
   "id": "be8b89e5",
   "metadata": {},
   "outputs": [],
   "source": [
    "##IMPORTING LIBRARIES\n",
    "import pandas as pd\n",
    "import statistics as stats\n",
    "import numpy as np\n",
    "import matplotlib.pyplot as plt\n",
    "import seaborn as sns"
   ]
  },
  {
   "cell_type": "markdown",
   "id": "3a73f798",
   "metadata": {},
   "source": [
    "# Working with clean data for Estimated Population "
   ]
  },
  {
   "cell_type": "code",
   "execution_count": 58,
   "id": "09eacd38",
   "metadata": {},
   "outputs": [
    {
     "data": {
      "text/html": [
       "<div>\n",
       "<style scoped>\n",
       "    .dataframe tbody tr th:only-of-type {\n",
       "        vertical-align: middle;\n",
       "    }\n",
       "\n",
       "    .dataframe tbody tr th {\n",
       "        vertical-align: top;\n",
       "    }\n",
       "\n",
       "    .dataframe thead th {\n",
       "        text-align: right;\n",
       "    }\n",
       "</style>\n",
       "<table border=\"1\" class=\"dataframe\">\n",
       "  <thead>\n",
       "    <tr style=\"text-align: right;\">\n",
       "      <th></th>\n",
       "      <th>STATISTIC Label</th>\n",
       "      <th>Year</th>\n",
       "      <th>AgeGroup</th>\n",
       "      <th>Sex</th>\n",
       "      <th>Region</th>\n",
       "      <th>UNIT</th>\n",
       "      <th>VALUE</th>\n",
       "    </tr>\n",
       "  </thead>\n",
       "  <tbody>\n",
       "    <tr>\n",
       "      <th>0</th>\n",
       "      <td>Estimated Population (Persons in April)</td>\n",
       "      <td>2011</td>\n",
       "      <td>16 - 29 years</td>\n",
       "      <td>Both sexes</td>\n",
       "      <td>State</td>\n",
       "      <td>Thousand</td>\n",
       "      <td>281.0</td>\n",
       "    </tr>\n",
       "    <tr>\n",
       "      <th>1</th>\n",
       "      <td>Estimated Population (Persons in April)</td>\n",
       "      <td>2011</td>\n",
       "      <td>16 - 29 years</td>\n",
       "      <td>Both sexes</td>\n",
       "      <td>Border</td>\n",
       "      <td>Thousand</td>\n",
       "      <td>25.9</td>\n",
       "    </tr>\n",
       "    <tr>\n",
       "      <th>2</th>\n",
       "      <td>Estimated Population (Persons in April)</td>\n",
       "      <td>2011</td>\n",
       "      <td>16 - 29 years</td>\n",
       "      <td>Both sexes</td>\n",
       "      <td>West</td>\n",
       "      <td>Thousand</td>\n",
       "      <td>27.9</td>\n",
       "    </tr>\n",
       "    <tr>\n",
       "      <th>3</th>\n",
       "      <td>Estimated Population (Persons in April)</td>\n",
       "      <td>2011</td>\n",
       "      <td>16 - 29 years</td>\n",
       "      <td>Both sexes</td>\n",
       "      <td>Mid-West</td>\n",
       "      <td>Thousand</td>\n",
       "      <td>29.9</td>\n",
       "    </tr>\n",
       "    <tr>\n",
       "      <th>4</th>\n",
       "      <td>Estimated Population (Persons in April)</td>\n",
       "      <td>2011</td>\n",
       "      <td>16 - 29 years</td>\n",
       "      <td>Both sexes</td>\n",
       "      <td>South-East</td>\n",
       "      <td>Thousand</td>\n",
       "      <td>25.9</td>\n",
       "    </tr>\n",
       "    <tr>\n",
       "      <th>5</th>\n",
       "      <td>Estimated Population (Persons in April)</td>\n",
       "      <td>2011</td>\n",
       "      <td>16 - 29 years</td>\n",
       "      <td>Both sexes</td>\n",
       "      <td>South-West</td>\n",
       "      <td>Thousand</td>\n",
       "      <td>40.8</td>\n",
       "    </tr>\n",
       "    <tr>\n",
       "      <th>6</th>\n",
       "      <td>Estimated Population (Persons in April)</td>\n",
       "      <td>2011</td>\n",
       "      <td>16 - 29 years</td>\n",
       "      <td>Both sexes</td>\n",
       "      <td>Dublin</td>\n",
       "      <td>Thousand</td>\n",
       "      <td>72.0</td>\n",
       "    </tr>\n",
       "    <tr>\n",
       "      <th>7</th>\n",
       "      <td>Estimated Population (Persons in April)</td>\n",
       "      <td>2011</td>\n",
       "      <td>16 - 29 years</td>\n",
       "      <td>Both sexes</td>\n",
       "      <td>Mid-East</td>\n",
       "      <td>Thousand</td>\n",
       "      <td>40.7</td>\n",
       "    </tr>\n",
       "  </tbody>\n",
       "</table>\n",
       "</div>"
      ],
      "text/plain": [
       "                           STATISTIC Label  Year       AgeGroup         Sex  \\\n",
       "0  Estimated Population (Persons in April)  2011  16 - 29 years  Both sexes   \n",
       "1  Estimated Population (Persons in April)  2011  16 - 29 years  Both sexes   \n",
       "2  Estimated Population (Persons in April)  2011  16 - 29 years  Both sexes   \n",
       "3  Estimated Population (Persons in April)  2011  16 - 29 years  Both sexes   \n",
       "4  Estimated Population (Persons in April)  2011  16 - 29 years  Both sexes   \n",
       "5  Estimated Population (Persons in April)  2011  16 - 29 years  Both sexes   \n",
       "6  Estimated Population (Persons in April)  2011  16 - 29 years  Both sexes   \n",
       "7  Estimated Population (Persons in April)  2011  16 - 29 years  Both sexes   \n",
       "\n",
       "       Region      UNIT  VALUE  \n",
       "0       State  Thousand  281.0  \n",
       "1      Border  Thousand   25.9  \n",
       "2        West  Thousand   27.9  \n",
       "3    Mid-West  Thousand   29.9  \n",
       "4  South-East  Thousand   25.9  \n",
       "5  South-West  Thousand   40.8  \n",
       "6      Dublin  Thousand   72.0  \n",
       "7    Mid-East  Thousand   40.7  "
      ]
     },
     "execution_count": 58,
     "metadata": {},
     "output_type": "execute_result"
    }
   ],
   "source": [
    "df_pop = pd.read_csv(\"e_population_cleared.csv\")\n",
    "df_pop.head(8)"
   ]
  },
  {
   "cell_type": "code",
   "execution_count": 24,
   "id": "9d224628",
   "metadata": {},
   "outputs": [
    {
     "data": {
      "text/plain": [
       "Year  AgeGroup         \n",
       "2011  16 - 29 years        1885.3\n",
       "      30 - 44 years        2171.6\n",
       "      45 - 59 years        1642.5\n",
       "      60 - 74 years        1038.6\n",
       "      75 years and over     256.0\n",
       "Name: VALUE, dtype: float64"
      ]
     },
     "execution_count": 24,
     "metadata": {},
     "output_type": "execute_result"
    }
   ],
   "source": [
    "grouped_df = df_pop.groupby([\"Year\", \"AgeGroup\"])\n",
    "pop_grouped = grouped_df[\"VALUE\"].sum()\n",
    "pop_grouped.head()"
   ]
  },
  {
   "cell_type": "code",
   "execution_count": 32,
   "id": "c82c755c",
   "metadata": {},
   "outputs": [
    {
     "data": {
      "text/plain": [
       "Year\n",
       "2011    6994.0\n",
       "2012    7003.0\n",
       "2013    7029.1\n",
       "2014    7078.0\n",
       "2015    7147.8\n",
       "2016    7240.4\n",
       "2017    7366.2\n",
       "2018    7496.2\n",
       "2019    7625.5\n",
       "2020    7755.9\n",
       "2021    7839.5\n",
       "2022    8028.9\n",
       "2023    8215.6\n",
       "Name: VALUE, dtype: float64"
      ]
     },
     "execution_count": 32,
     "metadata": {},
     "output_type": "execute_result"
    }
   ],
   "source": [
    "pop_grouped = df_pop.groupby(\"Year\")[\"VALUE\"].sum()\n",
    "pop_grouped"
   ]
  },
  {
   "cell_type": "code",
   "execution_count": 46,
   "id": "300d681f",
   "metadata": {},
   "outputs": [
    {
     "data": {
      "image/png": "[encoded data removed]",
      "text/plain": [
       "<Figure size 1000x400 with 1 Axes>"
      ]
     },
     "metadata": {},
     "output_type": "display_data"
    }
   ],
   "source": [
    "# Create a bar plot of the sum of population for each year\n",
    "plt.figure(figsize=(10, 4))\n",
    "sns.barplot(x=pop_grouped.index, y=pop_grouped.values, color=\"#5ec0e0\")\n",
    "plt.xlabel(\"Year\")\n",
    "plt.ylabel(\"Total nr of people\")\n",
    "plt.title(\"Estimated Population for each year\")\n",
    "plt.show()"
   ]
  },
  {
   "cell_type": "markdown",
   "id": "877b9215",
   "metadata": {},
   "source": [
    "# Working with clean data for Internet connection types per region"
   ]
  },
  {
   "cell_type": "code",
   "execution_count": null,
   "id": "a9205379",
   "metadata": {},
   "outputs": [],
   "source": []
  }
 ],
 "metadata": {
  "kernelspec": {
   "display_name": "Python 3 (ipykernel)",
   "language": "python",
   "name": "python3"
  },
  "language_info": {
   "codemirror_mode": {
    "name": "ipython",
    "version": 3
   },
   "file_extension": ".py",
   "mimetype": "text/x-python",
   "name": "python",
   "nbconvert_exporter": "python",
   "pygments_lexer": "ipython3",
   "version": "3.11.4"
  }
 },
 "nbformat": 4,
 "nbformat_minor": 5
}
