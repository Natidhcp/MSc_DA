{
 "cells": [
  {
   "cell_type": "markdown",
   "id": "f235ef94",
   "metadata": {},
   "source": [
    "### In this notebook I will combine the data from 2011, 2016 and 2022 files in 1 dataset and exported to SAP_c.csv\n",
    "### The auxiliary data with number of private households and number of people will be prepared and exported to FY004B_c\n",
    "\n",
    "**Next modifications will be applied to the SAP files:**\n",
    "* In order to unify counties in the files SAP2011 and SAP2016, following steps will be applied:\n",
    "  1. removing all excessive words as \"City\", \"County\", \"City and County\" and spaces (if needed)\n",
    "  2. new column \"Region\" will be created and each row will have appropriate according value.\n",
    "      * auxiliary file with region's classifications will be used\n",
    "  3. Values from \"County\" column will be replaced with values from \"Region\" column.\n",
    "  4. Column \"Region\" will be removed\n",
    "  5. Column \"County\" will be renamed in \"Region\"\n",
    "* in the SAP2016 columns 'County' and 'Internet' are in different order. This will be changed in rder to have same column order in all files.\n",
    "* Column 'VALUE' will be renamed in 'Households with Internet access', in order to be used as a defined column in the final DataFrame\n",
    "* Column 'Internet' contain 'Total' value, that will create a duplication in the numbers in case of any aggregation, so all rows with 'Total' value need to be removed.\n",
    "* In the SAP2022 Column 'NUTS 3 Region' will be renamed in \"Region\" in order to have unified name with other data frames\n",
    "* FY004B file will be modified as follow:\n",
    "    1. Counties unification\n",
    "    2. Creation of 2 additional columns with values for nr of private households and nr of the people in the households\n",
    "\n",
    "\n",
    "**Note:** Please check \"Data overview\" Jupiter Notebook for reference"
   ]
  },
  {
   "cell_type": "code",
   "execution_count": 48,
   "id": "389e9cbf",
   "metadata": {},
   "outputs": [],
   "source": [
    "##IMPORTING LIBRARIES\n",
    "import pandas as pd\n",
    "import statistics as stats\n",
    "import numpy as np\n",
    "import matplotlib.pyplot as plt\n",
    "import seaborn as sns"
   ]
  },
  {
   "cell_type": "code",
   "execution_count": 132,
   "id": "f1d98791",
   "metadata": {},
   "outputs": [],
   "source": [
    "# Suppress the warnings\n",
    "import warnings\n",
    "warnings.filterwarnings('ignore')"
   ]
  },
  {
   "cell_type": "markdown",
   "id": "0726b648",
   "metadata": {},
   "source": [
    "# EDA will be structured as:<br>\n",
    "####     &nbsp;1. Handling data for auxiliary file with Regions classification<br>\n",
    "####     &nbsp;2. Handling data for file with Internet Types data from 2011 year<br>\n",
    "####     &nbsp;3. Handling data for file with  Internet Types data from 2016 year<br>\n",
    "####     &nbsp;4. Handling data for file with  Internet Types data from 2022 year<br>\n",
    "####     &nbsp;5. Creating 1 DataFrame and exporting it in the csv file<br>\n",
    "####     &nbsp;6. Modification of FY004B file<br>"
   ]
  },
  {
   "cell_type": "markdown",
   "id": "1c43fc0d",
   "metadata": {},
   "source": [
    "# 1. Handling data for file with Regions classification"
   ]
  },
  {
   "cell_type": "code",
   "execution_count": 133,
   "id": "ba278781",
   "metadata": {
    "scrolled": false
   },
   "outputs": [
    {
     "data": {
      "text/html": [
       "<div>\n",
       "<style scoped>\n",
       "    .dataframe tbody tr th:only-of-type {\n",
       "        vertical-align: middle;\n",
       "    }\n",
       "\n",
       "    .dataframe tbody tr th {\n",
       "        vertical-align: top;\n",
       "    }\n",
       "\n",
       "    .dataframe thead th {\n",
       "        text-align: right;\n",
       "    }\n",
       "</style>\n",
       "<table border=\"1\" class=\"dataframe\">\n",
       "  <thead>\n",
       "    <tr style=\"text-align: right;\">\n",
       "      <th></th>\n",
       "      <th>Name of region</th>\n",
       "      <th>Constituent counties</th>\n",
       "      <th>Type of area</th>\n",
       "    </tr>\n",
       "  </thead>\n",
       "  <tbody>\n",
       "    <tr>\n",
       "      <th>0</th>\n",
       "      <td>Border</td>\n",
       "      <td>Cavan</td>\n",
       "      <td>Administrative county</td>\n",
       "    </tr>\n",
       "    <tr>\n",
       "      <th>1</th>\n",
       "      <td>NaN</td>\n",
       "      <td>Donegal</td>\n",
       "      <td>Administrative county</td>\n",
       "    </tr>\n",
       "    <tr>\n",
       "      <th>2</th>\n",
       "      <td>NaN</td>\n",
       "      <td>Leitrim</td>\n",
       "      <td>Administrative county</td>\n",
       "    </tr>\n",
       "    <tr>\n",
       "      <th>3</th>\n",
       "      <td>NaN</td>\n",
       "      <td>Louth</td>\n",
       "      <td>Administrative county</td>\n",
       "    </tr>\n",
       "    <tr>\n",
       "      <th>4</th>\n",
       "      <td>NaN</td>\n",
       "      <td>Monaghan</td>\n",
       "      <td>Administrative county</td>\n",
       "    </tr>\n",
       "    <tr>\n",
       "      <th>5</th>\n",
       "      <td>NaN</td>\n",
       "      <td>Sligo</td>\n",
       "      <td>Administrative county</td>\n",
       "    </tr>\n",
       "    <tr>\n",
       "      <th>6</th>\n",
       "      <td>NaN</td>\n",
       "      <td>NaN</td>\n",
       "      <td>NaN</td>\n",
       "    </tr>\n",
       "    <tr>\n",
       "      <th>7</th>\n",
       "      <td>Dublin</td>\n",
       "      <td>Dublin</td>\n",
       "      <td>City</td>\n",
       "    </tr>\n",
       "    <tr>\n",
       "      <th>8</th>\n",
       "      <td>NaN</td>\n",
       "      <td>Dún Laoghaire-Rathdown</td>\n",
       "      <td>Administrative county</td>\n",
       "    </tr>\n",
       "    <tr>\n",
       "      <th>9</th>\n",
       "      <td>NaN</td>\n",
       "      <td>Fingal</td>\n",
       "      <td>Administrative county</td>\n",
       "    </tr>\n",
       "    <tr>\n",
       "      <th>10</th>\n",
       "      <td>NaN</td>\n",
       "      <td>South Dublin</td>\n",
       "      <td>Administrative county</td>\n",
       "    </tr>\n",
       "    <tr>\n",
       "      <th>11</th>\n",
       "      <td>NaN</td>\n",
       "      <td>NaN</td>\n",
       "      <td>NaN</td>\n",
       "    </tr>\n",
       "    <tr>\n",
       "      <th>12</th>\n",
       "      <td>Mid-East</td>\n",
       "      <td>Kildare</td>\n",
       "      <td>Administrative county</td>\n",
       "    </tr>\n",
       "    <tr>\n",
       "      <th>13</th>\n",
       "      <td>NaN</td>\n",
       "      <td>Meath</td>\n",
       "      <td>Administrative county</td>\n",
       "    </tr>\n",
       "    <tr>\n",
       "      <th>14</th>\n",
       "      <td>NaN</td>\n",
       "      <td>Wicklow</td>\n",
       "      <td>Administrative county</td>\n",
       "    </tr>\n",
       "    <tr>\n",
       "      <th>15</th>\n",
       "      <td>NaN</td>\n",
       "      <td>NaN</td>\n",
       "      <td>NaN</td>\n",
       "    </tr>\n",
       "    <tr>\n",
       "      <th>16</th>\n",
       "      <td>Midlands</td>\n",
       "      <td>Laois</td>\n",
       "      <td>Administrative county</td>\n",
       "    </tr>\n",
       "    <tr>\n",
       "      <th>17</th>\n",
       "      <td>NaN</td>\n",
       "      <td>Longford</td>\n",
       "      <td>Administrative county</td>\n",
       "    </tr>\n",
       "    <tr>\n",
       "      <th>18</th>\n",
       "      <td>NaN</td>\n",
       "      <td>Offaly</td>\n",
       "      <td>Administrative county</td>\n",
       "    </tr>\n",
       "    <tr>\n",
       "      <th>19</th>\n",
       "      <td>NaN</td>\n",
       "      <td>Westmeath</td>\n",
       "      <td>Administrative county</td>\n",
       "    </tr>\n",
       "    <tr>\n",
       "      <th>20</th>\n",
       "      <td>NaN</td>\n",
       "      <td>NaN</td>\n",
       "      <td>NaN</td>\n",
       "    </tr>\n",
       "    <tr>\n",
       "      <th>21</th>\n",
       "      <td>Mid-West</td>\n",
       "      <td>Clare</td>\n",
       "      <td>Administrative county</td>\n",
       "    </tr>\n",
       "    <tr>\n",
       "      <th>22</th>\n",
       "      <td>NaN</td>\n",
       "      <td>Limerick</td>\n",
       "      <td>City</td>\n",
       "    </tr>\n",
       "    <tr>\n",
       "      <th>23</th>\n",
       "      <td>NaN</td>\n",
       "      <td>Limerick</td>\n",
       "      <td>Administrative county</td>\n",
       "    </tr>\n",
       "    <tr>\n",
       "      <th>24</th>\n",
       "      <td>NaN</td>\n",
       "      <td>North Tipperary</td>\n",
       "      <td>Administrative county</td>\n",
       "    </tr>\n",
       "    <tr>\n",
       "      <th>25</th>\n",
       "      <td>NaN</td>\n",
       "      <td>Tipperary</td>\n",
       "      <td>Administrative county</td>\n",
       "    </tr>\n",
       "    <tr>\n",
       "      <th>26</th>\n",
       "      <td>NaN</td>\n",
       "      <td>NaN</td>\n",
       "      <td>NaN</td>\n",
       "    </tr>\n",
       "    <tr>\n",
       "      <th>27</th>\n",
       "      <td>South-East</td>\n",
       "      <td>Carlow</td>\n",
       "      <td>Administrative county</td>\n",
       "    </tr>\n",
       "    <tr>\n",
       "      <th>28</th>\n",
       "      <td>NaN</td>\n",
       "      <td>Kilkenny</td>\n",
       "      <td>Administrative county</td>\n",
       "    </tr>\n",
       "    <tr>\n",
       "      <th>29</th>\n",
       "      <td>NaN</td>\n",
       "      <td>South Tipperary</td>\n",
       "      <td>Administrative county</td>\n",
       "    </tr>\n",
       "    <tr>\n",
       "      <th>30</th>\n",
       "      <td>NaN</td>\n",
       "      <td>Waterford</td>\n",
       "      <td>City</td>\n",
       "    </tr>\n",
       "    <tr>\n",
       "      <th>31</th>\n",
       "      <td>NaN</td>\n",
       "      <td>Waterford</td>\n",
       "      <td>Administrative county</td>\n",
       "    </tr>\n",
       "    <tr>\n",
       "      <th>32</th>\n",
       "      <td>NaN</td>\n",
       "      <td>Wexford</td>\n",
       "      <td>Administrative county</td>\n",
       "    </tr>\n",
       "    <tr>\n",
       "      <th>33</th>\n",
       "      <td>NaN</td>\n",
       "      <td>NaN</td>\n",
       "      <td>NaN</td>\n",
       "    </tr>\n",
       "    <tr>\n",
       "      <th>34</th>\n",
       "      <td>South-West</td>\n",
       "      <td>Cork</td>\n",
       "      <td>City</td>\n",
       "    </tr>\n",
       "    <tr>\n",
       "      <th>35</th>\n",
       "      <td>NaN</td>\n",
       "      <td>Cork</td>\n",
       "      <td>Administrative county</td>\n",
       "    </tr>\n",
       "    <tr>\n",
       "      <th>36</th>\n",
       "      <td>NaN</td>\n",
       "      <td>Kerry</td>\n",
       "      <td>Administrative county</td>\n",
       "    </tr>\n",
       "    <tr>\n",
       "      <th>37</th>\n",
       "      <td>NaN</td>\n",
       "      <td>NaN</td>\n",
       "      <td>NaN</td>\n",
       "    </tr>\n",
       "    <tr>\n",
       "      <th>38</th>\n",
       "      <td>West</td>\n",
       "      <td>Galway</td>\n",
       "      <td>City</td>\n",
       "    </tr>\n",
       "    <tr>\n",
       "      <th>39</th>\n",
       "      <td>NaN</td>\n",
       "      <td>Galway</td>\n",
       "      <td>Administrative county</td>\n",
       "    </tr>\n",
       "    <tr>\n",
       "      <th>40</th>\n",
       "      <td>NaN</td>\n",
       "      <td>Mayo</td>\n",
       "      <td>Administrative county</td>\n",
       "    </tr>\n",
       "    <tr>\n",
       "      <th>41</th>\n",
       "      <td>NaN</td>\n",
       "      <td>Roscommon</td>\n",
       "      <td>Administrative county</td>\n",
       "    </tr>\n",
       "  </tbody>\n",
       "</table>\n",
       "</div>"
      ],
      "text/plain": [
       "   Name of region     Constituent counties           Type of area\n",
       "0           Border                   Cavan  Administrative county\n",
       "1              NaN                 Donegal  Administrative county\n",
       "2              NaN                 Leitrim  Administrative county\n",
       "3              NaN                   Louth  Administrative county\n",
       "4              NaN                Monaghan  Administrative county\n",
       "5              NaN                   Sligo  Administrative county\n",
       "6              NaN                     NaN                    NaN\n",
       "7           Dublin                  Dublin                   City\n",
       "8              NaN  Dún Laoghaire-Rathdown  Administrative county\n",
       "9              NaN                  Fingal  Administrative county\n",
       "10             NaN            South Dublin  Administrative county\n",
       "11             NaN                     NaN                    NaN\n",
       "12        Mid-East                 Kildare  Administrative county\n",
       "13             NaN                   Meath  Administrative county\n",
       "14             NaN                 Wicklow  Administrative county\n",
       "15             NaN                     NaN                    NaN\n",
       "16        Midlands                   Laois  Administrative county\n",
       "17             NaN                Longford  Administrative county\n",
       "18             NaN                  Offaly  Administrative county\n",
       "19             NaN               Westmeath  Administrative county\n",
       "20             NaN                     NaN                    NaN\n",
       "21        Mid-West                   Clare  Administrative county\n",
       "22             NaN                Limerick                   City\n",
       "23             NaN                Limerick  Administrative county\n",
       "24             NaN        North Tipperary   Administrative county\n",
       "25             NaN               Tipperary  Administrative county\n",
       "26             NaN                     NaN                    NaN\n",
       "27      South-East                  Carlow  Administrative county\n",
       "28             NaN                Kilkenny  Administrative county\n",
       "29             NaN        South Tipperary   Administrative county\n",
       "30             NaN               Waterford                   City\n",
       "31             NaN               Waterford  Administrative county\n",
       "32             NaN                 Wexford  Administrative county\n",
       "33             NaN                     NaN                    NaN\n",
       "34      South-West                    Cork                   City\n",
       "35             NaN                    Cork  Administrative county\n",
       "36             NaN                   Kerry  Administrative county\n",
       "37             NaN                     NaN                    NaN\n",
       "38            West                  Galway                   City\n",
       "39             NaN                  Galway  Administrative county\n",
       "40             NaN                    Mayo  Administrative county\n",
       "41             NaN               Roscommon  Administrative county"
      ]
     },
     "execution_count": 133,
     "metadata": {},
     "output_type": "execute_result"
    }
   ],
   "source": [
    "#Creating DataFrame with Regions classification\n",
    "\n",
    "df_reg = pd.read_csv(\"Regions.csv\")\n",
    "df_reg"
   ]
  },
  {
   "cell_type": "markdown",
   "id": "92102b18",
   "metadata": {},
   "source": [
    "#### Observing that there are NA values in the column with Regions names and empty row after each set of counties"
   ]
  },
  {
   "cell_type": "code",
   "execution_count": 134,
   "id": "bd600bea",
   "metadata": {},
   "outputs": [
    {
     "data": {
      "text/html": [
       "<div>\n",
       "<style scoped>\n",
       "    .dataframe tbody tr th:only-of-type {\n",
       "        vertical-align: middle;\n",
       "    }\n",
       "\n",
       "    .dataframe tbody tr th {\n",
       "        vertical-align: top;\n",
       "    }\n",
       "\n",
       "    .dataframe thead th {\n",
       "        text-align: right;\n",
       "    }\n",
       "</style>\n",
       "<table border=\"1\" class=\"dataframe\">\n",
       "  <thead>\n",
       "    <tr style=\"text-align: right;\">\n",
       "      <th></th>\n",
       "      <th>Name of region</th>\n",
       "      <th>Constituent counties</th>\n",
       "      <th>Type of area</th>\n",
       "    </tr>\n",
       "  </thead>\n",
       "  <tbody>\n",
       "    <tr>\n",
       "      <th>28</th>\n",
       "      <td>South-East</td>\n",
       "      <td>Kilkenny</td>\n",
       "      <td>Administrative county</td>\n",
       "    </tr>\n",
       "    <tr>\n",
       "      <th>16</th>\n",
       "      <td>Midlands</td>\n",
       "      <td>Laois</td>\n",
       "      <td>Administrative county</td>\n",
       "    </tr>\n",
       "    <tr>\n",
       "      <th>36</th>\n",
       "      <td>South-West</td>\n",
       "      <td>Kerry</td>\n",
       "      <td>Administrative county</td>\n",
       "    </tr>\n",
       "    <tr>\n",
       "      <th>2</th>\n",
       "      <td>Border</td>\n",
       "      <td>Leitrim</td>\n",
       "      <td>Administrative county</td>\n",
       "    </tr>\n",
       "    <tr>\n",
       "      <th>40</th>\n",
       "      <td>West</td>\n",
       "      <td>Mayo</td>\n",
       "      <td>Administrative county</td>\n",
       "    </tr>\n",
       "    <tr>\n",
       "      <th>24</th>\n",
       "      <td>Mid-West</td>\n",
       "      <td>North Tipperary</td>\n",
       "      <td>Administrative county</td>\n",
       "    </tr>\n",
       "    <tr>\n",
       "      <th>7</th>\n",
       "      <td>Dublin</td>\n",
       "      <td>Dublin</td>\n",
       "      <td>City</td>\n",
       "    </tr>\n",
       "    <tr>\n",
       "      <th>34</th>\n",
       "      <td>South-West</td>\n",
       "      <td>Cork</td>\n",
       "      <td>City</td>\n",
       "    </tr>\n",
       "  </tbody>\n",
       "</table>\n",
       "</div>"
      ],
      "text/plain": [
       "   Name of region  Constituent counties           Type of area\n",
       "28      South-East             Kilkenny  Administrative county\n",
       "16        Midlands                Laois  Administrative county\n",
       "36      South-West                Kerry  Administrative county\n",
       "2           Border              Leitrim  Administrative county\n",
       "40            West                 Mayo  Administrative county\n",
       "24        Mid-West     North Tipperary   Administrative county\n",
       "7           Dublin               Dublin                   City\n",
       "34      South-West                 Cork                   City"
      ]
     },
     "execution_count": 134,
     "metadata": {},
     "output_type": "execute_result"
    }
   ],
   "source": [
    "#Using 'ffill' method in the column with Regions to fill NAs with the last valid value \n",
    "df_reg[\"Name of region \"] = df_reg[\"Name of region \"].fillna(method='ffill')\n",
    "df_reg.sample(8)"
   ]
  },
  {
   "cell_type": "code",
   "execution_count": 135,
   "id": "7985560f",
   "metadata": {
    "scrolled": true
   },
   "outputs": [
    {
     "name": "stdout",
     "output_type": "stream",
     "text": [
      "<class 'pandas.core.frame.DataFrame'>\n",
      "RangeIndex: 42 entries, 0 to 41\n",
      "Data columns (total 3 columns):\n",
      " #   Column                Non-Null Count  Dtype \n",
      "---  ------                --------------  ----- \n",
      " 0   Name of region        42 non-null     object\n",
      " 1   Constituent counties  35 non-null     object\n",
      " 2    Type of area         35 non-null     object\n",
      "dtypes: object(3)\n",
      "memory usage: 1.1+ KB\n"
     ]
    }
   ],
   "source": [
    "#checking nr of rows with NA values\n",
    "df_reg.info()"
   ]
  },
  {
   "cell_type": "code",
   "execution_count": 136,
   "id": "6402f294",
   "metadata": {
    "scrolled": true
   },
   "outputs": [
    {
     "name": "stdout",
     "output_type": "stream",
     "text": [
      "<class 'pandas.core.frame.DataFrame'>\n",
      "Index: 35 entries, 0 to 41\n",
      "Data columns (total 3 columns):\n",
      " #   Column                Non-Null Count  Dtype \n",
      "---  ------                --------------  ----- \n",
      " 0   Name of region        35 non-null     object\n",
      " 1   Constituent counties  35 non-null     object\n",
      " 2    Type of area         35 non-null     object\n",
      "dtypes: object(3)\n",
      "memory usage: 1.1+ KB\n"
     ]
    }
   ],
   "source": [
    "#Removing rows with NAs and making sure that there no null values left\n",
    "df_reg = df_reg.dropna()\n",
    "df_reg.info()"
   ]
  },
  {
   "cell_type": "code",
   "execution_count": 137,
   "id": "212e5804",
   "metadata": {
    "scrolled": true
   },
   "outputs": [
    {
     "data": {
      "text/plain": [
       "array(['Cavan', 'Donegal', 'Leitrim', 'Louth', 'Monaghan', 'Sligo',\n",
       "       'Dublin', 'Dún Laoghaire-Rathdown', 'Fingal', 'South Dublin',\n",
       "       'Kildare', 'Meath', 'Wicklow', 'Laois', 'Longford', 'Offaly',\n",
       "       'Westmeath', 'Clare', 'Limerick', 'North Tipperary ', 'Tipperary',\n",
       "       'Carlow', 'Kilkenny', 'South Tipperary ', 'Waterford', 'Wexford',\n",
       "       'Cork', 'Kerry', 'Galway', 'Mayo', 'Roscommon'], dtype=object)"
      ]
     },
     "execution_count": 137,
     "metadata": {},
     "output_type": "execute_result"
    }
   ],
   "source": [
    "#Cheking list of counties\n",
    "df_reg[\"Constituent counties\"].unique()"
   ]
  },
  {
   "cell_type": "code",
   "execution_count": 138,
   "id": "32fbee38",
   "metadata": {},
   "outputs": [],
   "source": [
    "# North Tiperrary and South Tiperrary contain additional space at the end, just remove it\n",
    "df_reg[\"Constituent counties\"] = df_reg[\"Constituent counties\"].str.replace(f'Tipperary ', 'Tipperary')"
   ]
  },
  {
   "cell_type": "code",
   "execution_count": 139,
   "id": "de7d96f5",
   "metadata": {},
   "outputs": [
    {
     "data": {
      "text/plain": [
       "array(['Cavan', 'Donegal', 'Leitrim', 'Louth', 'Monaghan', 'Sligo',\n",
       "       'Dublin', 'Dún Laoghaire-Rathdown', 'Fingal', 'South Dublin',\n",
       "       'Kildare', 'Meath', 'Wicklow', 'Laois', 'Longford', 'Offaly',\n",
       "       'Westmeath', 'Clare', 'Limerick', 'North Tipperary', 'Tipperary',\n",
       "       'Carlow', 'Kilkenny', 'South Tipperary', 'Waterford', 'Wexford',\n",
       "       'Cork', 'Kerry', 'Galway', 'Mayo', 'Roscommon'], dtype=object)"
      ]
     },
     "execution_count": 139,
     "metadata": {},
     "output_type": "execute_result"
    }
   ],
   "source": [
    "#final check\n",
    "df_reg[\"Constituent counties\"].unique()"
   ]
  },
  {
   "cell_type": "markdown",
   "id": "64f7e29f",
   "metadata": {},
   "source": [
    "# 2. Handling data for file with data from 2011 year"
   ]
  },
  {
   "cell_type": "code",
   "execution_count": 140,
   "id": "1665c602",
   "metadata": {
    "scrolled": false
   },
   "outputs": [
    {
     "data": {
      "text/html": [
       "<div>\n",
       "<style scoped>\n",
       "    .dataframe tbody tr th:only-of-type {\n",
       "        vertical-align: middle;\n",
       "    }\n",
       "\n",
       "    .dataframe tbody tr th {\n",
       "        vertical-align: top;\n",
       "    }\n",
       "\n",
       "    .dataframe thead th {\n",
       "        text-align: right;\n",
       "    }\n",
       "</style>\n",
       "<table border=\"1\" class=\"dataframe\">\n",
       "  <thead>\n",
       "    <tr style=\"text-align: right;\">\n",
       "      <th></th>\n",
       "      <th>Statistic Label</th>\n",
       "      <th>Census Year</th>\n",
       "      <th>Internet</th>\n",
       "      <th>County</th>\n",
       "      <th>UNIT</th>\n",
       "      <th>VALUE</th>\n",
       "    </tr>\n",
       "  </thead>\n",
       "  <tbody>\n",
       "    <tr>\n",
       "      <th>0</th>\n",
       "      <td>Households with Internet access</td>\n",
       "      <td>2011</td>\n",
       "      <td>Broadband</td>\n",
       "      <td>Carlow County</td>\n",
       "      <td>Number</td>\n",
       "      <td>11158</td>\n",
       "    </tr>\n",
       "    <tr>\n",
       "      <th>1</th>\n",
       "      <td>Households with Internet access</td>\n",
       "      <td>2011</td>\n",
       "      <td>Broadband</td>\n",
       "      <td>Dublin City</td>\n",
       "      <td>Number</td>\n",
       "      <td>137669</td>\n",
       "    </tr>\n",
       "    <tr>\n",
       "      <th>2</th>\n",
       "      <td>Households with Internet access</td>\n",
       "      <td>2011</td>\n",
       "      <td>Broadband</td>\n",
       "      <td>South Dublin</td>\n",
       "      <td>Number</td>\n",
       "      <td>68306</td>\n",
       "    </tr>\n",
       "    <tr>\n",
       "      <th>3</th>\n",
       "      <td>Households with Internet access</td>\n",
       "      <td>2011</td>\n",
       "      <td>Broadband</td>\n",
       "      <td>Fingal</td>\n",
       "      <td>Number</td>\n",
       "      <td>73868</td>\n",
       "    </tr>\n",
       "    <tr>\n",
       "      <th>4</th>\n",
       "      <td>Households with Internet access</td>\n",
       "      <td>2011</td>\n",
       "      <td>Broadband</td>\n",
       "      <td>Dún Laoghaire-Rathdown</td>\n",
       "      <td>Number</td>\n",
       "      <td>59750</td>\n",
       "    </tr>\n",
       "    <tr>\n",
       "      <th>5</th>\n",
       "      <td>Households with Internet access</td>\n",
       "      <td>2011</td>\n",
       "      <td>Broadband</td>\n",
       "      <td>Kildare County</td>\n",
       "      <td>Number</td>\n",
       "      <td>50093</td>\n",
       "    </tr>\n",
       "    <tr>\n",
       "      <th>6</th>\n",
       "      <td>Households with Internet access</td>\n",
       "      <td>2011</td>\n",
       "      <td>Broadband</td>\n",
       "      <td>Kilkenny County</td>\n",
       "      <td>Number</td>\n",
       "      <td>19816</td>\n",
       "    </tr>\n",
       "    <tr>\n",
       "      <th>7</th>\n",
       "      <td>Households with Internet access</td>\n",
       "      <td>2011</td>\n",
       "      <td>Broadband</td>\n",
       "      <td>Laois County</td>\n",
       "      <td>Number</td>\n",
       "      <td>16003</td>\n",
       "    </tr>\n",
       "  </tbody>\n",
       "</table>\n",
       "</div>"
      ],
      "text/plain": [
       "                   Statistic Label  Census Year   Internet  \\\n",
       "0  Households with Internet access         2011  Broadband   \n",
       "1  Households with Internet access         2011  Broadband   \n",
       "2  Households with Internet access         2011  Broadband   \n",
       "3  Households with Internet access         2011  Broadband   \n",
       "4  Households with Internet access         2011  Broadband   \n",
       "5  Households with Internet access         2011  Broadband   \n",
       "6  Households with Internet access         2011  Broadband   \n",
       "7  Households with Internet access         2011  Broadband   \n",
       "\n",
       "                   County    UNIT   VALUE  \n",
       "0           Carlow County  Number   11158  \n",
       "1             Dublin City  Number  137669  \n",
       "2            South Dublin  Number   68306  \n",
       "3                  Fingal  Number   73868  \n",
       "4  Dún Laoghaire-Rathdown  Number   59750  \n",
       "5          Kildare County  Number   50093  \n",
       "6         Kilkenny County  Number   19816  \n",
       "7            Laois County  Number   16003  "
      ]
     },
     "execution_count": 140,
     "metadata": {},
     "output_type": "execute_result"
    }
   ],
   "source": [
    "#Creating dataset with internet type data per region for 2011 year \n",
    "df_it11 = pd.read_csv(\"SAP2011.csv\")\n",
    "df_it11.head(8)"
   ]
  },
  {
   "cell_type": "code",
   "execution_count": 141,
   "id": "69f597d2",
   "metadata": {
    "scrolled": true
   },
   "outputs": [
    {
     "data": {
      "text/plain": [
       "array(['Carlow County', 'Dublin City', 'South Dublin', 'Fingal',\n",
       "       'Dún Laoghaire-Rathdown', 'Kildare County', 'Kilkenny County',\n",
       "       'Laois County', 'Longford County', 'Louth County', 'Meath County',\n",
       "       'Offaly County', 'Westmeath County', 'Wexford County',\n",
       "       'Wicklow County', 'Clare County', 'Cork City', 'Cork County',\n",
       "       'Kerry County', 'Limerick City', 'Limerick County',\n",
       "       'North Tipperary', 'South Tipperary', 'Waterford City',\n",
       "       'Waterford County', 'Galway City', 'Galway County',\n",
       "       'Leitrim County', 'Mayo County', 'Roscommon County',\n",
       "       'Sligo County', 'Cavan County', 'Donegal County',\n",
       "       'Monaghan County'], dtype=object)"
      ]
     },
     "execution_count": 141,
     "metadata": {},
     "output_type": "execute_result"
    }
   ],
   "source": [
    "#Checking unique values\n",
    "df_it11.County.unique()"
   ]
  },
  {
   "cell_type": "markdown",
   "id": "e73d71a3",
   "metadata": {},
   "source": [
    "##### Counties in this file contain words \"County\", \"City\", that are not included in the main clasiification file.\n",
    "##### In order to be able to use regions instead of counties, as a first step I will remove those words, as well as excessive spaces.\n",
    "##### Other files might need similar modification, so this is a good reason to create a simple function that remove unnecessary words and/or simbols."
   ]
  },
  {
   "cell_type": "code",
   "execution_count": 142,
   "id": "6b310773",
   "metadata": {},
   "outputs": [],
   "source": [
    "#Method 'replace' will be used\n",
    "def remove_word(df, word):\n",
    "        df['County'] = df['County'].str.replace(f' {word}', '')\n",
    "        return df"
   ]
  },
  {
   "cell_type": "code",
   "execution_count": 143,
   "id": "f961de32",
   "metadata": {
    "scrolled": true
   },
   "outputs": [
    {
     "data": {
      "text/plain": [
       "array(['Carlow', 'Dublin', 'South Dublin', 'Fingal',\n",
       "       'Dún Laoghaire-Rathdown', 'Kildare', 'Kilkenny', 'Laois',\n",
       "       'Longford', 'Louth', 'Meath', 'Offaly', 'Westmeath', 'Wexford',\n",
       "       'Wicklow', 'Clare', 'Cork', 'Kerry', 'Limerick', 'North Tipperary',\n",
       "       'South Tipperary', 'Waterford', 'Galway', 'Leitrim', 'Mayo',\n",
       "       'Roscommon', 'Sligo', 'Cavan', 'Donegal', 'Monaghan'], dtype=object)"
      ]
     },
     "execution_count": 143,
     "metadata": {},
     "output_type": "execute_result"
    }
   ],
   "source": [
    "#removing unnecessary words and making sure we have no additional spaces\n",
    "df_it11 = remove_word(df_it11, \"County\")\n",
    "df_it11 = remove_word(df_it11, \"City\")\n",
    "df_it11 = remove_word(df_it11, \" \")\n",
    "df_it11.County.unique()"
   ]
  },
  {
   "cell_type": "code",
   "execution_count": 144,
   "id": "08801c65",
   "metadata": {
    "scrolled": true
   },
   "outputs": [
    {
     "name": "stdout",
     "output_type": "stream",
     "text": [
      "<class 'pandas.core.frame.DataFrame'>\n",
      "RangeIndex: 170 entries, 0 to 169\n",
      "Data columns (total 6 columns):\n",
      " #   Column           Non-Null Count  Dtype \n",
      "---  ------           --------------  ----- \n",
      " 0   Statistic Label  170 non-null    object\n",
      " 1   Census Year      170 non-null    int64 \n",
      " 2   Internet         170 non-null    object\n",
      " 3   County           170 non-null    object\n",
      " 4   UNIT             170 non-null    object\n",
      " 5   VALUE            170 non-null    int64 \n",
      "dtypes: int64(2), object(4)\n",
      "memory usage: 8.1+ KB\n"
     ]
    }
   ],
   "source": [
    "#checking DataFrame for NAs\n",
    "df_it11.info()"
   ]
  },
  {
   "cell_type": "markdown",
   "id": "af2bb03c",
   "metadata": {},
   "source": [
    "###### Data frame has no NAs and ready for further modification"
   ]
  },
  {
   "cell_type": "markdown",
   "id": "c0c0cb73",
   "metadata": {},
   "source": [
    "Next I will created a function that create new column in current data frame. In this column each row will have according  region for the available county. <br> </br>\n",
    "Rational behind of creating separate function is that similar transformation will be needed for the file from 2016"
   ]
  },
  {
   "cell_type": "code",
   "execution_count": 145,
   "id": "3c92b841",
   "metadata": {},
   "outputs": [],
   "source": [
    "#column Region  will be created in the dataFrame\n",
    "\n",
    "#Function is working with 2 dataframes as arguments:\n",
    "#for eah element from column \"County\" in the df_it will check if there is according name in \n",
    "#\"Constituent counties\" column from df_reg\n",
    "#and if so value from column \"Name of region\" will be taken for new column\n",
    "\n",
    "def create_region_column(df_it, df_reg):\n",
    "    df_it['Region'] = df_it['County'].apply(\n",
    "        lambda x: df_reg.loc[df_reg['Constituent counties'] == x, 'Name of region '].iloc[0] \n",
    "        if x in df_reg['Constituent counties'].to_list() else x)\n",
    "    return df_it"
   ]
  },
  {
   "cell_type": "code",
   "execution_count": 146,
   "id": "70e3ed42",
   "metadata": {},
   "outputs": [
    {
     "data": {
      "text/html": [
       "<div>\n",
       "<style scoped>\n",
       "    .dataframe tbody tr th:only-of-type {\n",
       "        vertical-align: middle;\n",
       "    }\n",
       "\n",
       "    .dataframe tbody tr th {\n",
       "        vertical-align: top;\n",
       "    }\n",
       "\n",
       "    .dataframe thead th {\n",
       "        text-align: right;\n",
       "    }\n",
       "</style>\n",
       "<table border=\"1\" class=\"dataframe\">\n",
       "  <thead>\n",
       "    <tr style=\"text-align: right;\">\n",
       "      <th></th>\n",
       "      <th>Statistic Label</th>\n",
       "      <th>Census Year</th>\n",
       "      <th>Internet</th>\n",
       "      <th>County</th>\n",
       "      <th>UNIT</th>\n",
       "      <th>VALUE</th>\n",
       "      <th>Region</th>\n",
       "    </tr>\n",
       "  </thead>\n",
       "  <tbody>\n",
       "    <tr>\n",
       "      <th>0</th>\n",
       "      <td>Households with Internet access</td>\n",
       "      <td>2011</td>\n",
       "      <td>Broadband</td>\n",
       "      <td>Carlow</td>\n",
       "      <td>Number</td>\n",
       "      <td>11158</td>\n",
       "      <td>South-East</td>\n",
       "    </tr>\n",
       "    <tr>\n",
       "      <th>1</th>\n",
       "      <td>Households with Internet access</td>\n",
       "      <td>2011</td>\n",
       "      <td>Broadband</td>\n",
       "      <td>Dublin</td>\n",
       "      <td>Number</td>\n",
       "      <td>137669</td>\n",
       "      <td>Dublin</td>\n",
       "    </tr>\n",
       "    <tr>\n",
       "      <th>2</th>\n",
       "      <td>Households with Internet access</td>\n",
       "      <td>2011</td>\n",
       "      <td>Broadband</td>\n",
       "      <td>South Dublin</td>\n",
       "      <td>Number</td>\n",
       "      <td>68306</td>\n",
       "      <td>Dublin</td>\n",
       "    </tr>\n",
       "    <tr>\n",
       "      <th>3</th>\n",
       "      <td>Households with Internet access</td>\n",
       "      <td>2011</td>\n",
       "      <td>Broadband</td>\n",
       "      <td>Fingal</td>\n",
       "      <td>Number</td>\n",
       "      <td>73868</td>\n",
       "      <td>Dublin</td>\n",
       "    </tr>\n",
       "    <tr>\n",
       "      <th>4</th>\n",
       "      <td>Households with Internet access</td>\n",
       "      <td>2011</td>\n",
       "      <td>Broadband</td>\n",
       "      <td>Dún Laoghaire-Rathdown</td>\n",
       "      <td>Number</td>\n",
       "      <td>59750</td>\n",
       "      <td>Dublin</td>\n",
       "    </tr>\n",
       "  </tbody>\n",
       "</table>\n",
       "</div>"
      ],
      "text/plain": [
       "                   Statistic Label  Census Year   Internet  \\\n",
       "0  Households with Internet access         2011  Broadband   \n",
       "1  Households with Internet access         2011  Broadband   \n",
       "2  Households with Internet access         2011  Broadband   \n",
       "3  Households with Internet access         2011  Broadband   \n",
       "4  Households with Internet access         2011  Broadband   \n",
       "\n",
       "                   County    UNIT   VALUE      Region  \n",
       "0                  Carlow  Number   11158  South-East  \n",
       "1                  Dublin  Number  137669      Dublin  \n",
       "2            South Dublin  Number   68306      Dublin  \n",
       "3                  Fingal  Number   73868      Dublin  \n",
       "4  Dún Laoghaire-Rathdown  Number   59750      Dublin  "
      ]
     },
     "execution_count": 146,
     "metadata": {},
     "output_type": "execute_result"
    }
   ],
   "source": [
    "#applying fuction to current dataframe and checking if new column is created with correct values\n",
    "df_it11 = create_region_column(df_it11, df_reg)\n",
    "df_it11.head()"
   ]
  },
  {
   "cell_type": "code",
   "execution_count": 147,
   "id": "5047d37f",
   "metadata": {
    "scrolled": true
   },
   "outputs": [
    {
     "data": {
      "text/html": [
       "<div>\n",
       "<style scoped>\n",
       "    .dataframe tbody tr th:only-of-type {\n",
       "        vertical-align: middle;\n",
       "    }\n",
       "\n",
       "    .dataframe tbody tr th {\n",
       "        vertical-align: top;\n",
       "    }\n",
       "\n",
       "    .dataframe thead th {\n",
       "        text-align: right;\n",
       "    }\n",
       "</style>\n",
       "<table border=\"1\" class=\"dataframe\">\n",
       "  <thead>\n",
       "    <tr style=\"text-align: right;\">\n",
       "      <th></th>\n",
       "      <th>Statistic Label</th>\n",
       "      <th>Census Year</th>\n",
       "      <th>Internet</th>\n",
       "      <th>County</th>\n",
       "      <th>UNIT</th>\n",
       "      <th>VALUE</th>\n",
       "      <th>Region</th>\n",
       "    </tr>\n",
       "  </thead>\n",
       "  <tbody>\n",
       "    <tr>\n",
       "      <th>0</th>\n",
       "      <td>Households with Internet access</td>\n",
       "      <td>2011</td>\n",
       "      <td>Broadband</td>\n",
       "      <td>South-East</td>\n",
       "      <td>Number</td>\n",
       "      <td>11158</td>\n",
       "      <td>South-East</td>\n",
       "    </tr>\n",
       "    <tr>\n",
       "      <th>1</th>\n",
       "      <td>Households with Internet access</td>\n",
       "      <td>2011</td>\n",
       "      <td>Broadband</td>\n",
       "      <td>Dublin</td>\n",
       "      <td>Number</td>\n",
       "      <td>137669</td>\n",
       "      <td>Dublin</td>\n",
       "    </tr>\n",
       "    <tr>\n",
       "      <th>2</th>\n",
       "      <td>Households with Internet access</td>\n",
       "      <td>2011</td>\n",
       "      <td>Broadband</td>\n",
       "      <td>Dublin</td>\n",
       "      <td>Number</td>\n",
       "      <td>68306</td>\n",
       "      <td>Dublin</td>\n",
       "    </tr>\n",
       "    <tr>\n",
       "      <th>3</th>\n",
       "      <td>Households with Internet access</td>\n",
       "      <td>2011</td>\n",
       "      <td>Broadband</td>\n",
       "      <td>Dublin</td>\n",
       "      <td>Number</td>\n",
       "      <td>73868</td>\n",
       "      <td>Dublin</td>\n",
       "    </tr>\n",
       "    <tr>\n",
       "      <th>4</th>\n",
       "      <td>Households with Internet access</td>\n",
       "      <td>2011</td>\n",
       "      <td>Broadband</td>\n",
       "      <td>Dublin</td>\n",
       "      <td>Number</td>\n",
       "      <td>59750</td>\n",
       "      <td>Dublin</td>\n",
       "    </tr>\n",
       "  </tbody>\n",
       "</table>\n",
       "</div>"
      ],
      "text/plain": [
       "                   Statistic Label  Census Year   Internet      County  \\\n",
       "0  Households with Internet access         2011  Broadband  South-East   \n",
       "1  Households with Internet access         2011  Broadband      Dublin   \n",
       "2  Households with Internet access         2011  Broadband      Dublin   \n",
       "3  Households with Internet access         2011  Broadband      Dublin   \n",
       "4  Households with Internet access         2011  Broadband      Dublin   \n",
       "\n",
       "     UNIT   VALUE      Region  \n",
       "0  Number   11158  South-East  \n",
       "1  Number  137669      Dublin  \n",
       "2  Number   68306      Dublin  \n",
       "3  Number   73868      Dublin  \n",
       "4  Number   59750      Dublin  "
      ]
     },
     "execution_count": 147,
     "metadata": {},
     "output_type": "execute_result"
    }
   ],
   "source": [
    "#replacing the counties with regions and checking \n",
    "df_it11[\"County\"] = df_it11[\"Region\"]\n",
    "df_it11.head()"
   ]
  },
  {
   "cell_type": "code",
   "execution_count": 148,
   "id": "aabb9d67",
   "metadata": {},
   "outputs": [
    {
     "data": {
      "text/html": [
       "<div>\n",
       "<style scoped>\n",
       "    .dataframe tbody tr th:only-of-type {\n",
       "        vertical-align: middle;\n",
       "    }\n",
       "\n",
       "    .dataframe tbody tr th {\n",
       "        vertical-align: top;\n",
       "    }\n",
       "\n",
       "    .dataframe thead th {\n",
       "        text-align: right;\n",
       "    }\n",
       "</style>\n",
       "<table border=\"1\" class=\"dataframe\">\n",
       "  <thead>\n",
       "    <tr style=\"text-align: right;\">\n",
       "      <th></th>\n",
       "      <th>Statistic Label</th>\n",
       "      <th>Census Year</th>\n",
       "      <th>Internet</th>\n",
       "      <th>Name of Region</th>\n",
       "      <th>UNIT</th>\n",
       "      <th>VALUE</th>\n",
       "      <th>Region</th>\n",
       "    </tr>\n",
       "  </thead>\n",
       "  <tbody>\n",
       "    <tr>\n",
       "      <th>0</th>\n",
       "      <td>Households with Internet access</td>\n",
       "      <td>2011</td>\n",
       "      <td>Broadband</td>\n",
       "      <td>South-East</td>\n",
       "      <td>Number</td>\n",
       "      <td>11158</td>\n",
       "      <td>South-East</td>\n",
       "    </tr>\n",
       "    <tr>\n",
       "      <th>1</th>\n",
       "      <td>Households with Internet access</td>\n",
       "      <td>2011</td>\n",
       "      <td>Broadband</td>\n",
       "      <td>Dublin</td>\n",
       "      <td>Number</td>\n",
       "      <td>137669</td>\n",
       "      <td>Dublin</td>\n",
       "    </tr>\n",
       "    <tr>\n",
       "      <th>2</th>\n",
       "      <td>Households with Internet access</td>\n",
       "      <td>2011</td>\n",
       "      <td>Broadband</td>\n",
       "      <td>Dublin</td>\n",
       "      <td>Number</td>\n",
       "      <td>68306</td>\n",
       "      <td>Dublin</td>\n",
       "    </tr>\n",
       "    <tr>\n",
       "      <th>3</th>\n",
       "      <td>Households with Internet access</td>\n",
       "      <td>2011</td>\n",
       "      <td>Broadband</td>\n",
       "      <td>Dublin</td>\n",
       "      <td>Number</td>\n",
       "      <td>73868</td>\n",
       "      <td>Dublin</td>\n",
       "    </tr>\n",
       "    <tr>\n",
       "      <th>4</th>\n",
       "      <td>Households with Internet access</td>\n",
       "      <td>2011</td>\n",
       "      <td>Broadband</td>\n",
       "      <td>Dublin</td>\n",
       "      <td>Number</td>\n",
       "      <td>59750</td>\n",
       "      <td>Dublin</td>\n",
       "    </tr>\n",
       "  </tbody>\n",
       "</table>\n",
       "</div>"
      ],
      "text/plain": [
       "                   Statistic Label  Census Year   Internet Name of Region  \\\n",
       "0  Households with Internet access         2011  Broadband     South-East   \n",
       "1  Households with Internet access         2011  Broadband         Dublin   \n",
       "2  Households with Internet access         2011  Broadband         Dublin   \n",
       "3  Households with Internet access         2011  Broadband         Dublin   \n",
       "4  Households with Internet access         2011  Broadband         Dublin   \n",
       "\n",
       "     UNIT   VALUE      Region  \n",
       "0  Number   11158  South-East  \n",
       "1  Number  137669      Dublin  \n",
       "2  Number   68306      Dublin  \n",
       "3  Number   73868      Dublin  \n",
       "4  Number   59750      Dublin  "
      ]
     },
     "execution_count": 148,
     "metadata": {},
     "output_type": "execute_result"
    }
   ],
   "source": [
    "#renaming column to the new name and checking\n",
    "df_it11 = df_it11.rename(columns={'County': 'Name of Region'})\n",
    "df_it11.head()"
   ]
  },
  {
   "cell_type": "code",
   "execution_count": 68,
   "id": "1476100c",
   "metadata": {
    "scrolled": true
   },
   "outputs": [
    {
     "data": {
      "text/html": [
       "<div>\n",
       "<style scoped>\n",
       "    .dataframe tbody tr th:only-of-type {\n",
       "        vertical-align: middle;\n",
       "    }\n",
       "\n",
       "    .dataframe tbody tr th {\n",
       "        vertical-align: top;\n",
       "    }\n",
       "\n",
       "    .dataframe thead th {\n",
       "        text-align: right;\n",
       "    }\n",
       "</style>\n",
       "<table border=\"1\" class=\"dataframe\">\n",
       "  <thead>\n",
       "    <tr style=\"text-align: right;\">\n",
       "      <th></th>\n",
       "      <th>Statistic Label</th>\n",
       "      <th>Census Year</th>\n",
       "      <th>Internet</th>\n",
       "      <th>Name of Region</th>\n",
       "      <th>UNIT</th>\n",
       "      <th>VALUE</th>\n",
       "    </tr>\n",
       "  </thead>\n",
       "  <tbody>\n",
       "    <tr>\n",
       "      <th>0</th>\n",
       "      <td>Households with Internet access</td>\n",
       "      <td>2011</td>\n",
       "      <td>Broadband</td>\n",
       "      <td>South-East</td>\n",
       "      <td>Number</td>\n",
       "      <td>11158</td>\n",
       "    </tr>\n",
       "    <tr>\n",
       "      <th>1</th>\n",
       "      <td>Households with Internet access</td>\n",
       "      <td>2011</td>\n",
       "      <td>Broadband</td>\n",
       "      <td>Dublin</td>\n",
       "      <td>Number</td>\n",
       "      <td>137669</td>\n",
       "    </tr>\n",
       "    <tr>\n",
       "      <th>2</th>\n",
       "      <td>Households with Internet access</td>\n",
       "      <td>2011</td>\n",
       "      <td>Broadband</td>\n",
       "      <td>Dublin</td>\n",
       "      <td>Number</td>\n",
       "      <td>68306</td>\n",
       "    </tr>\n",
       "    <tr>\n",
       "      <th>3</th>\n",
       "      <td>Households with Internet access</td>\n",
       "      <td>2011</td>\n",
       "      <td>Broadband</td>\n",
       "      <td>Dublin</td>\n",
       "      <td>Number</td>\n",
       "      <td>73868</td>\n",
       "    </tr>\n",
       "    <tr>\n",
       "      <th>4</th>\n",
       "      <td>Households with Internet access</td>\n",
       "      <td>2011</td>\n",
       "      <td>Broadband</td>\n",
       "      <td>Dublin</td>\n",
       "      <td>Number</td>\n",
       "      <td>59750</td>\n",
       "    </tr>\n",
       "  </tbody>\n",
       "</table>\n",
       "</div>"
      ],
      "text/plain": [
       "                   Statistic Label  Census Year   Internet Name of Region  \\\n",
       "0  Households with Internet access         2011  Broadband     South-East   \n",
       "1  Households with Internet access         2011  Broadband         Dublin   \n",
       "2  Households with Internet access         2011  Broadband         Dublin   \n",
       "3  Households with Internet access         2011  Broadband         Dublin   \n",
       "4  Households with Internet access         2011  Broadband         Dublin   \n",
       "\n",
       "     UNIT   VALUE  \n",
       "0  Number   11158  \n",
       "1  Number  137669  \n",
       "2  Number   68306  \n",
       "3  Number   73868  \n",
       "4  Number   59750  "
      ]
     },
     "execution_count": 68,
     "metadata": {},
     "output_type": "execute_result"
    }
   ],
   "source": [
    "#removing last column to have initial view for the table\n",
    "df_it11 = df_it11.drop(columns=[\"Region\"])\n",
    "df_it11.head()"
   ]
  },
  {
   "cell_type": "code",
   "execution_count": 69,
   "id": "1d9bd370",
   "metadata": {},
   "outputs": [
    {
     "data": {
      "text/plain": [
       "array(['South-East', 'Dublin', 'Mid-East', 'Midlands', 'Border',\n",
       "       'Mid-West', 'South-West', 'West'], dtype=object)"
      ]
     },
     "execution_count": 69,
     "metadata": {},
     "output_type": "execute_result"
    }
   ],
   "source": [
    "#last check of the regions[just to be completely sure]\n",
    "df_it11[\"Name of Region\"].unique()"
   ]
  },
  {
   "cell_type": "code",
   "execution_count": 70,
   "id": "b9fb3b56",
   "metadata": {},
   "outputs": [
    {
     "data": {
      "text/html": [
       "<div>\n",
       "<style scoped>\n",
       "    .dataframe tbody tr th:only-of-type {\n",
       "        vertical-align: middle;\n",
       "    }\n",
       "\n",
       "    .dataframe tbody tr th {\n",
       "        vertical-align: top;\n",
       "    }\n",
       "\n",
       "    .dataframe thead th {\n",
       "        text-align: right;\n",
       "    }\n",
       "</style>\n",
       "<table border=\"1\" class=\"dataframe\">\n",
       "  <thead>\n",
       "    <tr style=\"text-align: right;\">\n",
       "      <th></th>\n",
       "      <th>Statistic Label</th>\n",
       "      <th>Census Year</th>\n",
       "      <th>Internet</th>\n",
       "      <th>Name of Region</th>\n",
       "      <th>UNIT</th>\n",
       "      <th>Households with Internet access</th>\n",
       "    </tr>\n",
       "  </thead>\n",
       "  <tbody>\n",
       "    <tr>\n",
       "      <th>0</th>\n",
       "      <td>Households with Internet access</td>\n",
       "      <td>2011</td>\n",
       "      <td>Broadband</td>\n",
       "      <td>South-East</td>\n",
       "      <td>Number</td>\n",
       "      <td>11158</td>\n",
       "    </tr>\n",
       "    <tr>\n",
       "      <th>1</th>\n",
       "      <td>Households with Internet access</td>\n",
       "      <td>2011</td>\n",
       "      <td>Broadband</td>\n",
       "      <td>Dublin</td>\n",
       "      <td>Number</td>\n",
       "      <td>137669</td>\n",
       "    </tr>\n",
       "    <tr>\n",
       "      <th>2</th>\n",
       "      <td>Households with Internet access</td>\n",
       "      <td>2011</td>\n",
       "      <td>Broadband</td>\n",
       "      <td>Dublin</td>\n",
       "      <td>Number</td>\n",
       "      <td>68306</td>\n",
       "    </tr>\n",
       "    <tr>\n",
       "      <th>3</th>\n",
       "      <td>Households with Internet access</td>\n",
       "      <td>2011</td>\n",
       "      <td>Broadband</td>\n",
       "      <td>Dublin</td>\n",
       "      <td>Number</td>\n",
       "      <td>73868</td>\n",
       "    </tr>\n",
       "    <tr>\n",
       "      <th>4</th>\n",
       "      <td>Households with Internet access</td>\n",
       "      <td>2011</td>\n",
       "      <td>Broadband</td>\n",
       "      <td>Dublin</td>\n",
       "      <td>Number</td>\n",
       "      <td>59750</td>\n",
       "    </tr>\n",
       "  </tbody>\n",
       "</table>\n",
       "</div>"
      ],
      "text/plain": [
       "                   Statistic Label  Census Year   Internet Name of Region  \\\n",
       "0  Households with Internet access         2011  Broadband     South-East   \n",
       "1  Households with Internet access         2011  Broadband         Dublin   \n",
       "2  Households with Internet access         2011  Broadband         Dublin   \n",
       "3  Households with Internet access         2011  Broadband         Dublin   \n",
       "4  Households with Internet access         2011  Broadband         Dublin   \n",
       "\n",
       "     UNIT  Households with Internet access  \n",
       "0  Number                            11158  \n",
       "1  Number                           137669  \n",
       "2  Number                            68306  \n",
       "3  Number                            73868  \n",
       "4  Number                            59750  "
      ]
     },
     "execution_count": 70,
     "metadata": {},
     "output_type": "execute_result"
    }
   ],
   "source": [
    "#renaming column 'VALUE' and checking the result\n",
    "df_it11 = df_it11.rename(columns={'VALUE': 'Households with Internet access'})\n",
    "df_it11.head()"
   ]
  },
  {
   "cell_type": "markdown",
   "id": "72991b39",
   "metadata": {},
   "source": [
    "# 3. Handling data for file with data from 2016 year"
   ]
  },
  {
   "cell_type": "code",
   "execution_count": 71,
   "id": "795367e0",
   "metadata": {},
   "outputs": [
    {
     "data": {
      "text/html": [
       "<div>\n",
       "<style scoped>\n",
       "    .dataframe tbody tr th:only-of-type {\n",
       "        vertical-align: middle;\n",
       "    }\n",
       "\n",
       "    .dataframe tbody tr th {\n",
       "        vertical-align: top;\n",
       "    }\n",
       "\n",
       "    .dataframe thead th {\n",
       "        text-align: right;\n",
       "    }\n",
       "</style>\n",
       "<table border=\"1\" class=\"dataframe\">\n",
       "  <thead>\n",
       "    <tr style=\"text-align: right;\">\n",
       "      <th></th>\n",
       "      <th>Statistic Label</th>\n",
       "      <th>Census Year</th>\n",
       "      <th>County</th>\n",
       "      <th>Internet</th>\n",
       "      <th>UNIT</th>\n",
       "      <th>VALUE</th>\n",
       "    </tr>\n",
       "  </thead>\n",
       "  <tbody>\n",
       "    <tr>\n",
       "      <th>0</th>\n",
       "      <td>Households with Internet access</td>\n",
       "      <td>2016</td>\n",
       "      <td>Carlow</td>\n",
       "      <td>Broadband</td>\n",
       "      <td>Number</td>\n",
       "      <td>13539</td>\n",
       "    </tr>\n",
       "    <tr>\n",
       "      <th>1</th>\n",
       "      <td>Households with Internet access</td>\n",
       "      <td>2016</td>\n",
       "      <td>Carlow</td>\n",
       "      <td>Other</td>\n",
       "      <td>Number</td>\n",
       "      <td>1852</td>\n",
       "    </tr>\n",
       "    <tr>\n",
       "      <th>2</th>\n",
       "      <td>Households with Internet access</td>\n",
       "      <td>2016</td>\n",
       "      <td>Carlow</td>\n",
       "      <td>No</td>\n",
       "      <td>Number</td>\n",
       "      <td>4432</td>\n",
       "    </tr>\n",
       "    <tr>\n",
       "      <th>3</th>\n",
       "      <td>Households with Internet access</td>\n",
       "      <td>2016</td>\n",
       "      <td>Carlow</td>\n",
       "      <td>Not Stated</td>\n",
       "      <td>Number</td>\n",
       "      <td>642</td>\n",
       "    </tr>\n",
       "    <tr>\n",
       "      <th>4</th>\n",
       "      <td>Households with Internet access</td>\n",
       "      <td>2016</td>\n",
       "      <td>Carlow</td>\n",
       "      <td>Total</td>\n",
       "      <td>Number</td>\n",
       "      <td>20465</td>\n",
       "    </tr>\n",
       "  </tbody>\n",
       "</table>\n",
       "</div>"
      ],
      "text/plain": [
       "                   Statistic Label  Census Year  County    Internet    UNIT  \\\n",
       "0  Households with Internet access         2016  Carlow   Broadband  Number   \n",
       "1  Households with Internet access         2016  Carlow       Other  Number   \n",
       "2  Households with Internet access         2016  Carlow          No  Number   \n",
       "3  Households with Internet access         2016  Carlow  Not Stated  Number   \n",
       "4  Households with Internet access         2016  Carlow       Total  Number   \n",
       "\n",
       "   VALUE  \n",
       "0  13539  \n",
       "1   1852  \n",
       "2   4432  \n",
       "3    642  \n",
       "4  20465  "
      ]
     },
     "execution_count": 71,
     "metadata": {},
     "output_type": "execute_result"
    }
   ],
   "source": [
    "#Creating new DataFrame and exploring it\n",
    "df_it16 = pd.read_csv(\"SAP2016.csv\")\n",
    "df_it16.head()"
   ]
  },
  {
   "cell_type": "code",
   "execution_count": 72,
   "id": "5c0aceea",
   "metadata": {},
   "outputs": [
    {
     "data": {
      "text/html": [
       "<div>\n",
       "<style scoped>\n",
       "    .dataframe tbody tr th:only-of-type {\n",
       "        vertical-align: middle;\n",
       "    }\n",
       "\n",
       "    .dataframe tbody tr th {\n",
       "        vertical-align: top;\n",
       "    }\n",
       "\n",
       "    .dataframe thead th {\n",
       "        text-align: right;\n",
       "    }\n",
       "</style>\n",
       "<table border=\"1\" class=\"dataframe\">\n",
       "  <thead>\n",
       "    <tr style=\"text-align: right;\">\n",
       "      <th></th>\n",
       "      <th>Statistic Label</th>\n",
       "      <th>Census Year</th>\n",
       "      <th>Internet</th>\n",
       "      <th>County</th>\n",
       "      <th>UNIT</th>\n",
       "      <th>VALUE</th>\n",
       "    </tr>\n",
       "  </thead>\n",
       "  <tbody>\n",
       "    <tr>\n",
       "      <th>0</th>\n",
       "      <td>Households with Internet access</td>\n",
       "      <td>2016</td>\n",
       "      <td>Broadband</td>\n",
       "      <td>Carlow</td>\n",
       "      <td>Number</td>\n",
       "      <td>13539</td>\n",
       "    </tr>\n",
       "    <tr>\n",
       "      <th>1</th>\n",
       "      <td>Households with Internet access</td>\n",
       "      <td>2016</td>\n",
       "      <td>Other</td>\n",
       "      <td>Carlow</td>\n",
       "      <td>Number</td>\n",
       "      <td>1852</td>\n",
       "    </tr>\n",
       "    <tr>\n",
       "      <th>2</th>\n",
       "      <td>Households with Internet access</td>\n",
       "      <td>2016</td>\n",
       "      <td>No</td>\n",
       "      <td>Carlow</td>\n",
       "      <td>Number</td>\n",
       "      <td>4432</td>\n",
       "    </tr>\n",
       "    <tr>\n",
       "      <th>3</th>\n",
       "      <td>Households with Internet access</td>\n",
       "      <td>2016</td>\n",
       "      <td>Not Stated</td>\n",
       "      <td>Carlow</td>\n",
       "      <td>Number</td>\n",
       "      <td>642</td>\n",
       "    </tr>\n",
       "    <tr>\n",
       "      <th>4</th>\n",
       "      <td>Households with Internet access</td>\n",
       "      <td>2016</td>\n",
       "      <td>Total</td>\n",
       "      <td>Carlow</td>\n",
       "      <td>Number</td>\n",
       "      <td>20465</td>\n",
       "    </tr>\n",
       "  </tbody>\n",
       "</table>\n",
       "</div>"
      ],
      "text/plain": [
       "                   Statistic Label  Census Year    Internet  County    UNIT  \\\n",
       "0  Households with Internet access         2016   Broadband  Carlow  Number   \n",
       "1  Households with Internet access         2016       Other  Carlow  Number   \n",
       "2  Households with Internet access         2016          No  Carlow  Number   \n",
       "3  Households with Internet access         2016  Not Stated  Carlow  Number   \n",
       "4  Households with Internet access         2016       Total  Carlow  Number   \n",
       "\n",
       "   VALUE  \n",
       "0  13539  \n",
       "1   1852  \n",
       "2   4432  \n",
       "3    642  \n",
       "4  20465  "
      ]
     },
     "execution_count": 72,
     "metadata": {},
     "output_type": "execute_result"
    }
   ],
   "source": [
    "#re-order columns \n",
    "df_it16 = df_it16[['Statistic Label','Census Year','Internet','County','UNIT','VALUE']]\n",
    "df_it16.head()"
   ]
  },
  {
   "cell_type": "code",
   "execution_count": 73,
   "id": "96ecf087",
   "metadata": {},
   "outputs": [
    {
     "data": {
      "text/plain": [
       "array(['Carlow', 'Cavan', 'Clare', 'Cork City', 'Cork County', 'Donegal',\n",
       "       'Dublin City', 'Dún Laoghaire-Rathdown', 'Fingal', 'Galway City',\n",
       "       'Galway County', 'Kerry', 'Kildare', 'Kilkenny', 'Laois',\n",
       "       'Leitrim', 'Limerick City and County', 'Longford', 'Louth', 'Mayo',\n",
       "       'Meath', 'Monaghan', 'Offaly', 'Roscommon', 'Sligo',\n",
       "       'South Dublin', 'Tipperary', 'Waterford City and County',\n",
       "       'Westmeath', 'Wexford', 'Wicklow'], dtype=object)"
      ]
     },
     "execution_count": 73,
     "metadata": {},
     "output_type": "execute_result"
    }
   ],
   "source": [
    "#checking unique values\n",
    "df_it16.County.unique()"
   ]
  },
  {
   "cell_type": "code",
   "execution_count": 74,
   "id": "ea85f196",
   "metadata": {},
   "outputs": [
    {
     "data": {
      "text/plain": [
       "array(['Carlow', 'Cavan', 'Clare', 'Cork', 'Donegal', 'Dublin',\n",
       "       'Dún Laoghaire-Rathdown', 'Fingal', 'Galway', 'Kerry', 'Kildare',\n",
       "       'Kilkenny', 'Laois', 'Leitrim', 'Limerick', 'Longford', 'Louth',\n",
       "       'Mayo', 'Meath', 'Monaghan', 'Offaly', 'Roscommon', 'Sligo',\n",
       "       'South Dublin', 'Tipperary', 'Waterford', 'Westmeath', 'Wexford',\n",
       "       'Wicklow'], dtype=object)"
      ]
     },
     "execution_count": 74,
     "metadata": {},
     "output_type": "execute_result"
    }
   ],
   "source": [
    "#removing all irrelevant words\n",
    "df_it16 = remove_word(df_it16, \"City and County\")\n",
    "df_it16 = remove_word(df_it16, \"County\")\n",
    "df_it16 = remove_word(df_it16, \"City\")\n",
    "df_it16 = remove_word(df_it16, \" \")\n",
    "df_it16.County.unique()"
   ]
  },
  {
   "cell_type": "code",
   "execution_count": 75,
   "id": "d9a2e504",
   "metadata": {},
   "outputs": [
    {
     "data": {
      "text/html": [
       "<div>\n",
       "<style scoped>\n",
       "    .dataframe tbody tr th:only-of-type {\n",
       "        vertical-align: middle;\n",
       "    }\n",
       "\n",
       "    .dataframe tbody tr th {\n",
       "        vertical-align: top;\n",
       "    }\n",
       "\n",
       "    .dataframe thead th {\n",
       "        text-align: right;\n",
       "    }\n",
       "</style>\n",
       "<table border=\"1\" class=\"dataframe\">\n",
       "  <thead>\n",
       "    <tr style=\"text-align: right;\">\n",
       "      <th></th>\n",
       "      <th>Statistic Label</th>\n",
       "      <th>Census Year</th>\n",
       "      <th>Internet</th>\n",
       "      <th>County</th>\n",
       "      <th>UNIT</th>\n",
       "      <th>VALUE</th>\n",
       "      <th>Region</th>\n",
       "    </tr>\n",
       "  </thead>\n",
       "  <tbody>\n",
       "    <tr>\n",
       "      <th>0</th>\n",
       "      <td>Households with Internet access</td>\n",
       "      <td>2016</td>\n",
       "      <td>Broadband</td>\n",
       "      <td>Carlow</td>\n",
       "      <td>Number</td>\n",
       "      <td>13539</td>\n",
       "      <td>South-East</td>\n",
       "    </tr>\n",
       "    <tr>\n",
       "      <th>1</th>\n",
       "      <td>Households with Internet access</td>\n",
       "      <td>2016</td>\n",
       "      <td>Other</td>\n",
       "      <td>Carlow</td>\n",
       "      <td>Number</td>\n",
       "      <td>1852</td>\n",
       "      <td>South-East</td>\n",
       "    </tr>\n",
       "    <tr>\n",
       "      <th>2</th>\n",
       "      <td>Households with Internet access</td>\n",
       "      <td>2016</td>\n",
       "      <td>No</td>\n",
       "      <td>Carlow</td>\n",
       "      <td>Number</td>\n",
       "      <td>4432</td>\n",
       "      <td>South-East</td>\n",
       "    </tr>\n",
       "    <tr>\n",
       "      <th>3</th>\n",
       "      <td>Households with Internet access</td>\n",
       "      <td>2016</td>\n",
       "      <td>Not Stated</td>\n",
       "      <td>Carlow</td>\n",
       "      <td>Number</td>\n",
       "      <td>642</td>\n",
       "      <td>South-East</td>\n",
       "    </tr>\n",
       "    <tr>\n",
       "      <th>4</th>\n",
       "      <td>Households with Internet access</td>\n",
       "      <td>2016</td>\n",
       "      <td>Total</td>\n",
       "      <td>Carlow</td>\n",
       "      <td>Number</td>\n",
       "      <td>20465</td>\n",
       "      <td>South-East</td>\n",
       "    </tr>\n",
       "  </tbody>\n",
       "</table>\n",
       "</div>"
      ],
      "text/plain": [
       "                   Statistic Label  Census Year    Internet  County    UNIT  \\\n",
       "0  Households with Internet access         2016   Broadband  Carlow  Number   \n",
       "1  Households with Internet access         2016       Other  Carlow  Number   \n",
       "2  Households with Internet access         2016          No  Carlow  Number   \n",
       "3  Households with Internet access         2016  Not Stated  Carlow  Number   \n",
       "4  Households with Internet access         2016       Total  Carlow  Number   \n",
       "\n",
       "   VALUE      Region  \n",
       "0  13539  South-East  \n",
       "1   1852  South-East  \n",
       "2   4432  South-East  \n",
       "3    642  South-East  \n",
       "4  20465  South-East  "
      ]
     },
     "execution_count": 75,
     "metadata": {},
     "output_type": "execute_result"
    }
   ],
   "source": [
    "#using function for Regions\n",
    "df_it16 = create_region_column(df_it16, df_reg)\n",
    "df_it16.head()"
   ]
  },
  {
   "cell_type": "code",
   "execution_count": 76,
   "id": "82b72af9",
   "metadata": {},
   "outputs": [
    {
     "data": {
      "text/html": [
       "<div>\n",
       "<style scoped>\n",
       "    .dataframe tbody tr th:only-of-type {\n",
       "        vertical-align: middle;\n",
       "    }\n",
       "\n",
       "    .dataframe tbody tr th {\n",
       "        vertical-align: top;\n",
       "    }\n",
       "\n",
       "    .dataframe thead th {\n",
       "        text-align: right;\n",
       "    }\n",
       "</style>\n",
       "<table border=\"1\" class=\"dataframe\">\n",
       "  <thead>\n",
       "    <tr style=\"text-align: right;\">\n",
       "      <th></th>\n",
       "      <th>Statistic Label</th>\n",
       "      <th>Census Year</th>\n",
       "      <th>Internet</th>\n",
       "      <th>County</th>\n",
       "      <th>UNIT</th>\n",
       "      <th>VALUE</th>\n",
       "      <th>Region</th>\n",
       "    </tr>\n",
       "  </thead>\n",
       "  <tbody>\n",
       "    <tr>\n",
       "      <th>0</th>\n",
       "      <td>Households with Internet access</td>\n",
       "      <td>2016</td>\n",
       "      <td>Broadband</td>\n",
       "      <td>South-East</td>\n",
       "      <td>Number</td>\n",
       "      <td>13539</td>\n",
       "      <td>South-East</td>\n",
       "    </tr>\n",
       "    <tr>\n",
       "      <th>1</th>\n",
       "      <td>Households with Internet access</td>\n",
       "      <td>2016</td>\n",
       "      <td>Other</td>\n",
       "      <td>South-East</td>\n",
       "      <td>Number</td>\n",
       "      <td>1852</td>\n",
       "      <td>South-East</td>\n",
       "    </tr>\n",
       "    <tr>\n",
       "      <th>2</th>\n",
       "      <td>Households with Internet access</td>\n",
       "      <td>2016</td>\n",
       "      <td>No</td>\n",
       "      <td>South-East</td>\n",
       "      <td>Number</td>\n",
       "      <td>4432</td>\n",
       "      <td>South-East</td>\n",
       "    </tr>\n",
       "    <tr>\n",
       "      <th>3</th>\n",
       "      <td>Households with Internet access</td>\n",
       "      <td>2016</td>\n",
       "      <td>Not Stated</td>\n",
       "      <td>South-East</td>\n",
       "      <td>Number</td>\n",
       "      <td>642</td>\n",
       "      <td>South-East</td>\n",
       "    </tr>\n",
       "    <tr>\n",
       "      <th>4</th>\n",
       "      <td>Households with Internet access</td>\n",
       "      <td>2016</td>\n",
       "      <td>Total</td>\n",
       "      <td>South-East</td>\n",
       "      <td>Number</td>\n",
       "      <td>20465</td>\n",
       "      <td>South-East</td>\n",
       "    </tr>\n",
       "  </tbody>\n",
       "</table>\n",
       "</div>"
      ],
      "text/plain": [
       "                   Statistic Label  Census Year    Internet      County  \\\n",
       "0  Households with Internet access         2016   Broadband  South-East   \n",
       "1  Households with Internet access         2016       Other  South-East   \n",
       "2  Households with Internet access         2016          No  South-East   \n",
       "3  Households with Internet access         2016  Not Stated  South-East   \n",
       "4  Households with Internet access         2016       Total  South-East   \n",
       "\n",
       "     UNIT  VALUE      Region  \n",
       "0  Number  13539  South-East  \n",
       "1  Number   1852  South-East  \n",
       "2  Number   4432  South-East  \n",
       "3  Number    642  South-East  \n",
       "4  Number  20465  South-East  "
      ]
     },
     "execution_count": 76,
     "metadata": {},
     "output_type": "execute_result"
    }
   ],
   "source": [
    "#replacing the counties with regions and checking \n",
    "df_it16[\"County\"] = df_it16[\"Region\"]\n",
    "df_it16.head()"
   ]
  },
  {
   "cell_type": "code",
   "execution_count": 77,
   "id": "ca850419",
   "metadata": {},
   "outputs": [
    {
     "data": {
      "text/html": [
       "<div>\n",
       "<style scoped>\n",
       "    .dataframe tbody tr th:only-of-type {\n",
       "        vertical-align: middle;\n",
       "    }\n",
       "\n",
       "    .dataframe tbody tr th {\n",
       "        vertical-align: top;\n",
       "    }\n",
       "\n",
       "    .dataframe thead th {\n",
       "        text-align: right;\n",
       "    }\n",
       "</style>\n",
       "<table border=\"1\" class=\"dataframe\">\n",
       "  <thead>\n",
       "    <tr style=\"text-align: right;\">\n",
       "      <th></th>\n",
       "      <th>Statistic Label</th>\n",
       "      <th>Census Year</th>\n",
       "      <th>Internet</th>\n",
       "      <th>Name of Region</th>\n",
       "      <th>UNIT</th>\n",
       "      <th>VALUE</th>\n",
       "      <th>Region</th>\n",
       "    </tr>\n",
       "  </thead>\n",
       "  <tbody>\n",
       "    <tr>\n",
       "      <th>0</th>\n",
       "      <td>Households with Internet access</td>\n",
       "      <td>2016</td>\n",
       "      <td>Broadband</td>\n",
       "      <td>South-East</td>\n",
       "      <td>Number</td>\n",
       "      <td>13539</td>\n",
       "      <td>South-East</td>\n",
       "    </tr>\n",
       "    <tr>\n",
       "      <th>1</th>\n",
       "      <td>Households with Internet access</td>\n",
       "      <td>2016</td>\n",
       "      <td>Other</td>\n",
       "      <td>South-East</td>\n",
       "      <td>Number</td>\n",
       "      <td>1852</td>\n",
       "      <td>South-East</td>\n",
       "    </tr>\n",
       "    <tr>\n",
       "      <th>2</th>\n",
       "      <td>Households with Internet access</td>\n",
       "      <td>2016</td>\n",
       "      <td>No</td>\n",
       "      <td>South-East</td>\n",
       "      <td>Number</td>\n",
       "      <td>4432</td>\n",
       "      <td>South-East</td>\n",
       "    </tr>\n",
       "    <tr>\n",
       "      <th>3</th>\n",
       "      <td>Households with Internet access</td>\n",
       "      <td>2016</td>\n",
       "      <td>Not Stated</td>\n",
       "      <td>South-East</td>\n",
       "      <td>Number</td>\n",
       "      <td>642</td>\n",
       "      <td>South-East</td>\n",
       "    </tr>\n",
       "    <tr>\n",
       "      <th>4</th>\n",
       "      <td>Households with Internet access</td>\n",
       "      <td>2016</td>\n",
       "      <td>Total</td>\n",
       "      <td>South-East</td>\n",
       "      <td>Number</td>\n",
       "      <td>20465</td>\n",
       "      <td>South-East</td>\n",
       "    </tr>\n",
       "  </tbody>\n",
       "</table>\n",
       "</div>"
      ],
      "text/plain": [
       "                   Statistic Label  Census Year    Internet Name of Region  \\\n",
       "0  Households with Internet access         2016   Broadband     South-East   \n",
       "1  Households with Internet access         2016       Other     South-East   \n",
       "2  Households with Internet access         2016          No     South-East   \n",
       "3  Households with Internet access         2016  Not Stated     South-East   \n",
       "4  Households with Internet access         2016       Total     South-East   \n",
       "\n",
       "     UNIT  VALUE      Region  \n",
       "0  Number  13539  South-East  \n",
       "1  Number   1852  South-East  \n",
       "2  Number   4432  South-East  \n",
       "3  Number    642  South-East  \n",
       "4  Number  20465  South-East  "
      ]
     },
     "execution_count": 77,
     "metadata": {},
     "output_type": "execute_result"
    }
   ],
   "source": [
    "#renaming column to the new name and checking\n",
    "df_it16 = df_it16.rename(columns={'County': 'Name of Region'})\n",
    "df_it16.head()"
   ]
  },
  {
   "cell_type": "code",
   "execution_count": 78,
   "id": "e9e5b98f",
   "metadata": {
    "scrolled": true
   },
   "outputs": [
    {
     "data": {
      "text/html": [
       "<div>\n",
       "<style scoped>\n",
       "    .dataframe tbody tr th:only-of-type {\n",
       "        vertical-align: middle;\n",
       "    }\n",
       "\n",
       "    .dataframe tbody tr th {\n",
       "        vertical-align: top;\n",
       "    }\n",
       "\n",
       "    .dataframe thead th {\n",
       "        text-align: right;\n",
       "    }\n",
       "</style>\n",
       "<table border=\"1\" class=\"dataframe\">\n",
       "  <thead>\n",
       "    <tr style=\"text-align: right;\">\n",
       "      <th></th>\n",
       "      <th>Statistic Label</th>\n",
       "      <th>Census Year</th>\n",
       "      <th>Internet</th>\n",
       "      <th>Name of Region</th>\n",
       "      <th>UNIT</th>\n",
       "      <th>VALUE</th>\n",
       "    </tr>\n",
       "  </thead>\n",
       "  <tbody>\n",
       "    <tr>\n",
       "      <th>0</th>\n",
       "      <td>Households with Internet access</td>\n",
       "      <td>2016</td>\n",
       "      <td>Broadband</td>\n",
       "      <td>South-East</td>\n",
       "      <td>Number</td>\n",
       "      <td>13539</td>\n",
       "    </tr>\n",
       "    <tr>\n",
       "      <th>1</th>\n",
       "      <td>Households with Internet access</td>\n",
       "      <td>2016</td>\n",
       "      <td>Other</td>\n",
       "      <td>South-East</td>\n",
       "      <td>Number</td>\n",
       "      <td>1852</td>\n",
       "    </tr>\n",
       "    <tr>\n",
       "      <th>2</th>\n",
       "      <td>Households with Internet access</td>\n",
       "      <td>2016</td>\n",
       "      <td>No</td>\n",
       "      <td>South-East</td>\n",
       "      <td>Number</td>\n",
       "      <td>4432</td>\n",
       "    </tr>\n",
       "    <tr>\n",
       "      <th>3</th>\n",
       "      <td>Households with Internet access</td>\n",
       "      <td>2016</td>\n",
       "      <td>Not Stated</td>\n",
       "      <td>South-East</td>\n",
       "      <td>Number</td>\n",
       "      <td>642</td>\n",
       "    </tr>\n",
       "    <tr>\n",
       "      <th>4</th>\n",
       "      <td>Households with Internet access</td>\n",
       "      <td>2016</td>\n",
       "      <td>Total</td>\n",
       "      <td>South-East</td>\n",
       "      <td>Number</td>\n",
       "      <td>20465</td>\n",
       "    </tr>\n",
       "  </tbody>\n",
       "</table>\n",
       "</div>"
      ],
      "text/plain": [
       "                   Statistic Label  Census Year    Internet Name of Region  \\\n",
       "0  Households with Internet access         2016   Broadband     South-East   \n",
       "1  Households with Internet access         2016       Other     South-East   \n",
       "2  Households with Internet access         2016          No     South-East   \n",
       "3  Households with Internet access         2016  Not Stated     South-East   \n",
       "4  Households with Internet access         2016       Total     South-East   \n",
       "\n",
       "     UNIT  VALUE  \n",
       "0  Number  13539  \n",
       "1  Number   1852  \n",
       "2  Number   4432  \n",
       "3  Number    642  \n",
       "4  Number  20465  "
      ]
     },
     "execution_count": 78,
     "metadata": {},
     "output_type": "execute_result"
    }
   ],
   "source": [
    "#removing last column to have initial view for the table\n",
    "\n",
    "df_it16 = df_it16.drop(columns=[\"Region\"])\n",
    "df_it16.head()"
   ]
  },
  {
   "cell_type": "code",
   "execution_count": 79,
   "id": "48f566ce",
   "metadata": {
    "scrolled": true
   },
   "outputs": [
    {
     "data": {
      "text/plain": [
       "array(['South-East', 'Border', 'Mid-West', 'South-West', 'Dublin', 'West',\n",
       "       'Mid-East', 'Midlands'], dtype=object)"
      ]
     },
     "execution_count": 79,
     "metadata": {},
     "output_type": "execute_result"
    }
   ],
   "source": [
    "#Last check for obtained data\n",
    "df_it16[\"Name of Region\"].unique()"
   ]
  },
  {
   "cell_type": "code",
   "execution_count": 80,
   "id": "ac895f3f",
   "metadata": {},
   "outputs": [
    {
     "data": {
      "text/html": [
       "<div>\n",
       "<style scoped>\n",
       "    .dataframe tbody tr th:only-of-type {\n",
       "        vertical-align: middle;\n",
       "    }\n",
       "\n",
       "    .dataframe tbody tr th {\n",
       "        vertical-align: top;\n",
       "    }\n",
       "\n",
       "    .dataframe thead th {\n",
       "        text-align: right;\n",
       "    }\n",
       "</style>\n",
       "<table border=\"1\" class=\"dataframe\">\n",
       "  <thead>\n",
       "    <tr style=\"text-align: right;\">\n",
       "      <th></th>\n",
       "      <th>Statistic Label</th>\n",
       "      <th>Census Year</th>\n",
       "      <th>Internet</th>\n",
       "      <th>Name of Region</th>\n",
       "      <th>UNIT</th>\n",
       "      <th>Households with Internet access</th>\n",
       "    </tr>\n",
       "  </thead>\n",
       "  <tbody>\n",
       "    <tr>\n",
       "      <th>0</th>\n",
       "      <td>Households with Internet access</td>\n",
       "      <td>2016</td>\n",
       "      <td>Broadband</td>\n",
       "      <td>South-East</td>\n",
       "      <td>Number</td>\n",
       "      <td>13539</td>\n",
       "    </tr>\n",
       "    <tr>\n",
       "      <th>1</th>\n",
       "      <td>Households with Internet access</td>\n",
       "      <td>2016</td>\n",
       "      <td>Other</td>\n",
       "      <td>South-East</td>\n",
       "      <td>Number</td>\n",
       "      <td>1852</td>\n",
       "    </tr>\n",
       "    <tr>\n",
       "      <th>2</th>\n",
       "      <td>Households with Internet access</td>\n",
       "      <td>2016</td>\n",
       "      <td>No</td>\n",
       "      <td>South-East</td>\n",
       "      <td>Number</td>\n",
       "      <td>4432</td>\n",
       "    </tr>\n",
       "    <tr>\n",
       "      <th>3</th>\n",
       "      <td>Households with Internet access</td>\n",
       "      <td>2016</td>\n",
       "      <td>Not Stated</td>\n",
       "      <td>South-East</td>\n",
       "      <td>Number</td>\n",
       "      <td>642</td>\n",
       "    </tr>\n",
       "    <tr>\n",
       "      <th>4</th>\n",
       "      <td>Households with Internet access</td>\n",
       "      <td>2016</td>\n",
       "      <td>Total</td>\n",
       "      <td>South-East</td>\n",
       "      <td>Number</td>\n",
       "      <td>20465</td>\n",
       "    </tr>\n",
       "  </tbody>\n",
       "</table>\n",
       "</div>"
      ],
      "text/plain": [
       "                   Statistic Label  Census Year    Internet Name of Region  \\\n",
       "0  Households with Internet access         2016   Broadband     South-East   \n",
       "1  Households with Internet access         2016       Other     South-East   \n",
       "2  Households with Internet access         2016          No     South-East   \n",
       "3  Households with Internet access         2016  Not Stated     South-East   \n",
       "4  Households with Internet access         2016       Total     South-East   \n",
       "\n",
       "     UNIT  Households with Internet access  \n",
       "0  Number                            13539  \n",
       "1  Number                             1852  \n",
       "2  Number                             4432  \n",
       "3  Number                              642  \n",
       "4  Number                            20465  "
      ]
     },
     "execution_count": 80,
     "metadata": {},
     "output_type": "execute_result"
    }
   ],
   "source": [
    "#renaming column 'VALUE' and checking the result\n",
    "df_it16 = df_it16.rename(columns={'VALUE': 'Households with Internet access'})\n",
    "df_it16.head()"
   ]
  },
  {
   "cell_type": "markdown",
   "id": "93dd9939",
   "metadata": {},
   "source": [
    "# 4. Handling data for file with data from 2022 year"
   ]
  },
  {
   "cell_type": "code",
   "execution_count": 81,
   "id": "69261082",
   "metadata": {
    "scrolled": false
   },
   "outputs": [
    {
     "data": {
      "text/html": [
       "<div>\n",
       "<style scoped>\n",
       "    .dataframe tbody tr th:only-of-type {\n",
       "        vertical-align: middle;\n",
       "    }\n",
       "\n",
       "    .dataframe tbody tr th {\n",
       "        vertical-align: top;\n",
       "    }\n",
       "\n",
       "    .dataframe thead th {\n",
       "        text-align: right;\n",
       "    }\n",
       "</style>\n",
       "<table border=\"1\" class=\"dataframe\">\n",
       "  <thead>\n",
       "    <tr style=\"text-align: right;\">\n",
       "      <th></th>\n",
       "      <th>Statistic Label</th>\n",
       "      <th>Census Year</th>\n",
       "      <th>Internet</th>\n",
       "      <th>NUTS 3 Region</th>\n",
       "      <th>UNIT</th>\n",
       "      <th>VALUE</th>\n",
       "    </tr>\n",
       "  </thead>\n",
       "  <tbody>\n",
       "    <tr>\n",
       "      <th>0</th>\n",
       "      <td>Households with Internet access</td>\n",
       "      <td>2022</td>\n",
       "      <td>Broadband</td>\n",
       "      <td>Ireland</td>\n",
       "      <td>Number</td>\n",
       "      <td>1457883</td>\n",
       "    </tr>\n",
       "    <tr>\n",
       "      <th>1</th>\n",
       "      <td>Households with Internet access</td>\n",
       "      <td>2022</td>\n",
       "      <td>Broadband</td>\n",
       "      <td>Border</td>\n",
       "      <td>Number</td>\n",
       "      <td>116928</td>\n",
       "    </tr>\n",
       "    <tr>\n",
       "      <th>2</th>\n",
       "      <td>Households with Internet access</td>\n",
       "      <td>2022</td>\n",
       "      <td>Broadband</td>\n",
       "      <td>West</td>\n",
       "      <td>Number</td>\n",
       "      <td>134086</td>\n",
       "    </tr>\n",
       "    <tr>\n",
       "      <th>3</th>\n",
       "      <td>Households with Internet access</td>\n",
       "      <td>2022</td>\n",
       "      <td>Broadband</td>\n",
       "      <td>Mid-West</td>\n",
       "      <td>Number</td>\n",
       "      <td>137622</td>\n",
       "    </tr>\n",
       "    <tr>\n",
       "      <th>4</th>\n",
       "      <td>Households with Internet access</td>\n",
       "      <td>2022</td>\n",
       "      <td>Broadband</td>\n",
       "      <td>South-East</td>\n",
       "      <td>Number</td>\n",
       "      <td>124415</td>\n",
       "    </tr>\n",
       "  </tbody>\n",
       "</table>\n",
       "</div>"
      ],
      "text/plain": [
       "                   Statistic Label  Census Year   Internet NUTS 3 Region  \\\n",
       "0  Households with Internet access         2022  Broadband       Ireland   \n",
       "1  Households with Internet access         2022  Broadband        Border   \n",
       "2  Households with Internet access         2022  Broadband          West   \n",
       "3  Households with Internet access         2022  Broadband      Mid-West   \n",
       "4  Households with Internet access         2022  Broadband    South-East   \n",
       "\n",
       "     UNIT    VALUE  \n",
       "0  Number  1457883  \n",
       "1  Number   116928  \n",
       "2  Number   134086  \n",
       "3  Number   137622  \n",
       "4  Number   124415  "
      ]
     },
     "execution_count": 81,
     "metadata": {},
     "output_type": "execute_result"
    }
   ],
   "source": [
    "#Creating new DataFrame and exploring it\n",
    "\n",
    "df_it22 = pd.read_csv(\"SAP2022.csv\")\n",
    "df_it22.head()"
   ]
  },
  {
   "cell_type": "markdown",
   "id": "ccec9548",
   "metadata": {},
   "source": [
    "This file already has regions names and correct order of columns, so just renaming columns with regions and Values"
   ]
  },
  {
   "cell_type": "code",
   "execution_count": 82,
   "id": "f0820563",
   "metadata": {
    "scrolled": true
   },
   "outputs": [],
   "source": [
    "#renaming column 'NUTS 3 Region' and checking the result\n",
    "df_it22 = df_it22.rename(columns={'NUTS 3 Region': 'Name of Region'})"
   ]
  },
  {
   "cell_type": "code",
   "execution_count": 83,
   "id": "9b677b33",
   "metadata": {},
   "outputs": [
    {
     "data": {
      "text/html": [
       "<div>\n",
       "<style scoped>\n",
       "    .dataframe tbody tr th:only-of-type {\n",
       "        vertical-align: middle;\n",
       "    }\n",
       "\n",
       "    .dataframe tbody tr th {\n",
       "        vertical-align: top;\n",
       "    }\n",
       "\n",
       "    .dataframe thead th {\n",
       "        text-align: right;\n",
       "    }\n",
       "</style>\n",
       "<table border=\"1\" class=\"dataframe\">\n",
       "  <thead>\n",
       "    <tr style=\"text-align: right;\">\n",
       "      <th></th>\n",
       "      <th>Statistic Label</th>\n",
       "      <th>Census Year</th>\n",
       "      <th>Internet</th>\n",
       "      <th>Name of Region</th>\n",
       "      <th>UNIT</th>\n",
       "      <th>Households with Internet access</th>\n",
       "    </tr>\n",
       "  </thead>\n",
       "  <tbody>\n",
       "    <tr>\n",
       "      <th>0</th>\n",
       "      <td>Households with Internet access</td>\n",
       "      <td>2022</td>\n",
       "      <td>Broadband</td>\n",
       "      <td>Ireland</td>\n",
       "      <td>Number</td>\n",
       "      <td>1457883</td>\n",
       "    </tr>\n",
       "    <tr>\n",
       "      <th>1</th>\n",
       "      <td>Households with Internet access</td>\n",
       "      <td>2022</td>\n",
       "      <td>Broadband</td>\n",
       "      <td>Border</td>\n",
       "      <td>Number</td>\n",
       "      <td>116928</td>\n",
       "    </tr>\n",
       "    <tr>\n",
       "      <th>2</th>\n",
       "      <td>Households with Internet access</td>\n",
       "      <td>2022</td>\n",
       "      <td>Broadband</td>\n",
       "      <td>West</td>\n",
       "      <td>Number</td>\n",
       "      <td>134086</td>\n",
       "    </tr>\n",
       "    <tr>\n",
       "      <th>3</th>\n",
       "      <td>Households with Internet access</td>\n",
       "      <td>2022</td>\n",
       "      <td>Broadband</td>\n",
       "      <td>Mid-West</td>\n",
       "      <td>Number</td>\n",
       "      <td>137622</td>\n",
       "    </tr>\n",
       "    <tr>\n",
       "      <th>4</th>\n",
       "      <td>Households with Internet access</td>\n",
       "      <td>2022</td>\n",
       "      <td>Broadband</td>\n",
       "      <td>South-East</td>\n",
       "      <td>Number</td>\n",
       "      <td>124415</td>\n",
       "    </tr>\n",
       "  </tbody>\n",
       "</table>\n",
       "</div>"
      ],
      "text/plain": [
       "                   Statistic Label  Census Year   Internet Name of Region  \\\n",
       "0  Households with Internet access         2022  Broadband        Ireland   \n",
       "1  Households with Internet access         2022  Broadband         Border   \n",
       "2  Households with Internet access         2022  Broadband           West   \n",
       "3  Households with Internet access         2022  Broadband       Mid-West   \n",
       "4  Households with Internet access         2022  Broadband     South-East   \n",
       "\n",
       "     UNIT  Households with Internet access  \n",
       "0  Number                          1457883  \n",
       "1  Number                           116928  \n",
       "2  Number                           134086  \n",
       "3  Number                           137622  \n",
       "4  Number                           124415  "
      ]
     },
     "execution_count": 83,
     "metadata": {},
     "output_type": "execute_result"
    }
   ],
   "source": [
    "#renaming column 'VALUE' and checking the result\n",
    "df_it22 = df_it22.rename(columns={'VALUE': 'Households with Internet access'})\n",
    "df_it22.head()"
   ]
  },
  {
   "cell_type": "code",
   "execution_count": 84,
   "id": "06f6c618",
   "metadata": {
    "scrolled": false
   },
   "outputs": [
    {
     "data": {
      "text/plain": [
       "array(['Ireland', 'Border', 'West', 'Mid-West', 'South-East',\n",
       "       'South-West', 'Dublin', 'Mid-East', 'Midlands'], dtype=object)"
      ]
     },
     "execution_count": 84,
     "metadata": {},
     "output_type": "execute_result"
    }
   ],
   "source": [
    "#checking regions to be from the same range with other files \n",
    "df_it22[\"Name of Region\"].unique()"
   ]
  },
  {
   "cell_type": "markdown",
   "id": "cba8970b",
   "metadata": {},
   "source": [
    "# 5. Creating 1 DataFrame and exporting it in the csv file \"SAP.csv\""
   ]
  },
  {
   "cell_type": "code",
   "execution_count": 85,
   "id": "21b2e397",
   "metadata": {
    "scrolled": true
   },
   "outputs": [
    {
     "name": "stdout",
     "output_type": "stream",
     "text": [
      "<class 'pandas.core.frame.DataFrame'>\n",
      "RangeIndex: 170 entries, 0 to 169\n",
      "Data columns (total 6 columns):\n",
      " #   Column                           Non-Null Count  Dtype \n",
      "---  ------                           --------------  ----- \n",
      " 0   Statistic Label                  170 non-null    object\n",
      " 1   Census Year                      170 non-null    int64 \n",
      " 2   Internet                         170 non-null    object\n",
      " 3   Name of Region                   170 non-null    object\n",
      " 4   UNIT                             170 non-null    object\n",
      " 5   Households with Internet access  170 non-null    int64 \n",
      "dtypes: int64(2), object(4)\n",
      "memory usage: 8.1+ KB\n"
     ]
    }
   ],
   "source": [
    "#checking nr of rows in the 1st dataset\n",
    "df_it11.info()"
   ]
  },
  {
   "cell_type": "code",
   "execution_count": 86,
   "id": "8d1a7f95",
   "metadata": {},
   "outputs": [
    {
     "name": "stdout",
     "output_type": "stream",
     "text": [
      "<class 'pandas.core.frame.DataFrame'>\n",
      "RangeIndex: 155 entries, 0 to 154\n",
      "Data columns (total 6 columns):\n",
      " #   Column                           Non-Null Count  Dtype \n",
      "---  ------                           --------------  ----- \n",
      " 0   Statistic Label                  155 non-null    object\n",
      " 1   Census Year                      155 non-null    int64 \n",
      " 2   Internet                         155 non-null    object\n",
      " 3   Name of Region                   155 non-null    object\n",
      " 4   UNIT                             155 non-null    object\n",
      " 5   Households with Internet access  155 non-null    int64 \n",
      "dtypes: int64(2), object(4)\n",
      "memory usage: 7.4+ KB\n"
     ]
    }
   ],
   "source": [
    "#checking nr of rows in the 2nd dataset\n",
    "\n",
    "df_it16.info()"
   ]
  },
  {
   "cell_type": "code",
   "execution_count": 87,
   "id": "97051ae4",
   "metadata": {},
   "outputs": [
    {
     "name": "stdout",
     "output_type": "stream",
     "text": [
      "<class 'pandas.core.frame.DataFrame'>\n",
      "RangeIndex: 45 entries, 0 to 44\n",
      "Data columns (total 6 columns):\n",
      " #   Column                           Non-Null Count  Dtype \n",
      "---  ------                           --------------  ----- \n",
      " 0   Statistic Label                  45 non-null     object\n",
      " 1   Census Year                      45 non-null     int64 \n",
      " 2   Internet                         45 non-null     object\n",
      " 3   Name of Region                   45 non-null     object\n",
      " 4   UNIT                             45 non-null     object\n",
      " 5   Households with Internet access  45 non-null     int64 \n",
      "dtypes: int64(2), object(4)\n",
      "memory usage: 2.2+ KB\n"
     ]
    }
   ],
   "source": [
    "#checking nr of rows in the 3rd dataset\n",
    "\n",
    "df_it22.info()"
   ]
  },
  {
   "cell_type": "code",
   "execution_count": 88,
   "id": "6f0eacf0",
   "metadata": {},
   "outputs": [
    {
     "data": {
      "text/plain": [
       "370"
      ]
     },
     "execution_count": 88,
     "metadata": {},
     "output_type": "execute_result"
    }
   ],
   "source": [
    "#brief calc for expected result\n",
    "170+155+45"
   ]
  },
  {
   "cell_type": "code",
   "execution_count": 89,
   "id": "748daed3",
   "metadata": {
    "scrolled": true
   },
   "outputs": [
    {
     "name": "stdout",
     "output_type": "stream",
     "text": [
      "<class 'pandas.core.frame.DataFrame'>\n",
      "RangeIndex: 370 entries, 0 to 369\n",
      "Data columns (total 6 columns):\n",
      " #   Column                           Non-Null Count  Dtype \n",
      "---  ------                           --------------  ----- \n",
      " 0   Statistic Label                  370 non-null    object\n",
      " 1   Census Year                      370 non-null    int64 \n",
      " 2   Internet                         370 non-null    object\n",
      " 3   Name of Region                   370 non-null    object\n",
      " 4   UNIT                             370 non-null    object\n",
      " 5   Households with Internet access  370 non-null    int64 \n",
      "dtypes: int64(2), object(4)\n",
      "memory usage: 17.5+ KB\n"
     ]
    }
   ],
   "source": [
    "#applying concatination for all 3 DataFrames\n",
    "df_it = pd.concat([df_it11, df_it16,df_it22], ignore_index=True)\n",
    "df_it.info()"
   ]
  },
  {
   "cell_type": "code",
   "execution_count": 90,
   "id": "e1c59eec",
   "metadata": {},
   "outputs": [
    {
     "data": {
      "text/plain": [
       "array(['South-East', 'Dublin', 'Mid-East', 'Midlands', 'Border',\n",
       "       'Mid-West', 'South-West', 'West', 'Ireland'], dtype=object)"
      ]
     },
     "execution_count": 90,
     "metadata": {},
     "output_type": "execute_result"
    }
   ],
   "source": [
    "#Cheking if there is no mistakes or misspellings in the regions names\n",
    "df_it[\"Name of Region\"].unique()"
   ]
  },
  {
   "cell_type": "code",
   "execution_count": 91,
   "id": "7759cbd2",
   "metadata": {},
   "outputs": [],
   "source": [
    "# Group the DataFrame by the all columns except Value\n",
    "#Rational: to have 1 row/value for each group of categories\n",
    "df_grouped = df_it.groupby(['Statistic Label', 'Census Year', 'Internet', 'Name of Region', 'UNIT'])"
   ]
  },
  {
   "cell_type": "code",
   "execution_count": 92,
   "id": "7517a041",
   "metadata": {},
   "outputs": [],
   "source": [
    "# Aggregate the data in each group by summarising values in each group\n",
    "df_grouped = df_grouped.agg({'Households with Internet access': 'sum'})"
   ]
  },
  {
   "cell_type": "code",
   "execution_count": 93,
   "id": "79290a7f",
   "metadata": {
    "scrolled": true
   },
   "outputs": [
    {
     "name": "stdout",
     "output_type": "stream",
     "text": [
      "<class 'pandas.core.frame.DataFrame'>\n",
      "RangeIndex: 125 entries, 0 to 124\n",
      "Data columns (total 6 columns):\n",
      " #   Column                           Non-Null Count  Dtype \n",
      "---  ------                           --------------  ----- \n",
      " 0   Statistic Label                  125 non-null    object\n",
      " 1   Census Year                      125 non-null    int64 \n",
      " 2   Internet                         125 non-null    object\n",
      " 3   Name of Region                   125 non-null    object\n",
      " 4   UNIT                             125 non-null    object\n",
      " 5   Households with Internet access  125 non-null    int64 \n",
      "dtypes: int64(2), object(4)\n",
      "memory usage: 6.0+ KB\n"
     ]
    }
   ],
   "source": [
    "# Reset the indexes of the grouped DataFrame\n",
    "df_grouped = df_grouped.reset_index()\n",
    "df_grouped.info()"
   ]
  },
  {
   "cell_type": "code",
   "execution_count": 94,
   "id": "bb90f76e",
   "metadata": {},
   "outputs": [
    {
     "data": {
      "text/html": [
       "<div>\n",
       "<style scoped>\n",
       "    .dataframe tbody tr th:only-of-type {\n",
       "        vertical-align: middle;\n",
       "    }\n",
       "\n",
       "    .dataframe tbody tr th {\n",
       "        vertical-align: top;\n",
       "    }\n",
       "\n",
       "    .dataframe thead th {\n",
       "        text-align: right;\n",
       "    }\n",
       "</style>\n",
       "<table border=\"1\" class=\"dataframe\">\n",
       "  <thead>\n",
       "    <tr style=\"text-align: right;\">\n",
       "      <th></th>\n",
       "      <th>Statistic Label</th>\n",
       "      <th>Census Year</th>\n",
       "      <th>Internet</th>\n",
       "      <th>Name of Region</th>\n",
       "      <th>UNIT</th>\n",
       "      <th>Households with Internet access</th>\n",
       "    </tr>\n",
       "  </thead>\n",
       "  <tbody>\n",
       "    <tr>\n",
       "      <th>90</th>\n",
       "      <td>Households with Internet access</td>\n",
       "      <td>2022</td>\n",
       "      <td>No</td>\n",
       "      <td>Dublin</td>\n",
       "      <td>Number</td>\n",
       "      <td>25732</td>\n",
       "    </tr>\n",
       "    <tr>\n",
       "      <th>99</th>\n",
       "      <td>Households with Internet access</td>\n",
       "      <td>2022</td>\n",
       "      <td>Not stated</td>\n",
       "      <td>Dublin</td>\n",
       "      <td>Number</td>\n",
       "      <td>48808</td>\n",
       "    </tr>\n",
       "    <tr>\n",
       "      <th>87</th>\n",
       "      <td>Households with Internet access</td>\n",
       "      <td>2022</td>\n",
       "      <td>Broadband</td>\n",
       "      <td>South-West</td>\n",
       "      <td>Number</td>\n",
       "      <td>208255</td>\n",
       "    </tr>\n",
       "    <tr>\n",
       "      <th>24</th>\n",
       "      <td>Households with Internet access</td>\n",
       "      <td>2011</td>\n",
       "      <td>Other</td>\n",
       "      <td>Border</td>\n",
       "      <td>Number</td>\n",
       "      <td>15803</td>\n",
       "    </tr>\n",
       "    <tr>\n",
       "      <th>17</th>\n",
       "      <td>Households with Internet access</td>\n",
       "      <td>2011</td>\n",
       "      <td>Not Stated</td>\n",
       "      <td>Dublin</td>\n",
       "      <td>Number</td>\n",
       "      <td>12359</td>\n",
       "    </tr>\n",
       "    <tr>\n",
       "      <th>4</th>\n",
       "      <td>Households with Internet access</td>\n",
       "      <td>2011</td>\n",
       "      <td>Broadband</td>\n",
       "      <td>Midlands</td>\n",
       "      <td>Number</td>\n",
       "      <td>55102</td>\n",
       "    </tr>\n",
       "    <tr>\n",
       "      <th>106</th>\n",
       "      <td>Households with Internet access</td>\n",
       "      <td>2022</td>\n",
       "      <td>Not stated</td>\n",
       "      <td>West</td>\n",
       "      <td>Number</td>\n",
       "      <td>13423</td>\n",
       "    </tr>\n",
       "    <tr>\n",
       "      <th>33</th>\n",
       "      <td>Households with Internet access</td>\n",
       "      <td>2011</td>\n",
       "      <td>Total</td>\n",
       "      <td>Dublin</td>\n",
       "      <td>Number</td>\n",
       "      <td>466461</td>\n",
       "    </tr>\n",
       "    <tr>\n",
       "      <th>54</th>\n",
       "      <td>Households with Internet access</td>\n",
       "      <td>2016</td>\n",
       "      <td>No</td>\n",
       "      <td>South-West</td>\n",
       "      <td>Number</td>\n",
       "      <td>50240</td>\n",
       "    </tr>\n",
       "    <tr>\n",
       "      <th>27</th>\n",
       "      <td>Households with Internet access</td>\n",
       "      <td>2011</td>\n",
       "      <td>Other</td>\n",
       "      <td>Mid-West</td>\n",
       "      <td>Number</td>\n",
       "      <td>13425</td>\n",
       "    </tr>\n",
       "    <tr>\n",
       "      <th>67</th>\n",
       "      <td>Households with Internet access</td>\n",
       "      <td>2016</td>\n",
       "      <td>Other</td>\n",
       "      <td>Mid-West</td>\n",
       "      <td>Number</td>\n",
       "      <td>17845</td>\n",
       "    </tr>\n",
       "    <tr>\n",
       "      <th>50</th>\n",
       "      <td>Households with Internet access</td>\n",
       "      <td>2016</td>\n",
       "      <td>No</td>\n",
       "      <td>Mid-East</td>\n",
       "      <td>Number</td>\n",
       "      <td>27291</td>\n",
       "    </tr>\n",
       "    <tr>\n",
       "      <th>85</th>\n",
       "      <td>Households with Internet access</td>\n",
       "      <td>2022</td>\n",
       "      <td>Broadband</td>\n",
       "      <td>Midlands</td>\n",
       "      <td>Number</td>\n",
       "      <td>84166</td>\n",
       "    </tr>\n",
       "    <tr>\n",
       "      <th>102</th>\n",
       "      <td>Households with Internet access</td>\n",
       "      <td>2022</td>\n",
       "      <td>Not stated</td>\n",
       "      <td>Mid-West</td>\n",
       "      <td>Number</td>\n",
       "      <td>16579</td>\n",
       "    </tr>\n",
       "    <tr>\n",
       "      <th>97</th>\n",
       "      <td>Households with Internet access</td>\n",
       "      <td>2022</td>\n",
       "      <td>No</td>\n",
       "      <td>West</td>\n",
       "      <td>Number</td>\n",
       "      <td>19818</td>\n",
       "    </tr>\n",
       "  </tbody>\n",
       "</table>\n",
       "</div>"
      ],
      "text/plain": [
       "                     Statistic Label  Census Year    Internet Name of Region  \\\n",
       "90   Households with Internet access         2022          No         Dublin   \n",
       "99   Households with Internet access         2022  Not stated         Dublin   \n",
       "87   Households with Internet access         2022   Broadband     South-West   \n",
       "24   Households with Internet access         2011       Other         Border   \n",
       "17   Households with Internet access         2011  Not Stated         Dublin   \n",
       "4    Households with Internet access         2011   Broadband       Midlands   \n",
       "106  Households with Internet access         2022  Not stated           West   \n",
       "33   Households with Internet access         2011       Total         Dublin   \n",
       "54   Households with Internet access         2016          No     South-West   \n",
       "27   Households with Internet access         2011       Other       Mid-West   \n",
       "67   Households with Internet access         2016       Other       Mid-West   \n",
       "50   Households with Internet access         2016          No       Mid-East   \n",
       "85   Households with Internet access         2022   Broadband       Midlands   \n",
       "102  Households with Internet access         2022  Not stated       Mid-West   \n",
       "97   Households with Internet access         2022          No           West   \n",
       "\n",
       "       UNIT  Households with Internet access  \n",
       "90   Number                            25732  \n",
       "99   Number                            48808  \n",
       "87   Number                           208255  \n",
       "24   Number                            15803  \n",
       "17   Number                            12359  \n",
       "4    Number                            55102  \n",
       "106  Number                            13423  \n",
       "33   Number                           466461  \n",
       "54   Number                            50240  \n",
       "27   Number                            13425  \n",
       "67   Number                            17845  \n",
       "50   Number                            27291  \n",
       "85   Number                            84166  \n",
       "102  Number                            16579  \n",
       "97   Number                            19818  "
      ]
     },
     "execution_count": 94,
     "metadata": {},
     "output_type": "execute_result"
    }
   ],
   "source": [
    "#selecting random rows for wider observation\n",
    "df_grouped.sample(15)"
   ]
  },
  {
   "cell_type": "code",
   "execution_count": 179,
   "id": "c559cd6c",
   "metadata": {},
   "outputs": [],
   "source": [
    "#Export DataFrame to a csv File\n",
    "df_grouped.to_csv(\"SAP_c.csv\", index = False)"
   ]
  },
  {
   "cell_type": "markdown",
   "id": "bd474673",
   "metadata": {},
   "source": [
    "# 6. Modification for FY004B.csv file\n",
    "#### Private Households number + Number of people in household"
   ]
  },
  {
   "cell_type": "code",
   "execution_count": 162,
   "id": "4b088fe0",
   "metadata": {},
   "outputs": [
    {
     "data": {
      "text/html": [
       "<div>\n",
       "<style scoped>\n",
       "    .dataframe tbody tr th:only-of-type {\n",
       "        vertical-align: middle;\n",
       "    }\n",
       "\n",
       "    .dataframe tbody tr th {\n",
       "        vertical-align: top;\n",
       "    }\n",
       "\n",
       "    .dataframe thead th {\n",
       "        text-align: right;\n",
       "    }\n",
       "</style>\n",
       "<table border=\"1\" class=\"dataframe\">\n",
       "  <thead>\n",
       "    <tr style=\"text-align: right;\">\n",
       "      <th></th>\n",
       "      <th>Statistic Label</th>\n",
       "      <th>CensusYear</th>\n",
       "      <th>County and City</th>\n",
       "      <th>UNIT</th>\n",
       "      <th>VALUE</th>\n",
       "    </tr>\n",
       "  </thead>\n",
       "  <tbody>\n",
       "    <tr>\n",
       "      <th>0</th>\n",
       "      <td>Private households</td>\n",
       "      <td>2011</td>\n",
       "      <td>State</td>\n",
       "      <td>Number</td>\n",
       "      <td>1654208.0</td>\n",
       "    </tr>\n",
       "    <tr>\n",
       "      <th>1</th>\n",
       "      <td>Private households</td>\n",
       "      <td>2011</td>\n",
       "      <td>Carlow</td>\n",
       "      <td>Number</td>\n",
       "      <td>19436.0</td>\n",
       "    </tr>\n",
       "    <tr>\n",
       "      <th>2</th>\n",
       "      <td>Private households</td>\n",
       "      <td>2011</td>\n",
       "      <td>Dublin City</td>\n",
       "      <td>Number</td>\n",
       "      <td>208008.0</td>\n",
       "    </tr>\n",
       "    <tr>\n",
       "      <th>3</th>\n",
       "      <td>Private households</td>\n",
       "      <td>2011</td>\n",
       "      <td>Dún Laoghaire-Rathdown</td>\n",
       "      <td>Number</td>\n",
       "      <td>75819.0</td>\n",
       "    </tr>\n",
       "    <tr>\n",
       "      <th>4</th>\n",
       "      <td>Private households</td>\n",
       "      <td>2011</td>\n",
       "      <td>Fingal</td>\n",
       "      <td>Number</td>\n",
       "      <td>93146.0</td>\n",
       "    </tr>\n",
       "  </tbody>\n",
       "</table>\n",
       "</div>"
      ],
      "text/plain": [
       "      Statistic Label  CensusYear         County and City    UNIT      VALUE\n",
       "0  Private households        2011                   State  Number  1654208.0\n",
       "1  Private households        2011                  Carlow  Number    19436.0\n",
       "2  Private households        2011             Dublin City  Number   208008.0\n",
       "3  Private households        2011  Dún Laoghaire-Rathdown  Number    75819.0\n",
       "4  Private households        2011                  Fingal  Number    93146.0"
      ]
     },
     "execution_count": 162,
     "metadata": {},
     "output_type": "execute_result"
    }
   ],
   "source": [
    "#performing first brief overview and creating new data frame\n",
    "df_aux = pd.read_csv(\"FY004B.csv\")\n",
    "df_aux.head()"
   ]
  },
  {
   "cell_type": "code",
   "execution_count": 163,
   "id": "c734f036",
   "metadata": {},
   "outputs": [
    {
     "name": "stdout",
     "output_type": "stream",
     "text": [
      "<class 'pandas.core.frame.DataFrame'>\n",
      "RangeIndex: 279 entries, 0 to 278\n",
      "Data columns (total 5 columns):\n",
      " #   Column           Non-Null Count  Dtype  \n",
      "---  ------           --------------  -----  \n",
      " 0   Statistic Label  279 non-null    object \n",
      " 1   CensusYear       279 non-null    int64  \n",
      " 2   County and City  279 non-null    object \n",
      " 3   UNIT             279 non-null    object \n",
      " 4   VALUE            279 non-null    float64\n",
      "dtypes: float64(1), int64(1), object(3)\n",
      "memory usage: 11.0+ KB\n"
     ]
    }
   ],
   "source": [
    "df_aux.info()"
   ]
  },
  {
   "cell_type": "code",
   "execution_count": 164,
   "id": "20423d9f",
   "metadata": {},
   "outputs": [
    {
     "data": {
      "text/plain": [
       "array([2011, 2016, 2022], dtype=int64)"
      ]
     },
     "execution_count": 164,
     "metadata": {},
     "output_type": "execute_result"
    }
   ],
   "source": [
    "#checking data by years\n",
    "df_aux.CensusYear.unique()"
   ]
  },
  {
   "cell_type": "code",
   "execution_count": 165,
   "id": "baf692fc",
   "metadata": {},
   "outputs": [
    {
     "data": {
      "text/plain": [
       "array(['Private households', 'Persons in private households',\n",
       "       'Average number of persons in private households'], dtype=object)"
      ]
     },
     "execution_count": 165,
     "metadata": {},
     "output_type": "execute_result"
    }
   ],
   "source": [
    "#checking labels\n",
    "df_aux['Statistic Label'].unique()"
   ]
  },
  {
   "cell_type": "code",
   "execution_count": 166,
   "id": "98563e6d",
   "metadata": {
    "scrolled": true
   },
   "outputs": [
    {
     "data": {
      "text/plain": [
       "array(['State', 'Carlow', 'Dublin City', 'Dún Laoghaire-Rathdown',\n",
       "       'Fingal', 'South Dublin', 'Kildare', 'Kilkenny', 'Laois',\n",
       "       'Longford', 'Louth', 'Meath', 'Offaly', 'Westmeath', 'Wexford',\n",
       "       'Wicklow', 'Clare', 'Cork City and Cork County', 'Kerry',\n",
       "       'Limerick City and County', 'Tipperary',\n",
       "       'Waterford City and County', 'Galway City', 'Galway County',\n",
       "       'Leitrim', 'Mayo', 'Roscommon', 'Sligo', 'Cavan', 'Donegal',\n",
       "       'Monaghan'], dtype=object)"
      ]
     },
     "execution_count": 166,
     "metadata": {},
     "output_type": "execute_result"
    }
   ],
   "source": [
    "#analising regional data\n",
    "df_aux['County and City'].unique()"
   ]
  },
  {
   "cell_type": "code",
   "execution_count": 167,
   "id": "41d94110",
   "metadata": {
    "scrolled": true
   },
   "outputs": [
    {
     "data": {
      "text/html": [
       "<div>\n",
       "<style scoped>\n",
       "    .dataframe tbody tr th:only-of-type {\n",
       "        vertical-align: middle;\n",
       "    }\n",
       "\n",
       "    .dataframe tbody tr th {\n",
       "        vertical-align: top;\n",
       "    }\n",
       "\n",
       "    .dataframe thead th {\n",
       "        text-align: right;\n",
       "    }\n",
       "</style>\n",
       "<table border=\"1\" class=\"dataframe\">\n",
       "  <thead>\n",
       "    <tr style=\"text-align: right;\">\n",
       "      <th></th>\n",
       "      <th>Statistic Label</th>\n",
       "      <th>CensusYear</th>\n",
       "      <th>County</th>\n",
       "      <th>UNIT</th>\n",
       "      <th>VALUE</th>\n",
       "    </tr>\n",
       "  </thead>\n",
       "  <tbody>\n",
       "    <tr>\n",
       "      <th>0</th>\n",
       "      <td>Private households</td>\n",
       "      <td>2011</td>\n",
       "      <td>State</td>\n",
       "      <td>Number</td>\n",
       "      <td>1654208.0</td>\n",
       "    </tr>\n",
       "    <tr>\n",
       "      <th>1</th>\n",
       "      <td>Private households</td>\n",
       "      <td>2011</td>\n",
       "      <td>Carlow</td>\n",
       "      <td>Number</td>\n",
       "      <td>19436.0</td>\n",
       "    </tr>\n",
       "    <tr>\n",
       "      <th>2</th>\n",
       "      <td>Private households</td>\n",
       "      <td>2011</td>\n",
       "      <td>Dublin City</td>\n",
       "      <td>Number</td>\n",
       "      <td>208008.0</td>\n",
       "    </tr>\n",
       "    <tr>\n",
       "      <th>3</th>\n",
       "      <td>Private households</td>\n",
       "      <td>2011</td>\n",
       "      <td>Dún Laoghaire-Rathdown</td>\n",
       "      <td>Number</td>\n",
       "      <td>75819.0</td>\n",
       "    </tr>\n",
       "    <tr>\n",
       "      <th>4</th>\n",
       "      <td>Private households</td>\n",
       "      <td>2011</td>\n",
       "      <td>Fingal</td>\n",
       "      <td>Number</td>\n",
       "      <td>93146.0</td>\n",
       "    </tr>\n",
       "  </tbody>\n",
       "</table>\n",
       "</div>"
      ],
      "text/plain": [
       "      Statistic Label  CensusYear                  County    UNIT      VALUE\n",
       "0  Private households        2011                   State  Number  1654208.0\n",
       "1  Private households        2011                  Carlow  Number    19436.0\n",
       "2  Private households        2011             Dublin City  Number   208008.0\n",
       "3  Private households        2011  Dún Laoghaire-Rathdown  Number    75819.0\n",
       "4  Private households        2011                  Fingal  Number    93146.0"
      ]
     },
     "execution_count": 167,
     "metadata": {},
     "output_type": "execute_result"
    }
   ],
   "source": [
    "# renaming column 'County and City' in order to use created function with no errors\n",
    "df_aux = df_aux.rename(columns={'County and City': 'County'})\n",
    "df_aux.head()"
   ]
  },
  {
   "cell_type": "markdown",
   "id": "cc23aea1",
   "metadata": {},
   "source": [
    "**As soon as we have a couple of combinations with City, County words, the function 'remove_word' will be applied step by step.**"
   ]
  },
  {
   "cell_type": "code",
   "execution_count": 168,
   "id": "0acbfdb4",
   "metadata": {},
   "outputs": [
    {
     "data": {
      "text/plain": [
       "array(['State', 'Carlow', 'Dublin City', 'Dún Laoghaire-Rathdown',\n",
       "       'Fingal', 'South Dublin', 'Kildare', 'Kilkenny', 'Laois',\n",
       "       'Longford', 'Louth', 'Meath', 'Offaly', 'Westmeath', 'Wexford',\n",
       "       'Wicklow', 'Clare', 'Cork', 'Kerry', 'Limerick City and County',\n",
       "       'Tipperary', 'Waterford City and County', 'Galway City',\n",
       "       'Galway County', 'Leitrim', 'Mayo', 'Roscommon', 'Sligo', 'Cavan',\n",
       "       'Donegal', 'Monaghan'], dtype=object)"
      ]
     },
     "execution_count": 168,
     "metadata": {},
     "output_type": "execute_result"
    }
   ],
   "source": [
    "df_aux = remove_word(df_aux, \"City and Cork County\")\n",
    "df_aux.County.unique()"
   ]
  },
  {
   "cell_type": "code",
   "execution_count": 169,
   "id": "25d73097",
   "metadata": {},
   "outputs": [
    {
     "data": {
      "text/plain": [
       "array(['State', 'Carlow', 'Dublin City', 'Dún Laoghaire-Rathdown',\n",
       "       'Fingal', 'South Dublin', 'Kildare', 'Kilkenny', 'Laois',\n",
       "       'Longford', 'Louth', 'Meath', 'Offaly', 'Westmeath', 'Wexford',\n",
       "       'Wicklow', 'Clare', 'Cork', 'Kerry', 'Limerick', 'Tipperary',\n",
       "       'Waterford', 'Galway City', 'Galway County', 'Leitrim', 'Mayo',\n",
       "       'Roscommon', 'Sligo', 'Cavan', 'Donegal', 'Monaghan'], dtype=object)"
      ]
     },
     "execution_count": 169,
     "metadata": {},
     "output_type": "execute_result"
    }
   ],
   "source": [
    "df_aux = remove_word(df_aux, \"City and County\")\n",
    "df_aux.County.unique()"
   ]
  },
  {
   "cell_type": "code",
   "execution_count": 170,
   "id": "42b3b4f4",
   "metadata": {
    "scrolled": true
   },
   "outputs": [
    {
     "data": {
      "text/plain": [
       "array(['State', 'Carlow', 'Dublin', 'Dún Laoghaire-Rathdown', 'Fingal',\n",
       "       'South Dublin', 'Kildare', 'Kilkenny', 'Laois', 'Longford',\n",
       "       'Louth', 'Meath', 'Offaly', 'Westmeath', 'Wexford', 'Wicklow',\n",
       "       'Clare', 'Cork', 'Kerry', 'Limerick', 'Tipperary', 'Waterford',\n",
       "       'Galway', 'Leitrim', 'Mayo', 'Roscommon', 'Sligo', 'Cavan',\n",
       "       'Donegal', 'Monaghan'], dtype=object)"
      ]
     },
     "execution_count": 170,
     "metadata": {},
     "output_type": "execute_result"
    }
   ],
   "source": [
    "df_aux = remove_word(df_aux, \"City\")\n",
    "df_aux = remove_word(df_aux, \"County\")\n",
    "df_aux.County.unique()"
   ]
  },
  {
   "cell_type": "markdown",
   "id": "e32c59f1",
   "metadata": {},
   "source": [
    "**unifying columns names with the SAP dataframe**"
   ]
  },
  {
   "cell_type": "code",
   "execution_count": 171,
   "id": "60917808",
   "metadata": {},
   "outputs": [
    {
     "data": {
      "text/html": [
       "<div>\n",
       "<style scoped>\n",
       "    .dataframe tbody tr th:only-of-type {\n",
       "        vertical-align: middle;\n",
       "    }\n",
       "\n",
       "    .dataframe tbody tr th {\n",
       "        vertical-align: top;\n",
       "    }\n",
       "\n",
       "    .dataframe thead th {\n",
       "        text-align: right;\n",
       "    }\n",
       "</style>\n",
       "<table border=\"1\" class=\"dataframe\">\n",
       "  <thead>\n",
       "    <tr style=\"text-align: right;\">\n",
       "      <th></th>\n",
       "      <th>Statistic Label</th>\n",
       "      <th>CensusYear</th>\n",
       "      <th>County</th>\n",
       "      <th>UNIT</th>\n",
       "      <th>VALUE</th>\n",
       "      <th>Region</th>\n",
       "    </tr>\n",
       "  </thead>\n",
       "  <tbody>\n",
       "    <tr>\n",
       "      <th>0</th>\n",
       "      <td>Private households</td>\n",
       "      <td>2011</td>\n",
       "      <td>State</td>\n",
       "      <td>Number</td>\n",
       "      <td>1654208.0</td>\n",
       "      <td>State</td>\n",
       "    </tr>\n",
       "    <tr>\n",
       "      <th>1</th>\n",
       "      <td>Private households</td>\n",
       "      <td>2011</td>\n",
       "      <td>Carlow</td>\n",
       "      <td>Number</td>\n",
       "      <td>19436.0</td>\n",
       "      <td>South-East</td>\n",
       "    </tr>\n",
       "    <tr>\n",
       "      <th>2</th>\n",
       "      <td>Private households</td>\n",
       "      <td>2011</td>\n",
       "      <td>Dublin</td>\n",
       "      <td>Number</td>\n",
       "      <td>208008.0</td>\n",
       "      <td>Dublin</td>\n",
       "    </tr>\n",
       "    <tr>\n",
       "      <th>3</th>\n",
       "      <td>Private households</td>\n",
       "      <td>2011</td>\n",
       "      <td>Dún Laoghaire-Rathdown</td>\n",
       "      <td>Number</td>\n",
       "      <td>75819.0</td>\n",
       "      <td>Dublin</td>\n",
       "    </tr>\n",
       "    <tr>\n",
       "      <th>4</th>\n",
       "      <td>Private households</td>\n",
       "      <td>2011</td>\n",
       "      <td>Fingal</td>\n",
       "      <td>Number</td>\n",
       "      <td>93146.0</td>\n",
       "      <td>Dublin</td>\n",
       "    </tr>\n",
       "  </tbody>\n",
       "</table>\n",
       "</div>"
      ],
      "text/plain": [
       "      Statistic Label  CensusYear                  County    UNIT      VALUE  \\\n",
       "0  Private households        2011                   State  Number  1654208.0   \n",
       "1  Private households        2011                  Carlow  Number    19436.0   \n",
       "2  Private households        2011                  Dublin  Number   208008.0   \n",
       "3  Private households        2011  Dún Laoghaire-Rathdown  Number    75819.0   \n",
       "4  Private households        2011                  Fingal  Number    93146.0   \n",
       "\n",
       "       Region  \n",
       "0       State  \n",
       "1  South-East  \n",
       "2      Dublin  \n",
       "3      Dublin  \n",
       "4      Dublin  "
      ]
     },
     "execution_count": 171,
     "metadata": {},
     "output_type": "execute_result"
    }
   ],
   "source": [
    "df_aux = create_region_column(df_aux, df_reg)\n",
    "df_aux.head()"
   ]
  },
  {
   "cell_type": "code",
   "execution_count": 172,
   "id": "a2acd68a",
   "metadata": {},
   "outputs": [],
   "source": [
    "df_aux[\"County\"] = df_aux[\"Region\"]\n",
    "df_aux = df_aux.rename(columns={'County': 'Name of Region'})\n",
    "df_aux = df_aux.drop(columns=[\"Region\"])"
   ]
  },
  {
   "cell_type": "code",
   "execution_count": 180,
   "id": "8081b457",
   "metadata": {},
   "outputs": [
    {
     "data": {
      "text/plain": [
       "array(['State', 'South-East', 'Dublin', 'Mid-East', 'Midlands', 'Border',\n",
       "       'Mid-West', 'South-West', 'West'], dtype=object)"
      ]
     },
     "execution_count": 180,
     "metadata": {},
     "output_type": "execute_result"
    }
   ],
   "source": [
    "df_aux['Name of Region'].unique()"
   ]
  },
  {
   "cell_type": "markdown",
   "id": "b695ff52",
   "metadata": {},
   "source": [
    "Here we hava 'State', reflecting value for the country and for better readability and unification will rename it in 'Ireland'"
   ]
  },
  {
   "cell_type": "code",
   "execution_count": 181,
   "id": "1e698965",
   "metadata": {},
   "outputs": [],
   "source": [
    "df_aux = df_aux.replace('State', 'Ireland')"
   ]
  },
  {
   "cell_type": "markdown",
   "id": "df196d4f",
   "metadata": {},
   "source": [
    "**Splitting Values foe statistic labels**\n",
    "* removing uneecessary data with 'Average number of persons in private households' label\n",
    "* create 2 additional column with names from according label value name. I.e. 'Private households' and 'Persons in private households'. \n",
    "* Inserting according value to each row"
   ]
  },
  {
   "cell_type": "code",
   "execution_count": 182,
   "id": "4f9e8e86",
   "metadata": {},
   "outputs": [
    {
     "data": {
      "text/plain": [
       "array(['Private households', 'Persons in private households'],\n",
       "      dtype=object)"
      ]
     },
     "execution_count": 182,
     "metadata": {},
     "output_type": "execute_result"
    }
   ],
   "source": [
    "df_aux = df_aux.drop(df_aux[(df_aux[\"Statistic Label\"] == 'Average number of persons in private households')].index)\n",
    "df_aux['Statistic Label'].unique()"
   ]
  },
  {
   "cell_type": "code",
   "execution_count": 175,
   "id": "bb78073b",
   "metadata": {},
   "outputs": [
    {
     "name": "stdout",
     "output_type": "stream",
     "text": [
      "<class 'pandas.core.frame.DataFrame'>\n",
      "RangeIndex: 186 entries, 0 to 185\n",
      "Data columns (total 5 columns):\n",
      " #   Column           Non-Null Count  Dtype  \n",
      "---  ------           --------------  -----  \n",
      " 0   Statistic Label  186 non-null    object \n",
      " 1   CensusYear       186 non-null    int64  \n",
      " 2   Name of Region   186 non-null    object \n",
      " 3   UNIT             186 non-null    object \n",
      " 4   VALUE            186 non-null    float64\n",
      "dtypes: float64(1), int64(1), object(3)\n",
      "memory usage: 7.4+ KB\n"
     ]
    }
   ],
   "source": [
    "df_aux.info()"
   ]
  },
  {
   "cell_type": "code",
   "execution_count": 183,
   "id": "42e4e7c3",
   "metadata": {},
   "outputs": [],
   "source": [
    "#Export DataFrame to a csv File\n",
    "df_aux.to_csv(\"FY004B_c.csv\", index = False)"
   ]
  }
 ],
 "metadata": {
  "kernelspec": {
   "display_name": "Python 3 (ipykernel)",
   "language": "python",
   "name": "python3"
  },
  "language_info": {
   "codemirror_mode": {
    "name": "ipython",
    "version": 3
   },
   "file_extension": ".py",
   "mimetype": "text/x-python",
   "name": "python",
   "nbconvert_exporter": "python",
   "pygments_lexer": "ipython3",
   "version": "3.11.4"
  }
 },
 "nbformat": 4,
 "nbformat_minor": 5
}
