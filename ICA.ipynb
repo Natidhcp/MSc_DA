{
 "cells": [
  {
   "cell_type": "code",
   "execution_count": 38,
   "id": "68ba6fa6",
   "metadata": {},
   "outputs": [],
   "source": [
    "##IMPORTING LIBRARIES\n",
    "import pandas as pd\n",
    "import statistics as stats\n",
    "import numpy as np\n",
    "import matplotlib.pyplot as plt\n",
    "import seaborn as sns\n",
    "\n",
    "# Suppress the warnings\n",
    "import warnings\n",
    "warnings.filterwarnings('ignore')"
   ]
  },
  {
   "cell_type": "code",
   "execution_count": 39,
   "id": "a038d402",
   "metadata": {
    "scrolled": false
   },
   "outputs": [
    {
     "data": {
      "text/html": [
       "<div>\n",
       "<style scoped>\n",
       "    .dataframe tbody tr th:only-of-type {\n",
       "        vertical-align: middle;\n",
       "    }\n",
       "\n",
       "    .dataframe tbody tr th {\n",
       "        vertical-align: top;\n",
       "    }\n",
       "\n",
       "    .dataframe thead th {\n",
       "        text-align: right;\n",
       "    }\n",
       "</style>\n",
       "<table border=\"1\" class=\"dataframe\">\n",
       "  <thead>\n",
       "    <tr style=\"text-align: right;\">\n",
       "      <th></th>\n",
       "      <th>Region</th>\n",
       "      <th>Year</th>\n",
       "      <th>Statistic Label</th>\n",
       "      <th>UNIT</th>\n",
       "      <th>VALUE</th>\n",
       "    </tr>\n",
       "  </thead>\n",
       "  <tbody>\n",
       "    <tr>\n",
       "      <th>0</th>\n",
       "      <td>State</td>\n",
       "      <td>2007</td>\n",
       "      <td>Households with Computer</td>\n",
       "      <td>%</td>\n",
       "      <td>65.0</td>\n",
       "    </tr>\n",
       "    <tr>\n",
       "      <th>1</th>\n",
       "      <td>State</td>\n",
       "      <td>2007</td>\n",
       "      <td>Households with Computer Unweighted Sample</td>\n",
       "      <td>Number</td>\n",
       "      <td>4361.0</td>\n",
       "    </tr>\n",
       "    <tr>\n",
       "      <th>2</th>\n",
       "      <td>State</td>\n",
       "      <td>2007</td>\n",
       "      <td>Households with Computer connected to the Inte...</td>\n",
       "      <td>%</td>\n",
       "      <td>57.0</td>\n",
       "    </tr>\n",
       "    <tr>\n",
       "      <th>3</th>\n",
       "      <td>State</td>\n",
       "      <td>2007</td>\n",
       "      <td>Households with Computer connected to the Inte...</td>\n",
       "      <td>Number</td>\n",
       "      <td>4361.0</td>\n",
       "    </tr>\n",
       "    <tr>\n",
       "      <th>4</th>\n",
       "      <td>State</td>\n",
       "      <td>2008</td>\n",
       "      <td>Households with Computer</td>\n",
       "      <td>%</td>\n",
       "      <td>70.0</td>\n",
       "    </tr>\n",
       "  </tbody>\n",
       "</table>\n",
       "</div>"
      ],
      "text/plain": [
       "  Region  Year                                    Statistic Label    UNIT  \\\n",
       "0  State  2007                           Households with Computer       %   \n",
       "1  State  2007         Households with Computer Unweighted Sample  Number   \n",
       "2  State  2007  Households with Computer connected to the Inte...       %   \n",
       "3  State  2007  Households with Computer connected to the Inte...  Number   \n",
       "4  State  2008                           Households with Computer       %   \n",
       "\n",
       "    VALUE  \n",
       "0    65.0  \n",
       "1  4361.0  \n",
       "2    57.0  \n",
       "3  4361.0  \n",
       "4    70.0  "
      ]
     },
     "execution_count": 39,
     "metadata": {},
     "output_type": "execute_result"
    }
   ],
   "source": [
    "df_ica1 = pd.read_csv(\"ICA29.csv\")\n",
    "df_ica1.head()"
   ]
  },
  {
   "cell_type": "code",
   "execution_count": 40,
   "id": "152f548e",
   "metadata": {},
   "outputs": [
    {
     "data": {
      "text/plain": [
       "(360, 5)"
      ]
     },
     "execution_count": 40,
     "metadata": {},
     "output_type": "execute_result"
    }
   ],
   "source": [
    "df_ica1.shape"
   ]
  },
  {
   "cell_type": "code",
   "execution_count": 41,
   "id": "1113ac9b",
   "metadata": {},
   "outputs": [
    {
     "data": {
      "text/plain": [
       "array([2007, 2008, 2009, 2010, 2011, 2012, 2013, 2014, 2015, 2016],\n",
       "      dtype=int64)"
      ]
     },
     "execution_count": 41,
     "metadata": {},
     "output_type": "execute_result"
    }
   ],
   "source": [
    "df_ica1.Year.unique()"
   ]
  },
  {
   "cell_type": "code",
   "execution_count": 42,
   "id": "8b2ea7be",
   "metadata": {
    "scrolled": true
   },
   "outputs": [
    {
     "data": {
      "text/html": [
       "<div>\n",
       "<style scoped>\n",
       "    .dataframe tbody tr th:only-of-type {\n",
       "        vertical-align: middle;\n",
       "    }\n",
       "\n",
       "    .dataframe tbody tr th {\n",
       "        vertical-align: top;\n",
       "    }\n",
       "\n",
       "    .dataframe thead th {\n",
       "        text-align: right;\n",
       "    }\n",
       "</style>\n",
       "<table border=\"1\" class=\"dataframe\">\n",
       "  <thead>\n",
       "    <tr style=\"text-align: right;\">\n",
       "      <th></th>\n",
       "      <th>STATISTIC Label</th>\n",
       "      <th>Year</th>\n",
       "      <th>NUTS 3 Region</th>\n",
       "      <th>UNIT</th>\n",
       "      <th>VALUE</th>\n",
       "    </tr>\n",
       "  </thead>\n",
       "  <tbody>\n",
       "    <tr>\n",
       "      <th>0</th>\n",
       "      <td>Households  with internet access</td>\n",
       "      <td>2022</td>\n",
       "      <td>State</td>\n",
       "      <td>%</td>\n",
       "      <td>94</td>\n",
       "    </tr>\n",
       "    <tr>\n",
       "      <th>1</th>\n",
       "      <td>Households  with internet access</td>\n",
       "      <td>2022</td>\n",
       "      <td>Border</td>\n",
       "      <td>%</td>\n",
       "      <td>90</td>\n",
       "    </tr>\n",
       "    <tr>\n",
       "      <th>2</th>\n",
       "      <td>Households  with internet access</td>\n",
       "      <td>2022</td>\n",
       "      <td>Midland</td>\n",
       "      <td>%</td>\n",
       "      <td>93</td>\n",
       "    </tr>\n",
       "    <tr>\n",
       "      <th>3</th>\n",
       "      <td>Households  with internet access</td>\n",
       "      <td>2022</td>\n",
       "      <td>West</td>\n",
       "      <td>%</td>\n",
       "      <td>91</td>\n",
       "    </tr>\n",
       "    <tr>\n",
       "      <th>4</th>\n",
       "      <td>Households  with internet access</td>\n",
       "      <td>2022</td>\n",
       "      <td>Dublin</td>\n",
       "      <td>%</td>\n",
       "      <td>97</td>\n",
       "    </tr>\n",
       "  </tbody>\n",
       "</table>\n",
       "</div>"
      ],
      "text/plain": [
       "                    STATISTIC Label  Year NUTS 3 Region UNIT  VALUE\n",
       "0  Households  with internet access  2022         State    %     94\n",
       "1  Households  with internet access  2022        Border    %     90\n",
       "2  Households  with internet access  2022       Midland    %     93\n",
       "3  Households  with internet access  2022          West    %     91\n",
       "4  Households  with internet access  2022        Dublin    %     97"
      ]
     },
     "execution_count": 42,
     "metadata": {},
     "output_type": "execute_result"
    }
   ],
   "source": [
    "df_ica2 = pd.read_csv(\"ICA172.csv\")\n",
    "df_ica2.head()"
   ]
  },
  {
   "cell_type": "code",
   "execution_count": 43,
   "id": "e698f01e",
   "metadata": {},
   "outputs": [
    {
     "data": {
      "text/plain": [
       "(27, 5)"
      ]
     },
     "execution_count": 43,
     "metadata": {},
     "output_type": "execute_result"
    }
   ],
   "source": [
    "df_ica2.shape"
   ]
  },
  {
   "cell_type": "code",
   "execution_count": 44,
   "id": "c5bfc904",
   "metadata": {},
   "outputs": [
    {
     "data": {
      "text/plain": [
       "array([2022, 2021, 2020], dtype=int64)"
      ]
     },
     "execution_count": 44,
     "metadata": {},
     "output_type": "execute_result"
    }
   ],
   "source": [
    "df_ica2.Year.unique()"
   ]
  },
  {
   "cell_type": "code",
   "execution_count": 45,
   "id": "3cc4103f",
   "metadata": {
    "scrolled": false
   },
   "outputs": [
    {
     "data": {
      "text/html": [
       "<div>\n",
       "<style scoped>\n",
       "    .dataframe tbody tr th:only-of-type {\n",
       "        vertical-align: middle;\n",
       "    }\n",
       "\n",
       "    .dataframe tbody tr th {\n",
       "        vertical-align: top;\n",
       "    }\n",
       "\n",
       "    .dataframe thead th {\n",
       "        text-align: right;\n",
       "    }\n",
       "</style>\n",
       "<table border=\"1\" class=\"dataframe\">\n",
       "  <thead>\n",
       "    <tr style=\"text-align: right;\">\n",
       "      <th></th>\n",
       "      <th>Statistic Label</th>\n",
       "      <th>Year</th>\n",
       "      <th>Region</th>\n",
       "      <th>UNIT</th>\n",
       "      <th>VALUE</th>\n",
       "    </tr>\n",
       "  </thead>\n",
       "  <tbody>\n",
       "    <tr>\n",
       "      <th>0</th>\n",
       "      <td>Households with Computer</td>\n",
       "      <td>2007</td>\n",
       "      <td>State</td>\n",
       "      <td>%</td>\n",
       "      <td>65.0</td>\n",
       "    </tr>\n",
       "    <tr>\n",
       "      <th>1</th>\n",
       "      <td>Households with Computer Unweighted Sample</td>\n",
       "      <td>2007</td>\n",
       "      <td>State</td>\n",
       "      <td>Number</td>\n",
       "      <td>4361.0</td>\n",
       "    </tr>\n",
       "    <tr>\n",
       "      <th>2</th>\n",
       "      <td>Households with Computer connected to the Inte...</td>\n",
       "      <td>2007</td>\n",
       "      <td>State</td>\n",
       "      <td>%</td>\n",
       "      <td>57.0</td>\n",
       "    </tr>\n",
       "    <tr>\n",
       "      <th>3</th>\n",
       "      <td>Households with Computer connected to the Inte...</td>\n",
       "      <td>2007</td>\n",
       "      <td>State</td>\n",
       "      <td>Number</td>\n",
       "      <td>4361.0</td>\n",
       "    </tr>\n",
       "    <tr>\n",
       "      <th>4</th>\n",
       "      <td>Households with Computer</td>\n",
       "      <td>2008</td>\n",
       "      <td>State</td>\n",
       "      <td>%</td>\n",
       "      <td>70.0</td>\n",
       "    </tr>\n",
       "  </tbody>\n",
       "</table>\n",
       "</div>"
      ],
      "text/plain": [
       "                                     Statistic Label  Year Region    UNIT  \\\n",
       "0                           Households with Computer  2007  State       %   \n",
       "1         Households with Computer Unweighted Sample  2007  State  Number   \n",
       "2  Households with Computer connected to the Inte...  2007  State       %   \n",
       "3  Households with Computer connected to the Inte...  2007  State  Number   \n",
       "4                           Households with Computer  2008  State       %   \n",
       "\n",
       "    VALUE  \n",
       "0    65.0  \n",
       "1  4361.0  \n",
       "2    57.0  \n",
       "3  4361.0  \n",
       "4    70.0  "
      ]
     },
     "execution_count": 45,
     "metadata": {},
     "output_type": "execute_result"
    }
   ],
   "source": [
    "#re-order columns \n",
    "df_ica1 = df_ica1[['Statistic Label','Year','Region','UNIT','VALUE']]\n",
    "df_ica1.head()"
   ]
  },
  {
   "cell_type": "code",
   "execution_count": 46,
   "id": "169d390b",
   "metadata": {
    "scrolled": false
   },
   "outputs": [
    {
     "data": {
      "text/html": [
       "<div>\n",
       "<style scoped>\n",
       "    .dataframe tbody tr th:only-of-type {\n",
       "        vertical-align: middle;\n",
       "    }\n",
       "\n",
       "    .dataframe tbody tr th {\n",
       "        vertical-align: top;\n",
       "    }\n",
       "\n",
       "    .dataframe thead th {\n",
       "        text-align: right;\n",
       "    }\n",
       "</style>\n",
       "<table border=\"1\" class=\"dataframe\">\n",
       "  <thead>\n",
       "    <tr style=\"text-align: right;\">\n",
       "      <th></th>\n",
       "      <th>Statistic Label</th>\n",
       "      <th>Year</th>\n",
       "      <th>Region</th>\n",
       "      <th>UNIT</th>\n",
       "      <th>VALUE</th>\n",
       "    </tr>\n",
       "  </thead>\n",
       "  <tbody>\n",
       "    <tr>\n",
       "      <th>0</th>\n",
       "      <td>Households with Computer</td>\n",
       "      <td>2007</td>\n",
       "      <td>State</td>\n",
       "      <td>%</td>\n",
       "      <td>65.0</td>\n",
       "    </tr>\n",
       "    <tr>\n",
       "      <th>1</th>\n",
       "      <td>Households with Computer Unweighted Sample</td>\n",
       "      <td>2007</td>\n",
       "      <td>State</td>\n",
       "      <td>Number</td>\n",
       "      <td>4361.0</td>\n",
       "    </tr>\n",
       "    <tr>\n",
       "      <th>2</th>\n",
       "      <td>Households with Computer connected to the Inte...</td>\n",
       "      <td>2007</td>\n",
       "      <td>State</td>\n",
       "      <td>%</td>\n",
       "      <td>57.0</td>\n",
       "    </tr>\n",
       "    <tr>\n",
       "      <th>3</th>\n",
       "      <td>Households with Computer connected to the Inte...</td>\n",
       "      <td>2007</td>\n",
       "      <td>State</td>\n",
       "      <td>Number</td>\n",
       "      <td>4361.0</td>\n",
       "    </tr>\n",
       "    <tr>\n",
       "      <th>4</th>\n",
       "      <td>Households with Computer</td>\n",
       "      <td>2008</td>\n",
       "      <td>State</td>\n",
       "      <td>%</td>\n",
       "      <td>70.0</td>\n",
       "    </tr>\n",
       "  </tbody>\n",
       "</table>\n",
       "</div>"
      ],
      "text/plain": [
       "                                     Statistic Label  Year Region    UNIT  \\\n",
       "0                           Households with Computer  2007  State       %   \n",
       "1         Households with Computer Unweighted Sample  2007  State  Number   \n",
       "2  Households with Computer connected to the Inte...  2007  State       %   \n",
       "3  Households with Computer connected to the Inte...  2007  State  Number   \n",
       "4                           Households with Computer  2008  State       %   \n",
       "\n",
       "    VALUE  \n",
       "0    65.0  \n",
       "1  4361.0  \n",
       "2    57.0  \n",
       "3  4361.0  \n",
       "4    70.0  "
      ]
     },
     "execution_count": 46,
     "metadata": {},
     "output_type": "execute_result"
    }
   ],
   "source": [
    "df_ica1.head()"
   ]
  },
  {
   "cell_type": "code",
   "execution_count": 47,
   "id": "2e1480c1",
   "metadata": {},
   "outputs": [],
   "source": [
    "df_ica1 = df_ica1.drop(df_ica1[(df_ica1[\"Statistic Label\"] != \"Households with Computer connected to the Internet\")].index)\n"
   ]
  },
  {
   "cell_type": "code",
   "execution_count": 48,
   "id": "aa39d591",
   "metadata": {},
   "outputs": [
    {
     "data": {
      "text/plain": [
       "(90, 5)"
      ]
     },
     "execution_count": 48,
     "metadata": {},
     "output_type": "execute_result"
    }
   ],
   "source": [
    "df_ica1.shape"
   ]
  },
  {
   "cell_type": "code",
   "execution_count": 49,
   "id": "29bfc162",
   "metadata": {},
   "outputs": [
    {
     "data": {
      "text/html": [
       "<div>\n",
       "<style scoped>\n",
       "    .dataframe tbody tr th:only-of-type {\n",
       "        vertical-align: middle;\n",
       "    }\n",
       "\n",
       "    .dataframe tbody tr th {\n",
       "        vertical-align: top;\n",
       "    }\n",
       "\n",
       "    .dataframe thead th {\n",
       "        text-align: right;\n",
       "    }\n",
       "</style>\n",
       "<table border=\"1\" class=\"dataframe\">\n",
       "  <thead>\n",
       "    <tr style=\"text-align: right;\">\n",
       "      <th></th>\n",
       "      <th>STATISTIC Label</th>\n",
       "      <th>Year</th>\n",
       "      <th>NUTS 3 Region</th>\n",
       "      <th>UNIT</th>\n",
       "      <th>VALUE</th>\n",
       "    </tr>\n",
       "  </thead>\n",
       "  <tbody>\n",
       "    <tr>\n",
       "      <th>0</th>\n",
       "      <td>Households  with internet access</td>\n",
       "      <td>2022</td>\n",
       "      <td>State</td>\n",
       "      <td>%</td>\n",
       "      <td>94</td>\n",
       "    </tr>\n",
       "    <tr>\n",
       "      <th>1</th>\n",
       "      <td>Households  with internet access</td>\n",
       "      <td>2022</td>\n",
       "      <td>Border</td>\n",
       "      <td>%</td>\n",
       "      <td>90</td>\n",
       "    </tr>\n",
       "    <tr>\n",
       "      <th>2</th>\n",
       "      <td>Households  with internet access</td>\n",
       "      <td>2022</td>\n",
       "      <td>Midland</td>\n",
       "      <td>%</td>\n",
       "      <td>93</td>\n",
       "    </tr>\n",
       "    <tr>\n",
       "      <th>3</th>\n",
       "      <td>Households  with internet access</td>\n",
       "      <td>2022</td>\n",
       "      <td>West</td>\n",
       "      <td>%</td>\n",
       "      <td>91</td>\n",
       "    </tr>\n",
       "    <tr>\n",
       "      <th>4</th>\n",
       "      <td>Households  with internet access</td>\n",
       "      <td>2022</td>\n",
       "      <td>Dublin</td>\n",
       "      <td>%</td>\n",
       "      <td>97</td>\n",
       "    </tr>\n",
       "  </tbody>\n",
       "</table>\n",
       "</div>"
      ],
      "text/plain": [
       "                    STATISTIC Label  Year NUTS 3 Region UNIT  VALUE\n",
       "0  Households  with internet access  2022         State    %     94\n",
       "1  Households  with internet access  2022        Border    %     90\n",
       "2  Households  with internet access  2022       Midland    %     93\n",
       "3  Households  with internet access  2022          West    %     91\n",
       "4  Households  with internet access  2022        Dublin    %     97"
      ]
     },
     "execution_count": 49,
     "metadata": {},
     "output_type": "execute_result"
    }
   ],
   "source": [
    "df_ica2.head()"
   ]
  },
  {
   "cell_type": "code",
   "execution_count": 50,
   "id": "2dd66eda",
   "metadata": {},
   "outputs": [],
   "source": [
    "df_ica2 = df_ica2.rename(columns={'STATISTIC Label': 'Statistic Label'})\n",
    "df_ica2 = df_ica2.rename(columns={'NUTS 3 Region': 'Region'})"
   ]
  },
  {
   "cell_type": "code",
   "execution_count": 51,
   "id": "e7eb38c4",
   "metadata": {
    "scrolled": false
   },
   "outputs": [
    {
     "name": "stdout",
     "output_type": "stream",
     "text": [
      "<class 'pandas.core.frame.DataFrame'>\n",
      "RangeIndex: 117 entries, 0 to 116\n",
      "Data columns (total 5 columns):\n",
      " #   Column           Non-Null Count  Dtype  \n",
      "---  ------           --------------  -----  \n",
      " 0   Statistic Label  117 non-null    object \n",
      " 1   Year             117 non-null    int64  \n",
      " 2   Region           117 non-null    object \n",
      " 3   UNIT             117 non-null    object \n",
      " 4   VALUE            117 non-null    float64\n",
      "dtypes: float64(1), int64(1), object(3)\n",
      "memory usage: 4.7+ KB\n"
     ]
    }
   ],
   "source": [
    "df_ica = pd.concat([df_ica1, df_ica2], ignore_index=True)\n",
    "df_ica.info()"
   ]
  },
  {
   "cell_type": "code",
   "execution_count": 52,
   "id": "3e4ad9b5",
   "metadata": {},
   "outputs": [],
   "source": [
    "# Sort the DataFrame 'df_pop' by 'year' in ascending order\n",
    "df_ica = df_ica.sort_values(by=['Year'], ascending=True)\n",
    "\n",
    "# Reset the index of the DataFrame 'df_pop'\n",
    "df_ica = df_ica.reset_index(drop=True)"
   ]
  },
  {
   "cell_type": "code",
   "execution_count": 53,
   "id": "280960fc",
   "metadata": {
    "scrolled": true
   },
   "outputs": [
    {
     "data": {
      "text/plain": [
       "(117, 5)"
      ]
     },
     "execution_count": 53,
     "metadata": {},
     "output_type": "execute_result"
    }
   ],
   "source": [
    "df_ica.shape"
   ]
  },
  {
   "cell_type": "code",
   "execution_count": 54,
   "id": "d2a25d63",
   "metadata": {},
   "outputs": [
    {
     "data": {
      "text/plain": [
       "array([2007, 2008, 2009, 2010, 2011, 2012, 2013, 2014, 2015, 2016, 2020,\n",
       "       2021, 2022], dtype=int64)"
      ]
     },
     "execution_count": 54,
     "metadata": {},
     "output_type": "execute_result"
    }
   ],
   "source": [
    "df_ica.Year.unique()"
   ]
  },
  {
   "cell_type": "code",
   "execution_count": 55,
   "id": "f7e2ed34",
   "metadata": {},
   "outputs": [],
   "source": [
    "df_ica.to_csv(\"ICA_m.csv\", index = False)"
   ]
  },
  {
   "cell_type": "markdown",
   "id": "470ff75a",
   "metadata": {},
   "source": [
    "# interpolating NAs"
   ]
  },
  {
   "cell_type": "code",
   "execution_count": 56,
   "id": "8ed42617",
   "metadata": {},
   "outputs": [],
   "source": [
    "df_ica = pd.read_csv(\"ICA_m.csv\")"
   ]
  },
  {
   "cell_type": "code",
   "execution_count": 57,
   "id": "ccdf3d58",
   "metadata": {},
   "outputs": [],
   "source": [
    "# Create a set to store the unique names of the regions\n",
    "region_names = set()\n",
    "\n",
    "# Iterate over the data frame and add each region name to the set\n",
    "for region in df_ica['Region']:\n",
    "    region_names.add(region)\n",
    "\n",
    "# Convert the set to a list\n",
    "unique_region_names = list(region_names)"
   ]
  },
  {
   "cell_type": "code",
   "execution_count": 58,
   "id": "6f3a875b",
   "metadata": {},
   "outputs": [],
   "source": [
    "years_to_interpolate = [2017, 2018, 2019]\n",
    "\n",
    "# Create a list of lists, where each sublist contains the values for a single row in the new data frame\n",
    "data = []\n",
    "for year in years_to_interpolate:\n",
    "    for region in unique_region_names:\n",
    "        row = [np.nan, year, region, np.nan, np.nan]\n",
    "        data.append(row)"
   ]
  },
  {
   "cell_type": "code",
   "execution_count": 59,
   "id": "7a7beb10",
   "metadata": {},
   "outputs": [],
   "source": [
    "df = pd.DataFrame(data, columns=['Statistic Label', 'Year', 'Region', 'UNIT', 'VALUE'])"
   ]
  },
  {
   "cell_type": "code",
   "execution_count": 60,
   "id": "717bcf74",
   "metadata": {},
   "outputs": [],
   "source": [
    "df_ica = pd.concat([df_ica, df], ignore_index=True)"
   ]
  },
  {
   "cell_type": "code",
   "execution_count": 61,
   "id": "9947d935",
   "metadata": {
    "scrolled": false
   },
   "outputs": [
    {
     "data": {
      "text/html": [
       "<div>\n",
       "<style scoped>\n",
       "    .dataframe tbody tr th:only-of-type {\n",
       "        vertical-align: middle;\n",
       "    }\n",
       "\n",
       "    .dataframe tbody tr th {\n",
       "        vertical-align: top;\n",
       "    }\n",
       "\n",
       "    .dataframe thead th {\n",
       "        text-align: right;\n",
       "    }\n",
       "</style>\n",
       "<table border=\"1\" class=\"dataframe\">\n",
       "  <thead>\n",
       "    <tr style=\"text-align: right;\">\n",
       "      <th></th>\n",
       "      <th>Statistic Label</th>\n",
       "      <th>Year</th>\n",
       "      <th>Region</th>\n",
       "      <th>UNIT</th>\n",
       "      <th>VALUE</th>\n",
       "    </tr>\n",
       "  </thead>\n",
       "  <tbody>\n",
       "    <tr>\n",
       "      <th>0</th>\n",
       "      <td>Households with Computer connected to the Inte...</td>\n",
       "      <td>2007</td>\n",
       "      <td>State</td>\n",
       "      <td>%</td>\n",
       "      <td>57.0</td>\n",
       "    </tr>\n",
       "    <tr>\n",
       "      <th>1</th>\n",
       "      <td>Households with Computer connected to the Inte...</td>\n",
       "      <td>2007</td>\n",
       "      <td>Dublin</td>\n",
       "      <td>%</td>\n",
       "      <td>66.0</td>\n",
       "    </tr>\n",
       "    <tr>\n",
       "      <th>2</th>\n",
       "      <td>Households with Computer connected to the Inte...</td>\n",
       "      <td>2007</td>\n",
       "      <td>Midland</td>\n",
       "      <td>%</td>\n",
       "      <td>54.0</td>\n",
       "    </tr>\n",
       "    <tr>\n",
       "      <th>3</th>\n",
       "      <td>Households with Computer connected to the Inte...</td>\n",
       "      <td>2007</td>\n",
       "      <td>South-West</td>\n",
       "      <td>%</td>\n",
       "      <td>56.0</td>\n",
       "    </tr>\n",
       "    <tr>\n",
       "      <th>4</th>\n",
       "      <td>Households with Computer connected to the Inte...</td>\n",
       "      <td>2007</td>\n",
       "      <td>Border</td>\n",
       "      <td>%</td>\n",
       "      <td>43.0</td>\n",
       "    </tr>\n",
       "  </tbody>\n",
       "</table>\n",
       "</div>"
      ],
      "text/plain": [
       "                                     Statistic Label  Year      Region UNIT  \\\n",
       "0  Households with Computer connected to the Inte...  2007       State    %   \n",
       "1  Households with Computer connected to the Inte...  2007      Dublin    %   \n",
       "2  Households with Computer connected to the Inte...  2007     Midland    %   \n",
       "3  Households with Computer connected to the Inte...  2007  South-West    %   \n",
       "4  Households with Computer connected to the Inte...  2007      Border    %   \n",
       "\n",
       "   VALUE  \n",
       "0   57.0  \n",
       "1   66.0  \n",
       "2   54.0  \n",
       "3   56.0  \n",
       "4   43.0  "
      ]
     },
     "execution_count": 61,
     "metadata": {},
     "output_type": "execute_result"
    }
   ],
   "source": [
    "df_ica.head()"
   ]
  },
  {
   "cell_type": "code",
   "execution_count": 62,
   "id": "a9b329f0",
   "metadata": {},
   "outputs": [
    {
     "name": "stdout",
     "output_type": "stream",
     "text": [
      "<class 'pandas.core.frame.DataFrame'>\n",
      "RangeIndex: 144 entries, 0 to 143\n",
      "Data columns (total 5 columns):\n",
      " #   Column           Non-Null Count  Dtype  \n",
      "---  ------           --------------  -----  \n",
      " 0   Statistic Label  117 non-null    object \n",
      " 1   Year             144 non-null    int64  \n",
      " 2   Region           144 non-null    object \n",
      " 3   UNIT             117 non-null    object \n",
      " 4   VALUE            117 non-null    float64\n",
      "dtypes: float64(1), int64(1), object(3)\n",
      "memory usage: 5.8+ KB\n"
     ]
    }
   ],
   "source": [
    "df_ica.info()"
   ]
  },
  {
   "cell_type": "code",
   "execution_count": 63,
   "id": "b573daf6",
   "metadata": {},
   "outputs": [],
   "source": [
    "df_ica['Statistic Label'] = df_ica['Statistic Label'].fillna('Households  with internet access')\n",
    "df_ica['UNIT'] = df_ica['UNIT'].fillna('%')"
   ]
  },
  {
   "cell_type": "code",
   "execution_count": 64,
   "id": "307e80e5",
   "metadata": {},
   "outputs": [
    {
     "name": "stdout",
     "output_type": "stream",
     "text": [
      "<class 'pandas.core.frame.DataFrame'>\n",
      "RangeIndex: 144 entries, 0 to 143\n",
      "Data columns (total 5 columns):\n",
      " #   Column           Non-Null Count  Dtype  \n",
      "---  ------           --------------  -----  \n",
      " 0   Statistic Label  144 non-null    object \n",
      " 1   Year             144 non-null    int64  \n",
      " 2   Region           144 non-null    object \n",
      " 3   UNIT             144 non-null    object \n",
      " 4   VALUE            117 non-null    float64\n",
      "dtypes: float64(1), int64(1), object(3)\n",
      "memory usage: 5.8+ KB\n"
     ]
    }
   ],
   "source": [
    "df_ica.info()"
   ]
  },
  {
   "cell_type": "code",
   "execution_count": 65,
   "id": "3cfe0787",
   "metadata": {},
   "outputs": [],
   "source": [
    "# Sort the DataFrame 'df_pop' by 'year' in ascending order\n",
    "df_ica = df_ica.sort_values(by=['Year'], ascending=True)\n",
    "\n",
    "# Reset the index of the DataFrame 'df_pop'\n",
    "df_ica = df_ica.reset_index(drop=True)"
   ]
  },
  {
   "cell_type": "code",
   "execution_count": 66,
   "id": "a323e1b0",
   "metadata": {},
   "outputs": [],
   "source": [
    "# Group the DataFrame by region\n",
    "grouped_dataframe = df_ica.groupby(\"Region\")\n",
    "\n",
    "# Interpolate the missing values in each region\n",
    "interpolated_dataframe = grouped_dataframe.apply(lambda group: group.interpolate(method=\"linear\", axis=0))\n",
    "\n",
    "# Ungroup the DataFrame\n",
    "interpolated_dataframe = interpolated_dataframe.reset_index(drop=True)\n"
   ]
  },
  {
   "cell_type": "code",
   "execution_count": 67,
   "id": "225c8b8d",
   "metadata": {},
   "outputs": [],
   "source": [
    "# Sort the DataFrame 'df_pop' by 'year' in ascending order\n",
    "df_ica = interpolated_dataframe.sort_values(by=['Year'], ascending=True)\n",
    "\n",
    "# Reset the index of the DataFrame 'df_pop'\n",
    "df_ica = df_ica.reset_index(drop=True)"
   ]
  },
  {
   "cell_type": "code",
   "execution_count": 68,
   "id": "fcea86b6",
   "metadata": {
    "scrolled": false
   },
   "outputs": [
    {
     "data": {
      "text/html": [
       "<div>\n",
       "<style scoped>\n",
       "    .dataframe tbody tr th:only-of-type {\n",
       "        vertical-align: middle;\n",
       "    }\n",
       "\n",
       "    .dataframe tbody tr th {\n",
       "        vertical-align: top;\n",
       "    }\n",
       "\n",
       "    .dataframe thead th {\n",
       "        text-align: right;\n",
       "    }\n",
       "</style>\n",
       "<table border=\"1\" class=\"dataframe\">\n",
       "  <thead>\n",
       "    <tr style=\"text-align: right;\">\n",
       "      <th></th>\n",
       "      <th>Statistic Label</th>\n",
       "      <th>Year</th>\n",
       "      <th>Region</th>\n",
       "      <th>UNIT</th>\n",
       "      <th>VALUE</th>\n",
       "    </tr>\n",
       "  </thead>\n",
       "  <tbody>\n",
       "    <tr>\n",
       "      <th>0</th>\n",
       "      <td>Households with Computer connected to the Inte...</td>\n",
       "      <td>2007</td>\n",
       "      <td>Border</td>\n",
       "      <td>%</td>\n",
       "      <td>43.0</td>\n",
       "    </tr>\n",
       "    <tr>\n",
       "      <th>1</th>\n",
       "      <td>Households with Computer connected to the Inte...</td>\n",
       "      <td>2007</td>\n",
       "      <td>Midland</td>\n",
       "      <td>%</td>\n",
       "      <td>54.0</td>\n",
       "    </tr>\n",
       "    <tr>\n",
       "      <th>2</th>\n",
       "      <td>Households with Computer connected to the Inte...</td>\n",
       "      <td>2007</td>\n",
       "      <td>South-East</td>\n",
       "      <td>%</td>\n",
       "      <td>49.0</td>\n",
       "    </tr>\n",
       "    <tr>\n",
       "      <th>3</th>\n",
       "      <td>Households with Computer connected to the Inte...</td>\n",
       "      <td>2007</td>\n",
       "      <td>Mid-West</td>\n",
       "      <td>%</td>\n",
       "      <td>58.0</td>\n",
       "    </tr>\n",
       "    <tr>\n",
       "      <th>4</th>\n",
       "      <td>Households with Computer connected to the Inte...</td>\n",
       "      <td>2007</td>\n",
       "      <td>South-West</td>\n",
       "      <td>%</td>\n",
       "      <td>56.0</td>\n",
       "    </tr>\n",
       "  </tbody>\n",
       "</table>\n",
       "</div>"
      ],
      "text/plain": [
       "                                     Statistic Label  Year      Region UNIT  \\\n",
       "0  Households with Computer connected to the Inte...  2007      Border    %   \n",
       "1  Households with Computer connected to the Inte...  2007     Midland    %   \n",
       "2  Households with Computer connected to the Inte...  2007  South-East    %   \n",
       "3  Households with Computer connected to the Inte...  2007    Mid-West    %   \n",
       "4  Households with Computer connected to the Inte...  2007  South-West    %   \n",
       "\n",
       "   VALUE  \n",
       "0   43.0  \n",
       "1   54.0  \n",
       "2   49.0  \n",
       "3   58.0  \n",
       "4   56.0  "
      ]
     },
     "execution_count": 68,
     "metadata": {},
     "output_type": "execute_result"
    }
   ],
   "source": [
    "df_ica.head()"
   ]
  },
  {
   "cell_type": "code",
   "execution_count": 69,
   "id": "633290b3",
   "metadata": {
    "scrolled": true
   },
   "outputs": [],
   "source": [
    "# In column 'Region' replacing value 'State' with 'Ireland' and 'Midland' with 'Midlands'\n",
    "df_ica = df_ica.replace('State', 'Ireland')"
   ]
  },
  {
   "cell_type": "code",
   "execution_count": 70,
   "id": "ac85696b",
   "metadata": {},
   "outputs": [],
   "source": [
    "df_ica = df_ica.replace('Midland', 'Midlands')"
   ]
  },
  {
   "cell_type": "code",
   "execution_count": 71,
   "id": "09d1f921",
   "metadata": {},
   "outputs": [],
   "source": [
    "df_ica.rename(columns={'VALUE': 'Households with Internet Access'}, inplace=True)"
   ]
  },
  {
   "cell_type": "code",
   "execution_count": 72,
   "id": "b6575131",
   "metadata": {},
   "outputs": [],
   "source": [
    "df = pd.DataFrame(df_ica, columns=['Year', 'Region', 'Households with Internet Access'])"
   ]
  },
  {
   "cell_type": "code",
   "execution_count": 73,
   "id": "e75aa3c7",
   "metadata": {},
   "outputs": [],
   "source": [
    "df.to_csv(\"ICA_c.csv\", index = False)"
   ]
  },
  {
   "cell_type": "code",
   "execution_count": null,
   "id": "27e53fa1",
   "metadata": {},
   "outputs": [],
   "source": []
  }
 ],
 "metadata": {
  "kernelspec": {
   "display_name": "Python 3 (ipykernel)",
   "language": "python",
   "name": "python3"
  },
  "language_info": {
   "codemirror_mode": {
    "name": "ipython",
    "version": 3
   },
   "file_extension": ".py",
   "mimetype": "text/x-python",
   "name": "python",
   "nbconvert_exporter": "python",
   "pygments_lexer": "ipython3",
   "version": "3.11.4"
  }
 },
 "nbformat": 4,
 "nbformat_minor": 5
}
