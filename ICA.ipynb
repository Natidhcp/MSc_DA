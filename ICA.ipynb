{
 "cells": [
  {
   "cell_type": "markdown",
   "id": "5b91cc8e",
   "metadata": {},
   "source": [
    "# Stage 2. EDA for files with percentage of households with Internet access"
   ]
  },
  {
   "cell_type": "code",
   "execution_count": 25,
   "id": "68ba6fa6",
   "metadata": {},
   "outputs": [],
   "source": [
    "#IMPORTING LIBRARIES\n",
    "import pandas as pd\n",
    "import numpy as np\n",
    "import matplotlib.pyplot as plt\n",
    "import seaborn as sns\n",
    "\n",
    "\n",
    "# Suppress the warnings\n",
    "import warnings\n",
    "warnings.filterwarnings('ignore')"
   ]
  },
  {
   "cell_type": "code",
   "execution_count": 77,
   "id": "a038d402",
   "metadata": {
    "scrolled": true
   },
   "outputs": [
    {
     "data": {
      "text/html": [
       "<div>\n",
       "<style scoped>\n",
       "    .dataframe tbody tr th:only-of-type {\n",
       "        vertical-align: middle;\n",
       "    }\n",
       "\n",
       "    .dataframe tbody tr th {\n",
       "        vertical-align: top;\n",
       "    }\n",
       "\n",
       "    .dataframe thead th {\n",
       "        text-align: right;\n",
       "    }\n",
       "</style>\n",
       "<table border=\"1\" class=\"dataframe\">\n",
       "  <thead>\n",
       "    <tr style=\"text-align: right;\">\n",
       "      <th></th>\n",
       "      <th>Region</th>\n",
       "      <th>Year</th>\n",
       "      <th>Statistic Label</th>\n",
       "      <th>UNIT</th>\n",
       "      <th>VALUE</th>\n",
       "    </tr>\n",
       "  </thead>\n",
       "  <tbody>\n",
       "    <tr>\n",
       "      <th>0</th>\n",
       "      <td>State</td>\n",
       "      <td>2007</td>\n",
       "      <td>Households with Computer</td>\n",
       "      <td>%</td>\n",
       "      <td>65.0</td>\n",
       "    </tr>\n",
       "    <tr>\n",
       "      <th>1</th>\n",
       "      <td>State</td>\n",
       "      <td>2007</td>\n",
       "      <td>Households with Computer Unweighted Sample</td>\n",
       "      <td>Number</td>\n",
       "      <td>4361.0</td>\n",
       "    </tr>\n",
       "    <tr>\n",
       "      <th>2</th>\n",
       "      <td>State</td>\n",
       "      <td>2007</td>\n",
       "      <td>Households with Computer connected to the Inte...</td>\n",
       "      <td>%</td>\n",
       "      <td>57.0</td>\n",
       "    </tr>\n",
       "    <tr>\n",
       "      <th>3</th>\n",
       "      <td>State</td>\n",
       "      <td>2007</td>\n",
       "      <td>Households with Computer connected to the Inte...</td>\n",
       "      <td>Number</td>\n",
       "      <td>4361.0</td>\n",
       "    </tr>\n",
       "    <tr>\n",
       "      <th>4</th>\n",
       "      <td>State</td>\n",
       "      <td>2008</td>\n",
       "      <td>Households with Computer</td>\n",
       "      <td>%</td>\n",
       "      <td>70.0</td>\n",
       "    </tr>\n",
       "  </tbody>\n",
       "</table>\n",
       "</div>"
      ],
      "text/plain": [
       "  Region  Year                                    Statistic Label    UNIT  \\\n",
       "0  State  2007                           Households with Computer       %   \n",
       "1  State  2007         Households with Computer Unweighted Sample  Number   \n",
       "2  State  2007  Households with Computer connected to the Inte...       %   \n",
       "3  State  2007  Households with Computer connected to the Inte...  Number   \n",
       "4  State  2008                           Households with Computer       %   \n",
       "\n",
       "    VALUE  \n",
       "0    65.0  \n",
       "1  4361.0  \n",
       "2    57.0  \n",
       "3  4361.0  \n",
       "4    70.0  "
      ]
     },
     "execution_count": 77,
     "metadata": {},
     "output_type": "execute_result"
    }
   ],
   "source": [
    "df_ica1 = pd.read_csv(\"ICA29.csv\")\n",
    "df_ica1.head()"
   ]
  },
  {
   "cell_type": "code",
   "execution_count": 78,
   "id": "152f548e",
   "metadata": {},
   "outputs": [
    {
     "data": {
      "text/plain": [
       "(360, 5)"
      ]
     },
     "execution_count": 78,
     "metadata": {},
     "output_type": "execute_result"
    }
   ],
   "source": [
    "df_ica1.shape"
   ]
  },
  {
   "cell_type": "code",
   "execution_count": 79,
   "id": "1113ac9b",
   "metadata": {},
   "outputs": [
    {
     "data": {
      "text/plain": [
       "array([2007, 2008, 2009, 2010, 2011, 2012, 2013, 2014, 2015, 2016],\n",
       "      dtype=int64)"
      ]
     },
     "execution_count": 79,
     "metadata": {},
     "output_type": "execute_result"
    }
   ],
   "source": [
    "df_ica1.Year.unique()"
   ]
  },
  {
   "cell_type": "code",
   "execution_count": 80,
   "id": "8b2ea7be",
   "metadata": {
    "scrolled": true
   },
   "outputs": [
    {
     "data": {
      "text/html": [
       "<div>\n",
       "<style scoped>\n",
       "    .dataframe tbody tr th:only-of-type {\n",
       "        vertical-align: middle;\n",
       "    }\n",
       "\n",
       "    .dataframe tbody tr th {\n",
       "        vertical-align: top;\n",
       "    }\n",
       "\n",
       "    .dataframe thead th {\n",
       "        text-align: right;\n",
       "    }\n",
       "</style>\n",
       "<table border=\"1\" class=\"dataframe\">\n",
       "  <thead>\n",
       "    <tr style=\"text-align: right;\">\n",
       "      <th></th>\n",
       "      <th>STATISTIC Label</th>\n",
       "      <th>Year</th>\n",
       "      <th>NUTS 3 Region</th>\n",
       "      <th>UNIT</th>\n",
       "      <th>VALUE</th>\n",
       "    </tr>\n",
       "  </thead>\n",
       "  <tbody>\n",
       "    <tr>\n",
       "      <th>0</th>\n",
       "      <td>Households  with internet access</td>\n",
       "      <td>2022</td>\n",
       "      <td>State</td>\n",
       "      <td>%</td>\n",
       "      <td>94</td>\n",
       "    </tr>\n",
       "    <tr>\n",
       "      <th>1</th>\n",
       "      <td>Households  with internet access</td>\n",
       "      <td>2022</td>\n",
       "      <td>Border</td>\n",
       "      <td>%</td>\n",
       "      <td>90</td>\n",
       "    </tr>\n",
       "    <tr>\n",
       "      <th>2</th>\n",
       "      <td>Households  with internet access</td>\n",
       "      <td>2022</td>\n",
       "      <td>Midland</td>\n",
       "      <td>%</td>\n",
       "      <td>93</td>\n",
       "    </tr>\n",
       "    <tr>\n",
       "      <th>3</th>\n",
       "      <td>Households  with internet access</td>\n",
       "      <td>2022</td>\n",
       "      <td>West</td>\n",
       "      <td>%</td>\n",
       "      <td>91</td>\n",
       "    </tr>\n",
       "    <tr>\n",
       "      <th>4</th>\n",
       "      <td>Households  with internet access</td>\n",
       "      <td>2022</td>\n",
       "      <td>Dublin</td>\n",
       "      <td>%</td>\n",
       "      <td>97</td>\n",
       "    </tr>\n",
       "  </tbody>\n",
       "</table>\n",
       "</div>"
      ],
      "text/plain": [
       "                    STATISTIC Label  Year NUTS 3 Region UNIT  VALUE\n",
       "0  Households  with internet access  2022         State    %     94\n",
       "1  Households  with internet access  2022        Border    %     90\n",
       "2  Households  with internet access  2022       Midland    %     93\n",
       "3  Households  with internet access  2022          West    %     91\n",
       "4  Households  with internet access  2022        Dublin    %     97"
      ]
     },
     "execution_count": 80,
     "metadata": {},
     "output_type": "execute_result"
    }
   ],
   "source": [
    "df_ica2 = pd.read_csv(\"ICA172.csv\")\n",
    "df_ica2.head()"
   ]
  },
  {
   "cell_type": "code",
   "execution_count": 81,
   "id": "e698f01e",
   "metadata": {},
   "outputs": [
    {
     "data": {
      "text/plain": [
       "(27, 5)"
      ]
     },
     "execution_count": 81,
     "metadata": {},
     "output_type": "execute_result"
    }
   ],
   "source": [
    "df_ica2.shape"
   ]
  },
  {
   "cell_type": "code",
   "execution_count": 82,
   "id": "c5bfc904",
   "metadata": {},
   "outputs": [
    {
     "data": {
      "text/plain": [
       "array([2022, 2021, 2020], dtype=int64)"
      ]
     },
     "execution_count": 82,
     "metadata": {},
     "output_type": "execute_result"
    }
   ],
   "source": [
    "df_ica2.Year.unique()"
   ]
  },
  {
   "cell_type": "code",
   "execution_count": 83,
   "id": "3cc4103f",
   "metadata": {
    "scrolled": false
   },
   "outputs": [
    {
     "data": {
      "text/html": [
       "<div>\n",
       "<style scoped>\n",
       "    .dataframe tbody tr th:only-of-type {\n",
       "        vertical-align: middle;\n",
       "    }\n",
       "\n",
       "    .dataframe tbody tr th {\n",
       "        vertical-align: top;\n",
       "    }\n",
       "\n",
       "    .dataframe thead th {\n",
       "        text-align: right;\n",
       "    }\n",
       "</style>\n",
       "<table border=\"1\" class=\"dataframe\">\n",
       "  <thead>\n",
       "    <tr style=\"text-align: right;\">\n",
       "      <th></th>\n",
       "      <th>Statistic Label</th>\n",
       "      <th>Year</th>\n",
       "      <th>Region</th>\n",
       "      <th>UNIT</th>\n",
       "      <th>VALUE</th>\n",
       "    </tr>\n",
       "  </thead>\n",
       "  <tbody>\n",
       "    <tr>\n",
       "      <th>0</th>\n",
       "      <td>Households with Computer</td>\n",
       "      <td>2007</td>\n",
       "      <td>State</td>\n",
       "      <td>%</td>\n",
       "      <td>65.0</td>\n",
       "    </tr>\n",
       "    <tr>\n",
       "      <th>1</th>\n",
       "      <td>Households with Computer Unweighted Sample</td>\n",
       "      <td>2007</td>\n",
       "      <td>State</td>\n",
       "      <td>Number</td>\n",
       "      <td>4361.0</td>\n",
       "    </tr>\n",
       "    <tr>\n",
       "      <th>2</th>\n",
       "      <td>Households with Computer connected to the Inte...</td>\n",
       "      <td>2007</td>\n",
       "      <td>State</td>\n",
       "      <td>%</td>\n",
       "      <td>57.0</td>\n",
       "    </tr>\n",
       "    <tr>\n",
       "      <th>3</th>\n",
       "      <td>Households with Computer connected to the Inte...</td>\n",
       "      <td>2007</td>\n",
       "      <td>State</td>\n",
       "      <td>Number</td>\n",
       "      <td>4361.0</td>\n",
       "    </tr>\n",
       "    <tr>\n",
       "      <th>4</th>\n",
       "      <td>Households with Computer</td>\n",
       "      <td>2008</td>\n",
       "      <td>State</td>\n",
       "      <td>%</td>\n",
       "      <td>70.0</td>\n",
       "    </tr>\n",
       "  </tbody>\n",
       "</table>\n",
       "</div>"
      ],
      "text/plain": [
       "                                     Statistic Label  Year Region    UNIT  \\\n",
       "0                           Households with Computer  2007  State       %   \n",
       "1         Households with Computer Unweighted Sample  2007  State  Number   \n",
       "2  Households with Computer connected to the Inte...  2007  State       %   \n",
       "3  Households with Computer connected to the Inte...  2007  State  Number   \n",
       "4                           Households with Computer  2008  State       %   \n",
       "\n",
       "    VALUE  \n",
       "0    65.0  \n",
       "1  4361.0  \n",
       "2    57.0  \n",
       "3  4361.0  \n",
       "4    70.0  "
      ]
     },
     "execution_count": 83,
     "metadata": {},
     "output_type": "execute_result"
    }
   ],
   "source": [
    "#re-order columns \n",
    "df_ica1 = df_ica1[['Statistic Label','Year','Region','UNIT','VALUE']]\n",
    "df_ica1.head()"
   ]
  },
  {
   "cell_type": "code",
   "execution_count": 84,
   "id": "169d390b",
   "metadata": {
    "scrolled": false
   },
   "outputs": [
    {
     "data": {
      "text/html": [
       "<div>\n",
       "<style scoped>\n",
       "    .dataframe tbody tr th:only-of-type {\n",
       "        vertical-align: middle;\n",
       "    }\n",
       "\n",
       "    .dataframe tbody tr th {\n",
       "        vertical-align: top;\n",
       "    }\n",
       "\n",
       "    .dataframe thead th {\n",
       "        text-align: right;\n",
       "    }\n",
       "</style>\n",
       "<table border=\"1\" class=\"dataframe\">\n",
       "  <thead>\n",
       "    <tr style=\"text-align: right;\">\n",
       "      <th></th>\n",
       "      <th>Statistic Label</th>\n",
       "      <th>Year</th>\n",
       "      <th>Region</th>\n",
       "      <th>UNIT</th>\n",
       "      <th>VALUE</th>\n",
       "    </tr>\n",
       "  </thead>\n",
       "  <tbody>\n",
       "    <tr>\n",
       "      <th>0</th>\n",
       "      <td>Households with Computer</td>\n",
       "      <td>2007</td>\n",
       "      <td>State</td>\n",
       "      <td>%</td>\n",
       "      <td>65.0</td>\n",
       "    </tr>\n",
       "    <tr>\n",
       "      <th>1</th>\n",
       "      <td>Households with Computer Unweighted Sample</td>\n",
       "      <td>2007</td>\n",
       "      <td>State</td>\n",
       "      <td>Number</td>\n",
       "      <td>4361.0</td>\n",
       "    </tr>\n",
       "    <tr>\n",
       "      <th>2</th>\n",
       "      <td>Households with Computer connected to the Inte...</td>\n",
       "      <td>2007</td>\n",
       "      <td>State</td>\n",
       "      <td>%</td>\n",
       "      <td>57.0</td>\n",
       "    </tr>\n",
       "    <tr>\n",
       "      <th>3</th>\n",
       "      <td>Households with Computer connected to the Inte...</td>\n",
       "      <td>2007</td>\n",
       "      <td>State</td>\n",
       "      <td>Number</td>\n",
       "      <td>4361.0</td>\n",
       "    </tr>\n",
       "    <tr>\n",
       "      <th>4</th>\n",
       "      <td>Households with Computer</td>\n",
       "      <td>2008</td>\n",
       "      <td>State</td>\n",
       "      <td>%</td>\n",
       "      <td>70.0</td>\n",
       "    </tr>\n",
       "  </tbody>\n",
       "</table>\n",
       "</div>"
      ],
      "text/plain": [
       "                                     Statistic Label  Year Region    UNIT  \\\n",
       "0                           Households with Computer  2007  State       %   \n",
       "1         Households with Computer Unweighted Sample  2007  State  Number   \n",
       "2  Households with Computer connected to the Inte...  2007  State       %   \n",
       "3  Households with Computer connected to the Inte...  2007  State  Number   \n",
       "4                           Households with Computer  2008  State       %   \n",
       "\n",
       "    VALUE  \n",
       "0    65.0  \n",
       "1  4361.0  \n",
       "2    57.0  \n",
       "3  4361.0  \n",
       "4    70.0  "
      ]
     },
     "execution_count": 84,
     "metadata": {},
     "output_type": "execute_result"
    }
   ],
   "source": [
    "df_ica1.head()"
   ]
  },
  {
   "cell_type": "code",
   "execution_count": 85,
   "id": "2e1480c1",
   "metadata": {},
   "outputs": [],
   "source": [
    "df_ica1 = df_ica1.drop(df_ica1[(df_ica1[\"Statistic Label\"] != \"Households with Computer connected to the Internet\")].index)\n"
   ]
  },
  {
   "cell_type": "code",
   "execution_count": 86,
   "id": "aa39d591",
   "metadata": {},
   "outputs": [
    {
     "data": {
      "text/plain": [
       "(90, 5)"
      ]
     },
     "execution_count": 86,
     "metadata": {},
     "output_type": "execute_result"
    }
   ],
   "source": [
    "df_ica1.shape"
   ]
  },
  {
   "cell_type": "code",
   "execution_count": 87,
   "id": "29bfc162",
   "metadata": {},
   "outputs": [
    {
     "data": {
      "text/html": [
       "<div>\n",
       "<style scoped>\n",
       "    .dataframe tbody tr th:only-of-type {\n",
       "        vertical-align: middle;\n",
       "    }\n",
       "\n",
       "    .dataframe tbody tr th {\n",
       "        vertical-align: top;\n",
       "    }\n",
       "\n",
       "    .dataframe thead th {\n",
       "        text-align: right;\n",
       "    }\n",
       "</style>\n",
       "<table border=\"1\" class=\"dataframe\">\n",
       "  <thead>\n",
       "    <tr style=\"text-align: right;\">\n",
       "      <th></th>\n",
       "      <th>STATISTIC Label</th>\n",
       "      <th>Year</th>\n",
       "      <th>NUTS 3 Region</th>\n",
       "      <th>UNIT</th>\n",
       "      <th>VALUE</th>\n",
       "    </tr>\n",
       "  </thead>\n",
       "  <tbody>\n",
       "    <tr>\n",
       "      <th>0</th>\n",
       "      <td>Households  with internet access</td>\n",
       "      <td>2022</td>\n",
       "      <td>State</td>\n",
       "      <td>%</td>\n",
       "      <td>94</td>\n",
       "    </tr>\n",
       "    <tr>\n",
       "      <th>1</th>\n",
       "      <td>Households  with internet access</td>\n",
       "      <td>2022</td>\n",
       "      <td>Border</td>\n",
       "      <td>%</td>\n",
       "      <td>90</td>\n",
       "    </tr>\n",
       "    <tr>\n",
       "      <th>2</th>\n",
       "      <td>Households  with internet access</td>\n",
       "      <td>2022</td>\n",
       "      <td>Midland</td>\n",
       "      <td>%</td>\n",
       "      <td>93</td>\n",
       "    </tr>\n",
       "    <tr>\n",
       "      <th>3</th>\n",
       "      <td>Households  with internet access</td>\n",
       "      <td>2022</td>\n",
       "      <td>West</td>\n",
       "      <td>%</td>\n",
       "      <td>91</td>\n",
       "    </tr>\n",
       "    <tr>\n",
       "      <th>4</th>\n",
       "      <td>Households  with internet access</td>\n",
       "      <td>2022</td>\n",
       "      <td>Dublin</td>\n",
       "      <td>%</td>\n",
       "      <td>97</td>\n",
       "    </tr>\n",
       "  </tbody>\n",
       "</table>\n",
       "</div>"
      ],
      "text/plain": [
       "                    STATISTIC Label  Year NUTS 3 Region UNIT  VALUE\n",
       "0  Households  with internet access  2022         State    %     94\n",
       "1  Households  with internet access  2022        Border    %     90\n",
       "2  Households  with internet access  2022       Midland    %     93\n",
       "3  Households  with internet access  2022          West    %     91\n",
       "4  Households  with internet access  2022        Dublin    %     97"
      ]
     },
     "execution_count": 87,
     "metadata": {},
     "output_type": "execute_result"
    }
   ],
   "source": [
    "df_ica2.head()"
   ]
  },
  {
   "cell_type": "code",
   "execution_count": 88,
   "id": "2dd66eda",
   "metadata": {},
   "outputs": [],
   "source": [
    "df_ica2 = df_ica2.rename(columns={'STATISTIC Label': 'Statistic Label'})\n",
    "df_ica2 = df_ica2.rename(columns={'NUTS 3 Region': 'Region'})"
   ]
  },
  {
   "cell_type": "code",
   "execution_count": 89,
   "id": "e7eb38c4",
   "metadata": {
    "scrolled": false
   },
   "outputs": [
    {
     "name": "stdout",
     "output_type": "stream",
     "text": [
      "<class 'pandas.core.frame.DataFrame'>\n",
      "RangeIndex: 117 entries, 0 to 116\n",
      "Data columns (total 5 columns):\n",
      " #   Column           Non-Null Count  Dtype  \n",
      "---  ------           --------------  -----  \n",
      " 0   Statistic Label  117 non-null    object \n",
      " 1   Year             117 non-null    int64  \n",
      " 2   Region           117 non-null    object \n",
      " 3   UNIT             117 non-null    object \n",
      " 4   VALUE            117 non-null    float64\n",
      "dtypes: float64(1), int64(1), object(3)\n",
      "memory usage: 4.7+ KB\n"
     ]
    }
   ],
   "source": [
    "df_ica = pd.concat([df_ica1, df_ica2], ignore_index=True)\n",
    "df_ica.info()"
   ]
  },
  {
   "cell_type": "code",
   "execution_count": 90,
   "id": "3e4ad9b5",
   "metadata": {},
   "outputs": [],
   "source": [
    "# Sort the DataFrame 'df_pop' by 'year' in ascending order\n",
    "df_ica = df_ica.sort_values(by=['Year'], ascending=True)\n",
    "\n",
    "# Reset the index of the DataFrame 'df_pop'\n",
    "df_ica = df_ica.reset_index(drop=True)"
   ]
  },
  {
   "cell_type": "code",
   "execution_count": 91,
   "id": "280960fc",
   "metadata": {
    "scrolled": true
   },
   "outputs": [
    {
     "data": {
      "text/plain": [
       "(117, 5)"
      ]
     },
     "execution_count": 91,
     "metadata": {},
     "output_type": "execute_result"
    }
   ],
   "source": [
    "df_ica.shape"
   ]
  },
  {
   "cell_type": "code",
   "execution_count": 92,
   "id": "d2a25d63",
   "metadata": {
    "scrolled": false
   },
   "outputs": [
    {
     "data": {
      "text/plain": [
       "array([2007, 2008, 2009, 2010, 2011, 2012, 2013, 2014, 2015, 2016, 2020,\n",
       "       2021, 2022], dtype=int64)"
      ]
     },
     "execution_count": 92,
     "metadata": {},
     "output_type": "execute_result"
    }
   ],
   "source": [
    "df_ica.Year.unique()"
   ]
  },
  {
   "cell_type": "code",
   "execution_count": 93,
   "id": "633290b3",
   "metadata": {
    "scrolled": true
   },
   "outputs": [],
   "source": [
    "# In column 'Region' replacing value 'State' with 'Ireland' and 'Midland' with 'Midlands'\n",
    "df_ica = df_ica.replace('State', 'Ireland')"
   ]
  },
  {
   "cell_type": "code",
   "execution_count": 94,
   "id": "ac85696b",
   "metadata": {},
   "outputs": [],
   "source": [
    "df_ica = df_ica.replace('Midland', 'Midlands')"
   ]
  },
  {
   "cell_type": "code",
   "execution_count": 95,
   "id": "09d1f921",
   "metadata": {},
   "outputs": [],
   "source": [
    "df_ica.rename(columns={'VALUE': '% Households with Internet Access'}, inplace=True)"
   ]
  },
  {
   "cell_type": "code",
   "execution_count": 96,
   "id": "9bc6b1cb",
   "metadata": {
    "scrolled": true
   },
   "outputs": [
    {
     "data": {
      "text/html": [
       "<div>\n",
       "<style scoped>\n",
       "    .dataframe tbody tr th:only-of-type {\n",
       "        vertical-align: middle;\n",
       "    }\n",
       "\n",
       "    .dataframe tbody tr th {\n",
       "        vertical-align: top;\n",
       "    }\n",
       "\n",
       "    .dataframe thead th {\n",
       "        text-align: right;\n",
       "    }\n",
       "</style>\n",
       "<table border=\"1\" class=\"dataframe\">\n",
       "  <thead>\n",
       "    <tr style=\"text-align: right;\">\n",
       "      <th></th>\n",
       "      <th>Statistic Label</th>\n",
       "      <th>Year</th>\n",
       "      <th>Region</th>\n",
       "      <th>UNIT</th>\n",
       "      <th>% Households with Internet Access</th>\n",
       "    </tr>\n",
       "  </thead>\n",
       "  <tbody>\n",
       "    <tr>\n",
       "      <th>0</th>\n",
       "      <td>Households with Computer connected to the Inte...</td>\n",
       "      <td>2007</td>\n",
       "      <td>Ireland</td>\n",
       "      <td>%</td>\n",
       "      <td>57.0</td>\n",
       "    </tr>\n",
       "    <tr>\n",
       "      <th>1</th>\n",
       "      <td>Households with Computer connected to the Inte...</td>\n",
       "      <td>2007</td>\n",
       "      <td>Dublin</td>\n",
       "      <td>%</td>\n",
       "      <td>66.0</td>\n",
       "    </tr>\n",
       "    <tr>\n",
       "      <th>2</th>\n",
       "      <td>Households with Computer connected to the Inte...</td>\n",
       "      <td>2007</td>\n",
       "      <td>Midlands</td>\n",
       "      <td>%</td>\n",
       "      <td>54.0</td>\n",
       "    </tr>\n",
       "    <tr>\n",
       "      <th>3</th>\n",
       "      <td>Households with Computer connected to the Inte...</td>\n",
       "      <td>2007</td>\n",
       "      <td>South-West</td>\n",
       "      <td>%</td>\n",
       "      <td>56.0</td>\n",
       "    </tr>\n",
       "    <tr>\n",
       "      <th>4</th>\n",
       "      <td>Households with Computer connected to the Inte...</td>\n",
       "      <td>2007</td>\n",
       "      <td>Border</td>\n",
       "      <td>%</td>\n",
       "      <td>43.0</td>\n",
       "    </tr>\n",
       "  </tbody>\n",
       "</table>\n",
       "</div>"
      ],
      "text/plain": [
       "                                     Statistic Label  Year      Region UNIT  \\\n",
       "0  Households with Computer connected to the Inte...  2007     Ireland    %   \n",
       "1  Households with Computer connected to the Inte...  2007      Dublin    %   \n",
       "2  Households with Computer connected to the Inte...  2007    Midlands    %   \n",
       "3  Households with Computer connected to the Inte...  2007  South-West    %   \n",
       "4  Households with Computer connected to the Inte...  2007      Border    %   \n",
       "\n",
       "   % Households with Internet Access  \n",
       "0                               57.0  \n",
       "1                               66.0  \n",
       "2                               54.0  \n",
       "3                               56.0  \n",
       "4                               43.0  "
      ]
     },
     "execution_count": 96,
     "metadata": {},
     "output_type": "execute_result"
    }
   ],
   "source": [
    "df_ica.head()"
   ]
  },
  {
   "cell_type": "code",
   "execution_count": 97,
   "id": "b6575131",
   "metadata": {},
   "outputs": [],
   "source": [
    "df = pd.DataFrame(df_ica, columns=['Year', 'Region', '% Households with Internet Access'])"
   ]
  },
  {
   "cell_type": "code",
   "execution_count": 98,
   "id": "79e1f569",
   "metadata": {},
   "outputs": [
    {
     "data": {
      "text/html": [
       "<div>\n",
       "<style scoped>\n",
       "    .dataframe tbody tr th:only-of-type {\n",
       "        vertical-align: middle;\n",
       "    }\n",
       "\n",
       "    .dataframe tbody tr th {\n",
       "        vertical-align: top;\n",
       "    }\n",
       "\n",
       "    .dataframe thead th {\n",
       "        text-align: right;\n",
       "    }\n",
       "</style>\n",
       "<table border=\"1\" class=\"dataframe\">\n",
       "  <thead>\n",
       "    <tr style=\"text-align: right;\">\n",
       "      <th></th>\n",
       "      <th>Year</th>\n",
       "      <th>Region</th>\n",
       "      <th>% Households with Internet Access</th>\n",
       "    </tr>\n",
       "  </thead>\n",
       "  <tbody>\n",
       "    <tr>\n",
       "      <th>0</th>\n",
       "      <td>2007</td>\n",
       "      <td>Ireland</td>\n",
       "      <td>57.0</td>\n",
       "    </tr>\n",
       "    <tr>\n",
       "      <th>1</th>\n",
       "      <td>2007</td>\n",
       "      <td>Dublin</td>\n",
       "      <td>66.0</td>\n",
       "    </tr>\n",
       "    <tr>\n",
       "      <th>2</th>\n",
       "      <td>2007</td>\n",
       "      <td>Midlands</td>\n",
       "      <td>54.0</td>\n",
       "    </tr>\n",
       "    <tr>\n",
       "      <th>3</th>\n",
       "      <td>2007</td>\n",
       "      <td>South-West</td>\n",
       "      <td>56.0</td>\n",
       "    </tr>\n",
       "    <tr>\n",
       "      <th>4</th>\n",
       "      <td>2007</td>\n",
       "      <td>Border</td>\n",
       "      <td>43.0</td>\n",
       "    </tr>\n",
       "  </tbody>\n",
       "</table>\n",
       "</div>"
      ],
      "text/plain": [
       "   Year      Region  % Households with Internet Access\n",
       "0  2007     Ireland                               57.0\n",
       "1  2007      Dublin                               66.0\n",
       "2  2007    Midlands                               54.0\n",
       "3  2007  South-West                               56.0\n",
       "4  2007      Border                               43.0"
      ]
     },
     "execution_count": 98,
     "metadata": {},
     "output_type": "execute_result"
    }
   ],
   "source": [
    "df.head()"
   ]
  },
  {
   "cell_type": "code",
   "execution_count": 99,
   "id": "88163957",
   "metadata": {},
   "outputs": [
    {
     "data": {
      "image/png": "[encoded data removed]",
      "text/plain": [
       "<Figure size 900x900 with 9 Axes>"
      ]
     },
     "metadata": {},
     "output_type": "display_data"
    }
   ],
   "source": [
    "from matplotlib.gridspec import GridSpec\n",
    "import matplotlib.ticker as ticker\n",
    "\n",
    "# Create a 2-column grid layout\n",
    "gs = GridSpec(nrows=5, ncols=2)\n",
    "\n",
    "# Create a figure\n",
    "fig = plt.figure(figsize=(9, 9))\n",
    "\n",
    "# Add subplots to the figure using the grid layout\n",
    "axs = []\n",
    "for i, region in enumerate(df['Region'].unique()):\n",
    "    ax = fig.add_subplot(gs[i])\n",
    "    axs.append(ax)\n",
    "\n",
    "# Plot the graphs for each region\n",
    "for i, region in enumerate(df['Region'].unique()):\n",
    "    ax = axs[i]\n",
    "\n",
    "    # Get the subset of the data frame for the current region\n",
    "    df_region = df[df['Region'] == region]\n",
    "\n",
    "    # Plot the graph for the current region\n",
    "    ax.plot(df_region['Year'], df_region['% Households with Internet Access'], '+', label=region)\n",
    "    ax.legend()\n",
    "    ax.set_title(f'% Households with internet access in {region}')\n",
    "    ax.yaxis.set_major_formatter(ticker.EngFormatter())\n",
    "\n",
    "# Adjust the layout of the figure\n",
    "fig.tight_layout()\n",
    "\n",
    "# Show the plot\n",
    "plt.show()"
   ]
  },
  {
   "cell_type": "code",
   "execution_count": 100,
   "id": "f7e2ed34",
   "metadata": {},
   "outputs": [],
   "source": [
    "df_ica.to_csv(\"ICA_m.csv\", index = False)"
   ]
  },
  {
   "cell_type": "markdown",
   "id": "3ff3a896",
   "metadata": {},
   "source": [
    "# 1 method to address the missing data - Normal distribution"
   ]
  },
  {
   "cell_type": "code",
   "execution_count": 102,
   "id": "aedc5b78",
   "metadata": {},
   "outputs": [
    {
     "data": {
      "text/html": [
       "<div>\n",
       "<style scoped>\n",
       "    .dataframe tbody tr th:only-of-type {\n",
       "        vertical-align: middle;\n",
       "    }\n",
       "\n",
       "    .dataframe tbody tr th {\n",
       "        vertical-align: top;\n",
       "    }\n",
       "\n",
       "    .dataframe thead th {\n",
       "        text-align: right;\n",
       "    }\n",
       "</style>\n",
       "<table border=\"1\" class=\"dataframe\">\n",
       "  <thead>\n",
       "    <tr style=\"text-align: right;\">\n",
       "      <th></th>\n",
       "      <th>Statistic Label</th>\n",
       "      <th>Year</th>\n",
       "      <th>Region</th>\n",
       "      <th>UNIT</th>\n",
       "      <th>% Households with Internet Access</th>\n",
       "    </tr>\n",
       "  </thead>\n",
       "  <tbody>\n",
       "    <tr>\n",
       "      <th>0</th>\n",
       "      <td>Households with Computer connected to the Inte...</td>\n",
       "      <td>2007</td>\n",
       "      <td>Ireland</td>\n",
       "      <td>%</td>\n",
       "      <td>57.0</td>\n",
       "    </tr>\n",
       "    <tr>\n",
       "      <th>1</th>\n",
       "      <td>Households with Computer connected to the Inte...</td>\n",
       "      <td>2007</td>\n",
       "      <td>Dublin</td>\n",
       "      <td>%</td>\n",
       "      <td>66.0</td>\n",
       "    </tr>\n",
       "    <tr>\n",
       "      <th>2</th>\n",
       "      <td>Households with Computer connected to the Inte...</td>\n",
       "      <td>2007</td>\n",
       "      <td>Midlands</td>\n",
       "      <td>%</td>\n",
       "      <td>54.0</td>\n",
       "    </tr>\n",
       "    <tr>\n",
       "      <th>3</th>\n",
       "      <td>Households with Computer connected to the Inte...</td>\n",
       "      <td>2007</td>\n",
       "      <td>South-West</td>\n",
       "      <td>%</td>\n",
       "      <td>56.0</td>\n",
       "    </tr>\n",
       "    <tr>\n",
       "      <th>4</th>\n",
       "      <td>Households with Computer connected to the Inte...</td>\n",
       "      <td>2007</td>\n",
       "      <td>Border</td>\n",
       "      <td>%</td>\n",
       "      <td>43.0</td>\n",
       "    </tr>\n",
       "  </tbody>\n",
       "</table>\n",
       "</div>"
      ],
      "text/plain": [
       "                                     Statistic Label  Year      Region UNIT  \\\n",
       "0  Households with Computer connected to the Inte...  2007     Ireland    %   \n",
       "1  Households with Computer connected to the Inte...  2007      Dublin    %   \n",
       "2  Households with Computer connected to the Inte...  2007    Midlands    %   \n",
       "3  Households with Computer connected to the Inte...  2007  South-West    %   \n",
       "4  Households with Computer connected to the Inte...  2007      Border    %   \n",
       "\n",
       "   % Households with Internet Access  \n",
       "0                               57.0  \n",
       "1                               66.0  \n",
       "2                               54.0  \n",
       "3                               56.0  \n",
       "4                               43.0  "
      ]
     },
     "execution_count": 102,
     "metadata": {},
     "output_type": "execute_result"
    }
   ],
   "source": [
    "df = pd.read_csv(\"ICA_m.csv\")\n",
    "df.head()"
   ]
  },
  {
   "cell_type": "code",
   "execution_count": 103,
   "id": "7527f2b3",
   "metadata": {},
   "outputs": [],
   "source": [
    "df_f = pd.DataFrame(df, columns=['Year', 'Region', '% Households with Internet Access'])"
   ]
  },
  {
   "cell_type": "code",
   "execution_count": 104,
   "id": "bb78022b",
   "metadata": {},
   "outputs": [
    {
     "data": {
      "text/plain": [
       "array([2007, 2008, 2009, 2010, 2011, 2012, 2013, 2014, 2015, 2016, 2020,\n",
       "       2021, 2022], dtype=int64)"
      ]
     },
     "execution_count": 104,
     "metadata": {},
     "output_type": "execute_result"
    }
   ],
   "source": [
    "df_f.Year.unique()"
   ]
  },
  {
   "cell_type": "code",
   "execution_count": 105,
   "id": "22783adc",
   "metadata": {},
   "outputs": [],
   "source": [
    "years = [2017, 2018, 2019]\n",
    "unique_region_names = set(df['Region'])"
   ]
  },
  {
   "cell_type": "code",
   "execution_count": 107,
   "id": "4b9da328",
   "metadata": {},
   "outputs": [],
   "source": [
    "from scipy.stats import norm\n",
    "data=[]\n",
    "for year in years:\n",
    "    for region in unique_region_names:        \n",
    "        df_reg = df_f.drop(df_f[(df_f[\"Region\"] != region) ].index)\n",
    "        mean = df_reg['% Households with Internet Access'].mean()\n",
    "        std = df_reg['% Households with Internet Access'].std()\n",
    "        normal_distribution = norm(loc=mean, scale=std)\n",
    "        imputed_population = normal_distribution.rvs()\n",
    "        row = [year, region, imputed_population]\n",
    "        data.append(row)\n",
    "df_norm = pd.DataFrame(data, columns=['Year', 'Region','% Households with Internet Access'])"
   ]
  },
  {
   "cell_type": "code",
   "execution_count": 110,
   "id": "e72bc3cd",
   "metadata": {},
   "outputs": [
    {
     "data": {
      "text/html": [
       "<div>\n",
       "<style scoped>\n",
       "    .dataframe tbody tr th:only-of-type {\n",
       "        vertical-align: middle;\n",
       "    }\n",
       "\n",
       "    .dataframe tbody tr th {\n",
       "        vertical-align: top;\n",
       "    }\n",
       "\n",
       "    .dataframe thead th {\n",
       "        text-align: right;\n",
       "    }\n",
       "</style>\n",
       "<table border=\"1\" class=\"dataframe\">\n",
       "  <thead>\n",
       "    <tr style=\"text-align: right;\">\n",
       "      <th></th>\n",
       "      <th>Year</th>\n",
       "      <th>% Households with Internet Access</th>\n",
       "    </tr>\n",
       "  </thead>\n",
       "  <tbody>\n",
       "    <tr>\n",
       "      <th>count</th>\n",
       "      <td>27.00000</td>\n",
       "      <td>27.000000</td>\n",
       "    </tr>\n",
       "    <tr>\n",
       "      <th>mean</th>\n",
       "      <td>2018.00000</td>\n",
       "      <td>75.832799</td>\n",
       "    </tr>\n",
       "    <tr>\n",
       "      <th>std</th>\n",
       "      <td>0.83205</td>\n",
       "      <td>13.427521</td>\n",
       "    </tr>\n",
       "    <tr>\n",
       "      <th>min</th>\n",
       "      <td>2017.00000</td>\n",
       "      <td>54.309275</td>\n",
       "    </tr>\n",
       "    <tr>\n",
       "      <th>25%</th>\n",
       "      <td>2017.00000</td>\n",
       "      <td>64.822284</td>\n",
       "    </tr>\n",
       "    <tr>\n",
       "      <th>50%</th>\n",
       "      <td>2018.00000</td>\n",
       "      <td>74.699075</td>\n",
       "    </tr>\n",
       "    <tr>\n",
       "      <th>75%</th>\n",
       "      <td>2019.00000</td>\n",
       "      <td>84.745243</td>\n",
       "    </tr>\n",
       "    <tr>\n",
       "      <th>max</th>\n",
       "      <td>2019.00000</td>\n",
       "      <td>97.571278</td>\n",
       "    </tr>\n",
       "  </tbody>\n",
       "</table>\n",
       "</div>"
      ],
      "text/plain": [
       "             Year  % Households with Internet Access\n",
       "count    27.00000                          27.000000\n",
       "mean   2018.00000                          75.832799\n",
       "std       0.83205                          13.427521\n",
       "min    2017.00000                          54.309275\n",
       "25%    2017.00000                          64.822284\n",
       "50%    2018.00000                          74.699075\n",
       "75%    2019.00000                          84.745243\n",
       "max    2019.00000                          97.571278"
      ]
     },
     "execution_count": 110,
     "metadata": {},
     "output_type": "execute_result"
    }
   ],
   "source": [
    "df_norm.describe()"
   ]
  },
  {
   "cell_type": "code",
   "execution_count": 111,
   "id": "a94e9b0a",
   "metadata": {},
   "outputs": [],
   "source": [
    "df_final = pd.concat([df_f, df_norm], ignore_index=True)"
   ]
  },
  {
   "cell_type": "code",
   "execution_count": 112,
   "id": "03486921",
   "metadata": {},
   "outputs": [],
   "source": [
    "# Sort the DataFrame 'df_pop' by 'year' in ascending order\n",
    "df_final = df_final.sort_values(by=['Year','Region'], ascending=True)\n",
    "\n",
    "# Reset the index of the DataFrame 'df_pop'\n",
    "df_final = df_final.reset_index(drop=True)"
   ]
  },
  {
   "cell_type": "code",
   "execution_count": 113,
   "id": "4af2b2b7",
   "metadata": {},
   "outputs": [
    {
     "data": {
      "text/html": [
       "<div>\n",
       "<style scoped>\n",
       "    .dataframe tbody tr th:only-of-type {\n",
       "        vertical-align: middle;\n",
       "    }\n",
       "\n",
       "    .dataframe tbody tr th {\n",
       "        vertical-align: top;\n",
       "    }\n",
       "\n",
       "    .dataframe thead th {\n",
       "        text-align: right;\n",
       "    }\n",
       "</style>\n",
       "<table border=\"1\" class=\"dataframe\">\n",
       "  <thead>\n",
       "    <tr style=\"text-align: right;\">\n",
       "      <th></th>\n",
       "      <th>Year</th>\n",
       "      <th>% Households with Internet Access</th>\n",
       "    </tr>\n",
       "  </thead>\n",
       "  <tbody>\n",
       "    <tr>\n",
       "      <th>count</th>\n",
       "      <td>144.000000</td>\n",
       "      <td>144.000000</td>\n",
       "    </tr>\n",
       "    <tr>\n",
       "      <th>mean</th>\n",
       "      <td>2014.500000</td>\n",
       "      <td>77.885316</td>\n",
       "    </tr>\n",
       "    <tr>\n",
       "      <th>std</th>\n",
       "      <td>4.625862</td>\n",
       "      <td>12.611094</td>\n",
       "    </tr>\n",
       "    <tr>\n",
       "      <th>min</th>\n",
       "      <td>2007.000000</td>\n",
       "      <td>43.000000</td>\n",
       "    </tr>\n",
       "    <tr>\n",
       "      <th>25%</th>\n",
       "      <td>2010.750000</td>\n",
       "      <td>68.188828</td>\n",
       "    </tr>\n",
       "    <tr>\n",
       "      <th>50%</th>\n",
       "      <td>2014.500000</td>\n",
       "      <td>80.000000</td>\n",
       "    </tr>\n",
       "    <tr>\n",
       "      <th>75%</th>\n",
       "      <td>2018.250000</td>\n",
       "      <td>88.250000</td>\n",
       "    </tr>\n",
       "    <tr>\n",
       "      <th>max</th>\n",
       "      <td>2022.000000</td>\n",
       "      <td>97.571278</td>\n",
       "    </tr>\n",
       "  </tbody>\n",
       "</table>\n",
       "</div>"
      ],
      "text/plain": [
       "              Year  % Households with Internet Access\n",
       "count   144.000000                         144.000000\n",
       "mean   2014.500000                          77.885316\n",
       "std       4.625862                          12.611094\n",
       "min    2007.000000                          43.000000\n",
       "25%    2010.750000                          68.188828\n",
       "50%    2014.500000                          80.000000\n",
       "75%    2018.250000                          88.250000\n",
       "max    2022.000000                          97.571278"
      ]
     },
     "execution_count": 113,
     "metadata": {},
     "output_type": "execute_result"
    }
   ],
   "source": [
    "df_final.describe()"
   ]
  },
  {
   "cell_type": "code",
   "execution_count": 114,
   "id": "6a8bad2f",
   "metadata": {},
   "outputs": [
    {
     "data": {
      "image/png": "[encoded data removed]",
      "text/plain": [
       "<Figure size 800x300 with 1 Axes>"
      ]
     },
     "metadata": {},
     "output_type": "display_data"
    }
   ],
   "source": [
    "plt.figure(figsize=(8, 3))\n",
    "for region in unique_region_names:\n",
    "    df_region = df_final[df_final['Region'] == region]\n",
    "    plt.plot(df_region['Year'], df_region['% Households with Internet Access'], label=region)\n",
    "    plt.title('% of Households with Internet Access')\n",
    "    plt.legend(loc='upper right', bbox_to_anchor=(1.3, 1.03))"
   ]
  },
  {
   "cell_type": "code",
   "execution_count": null,
   "id": "2777e33b",
   "metadata": {},
   "outputs": [],
   "source": []
  },
  {
   "cell_type": "markdown",
   "id": "470ff75a",
   "metadata": {},
   "source": [
    "# 2 method to address the missing data - Interpolating NAs"
   ]
  },
  {
   "cell_type": "code",
   "execution_count": 119,
   "id": "8ed42617",
   "metadata": {},
   "outputs": [
    {
     "data": {
      "text/html": [
       "<div>\n",
       "<style scoped>\n",
       "    .dataframe tbody tr th:only-of-type {\n",
       "        vertical-align: middle;\n",
       "    }\n",
       "\n",
       "    .dataframe tbody tr th {\n",
       "        vertical-align: top;\n",
       "    }\n",
       "\n",
       "    .dataframe thead th {\n",
       "        text-align: right;\n",
       "    }\n",
       "</style>\n",
       "<table border=\"1\" class=\"dataframe\">\n",
       "  <thead>\n",
       "    <tr style=\"text-align: right;\">\n",
       "      <th></th>\n",
       "      <th>Statistic Label</th>\n",
       "      <th>Year</th>\n",
       "      <th>Region</th>\n",
       "      <th>UNIT</th>\n",
       "      <th>% Households with Internet Access</th>\n",
       "    </tr>\n",
       "  </thead>\n",
       "  <tbody>\n",
       "    <tr>\n",
       "      <th>0</th>\n",
       "      <td>Households with Computer connected to the Inte...</td>\n",
       "      <td>2007</td>\n",
       "      <td>Ireland</td>\n",
       "      <td>%</td>\n",
       "      <td>57.0</td>\n",
       "    </tr>\n",
       "    <tr>\n",
       "      <th>1</th>\n",
       "      <td>Households with Computer connected to the Inte...</td>\n",
       "      <td>2007</td>\n",
       "      <td>Dublin</td>\n",
       "      <td>%</td>\n",
       "      <td>66.0</td>\n",
       "    </tr>\n",
       "    <tr>\n",
       "      <th>2</th>\n",
       "      <td>Households with Computer connected to the Inte...</td>\n",
       "      <td>2007</td>\n",
       "      <td>Midlands</td>\n",
       "      <td>%</td>\n",
       "      <td>54.0</td>\n",
       "    </tr>\n",
       "    <tr>\n",
       "      <th>3</th>\n",
       "      <td>Households with Computer connected to the Inte...</td>\n",
       "      <td>2007</td>\n",
       "      <td>South-West</td>\n",
       "      <td>%</td>\n",
       "      <td>56.0</td>\n",
       "    </tr>\n",
       "    <tr>\n",
       "      <th>4</th>\n",
       "      <td>Households with Computer connected to the Inte...</td>\n",
       "      <td>2007</td>\n",
       "      <td>Border</td>\n",
       "      <td>%</td>\n",
       "      <td>43.0</td>\n",
       "    </tr>\n",
       "  </tbody>\n",
       "</table>\n",
       "</div>"
      ],
      "text/plain": [
       "                                     Statistic Label  Year      Region UNIT  \\\n",
       "0  Households with Computer connected to the Inte...  2007     Ireland    %   \n",
       "1  Households with Computer connected to the Inte...  2007      Dublin    %   \n",
       "2  Households with Computer connected to the Inte...  2007    Midlands    %   \n",
       "3  Households with Computer connected to the Inte...  2007  South-West    %   \n",
       "4  Households with Computer connected to the Inte...  2007      Border    %   \n",
       "\n",
       "   % Households with Internet Access  \n",
       "0                               57.0  \n",
       "1                               66.0  \n",
       "2                               54.0  \n",
       "3                               56.0  \n",
       "4                               43.0  "
      ]
     },
     "execution_count": 119,
     "metadata": {},
     "output_type": "execute_result"
    }
   ],
   "source": [
    "df_ica = pd.read_csv(\"ICA_m.csv\")\n",
    "df_ica.head()"
   ]
  },
  {
   "cell_type": "code",
   "execution_count": 116,
   "id": "ccdf3d58",
   "metadata": {},
   "outputs": [],
   "source": [
    "# Create a set to store the unique names of the regions\n",
    "region_names = set()\n",
    "\n",
    "# Iterate over the data frame and add each region name to the set\n",
    "for region in df_ica['Region']:\n",
    "    region_names.add(region)\n",
    "\n",
    "# Convert the set to a list\n",
    "unique_region_names = list(region_names)"
   ]
  },
  {
   "cell_type": "code",
   "execution_count": 117,
   "id": "6f3a875b",
   "metadata": {},
   "outputs": [],
   "source": [
    "years_to_interpolate = [2017, 2018, 2019]\n",
    "\n",
    "# Create a list of lists, where each sublist contains the values for a single row in the new data frame\n",
    "data = []\n",
    "for year in years_to_interpolate:\n",
    "    for region in unique_region_names:\n",
    "        row = [np.nan, year, region, np.nan, np.nan]\n",
    "        data.append(row)"
   ]
  },
  {
   "cell_type": "code",
   "execution_count": 120,
   "id": "7a7beb10",
   "metadata": {},
   "outputs": [],
   "source": [
    "df = pd.DataFrame(data, columns=['Statistic Label', 'Year', 'Region', 'UNIT', '% Households with Internet Access'])"
   ]
  },
  {
   "cell_type": "code",
   "execution_count": 121,
   "id": "717bcf74",
   "metadata": {},
   "outputs": [],
   "source": [
    "df_ica = pd.concat([df_ica, df], ignore_index=True)"
   ]
  },
  {
   "cell_type": "code",
   "execution_count": 122,
   "id": "9947d935",
   "metadata": {
    "scrolled": false
   },
   "outputs": [
    {
     "data": {
      "text/html": [
       "<div>\n",
       "<style scoped>\n",
       "    .dataframe tbody tr th:only-of-type {\n",
       "        vertical-align: middle;\n",
       "    }\n",
       "\n",
       "    .dataframe tbody tr th {\n",
       "        vertical-align: top;\n",
       "    }\n",
       "\n",
       "    .dataframe thead th {\n",
       "        text-align: right;\n",
       "    }\n",
       "</style>\n",
       "<table border=\"1\" class=\"dataframe\">\n",
       "  <thead>\n",
       "    <tr style=\"text-align: right;\">\n",
       "      <th></th>\n",
       "      <th>Statistic Label</th>\n",
       "      <th>Year</th>\n",
       "      <th>Region</th>\n",
       "      <th>UNIT</th>\n",
       "      <th>% Households with Internet Access</th>\n",
       "    </tr>\n",
       "  </thead>\n",
       "  <tbody>\n",
       "    <tr>\n",
       "      <th>0</th>\n",
       "      <td>Households with Computer connected to the Inte...</td>\n",
       "      <td>2007</td>\n",
       "      <td>Ireland</td>\n",
       "      <td>%</td>\n",
       "      <td>57.0</td>\n",
       "    </tr>\n",
       "    <tr>\n",
       "      <th>1</th>\n",
       "      <td>Households with Computer connected to the Inte...</td>\n",
       "      <td>2007</td>\n",
       "      <td>Dublin</td>\n",
       "      <td>%</td>\n",
       "      <td>66.0</td>\n",
       "    </tr>\n",
       "    <tr>\n",
       "      <th>2</th>\n",
       "      <td>Households with Computer connected to the Inte...</td>\n",
       "      <td>2007</td>\n",
       "      <td>Midlands</td>\n",
       "      <td>%</td>\n",
       "      <td>54.0</td>\n",
       "    </tr>\n",
       "    <tr>\n",
       "      <th>3</th>\n",
       "      <td>Households with Computer connected to the Inte...</td>\n",
       "      <td>2007</td>\n",
       "      <td>South-West</td>\n",
       "      <td>%</td>\n",
       "      <td>56.0</td>\n",
       "    </tr>\n",
       "    <tr>\n",
       "      <th>4</th>\n",
       "      <td>Households with Computer connected to the Inte...</td>\n",
       "      <td>2007</td>\n",
       "      <td>Border</td>\n",
       "      <td>%</td>\n",
       "      <td>43.0</td>\n",
       "    </tr>\n",
       "  </tbody>\n",
       "</table>\n",
       "</div>"
      ],
      "text/plain": [
       "                                     Statistic Label  Year      Region UNIT  \\\n",
       "0  Households with Computer connected to the Inte...  2007     Ireland    %   \n",
       "1  Households with Computer connected to the Inte...  2007      Dublin    %   \n",
       "2  Households with Computer connected to the Inte...  2007    Midlands    %   \n",
       "3  Households with Computer connected to the Inte...  2007  South-West    %   \n",
       "4  Households with Computer connected to the Inte...  2007      Border    %   \n",
       "\n",
       "   % Households with Internet Access  \n",
       "0                               57.0  \n",
       "1                               66.0  \n",
       "2                               54.0  \n",
       "3                               56.0  \n",
       "4                               43.0  "
      ]
     },
     "execution_count": 122,
     "metadata": {},
     "output_type": "execute_result"
    }
   ],
   "source": [
    "df_ica.head()"
   ]
  },
  {
   "cell_type": "code",
   "execution_count": 123,
   "id": "a9b329f0",
   "metadata": {
    "scrolled": true
   },
   "outputs": [
    {
     "name": "stdout",
     "output_type": "stream",
     "text": [
      "<class 'pandas.core.frame.DataFrame'>\n",
      "RangeIndex: 144 entries, 0 to 143\n",
      "Data columns (total 5 columns):\n",
      " #   Column                             Non-Null Count  Dtype  \n",
      "---  ------                             --------------  -----  \n",
      " 0   Statistic Label                    117 non-null    object \n",
      " 1   Year                               144 non-null    int64  \n",
      " 2   Region                             144 non-null    object \n",
      " 3   UNIT                               117 non-null    object \n",
      " 4   % Households with Internet Access  117 non-null    float64\n",
      "dtypes: float64(1), int64(1), object(3)\n",
      "memory usage: 5.8+ KB\n"
     ]
    }
   ],
   "source": [
    "df_ica.info()"
   ]
  },
  {
   "cell_type": "code",
   "execution_count": 124,
   "id": "b573daf6",
   "metadata": {},
   "outputs": [],
   "source": [
    "df_ica['Statistic Label'] = df_ica['Statistic Label'].fillna('% Households  with internet access')\n",
    "df_ica['UNIT'] = df_ica['UNIT'].fillna('%')"
   ]
  },
  {
   "cell_type": "code",
   "execution_count": 125,
   "id": "307e80e5",
   "metadata": {},
   "outputs": [
    {
     "name": "stdout",
     "output_type": "stream",
     "text": [
      "<class 'pandas.core.frame.DataFrame'>\n",
      "RangeIndex: 144 entries, 0 to 143\n",
      "Data columns (total 5 columns):\n",
      " #   Column                             Non-Null Count  Dtype  \n",
      "---  ------                             --------------  -----  \n",
      " 0   Statistic Label                    144 non-null    object \n",
      " 1   Year                               144 non-null    int64  \n",
      " 2   Region                             144 non-null    object \n",
      " 3   UNIT                               144 non-null    object \n",
      " 4   % Households with Internet Access  117 non-null    float64\n",
      "dtypes: float64(1), int64(1), object(3)\n",
      "memory usage: 5.8+ KB\n"
     ]
    }
   ],
   "source": [
    "df_ica.info()"
   ]
  },
  {
   "cell_type": "code",
   "execution_count": 126,
   "id": "3cfe0787",
   "metadata": {},
   "outputs": [],
   "source": [
    "# Sort the DataFrame 'df_pop' by 'year' in ascending order\n",
    "df_ica = df_ica.sort_values(by=['Year'], ascending=True)\n",
    "\n",
    "# Reset the index of the DataFrame 'df_pop'\n",
    "df_ica = df_ica.reset_index(drop=True)"
   ]
  },
  {
   "cell_type": "code",
   "execution_count": 127,
   "id": "a323e1b0",
   "metadata": {},
   "outputs": [],
   "source": [
    "# Group the DataFrame by region\n",
    "grouped_dataframe = df_ica.groupby(\"Region\")\n",
    "\n",
    "# Interpolate the missing values in each region\n",
    "interpolated_dataframe = grouped_dataframe.apply(lambda group: group.interpolate(method=\"linear\", axis=0))\n",
    "\n",
    "# Ungroup the DataFrame\n",
    "interpolated_dataframe = interpolated_dataframe.reset_index(drop=True)\n"
   ]
  },
  {
   "cell_type": "code",
   "execution_count": 128,
   "id": "225c8b8d",
   "metadata": {},
   "outputs": [],
   "source": [
    "# Sort the DataFrame 'df_pop' by 'year' in ascending order\n",
    "df_ica = interpolated_dataframe.sort_values(by=['Year'], ascending=True)\n",
    "\n",
    "# Reset the index of the DataFrame 'df_pop'\n",
    "df_ica = df_ica.reset_index(drop=True)"
   ]
  },
  {
   "cell_type": "code",
   "execution_count": 129,
   "id": "fcea86b6",
   "metadata": {
    "scrolled": false
   },
   "outputs": [
    {
     "data": {
      "text/html": [
       "<div>\n",
       "<style scoped>\n",
       "    .dataframe tbody tr th:only-of-type {\n",
       "        vertical-align: middle;\n",
       "    }\n",
       "\n",
       "    .dataframe tbody tr th {\n",
       "        vertical-align: top;\n",
       "    }\n",
       "\n",
       "    .dataframe thead th {\n",
       "        text-align: right;\n",
       "    }\n",
       "</style>\n",
       "<table border=\"1\" class=\"dataframe\">\n",
       "  <thead>\n",
       "    <tr style=\"text-align: right;\">\n",
       "      <th></th>\n",
       "      <th>Statistic Label</th>\n",
       "      <th>Year</th>\n",
       "      <th>Region</th>\n",
       "      <th>UNIT</th>\n",
       "      <th>% Households with Internet Access</th>\n",
       "    </tr>\n",
       "  </thead>\n",
       "  <tbody>\n",
       "    <tr>\n",
       "      <th>0</th>\n",
       "      <td>Households with Computer connected to the Inte...</td>\n",
       "      <td>2007</td>\n",
       "      <td>Border</td>\n",
       "      <td>%</td>\n",
       "      <td>43.0</td>\n",
       "    </tr>\n",
       "    <tr>\n",
       "      <th>1</th>\n",
       "      <td>Households with Computer connected to the Inte...</td>\n",
       "      <td>2007</td>\n",
       "      <td>Mid-West</td>\n",
       "      <td>%</td>\n",
       "      <td>58.0</td>\n",
       "    </tr>\n",
       "    <tr>\n",
       "      <th>2</th>\n",
       "      <td>Households with Computer connected to the Inte...</td>\n",
       "      <td>2007</td>\n",
       "      <td>Midlands</td>\n",
       "      <td>%</td>\n",
       "      <td>54.0</td>\n",
       "    </tr>\n",
       "    <tr>\n",
       "      <th>3</th>\n",
       "      <td>Households with Computer connected to the Inte...</td>\n",
       "      <td>2007</td>\n",
       "      <td>Mid-East</td>\n",
       "      <td>%</td>\n",
       "      <td>66.0</td>\n",
       "    </tr>\n",
       "    <tr>\n",
       "      <th>4</th>\n",
       "      <td>Households with Computer connected to the Inte...</td>\n",
       "      <td>2007</td>\n",
       "      <td>South-East</td>\n",
       "      <td>%</td>\n",
       "      <td>49.0</td>\n",
       "    </tr>\n",
       "  </tbody>\n",
       "</table>\n",
       "</div>"
      ],
      "text/plain": [
       "                                     Statistic Label  Year      Region UNIT  \\\n",
       "0  Households with Computer connected to the Inte...  2007      Border    %   \n",
       "1  Households with Computer connected to the Inte...  2007    Mid-West    %   \n",
       "2  Households with Computer connected to the Inte...  2007    Midlands    %   \n",
       "3  Households with Computer connected to the Inte...  2007    Mid-East    %   \n",
       "4  Households with Computer connected to the Inte...  2007  South-East    %   \n",
       "\n",
       "   % Households with Internet Access  \n",
       "0                               43.0  \n",
       "1                               58.0  \n",
       "2                               54.0  \n",
       "3                               66.0  \n",
       "4                               49.0  "
      ]
     },
     "execution_count": 129,
     "metadata": {},
     "output_type": "execute_result"
    }
   ],
   "source": [
    "df_ica.head()"
   ]
  },
  {
   "cell_type": "code",
   "execution_count": 134,
   "id": "79aeb933",
   "metadata": {},
   "outputs": [
    {
     "data": {
      "image/png": "[encoded data removed]",
      "text/plain": [
       "<Figure size 900x900 with 9 Axes>"
      ]
     },
     "metadata": {},
     "output_type": "display_data"
    }
   ],
   "source": [
    "from matplotlib.gridspec import GridSpec\n",
    "import matplotlib.ticker as ticker\n",
    "\n",
    "# Create a 2-column grid layout\n",
    "gs = GridSpec(nrows=5, ncols=2)\n",
    "\n",
    "# Create a figure\n",
    "fig = plt.figure(figsize=(9, 9))\n",
    "\n",
    "# Add subplots to the figure using the grid layout\n",
    "axs = []\n",
    "for i, region in enumerate(df_ica['Region'].unique()):\n",
    "    ax = fig.add_subplot(gs[i])\n",
    "    axs.append(ax)\n",
    "\n",
    "# Plot the graphs for each region\n",
    "for i, region in enumerate(df_ica['Region'].unique()):\n",
    "    ax = axs[i]\n",
    "\n",
    "    # Get the subset of the data frame for the current region\n",
    "    df_region = df_ica[df_ica['Region'] == region]\n",
    "\n",
    "    # Plot the graph for the current region\n",
    "    ax.plot(df_region['Year'], df_region['% Households with Internet Access'], '*', label=region)\n",
    "    ax.legend()\n",
    "    ax.set_title(f'% Households with internet access {region}')\n",
    "    ax.yaxis.set_major_formatter(ticker.EngFormatter())\n",
    "\n",
    "# Adjust the layout of the figure\n",
    "fig.tight_layout()\n",
    "\n",
    "# Show the plot\n",
    "plt.show()"
   ]
  },
  {
   "cell_type": "code",
   "execution_count": 133,
   "id": "e75aa3c7",
   "metadata": {},
   "outputs": [],
   "source": [
    "df.to_csv(\"ICA_c.csv\", index = False)"
   ]
  },
  {
   "cell_type": "code",
   "execution_count": null,
   "id": "27e53fa1",
   "metadata": {},
   "outputs": [],
   "source": []
  }
 ],
 "metadata": {
  "kernelspec": {
   "display_name": "Python 3 (ipykernel)",
   "language": "python",
   "name": "python3"
  },
  "language_info": {
   "codemirror_mode": {
    "name": "ipython",
    "version": 3
   },
   "file_extension": ".py",
   "mimetype": "text/x-python",
   "name": "python",
   "nbconvert_exporter": "python",
   "pygments_lexer": "ipython3",
   "version": "3.11.4"
  }
 },
 "nbformat": 4,
 "nbformat_minor": 5
}
