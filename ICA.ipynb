{
 "cells": [
  {
   "cell_type": "markdown",
   "id": "5b91cc8e",
   "metadata": {},
   "source": [
    "# Step 2. EDA for files with percentage of households with Internet access\n",
    "Step 1: loading and exploring files\n",
    "\n",
    "Step 2: transforming both data frames in the same view by rearranging, renaming and sorting\n",
    "\n",
    "Step 3: combining both data frames in 1\n",
    "\n",
    "Step 4: Applying 2 methonds to fill missing values"
   ]
  },
  {
   "cell_type": "code",
   "execution_count": 2,
   "id": "68ba6fa6",
   "metadata": {},
   "outputs": [],
   "source": [
    "#IMPORTING LIBRARIES\n",
    "import pandas as pd\n",
    "import numpy as np\n",
    "import matplotlib.pyplot as plt\n",
    "import seaborn as sns\n",
    "\n",
    "\n",
    "# Suppress the warnings\n",
    "import warnings\n",
    "warnings.filterwarnings('ignore')"
   ]
  },
  {
   "cell_type": "markdown",
   "id": "5c8d0256",
   "metadata": {},
   "source": [
    "##### Step 1"
   ]
  },
  {
   "cell_type": "code",
   "execution_count": 3,
   "id": "a038d402",
   "metadata": {
    "scrolled": true
   },
   "outputs": [
    {
     "data": {
      "text/html": [
       "<div>\n",
       "<style scoped>\n",
       "    .dataframe tbody tr th:only-of-type {\n",
       "        vertical-align: middle;\n",
       "    }\n",
       "\n",
       "    .dataframe tbody tr th {\n",
       "        vertical-align: top;\n",
       "    }\n",
       "\n",
       "    .dataframe thead th {\n",
       "        text-align: right;\n",
       "    }\n",
       "</style>\n",
       "<table border=\"1\" class=\"dataframe\">\n",
       "  <thead>\n",
       "    <tr style=\"text-align: right;\">\n",
       "      <th></th>\n",
       "      <th>Region</th>\n",
       "      <th>Year</th>\n",
       "      <th>Statistic Label</th>\n",
       "      <th>UNIT</th>\n",
       "      <th>VALUE</th>\n",
       "    </tr>\n",
       "  </thead>\n",
       "  <tbody>\n",
       "    <tr>\n",
       "      <th>0</th>\n",
       "      <td>State</td>\n",
       "      <td>2007</td>\n",
       "      <td>Households with Computer</td>\n",
       "      <td>%</td>\n",
       "      <td>65.0</td>\n",
       "    </tr>\n",
       "    <tr>\n",
       "      <th>1</th>\n",
       "      <td>State</td>\n",
       "      <td>2007</td>\n",
       "      <td>Households with Computer Unweighted Sample</td>\n",
       "      <td>Number</td>\n",
       "      <td>4361.0</td>\n",
       "    </tr>\n",
       "    <tr>\n",
       "      <th>2</th>\n",
       "      <td>State</td>\n",
       "      <td>2007</td>\n",
       "      <td>Households with Computer connected to the Inte...</td>\n",
       "      <td>%</td>\n",
       "      <td>57.0</td>\n",
       "    </tr>\n",
       "    <tr>\n",
       "      <th>3</th>\n",
       "      <td>State</td>\n",
       "      <td>2007</td>\n",
       "      <td>Households with Computer connected to the Inte...</td>\n",
       "      <td>Number</td>\n",
       "      <td>4361.0</td>\n",
       "    </tr>\n",
       "    <tr>\n",
       "      <th>4</th>\n",
       "      <td>State</td>\n",
       "      <td>2008</td>\n",
       "      <td>Households with Computer</td>\n",
       "      <td>%</td>\n",
       "      <td>70.0</td>\n",
       "    </tr>\n",
       "  </tbody>\n",
       "</table>\n",
       "</div>"
      ],
      "text/plain": [
       "  Region  Year                                    Statistic Label    UNIT  \\\n",
       "0  State  2007                           Households with Computer       %   \n",
       "1  State  2007         Households with Computer Unweighted Sample  Number   \n",
       "2  State  2007  Households with Computer connected to the Inte...       %   \n",
       "3  State  2007  Households with Computer connected to the Inte...  Number   \n",
       "4  State  2008                           Households with Computer       %   \n",
       "\n",
       "    VALUE  \n",
       "0    65.0  \n",
       "1  4361.0  \n",
       "2    57.0  \n",
       "3  4361.0  \n",
       "4    70.0  "
      ]
     },
     "execution_count": 3,
     "metadata": {},
     "output_type": "execute_result"
    }
   ],
   "source": [
    "#loading 1st file and displaynig first 5 rows\n",
    "df_ica1 = pd.read_csv(\"ICA29.csv\")\n",
    "df_ica1.head()"
   ]
  },
  {
   "cell_type": "code",
   "execution_count": 4,
   "id": "152f548e",
   "metadata": {},
   "outputs": [
    {
     "data": {
      "text/plain": [
       "(360, 5)"
      ]
     },
     "execution_count": 4,
     "metadata": {},
     "output_type": "execute_result"
    }
   ],
   "source": [
    "#checking nr of rows\n",
    "df_ica1.shape"
   ]
  },
  {
   "cell_type": "code",
   "execution_count": 5,
   "id": "1113ac9b",
   "metadata": {},
   "outputs": [
    {
     "data": {
      "text/plain": [
       "array([2007, 2008, 2009, 2010, 2011, 2012, 2013, 2014, 2015, 2016],\n",
       "      dtype=int64)"
      ]
     },
     "execution_count": 5,
     "metadata": {},
     "output_type": "execute_result"
    }
   ],
   "source": [
    "#checking available years\n",
    "df_ica1.Year.unique()"
   ]
  },
  {
   "cell_type": "code",
   "execution_count": 6,
   "id": "8b2ea7be",
   "metadata": {
    "scrolled": true
   },
   "outputs": [
    {
     "data": {
      "text/html": [
       "<div>\n",
       "<style scoped>\n",
       "    .dataframe tbody tr th:only-of-type {\n",
       "        vertical-align: middle;\n",
       "    }\n",
       "\n",
       "    .dataframe tbody tr th {\n",
       "        vertical-align: top;\n",
       "    }\n",
       "\n",
       "    .dataframe thead th {\n",
       "        text-align: right;\n",
       "    }\n",
       "</style>\n",
       "<table border=\"1\" class=\"dataframe\">\n",
       "  <thead>\n",
       "    <tr style=\"text-align: right;\">\n",
       "      <th></th>\n",
       "      <th>STATISTIC Label</th>\n",
       "      <th>Year</th>\n",
       "      <th>NUTS 3 Region</th>\n",
       "      <th>UNIT</th>\n",
       "      <th>VALUE</th>\n",
       "    </tr>\n",
       "  </thead>\n",
       "  <tbody>\n",
       "    <tr>\n",
       "      <th>0</th>\n",
       "      <td>Households  with internet access</td>\n",
       "      <td>2022</td>\n",
       "      <td>State</td>\n",
       "      <td>%</td>\n",
       "      <td>94</td>\n",
       "    </tr>\n",
       "    <tr>\n",
       "      <th>1</th>\n",
       "      <td>Households  with internet access</td>\n",
       "      <td>2022</td>\n",
       "      <td>Border</td>\n",
       "      <td>%</td>\n",
       "      <td>90</td>\n",
       "    </tr>\n",
       "    <tr>\n",
       "      <th>2</th>\n",
       "      <td>Households  with internet access</td>\n",
       "      <td>2022</td>\n",
       "      <td>Midland</td>\n",
       "      <td>%</td>\n",
       "      <td>93</td>\n",
       "    </tr>\n",
       "    <tr>\n",
       "      <th>3</th>\n",
       "      <td>Households  with internet access</td>\n",
       "      <td>2022</td>\n",
       "      <td>West</td>\n",
       "      <td>%</td>\n",
       "      <td>91</td>\n",
       "    </tr>\n",
       "    <tr>\n",
       "      <th>4</th>\n",
       "      <td>Households  with internet access</td>\n",
       "      <td>2022</td>\n",
       "      <td>Dublin</td>\n",
       "      <td>%</td>\n",
       "      <td>97</td>\n",
       "    </tr>\n",
       "  </tbody>\n",
       "</table>\n",
       "</div>"
      ],
      "text/plain": [
       "                    STATISTIC Label  Year NUTS 3 Region UNIT  VALUE\n",
       "0  Households  with internet access  2022         State    %     94\n",
       "1  Households  with internet access  2022        Border    %     90\n",
       "2  Households  with internet access  2022       Midland    %     93\n",
       "3  Households  with internet access  2022          West    %     91\n",
       "4  Households  with internet access  2022        Dublin    %     97"
      ]
     },
     "execution_count": 6,
     "metadata": {},
     "output_type": "execute_result"
    }
   ],
   "source": [
    "# Loading 2nd file\n",
    "df_ica2 = pd.read_csv(\"ICA172.csv\")\n",
    "df_ica2.head()"
   ]
  },
  {
   "cell_type": "code",
   "execution_count": 7,
   "id": "e698f01e",
   "metadata": {},
   "outputs": [
    {
     "data": {
      "text/plain": [
       "(27, 5)"
      ]
     },
     "execution_count": 7,
     "metadata": {},
     "output_type": "execute_result"
    }
   ],
   "source": [
    "#checking nr of rows\n",
    "df_ica2.shape"
   ]
  },
  {
   "cell_type": "code",
   "execution_count": 8,
   "id": "c5bfc904",
   "metadata": {},
   "outputs": [
    {
     "data": {
      "text/plain": [
       "array([2022, 2021, 2020], dtype=int64)"
      ]
     },
     "execution_count": 8,
     "metadata": {},
     "output_type": "execute_result"
    }
   ],
   "source": [
    "#checking available years\n",
    "\n",
    "df_ica2.Year.unique()"
   ]
  },
  {
   "cell_type": "code",
   "execution_count": 9,
   "id": "3cc4103f",
   "metadata": {
    "scrolled": true
   },
   "outputs": [
    {
     "data": {
      "text/html": [
       "<div>\n",
       "<style scoped>\n",
       "    .dataframe tbody tr th:only-of-type {\n",
       "        vertical-align: middle;\n",
       "    }\n",
       "\n",
       "    .dataframe tbody tr th {\n",
       "        vertical-align: top;\n",
       "    }\n",
       "\n",
       "    .dataframe thead th {\n",
       "        text-align: right;\n",
       "    }\n",
       "</style>\n",
       "<table border=\"1\" class=\"dataframe\">\n",
       "  <thead>\n",
       "    <tr style=\"text-align: right;\">\n",
       "      <th></th>\n",
       "      <th>Statistic Label</th>\n",
       "      <th>Year</th>\n",
       "      <th>Region</th>\n",
       "      <th>UNIT</th>\n",
       "      <th>VALUE</th>\n",
       "    </tr>\n",
       "  </thead>\n",
       "  <tbody>\n",
       "    <tr>\n",
       "      <th>0</th>\n",
       "      <td>Households with Computer</td>\n",
       "      <td>2007</td>\n",
       "      <td>State</td>\n",
       "      <td>%</td>\n",
       "      <td>65.0</td>\n",
       "    </tr>\n",
       "    <tr>\n",
       "      <th>1</th>\n",
       "      <td>Households with Computer Unweighted Sample</td>\n",
       "      <td>2007</td>\n",
       "      <td>State</td>\n",
       "      <td>Number</td>\n",
       "      <td>4361.0</td>\n",
       "    </tr>\n",
       "    <tr>\n",
       "      <th>2</th>\n",
       "      <td>Households with Computer connected to the Inte...</td>\n",
       "      <td>2007</td>\n",
       "      <td>State</td>\n",
       "      <td>%</td>\n",
       "      <td>57.0</td>\n",
       "    </tr>\n",
       "    <tr>\n",
       "      <th>3</th>\n",
       "      <td>Households with Computer connected to the Inte...</td>\n",
       "      <td>2007</td>\n",
       "      <td>State</td>\n",
       "      <td>Number</td>\n",
       "      <td>4361.0</td>\n",
       "    </tr>\n",
       "    <tr>\n",
       "      <th>4</th>\n",
       "      <td>Households with Computer</td>\n",
       "      <td>2008</td>\n",
       "      <td>State</td>\n",
       "      <td>%</td>\n",
       "      <td>70.0</td>\n",
       "    </tr>\n",
       "  </tbody>\n",
       "</table>\n",
       "</div>"
      ],
      "text/plain": [
       "                                     Statistic Label  Year Region    UNIT  \\\n",
       "0                           Households with Computer  2007  State       %   \n",
       "1         Households with Computer Unweighted Sample  2007  State  Number   \n",
       "2  Households with Computer connected to the Inte...  2007  State       %   \n",
       "3  Households with Computer connected to the Inte...  2007  State  Number   \n",
       "4                           Households with Computer  2008  State       %   \n",
       "\n",
       "    VALUE  \n",
       "0    65.0  \n",
       "1  4361.0  \n",
       "2    57.0  \n",
       "3  4361.0  \n",
       "4    70.0  "
      ]
     },
     "execution_count": 9,
     "metadata": {},
     "output_type": "execute_result"
    }
   ],
   "source": [
    "#re-order columns \n",
    "df_ica1 = df_ica1[['Statistic Label','Year','Region','UNIT','VALUE']]\n",
    "df_ica1.head()"
   ]
  },
  {
   "cell_type": "code",
   "execution_count": 10,
   "id": "2e1480c1",
   "metadata": {},
   "outputs": [],
   "source": [
    "#removin excessive rows\n",
    "df_ica1 = df_ica1.drop(df_ica1[(df_ica1[\"Statistic Label\"] != \"Households with Computer connected to the Internet\")].index)"
   ]
  },
  {
   "cell_type": "code",
   "execution_count": 11,
   "id": "aa39d591",
   "metadata": {
    "scrolled": true
   },
   "outputs": [
    {
     "data": {
      "text/plain": [
       "(90, 5)"
      ]
     },
     "execution_count": 11,
     "metadata": {},
     "output_type": "execute_result"
    }
   ],
   "source": [
    "# checking nr of rows\n",
    "df_ica1.shape"
   ]
  },
  {
   "cell_type": "markdown",
   "id": "8e641526",
   "metadata": {},
   "source": [
    "**Observation**\n",
    "\n",
    "data frame df_ica1 has some excessive irrelevant data that was removed\n",
    "\n",
    "columns were rearranged to have same order in both data frames"
   ]
  },
  {
   "cell_type": "code",
   "execution_count": 12,
   "id": "2dd66eda",
   "metadata": {},
   "outputs": [],
   "source": [
    "#renaming columns in 2nd data frame to have same view as in the 1st one to smoth concatination\n",
    "df_ica2 = df_ica2.rename(columns={'STATISTIC Label': 'Statistic Label'})\n",
    "df_ica2 = df_ica2.rename(columns={'NUTS 3 Region': 'Region'})"
   ]
  },
  {
   "cell_type": "code",
   "execution_count": 13,
   "id": "e7eb38c4",
   "metadata": {
    "scrolled": false
   },
   "outputs": [
    {
     "name": "stdout",
     "output_type": "stream",
     "text": [
      "<class 'pandas.core.frame.DataFrame'>\n",
      "RangeIndex: 117 entries, 0 to 116\n",
      "Data columns (total 5 columns):\n",
      " #   Column           Non-Null Count  Dtype  \n",
      "---  ------           --------------  -----  \n",
      " 0   Statistic Label  117 non-null    object \n",
      " 1   Year             117 non-null    int64  \n",
      " 2   Region           117 non-null    object \n",
      " 3   UNIT             117 non-null    object \n",
      " 4   VALUE            117 non-null    float64\n",
      "dtypes: float64(1), int64(1), object(3)\n",
      "memory usage: 4.7+ KB\n"
     ]
    }
   ],
   "source": [
    "# combining both data frames\n",
    "df_ica = pd.concat([df_ica1, df_ica2], ignore_index=True)\n",
    "df_ica.info()"
   ]
  },
  {
   "cell_type": "code",
   "execution_count": 14,
   "id": "3e4ad9b5",
   "metadata": {},
   "outputs": [],
   "source": [
    "# Sort the DataFrame 'df_pop' by 'year' in ascending order\n",
    "df_ica = df_ica.sort_values(by=['Year'], ascending=True)\n",
    "\n",
    "# Reset the index of the DataFrame 'df_pop'\n",
    "df_ica = df_ica.reset_index(drop=True)"
   ]
  },
  {
   "cell_type": "code",
   "execution_count": 15,
   "id": "d2a25d63",
   "metadata": {
    "scrolled": false
   },
   "outputs": [
    {
     "data": {
      "text/plain": [
       "array([2007, 2008, 2009, 2010, 2011, 2012, 2013, 2014, 2015, 2016, 2020,\n",
       "       2021, 2022], dtype=int64)"
      ]
     },
     "execution_count": 15,
     "metadata": {},
     "output_type": "execute_result"
    }
   ],
   "source": [
    "#checking that all years are here \n",
    "df_ica.Year.unique()"
   ]
  },
  {
   "cell_type": "code",
   "execution_count": 16,
   "id": "633290b3",
   "metadata": {
    "scrolled": true
   },
   "outputs": [],
   "source": [
    "# In column 'Region' replacing value 'State' with 'Ireland' and 'Midland' with 'Midlands'\n",
    "df_ica = df_ica.replace('State', 'Ireland')"
   ]
  },
  {
   "cell_type": "code",
   "execution_count": 17,
   "id": "ac85696b",
   "metadata": {},
   "outputs": [],
   "source": [
    "df_ica = df_ica.replace('Midland', 'Midlands')"
   ]
  },
  {
   "cell_type": "code",
   "execution_count": 18,
   "id": "09d1f921",
   "metadata": {},
   "outputs": [],
   "source": [
    "#getting final view for VALUE column\n",
    "df_ica.rename(columns={'VALUE': '% Households with Internet Access'}, inplace=True)"
   ]
  },
  {
   "cell_type": "code",
   "execution_count": 19,
   "id": "b6575131",
   "metadata": {
    "scrolled": true
   },
   "outputs": [
    {
     "data": {
      "text/html": [
       "<div>\n",
       "<style scoped>\n",
       "    .dataframe tbody tr th:only-of-type {\n",
       "        vertical-align: middle;\n",
       "    }\n",
       "\n",
       "    .dataframe tbody tr th {\n",
       "        vertical-align: top;\n",
       "    }\n",
       "\n",
       "    .dataframe thead th {\n",
       "        text-align: right;\n",
       "    }\n",
       "</style>\n",
       "<table border=\"1\" class=\"dataframe\">\n",
       "  <thead>\n",
       "    <tr style=\"text-align: right;\">\n",
       "      <th></th>\n",
       "      <th>Year</th>\n",
       "      <th>Region</th>\n",
       "      <th>% Households with Internet Access</th>\n",
       "    </tr>\n",
       "  </thead>\n",
       "  <tbody>\n",
       "    <tr>\n",
       "      <th>0</th>\n",
       "      <td>2007</td>\n",
       "      <td>Ireland</td>\n",
       "      <td>57.0</td>\n",
       "    </tr>\n",
       "    <tr>\n",
       "      <th>1</th>\n",
       "      <td>2007</td>\n",
       "      <td>Dublin</td>\n",
       "      <td>66.0</td>\n",
       "    </tr>\n",
       "    <tr>\n",
       "      <th>2</th>\n",
       "      <td>2007</td>\n",
       "      <td>Midlands</td>\n",
       "      <td>54.0</td>\n",
       "    </tr>\n",
       "    <tr>\n",
       "      <th>3</th>\n",
       "      <td>2007</td>\n",
       "      <td>South-West</td>\n",
       "      <td>56.0</td>\n",
       "    </tr>\n",
       "    <tr>\n",
       "      <th>4</th>\n",
       "      <td>2007</td>\n",
       "      <td>Border</td>\n",
       "      <td>43.0</td>\n",
       "    </tr>\n",
       "  </tbody>\n",
       "</table>\n",
       "</div>"
      ],
      "text/plain": [
       "   Year      Region  % Households with Internet Access\n",
       "0  2007     Ireland                               57.0\n",
       "1  2007      Dublin                               66.0\n",
       "2  2007    Midlands                               54.0\n",
       "3  2007  South-West                               56.0\n",
       "4  2007      Border                               43.0"
      ]
     },
     "execution_count": 19,
     "metadata": {},
     "output_type": "execute_result"
    }
   ],
   "source": [
    "#getting resultng data frame that will be used in the future and displaying it\n",
    "df = pd.DataFrame(df_ica, columns=['Year', 'Region', '% Households with Internet Access'])\n",
    "df.head()"
   ]
  },
  {
   "cell_type": "code",
   "execution_count": 36,
   "id": "a9591990",
   "metadata": {},
   "outputs": [],
   "source": [
    "# Plotting resulting data frame to see dependency between year and % of Households with Internet Access per each region\n",
    "#using '+' for linestyle to identify trend and gaps"
   ]
  },
  {
   "cell_type": "code",
   "execution_count": 35,
   "id": "88163957",
   "metadata": {
    "scrolled": false
   },
   "outputs": [
    {
     "data": {
      "image/png": "[encoded data removed]",
      "text/plain": [
       "<Figure size 900x900 with 9 Axes>"
      ]
     },
     "metadata": {},
     "output_type": "display_data"
    }
   ],
   "source": [
    "from matplotlib.gridspec import GridSpec\n",
    "# Create a 2-column grid layout\n",
    "gs = GridSpec(nrows=5, ncols=2)\n",
    "# Create a figure\n",
    "fig = plt.figure(figsize=(9, 9))\n",
    "fig.suptitle(\"% Households with internet access for years 2007 - 2022\")\n",
    "# Add subplots to the figure using the grid layout\n",
    "axs = []\n",
    "for i, region in enumerate(df['Region'].unique()):\n",
    "    ax = fig.add_subplot(gs[i])\n",
    "    axs.append(ax)\n",
    "\n",
    "# Plot the graphs for each region\n",
    "for i, region in enumerate(df['Region'].unique()):\n",
    "    ax = axs[i]\n",
    "    # Get the subset of the data frame for the current region\n",
    "    df_region = df[df['Region'] == region]\n",
    "    # Plot the graph for the current region\n",
    "    ax.plot(df_region['Year'], df_region['% Households with Internet Access'], '+', label=region)\n",
    "    ax.set_title(f' in {region}')\n",
    "# Adjust the layout of the figure\n",
    "fig.tight_layout()\n",
    "\n",
    "# Show the plot\n",
    "plt.show()"
   ]
  },
  {
   "cell_type": "markdown",
   "id": "d85fee12",
   "metadata": {},
   "source": [
    "**Observation**\n",
    "\n",
    "It's clear that data have linear dependency. \n",
    "\n",
    "Missing data are clearly visible on the graps"
   ]
  },
  {
   "cell_type": "code",
   "execution_count": 38,
   "id": "f7e2ed34",
   "metadata": {},
   "outputs": [],
   "source": [
    "# loading resulting data to csv file in order to access this data frame easier \n",
    "df.to_csv(\"ICA_m.csv\", index = False)"
   ]
  },
  {
   "cell_type": "markdown",
   "id": "3ff3a896",
   "metadata": {},
   "source": [
    "# 1 method to address the missing data - Normal distribution"
   ]
  },
  {
   "cell_type": "code",
   "execution_count": 39,
   "id": "aedc5b78",
   "metadata": {},
   "outputs": [
    {
     "data": {
      "text/html": [
       "<div>\n",
       "<style scoped>\n",
       "    .dataframe tbody tr th:only-of-type {\n",
       "        vertical-align: middle;\n",
       "    }\n",
       "\n",
       "    .dataframe tbody tr th {\n",
       "        vertical-align: top;\n",
       "    }\n",
       "\n",
       "    .dataframe thead th {\n",
       "        text-align: right;\n",
       "    }\n",
       "</style>\n",
       "<table border=\"1\" class=\"dataframe\">\n",
       "  <thead>\n",
       "    <tr style=\"text-align: right;\">\n",
       "      <th></th>\n",
       "      <th>Year</th>\n",
       "      <th>Region</th>\n",
       "      <th>% Households with Internet Access</th>\n",
       "    </tr>\n",
       "  </thead>\n",
       "  <tbody>\n",
       "    <tr>\n",
       "      <th>0</th>\n",
       "      <td>2007</td>\n",
       "      <td>Ireland</td>\n",
       "      <td>57.0</td>\n",
       "    </tr>\n",
       "    <tr>\n",
       "      <th>1</th>\n",
       "      <td>2007</td>\n",
       "      <td>Dublin</td>\n",
       "      <td>66.0</td>\n",
       "    </tr>\n",
       "    <tr>\n",
       "      <th>2</th>\n",
       "      <td>2007</td>\n",
       "      <td>Midlands</td>\n",
       "      <td>54.0</td>\n",
       "    </tr>\n",
       "    <tr>\n",
       "      <th>3</th>\n",
       "      <td>2007</td>\n",
       "      <td>South-West</td>\n",
       "      <td>56.0</td>\n",
       "    </tr>\n",
       "    <tr>\n",
       "      <th>4</th>\n",
       "      <td>2007</td>\n",
       "      <td>Border</td>\n",
       "      <td>43.0</td>\n",
       "    </tr>\n",
       "  </tbody>\n",
       "</table>\n",
       "</div>"
      ],
      "text/plain": [
       "   Year      Region  % Households with Internet Access\n",
       "0  2007     Ireland                               57.0\n",
       "1  2007      Dublin                               66.0\n",
       "2  2007    Midlands                               54.0\n",
       "3  2007  South-West                               56.0\n",
       "4  2007      Border                               43.0"
      ]
     },
     "execution_count": 39,
     "metadata": {},
     "output_type": "execute_result"
    }
   ],
   "source": [
    "#Applying 1st method \n",
    "df_f = pd.read_csv(\"ICA_m.csv\")\n",
    "df_f.head()"
   ]
  },
  {
   "cell_type": "code",
   "execution_count": 40,
   "id": "bb78022b",
   "metadata": {},
   "outputs": [
    {
     "data": {
      "text/plain": [
       "array([2007, 2008, 2009, 2010, 2011, 2012, 2013, 2014, 2015, 2016, 2020,\n",
       "       2021, 2022], dtype=int64)"
      ]
     },
     "execution_count": 40,
     "metadata": {},
     "output_type": "execute_result"
    }
   ],
   "source": [
    "# displaying available years\n",
    "df_f.Year.unique()"
   ]
  },
  {
   "cell_type": "code",
   "execution_count": 41,
   "id": "22783adc",
   "metadata": {},
   "outputs": [],
   "source": [
    "#creating list with missing years\n",
    "years = [2017, 2018, 2019]\n",
    "\n",
    "#creating list with unique region names\n",
    "unique_region_names = set(df['Region'])"
   ]
  },
  {
   "cell_type": "code",
   "execution_count": 42,
   "id": "4b9da328",
   "metadata": {},
   "outputs": [],
   "source": [
    "# importing normal distribution method\n",
    "from scipy.stats import norm\n",
    "\n",
    "data=[]\n",
    "#creating 2 loops for each of missing year and unique region\n",
    "for year in years:\n",
    "    for region in unique_region_names:        \n",
    "        df_reg = df_f.drop(df_f[(df_f[\"Region\"] != region) ].index)\n",
    "        \n",
    "        #finding mean and std values\n",
    "        mean = df_reg['% Households with Internet Access'].mean()\n",
    "        std = df_reg['% Households with Internet Access'].std()\n",
    "        \n",
    "        # calculating normal distribution based on found values of mean and standard deviation\n",
    "        normal_distribution = norm(loc=mean, scale=std)\n",
    "        # assigns it a value from a normal distribution with mean 0 and standard deviation 1\n",
    "        imputed_population = normal_distribution.rvs()\n",
    "        \n",
    "        # row by row saving data in data frame\n",
    "        row = [year, region, imputed_population]\n",
    "        data.append(row)\n",
    "df_norm = pd.DataFrame(data, columns=['Year', 'Region','% Households with Internet Access'])"
   ]
  },
  {
   "cell_type": "code",
   "execution_count": 43,
   "id": "e72bc3cd",
   "metadata": {},
   "outputs": [
    {
     "data": {
      "text/html": [
       "<div>\n",
       "<style scoped>\n",
       "    .dataframe tbody tr th:only-of-type {\n",
       "        vertical-align: middle;\n",
       "    }\n",
       "\n",
       "    .dataframe tbody tr th {\n",
       "        vertical-align: top;\n",
       "    }\n",
       "\n",
       "    .dataframe thead th {\n",
       "        text-align: right;\n",
       "    }\n",
       "</style>\n",
       "<table border=\"1\" class=\"dataframe\">\n",
       "  <thead>\n",
       "    <tr style=\"text-align: right;\">\n",
       "      <th></th>\n",
       "      <th>Year</th>\n",
       "      <th>% Households with Internet Access</th>\n",
       "    </tr>\n",
       "  </thead>\n",
       "  <tbody>\n",
       "    <tr>\n",
       "      <th>count</th>\n",
       "      <td>27.00000</td>\n",
       "      <td>27.000000</td>\n",
       "    </tr>\n",
       "    <tr>\n",
       "      <th>mean</th>\n",
       "      <td>2018.00000</td>\n",
       "      <td>81.432414</td>\n",
       "    </tr>\n",
       "    <tr>\n",
       "      <th>std</th>\n",
       "      <td>0.83205</td>\n",
       "      <td>12.617122</td>\n",
       "    </tr>\n",
       "    <tr>\n",
       "      <th>min</th>\n",
       "      <td>2017.00000</td>\n",
       "      <td>50.708577</td>\n",
       "    </tr>\n",
       "    <tr>\n",
       "      <th>25%</th>\n",
       "      <td>2017.00000</td>\n",
       "      <td>74.653746</td>\n",
       "    </tr>\n",
       "    <tr>\n",
       "      <th>50%</th>\n",
       "      <td>2018.00000</td>\n",
       "      <td>81.227851</td>\n",
       "    </tr>\n",
       "    <tr>\n",
       "      <th>75%</th>\n",
       "      <td>2019.00000</td>\n",
       "      <td>86.738379</td>\n",
       "    </tr>\n",
       "    <tr>\n",
       "      <th>max</th>\n",
       "      <td>2019.00000</td>\n",
       "      <td>112.875022</td>\n",
       "    </tr>\n",
       "  </tbody>\n",
       "</table>\n",
       "</div>"
      ],
      "text/plain": [
       "             Year  % Households with Internet Access\n",
       "count    27.00000                          27.000000\n",
       "mean   2018.00000                          81.432414\n",
       "std       0.83205                          12.617122\n",
       "min    2017.00000                          50.708577\n",
       "25%    2017.00000                          74.653746\n",
       "50%    2018.00000                          81.227851\n",
       "75%    2019.00000                          86.738379\n",
       "max    2019.00000                         112.875022"
      ]
     },
     "execution_count": 43,
     "metadata": {},
     "output_type": "execute_result"
    }
   ],
   "source": [
    "# checkin our values\n",
    "df_norm.describe()"
   ]
  },
  {
   "cell_type": "code",
   "execution_count": 44,
   "id": "a94e9b0a",
   "metadata": {},
   "outputs": [],
   "source": [
    "#combining missing values with main dataframe\n",
    "df_final = pd.concat([df_f, df_norm], ignore_index=True)"
   ]
  },
  {
   "cell_type": "code",
   "execution_count": 45,
   "id": "03486921",
   "metadata": {},
   "outputs": [],
   "source": [
    "# Sort the DataFrame 'df_pop' by 'year' in ascending order\n",
    "df_final = df_final.sort_values(by=['Year','Region'], ascending=True)\n",
    "\n",
    "# Reset the index of the DataFrame 'df_pop'\n",
    "df_final = df_final.reset_index(drop=True)"
   ]
  },
  {
   "cell_type": "code",
   "execution_count": 57,
   "id": "6a8bad2f",
   "metadata": {},
   "outputs": [
    {
     "data": {
      "image/png": "[encoded data removed]",
      "text/plain": [
       "<Figure size 800x300 with 1 Axes>"
      ]
     },
     "metadata": {},
     "output_type": "display_data"
    }
   ],
   "source": [
    "#Visualising resulting data frame\n",
    "plt.figure(figsize=(8, 3))\n",
    "for region in unique_region_names:\n",
    "    df_region = df_final[df_final['Region'] == region]\n",
    "    plt.plot(df_region['Year'], df_region['% Households with Internet Access'], label=region)\n",
    "    plt.title('% of Households with Internet Access')\n",
    "    plt.legend(loc='upper right', bbox_to_anchor=(1.22, 1.03))\n",
    "    plt.xlabel(\"Year\")"
   ]
  },
  {
   "cell_type": "markdown",
   "id": "cd9857f8",
   "metadata": {},
   "source": [
    "**Observation**\n",
    "\n",
    "Graph clearly shows that data weren't normaly distributed, so this method can't be aaplied to fill empty values"
   ]
  },
  {
   "cell_type": "markdown",
   "id": "470ff75a",
   "metadata": {},
   "source": [
    "# 2 method to address the missing data - Interpolating NAs"
   ]
  },
  {
   "cell_type": "code",
   "execution_count": 58,
   "id": "8ed42617",
   "metadata": {},
   "outputs": [
    {
     "data": {
      "text/html": [
       "<div>\n",
       "<style scoped>\n",
       "    .dataframe tbody tr th:only-of-type {\n",
       "        vertical-align: middle;\n",
       "    }\n",
       "\n",
       "    .dataframe tbody tr th {\n",
       "        vertical-align: top;\n",
       "    }\n",
       "\n",
       "    .dataframe thead th {\n",
       "        text-align: right;\n",
       "    }\n",
       "</style>\n",
       "<table border=\"1\" class=\"dataframe\">\n",
       "  <thead>\n",
       "    <tr style=\"text-align: right;\">\n",
       "      <th></th>\n",
       "      <th>Year</th>\n",
       "      <th>Region</th>\n",
       "      <th>% Households with Internet Access</th>\n",
       "    </tr>\n",
       "  </thead>\n",
       "  <tbody>\n",
       "    <tr>\n",
       "      <th>0</th>\n",
       "      <td>2007</td>\n",
       "      <td>Ireland</td>\n",
       "      <td>57.0</td>\n",
       "    </tr>\n",
       "    <tr>\n",
       "      <th>1</th>\n",
       "      <td>2007</td>\n",
       "      <td>Dublin</td>\n",
       "      <td>66.0</td>\n",
       "    </tr>\n",
       "    <tr>\n",
       "      <th>2</th>\n",
       "      <td>2007</td>\n",
       "      <td>Midlands</td>\n",
       "      <td>54.0</td>\n",
       "    </tr>\n",
       "    <tr>\n",
       "      <th>3</th>\n",
       "      <td>2007</td>\n",
       "      <td>South-West</td>\n",
       "      <td>56.0</td>\n",
       "    </tr>\n",
       "    <tr>\n",
       "      <th>4</th>\n",
       "      <td>2007</td>\n",
       "      <td>Border</td>\n",
       "      <td>43.0</td>\n",
       "    </tr>\n",
       "  </tbody>\n",
       "</table>\n",
       "</div>"
      ],
      "text/plain": [
       "   Year      Region  % Households with Internet Access\n",
       "0  2007     Ireland                               57.0\n",
       "1  2007      Dublin                               66.0\n",
       "2  2007    Midlands                               54.0\n",
       "3  2007  South-West                               56.0\n",
       "4  2007      Border                               43.0"
      ]
     },
     "execution_count": 58,
     "metadata": {},
     "output_type": "execute_result"
    }
   ],
   "source": [
    "#loading our data\n",
    "df_ica = pd.read_csv(\"ICA_m.csv\")\n",
    "df_ica.head()"
   ]
  },
  {
   "cell_type": "code",
   "execution_count": 59,
   "id": "ccdf3d58",
   "metadata": {},
   "outputs": [],
   "source": [
    "# Create a set to store the unique names of the regions\n",
    "region_names = set()\n",
    "\n",
    "# Iterate over the data frame and add each region name to the set\n",
    "for region in df_ica['Region']:\n",
    "    region_names.add(region)\n",
    "\n",
    "# Convert the set to a list\n",
    "unique_region_names = list(region_names)"
   ]
  },
  {
   "cell_type": "code",
   "execution_count": 60,
   "id": "6f3a875b",
   "metadata": {},
   "outputs": [],
   "source": [
    "#creating list with missing years\n",
    "\n",
    "years_to_interpolate = [2017, 2018, 2019]\n",
    "\n",
    "# Create a list of lists, where each sublist contains the values for a single row in the new data frame\n",
    "data = []\n",
    "for year in years_to_interpolate:\n",
    "    for region in unique_region_names:\n",
    "        row = [year, region, np.nan]\n",
    "        data.append(row)"
   ]
  },
  {
   "cell_type": "code",
   "execution_count": 61,
   "id": "7a7beb10",
   "metadata": {},
   "outputs": [],
   "source": [
    "# creating data frame with missing values\n",
    "df = pd.DataFrame(data, columns=['Year', 'Region', '% Households with Internet Access'])"
   ]
  },
  {
   "cell_type": "code",
   "execution_count": 62,
   "id": "717bcf74",
   "metadata": {},
   "outputs": [],
   "source": [
    "#combining it with main data frame\n",
    "df_ica = pd.concat([df_ica, df], ignore_index=True)"
   ]
  },
  {
   "cell_type": "code",
   "execution_count": 63,
   "id": "a9b329f0",
   "metadata": {
    "scrolled": true
   },
   "outputs": [
    {
     "name": "stdout",
     "output_type": "stream",
     "text": [
      "<class 'pandas.core.frame.DataFrame'>\n",
      "RangeIndex: 144 entries, 0 to 143\n",
      "Data columns (total 3 columns):\n",
      " #   Column                             Non-Null Count  Dtype  \n",
      "---  ------                             --------------  -----  \n",
      " 0   Year                               144 non-null    int64  \n",
      " 1   Region                             144 non-null    object \n",
      " 2   % Households with Internet Access  117 non-null    float64\n",
      "dtypes: float64(1), int64(1), object(1)\n",
      "memory usage: 3.5+ KB\n"
     ]
    }
   ],
   "source": [
    "# cheching null values\n",
    "df_ica.info()"
   ]
  },
  {
   "cell_type": "code",
   "execution_count": 64,
   "id": "3cfe0787",
   "metadata": {},
   "outputs": [],
   "source": [
    "# Sort the DataFrame 'df_pop' by 'year' in ascending order\n",
    "df_ica = df_ica.sort_values(by=['Year'], ascending=True)\n",
    "\n",
    "# Reset the index of the DataFrame 'df_pop'\n",
    "df_ica = df_ica.reset_index(drop=True)"
   ]
  },
  {
   "cell_type": "code",
   "execution_count": 65,
   "id": "a323e1b0",
   "metadata": {},
   "outputs": [],
   "source": [
    "# Group the DataFrame by region\n",
    "grouped_dataframe = df_ica.groupby(\"Region\")\n",
    "\n",
    "# Interpolate the missing values in each region\n",
    "interpolated_dataframe = grouped_dataframe.apply(lambda group: group.interpolate(method=\"linear\", axis=0))\n",
    "\n",
    "# Ungroup the DataFrame\n",
    "interpolated_dataframe = interpolated_dataframe.reset_index(drop=True)\n"
   ]
  },
  {
   "cell_type": "code",
   "execution_count": 66,
   "id": "225c8b8d",
   "metadata": {},
   "outputs": [],
   "source": [
    "# Sort the DataFrame 'df_pop' by 'year' in ascending order\n",
    "df_ica = interpolated_dataframe.sort_values(by=['Year'], ascending=True)\n",
    "\n",
    "# Reset the index of the DataFrame 'df_pop'\n",
    "df_ica = df_ica.reset_index(drop=True)"
   ]
  },
  {
   "cell_type": "code",
   "execution_count": 67,
   "id": "fcea86b6",
   "metadata": {
    "scrolled": true
   },
   "outputs": [
    {
     "data": {
      "text/html": [
       "<div>\n",
       "<style scoped>\n",
       "    .dataframe tbody tr th:only-of-type {\n",
       "        vertical-align: middle;\n",
       "    }\n",
       "\n",
       "    .dataframe tbody tr th {\n",
       "        vertical-align: top;\n",
       "    }\n",
       "\n",
       "    .dataframe thead th {\n",
       "        text-align: right;\n",
       "    }\n",
       "</style>\n",
       "<table border=\"1\" class=\"dataframe\">\n",
       "  <thead>\n",
       "    <tr style=\"text-align: right;\">\n",
       "      <th></th>\n",
       "      <th>Year</th>\n",
       "      <th>Region</th>\n",
       "      <th>% Households with Internet Access</th>\n",
       "    </tr>\n",
       "  </thead>\n",
       "  <tbody>\n",
       "    <tr>\n",
       "      <th>0</th>\n",
       "      <td>2007</td>\n",
       "      <td>Border</td>\n",
       "      <td>43.0</td>\n",
       "    </tr>\n",
       "    <tr>\n",
       "      <th>1</th>\n",
       "      <td>2007</td>\n",
       "      <td>Mid-West</td>\n",
       "      <td>58.0</td>\n",
       "    </tr>\n",
       "    <tr>\n",
       "      <th>2</th>\n",
       "      <td>2007</td>\n",
       "      <td>Midlands</td>\n",
       "      <td>54.0</td>\n",
       "    </tr>\n",
       "    <tr>\n",
       "      <th>3</th>\n",
       "      <td>2007</td>\n",
       "      <td>Mid-East</td>\n",
       "      <td>66.0</td>\n",
       "    </tr>\n",
       "    <tr>\n",
       "      <th>4</th>\n",
       "      <td>2007</td>\n",
       "      <td>South-East</td>\n",
       "      <td>49.0</td>\n",
       "    </tr>\n",
       "  </tbody>\n",
       "</table>\n",
       "</div>"
      ],
      "text/plain": [
       "   Year      Region  % Households with Internet Access\n",
       "0  2007      Border                               43.0\n",
       "1  2007    Mid-West                               58.0\n",
       "2  2007    Midlands                               54.0\n",
       "3  2007    Mid-East                               66.0\n",
       "4  2007  South-East                               49.0"
      ]
     },
     "execution_count": 67,
     "metadata": {},
     "output_type": "execute_result"
    }
   ],
   "source": [
    "df_ica.head()"
   ]
  },
  {
   "cell_type": "code",
   "execution_count": 77,
   "id": "ee56b454",
   "metadata": {},
   "outputs": [
    {
     "data": {
      "image/png": "[encoded data removed]",
      "text/plain": [
       "<Figure size 800x300 with 1 Axes>"
      ]
     },
     "metadata": {},
     "output_type": "display_data"
    }
   ],
   "source": [
    "#Visualising resulting data frame. \n",
    "# Plotting all regions on same graph just to see that there are no gaps and each graph is a continuous line\n",
    "plt.figure(figsize=(8, 3))\n",
    "for region in unique_region_names:\n",
    "    df_region = df_ica[df_ica['Region'] == region]\n",
    "    plt.plot(df_region['Year'], df_region['% Households with Internet Access'], label=region)\n",
    "    plt.title('% of Households with Internet Access')\n",
    "    plt.legend(loc='upper right', bbox_to_anchor=(1.22, 1.03))\n",
    "    plt.xlabel(\"Year\")"
   ]
  },
  {
   "cell_type": "code",
   "execution_count": 81,
   "id": "e75aa3c7",
   "metadata": {},
   "outputs": [],
   "source": [
    "df_ica.to_csv(\"ICA_c.csv\", index = False)"
   ]
  },
  {
   "cell_type": "code",
   "execution_count": null,
   "id": "27e53fa1",
   "metadata": {},
   "outputs": [],
   "source": []
  }
 ],
 "metadata": {
  "kernelspec": {
   "display_name": "Python 3 (ipykernel)",
   "language": "python",
   "name": "python3"
  },
  "language_info": {
   "codemirror_mode": {
    "name": "ipython",
    "version": 3
   },
   "file_extension": ".py",
   "mimetype": "text/x-python",
   "name": "python",
   "nbconvert_exporter": "python",
   "pygments_lexer": "ipython3",
   "version": "3.11.4"
  }
 },
 "nbformat": 4,
 "nbformat_minor": 5
}
