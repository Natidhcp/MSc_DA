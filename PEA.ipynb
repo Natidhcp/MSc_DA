{
 "cells": [
  {
   "cell_type": "markdown",
   "id": "be80e4be",
   "metadata": {},
   "source": [
    "# Preparing file with Estimated population\n",
    "\n",
    "**Next modifications will be applied to the PEA04.csv file:**\n",
    "* removing rows that cotain data splitted by sex\n",
    "* In column 'Region' replacing value 'State' with 'Ireland' and 'Midland' with 'Midlands'\n",
    "* Renaming last column with values\n",
    "* Multipliyng values by 1000\n",
    "* Export DataFrame to a csv File\n",
    "\n",
    "**Note:** Please check \"Data overview\" Jupiter Notebook for reference"
   ]
  },
  {
   "cell_type": "code",
   "execution_count": 67,
   "id": "796da6d5",
   "metadata": {},
   "outputs": [],
   "source": [
    "##IMPORTING LIBRARIES\n",
    "import pandas as pd\n",
    "import statistics as stats\n",
    "import numpy as np\n",
    "import matplotlib.pyplot as plt\n",
    "import seaborn as sns"
   ]
  },
  {
   "cell_type": "code",
   "execution_count": 68,
   "id": "aa2efeaf",
   "metadata": {},
   "outputs": [],
   "source": [
    "# Suppress the warnings\n",
    "import warnings\n",
    "warnings.filterwarnings('ignore')"
   ]
  },
  {
   "cell_type": "code",
   "execution_count": 177,
   "id": "237d0c9e",
   "metadata": {
    "scrolled": true
   },
   "outputs": [
    {
     "data": {
      "text/html": [
       "<div>\n",
       "<style scoped>\n",
       "    .dataframe tbody tr th:only-of-type {\n",
       "        vertical-align: middle;\n",
       "    }\n",
       "\n",
       "    .dataframe tbody tr th {\n",
       "        vertical-align: top;\n",
       "    }\n",
       "\n",
       "    .dataframe thead th {\n",
       "        text-align: right;\n",
       "    }\n",
       "</style>\n",
       "<table border=\"1\" class=\"dataframe\">\n",
       "  <thead>\n",
       "    <tr style=\"text-align: right;\">\n",
       "      <th></th>\n",
       "      <th>STATISTIC Label</th>\n",
       "      <th>Year</th>\n",
       "      <th>Age Group</th>\n",
       "      <th>Sex</th>\n",
       "      <th>Region</th>\n",
       "      <th>UNIT</th>\n",
       "      <th>VALUE</th>\n",
       "    </tr>\n",
       "  </thead>\n",
       "  <tbody>\n",
       "    <tr>\n",
       "      <th>6560</th>\n",
       "      <td>Estimated Population (Persons in April)</td>\n",
       "      <td>2023</td>\n",
       "      <td>70 - 74 years</td>\n",
       "      <td>Female</td>\n",
       "      <td>Midland</td>\n",
       "      <td>Thousand</td>\n",
       "      <td>6.4</td>\n",
       "    </tr>\n",
       "    <tr>\n",
       "      <th>3476</th>\n",
       "      <td>Estimated Population (Persons in April)</td>\n",
       "      <td>2017</td>\n",
       "      <td>70 - 74 years</td>\n",
       "      <td>Female</td>\n",
       "      <td>West</td>\n",
       "      <td>Thousand</td>\n",
       "      <td>8.7</td>\n",
       "    </tr>\n",
       "    <tr>\n",
       "      <th>1805</th>\n",
       "      <td>Estimated Population (Persons in April)</td>\n",
       "      <td>2014</td>\n",
       "      <td>45 - 49 years</td>\n",
       "      <td>Female</td>\n",
       "      <td>South-West</td>\n",
       "      <td>Thousand</td>\n",
       "      <td>23.0</td>\n",
       "    </tr>\n",
       "    <tr>\n",
       "      <th>4428</th>\n",
       "      <td>Estimated Population (Persons in April)</td>\n",
       "      <td>2019</td>\n",
       "      <td>60 - 64 years</td>\n",
       "      <td>Both sexes</td>\n",
       "      <td>State</td>\n",
       "      <td>Thousand</td>\n",
       "      <td>255.9</td>\n",
       "    </tr>\n",
       "    <tr>\n",
       "      <th>5723</th>\n",
       "      <td>Estimated Population (Persons in April)</td>\n",
       "      <td>2022</td>\n",
       "      <td>10 - 14 years</td>\n",
       "      <td>Female</td>\n",
       "      <td>Midland</td>\n",
       "      <td>Thousand</td>\n",
       "      <td>12.2</td>\n",
       "    </tr>\n",
       "    <tr>\n",
       "      <th>1128</th>\n",
       "      <td>Estimated Population (Persons in April)</td>\n",
       "      <td>2013</td>\n",
       "      <td>15 - 19 years</td>\n",
       "      <td>Female</td>\n",
       "      <td>Mid-West</td>\n",
       "      <td>Thousand</td>\n",
       "      <td>14.8</td>\n",
       "    </tr>\n",
       "    <tr>\n",
       "      <th>3544</th>\n",
       "      <td>Estimated Population (Persons in April)</td>\n",
       "      <td>2017</td>\n",
       "      <td>85 years and over</td>\n",
       "      <td>Both sexes</td>\n",
       "      <td>Mid-East</td>\n",
       "      <td>Thousand</td>\n",
       "      <td>7.4</td>\n",
       "    </tr>\n",
       "    <tr>\n",
       "      <th>6467</th>\n",
       "      <td>Estimated Population (Persons in April)</td>\n",
       "      <td>2023</td>\n",
       "      <td>55 - 59 years</td>\n",
       "      <td>Male</td>\n",
       "      <td>South-West</td>\n",
       "      <td>Thousand</td>\n",
       "      <td>23.4</td>\n",
       "    </tr>\n",
       "  </tbody>\n",
       "</table>\n",
       "</div>"
      ],
      "text/plain": [
       "                              STATISTIC Label  Year          Age Group  \\\n",
       "6560  Estimated Population (Persons in April)  2023      70 - 74 years   \n",
       "3476  Estimated Population (Persons in April)  2017      70 - 74 years   \n",
       "1805  Estimated Population (Persons in April)  2014      45 - 49 years   \n",
       "4428  Estimated Population (Persons in April)  2019      60 - 64 years   \n",
       "5723  Estimated Population (Persons in April)  2022      10 - 14 years   \n",
       "1128  Estimated Population (Persons in April)  2013      15 - 19 years   \n",
       "3544  Estimated Population (Persons in April)  2017  85 years and over   \n",
       "6467  Estimated Population (Persons in April)  2023      55 - 59 years   \n",
       "\n",
       "             Sex      Region      UNIT  VALUE  \n",
       "6560      Female     Midland  Thousand    6.4  \n",
       "3476      Female        West  Thousand    8.7  \n",
       "1805      Female  South-West  Thousand   23.0  \n",
       "4428  Both sexes       State  Thousand  255.9  \n",
       "5723      Female     Midland  Thousand   12.2  \n",
       "1128      Female    Mid-West  Thousand   14.8  \n",
       "3544  Both sexes    Mid-East  Thousand    7.4  \n",
       "6467        Male  South-West  Thousand   23.4  "
      ]
     },
     "execution_count": 177,
     "metadata": {},
     "output_type": "execute_result"
    }
   ],
   "source": [
    "#Creating a DataFrame from file with Estimated Population statistic and displaing random rows\n",
    "df_pop = pd.read_csv(\"PEA04.csv\")\n",
    "df_pop.sample(8)"
   ]
  },
  {
   "cell_type": "code",
   "execution_count": 178,
   "id": "facc5783",
   "metadata": {},
   "outputs": [
    {
     "name": "stdout",
     "output_type": "stream",
     "text": [
      "<class 'pandas.core.frame.DataFrame'>\n",
      "RangeIndex: 6669 entries, 0 to 6668\n",
      "Data columns (total 7 columns):\n",
      " #   Column           Non-Null Count  Dtype  \n",
      "---  ------           --------------  -----  \n",
      " 0   STATISTIC Label  6669 non-null   object \n",
      " 1   Year             6669 non-null   int64  \n",
      " 2   Age Group        6669 non-null   object \n",
      " 3   Sex              6669 non-null   object \n",
      " 4   Region           6669 non-null   object \n",
      " 5   UNIT             6669 non-null   object \n",
      " 6   VALUE            6669 non-null   float64\n",
      "dtypes: float64(1), int64(1), object(5)\n",
      "memory usage: 364.8+ KB\n"
     ]
    }
   ],
   "source": [
    "#Explore information about the DataFrame, i.e. nr of rows, nr of not null values, data types for columns, etc...\n",
    "df_pop.info()"
   ]
  },
  {
   "cell_type": "code",
   "execution_count": 179,
   "id": "00383ff5",
   "metadata": {
    "scrolled": true
   },
   "outputs": [
    {
     "name": "stdout",
     "output_type": "stream",
     "text": [
      "<class 'pandas.core.frame.DataFrame'>\n",
      "Index: 2223 entries, 0 to 6650\n",
      "Data columns (total 7 columns):\n",
      " #   Column           Non-Null Count  Dtype  \n",
      "---  ------           --------------  -----  \n",
      " 0   STATISTIC Label  2223 non-null   object \n",
      " 1   Year             2223 non-null   int64  \n",
      " 2   Age Group        2223 non-null   object \n",
      " 3   Sex              2223 non-null   object \n",
      " 4   Region           2223 non-null   object \n",
      " 5   UNIT             2223 non-null   object \n",
      " 6   VALUE            2223 non-null   float64\n",
      "dtypes: float64(1), int64(1), object(5)\n",
      "memory usage: 138.9+ KB\n"
     ]
    }
   ],
   "source": [
    "#removing rows that reflect data splitted by sex and leaving only data related to both sexes. \n",
    "\n",
    "df_pop = df_pop.drop(df_pop[(df_pop[\"Sex\"] != \"Both sexes\")].index)\n",
    "\n",
    "#Checking and comparing nr of rows\n",
    "\n",
    "df_pop.info()"
   ]
  },
  {
   "cell_type": "code",
   "execution_count": 180,
   "id": "af1c3f27",
   "metadata": {},
   "outputs": [
    {
     "data": {
      "text/plain": [
       "2223.0"
      ]
     },
     "execution_count": 180,
     "metadata": {},
     "output_type": "execute_result"
    }
   ],
   "source": [
    "#it should be 1/3 left and it's corerct\n",
    "6669/3"
   ]
  },
  {
   "cell_type": "code",
   "execution_count": 181,
   "id": "d42ff086",
   "metadata": {},
   "outputs": [
    {
     "data": {
      "text/plain": [
       "array(['Both sexes'], dtype=object)"
      ]
     },
     "execution_count": 181,
     "metadata": {},
     "output_type": "execute_result"
    }
   ],
   "source": [
    "#quick check for left data\n",
    "df_pop[\"Sex\"].unique()"
   ]
  },
  {
   "cell_type": "code",
   "execution_count": 182,
   "id": "59149323",
   "metadata": {},
   "outputs": [],
   "source": [
    "# In column 'Region' replacing value 'State' with 'Ireland' and 'Midland' with 'Midlands'\n",
    "df_pop = df_pop.replace('State', 'Ireland')"
   ]
  },
  {
   "cell_type": "code",
   "execution_count": 183,
   "id": "896a7b89",
   "metadata": {},
   "outputs": [],
   "source": [
    "df_pop = df_pop.replace('Midland', 'Midlands')"
   ]
  },
  {
   "cell_type": "code",
   "execution_count": 184,
   "id": "8a769634",
   "metadata": {},
   "outputs": [],
   "source": [
    "#Renaming last column with values\n",
    "df_pop = df_pop.rename(columns={'VALUE': 'Estimated Population nr'})"
   ]
  },
  {
   "cell_type": "code",
   "execution_count": 185,
   "id": "0451d4f3",
   "metadata": {},
   "outputs": [],
   "source": [
    "#Multipliyng values by 1000\n",
    "df_pop['Estimated Population nr'] = df_pop['Estimated Population nr'].mul(1000)"
   ]
  },
  {
   "cell_type": "code",
   "execution_count": 186,
   "id": "428c7d50",
   "metadata": {},
   "outputs": [],
   "source": [
    "#Now we have 'Number' as a UNIT\n",
    "df_pop = df_pop.replace('Thousand', 'Number')"
   ]
  },
  {
   "cell_type": "code",
   "execution_count": 187,
   "id": "1b352b4a",
   "metadata": {
    "scrolled": false
   },
   "outputs": [
    {
     "data": {
      "text/plain": [
       "array(['Ireland', 'Border', 'West', 'Mid-West', 'South-East',\n",
       "       'South-West', 'Dublin', 'Mid-East', 'Midlands'], dtype=object)"
      ]
     },
     "execution_count": 187,
     "metadata": {},
     "output_type": "execute_result"
    }
   ],
   "source": [
    "#Checking region values\n",
    "df_pop.Region.unique()"
   ]
  },
  {
   "cell_type": "code",
   "execution_count": 188,
   "id": "dc5870c6",
   "metadata": {
    "scrolled": true
   },
   "outputs": [
    {
     "data": {
      "text/html": [
       "<div>\n",
       "<style scoped>\n",
       "    .dataframe tbody tr th:only-of-type {\n",
       "        vertical-align: middle;\n",
       "    }\n",
       "\n",
       "    .dataframe tbody tr th {\n",
       "        vertical-align: top;\n",
       "    }\n",
       "\n",
       "    .dataframe thead th {\n",
       "        text-align: right;\n",
       "    }\n",
       "</style>\n",
       "<table border=\"1\" class=\"dataframe\">\n",
       "  <thead>\n",
       "    <tr style=\"text-align: right;\">\n",
       "      <th></th>\n",
       "      <th>STATISTIC Label</th>\n",
       "      <th>Year</th>\n",
       "      <th>Age Group</th>\n",
       "      <th>Sex</th>\n",
       "      <th>Region</th>\n",
       "      <th>UNIT</th>\n",
       "      <th>Estimated Population nr</th>\n",
       "    </tr>\n",
       "  </thead>\n",
       "  <tbody>\n",
       "    <tr>\n",
       "      <th>5649</th>\n",
       "      <td>Estimated Population (Persons in April)</td>\n",
       "      <td>2022</td>\n",
       "      <td>0 - 4 years</td>\n",
       "      <td>Both sexes</td>\n",
       "      <td>Dublin</td>\n",
       "      <td>Number</td>\n",
       "      <td>81600.0</td>\n",
       "    </tr>\n",
       "    <tr>\n",
       "      <th>5</th>\n",
       "      <td>Estimated Population (Persons in April)</td>\n",
       "      <td>2011</td>\n",
       "      <td>0 - 4 years</td>\n",
       "      <td>Both sexes</td>\n",
       "      <td>South-West</td>\n",
       "      <td>Number</td>\n",
       "      <td>50100.0</td>\n",
       "    </tr>\n",
       "    <tr>\n",
       "      <th>2463</th>\n",
       "      <td>Estimated Population (Persons in April)</td>\n",
       "      <td>2015</td>\n",
       "      <td>75 - 79 years</td>\n",
       "      <td>Both sexes</td>\n",
       "      <td>Dublin</td>\n",
       "      <td>Number</td>\n",
       "      <td>30300.0</td>\n",
       "    </tr>\n",
       "    <tr>\n",
       "      <th>5947</th>\n",
       "      <td>Estimated Population (Persons in April)</td>\n",
       "      <td>2022</td>\n",
       "      <td>55 - 59 years</td>\n",
       "      <td>Both sexes</td>\n",
       "      <td>Mid-East</td>\n",
       "      <td>Number</td>\n",
       "      <td>46100.0</td>\n",
       "    </tr>\n",
       "    <tr>\n",
       "      <th>4511</th>\n",
       "      <td>Estimated Population (Persons in April)</td>\n",
       "      <td>2019</td>\n",
       "      <td>75 - 79 years</td>\n",
       "      <td>Both sexes</td>\n",
       "      <td>West</td>\n",
       "      <td>Number</td>\n",
       "      <td>13500.0</td>\n",
       "    </tr>\n",
       "    <tr>\n",
       "      <th>6298</th>\n",
       "      <td>Estimated Population (Persons in April)</td>\n",
       "      <td>2023</td>\n",
       "      <td>25 - 29 years</td>\n",
       "      <td>Both sexes</td>\n",
       "      <td>Mid-East</td>\n",
       "      <td>Number</td>\n",
       "      <td>38900.0</td>\n",
       "    </tr>\n",
       "    <tr>\n",
       "      <th>4813</th>\n",
       "      <td>Estimated Population (Persons in April)</td>\n",
       "      <td>2020</td>\n",
       "      <td>35 - 39 years</td>\n",
       "      <td>Both sexes</td>\n",
       "      <td>Mid-East</td>\n",
       "      <td>Number</td>\n",
       "      <td>58600.0</td>\n",
       "    </tr>\n",
       "    <tr>\n",
       "      <th>4108</th>\n",
       "      <td>Estimated Population (Persons in April)</td>\n",
       "      <td>2019</td>\n",
       "      <td>0 - 4 years</td>\n",
       "      <td>Both sexes</td>\n",
       "      <td>South-East</td>\n",
       "      <td>Number</td>\n",
       "      <td>25700.0</td>\n",
       "    </tr>\n",
       "  </tbody>\n",
       "</table>\n",
       "</div>"
      ],
      "text/plain": [
       "                              STATISTIC Label  Year      Age Group  \\\n",
       "5649  Estimated Population (Persons in April)  2022    0 - 4 years   \n",
       "5     Estimated Population (Persons in April)  2011    0 - 4 years   \n",
       "2463  Estimated Population (Persons in April)  2015  75 - 79 years   \n",
       "5947  Estimated Population (Persons in April)  2022  55 - 59 years   \n",
       "4511  Estimated Population (Persons in April)  2019  75 - 79 years   \n",
       "6298  Estimated Population (Persons in April)  2023  25 - 29 years   \n",
       "4813  Estimated Population (Persons in April)  2020  35 - 39 years   \n",
       "4108  Estimated Population (Persons in April)  2019    0 - 4 years   \n",
       "\n",
       "             Sex      Region    UNIT  Estimated Population nr  \n",
       "5649  Both sexes      Dublin  Number                  81600.0  \n",
       "5     Both sexes  South-West  Number                  50100.0  \n",
       "2463  Both sexes      Dublin  Number                  30300.0  \n",
       "5947  Both sexes    Mid-East  Number                  46100.0  \n",
       "4511  Both sexes        West  Number                  13500.0  \n",
       "6298  Both sexes    Mid-East  Number                  38900.0  \n",
       "4813  Both sexes    Mid-East  Number                  58600.0  \n",
       "4108  Both sexes  South-East  Number                  25700.0  "
      ]
     },
     "execution_count": 188,
     "metadata": {},
     "output_type": "execute_result"
    }
   ],
   "source": [
    "#last final check \n",
    "df_pop.sample(8)"
   ]
  },
  {
   "cell_type": "code",
   "execution_count": 189,
   "id": "3d5ca9fe",
   "metadata": {},
   "outputs": [
    {
     "data": {
      "text/plain": [
       "Year\n",
       "2011    18299600.0\n",
       "2012    18374100.0\n",
       "2013    18459100.0\n",
       "2014    18582000.0\n",
       "2015    18751100.0\n",
       "2016    18959100.0\n",
       "2017    19243400.0\n",
       "2018    19539800.0\n",
       "2019    19834400.0\n",
       "2020    20120000.0\n",
       "2021    20298800.0\n",
       "2022    20735500.0\n",
       "2023    21126500.0\n",
       "Name: Estimated Population nr, dtype: float64"
      ]
     },
     "execution_count": 189,
     "metadata": {},
     "output_type": "execute_result"
    }
   ],
   "source": [
    "pop_grouped = df_pop.groupby(\"Year\")[\"Estimated Population nr\"].sum()\n",
    "pop_grouped"
   ]
  },
  {
   "cell_type": "code",
   "execution_count": 190,
   "id": "e87e55bf",
   "metadata": {},
   "outputs": [
    {
     "data": {
      "image/png": "[encoded data removed]",
      "text/plain": [
       "<Figure size 800x300 with 1 Axes>"
      ]
     },
     "metadata": {},
     "output_type": "display_data"
    }
   ],
   "source": [
    "# Create a bar plot of the sum of population for each year\n",
    "plt.figure(figsize=(8, 3))\n",
    "sns.barplot(x=pop_grouped.index, y=pop_grouped.values, color=\"#5ec0e0\")\n",
    "plt.xlabel(\"Year\")\n",
    "plt.ylabel(\"Total nr of people\")\n",
    "plt.title(\"Estimated Population for each year\")\n",
    "plt.show()"
   ]
  },
  {
   "cell_type": "code",
   "execution_count": 191,
   "id": "b554c0c4",
   "metadata": {
    "scrolled": true
   },
   "outputs": [
    {
     "data": {
      "text/plain": [
       "Year  Region  \n",
       "2011  Border       784000.0\n",
       "      Dublin      2523000.0\n",
       "      Ireland     9149700.0\n",
       "      Mid-East    1314900.0\n",
       "      Mid-West     933600.0\n",
       "Name: Estimated Population nr, dtype: float64"
      ]
     },
     "execution_count": 191,
     "metadata": {},
     "output_type": "execute_result"
    }
   ],
   "source": [
    "pop_agg = df_pop.groupby(['Year', 'Region'])['Estimated Population nr'].sum()\n",
    "\n",
    "pop_agg.head()"
   ]
  },
  {
   "cell_type": "code",
   "execution_count": 192,
   "id": "7b86a260",
   "metadata": {},
   "outputs": [
    {
     "data": {
      "text/html": [
       "<div>\n",
       "<style scoped>\n",
       "    .dataframe tbody tr th:only-of-type {\n",
       "        vertical-align: middle;\n",
       "    }\n",
       "\n",
       "    .dataframe tbody tr th {\n",
       "        vertical-align: top;\n",
       "    }\n",
       "\n",
       "    .dataframe thead th {\n",
       "        text-align: right;\n",
       "    }\n",
       "</style>\n",
       "<table border=\"1\" class=\"dataframe\">\n",
       "  <thead>\n",
       "    <tr style=\"text-align: right;\">\n",
       "      <th></th>\n",
       "      <th>Year</th>\n",
       "      <th>Region</th>\n",
       "      <th>Estimated Population nr</th>\n",
       "    </tr>\n",
       "  </thead>\n",
       "  <tbody>\n",
       "    <tr>\n",
       "      <th>0</th>\n",
       "      <td>2011</td>\n",
       "      <td>Border</td>\n",
       "      <td>784000.0</td>\n",
       "    </tr>\n",
       "    <tr>\n",
       "      <th>1</th>\n",
       "      <td>2011</td>\n",
       "      <td>Dublin</td>\n",
       "      <td>2523000.0</td>\n",
       "    </tr>\n",
       "    <tr>\n",
       "      <th>2</th>\n",
       "      <td>2011</td>\n",
       "      <td>Ireland</td>\n",
       "      <td>9149700.0</td>\n",
       "    </tr>\n",
       "    <tr>\n",
       "      <th>3</th>\n",
       "      <td>2011</td>\n",
       "      <td>Mid-East</td>\n",
       "      <td>1314900.0</td>\n",
       "    </tr>\n",
       "    <tr>\n",
       "      <th>4</th>\n",
       "      <td>2011</td>\n",
       "      <td>Mid-West</td>\n",
       "      <td>933600.0</td>\n",
       "    </tr>\n",
       "  </tbody>\n",
       "</table>\n",
       "</div>"
      ],
      "text/plain": [
       "   Year    Region  Estimated Population nr\n",
       "0  2011    Border                 784000.0\n",
       "1  2011    Dublin                2523000.0\n",
       "2  2011   Ireland                9149700.0\n",
       "3  2011  Mid-East                1314900.0\n",
       "4  2011  Mid-West                 933600.0"
      ]
     },
     "execution_count": 192,
     "metadata": {},
     "output_type": "execute_result"
    }
   ],
   "source": [
    "pop_agg = pop_agg.reset_index(drop=False)\n",
    "pop_agg.head()"
   ]
  },
  {
   "cell_type": "code",
   "execution_count": 193,
   "id": "cac6358f",
   "metadata": {
    "scrolled": true
   },
   "outputs": [
    {
     "data": {
      "text/html": [
       "<div>\n",
       "<style scoped>\n",
       "    .dataframe tbody tr th:only-of-type {\n",
       "        vertical-align: middle;\n",
       "    }\n",
       "\n",
       "    .dataframe tbody tr th {\n",
       "        vertical-align: top;\n",
       "    }\n",
       "\n",
       "    .dataframe thead th {\n",
       "        text-align: right;\n",
       "    }\n",
       "</style>\n",
       "<table border=\"1\" class=\"dataframe\">\n",
       "  <thead>\n",
       "    <tr style=\"text-align: right;\">\n",
       "      <th></th>\n",
       "      <th>Year</th>\n",
       "      <th>Region</th>\n",
       "      <th>Estimated Population nr</th>\n",
       "    </tr>\n",
       "  </thead>\n",
       "  <tbody>\n",
       "    <tr>\n",
       "      <th>0</th>\n",
       "      <td>2011</td>\n",
       "      <td>Border</td>\n",
       "      <td>784000.0</td>\n",
       "    </tr>\n",
       "    <tr>\n",
       "      <th>1</th>\n",
       "      <td>2011</td>\n",
       "      <td>Dublin</td>\n",
       "      <td>2523000.0</td>\n",
       "    </tr>\n",
       "    <tr>\n",
       "      <th>2</th>\n",
       "      <td>2011</td>\n",
       "      <td>Ireland</td>\n",
       "      <td>9149700.0</td>\n",
       "    </tr>\n",
       "    <tr>\n",
       "      <th>3</th>\n",
       "      <td>2011</td>\n",
       "      <td>Mid-East</td>\n",
       "      <td>1314900.0</td>\n",
       "    </tr>\n",
       "    <tr>\n",
       "      <th>4</th>\n",
       "      <td>2011</td>\n",
       "      <td>Mid-West</td>\n",
       "      <td>933600.0</td>\n",
       "    </tr>\n",
       "  </tbody>\n",
       "</table>\n",
       "</div>"
      ],
      "text/plain": [
       "   Year    Region  Estimated Population nr\n",
       "0  2011    Border                 784000.0\n",
       "1  2011    Dublin                2523000.0\n",
       "2  2011   Ireland                9149700.0\n",
       "3  2011  Mid-East                1314900.0\n",
       "4  2011  Mid-West                 933600.0"
      ]
     },
     "execution_count": 193,
     "metadata": {},
     "output_type": "execute_result"
    }
   ],
   "source": [
    "# Sort the DataFrame 'df_pop' by 'year' in ascending order\n",
    "df_pop = pop_agg.sort_values(by=['Year'], ascending=True)\n",
    "# Reset the index of the DataFrame 'df_pop'\n",
    "df_pop = df_pop.reset_index(drop=True)\n",
    "df_pop.head()"
   ]
  },
  {
   "cell_type": "code",
   "execution_count": 194,
   "id": "0d533525",
   "metadata": {},
   "outputs": [],
   "source": [
    "#Export DataFrame to a csv File\n",
    "df_pop.to_csv(\"PEA04_c.csv\", index = False)"
   ]
  },
  {
   "cell_type": "markdown",
   "id": "e73a6041",
   "metadata": {},
   "source": [
    "# SECOND FILE"
   ]
  },
  {
   "cell_type": "code",
   "execution_count": 195,
   "id": "5d6dba75",
   "metadata": {
    "scrolled": true
   },
   "outputs": [
    {
     "data": {
      "text/html": [
       "<div>\n",
       "<style scoped>\n",
       "    .dataframe tbody tr th:only-of-type {\n",
       "        vertical-align: middle;\n",
       "    }\n",
       "\n",
       "    .dataframe tbody tr th {\n",
       "        vertical-align: top;\n",
       "    }\n",
       "\n",
       "    .dataframe thead th {\n",
       "        text-align: right;\n",
       "    }\n",
       "</style>\n",
       "<table border=\"1\" class=\"dataframe\">\n",
       "  <thead>\n",
       "    <tr style=\"text-align: right;\">\n",
       "      <th></th>\n",
       "      <th>Statistic Label</th>\n",
       "      <th>Age Group</th>\n",
       "      <th>Sex</th>\n",
       "      <th>Regional Authority Area</th>\n",
       "      <th>Year</th>\n",
       "      <th>UNIT</th>\n",
       "      <th>VALUE</th>\n",
       "    </tr>\n",
       "  </thead>\n",
       "  <tbody>\n",
       "    <tr>\n",
       "      <th>0</th>\n",
       "      <td>Estimated Population (Persons in April)</td>\n",
       "      <td>0 - 4 years</td>\n",
       "      <td>Both sexes</td>\n",
       "      <td>State</td>\n",
       "      <td>1996</td>\n",
       "      <td>Thousand</td>\n",
       "      <td>250.4</td>\n",
       "    </tr>\n",
       "    <tr>\n",
       "      <th>1</th>\n",
       "      <td>Estimated Population (Persons in April)</td>\n",
       "      <td>0 - 4 years</td>\n",
       "      <td>Both sexes</td>\n",
       "      <td>State</td>\n",
       "      <td>1997</td>\n",
       "      <td>Thousand</td>\n",
       "      <td>250.0</td>\n",
       "    </tr>\n",
       "    <tr>\n",
       "      <th>2</th>\n",
       "      <td>Estimated Population (Persons in April)</td>\n",
       "      <td>0 - 4 years</td>\n",
       "      <td>Both sexes</td>\n",
       "      <td>State</td>\n",
       "      <td>1998</td>\n",
       "      <td>Thousand</td>\n",
       "      <td>253.7</td>\n",
       "    </tr>\n",
       "    <tr>\n",
       "      <th>3</th>\n",
       "      <td>Estimated Population (Persons in April)</td>\n",
       "      <td>0 - 4 years</td>\n",
       "      <td>Both sexes</td>\n",
       "      <td>State</td>\n",
       "      <td>1999</td>\n",
       "      <td>Thousand</td>\n",
       "      <td>259.8</td>\n",
       "    </tr>\n",
       "    <tr>\n",
       "      <th>4</th>\n",
       "      <td>Estimated Population (Persons in April)</td>\n",
       "      <td>0 - 4 years</td>\n",
       "      <td>Both sexes</td>\n",
       "      <td>State</td>\n",
       "      <td>2000</td>\n",
       "      <td>Thousand</td>\n",
       "      <td>266.2</td>\n",
       "    </tr>\n",
       "    <tr>\n",
       "      <th>5</th>\n",
       "      <td>Estimated Population (Persons in April)</td>\n",
       "      <td>0 - 4 years</td>\n",
       "      <td>Both sexes</td>\n",
       "      <td>State</td>\n",
       "      <td>2001</td>\n",
       "      <td>Thousand</td>\n",
       "      <td>273.2</td>\n",
       "    </tr>\n",
       "    <tr>\n",
       "      <th>6</th>\n",
       "      <td>Estimated Population (Persons in April)</td>\n",
       "      <td>0 - 4 years</td>\n",
       "      <td>Both sexes</td>\n",
       "      <td>State</td>\n",
       "      <td>2002</td>\n",
       "      <td>Thousand</td>\n",
       "      <td>277.6</td>\n",
       "    </tr>\n",
       "    <tr>\n",
       "      <th>7</th>\n",
       "      <td>Estimated Population (Persons in April)</td>\n",
       "      <td>0 - 4 years</td>\n",
       "      <td>Both sexes</td>\n",
       "      <td>State</td>\n",
       "      <td>2003</td>\n",
       "      <td>Thousand</td>\n",
       "      <td>284.3</td>\n",
       "    </tr>\n",
       "  </tbody>\n",
       "</table>\n",
       "</div>"
      ],
      "text/plain": [
       "                           Statistic Label    Age Group         Sex  \\\n",
       "0  Estimated Population (Persons in April)  0 - 4 years  Both sexes   \n",
       "1  Estimated Population (Persons in April)  0 - 4 years  Both sexes   \n",
       "2  Estimated Population (Persons in April)  0 - 4 years  Both sexes   \n",
       "3  Estimated Population (Persons in April)  0 - 4 years  Both sexes   \n",
       "4  Estimated Population (Persons in April)  0 - 4 years  Both sexes   \n",
       "5  Estimated Population (Persons in April)  0 - 4 years  Both sexes   \n",
       "6  Estimated Population (Persons in April)  0 - 4 years  Both sexes   \n",
       "7  Estimated Population (Persons in April)  0 - 4 years  Both sexes   \n",
       "\n",
       "  Regional Authority Area  Year      UNIT  VALUE  \n",
       "0                   State  1996  Thousand  250.4  \n",
       "1                   State  1997  Thousand  250.0  \n",
       "2                   State  1998  Thousand  253.7  \n",
       "3                   State  1999  Thousand  259.8  \n",
       "4                   State  2000  Thousand  266.2  \n",
       "5                   State  2001  Thousand  273.2  \n",
       "6                   State  2002  Thousand  277.6  \n",
       "7                   State  2003  Thousand  284.3  "
      ]
     },
     "execution_count": 195,
     "metadata": {},
     "output_type": "execute_result"
    }
   ],
   "source": [
    "#Creating a DataFrame from file with Estimated Population statistic and displaing random rows\n",
    "df_pop1 = pd.read_csv(\"PEA07.csv\")\n",
    "df_pop1.head(8)"
   ]
  },
  {
   "cell_type": "code",
   "execution_count": 196,
   "id": "4331d59f",
   "metadata": {
    "scrolled": false
   },
   "outputs": [
    {
     "name": "stdout",
     "output_type": "stream",
     "text": [
      "<class 'pandas.core.frame.DataFrame'>\n",
      "RangeIndex: 11286 entries, 0 to 11285\n",
      "Data columns (total 7 columns):\n",
      " #   Column                   Non-Null Count  Dtype  \n",
      "---  ------                   --------------  -----  \n",
      " 0   Statistic Label          11286 non-null  object \n",
      " 1   Age Group                11286 non-null  object \n",
      " 2   Sex                      11286 non-null  object \n",
      " 3   Regional Authority Area  11286 non-null  object \n",
      " 4   Year                     11286 non-null  int64  \n",
      " 5   UNIT                     11286 non-null  object \n",
      " 6   VALUE                    11286 non-null  float64\n",
      "dtypes: float64(1), int64(1), object(5)\n",
      "memory usage: 617.3+ KB\n"
     ]
    }
   ],
   "source": [
    "#Explore information about the DataFrame, i.e. nr of rows, nr of not null values, data types for columns, etc...\n",
    "df_pop1.info()"
   ]
  },
  {
   "cell_type": "code",
   "execution_count": 197,
   "id": "cee85c48",
   "metadata": {},
   "outputs": [
    {
     "data": {
      "text/plain": [
       "array([1996, 1997, 1998, 1999, 2000, 2001, 2002, 2003, 2004, 2005, 2006,\n",
       "       2007, 2008, 2009, 2010, 2011, 2012, 2013, 2014, 2015, 2016, 2017],\n",
       "      dtype=int64)"
      ]
     },
     "execution_count": 197,
     "metadata": {},
     "output_type": "execute_result"
    }
   ],
   "source": [
    "df_pop1[\"Year\"].unique()"
   ]
  },
  {
   "cell_type": "code",
   "execution_count": 198,
   "id": "be764447",
   "metadata": {
    "scrolled": false
   },
   "outputs": [
    {
     "name": "stdout",
     "output_type": "stream",
     "text": [
      "<class 'pandas.core.frame.DataFrame'>\n",
      "Index: 3762 entries, 0 to 10889\n",
      "Data columns (total 7 columns):\n",
      " #   Column                   Non-Null Count  Dtype  \n",
      "---  ------                   --------------  -----  \n",
      " 0   Statistic Label          3762 non-null   object \n",
      " 1   Age Group                3762 non-null   object \n",
      " 2   Sex                      3762 non-null   object \n",
      " 3   Regional Authority Area  3762 non-null   object \n",
      " 4   Year                     3762 non-null   int64  \n",
      " 5   UNIT                     3762 non-null   object \n",
      " 6   VALUE                    3762 non-null   float64\n",
      "dtypes: float64(1), int64(1), object(5)\n",
      "memory usage: 235.1+ KB\n"
     ]
    }
   ],
   "source": [
    "#removing rows that reflect data splitted by sex and leaving only data related to both sexes. \n",
    "\n",
    "df_pop1 = df_pop1.drop(df_pop1[(df_pop1[\"Sex\"] != \"Both sexes\")].index)\n",
    "\n",
    "#Checking and comparing nr of rows\n",
    "\n",
    "df_pop1.info()"
   ]
  },
  {
   "cell_type": "code",
   "execution_count": 199,
   "id": "5a976569",
   "metadata": {},
   "outputs": [
    {
     "data": {
      "text/plain": [
       "3762.0"
      ]
     },
     "execution_count": 199,
     "metadata": {},
     "output_type": "execute_result"
    }
   ],
   "source": [
    "11286/3"
   ]
  },
  {
   "cell_type": "code",
   "execution_count": 200,
   "id": "7994e4fb",
   "metadata": {},
   "outputs": [
    {
     "data": {
      "text/plain": [
       "array(['Both sexes'], dtype=object)"
      ]
     },
     "execution_count": 200,
     "metadata": {},
     "output_type": "execute_result"
    }
   ],
   "source": [
    "#quick check for left data\n",
    "df_pop1[\"Sex\"].unique()"
   ]
  },
  {
   "cell_type": "code",
   "execution_count": 201,
   "id": "af2403bc",
   "metadata": {
    "scrolled": true
   },
   "outputs": [
    {
     "name": "stdout",
     "output_type": "stream",
     "text": [
      "<class 'pandas.core.frame.DataFrame'>\n",
      "Index: 684 entries, 11 to 10882\n",
      "Data columns (total 7 columns):\n",
      " #   Column                   Non-Null Count  Dtype  \n",
      "---  ------                   --------------  -----  \n",
      " 0   Statistic Label          684 non-null    object \n",
      " 1   Age Group                684 non-null    object \n",
      " 2   Sex                      684 non-null    object \n",
      " 3   Regional Authority Area  684 non-null    object \n",
      " 4   Year                     684 non-null    int64  \n",
      " 5   UNIT                     684 non-null    object \n",
      " 6   VALUE                    684 non-null    float64\n",
      "dtypes: float64(1), int64(1), object(5)\n",
      "memory usage: 42.8+ KB\n"
     ]
    }
   ],
   "source": [
    "#removing rows that reflect data splitted by sex and leaving only data related to both sexes. \n",
    "\n",
    "df_pop1 = df_pop1.drop(df_pop1[(df_pop1[\"Year\"] != 2007) & (df_pop1[\"Year\"] != 2008) & \n",
    "                               (df_pop1[\"Year\"] != 2009) & (df_pop1[\"Year\"] != 2010)].index)\n",
    "                            \n",
    "#Checking and comparing nr of rows\n",
    "df_pop1.info()"
   ]
  },
  {
   "cell_type": "code",
   "execution_count": 202,
   "id": "4d7b0f21",
   "metadata": {},
   "outputs": [
    {
     "data": {
      "text/plain": [
       "array([2007, 2008, 2009, 2010], dtype=int64)"
      ]
     },
     "execution_count": 202,
     "metadata": {},
     "output_type": "execute_result"
    }
   ],
   "source": [
    "df_pop1[\"Year\"].unique()"
   ]
  },
  {
   "cell_type": "code",
   "execution_count": 203,
   "id": "b1dfa878",
   "metadata": {},
   "outputs": [
    {
     "data": {
      "text/plain": [
       "Year  Regional Authority Area\n",
       "2007  Border                      967.7\n",
       "      Dublin                     2462.5\n",
       "      Mid-East                    992.1\n",
       "      Mid-West                    733.0\n",
       "      Midland                     524.6\n",
       "Name: VALUE, dtype: float64"
      ]
     },
     "execution_count": 203,
     "metadata": {},
     "output_type": "execute_result"
    }
   ],
   "source": [
    "pop_agg = df_pop1.groupby(['Year', 'Regional Authority Area'])['VALUE'].sum()\n",
    "\n",
    "pop_agg.head()"
   ]
  },
  {
   "cell_type": "code",
   "execution_count": 204,
   "id": "b6aa9c72",
   "metadata": {},
   "outputs": [
    {
     "data": {
      "text/html": [
       "<div>\n",
       "<style scoped>\n",
       "    .dataframe tbody tr th:only-of-type {\n",
       "        vertical-align: middle;\n",
       "    }\n",
       "\n",
       "    .dataframe tbody tr th {\n",
       "        vertical-align: top;\n",
       "    }\n",
       "\n",
       "    .dataframe thead th {\n",
       "        text-align: right;\n",
       "    }\n",
       "</style>\n",
       "<table border=\"1\" class=\"dataframe\">\n",
       "  <thead>\n",
       "    <tr style=\"text-align: right;\">\n",
       "      <th></th>\n",
       "      <th>Year</th>\n",
       "      <th>Regional Authority Area</th>\n",
       "      <th>VALUE</th>\n",
       "    </tr>\n",
       "  </thead>\n",
       "  <tbody>\n",
       "    <tr>\n",
       "      <th>0</th>\n",
       "      <td>2007</td>\n",
       "      <td>Border</td>\n",
       "      <td>967.7</td>\n",
       "    </tr>\n",
       "    <tr>\n",
       "      <th>1</th>\n",
       "      <td>2007</td>\n",
       "      <td>Dublin</td>\n",
       "      <td>2462.5</td>\n",
       "    </tr>\n",
       "    <tr>\n",
       "      <th>2</th>\n",
       "      <td>2007</td>\n",
       "      <td>Mid-East</td>\n",
       "      <td>992.1</td>\n",
       "    </tr>\n",
       "    <tr>\n",
       "      <th>3</th>\n",
       "      <td>2007</td>\n",
       "      <td>Mid-West</td>\n",
       "      <td>733.0</td>\n",
       "    </tr>\n",
       "    <tr>\n",
       "      <th>4</th>\n",
       "      <td>2007</td>\n",
       "      <td>Midland</td>\n",
       "      <td>524.6</td>\n",
       "    </tr>\n",
       "  </tbody>\n",
       "</table>\n",
       "</div>"
      ],
      "text/plain": [
       "   Year Regional Authority Area   VALUE\n",
       "0  2007                  Border   967.7\n",
       "1  2007                  Dublin  2462.5\n",
       "2  2007                Mid-East   992.1\n",
       "3  2007                Mid-West   733.0\n",
       "4  2007                 Midland   524.6"
      ]
     },
     "execution_count": 204,
     "metadata": {},
     "output_type": "execute_result"
    }
   ],
   "source": [
    "pop_agg = pop_agg.reset_index(drop=False)\n",
    "pop_agg.head()"
   ]
  },
  {
   "cell_type": "code",
   "execution_count": 205,
   "id": "561e7dca",
   "metadata": {
    "scrolled": true
   },
   "outputs": [
    {
     "data": {
      "text/html": [
       "<div>\n",
       "<style scoped>\n",
       "    .dataframe tbody tr th:only-of-type {\n",
       "        vertical-align: middle;\n",
       "    }\n",
       "\n",
       "    .dataframe tbody tr th {\n",
       "        vertical-align: top;\n",
       "    }\n",
       "\n",
       "    .dataframe thead th {\n",
       "        text-align: right;\n",
       "    }\n",
       "</style>\n",
       "<table border=\"1\" class=\"dataframe\">\n",
       "  <thead>\n",
       "    <tr style=\"text-align: right;\">\n",
       "      <th></th>\n",
       "      <th>Year</th>\n",
       "      <th>Regional Authority Area</th>\n",
       "      <th>VALUE</th>\n",
       "    </tr>\n",
       "  </thead>\n",
       "  <tbody>\n",
       "    <tr>\n",
       "      <th>0</th>\n",
       "      <td>2007</td>\n",
       "      <td>Border</td>\n",
       "      <td>967.7</td>\n",
       "    </tr>\n",
       "    <tr>\n",
       "      <th>1</th>\n",
       "      <td>2007</td>\n",
       "      <td>Dublin</td>\n",
       "      <td>2462.5</td>\n",
       "    </tr>\n",
       "    <tr>\n",
       "      <th>2</th>\n",
       "      <td>2007</td>\n",
       "      <td>Mid-East</td>\n",
       "      <td>992.1</td>\n",
       "    </tr>\n",
       "    <tr>\n",
       "      <th>3</th>\n",
       "      <td>2007</td>\n",
       "      <td>Mid-West</td>\n",
       "      <td>733.0</td>\n",
       "    </tr>\n",
       "    <tr>\n",
       "      <th>4</th>\n",
       "      <td>2007</td>\n",
       "      <td>Midland</td>\n",
       "      <td>524.6</td>\n",
       "    </tr>\n",
       "  </tbody>\n",
       "</table>\n",
       "</div>"
      ],
      "text/plain": [
       "   Year Regional Authority Area   VALUE\n",
       "0  2007                  Border   967.7\n",
       "1  2007                  Dublin  2462.5\n",
       "2  2007                Mid-East   992.1\n",
       "3  2007                Mid-West   733.0\n",
       "4  2007                 Midland   524.6"
      ]
     },
     "execution_count": 205,
     "metadata": {},
     "output_type": "execute_result"
    }
   ],
   "source": [
    "# Sort the DataFrame 'df_pop' by 'year' in ascending order\n",
    "df_pop1 = pop_agg.sort_values(by=['Year'], ascending=True)\n",
    "# Reset the index of the DataFrame 'df_pop'\n",
    "df_pop1 = df_pop1.reset_index(drop=True)\n",
    "df_pop1.head()"
   ]
  },
  {
   "cell_type": "code",
   "execution_count": 206,
   "id": "49376650",
   "metadata": {},
   "outputs": [],
   "source": [
    "df_pop1 = df_pop1.rename(columns={'VALUE': 'Estimated Population nr','Regional Authority Area': 'Region'})"
   ]
  },
  {
   "cell_type": "code",
   "execution_count": 207,
   "id": "a858877e",
   "metadata": {
    "scrolled": true
   },
   "outputs": [
    {
     "data": {
      "text/html": [
       "<div>\n",
       "<style scoped>\n",
       "    .dataframe tbody tr th:only-of-type {\n",
       "        vertical-align: middle;\n",
       "    }\n",
       "\n",
       "    .dataframe tbody tr th {\n",
       "        vertical-align: top;\n",
       "    }\n",
       "\n",
       "    .dataframe thead th {\n",
       "        text-align: right;\n",
       "    }\n",
       "</style>\n",
       "<table border=\"1\" class=\"dataframe\">\n",
       "  <thead>\n",
       "    <tr style=\"text-align: right;\">\n",
       "      <th></th>\n",
       "      <th>Year</th>\n",
       "      <th>Region</th>\n",
       "      <th>Estimated Population nr</th>\n",
       "    </tr>\n",
       "  </thead>\n",
       "  <tbody>\n",
       "    <tr>\n",
       "      <th>0</th>\n",
       "      <td>2007</td>\n",
       "      <td>Border</td>\n",
       "      <td>967.7</td>\n",
       "    </tr>\n",
       "    <tr>\n",
       "      <th>1</th>\n",
       "      <td>2007</td>\n",
       "      <td>Dublin</td>\n",
       "      <td>2462.5</td>\n",
       "    </tr>\n",
       "    <tr>\n",
       "      <th>2</th>\n",
       "      <td>2007</td>\n",
       "      <td>Mid-East</td>\n",
       "      <td>992.1</td>\n",
       "    </tr>\n",
       "    <tr>\n",
       "      <th>3</th>\n",
       "      <td>2007</td>\n",
       "      <td>Mid-West</td>\n",
       "      <td>733.0</td>\n",
       "    </tr>\n",
       "    <tr>\n",
       "      <th>4</th>\n",
       "      <td>2007</td>\n",
       "      <td>Midland</td>\n",
       "      <td>524.6</td>\n",
       "    </tr>\n",
       "  </tbody>\n",
       "</table>\n",
       "</div>"
      ],
      "text/plain": [
       "   Year    Region  Estimated Population nr\n",
       "0  2007    Border                    967.7\n",
       "1  2007    Dublin                   2462.5\n",
       "2  2007  Mid-East                    992.1\n",
       "3  2007  Mid-West                    733.0\n",
       "4  2007   Midland                    524.6"
      ]
     },
     "execution_count": 207,
     "metadata": {},
     "output_type": "execute_result"
    }
   ],
   "source": [
    "df_pop1.head()"
   ]
  },
  {
   "cell_type": "code",
   "execution_count": 208,
   "id": "a26c065d",
   "metadata": {},
   "outputs": [],
   "source": [
    "# In column 'Region' replacing value 'State' with 'Ireland' and 'Midland' with 'Midlands'\n",
    "df_pop1 = df_pop1.replace('State', 'Ireland')"
   ]
  },
  {
   "cell_type": "code",
   "execution_count": 209,
   "id": "7ca272a2",
   "metadata": {},
   "outputs": [],
   "source": [
    "df_pop1 = df_pop1.replace('Midland', 'Midlands')"
   ]
  },
  {
   "cell_type": "code",
   "execution_count": 210,
   "id": "455aa2cc",
   "metadata": {},
   "outputs": [],
   "source": [
    "#Multipliyng values by 1000\n",
    "df_pop1['Estimated Population nr'] = df_pop1['Estimated Population nr'].mul(1000)"
   ]
  },
  {
   "cell_type": "code",
   "execution_count": 211,
   "id": "8f02083f",
   "metadata": {},
   "outputs": [],
   "source": [
    "df = pd.concat([df_pop, df_pop1], ignore_index=True)"
   ]
  },
  {
   "cell_type": "code",
   "execution_count": 212,
   "id": "e4e77dac",
   "metadata": {},
   "outputs": [],
   "source": [
    "# Sort the DataFrame 'df_pop' by 'year' in ascending order\n",
    "df = df.sort_values(by=['Year'], ascending=True)\n",
    "\n",
    "# Reset the index of the DataFrame 'df_pop'\n",
    "df = df.reset_index(drop=True)"
   ]
  },
  {
   "cell_type": "code",
   "execution_count": 213,
   "id": "7ba72eeb",
   "metadata": {
    "scrolled": true
   },
   "outputs": [
    {
     "data": {
      "text/html": [
       "<div>\n",
       "<style scoped>\n",
       "    .dataframe tbody tr th:only-of-type {\n",
       "        vertical-align: middle;\n",
       "    }\n",
       "\n",
       "    .dataframe tbody tr th {\n",
       "        vertical-align: top;\n",
       "    }\n",
       "\n",
       "    .dataframe thead th {\n",
       "        text-align: right;\n",
       "    }\n",
       "</style>\n",
       "<table border=\"1\" class=\"dataframe\">\n",
       "  <thead>\n",
       "    <tr style=\"text-align: right;\">\n",
       "      <th></th>\n",
       "      <th>Year</th>\n",
       "      <th>Region</th>\n",
       "      <th>Estimated Population nr</th>\n",
       "    </tr>\n",
       "  </thead>\n",
       "  <tbody>\n",
       "    <tr>\n",
       "      <th>0</th>\n",
       "      <td>2007</td>\n",
       "      <td>West</td>\n",
       "      <td>846400.0</td>\n",
       "    </tr>\n",
       "    <tr>\n",
       "      <th>1</th>\n",
       "      <td>2007</td>\n",
       "      <td>Dublin</td>\n",
       "      <td>2462500.0</td>\n",
       "    </tr>\n",
       "    <tr>\n",
       "      <th>2</th>\n",
       "      <td>2007</td>\n",
       "      <td>Mid-East</td>\n",
       "      <td>992100.0</td>\n",
       "    </tr>\n",
       "    <tr>\n",
       "      <th>3</th>\n",
       "      <td>2007</td>\n",
       "      <td>Mid-West</td>\n",
       "      <td>733000.0</td>\n",
       "    </tr>\n",
       "    <tr>\n",
       "      <th>4</th>\n",
       "      <td>2007</td>\n",
       "      <td>Midlands</td>\n",
       "      <td>524600.0</td>\n",
       "    </tr>\n",
       "  </tbody>\n",
       "</table>\n",
       "</div>"
      ],
      "text/plain": [
       "   Year    Region  Estimated Population nr\n",
       "0  2007      West                 846400.0\n",
       "1  2007    Dublin                2462500.0\n",
       "2  2007  Mid-East                 992100.0\n",
       "3  2007  Mid-West                 733000.0\n",
       "4  2007  Midlands                 524600.0"
      ]
     },
     "execution_count": 213,
     "metadata": {},
     "output_type": "execute_result"
    }
   ],
   "source": [
    "df.head()"
   ]
  },
  {
   "cell_type": "code",
   "execution_count": 215,
   "id": "0b5579e9",
   "metadata": {},
   "outputs": [
    {
     "name": "stdout",
     "output_type": "stream",
     "text": [
      "<class 'pandas.core.frame.DataFrame'>\n",
      "RangeIndex: 153 entries, 0 to 152\n",
      "Data columns (total 3 columns):\n",
      " #   Column                   Non-Null Count  Dtype  \n",
      "---  ------                   --------------  -----  \n",
      " 0   Year                     153 non-null    int64  \n",
      " 1   Region                   153 non-null    object \n",
      " 2   Estimated Population nr  153 non-null    float64\n",
      "dtypes: float64(1), int64(1), object(1)\n",
      "memory usage: 3.7+ KB\n"
     ]
    }
   ],
   "source": [
    "df.info()"
   ]
  },
  {
   "cell_type": "code",
   "execution_count": 214,
   "id": "6c6bcd43",
   "metadata": {},
   "outputs": [],
   "source": [
    "#Export DataFrame to a csv File\n",
    "df.to_csv(\"PEA_c.csv\", index = False)"
   ]
  }
 ],
 "metadata": {
  "kernelspec": {
   "display_name": "Python 3 (ipykernel)",
   "language": "python",
   "name": "python3"
  },
  "language_info": {
   "codemirror_mode": {
    "name": "ipython",
    "version": 3
   },
   "file_extension": ".py",
   "mimetype": "text/x-python",
   "name": "python",
   "nbconvert_exporter": "python",
   "pygments_lexer": "ipython3",
   "version": "3.11.4"
  }
 },
 "nbformat": 4,
 "nbformat_minor": 5
}
