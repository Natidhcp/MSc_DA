{
 "cells": [
  {
   "cell_type": "code",
   "execution_count": 1,
   "id": "b56e0bb2",
   "metadata": {},
   "outputs": [],
   "source": [
    "##IMPORTING LIBRARIES\n",
    "import pandas as pd\n",
    "import statistics as stats\n",
    "import numpy as np\n",
    "import matplotlib.pyplot as plt\n",
    "import seaborn as sns"
   ]
  },
  {
   "cell_type": "code",
   "execution_count": 2,
   "id": "88194e94",
   "metadata": {},
   "outputs": [],
   "source": [
    "# Suppress the warnings\n",
    "import warnings\n",
    "warnings.filterwarnings('ignore')"
   ]
  },
  {
   "cell_type": "code",
   "execution_count": 14,
   "id": "3a8a4add",
   "metadata": {
    "scrolled": true
   },
   "outputs": [
    {
     "data": {
      "text/html": [
       "<div>\n",
       "<style scoped>\n",
       "    .dataframe tbody tr th:only-of-type {\n",
       "        vertical-align: middle;\n",
       "    }\n",
       "\n",
       "    .dataframe tbody tr th {\n",
       "        vertical-align: top;\n",
       "    }\n",
       "\n",
       "    .dataframe thead th {\n",
       "        text-align: right;\n",
       "    }\n",
       "</style>\n",
       "<table border=\"1\" class=\"dataframe\">\n",
       "  <thead>\n",
       "    <tr style=\"text-align: right;\">\n",
       "      <th></th>\n",
       "      <th>Year</th>\n",
       "      <th>Region</th>\n",
       "      <th>Estimated Population nr</th>\n",
       "    </tr>\n",
       "  </thead>\n",
       "  <tbody>\n",
       "    <tr>\n",
       "      <th>0</th>\n",
       "      <td>2007</td>\n",
       "      <td>West</td>\n",
       "      <td>846400.0</td>\n",
       "    </tr>\n",
       "    <tr>\n",
       "      <th>1</th>\n",
       "      <td>2007</td>\n",
       "      <td>Dublin</td>\n",
       "      <td>2462500.0</td>\n",
       "    </tr>\n",
       "    <tr>\n",
       "      <th>2</th>\n",
       "      <td>2007</td>\n",
       "      <td>Mid-East</td>\n",
       "      <td>992100.0</td>\n",
       "    </tr>\n",
       "    <tr>\n",
       "      <th>3</th>\n",
       "      <td>2007</td>\n",
       "      <td>Mid-West</td>\n",
       "      <td>733000.0</td>\n",
       "    </tr>\n",
       "    <tr>\n",
       "      <th>4</th>\n",
       "      <td>2007</td>\n",
       "      <td>Midlands</td>\n",
       "      <td>524600.0</td>\n",
       "    </tr>\n",
       "  </tbody>\n",
       "</table>\n",
       "</div>"
      ],
      "text/plain": [
       "   Year    Region  Estimated Population nr\n",
       "0  2007      West                 846400.0\n",
       "1  2007    Dublin                2462500.0\n",
       "2  2007  Mid-East                 992100.0\n",
       "3  2007  Mid-West                 733000.0\n",
       "4  2007  Midlands                 524600.0"
      ]
     },
     "execution_count": 14,
     "metadata": {},
     "output_type": "execute_result"
    }
   ],
   "source": [
    "#Creating dataframes from clean files\n",
    "df_pop = pd.read_csv(\"PEA_c.csv\")\n",
    "df_f = pd.read_csv(\"F2002_c.csv\")\n",
    "df_ica = pd.read_csv(\"ICA_c.csv\")\n",
    "\n",
    "df_pop.head()"
   ]
  },
  {
   "cell_type": "code",
   "execution_count": 15,
   "id": "00fe406b",
   "metadata": {},
   "outputs": [
    {
     "data": {
      "text/plain": [
       "(153, 3)"
      ]
     },
     "execution_count": 15,
     "metadata": {},
     "output_type": "execute_result"
    }
   ],
   "source": [
    "df_pop.shape"
   ]
  },
  {
   "cell_type": "code",
   "execution_count": 16,
   "id": "fa55e0e7",
   "metadata": {},
   "outputs": [
    {
     "data": {
      "text/plain": [
       "array(['West', 'Dublin', 'Mid-East', 'Mid-West', 'Midlands', 'South-East',\n",
       "       'South-West', 'Ireland', 'Border'], dtype=object)"
      ]
     },
     "execution_count": 16,
     "metadata": {},
     "output_type": "execute_result"
    }
   ],
   "source": [
    "df_pop.Region.unique()"
   ]
  },
  {
   "cell_type": "code",
   "execution_count": 17,
   "id": "d83fcc24",
   "metadata": {
    "scrolled": false
   },
   "outputs": [
    {
     "data": {
      "text/html": [
       "<div>\n",
       "<style scoped>\n",
       "    .dataframe tbody tr th:only-of-type {\n",
       "        vertical-align: middle;\n",
       "    }\n",
       "\n",
       "    .dataframe tbody tr th {\n",
       "        vertical-align: top;\n",
       "    }\n",
       "\n",
       "    .dataframe thead th {\n",
       "        text-align: right;\n",
       "    }\n",
       "</style>\n",
       "<table border=\"1\" class=\"dataframe\">\n",
       "  <thead>\n",
       "    <tr style=\"text-align: right;\">\n",
       "      <th></th>\n",
       "      <th>Year</th>\n",
       "      <th>Region</th>\n",
       "      <th>Average Nr of Persons Household</th>\n",
       "    </tr>\n",
       "  </thead>\n",
       "  <tbody>\n",
       "    <tr>\n",
       "      <th>0</th>\n",
       "      <td>1971</td>\n",
       "      <td>Border</td>\n",
       "      <td>3.727</td>\n",
       "    </tr>\n",
       "    <tr>\n",
       "      <th>1</th>\n",
       "      <td>1971</td>\n",
       "      <td>South-West</td>\n",
       "      <td>3.910</td>\n",
       "    </tr>\n",
       "    <tr>\n",
       "      <th>2</th>\n",
       "      <td>1971</td>\n",
       "      <td>Ireland</td>\n",
       "      <td>3.940</td>\n",
       "    </tr>\n",
       "    <tr>\n",
       "      <th>3</th>\n",
       "      <td>1971</td>\n",
       "      <td>South-East</td>\n",
       "      <td>4.047</td>\n",
       "    </tr>\n",
       "    <tr>\n",
       "      <th>4</th>\n",
       "      <td>1971</td>\n",
       "      <td>Mid-East</td>\n",
       "      <td>4.127</td>\n",
       "    </tr>\n",
       "  </tbody>\n",
       "</table>\n",
       "</div>"
      ],
      "text/plain": [
       "   Year      Region  Average Nr of Persons Household\n",
       "0  1971      Border                            3.727\n",
       "1  1971  South-West                            3.910\n",
       "2  1971     Ireland                            3.940\n",
       "3  1971  South-East                            4.047\n",
       "4  1971    Mid-East                            4.127"
      ]
     },
     "execution_count": 17,
     "metadata": {},
     "output_type": "execute_result"
    }
   ],
   "source": [
    "df_f.head()"
   ]
  },
  {
   "cell_type": "code",
   "execution_count": 18,
   "id": "9677a0c9",
   "metadata": {
    "scrolled": true
   },
   "outputs": [
    {
     "data": {
      "text/plain": [
       "(189, 3)"
      ]
     },
     "execution_count": 18,
     "metadata": {},
     "output_type": "execute_result"
    }
   ],
   "source": [
    "df_f.shape"
   ]
  },
  {
   "cell_type": "code",
   "execution_count": 19,
   "id": "f8d8320d",
   "metadata": {
    "scrolled": true
   },
   "outputs": [
    {
     "data": {
      "text/plain": [
       "array(['Border', 'South-West', 'Ireland', 'South-East', 'Mid-East',\n",
       "       'Mid-West', 'Midlands', 'Dublin', 'West'], dtype=object)"
      ]
     },
     "execution_count": 19,
     "metadata": {},
     "output_type": "execute_result"
    }
   ],
   "source": [
    "df_f.Region.unique()"
   ]
  },
  {
   "cell_type": "code",
   "execution_count": 20,
   "id": "b639b416",
   "metadata": {},
   "outputs": [
    {
     "data": {
      "text/html": [
       "<div>\n",
       "<style scoped>\n",
       "    .dataframe tbody tr th:only-of-type {\n",
       "        vertical-align: middle;\n",
       "    }\n",
       "\n",
       "    .dataframe tbody tr th {\n",
       "        vertical-align: top;\n",
       "    }\n",
       "\n",
       "    .dataframe thead th {\n",
       "        text-align: right;\n",
       "    }\n",
       "</style>\n",
       "<table border=\"1\" class=\"dataframe\">\n",
       "  <thead>\n",
       "    <tr style=\"text-align: right;\">\n",
       "      <th></th>\n",
       "      <th>Year</th>\n",
       "      <th>Region</th>\n",
       "      <th>Households with Internet Access</th>\n",
       "    </tr>\n",
       "  </thead>\n",
       "  <tbody>\n",
       "    <tr>\n",
       "      <th>0</th>\n",
       "      <td>2007</td>\n",
       "      <td>Border</td>\n",
       "      <td>43.0</td>\n",
       "    </tr>\n",
       "    <tr>\n",
       "      <th>1</th>\n",
       "      <td>2007</td>\n",
       "      <td>Midlands</td>\n",
       "      <td>54.0</td>\n",
       "    </tr>\n",
       "    <tr>\n",
       "      <th>2</th>\n",
       "      <td>2007</td>\n",
       "      <td>South-East</td>\n",
       "      <td>49.0</td>\n",
       "    </tr>\n",
       "    <tr>\n",
       "      <th>3</th>\n",
       "      <td>2007</td>\n",
       "      <td>Mid-West</td>\n",
       "      <td>58.0</td>\n",
       "    </tr>\n",
       "    <tr>\n",
       "      <th>4</th>\n",
       "      <td>2007</td>\n",
       "      <td>South-West</td>\n",
       "      <td>56.0</td>\n",
       "    </tr>\n",
       "  </tbody>\n",
       "</table>\n",
       "</div>"
      ],
      "text/plain": [
       "   Year      Region  Households with Internet Access\n",
       "0  2007      Border                             43.0\n",
       "1  2007    Midlands                             54.0\n",
       "2  2007  South-East                             49.0\n",
       "3  2007    Mid-West                             58.0\n",
       "4  2007  South-West                             56.0"
      ]
     },
     "execution_count": 20,
     "metadata": {},
     "output_type": "execute_result"
    }
   ],
   "source": [
    "df_ica.head()"
   ]
  },
  {
   "cell_type": "code",
   "execution_count": 21,
   "id": "86c87ff0",
   "metadata": {
    "scrolled": true
   },
   "outputs": [
    {
     "name": "stdout",
     "output_type": "stream",
     "text": [
      "<class 'pandas.core.frame.DataFrame'>\n",
      "RangeIndex: 144 entries, 0 to 143\n",
      "Data columns (total 3 columns):\n",
      " #   Column                           Non-Null Count  Dtype  \n",
      "---  ------                           --------------  -----  \n",
      " 0   Year                             144 non-null    int64  \n",
      " 1   Region                           144 non-null    object \n",
      " 2   Households with Internet Access  144 non-null    float64\n",
      "dtypes: float64(1), int64(1), object(1)\n",
      "memory usage: 3.5+ KB\n"
     ]
    }
   ],
   "source": [
    "df_ica.info()"
   ]
  },
  {
   "cell_type": "code",
   "execution_count": 22,
   "id": "3e78cd83",
   "metadata": {
    "scrolled": true
   },
   "outputs": [
    {
     "data": {
      "text/plain": [
       "(144, 3)"
      ]
     },
     "execution_count": 22,
     "metadata": {},
     "output_type": "execute_result"
    }
   ],
   "source": [
    "df_ica.shape"
   ]
  },
  {
   "cell_type": "code",
   "execution_count": 23,
   "id": "ebf9ec8d",
   "metadata": {},
   "outputs": [
    {
     "data": {
      "text/plain": [
       "array(['Border', 'Midlands', 'South-East', 'Mid-West', 'South-West',\n",
       "       'Mid-East', 'Ireland', 'Dublin', 'West'], dtype=object)"
      ]
     },
     "execution_count": 23,
     "metadata": {},
     "output_type": "execute_result"
    }
   ],
   "source": [
    "df_ica.Region.unique()"
   ]
  },
  {
   "cell_type": "code",
   "execution_count": 30,
   "id": "b3d52ea9",
   "metadata": {
    "scrolled": true
   },
   "outputs": [
    {
     "data": {
      "text/html": [
       "<div>\n",
       "<style scoped>\n",
       "    .dataframe tbody tr th:only-of-type {\n",
       "        vertical-align: middle;\n",
       "    }\n",
       "\n",
       "    .dataframe tbody tr th {\n",
       "        vertical-align: top;\n",
       "    }\n",
       "\n",
       "    .dataframe thead th {\n",
       "        text-align: right;\n",
       "    }\n",
       "</style>\n",
       "<table border=\"1\" class=\"dataframe\">\n",
       "  <thead>\n",
       "    <tr style=\"text-align: right;\">\n",
       "      <th></th>\n",
       "      <th>Year</th>\n",
       "      <th>Region</th>\n",
       "      <th>Estimated Population nr</th>\n",
       "      <th>Average Nr of Persons Household</th>\n",
       "    </tr>\n",
       "  </thead>\n",
       "  <tbody>\n",
       "    <tr>\n",
       "      <th>0</th>\n",
       "      <td>2007</td>\n",
       "      <td>West</td>\n",
       "      <td>846400.0</td>\n",
       "      <td>2.767</td>\n",
       "    </tr>\n",
       "    <tr>\n",
       "      <th>1</th>\n",
       "      <td>2007</td>\n",
       "      <td>Dublin</td>\n",
       "      <td>2462500.0</td>\n",
       "      <td>2.714</td>\n",
       "    </tr>\n",
       "    <tr>\n",
       "      <th>2</th>\n",
       "      <td>2007</td>\n",
       "      <td>Mid-East</td>\n",
       "      <td>992100.0</td>\n",
       "      <td>2.959</td>\n",
       "    </tr>\n",
       "    <tr>\n",
       "      <th>3</th>\n",
       "      <td>2007</td>\n",
       "      <td>Mid-West</td>\n",
       "      <td>733000.0</td>\n",
       "      <td>2.770</td>\n",
       "    </tr>\n",
       "    <tr>\n",
       "      <th>4</th>\n",
       "      <td>2007</td>\n",
       "      <td>Midlands</td>\n",
       "      <td>524600.0</td>\n",
       "      <td>2.858</td>\n",
       "    </tr>\n",
       "  </tbody>\n",
       "</table>\n",
       "</div>"
      ],
      "text/plain": [
       "   Year    Region  Estimated Population nr  Average Nr of Persons Household\n",
       "0  2007      West                 846400.0                            2.767\n",
       "1  2007    Dublin                2462500.0                            2.714\n",
       "2  2007  Mid-East                 992100.0                            2.959\n",
       "3  2007  Mid-West                 733000.0                            2.770\n",
       "4  2007  Midlands                 524600.0                            2.858"
      ]
     },
     "execution_count": 30,
     "metadata": {},
     "output_type": "execute_result"
    }
   ],
   "source": [
    "df_agg1 = df_pop.merge(df_f, on=['Year', 'Region'], how='left')\n",
    "df_agg1.head()"
   ]
  },
  {
   "cell_type": "code",
   "execution_count": 31,
   "id": "602de80c",
   "metadata": {
    "scrolled": false
   },
   "outputs": [
    {
     "data": {
      "text/html": [
       "<div>\n",
       "<style scoped>\n",
       "    .dataframe tbody tr th:only-of-type {\n",
       "        vertical-align: middle;\n",
       "    }\n",
       "\n",
       "    .dataframe tbody tr th {\n",
       "        vertical-align: top;\n",
       "    }\n",
       "\n",
       "    .dataframe thead th {\n",
       "        text-align: right;\n",
       "    }\n",
       "</style>\n",
       "<table border=\"1\" class=\"dataframe\">\n",
       "  <thead>\n",
       "    <tr style=\"text-align: right;\">\n",
       "      <th></th>\n",
       "      <th>Year</th>\n",
       "      <th>Region</th>\n",
       "      <th>Estimated Population nr</th>\n",
       "      <th>Average Nr of Persons Household</th>\n",
       "      <th>Households with Internet Access</th>\n",
       "    </tr>\n",
       "  </thead>\n",
       "  <tbody>\n",
       "    <tr>\n",
       "      <th>0</th>\n",
       "      <td>2007</td>\n",
       "      <td>West</td>\n",
       "      <td>846400.0</td>\n",
       "      <td>2.767</td>\n",
       "      <td>52.0</td>\n",
       "    </tr>\n",
       "    <tr>\n",
       "      <th>1</th>\n",
       "      <td>2007</td>\n",
       "      <td>Dublin</td>\n",
       "      <td>2462500.0</td>\n",
       "      <td>2.714</td>\n",
       "      <td>66.0</td>\n",
       "    </tr>\n",
       "    <tr>\n",
       "      <th>2</th>\n",
       "      <td>2007</td>\n",
       "      <td>Mid-East</td>\n",
       "      <td>992100.0</td>\n",
       "      <td>2.959</td>\n",
       "      <td>66.0</td>\n",
       "    </tr>\n",
       "    <tr>\n",
       "      <th>3</th>\n",
       "      <td>2007</td>\n",
       "      <td>Mid-West</td>\n",
       "      <td>733000.0</td>\n",
       "      <td>2.770</td>\n",
       "      <td>58.0</td>\n",
       "    </tr>\n",
       "    <tr>\n",
       "      <th>4</th>\n",
       "      <td>2007</td>\n",
       "      <td>Midlands</td>\n",
       "      <td>524600.0</td>\n",
       "      <td>2.858</td>\n",
       "      <td>54.0</td>\n",
       "    </tr>\n",
       "  </tbody>\n",
       "</table>\n",
       "</div>"
      ],
      "text/plain": [
       "   Year    Region  Estimated Population nr  Average Nr of Persons Household  \\\n",
       "0  2007      West                 846400.0                            2.767   \n",
       "1  2007    Dublin                2462500.0                            2.714   \n",
       "2  2007  Mid-East                 992100.0                            2.959   \n",
       "3  2007  Mid-West                 733000.0                            2.770   \n",
       "4  2007  Midlands                 524600.0                            2.858   \n",
       "\n",
       "   Households with Internet Access  \n",
       "0                             52.0  \n",
       "1                             66.0  \n",
       "2                             66.0  \n",
       "3                             58.0  \n",
       "4                             54.0  "
      ]
     },
     "execution_count": 31,
     "metadata": {},
     "output_type": "execute_result"
    }
   ],
   "source": [
    "df_agg1 = df_agg1.merge(df_ica, on=['Year', 'Region'], how='left')\n",
    "df_agg1.head()"
   ]
  },
  {
   "cell_type": "code",
   "execution_count": 32,
   "id": "734d937f",
   "metadata": {},
   "outputs": [],
   "source": [
    "df_agg1['Nr of Households'] = df_agg1['Estimated Population nr'] / df_agg1['Average Nr of Persons Household']"
   ]
  },
  {
   "cell_type": "code",
   "execution_count": 34,
   "id": "ea513c79",
   "metadata": {},
   "outputs": [],
   "source": [
    "df_agg1['Nr of Households with Internet Access'] = df_agg1['Nr of Households']*df_agg1['Households with Internet Access']/100"
   ]
  },
  {
   "cell_type": "code",
   "execution_count": 40,
   "id": "a638dc6c",
   "metadata": {},
   "outputs": [],
   "source": [
    "df_agg1['Nr of Persons with Internet Access'] = df_agg1['Nr of Households with Internet Access'] * df_agg1['Average Nr of Persons Household']"
   ]
  },
  {
   "cell_type": "code",
   "execution_count": 41,
   "id": "e3e84de2",
   "metadata": {},
   "outputs": [
    {
     "data": {
      "text/html": [
       "<div>\n",
       "<style scoped>\n",
       "    .dataframe tbody tr th:only-of-type {\n",
       "        vertical-align: middle;\n",
       "    }\n",
       "\n",
       "    .dataframe tbody tr th {\n",
       "        vertical-align: top;\n",
       "    }\n",
       "\n",
       "    .dataframe thead th {\n",
       "        text-align: right;\n",
       "    }\n",
       "</style>\n",
       "<table border=\"1\" class=\"dataframe\">\n",
       "  <thead>\n",
       "    <tr style=\"text-align: right;\">\n",
       "      <th></th>\n",
       "      <th>Year</th>\n",
       "      <th>Region</th>\n",
       "      <th>Estimated Population nr</th>\n",
       "      <th>Average Nr of Persons Household</th>\n",
       "      <th>Households with Internet Access</th>\n",
       "      <th>Nr of Households</th>\n",
       "      <th>Nr of Households with Internet Access</th>\n",
       "      <th>Nr of Persons with Internet Access</th>\n",
       "    </tr>\n",
       "  </thead>\n",
       "  <tbody>\n",
       "    <tr>\n",
       "      <th>0</th>\n",
       "      <td>2007</td>\n",
       "      <td>West</td>\n",
       "      <td>846400.0</td>\n",
       "      <td>2.767</td>\n",
       "      <td>52.0</td>\n",
       "      <td>305890.856523</td>\n",
       "      <td>159063.245392</td>\n",
       "      <td>440128.0</td>\n",
       "    </tr>\n",
       "    <tr>\n",
       "      <th>1</th>\n",
       "      <td>2007</td>\n",
       "      <td>Dublin</td>\n",
       "      <td>2462500.0</td>\n",
       "      <td>2.714</td>\n",
       "      <td>66.0</td>\n",
       "      <td>907332.350774</td>\n",
       "      <td>598839.351511</td>\n",
       "      <td>1625250.0</td>\n",
       "    </tr>\n",
       "    <tr>\n",
       "      <th>2</th>\n",
       "      <td>2007</td>\n",
       "      <td>Mid-East</td>\n",
       "      <td>992100.0</td>\n",
       "      <td>2.959</td>\n",
       "      <td>66.0</td>\n",
       "      <td>335282.189929</td>\n",
       "      <td>221286.245353</td>\n",
       "      <td>654786.0</td>\n",
       "    </tr>\n",
       "    <tr>\n",
       "      <th>3</th>\n",
       "      <td>2007</td>\n",
       "      <td>Mid-West</td>\n",
       "      <td>733000.0</td>\n",
       "      <td>2.770</td>\n",
       "      <td>58.0</td>\n",
       "      <td>264620.938628</td>\n",
       "      <td>153480.144404</td>\n",
       "      <td>425140.0</td>\n",
       "    </tr>\n",
       "    <tr>\n",
       "      <th>4</th>\n",
       "      <td>2007</td>\n",
       "      <td>Midlands</td>\n",
       "      <td>524600.0</td>\n",
       "      <td>2.858</td>\n",
       "      <td>54.0</td>\n",
       "      <td>183554.933520</td>\n",
       "      <td>99119.664101</td>\n",
       "      <td>283284.0</td>\n",
       "    </tr>\n",
       "  </tbody>\n",
       "</table>\n",
       "</div>"
      ],
      "text/plain": [
       "   Year    Region  Estimated Population nr  Average Nr of Persons Household  \\\n",
       "0  2007      West                 846400.0                            2.767   \n",
       "1  2007    Dublin                2462500.0                            2.714   \n",
       "2  2007  Mid-East                 992100.0                            2.959   \n",
       "3  2007  Mid-West                 733000.0                            2.770   \n",
       "4  2007  Midlands                 524600.0                            2.858   \n",
       "\n",
       "   Households with Internet Access  Nr of Households  \\\n",
       "0                             52.0     305890.856523   \n",
       "1                             66.0     907332.350774   \n",
       "2                             66.0     335282.189929   \n",
       "3                             58.0     264620.938628   \n",
       "4                             54.0     183554.933520   \n",
       "\n",
       "   Nr of Households with Internet Access  Nr of Persons with Internet Access  \n",
       "0                          159063.245392                            440128.0  \n",
       "1                          598839.351511                           1625250.0  \n",
       "2                          221286.245353                            654786.0  \n",
       "3                          153480.144404                            425140.0  \n",
       "4                           99119.664101                            283284.0  "
      ]
     },
     "execution_count": 41,
     "metadata": {},
     "output_type": "execute_result"
    }
   ],
   "source": [
    "df_agg1.head()"
   ]
  },
  {
   "cell_type": "code",
   "execution_count": 43,
   "id": "959526c7",
   "metadata": {},
   "outputs": [],
   "source": [
    "df_agg1.to_csv(\"FINAL.csv\", index = False)"
   ]
  }
 ],
 "metadata": {
  "kernelspec": {
   "display_name": "Python 3 (ipykernel)",
   "language": "python",
   "name": "python3"
  },
  "language_info": {
   "codemirror_mode": {
    "name": "ipython",
    "version": 3
   },
   "file_extension": ".py",
   "mimetype": "text/x-python",
   "name": "python",
   "nbconvert_exporter": "python",
   "pygments_lexer": "ipython3",
   "version": "3.11.4"
  }
 },
 "nbformat": 4,
 "nbformat_minor": 5
}
