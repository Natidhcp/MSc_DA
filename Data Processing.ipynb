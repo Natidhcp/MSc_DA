{
 "cells": [
  {
   "cell_type": "markdown",
   "id": "76e75b9a",
   "metadata": {},
   "source": [
    "# Step 5.  Aggregation of all cleaned and processed data into a resulting dataset. \n",
    "This dataset will be the basis for solving the tasks."
   ]
  },
  {
   "cell_type": "code",
   "execution_count": 1,
   "id": "b56e0bb2",
   "metadata": {},
   "outputs": [],
   "source": [
    "##IMPORTING LIBRARIES\n",
    "import pandas as pd\n",
    "import statistics as stats\n",
    "import numpy as np\n",
    "import matplotlib.pyplot as plt\n",
    "import seaborn as sns"
   ]
  },
  {
   "cell_type": "code",
   "execution_count": 2,
   "id": "88194e94",
   "metadata": {},
   "outputs": [],
   "source": [
    "# Suppress the warnings\n",
    "import warnings\n",
    "warnings.filterwarnings('ignore')"
   ]
  },
  {
   "cell_type": "code",
   "execution_count": 19,
   "id": "3a8a4add",
   "metadata": {
    "scrolled": true
   },
   "outputs": [
    {
     "data": {
      "text/html": [
       "<div>\n",
       "<style scoped>\n",
       "    .dataframe tbody tr th:only-of-type {\n",
       "        vertical-align: middle;\n",
       "    }\n",
       "\n",
       "    .dataframe tbody tr th {\n",
       "        vertical-align: top;\n",
       "    }\n",
       "\n",
       "    .dataframe thead th {\n",
       "        text-align: right;\n",
       "    }\n",
       "</style>\n",
       "<table border=\"1\" class=\"dataframe\">\n",
       "  <thead>\n",
       "    <tr style=\"text-align: right;\">\n",
       "      <th></th>\n",
       "      <th>Year</th>\n",
       "      <th>Region</th>\n",
       "      <th>Estimated Population nr</th>\n",
       "    </tr>\n",
       "  </thead>\n",
       "  <tbody>\n",
       "    <tr>\n",
       "      <th>0</th>\n",
       "      <td>2011</td>\n",
       "      <td>Border</td>\n",
       "      <td>784000.0</td>\n",
       "    </tr>\n",
       "    <tr>\n",
       "      <th>1</th>\n",
       "      <td>2011</td>\n",
       "      <td>Dublin</td>\n",
       "      <td>2523000.0</td>\n",
       "    </tr>\n",
       "    <tr>\n",
       "      <th>2</th>\n",
       "      <td>2011</td>\n",
       "      <td>Ireland</td>\n",
       "      <td>9149700.0</td>\n",
       "    </tr>\n",
       "    <tr>\n",
       "      <th>3</th>\n",
       "      <td>2011</td>\n",
       "      <td>Mid-East</td>\n",
       "      <td>1314900.0</td>\n",
       "    </tr>\n",
       "    <tr>\n",
       "      <th>4</th>\n",
       "      <td>2011</td>\n",
       "      <td>Mid-West</td>\n",
       "      <td>933600.0</td>\n",
       "    </tr>\n",
       "  </tbody>\n",
       "</table>\n",
       "</div>"
      ],
      "text/plain": [
       "   Year    Region  Estimated Population nr\n",
       "0  2011    Border                 784000.0\n",
       "1  2011    Dublin                2523000.0\n",
       "2  2011   Ireland                9149700.0\n",
       "3  2011  Mid-East                1314900.0\n",
       "4  2011  Mid-West                 933600.0"
      ]
     },
     "execution_count": 19,
     "metadata": {},
     "output_type": "execute_result"
    }
   ],
   "source": [
    "#Creating dataframes from clean files\n",
    "df_pop = pd.read_csv(\"PEA04_c.csv\")\n",
    "df_f = pd.read_csv(\"F2002_c.csv\")\n",
    "df_ica = pd.read_csv(\"ICA_c.csv\")\n",
    "#brief view\n",
    "df_pop.head()"
   ]
  },
  {
   "cell_type": "code",
   "execution_count": 20,
   "id": "00fe406b",
   "metadata": {},
   "outputs": [
    {
     "data": {
      "text/plain": [
       "(117, 3)"
      ]
     },
     "execution_count": 20,
     "metadata": {},
     "output_type": "execute_result"
    }
   ],
   "source": [
    "#checking nr of rows\n",
    "df_pop.shape"
   ]
  },
  {
   "cell_type": "code",
   "execution_count": 21,
   "id": "fa55e0e7",
   "metadata": {},
   "outputs": [
    {
     "data": {
      "text/plain": [
       "array(['Border', 'Dublin', 'Ireland', 'Mid-East', 'Mid-West', 'Midlands',\n",
       "       'South-East', 'South-West', 'West'], dtype=object)"
      ]
     },
     "execution_count": 21,
     "metadata": {},
     "output_type": "execute_result"
    }
   ],
   "source": [
    "# making sure that there are only 9 regions\n",
    "df_pop.Region.unique()"
   ]
  },
  {
   "cell_type": "code",
   "execution_count": 22,
   "id": "d83fcc24",
   "metadata": {
    "scrolled": false
   },
   "outputs": [
    {
     "data": {
      "text/html": [
       "<div>\n",
       "<style scoped>\n",
       "    .dataframe tbody tr th:only-of-type {\n",
       "        vertical-align: middle;\n",
       "    }\n",
       "\n",
       "    .dataframe tbody tr th {\n",
       "        vertical-align: top;\n",
       "    }\n",
       "\n",
       "    .dataframe thead th {\n",
       "        text-align: right;\n",
       "    }\n",
       "</style>\n",
       "<table border=\"1\" class=\"dataframe\">\n",
       "  <thead>\n",
       "    <tr style=\"text-align: right;\">\n",
       "      <th></th>\n",
       "      <th>Year</th>\n",
       "      <th>Region</th>\n",
       "      <th>Average Nr of Persons Household</th>\n",
       "    </tr>\n",
       "  </thead>\n",
       "  <tbody>\n",
       "    <tr>\n",
       "      <th>0</th>\n",
       "      <td>2011</td>\n",
       "      <td>Border</td>\n",
       "      <td>2.728</td>\n",
       "    </tr>\n",
       "    <tr>\n",
       "      <th>1</th>\n",
       "      <td>2011</td>\n",
       "      <td>Midlands</td>\n",
       "      <td>2.792</td>\n",
       "    </tr>\n",
       "    <tr>\n",
       "      <th>2</th>\n",
       "      <td>2011</td>\n",
       "      <td>Mid-East</td>\n",
       "      <td>2.917</td>\n",
       "    </tr>\n",
       "    <tr>\n",
       "      <th>3</th>\n",
       "      <td>2011</td>\n",
       "      <td>South-East</td>\n",
       "      <td>2.748</td>\n",
       "    </tr>\n",
       "    <tr>\n",
       "      <th>4</th>\n",
       "      <td>2011</td>\n",
       "      <td>South-West</td>\n",
       "      <td>2.690</td>\n",
       "    </tr>\n",
       "  </tbody>\n",
       "</table>\n",
       "</div>"
      ],
      "text/plain": [
       "   Year      Region  Average Nr of Persons Household\n",
       "0  2011      Border                            2.728\n",
       "1  2011    Midlands                            2.792\n",
       "2  2011    Mid-East                            2.917\n",
       "3  2011  South-East                            2.748\n",
       "4  2011  South-West                            2.690"
      ]
     },
     "execution_count": 22,
     "metadata": {},
     "output_type": "execute_result"
    }
   ],
   "source": [
    "##brief view\n",
    "df_f.head()"
   ]
  },
  {
   "cell_type": "code",
   "execution_count": 23,
   "id": "9677a0c9",
   "metadata": {
    "scrolled": true
   },
   "outputs": [
    {
     "data": {
      "text/plain": [
       "(108, 3)"
      ]
     },
     "execution_count": 23,
     "metadata": {},
     "output_type": "execute_result"
    }
   ],
   "source": [
    "#checking nr of rows\n",
    "df_f.shape"
   ]
  },
  {
   "cell_type": "code",
   "execution_count": 24,
   "id": "f8d8320d",
   "metadata": {
    "scrolled": true
   },
   "outputs": [
    {
     "data": {
      "text/plain": [
       "array(['Border', 'Midlands', 'Mid-East', 'South-East', 'South-West',\n",
       "       'Dublin', 'West', 'Ireland', 'Mid-West'], dtype=object)"
      ]
     },
     "execution_count": 24,
     "metadata": {},
     "output_type": "execute_result"
    }
   ],
   "source": [
    "# making sure that there are only 9 regions\n",
    "df_f.Region.unique()"
   ]
  },
  {
   "cell_type": "code",
   "execution_count": 25,
   "id": "b639b416",
   "metadata": {},
   "outputs": [
    {
     "data": {
      "text/html": [
       "<div>\n",
       "<style scoped>\n",
       "    .dataframe tbody tr th:only-of-type {\n",
       "        vertical-align: middle;\n",
       "    }\n",
       "\n",
       "    .dataframe tbody tr th {\n",
       "        vertical-align: top;\n",
       "    }\n",
       "\n",
       "    .dataframe thead th {\n",
       "        text-align: right;\n",
       "    }\n",
       "</style>\n",
       "<table border=\"1\" class=\"dataframe\">\n",
       "  <thead>\n",
       "    <tr style=\"text-align: right;\">\n",
       "      <th></th>\n",
       "      <th>Year</th>\n",
       "      <th>Region</th>\n",
       "      <th>% Households with Internet Access</th>\n",
       "    </tr>\n",
       "  </thead>\n",
       "  <tbody>\n",
       "    <tr>\n",
       "      <th>0</th>\n",
       "      <td>2007</td>\n",
       "      <td>Border</td>\n",
       "      <td>43.0</td>\n",
       "    </tr>\n",
       "    <tr>\n",
       "      <th>1</th>\n",
       "      <td>2007</td>\n",
       "      <td>Mid-West</td>\n",
       "      <td>58.0</td>\n",
       "    </tr>\n",
       "    <tr>\n",
       "      <th>2</th>\n",
       "      <td>2007</td>\n",
       "      <td>Midlands</td>\n",
       "      <td>54.0</td>\n",
       "    </tr>\n",
       "    <tr>\n",
       "      <th>3</th>\n",
       "      <td>2007</td>\n",
       "      <td>Mid-East</td>\n",
       "      <td>66.0</td>\n",
       "    </tr>\n",
       "    <tr>\n",
       "      <th>4</th>\n",
       "      <td>2007</td>\n",
       "      <td>South-East</td>\n",
       "      <td>49.0</td>\n",
       "    </tr>\n",
       "  </tbody>\n",
       "</table>\n",
       "</div>"
      ],
      "text/plain": [
       "   Year      Region  % Households with Internet Access\n",
       "0  2007      Border                               43.0\n",
       "1  2007    Mid-West                               58.0\n",
       "2  2007    Midlands                               54.0\n",
       "3  2007    Mid-East                               66.0\n",
       "4  2007  South-East                               49.0"
      ]
     },
     "execution_count": 25,
     "metadata": {},
     "output_type": "execute_result"
    }
   ],
   "source": [
    "#brief view\n",
    "df_ica.head()"
   ]
  },
  {
   "cell_type": "code",
   "execution_count": 26,
   "id": "3e78cd83",
   "metadata": {
    "scrolled": true
   },
   "outputs": [
    {
     "data": {
      "text/plain": [
       "(144, 3)"
      ]
     },
     "execution_count": 26,
     "metadata": {},
     "output_type": "execute_result"
    }
   ],
   "source": [
    "#checking nr of rows\n",
    "df_ica.shape"
   ]
  },
  {
   "cell_type": "code",
   "execution_count": 27,
   "id": "ebf9ec8d",
   "metadata": {},
   "outputs": [
    {
     "data": {
      "text/plain": [
       "array(['Border', 'Mid-West', 'Midlands', 'Mid-East', 'South-East',\n",
       "       'Ireland', 'South-West', 'Dublin', 'West'], dtype=object)"
      ]
     },
     "execution_count": 27,
     "metadata": {},
     "output_type": "execute_result"
    }
   ],
   "source": [
    "# making sure that there are only 9 regions\n",
    "df_ica.Region.unique()"
   ]
  },
  {
   "cell_type": "code",
   "execution_count": 28,
   "id": "b3d52ea9",
   "metadata": {
    "scrolled": true
   },
   "outputs": [
    {
     "data": {
      "text/html": [
       "<div>\n",
       "<style scoped>\n",
       "    .dataframe tbody tr th:only-of-type {\n",
       "        vertical-align: middle;\n",
       "    }\n",
       "\n",
       "    .dataframe tbody tr th {\n",
       "        vertical-align: top;\n",
       "    }\n",
       "\n",
       "    .dataframe thead th {\n",
       "        text-align: right;\n",
       "    }\n",
       "</style>\n",
       "<table border=\"1\" class=\"dataframe\">\n",
       "  <thead>\n",
       "    <tr style=\"text-align: right;\">\n",
       "      <th></th>\n",
       "      <th>Year</th>\n",
       "      <th>Region</th>\n",
       "      <th>Estimated Population nr</th>\n",
       "      <th>Average Nr of Persons Household</th>\n",
       "    </tr>\n",
       "  </thead>\n",
       "  <tbody>\n",
       "    <tr>\n",
       "      <th>0</th>\n",
       "      <td>2011</td>\n",
       "      <td>Border</td>\n",
       "      <td>784000.0</td>\n",
       "      <td>2.728</td>\n",
       "    </tr>\n",
       "    <tr>\n",
       "      <th>1</th>\n",
       "      <td>2011</td>\n",
       "      <td>Dublin</td>\n",
       "      <td>2523000.0</td>\n",
       "      <td>2.650</td>\n",
       "    </tr>\n",
       "    <tr>\n",
       "      <th>2</th>\n",
       "      <td>2011</td>\n",
       "      <td>Ireland</td>\n",
       "      <td>9149700.0</td>\n",
       "      <td>2.730</td>\n",
       "    </tr>\n",
       "    <tr>\n",
       "      <th>3</th>\n",
       "      <td>2011</td>\n",
       "      <td>Mid-East</td>\n",
       "      <td>1314900.0</td>\n",
       "      <td>2.917</td>\n",
       "    </tr>\n",
       "    <tr>\n",
       "      <th>4</th>\n",
       "      <td>2011</td>\n",
       "      <td>Mid-West</td>\n",
       "      <td>933600.0</td>\n",
       "      <td>2.703</td>\n",
       "    </tr>\n",
       "  </tbody>\n",
       "</table>\n",
       "</div>"
      ],
      "text/plain": [
       "   Year    Region  Estimated Population nr  Average Nr of Persons Household\n",
       "0  2011    Border                 784000.0                            2.728\n",
       "1  2011    Dublin                2523000.0                            2.650\n",
       "2  2011   Ireland                9149700.0                            2.730\n",
       "3  2011  Mid-East                1314900.0                            2.917\n",
       "4  2011  Mid-West                 933600.0                            2.703"
      ]
     },
     "execution_count": 28,
     "metadata": {},
     "output_type": "execute_result"
    }
   ],
   "source": [
    "# nerging data frames with estimated population number and average number of persong per household\n",
    "df_agg1 = df_pop.merge(df_f, on=['Year', 'Region'], how='left')\n",
    "df_agg1.head()"
   ]
  },
  {
   "cell_type": "code",
   "execution_count": 29,
   "id": "602de80c",
   "metadata": {
    "scrolled": false
   },
   "outputs": [
    {
     "data": {
      "text/html": [
       "<div>\n",
       "<style scoped>\n",
       "    .dataframe tbody tr th:only-of-type {\n",
       "        vertical-align: middle;\n",
       "    }\n",
       "\n",
       "    .dataframe tbody tr th {\n",
       "        vertical-align: top;\n",
       "    }\n",
       "\n",
       "    .dataframe thead th {\n",
       "        text-align: right;\n",
       "    }\n",
       "</style>\n",
       "<table border=\"1\" class=\"dataframe\">\n",
       "  <thead>\n",
       "    <tr style=\"text-align: right;\">\n",
       "      <th></th>\n",
       "      <th>Year</th>\n",
       "      <th>Region</th>\n",
       "      <th>Estimated Population nr</th>\n",
       "      <th>Average Nr of Persons Household</th>\n",
       "      <th>% Households with Internet Access</th>\n",
       "    </tr>\n",
       "  </thead>\n",
       "  <tbody>\n",
       "    <tr>\n",
       "      <th>0</th>\n",
       "      <td>2011</td>\n",
       "      <td>Border</td>\n",
       "      <td>784000.0</td>\n",
       "      <td>2.728</td>\n",
       "      <td>66.0</td>\n",
       "    </tr>\n",
       "    <tr>\n",
       "      <th>1</th>\n",
       "      <td>2011</td>\n",
       "      <td>Dublin</td>\n",
       "      <td>2523000.0</td>\n",
       "      <td>2.650</td>\n",
       "      <td>84.0</td>\n",
       "    </tr>\n",
       "    <tr>\n",
       "      <th>2</th>\n",
       "      <td>2011</td>\n",
       "      <td>Ireland</td>\n",
       "      <td>9149700.0</td>\n",
       "      <td>2.730</td>\n",
       "      <td>78.0</td>\n",
       "    </tr>\n",
       "    <tr>\n",
       "      <th>3</th>\n",
       "      <td>2011</td>\n",
       "      <td>Mid-East</td>\n",
       "      <td>1314900.0</td>\n",
       "      <td>2.917</td>\n",
       "      <td>87.0</td>\n",
       "    </tr>\n",
       "    <tr>\n",
       "      <th>4</th>\n",
       "      <td>2011</td>\n",
       "      <td>Mid-West</td>\n",
       "      <td>933600.0</td>\n",
       "      <td>2.703</td>\n",
       "      <td>77.0</td>\n",
       "    </tr>\n",
       "    <tr>\n",
       "      <th>5</th>\n",
       "      <td>2011</td>\n",
       "      <td>Midlands</td>\n",
       "      <td>567600.0</td>\n",
       "      <td>2.792</td>\n",
       "      <td>79.0</td>\n",
       "    </tr>\n",
       "    <tr>\n",
       "      <th>6</th>\n",
       "      <td>2011</td>\n",
       "      <td>South-East</td>\n",
       "      <td>820600.0</td>\n",
       "      <td>2.748</td>\n",
       "      <td>71.0</td>\n",
       "    </tr>\n",
       "    <tr>\n",
       "      <th>7</th>\n",
       "      <td>2011</td>\n",
       "      <td>South-West</td>\n",
       "      <td>1324600.0</td>\n",
       "      <td>2.690</td>\n",
       "      <td>76.0</td>\n",
       "    </tr>\n",
       "    <tr>\n",
       "      <th>8</th>\n",
       "      <td>2011</td>\n",
       "      <td>West</td>\n",
       "      <td>881600.0</td>\n",
       "      <td>2.700</td>\n",
       "      <td>79.0</td>\n",
       "    </tr>\n",
       "    <tr>\n",
       "      <th>9</th>\n",
       "      <td>2012</td>\n",
       "      <td>West</td>\n",
       "      <td>878700.0</td>\n",
       "      <td>2.694</td>\n",
       "      <td>82.0</td>\n",
       "    </tr>\n",
       "  </tbody>\n",
       "</table>\n",
       "</div>"
      ],
      "text/plain": [
       "   Year      Region  Estimated Population nr  Average Nr of Persons Household  \\\n",
       "0  2011      Border                 784000.0                            2.728   \n",
       "1  2011      Dublin                2523000.0                            2.650   \n",
       "2  2011     Ireland                9149700.0                            2.730   \n",
       "3  2011    Mid-East                1314900.0                            2.917   \n",
       "4  2011    Mid-West                 933600.0                            2.703   \n",
       "5  2011    Midlands                 567600.0                            2.792   \n",
       "6  2011  South-East                 820600.0                            2.748   \n",
       "7  2011  South-West                1324600.0                            2.690   \n",
       "8  2011        West                 881600.0                            2.700   \n",
       "9  2012        West                 878700.0                            2.694   \n",
       "\n",
       "   % Households with Internet Access  \n",
       "0                               66.0  \n",
       "1                               84.0  \n",
       "2                               78.0  \n",
       "3                               87.0  \n",
       "4                               77.0  \n",
       "5                               79.0  \n",
       "6                               71.0  \n",
       "7                               76.0  \n",
       "8                               79.0  \n",
       "9                               82.0  "
      ]
     },
     "execution_count": 29,
     "metadata": {},
     "output_type": "execute_result"
    }
   ],
   "source": [
    "# adding to aggregated data frame % of households with internet access\n",
    "df_agg1 = df_agg1.merge(df_ica, on=['Year', 'Region'], how='left')\n",
    "df_agg1.head(10)"
   ]
  },
  {
   "cell_type": "markdown",
   "id": "419040db",
   "metadata": {},
   "source": [
    "##### Calculating Number of people with Internet access by using next formulas\n",
    "\n",
    "Nr of Households= Estimated Population nr/ Average Nr of Persons Household\n",
    "\n",
    "Nr of Households with Internet Access = Nr of Households * % Households with Internet Access / 100\n",
    "\n",
    "Nr of Persons with Internet Access = Nr of Households with Internet Access * Average Nr of Persons Household\n",
    "\n",
    "% of Persons with Internet Access = Nr of Persons with Internet Access/ Estimated Population nr*100\n"
   ]
  },
  {
   "cell_type": "code",
   "execution_count": 44,
   "id": "115f454c",
   "metadata": {},
   "outputs": [],
   "source": [
    "df_agg1['Nr of Households'] = df_agg1['Estimated Population nr'] / df_agg1['Average Nr of Persons Household']"
   ]
  },
  {
   "cell_type": "code",
   "execution_count": 45,
   "id": "ea513c79",
   "metadata": {},
   "outputs": [],
   "source": [
    "df_agg1['Nr of Households with Internet Access'] = df_agg1['Nr of Households']*df_agg1['% Households with Internet Access']/100"
   ]
  },
  {
   "cell_type": "code",
   "execution_count": 46,
   "id": "a638dc6c",
   "metadata": {},
   "outputs": [],
   "source": [
    "df_agg1['Nr of Persons with Internet Access'] = df_agg1['Nr of Households with Internet Access'] * df_agg1['Average Nr of Persons Household']"
   ]
  },
  {
   "cell_type": "code",
   "execution_count": 47,
   "id": "815c51d7",
   "metadata": {},
   "outputs": [],
   "source": [
    "df_agg1['% of Persons with Internet Access'] = df_agg1['Nr of Persons with Internet Access']/df_agg1['Estimated Population nr']*100"
   ]
  },
  {
   "cell_type": "code",
   "execution_count": 48,
   "id": "e3e84de2",
   "metadata": {
    "scrolled": false
   },
   "outputs": [
    {
     "data": {
      "text/html": [
       "<div>\n",
       "<style scoped>\n",
       "    .dataframe tbody tr th:only-of-type {\n",
       "        vertical-align: middle;\n",
       "    }\n",
       "\n",
       "    .dataframe tbody tr th {\n",
       "        vertical-align: top;\n",
       "    }\n",
       "\n",
       "    .dataframe thead th {\n",
       "        text-align: right;\n",
       "    }\n",
       "</style>\n",
       "<table border=\"1\" class=\"dataframe\">\n",
       "  <thead>\n",
       "    <tr style=\"text-align: right;\">\n",
       "      <th></th>\n",
       "      <th>Year</th>\n",
       "      <th>Region</th>\n",
       "      <th>Estimated Population nr</th>\n",
       "      <th>Average Nr of Persons Household</th>\n",
       "      <th>% Households with Internet Access</th>\n",
       "      <th>Nr of Households</th>\n",
       "      <th>Nr of Households with Internet Access</th>\n",
       "      <th>Nr of Persons with Internet Access</th>\n",
       "      <th>% of Persons with Internet Access</th>\n",
       "    </tr>\n",
       "  </thead>\n",
       "  <tbody>\n",
       "    <tr>\n",
       "      <th>0</th>\n",
       "      <td>2011</td>\n",
       "      <td>Border</td>\n",
       "      <td>784000.0</td>\n",
       "      <td>2.728</td>\n",
       "      <td>66.0</td>\n",
       "      <td>2.873900e+05</td>\n",
       "      <td>1.896774e+05</td>\n",
       "      <td>517440.0</td>\n",
       "      <td>66.0</td>\n",
       "    </tr>\n",
       "    <tr>\n",
       "      <th>1</th>\n",
       "      <td>2011</td>\n",
       "      <td>Dublin</td>\n",
       "      <td>2523000.0</td>\n",
       "      <td>2.650</td>\n",
       "      <td>84.0</td>\n",
       "      <td>9.520755e+05</td>\n",
       "      <td>7.997434e+05</td>\n",
       "      <td>2119320.0</td>\n",
       "      <td>84.0</td>\n",
       "    </tr>\n",
       "    <tr>\n",
       "      <th>2</th>\n",
       "      <td>2011</td>\n",
       "      <td>Ireland</td>\n",
       "      <td>9149700.0</td>\n",
       "      <td>2.730</td>\n",
       "      <td>78.0</td>\n",
       "      <td>3.351538e+06</td>\n",
       "      <td>2.614200e+06</td>\n",
       "      <td>7136766.0</td>\n",
       "      <td>78.0</td>\n",
       "    </tr>\n",
       "    <tr>\n",
       "      <th>3</th>\n",
       "      <td>2011</td>\n",
       "      <td>Mid-East</td>\n",
       "      <td>1314900.0</td>\n",
       "      <td>2.917</td>\n",
       "      <td>87.0</td>\n",
       "      <td>4.507713e+05</td>\n",
       "      <td>3.921711e+05</td>\n",
       "      <td>1143963.0</td>\n",
       "      <td>87.0</td>\n",
       "    </tr>\n",
       "    <tr>\n",
       "      <th>4</th>\n",
       "      <td>2011</td>\n",
       "      <td>Mid-West</td>\n",
       "      <td>933600.0</td>\n",
       "      <td>2.703</td>\n",
       "      <td>77.0</td>\n",
       "      <td>3.453940e+05</td>\n",
       "      <td>2.659534e+05</td>\n",
       "      <td>718872.0</td>\n",
       "      <td>77.0</td>\n",
       "    </tr>\n",
       "  </tbody>\n",
       "</table>\n",
       "</div>"
      ],
      "text/plain": [
       "   Year    Region  Estimated Population nr  Average Nr of Persons Household  \\\n",
       "0  2011    Border                 784000.0                            2.728   \n",
       "1  2011    Dublin                2523000.0                            2.650   \n",
       "2  2011   Ireland                9149700.0                            2.730   \n",
       "3  2011  Mid-East                1314900.0                            2.917   \n",
       "4  2011  Mid-West                 933600.0                            2.703   \n",
       "\n",
       "   % Households with Internet Access  Nr of Households  \\\n",
       "0                               66.0      2.873900e+05   \n",
       "1                               84.0      9.520755e+05   \n",
       "2                               78.0      3.351538e+06   \n",
       "3                               87.0      4.507713e+05   \n",
       "4                               77.0      3.453940e+05   \n",
       "\n",
       "   Nr of Households with Internet Access  Nr of Persons with Internet Access  \\\n",
       "0                           1.896774e+05                            517440.0   \n",
       "1                           7.997434e+05                           2119320.0   \n",
       "2                           2.614200e+06                           7136766.0   \n",
       "3                           3.921711e+05                           1143963.0   \n",
       "4                           2.659534e+05                            718872.0   \n",
       "\n",
       "   % of Persons with Internet Access  \n",
       "0                               66.0  \n",
       "1                               84.0  \n",
       "2                               78.0  \n",
       "3                               87.0  \n",
       "4                               77.0  "
      ]
     },
     "execution_count": 48,
     "metadata": {},
     "output_type": "execute_result"
    }
   ],
   "source": [
    "df_agg1.head()"
   ]
  },
  {
   "cell_type": "code",
   "execution_count": 49,
   "id": "444d7623",
   "metadata": {},
   "outputs": [
    {
     "name": "stdout",
     "output_type": "stream",
     "text": [
      "<class 'pandas.core.frame.DataFrame'>\n",
      "RangeIndex: 108 entries, 0 to 107\n",
      "Data columns (total 9 columns):\n",
      " #   Column                                 Non-Null Count  Dtype  \n",
      "---  ------                                 --------------  -----  \n",
      " 0   Year                                   108 non-null    int64  \n",
      " 1   Region                                 108 non-null    object \n",
      " 2   Estimated Population nr                108 non-null    float64\n",
      " 3   Average Nr of Persons Household        108 non-null    float64\n",
      " 4   % Households with Internet Access      108 non-null    float64\n",
      " 5   Nr of Households                       108 non-null    float64\n",
      " 6   Nr of Households with Internet Access  108 non-null    float64\n",
      " 7   Nr of Persons with Internet Access     108 non-null    float64\n",
      " 8   % of Persons with Internet Access      108 non-null    float64\n",
      "dtypes: float64(7), int64(1), object(1)\n",
      "memory usage: 7.7+ KB\n"
     ]
    }
   ],
   "source": [
    "df_agg1.info()"
   ]
  },
  {
   "cell_type": "code",
   "execution_count": 35,
   "id": "e9d9d749",
   "metadata": {},
   "outputs": [],
   "source": [
    "df_agg1 = df_agg1.dropna()"
   ]
  },
  {
   "cell_type": "code",
   "execution_count": 36,
   "id": "188fb819",
   "metadata": {},
   "outputs": [
    {
     "data": {
      "text/plain": [
       "(108, 9)"
      ]
     },
     "execution_count": 36,
     "metadata": {},
     "output_type": "execute_result"
    }
   ],
   "source": [
    "df_agg1.shape"
   ]
  },
  {
   "cell_type": "code",
   "execution_count": 50,
   "id": "4756ab96",
   "metadata": {},
   "outputs": [],
   "source": [
    "#formating values for readable view\n",
    "df_agg1['Nr of Households'] = df_agg1['Nr of Households'].apply(lambda x: f\"{x:.2f}\")"
   ]
  },
  {
   "cell_type": "code",
   "execution_count": 51,
   "id": "b1bc90b0",
   "metadata": {
    "scrolled": true
   },
   "outputs": [],
   "source": [
    "df_agg1['Nr of Households with Internet Access'] = df_agg1['Nr of Households with Internet Access'].apply(lambda x: f\"{x:.2f}\")"
   ]
  },
  {
   "cell_type": "code",
   "execution_count": 67,
   "id": "3c69b4dc",
   "metadata": {},
   "outputs": [],
   "source": [
    "df_agg1 = df_agg1.rename(columns={'Households with Internet Access': '% of Households with Internet Access'})"
   ]
  },
  {
   "cell_type": "code",
   "execution_count": 52,
   "id": "15a2dca3",
   "metadata": {
    "scrolled": true
   },
   "outputs": [
    {
     "data": {
      "text/html": [
       "<div>\n",
       "<style scoped>\n",
       "    .dataframe tbody tr th:only-of-type {\n",
       "        vertical-align: middle;\n",
       "    }\n",
       "\n",
       "    .dataframe tbody tr th {\n",
       "        vertical-align: top;\n",
       "    }\n",
       "\n",
       "    .dataframe thead th {\n",
       "        text-align: right;\n",
       "    }\n",
       "</style>\n",
       "<table border=\"1\" class=\"dataframe\">\n",
       "  <thead>\n",
       "    <tr style=\"text-align: right;\">\n",
       "      <th></th>\n",
       "      <th>Year</th>\n",
       "      <th>Region</th>\n",
       "      <th>Estimated Population nr</th>\n",
       "      <th>Average Nr of Persons Household</th>\n",
       "      <th>% Households with Internet Access</th>\n",
       "      <th>Nr of Households</th>\n",
       "      <th>Nr of Households with Internet Access</th>\n",
       "      <th>Nr of Persons with Internet Access</th>\n",
       "      <th>% of Persons with Internet Access</th>\n",
       "    </tr>\n",
       "  </thead>\n",
       "  <tbody>\n",
       "    <tr>\n",
       "      <th>0</th>\n",
       "      <td>2011</td>\n",
       "      <td>Border</td>\n",
       "      <td>784000.0</td>\n",
       "      <td>2.728</td>\n",
       "      <td>66.0</td>\n",
       "      <td>287390.03</td>\n",
       "      <td>189677.42</td>\n",
       "      <td>517440.0</td>\n",
       "      <td>66.0</td>\n",
       "    </tr>\n",
       "    <tr>\n",
       "      <th>1</th>\n",
       "      <td>2011</td>\n",
       "      <td>Dublin</td>\n",
       "      <td>2523000.0</td>\n",
       "      <td>2.650</td>\n",
       "      <td>84.0</td>\n",
       "      <td>952075.47</td>\n",
       "      <td>799743.40</td>\n",
       "      <td>2119320.0</td>\n",
       "      <td>84.0</td>\n",
       "    </tr>\n",
       "    <tr>\n",
       "      <th>2</th>\n",
       "      <td>2011</td>\n",
       "      <td>Ireland</td>\n",
       "      <td>9149700.0</td>\n",
       "      <td>2.730</td>\n",
       "      <td>78.0</td>\n",
       "      <td>3351538.46</td>\n",
       "      <td>2614200.00</td>\n",
       "      <td>7136766.0</td>\n",
       "      <td>78.0</td>\n",
       "    </tr>\n",
       "    <tr>\n",
       "      <th>3</th>\n",
       "      <td>2011</td>\n",
       "      <td>Mid-East</td>\n",
       "      <td>1314900.0</td>\n",
       "      <td>2.917</td>\n",
       "      <td>87.0</td>\n",
       "      <td>450771.34</td>\n",
       "      <td>392171.07</td>\n",
       "      <td>1143963.0</td>\n",
       "      <td>87.0</td>\n",
       "    </tr>\n",
       "    <tr>\n",
       "      <th>4</th>\n",
       "      <td>2011</td>\n",
       "      <td>Mid-West</td>\n",
       "      <td>933600.0</td>\n",
       "      <td>2.703</td>\n",
       "      <td>77.0</td>\n",
       "      <td>345394.01</td>\n",
       "      <td>265953.39</td>\n",
       "      <td>718872.0</td>\n",
       "      <td>77.0</td>\n",
       "    </tr>\n",
       "    <tr>\n",
       "      <th>5</th>\n",
       "      <td>2011</td>\n",
       "      <td>Midlands</td>\n",
       "      <td>567600.0</td>\n",
       "      <td>2.792</td>\n",
       "      <td>79.0</td>\n",
       "      <td>203295.13</td>\n",
       "      <td>160603.15</td>\n",
       "      <td>448404.0</td>\n",
       "      <td>79.0</td>\n",
       "    </tr>\n",
       "    <tr>\n",
       "      <th>6</th>\n",
       "      <td>2011</td>\n",
       "      <td>South-East</td>\n",
       "      <td>820600.0</td>\n",
       "      <td>2.748</td>\n",
       "      <td>71.0</td>\n",
       "      <td>298617.18</td>\n",
       "      <td>212018.20</td>\n",
       "      <td>582626.0</td>\n",
       "      <td>71.0</td>\n",
       "    </tr>\n",
       "    <tr>\n",
       "      <th>7</th>\n",
       "      <td>2011</td>\n",
       "      <td>South-West</td>\n",
       "      <td>1324600.0</td>\n",
       "      <td>2.690</td>\n",
       "      <td>76.0</td>\n",
       "      <td>492416.36</td>\n",
       "      <td>374236.43</td>\n",
       "      <td>1006696.0</td>\n",
       "      <td>76.0</td>\n",
       "    </tr>\n",
       "    <tr>\n",
       "      <th>8</th>\n",
       "      <td>2011</td>\n",
       "      <td>West</td>\n",
       "      <td>881600.0</td>\n",
       "      <td>2.700</td>\n",
       "      <td>79.0</td>\n",
       "      <td>326518.52</td>\n",
       "      <td>257949.63</td>\n",
       "      <td>696464.0</td>\n",
       "      <td>79.0</td>\n",
       "    </tr>\n",
       "    <tr>\n",
       "      <th>9</th>\n",
       "      <td>2012</td>\n",
       "      <td>Border</td>\n",
       "      <td>784200.0</td>\n",
       "      <td>2.724</td>\n",
       "      <td>75.0</td>\n",
       "      <td>287885.46</td>\n",
       "      <td>215914.10</td>\n",
       "      <td>588150.0</td>\n",
       "      <td>75.0</td>\n",
       "    </tr>\n",
       "  </tbody>\n",
       "</table>\n",
       "</div>"
      ],
      "text/plain": [
       "   Year      Region  Estimated Population nr  Average Nr of Persons Household  \\\n",
       "0  2011      Border                 784000.0                            2.728   \n",
       "1  2011      Dublin                2523000.0                            2.650   \n",
       "2  2011     Ireland                9149700.0                            2.730   \n",
       "3  2011    Mid-East                1314900.0                            2.917   \n",
       "4  2011    Mid-West                 933600.0                            2.703   \n",
       "5  2011    Midlands                 567600.0                            2.792   \n",
       "6  2011  South-East                 820600.0                            2.748   \n",
       "7  2011  South-West                1324600.0                            2.690   \n",
       "8  2011        West                 881600.0                            2.700   \n",
       "9  2012      Border                 784200.0                            2.724   \n",
       "\n",
       "   % Households with Internet Access Nr of Households  \\\n",
       "0                               66.0        287390.03   \n",
       "1                               84.0        952075.47   \n",
       "2                               78.0       3351538.46   \n",
       "3                               87.0        450771.34   \n",
       "4                               77.0        345394.01   \n",
       "5                               79.0        203295.13   \n",
       "6                               71.0        298617.18   \n",
       "7                               76.0        492416.36   \n",
       "8                               79.0        326518.52   \n",
       "9                               75.0        287885.46   \n",
       "\n",
       "  Nr of Households with Internet Access  Nr of Persons with Internet Access  \\\n",
       "0                             189677.42                            517440.0   \n",
       "1                             799743.40                           2119320.0   \n",
       "2                            2614200.00                           7136766.0   \n",
       "3                             392171.07                           1143963.0   \n",
       "4                             265953.39                            718872.0   \n",
       "5                             160603.15                            448404.0   \n",
       "6                             212018.20                            582626.0   \n",
       "7                             374236.43                           1006696.0   \n",
       "8                             257949.63                            696464.0   \n",
       "9                             215914.10                            588150.0   \n",
       "\n",
       "   % of Persons with Internet Access  \n",
       "0                               66.0  \n",
       "1                               84.0  \n",
       "2                               78.0  \n",
       "3                               87.0  \n",
       "4                               77.0  \n",
       "5                               79.0  \n",
       "6                               71.0  \n",
       "7                               76.0  \n",
       "8                               79.0  \n",
       "9                               75.0  "
      ]
     },
     "execution_count": 52,
     "metadata": {},
     "output_type": "execute_result"
    }
   ],
   "source": [
    "df_agg1.head(10)"
   ]
  },
  {
   "cell_type": "code",
   "execution_count": 53,
   "id": "52d088b2",
   "metadata": {},
   "outputs": [],
   "source": [
    "# Sort the DataFrame 'df_pop' by 'year' in ascending order\n",
    "df_agg1 = df_agg1.sort_values(by=['Year',\"Region\"], ascending=True)\n",
    "\n",
    "# Reset the index of the DataFrame 'df_pop'\n",
    "df_agg1 = df_agg1.reset_index(drop=True)"
   ]
  },
  {
   "cell_type": "code",
   "execution_count": 54,
   "id": "cfb95be0",
   "metadata": {},
   "outputs": [],
   "source": [
    "df_final = pd.DataFrame(df_agg1,columns=['Year',\"Region\",'Estimated Population nr','Nr of Persons with Internet Access',\n",
    "                                       '% of Persons with Internet Access'])"
   ]
  },
  {
   "cell_type": "code",
   "execution_count": 55,
   "id": "af6375e5",
   "metadata": {},
   "outputs": [
    {
     "name": "stdout",
     "output_type": "stream",
     "text": [
      "<class 'pandas.core.frame.DataFrame'>\n",
      "RangeIndex: 108 entries, 0 to 107\n",
      "Data columns (total 5 columns):\n",
      " #   Column                              Non-Null Count  Dtype  \n",
      "---  ------                              --------------  -----  \n",
      " 0   Year                                108 non-null    int64  \n",
      " 1   Region                              108 non-null    object \n",
      " 2   Estimated Population nr             108 non-null    float64\n",
      " 3   Nr of Persons with Internet Access  108 non-null    float64\n",
      " 4   % of Persons with Internet Access   108 non-null    float64\n",
      "dtypes: float64(3), int64(1), object(1)\n",
      "memory usage: 4.3+ KB\n"
     ]
    }
   ],
   "source": [
    "df_final.info()"
   ]
  },
  {
   "cell_type": "code",
   "execution_count": 56,
   "id": "959526c7",
   "metadata": {},
   "outputs": [],
   "source": [
    "df_final.to_csv(\"FINAL.csv\", index = False)"
   ]
  },
  {
   "cell_type": "code",
   "execution_count": null,
   "id": "c925a26e",
   "metadata": {},
   "outputs": [],
   "source": []
  },
  {
   "cell_type": "code",
   "execution_count": null,
   "id": "4089a103",
   "metadata": {},
   "outputs": [],
   "source": []
  }
 ],
 "metadata": {
  "kernelspec": {
   "display_name": "Python 3 (ipykernel)",
   "language": "python",
   "name": "python3"
  },
  "language_info": {
   "codemirror_mode": {
    "name": "ipython",
    "version": 3
   },
   "file_extension": ".py",
   "mimetype": "text/x-python",
   "name": "python",
   "nbconvert_exporter": "python",
   "pygments_lexer": "ipython3",
   "version": "3.11.4"
  }
 },
 "nbformat": 4,
 "nbformat_minor": 5
}
