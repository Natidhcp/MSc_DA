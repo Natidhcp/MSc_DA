{
 "cells": [
  {
   "cell_type": "code",
   "execution_count": null,
   "id": "d118759e",
   "metadata": {},
   "outputs": [],
   "source": [
    "created final file with columns\n",
    "Year\n",
    "Region\n",
    "Type of internet connection\n",
    "Nr of estimated people\n",
    "Nr pf people with Internet connection"
   ]
  },
  {
   "cell_type": "code",
   "execution_count": 1,
   "id": "08006cef",
   "metadata": {},
   "outputs": [],
   "source": [
    "##IMPORTING LIBRARIES\n",
    "import pandas as pd\n",
    "import statistics as stats\n",
    "import numpy as np\n",
    "import matplotlib.pyplot as plt\n",
    "import seaborn as sns"
   ]
  },
  {
   "cell_type": "code",
   "execution_count": 2,
   "id": "7570b8ce",
   "metadata": {},
   "outputs": [],
   "source": [
    "# Suppress the warnings\n",
    "import warnings\n",
    "warnings.filterwarnings('ignore')"
   ]
  },
  {
   "cell_type": "code",
   "execution_count": 3,
   "id": "58ce5794",
   "metadata": {},
   "outputs": [
    {
     "data": {
      "text/html": [
       "<div>\n",
       "<style scoped>\n",
       "    .dataframe tbody tr th:only-of-type {\n",
       "        vertical-align: middle;\n",
       "    }\n",
       "\n",
       "    .dataframe tbody tr th {\n",
       "        vertical-align: top;\n",
       "    }\n",
       "\n",
       "    .dataframe thead th {\n",
       "        text-align: right;\n",
       "    }\n",
       "</style>\n",
       "<table border=\"1\" class=\"dataframe\">\n",
       "  <thead>\n",
       "    <tr style=\"text-align: right;\">\n",
       "      <th></th>\n",
       "      <th>STATISTIC Label</th>\n",
       "      <th>Year</th>\n",
       "      <th>Age Group</th>\n",
       "      <th>Sex</th>\n",
       "      <th>Region</th>\n",
       "      <th>UNIT</th>\n",
       "      <th>Estimated Population</th>\n",
       "    </tr>\n",
       "  </thead>\n",
       "  <tbody>\n",
       "    <tr>\n",
       "      <th>0</th>\n",
       "      <td>Estimated Population (Persons in April)</td>\n",
       "      <td>2011</td>\n",
       "      <td>0 - 4 years</td>\n",
       "      <td>Both sexes</td>\n",
       "      <td>Ireland</td>\n",
       "      <td>Number</td>\n",
       "      <td>356000.0</td>\n",
       "    </tr>\n",
       "    <tr>\n",
       "      <th>1</th>\n",
       "      <td>Estimated Population (Persons in April)</td>\n",
       "      <td>2011</td>\n",
       "      <td>0 - 4 years</td>\n",
       "      <td>Both sexes</td>\n",
       "      <td>Border</td>\n",
       "      <td>Number</td>\n",
       "      <td>30700.0</td>\n",
       "    </tr>\n",
       "    <tr>\n",
       "      <th>2</th>\n",
       "      <td>Estimated Population (Persons in April)</td>\n",
       "      <td>2011</td>\n",
       "      <td>0 - 4 years</td>\n",
       "      <td>Both sexes</td>\n",
       "      <td>West</td>\n",
       "      <td>Number</td>\n",
       "      <td>32600.0</td>\n",
       "    </tr>\n",
       "    <tr>\n",
       "      <th>3</th>\n",
       "      <td>Estimated Population (Persons in April)</td>\n",
       "      <td>2011</td>\n",
       "      <td>0 - 4 years</td>\n",
       "      <td>Both sexes</td>\n",
       "      <td>Mid-West</td>\n",
       "      <td>Number</td>\n",
       "      <td>35000.0</td>\n",
       "    </tr>\n",
       "    <tr>\n",
       "      <th>4</th>\n",
       "      <td>Estimated Population (Persons in April)</td>\n",
       "      <td>2011</td>\n",
       "      <td>0 - 4 years</td>\n",
       "      <td>Both sexes</td>\n",
       "      <td>South-East</td>\n",
       "      <td>Number</td>\n",
       "      <td>32000.0</td>\n",
       "    </tr>\n",
       "  </tbody>\n",
       "</table>\n",
       "</div>"
      ],
      "text/plain": [
       "                           STATISTIC Label  Year    Age Group         Sex  \\\n",
       "0  Estimated Population (Persons in April)  2011  0 - 4 years  Both sexes   \n",
       "1  Estimated Population (Persons in April)  2011  0 - 4 years  Both sexes   \n",
       "2  Estimated Population (Persons in April)  2011  0 - 4 years  Both sexes   \n",
       "3  Estimated Population (Persons in April)  2011  0 - 4 years  Both sexes   \n",
       "4  Estimated Population (Persons in April)  2011  0 - 4 years  Both sexes   \n",
       "\n",
       "       Region    UNIT  Estimated Population  \n",
       "0     Ireland  Number              356000.0  \n",
       "1      Border  Number               30700.0  \n",
       "2        West  Number               32600.0  \n",
       "3    Mid-West  Number               35000.0  \n",
       "4  South-East  Number               32000.0  "
      ]
     },
     "execution_count": 3,
     "metadata": {},
     "output_type": "execute_result"
    }
   ],
   "source": [
    "#Creating dataframes from clean files\n",
    "df_pop = pd.read_csv(\"PEA04_c.csv\")\n",
    "df_sap = pd.read_csv(\"SAP_c.csv\")\n",
    "df_aux = pd.read_csv(\"FY004B_c.csv\")\n",
    "\n",
    "df_pop.head()"
   ]
  },
  {
   "cell_type": "code",
   "execution_count": 4,
   "id": "b40bc6ab",
   "metadata": {},
   "outputs": [
    {
     "data": {
      "text/html": [
       "<div>\n",
       "<style scoped>\n",
       "    .dataframe tbody tr th:only-of-type {\n",
       "        vertical-align: middle;\n",
       "    }\n",
       "\n",
       "    .dataframe tbody tr th {\n",
       "        vertical-align: top;\n",
       "    }\n",
       "\n",
       "    .dataframe thead th {\n",
       "        text-align: right;\n",
       "    }\n",
       "</style>\n",
       "<table border=\"1\" class=\"dataframe\">\n",
       "  <thead>\n",
       "    <tr style=\"text-align: right;\">\n",
       "      <th></th>\n",
       "      <th>Statistic Label</th>\n",
       "      <th>Census Year</th>\n",
       "      <th>Internet</th>\n",
       "      <th>Name of Region</th>\n",
       "      <th>UNIT</th>\n",
       "      <th>Households with Internet access</th>\n",
       "    </tr>\n",
       "  </thead>\n",
       "  <tbody>\n",
       "    <tr>\n",
       "      <th>0</th>\n",
       "      <td>Households with Internet access</td>\n",
       "      <td>2011</td>\n",
       "      <td>Broadband</td>\n",
       "      <td>Border</td>\n",
       "      <td>Number</td>\n",
       "      <td>106183</td>\n",
       "    </tr>\n",
       "    <tr>\n",
       "      <th>1</th>\n",
       "      <td>Households with Internet access</td>\n",
       "      <td>2011</td>\n",
       "      <td>Broadband</td>\n",
       "      <td>Dublin</td>\n",
       "      <td>Number</td>\n",
       "      <td>339593</td>\n",
       "    </tr>\n",
       "    <tr>\n",
       "      <th>2</th>\n",
       "      <td>Households with Internet access</td>\n",
       "      <td>2011</td>\n",
       "      <td>Broadband</td>\n",
       "      <td>Mid-East</td>\n",
       "      <td>Number</td>\n",
       "      <td>124424</td>\n",
       "    </tr>\n",
       "    <tr>\n",
       "      <th>3</th>\n",
       "      <td>Households with Internet access</td>\n",
       "      <td>2011</td>\n",
       "      <td>Broadband</td>\n",
       "      <td>Mid-West</td>\n",
       "      <td>Number</td>\n",
       "      <td>79717</td>\n",
       "    </tr>\n",
       "    <tr>\n",
       "      <th>4</th>\n",
       "      <td>Households with Internet access</td>\n",
       "      <td>2011</td>\n",
       "      <td>Broadband</td>\n",
       "      <td>Midlands</td>\n",
       "      <td>Number</td>\n",
       "      <td>55102</td>\n",
       "    </tr>\n",
       "  </tbody>\n",
       "</table>\n",
       "</div>"
      ],
      "text/plain": [
       "                   Statistic Label  Census Year   Internet Name of Region  \\\n",
       "0  Households with Internet access         2011  Broadband         Border   \n",
       "1  Households with Internet access         2011  Broadband         Dublin   \n",
       "2  Households with Internet access         2011  Broadband       Mid-East   \n",
       "3  Households with Internet access         2011  Broadband       Mid-West   \n",
       "4  Households with Internet access         2011  Broadband       Midlands   \n",
       "\n",
       "     UNIT  Households with Internet access  \n",
       "0  Number                           106183  \n",
       "1  Number                           339593  \n",
       "2  Number                           124424  \n",
       "3  Number                            79717  \n",
       "4  Number                            55102  "
      ]
     },
     "execution_count": 4,
     "metadata": {},
     "output_type": "execute_result"
    }
   ],
   "source": [
    "df_sap.head()"
   ]
  },
  {
   "cell_type": "code",
   "execution_count": 5,
   "id": "655eeb17",
   "metadata": {
    "scrolled": true
   },
   "outputs": [
    {
     "data": {
      "text/html": [
       "<div>\n",
       "<style scoped>\n",
       "    .dataframe tbody tr th:only-of-type {\n",
       "        vertical-align: middle;\n",
       "    }\n",
       "\n",
       "    .dataframe tbody tr th {\n",
       "        vertical-align: top;\n",
       "    }\n",
       "\n",
       "    .dataframe thead th {\n",
       "        text-align: right;\n",
       "    }\n",
       "</style>\n",
       "<table border=\"1\" class=\"dataframe\">\n",
       "  <thead>\n",
       "    <tr style=\"text-align: right;\">\n",
       "      <th></th>\n",
       "      <th>Statistic Label</th>\n",
       "      <th>CensusYear</th>\n",
       "      <th>Name of Region</th>\n",
       "      <th>UNIT</th>\n",
       "      <th>VALUE</th>\n",
       "    </tr>\n",
       "  </thead>\n",
       "  <tbody>\n",
       "    <tr>\n",
       "      <th>0</th>\n",
       "      <td>Private households</td>\n",
       "      <td>2011</td>\n",
       "      <td>Ireland</td>\n",
       "      <td>Number</td>\n",
       "      <td>1654208.0</td>\n",
       "    </tr>\n",
       "    <tr>\n",
       "      <th>1</th>\n",
       "      <td>Private households</td>\n",
       "      <td>2011</td>\n",
       "      <td>South-East</td>\n",
       "      <td>Number</td>\n",
       "      <td>19436.0</td>\n",
       "    </tr>\n",
       "    <tr>\n",
       "      <th>2</th>\n",
       "      <td>Private households</td>\n",
       "      <td>2011</td>\n",
       "      <td>Dublin</td>\n",
       "      <td>Number</td>\n",
       "      <td>208008.0</td>\n",
       "    </tr>\n",
       "    <tr>\n",
       "      <th>3</th>\n",
       "      <td>Private households</td>\n",
       "      <td>2011</td>\n",
       "      <td>Dublin</td>\n",
       "      <td>Number</td>\n",
       "      <td>75819.0</td>\n",
       "    </tr>\n",
       "    <tr>\n",
       "      <th>4</th>\n",
       "      <td>Private households</td>\n",
       "      <td>2011</td>\n",
       "      <td>Dublin</td>\n",
       "      <td>Number</td>\n",
       "      <td>93146.0</td>\n",
       "    </tr>\n",
       "  </tbody>\n",
       "</table>\n",
       "</div>"
      ],
      "text/plain": [
       "      Statistic Label  CensusYear Name of Region    UNIT      VALUE\n",
       "0  Private households        2011        Ireland  Number  1654208.0\n",
       "1  Private households        2011     South-East  Number    19436.0\n",
       "2  Private households        2011         Dublin  Number   208008.0\n",
       "3  Private households        2011         Dublin  Number    75819.0\n",
       "4  Private households        2011         Dublin  Number    93146.0"
      ]
     },
     "execution_count": 5,
     "metadata": {},
     "output_type": "execute_result"
    }
   ],
   "source": [
    "df_aux.head()"
   ]
  },
  {
   "cell_type": "markdown",
   "id": "99a424d7",
   "metadata": {},
   "source": [
    "**Now we have 3 dataframes with unified regions and UNITs, so we can create 1 data frame to work with**"
   ]
  },
  {
   "cell_type": "markdown",
   "id": "5e0ef52b",
   "metadata": {},
   "source": [
    "positive trend for estimated population\n",
    "comparisson with persons in private households per country\n",
    "% of measurment errors\n"
   ]
  },
  {
   "cell_type": "code",
   "execution_count": 6,
   "id": "16b1087f",
   "metadata": {},
   "outputs": [
    {
     "data": {
      "text/plain": [
       "Year\n",
       "2011    18299600.0\n",
       "2012    18374100.0\n",
       "2013    18459100.0\n",
       "2014    18582000.0\n",
       "2015    18751100.0\n",
       "2016    18959100.0\n",
       "2017    19243400.0\n",
       "2018    19539800.0\n",
       "2019    19834400.0\n",
       "2020    20120000.0\n",
       "2021    20298800.0\n",
       "2022    20735500.0\n",
       "2023    21126500.0\n",
       "Name: Estimated Population, dtype: float64"
      ]
     },
     "execution_count": 6,
     "metadata": {},
     "output_type": "execute_result"
    }
   ],
   "source": [
    "pop_grouped = df_pop.groupby(\"Year\")[\"Estimated Population\"].sum()\n",
    "pop_grouped"
   ]
  },
  {
   "cell_type": "code",
   "execution_count": 7,
   "id": "131b889e",
   "metadata": {
    "scrolled": true
   },
   "outputs": [
    {
     "data": {
      "image/png": "[encoded data removed]",
      "text/plain": [
       "<Figure size 800x300 with 1 Axes>"
      ]
     },
     "metadata": {},
     "output_type": "display_data"
    }
   ],
   "source": [
    "# Create a bar plot of the sum of population for each year\n",
    "plt.figure(figsize=(8, 3))\n",
    "sns.barplot(x=pop_grouped.index, y=pop_grouped.values, color=\"#5ec0e0\")\n",
    "plt.xlabel(\"Year\")\n",
    "plt.ylabel(\"Total nr of people\")\n",
    "plt.title(\"Estimated Population for each year\")\n",
    "plt.show()"
   ]
  },
  {
   "cell_type": "code",
   "execution_count": 8,
   "id": "f0e1bc15",
   "metadata": {},
   "outputs": [],
   "source": [
    "#Creating aggregated data frame that will contain following data:"
   ]
  },
  {
   "cell_type": "markdown",
   "id": "65d8a487",
   "metadata": {},
   "source": [
    "**from df_sap dataset:**\n",
    "* Year [2011,2016,2022]\n",
    "* Region - all 8 regions and 'Ireland'\n",
    "* type of internet connection\n",
    "* nr of households with internet connections\n",
    "\n",
    "**from df_pop** \n",
    "* aggregated value of estimated population number for each region and year (they will be duplicated for each connection type)\n",
    "\n",
    "**from df_aux**\n",
    "* aggregated value of Private households number for each region and year (they will be duplicated for each connection type)\n",
    "* aggregated value of Persons in private households number for each region and year (they will be duplicated for each connection type)"
   ]
  },
  {
   "cell_type": "code",
   "execution_count": 9,
   "id": "113c7d63",
   "metadata": {
    "scrolled": true
   },
   "outputs": [
    {
     "data": {
      "text/html": [
       "<div>\n",
       "<style scoped>\n",
       "    .dataframe tbody tr th:only-of-type {\n",
       "        vertical-align: middle;\n",
       "    }\n",
       "\n",
       "    .dataframe tbody tr th {\n",
       "        vertical-align: top;\n",
       "    }\n",
       "\n",
       "    .dataframe thead th {\n",
       "        text-align: right;\n",
       "    }\n",
       "</style>\n",
       "<table border=\"1\" class=\"dataframe\">\n",
       "  <thead>\n",
       "    <tr style=\"text-align: right;\">\n",
       "      <th></th>\n",
       "      <th>Year</th>\n",
       "      <th>Connection Type</th>\n",
       "      <th>Region</th>\n",
       "      <th>Households with Internet access</th>\n",
       "    </tr>\n",
       "  </thead>\n",
       "  <tbody>\n",
       "    <tr>\n",
       "      <th>0</th>\n",
       "      <td>2011</td>\n",
       "      <td>Broadband</td>\n",
       "      <td>Border</td>\n",
       "      <td>106183</td>\n",
       "    </tr>\n",
       "    <tr>\n",
       "      <th>1</th>\n",
       "      <td>2011</td>\n",
       "      <td>Broadband</td>\n",
       "      <td>Dublin</td>\n",
       "      <td>339593</td>\n",
       "    </tr>\n",
       "    <tr>\n",
       "      <th>2</th>\n",
       "      <td>2011</td>\n",
       "      <td>Broadband</td>\n",
       "      <td>Mid-East</td>\n",
       "      <td>124424</td>\n",
       "    </tr>\n",
       "    <tr>\n",
       "      <th>3</th>\n",
       "      <td>2011</td>\n",
       "      <td>Broadband</td>\n",
       "      <td>Mid-West</td>\n",
       "      <td>79717</td>\n",
       "    </tr>\n",
       "    <tr>\n",
       "      <th>4</th>\n",
       "      <td>2011</td>\n",
       "      <td>Broadband</td>\n",
       "      <td>Midlands</td>\n",
       "      <td>55102</td>\n",
       "    </tr>\n",
       "  </tbody>\n",
       "</table>\n",
       "</div>"
      ],
      "text/plain": [
       "   Year Connection Type    Region  Households with Internet access\n",
       "0  2011       Broadband    Border                           106183\n",
       "1  2011       Broadband    Dublin                           339593\n",
       "2  2011       Broadband  Mid-East                           124424\n",
       "3  2011       Broadband  Mid-West                            79717\n",
       "4  2011       Broadband  Midlands                            55102"
      ]
     },
     "execution_count": 9,
     "metadata": {},
     "output_type": "execute_result"
    }
   ],
   "source": [
    "df_agg = df_sap.loc[:, ['Census Year', 'Internet','Name of Region','Households with Internet access']]\n",
    "\n",
    "# Rename the columns of the new dataframe using the `rename()` method\n",
    "df_agg.rename(columns={'Census Year': 'Year', 'Internet': 'Connection Type',\n",
    "                       'Name of Region': 'Region'}, inplace=True)\n",
    "df_agg.head()"
   ]
  },
  {
   "cell_type": "code",
   "execution_count": 10,
   "id": "cec44782",
   "metadata": {},
   "outputs": [
    {
     "name": "stdout",
     "output_type": "stream",
     "text": [
      "<class 'pandas.core.frame.DataFrame'>\n",
      "RangeIndex: 125 entries, 0 to 124\n",
      "Data columns (total 6 columns):\n",
      " #   Column                           Non-Null Count  Dtype \n",
      "---  ------                           --------------  ----- \n",
      " 0   Statistic Label                  125 non-null    object\n",
      " 1   Census Year                      125 non-null    int64 \n",
      " 2   Internet                         125 non-null    object\n",
      " 3   Name of Region                   125 non-null    object\n",
      " 4   UNIT                             125 non-null    object\n",
      " 5   Households with Internet access  125 non-null    int64 \n",
      "dtypes: int64(2), object(4)\n",
      "memory usage: 6.0+ KB\n"
     ]
    }
   ],
   "source": [
    "df_sap.info()"
   ]
  },
  {
   "cell_type": "code",
   "execution_count": 11,
   "id": "e7f80388",
   "metadata": {
    "scrolled": true
   },
   "outputs": [
    {
     "name": "stdout",
     "output_type": "stream",
     "text": [
      "<class 'pandas.core.frame.DataFrame'>\n",
      "RangeIndex: 125 entries, 0 to 124\n",
      "Data columns (total 4 columns):\n",
      " #   Column                           Non-Null Count  Dtype \n",
      "---  ------                           --------------  ----- \n",
      " 0   Year                             125 non-null    int64 \n",
      " 1   Connection Type                  125 non-null    object\n",
      " 2   Region                           125 non-null    object\n",
      " 3   Households with Internet access  125 non-null    int64 \n",
      "dtypes: int64(2), object(2)\n",
      "memory usage: 4.0+ KB\n"
     ]
    }
   ],
   "source": [
    "df_agg.info()"
   ]
  },
  {
   "cell_type": "code",
   "execution_count": 12,
   "id": "48e38683",
   "metadata": {
    "scrolled": false
   },
   "outputs": [
    {
     "data": {
      "text/plain": [
       "Year  Region  \n",
       "2011  Border       784000.0\n",
       "      Dublin      2523000.0\n",
       "      Ireland     9149700.0\n",
       "      Mid-East    1314900.0\n",
       "      Mid-West     933600.0\n",
       "Name: Estimated Population, dtype: float64"
      ]
     },
     "execution_count": 12,
     "metadata": {},
     "output_type": "execute_result"
    }
   ],
   "source": [
    "pop_agg = df_pop.groupby(['Year', 'Region'])['Estimated Population'].sum()\n",
    "pop_agg.head()"
   ]
  },
  {
   "cell_type": "code",
   "execution_count": 13,
   "id": "70278857",
   "metadata": {
    "scrolled": true
   },
   "outputs": [
    {
     "data": {
      "text/html": [
       "<div>\n",
       "<style scoped>\n",
       "    .dataframe tbody tr th:only-of-type {\n",
       "        vertical-align: middle;\n",
       "    }\n",
       "\n",
       "    .dataframe tbody tr th {\n",
       "        vertical-align: top;\n",
       "    }\n",
       "\n",
       "    .dataframe thead th {\n",
       "        text-align: right;\n",
       "    }\n",
       "</style>\n",
       "<table border=\"1\" class=\"dataframe\">\n",
       "  <thead>\n",
       "    <tr style=\"text-align: right;\">\n",
       "      <th></th>\n",
       "      <th>Year</th>\n",
       "      <th>Connection Type</th>\n",
       "      <th>Region</th>\n",
       "      <th>Households with Internet access</th>\n",
       "      <th>Estimated Population</th>\n",
       "    </tr>\n",
       "  </thead>\n",
       "  <tbody>\n",
       "    <tr>\n",
       "      <th>0</th>\n",
       "      <td>2011</td>\n",
       "      <td>Broadband</td>\n",
       "      <td>Border</td>\n",
       "      <td>106183</td>\n",
       "      <td>784000.0</td>\n",
       "    </tr>\n",
       "    <tr>\n",
       "      <th>1</th>\n",
       "      <td>2011</td>\n",
       "      <td>Broadband</td>\n",
       "      <td>Dublin</td>\n",
       "      <td>339593</td>\n",
       "      <td>2523000.0</td>\n",
       "    </tr>\n",
       "    <tr>\n",
       "      <th>2</th>\n",
       "      <td>2011</td>\n",
       "      <td>Broadband</td>\n",
       "      <td>Mid-East</td>\n",
       "      <td>124424</td>\n",
       "      <td>1314900.0</td>\n",
       "    </tr>\n",
       "    <tr>\n",
       "      <th>3</th>\n",
       "      <td>2011</td>\n",
       "      <td>Broadband</td>\n",
       "      <td>Mid-West</td>\n",
       "      <td>79717</td>\n",
       "      <td>933600.0</td>\n",
       "    </tr>\n",
       "    <tr>\n",
       "      <th>4</th>\n",
       "      <td>2011</td>\n",
       "      <td>Broadband</td>\n",
       "      <td>Midlands</td>\n",
       "      <td>55102</td>\n",
       "      <td>567600.0</td>\n",
       "    </tr>\n",
       "  </tbody>\n",
       "</table>\n",
       "</div>"
      ],
      "text/plain": [
       "   Year Connection Type    Region  Households with Internet access  \\\n",
       "0  2011       Broadband    Border                           106183   \n",
       "1  2011       Broadband    Dublin                           339593   \n",
       "2  2011       Broadband  Mid-East                           124424   \n",
       "3  2011       Broadband  Mid-West                            79717   \n",
       "4  2011       Broadband  Midlands                            55102   \n",
       "\n",
       "   Estimated Population  \n",
       "0              784000.0  \n",
       "1             2523000.0  \n",
       "2             1314900.0  \n",
       "3              933600.0  \n",
       "4              567600.0  "
      ]
     },
     "execution_count": 13,
     "metadata": {},
     "output_type": "execute_result"
    }
   ],
   "source": [
    "merged_df = df_agg.merge(pop_agg, on=['Year', 'Region'], how='left')\n",
    "merged_df.head()"
   ]
  },
  {
   "cell_type": "code",
   "execution_count": 14,
   "id": "79ce0f5e",
   "metadata": {
    "scrolled": false
   },
   "outputs": [
    {
     "name": "stdout",
     "output_type": "stream",
     "text": [
      "<class 'pandas.core.frame.DataFrame'>\n",
      "RangeIndex: 27 entries, 0 to 26\n",
      "Data columns (total 3 columns):\n",
      " #   Column              Non-Null Count  Dtype  \n",
      "---  ------              --------------  -----  \n",
      " 0   Year                27 non-null     int64  \n",
      " 1   Region              27 non-null     object \n",
      " 2   Private households  27 non-null     float64\n",
      "dtypes: float64(1), int64(1), object(1)\n",
      "memory usage: 780.0+ bytes\n"
     ]
    }
   ],
   "source": [
    "df_ph = df_aux[df_aux['Statistic Label'] == 'Private households']\n",
    "df_ph = df_ph[['CensusYear', 'Name of Region', 'VALUE']]\n",
    "df_ph.rename(columns={'CensusYear': 'Year','Name of Region': 'Region', 'VALUE': 'Private households',}, inplace=True)\n",
    "ph_agg = df_ph.groupby(['Year', 'Region'])['Private households'].sum()\n",
    "ph_agg = ph_agg.reset_index()\n",
    "ph_agg.info()"
   ]
  },
  {
   "cell_type": "code",
   "execution_count": 15,
   "id": "f7f3c306",
   "metadata": {
    "scrolled": false
   },
   "outputs": [
    {
     "data": {
      "text/html": [
       "<div>\n",
       "<style scoped>\n",
       "    .dataframe tbody tr th:only-of-type {\n",
       "        vertical-align: middle;\n",
       "    }\n",
       "\n",
       "    .dataframe tbody tr th {\n",
       "        vertical-align: top;\n",
       "    }\n",
       "\n",
       "    .dataframe thead th {\n",
       "        text-align: right;\n",
       "    }\n",
       "</style>\n",
       "<table border=\"1\" class=\"dataframe\">\n",
       "  <thead>\n",
       "    <tr style=\"text-align: right;\">\n",
       "      <th></th>\n",
       "      <th>Year</th>\n",
       "      <th>Connection Type</th>\n",
       "      <th>Region</th>\n",
       "      <th>Households with Internet access</th>\n",
       "      <th>Estimated Population</th>\n",
       "      <th>Private households</th>\n",
       "    </tr>\n",
       "  </thead>\n",
       "  <tbody>\n",
       "    <tr>\n",
       "      <th>0</th>\n",
       "      <td>2011</td>\n",
       "      <td>Broadband</td>\n",
       "      <td>Border</td>\n",
       "      <td>106183</td>\n",
       "      <td>784000.0</td>\n",
       "      <td>185851.0</td>\n",
       "    </tr>\n",
       "    <tr>\n",
       "      <th>1</th>\n",
       "      <td>2011</td>\n",
       "      <td>Broadband</td>\n",
       "      <td>Dublin</td>\n",
       "      <td>339593</td>\n",
       "      <td>2523000.0</td>\n",
       "      <td>466992.0</td>\n",
       "    </tr>\n",
       "    <tr>\n",
       "      <th>2</th>\n",
       "      <td>2011</td>\n",
       "      <td>Broadband</td>\n",
       "      <td>Mid-East</td>\n",
       "      <td>124424</td>\n",
       "      <td>1314900.0</td>\n",
       "      <td>180762.0</td>\n",
       "    </tr>\n",
       "    <tr>\n",
       "      <th>3</th>\n",
       "      <td>2011</td>\n",
       "      <td>Broadband</td>\n",
       "      <td>Mid-West</td>\n",
       "      <td>79717</td>\n",
       "      <td>933600.0</td>\n",
       "      <td>170794.0</td>\n",
       "    </tr>\n",
       "    <tr>\n",
       "      <th>4</th>\n",
       "      <td>2011</td>\n",
       "      <td>Broadband</td>\n",
       "      <td>Midlands</td>\n",
       "      <td>55102</td>\n",
       "      <td>567600.0</td>\n",
       "      <td>99962.0</td>\n",
       "    </tr>\n",
       "  </tbody>\n",
       "</table>\n",
       "</div>"
      ],
      "text/plain": [
       "   Year Connection Type    Region  Households with Internet access  \\\n",
       "0  2011       Broadband    Border                           106183   \n",
       "1  2011       Broadband    Dublin                           339593   \n",
       "2  2011       Broadband  Mid-East                           124424   \n",
       "3  2011       Broadband  Mid-West                            79717   \n",
       "4  2011       Broadband  Midlands                            55102   \n",
       "\n",
       "   Estimated Population  Private households  \n",
       "0              784000.0            185851.0  \n",
       "1             2523000.0            466992.0  \n",
       "2             1314900.0            180762.0  \n",
       "3              933600.0            170794.0  \n",
       "4              567600.0             99962.0  "
      ]
     },
     "execution_count": 15,
     "metadata": {},
     "output_type": "execute_result"
    }
   ],
   "source": [
    "merged_df = merged_df.merge(ph_agg, on=['Year', 'Region'], how='left')\n",
    "merged_df.head()"
   ]
  },
  {
   "cell_type": "code",
   "execution_count": 16,
   "id": "6e8e0141",
   "metadata": {
    "scrolled": true
   },
   "outputs": [
    {
     "name": "stdout",
     "output_type": "stream",
     "text": [
      "<class 'pandas.core.frame.DataFrame'>\n",
      "RangeIndex: 125 entries, 0 to 124\n",
      "Data columns (total 6 columns):\n",
      " #   Column                           Non-Null Count  Dtype  \n",
      "---  ------                           --------------  -----  \n",
      " 0   Year                             125 non-null    int64  \n",
      " 1   Connection Type                  125 non-null    object \n",
      " 2   Region                           125 non-null    object \n",
      " 3   Households with Internet access  125 non-null    int64  \n",
      " 4   Estimated Population             125 non-null    float64\n",
      " 5   Private households               125 non-null    float64\n",
      "dtypes: float64(2), int64(2), object(2)\n",
      "memory usage: 6.0+ KB\n"
     ]
    }
   ],
   "source": [
    "merged_df.info()"
   ]
  },
  {
   "cell_type": "code",
   "execution_count": 17,
   "id": "6091dd1a",
   "metadata": {
    "scrolled": false
   },
   "outputs": [
    {
     "name": "stdout",
     "output_type": "stream",
     "text": [
      "<class 'pandas.core.frame.DataFrame'>\n",
      "RangeIndex: 27 entries, 0 to 26\n",
      "Data columns (total 3 columns):\n",
      " #   Column                         Non-Null Count  Dtype  \n",
      "---  ------                         --------------  -----  \n",
      " 0   Year                           27 non-null     int64  \n",
      " 1   Region                         27 non-null     object \n",
      " 2   Persons in private households  27 non-null     float64\n",
      "dtypes: float64(1), int64(1), object(1)\n",
      "memory usage: 780.0+ bytes\n"
     ]
    }
   ],
   "source": [
    "df_pph = df_aux[df_aux['Statistic Label'] == 'Persons in private households']\n",
    "df_pph = df_pph[['CensusYear', 'Name of Region', 'VALUE']]\n",
    "df_pph.rename(columns={'CensusYear': 'Year','Name of Region': 'Region', 'VALUE': 'Persons in private households',}, inplace=True)\n",
    "pph_agg = df_pph.groupby(['Year', 'Region'])['Persons in private households'].sum()\n",
    "pph_agg = pph_agg.reset_index()\n",
    "pph_agg.info()"
   ]
  },
  {
   "cell_type": "code",
   "execution_count": 18,
   "id": "64265ee1",
   "metadata": {},
   "outputs": [
    {
     "data": {
      "text/html": [
       "<div>\n",
       "<style scoped>\n",
       "    .dataframe tbody tr th:only-of-type {\n",
       "        vertical-align: middle;\n",
       "    }\n",
       "\n",
       "    .dataframe tbody tr th {\n",
       "        vertical-align: top;\n",
       "    }\n",
       "\n",
       "    .dataframe thead th {\n",
       "        text-align: right;\n",
       "    }\n",
       "</style>\n",
       "<table border=\"1\" class=\"dataframe\">\n",
       "  <thead>\n",
       "    <tr style=\"text-align: right;\">\n",
       "      <th></th>\n",
       "      <th>Year</th>\n",
       "      <th>Region</th>\n",
       "      <th>Persons in private households</th>\n",
       "    </tr>\n",
       "  </thead>\n",
       "  <tbody>\n",
       "    <tr>\n",
       "      <th>0</th>\n",
       "      <td>2011</td>\n",
       "      <td>Border</td>\n",
       "      <td>509799.0</td>\n",
       "    </tr>\n",
       "    <tr>\n",
       "      <th>1</th>\n",
       "      <td>2011</td>\n",
       "      <td>Dublin</td>\n",
       "      <td>1237934.0</td>\n",
       "    </tr>\n",
       "    <tr>\n",
       "      <th>2</th>\n",
       "      <td>2011</td>\n",
       "      <td>Ireland</td>\n",
       "      <td>4510409.0</td>\n",
       "    </tr>\n",
       "    <tr>\n",
       "      <th>3</th>\n",
       "      <td>2011</td>\n",
       "      <td>Mid-East</td>\n",
       "      <td>528117.0</td>\n",
       "    </tr>\n",
       "    <tr>\n",
       "      <th>4</th>\n",
       "      <td>2011</td>\n",
       "      <td>Mid-West</td>\n",
       "      <td>461236.0</td>\n",
       "    </tr>\n",
       "  </tbody>\n",
       "</table>\n",
       "</div>"
      ],
      "text/plain": [
       "   Year    Region  Persons in private households\n",
       "0  2011    Border                       509799.0\n",
       "1  2011    Dublin                      1237934.0\n",
       "2  2011   Ireland                      4510409.0\n",
       "3  2011  Mid-East                       528117.0\n",
       "4  2011  Mid-West                       461236.0"
      ]
     },
     "execution_count": 18,
     "metadata": {},
     "output_type": "execute_result"
    }
   ],
   "source": [
    "pph_agg.head()"
   ]
  },
  {
   "cell_type": "code",
   "execution_count": 19,
   "id": "79aa223d",
   "metadata": {},
   "outputs": [
    {
     "data": {
      "text/plain": [
       "array([2011, 2016, 2022], dtype=int64)"
      ]
     },
     "execution_count": 19,
     "metadata": {},
     "output_type": "execute_result"
    }
   ],
   "source": [
    "pph_agg.Year.unique()"
   ]
  },
  {
   "cell_type": "code",
   "execution_count": 20,
   "id": "d1de6115",
   "metadata": {},
   "outputs": [
    {
     "data": {
      "text/plain": [
       "array(['Border', 'Dublin', 'Ireland', 'Mid-East', 'Mid-West', 'Midlands',\n",
       "       'South-East', 'South-West', 'West'], dtype=object)"
      ]
     },
     "execution_count": 20,
     "metadata": {},
     "output_type": "execute_result"
    }
   ],
   "source": [
    "pph_agg.Region.unique()"
   ]
  },
  {
   "cell_type": "code",
   "execution_count": 21,
   "id": "3336cb02",
   "metadata": {
    "scrolled": false
   },
   "outputs": [
    {
     "data": {
      "text/html": [
       "<div>\n",
       "<style scoped>\n",
       "    .dataframe tbody tr th:only-of-type {\n",
       "        vertical-align: middle;\n",
       "    }\n",
       "\n",
       "    .dataframe tbody tr th {\n",
       "        vertical-align: top;\n",
       "    }\n",
       "\n",
       "    .dataframe thead th {\n",
       "        text-align: right;\n",
       "    }\n",
       "</style>\n",
       "<table border=\"1\" class=\"dataframe\">\n",
       "  <thead>\n",
       "    <tr style=\"text-align: right;\">\n",
       "      <th></th>\n",
       "      <th>Year</th>\n",
       "      <th>Connection Type</th>\n",
       "      <th>Region</th>\n",
       "      <th>Households with Internet access</th>\n",
       "      <th>Estimated Population</th>\n",
       "      <th>Private households</th>\n",
       "      <th>Persons in private households</th>\n",
       "    </tr>\n",
       "  </thead>\n",
       "  <tbody>\n",
       "    <tr>\n",
       "      <th>0</th>\n",
       "      <td>2011</td>\n",
       "      <td>Broadband</td>\n",
       "      <td>Border</td>\n",
       "      <td>106183</td>\n",
       "      <td>784000.0</td>\n",
       "      <td>185851.0</td>\n",
       "      <td>509799.0</td>\n",
       "    </tr>\n",
       "    <tr>\n",
       "      <th>1</th>\n",
       "      <td>2011</td>\n",
       "      <td>Broadband</td>\n",
       "      <td>Dublin</td>\n",
       "      <td>339593</td>\n",
       "      <td>2523000.0</td>\n",
       "      <td>466992.0</td>\n",
       "      <td>1237934.0</td>\n",
       "    </tr>\n",
       "    <tr>\n",
       "      <th>2</th>\n",
       "      <td>2011</td>\n",
       "      <td>Broadband</td>\n",
       "      <td>Mid-East</td>\n",
       "      <td>124424</td>\n",
       "      <td>1314900.0</td>\n",
       "      <td>180762.0</td>\n",
       "      <td>528117.0</td>\n",
       "    </tr>\n",
       "    <tr>\n",
       "      <th>3</th>\n",
       "      <td>2011</td>\n",
       "      <td>Broadband</td>\n",
       "      <td>Mid-West</td>\n",
       "      <td>79717</td>\n",
       "      <td>933600.0</td>\n",
       "      <td>170794.0</td>\n",
       "      <td>461236.0</td>\n",
       "    </tr>\n",
       "    <tr>\n",
       "      <th>4</th>\n",
       "      <td>2011</td>\n",
       "      <td>Broadband</td>\n",
       "      <td>Midlands</td>\n",
       "      <td>55102</td>\n",
       "      <td>567600.0</td>\n",
       "      <td>99962.0</td>\n",
       "      <td>279880.0</td>\n",
       "    </tr>\n",
       "  </tbody>\n",
       "</table>\n",
       "</div>"
      ],
      "text/plain": [
       "   Year Connection Type    Region  Households with Internet access  \\\n",
       "0  2011       Broadband    Border                           106183   \n",
       "1  2011       Broadband    Dublin                           339593   \n",
       "2  2011       Broadband  Mid-East                           124424   \n",
       "3  2011       Broadband  Mid-West                            79717   \n",
       "4  2011       Broadband  Midlands                            55102   \n",
       "\n",
       "   Estimated Population  Private households  Persons in private households  \n",
       "0              784000.0            185851.0                       509799.0  \n",
       "1             2523000.0            466992.0                      1237934.0  \n",
       "2             1314900.0            180762.0                       528117.0  \n",
       "3              933600.0            170794.0                       461236.0  \n",
       "4              567600.0             99962.0                       279880.0  "
      ]
     },
     "execution_count": 21,
     "metadata": {},
     "output_type": "execute_result"
    }
   ],
   "source": [
    "merged_df = merged_df.merge(pph_agg, on=['Year', 'Region'], how='left')\n",
    "merged_df.head()"
   ]
  },
  {
   "cell_type": "code",
   "execution_count": 22,
   "id": "2a1ff459",
   "metadata": {},
   "outputs": [
    {
     "name": "stdout",
     "output_type": "stream",
     "text": [
      "<class 'pandas.core.frame.DataFrame'>\n",
      "RangeIndex: 125 entries, 0 to 124\n",
      "Data columns (total 7 columns):\n",
      " #   Column                           Non-Null Count  Dtype  \n",
      "---  ------                           --------------  -----  \n",
      " 0   Year                             125 non-null    int64  \n",
      " 1   Connection Type                  125 non-null    object \n",
      " 2   Region                           125 non-null    object \n",
      " 3   Households with Internet access  125 non-null    int64  \n",
      " 4   Estimated Population             125 non-null    float64\n",
      " 5   Private households               125 non-null    float64\n",
      " 6   Persons in private households    125 non-null    float64\n",
      "dtypes: float64(3), int64(2), object(2)\n",
      "memory usage: 7.0+ KB\n"
     ]
    }
   ],
   "source": [
    "merged_df.info()"
   ]
  },
  {
   "cell_type": "code",
   "execution_count": 23,
   "id": "ad2f893e",
   "metadata": {},
   "outputs": [],
   "source": [
    "merged_df.to_csv(\"process.csv\", index = False)"
   ]
  },
  {
   "cell_type": "code",
   "execution_count": null,
   "id": "08bfea9b",
   "metadata": {},
   "outputs": [],
   "source": []
  }
 ],
 "metadata": {
  "kernelspec": {
   "display_name": "Python 3 (ipykernel)",
   "language": "python",
   "name": "python3"
  },
  "language_info": {
   "codemirror_mode": {
    "name": "ipython",
    "version": 3
   },
   "file_extension": ".py",
   "mimetype": "text/x-python",
   "name": "python",
   "nbconvert_exporter": "python",
   "pygments_lexer": "ipython3",
   "version": "3.11.4"
  }
 },
 "nbformat": 4,
 "nbformat_minor": 5
}
