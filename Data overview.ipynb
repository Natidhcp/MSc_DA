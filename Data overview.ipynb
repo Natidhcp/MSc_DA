{
 "cells": [
  {
   "cell_type": "markdown",
   "id": "48a9e967",
   "metadata": {},
   "source": [
    "##  Main Data  Sources\n",
    "##### Estimated Population\n",
    "Home -> Population Estimates -> Annual Population Estimates -> PEA04 - Estimated Population (Persons in April)\n",
    "##### Households with Internet access - 2011\n",
    "Home -> SAPMAP 2011 -> Theme 15: PC and Internet Access ->\n",
    "    SAP2011T15T3CTY - Households with Internet access\n",
    "##### Households with Internet access - 2016\n",
    "Home -> SAPMAP 2016 -> Theme 15: Motor Car Availability, PC Ownership and Internet Access ->\n",
    "    SAP2016T15T3CTY - Households with Internet access\n",
    "##### Households with Internet access - 2022\n",
    "Home -> SAPMAP 2022 -> Theme 15: Motor Car Availability, PC Ownership and Internet Access ->\n",
    "    SAP2022T15T2NUTS - Households with Internet access\n",
    "##  Auxiliary Data  Sources\n",
    "##### Average Number of Persons per Private Household \n",
    "Home -> Census 2022 -> Summary Results -> FY004B - Average Number of Persons per Private Household\n",
    "##### IRISH REGIONS\n",
    "https://www.cso.ie/en/media/csoie/releasespublications/documents/ep/censuspreliminaryresults/2022/backgroundnotes/NUTS3_Region.xlsx"
   ]
  },
  {
   "cell_type": "code",
   "execution_count": 19,
   "id": "1630e1cc",
   "metadata": {},
   "outputs": [],
   "source": [
    "##IMPORTING LIBRARIES\n",
    "import pandas as pd\n",
    "import statistics as stats\n",
    "import numpy as np\n",
    "import matplotlib.pyplot as plt\n",
    "import seaborn as sns"
   ]
  },
  {
   "cell_type": "markdown",
   "id": "7acf3d83",
   "metadata": {},
   "source": [
    "# Estimated Population file overview"
   ]
  },
  {
   "cell_type": "code",
   "execution_count": 3,
   "id": "55fffe31",
   "metadata": {
    "scrolled": false
   },
   "outputs": [
    {
     "data": {
      "text/html": [
       "<div>\n",
       "<style scoped>\n",
       "    .dataframe tbody tr th:only-of-type {\n",
       "        vertical-align: middle;\n",
       "    }\n",
       "\n",
       "    .dataframe tbody tr th {\n",
       "        vertical-align: top;\n",
       "    }\n",
       "\n",
       "    .dataframe thead th {\n",
       "        text-align: right;\n",
       "    }\n",
       "</style>\n",
       "<table border=\"1\" class=\"dataframe\">\n",
       "  <thead>\n",
       "    <tr style=\"text-align: right;\">\n",
       "      <th></th>\n",
       "      <th>STATISTIC Label</th>\n",
       "      <th>Year</th>\n",
       "      <th>Age Group</th>\n",
       "      <th>Sex</th>\n",
       "      <th>Region</th>\n",
       "      <th>UNIT</th>\n",
       "      <th>VALUE</th>\n",
       "    </tr>\n",
       "  </thead>\n",
       "  <tbody>\n",
       "    <tr>\n",
       "      <th>0</th>\n",
       "      <td>Estimated Population (Persons in April)</td>\n",
       "      <td>2011</td>\n",
       "      <td>0 - 4 years</td>\n",
       "      <td>Both sexes</td>\n",
       "      <td>State</td>\n",
       "      <td>Thousand</td>\n",
       "      <td>356.0</td>\n",
       "    </tr>\n",
       "    <tr>\n",
       "      <th>1</th>\n",
       "      <td>Estimated Population (Persons in April)</td>\n",
       "      <td>2011</td>\n",
       "      <td>0 - 4 years</td>\n",
       "      <td>Both sexes</td>\n",
       "      <td>Border</td>\n",
       "      <td>Thousand</td>\n",
       "      <td>30.7</td>\n",
       "    </tr>\n",
       "    <tr>\n",
       "      <th>2</th>\n",
       "      <td>Estimated Population (Persons in April)</td>\n",
       "      <td>2011</td>\n",
       "      <td>0 - 4 years</td>\n",
       "      <td>Both sexes</td>\n",
       "      <td>West</td>\n",
       "      <td>Thousand</td>\n",
       "      <td>32.6</td>\n",
       "    </tr>\n",
       "    <tr>\n",
       "      <th>3</th>\n",
       "      <td>Estimated Population (Persons in April)</td>\n",
       "      <td>2011</td>\n",
       "      <td>0 - 4 years</td>\n",
       "      <td>Both sexes</td>\n",
       "      <td>Mid-West</td>\n",
       "      <td>Thousand</td>\n",
       "      <td>35.0</td>\n",
       "    </tr>\n",
       "    <tr>\n",
       "      <th>4</th>\n",
       "      <td>Estimated Population (Persons in April)</td>\n",
       "      <td>2011</td>\n",
       "      <td>0 - 4 years</td>\n",
       "      <td>Both sexes</td>\n",
       "      <td>South-East</td>\n",
       "      <td>Thousand</td>\n",
       "      <td>32.0</td>\n",
       "    </tr>\n",
       "  </tbody>\n",
       "</table>\n",
       "</div>"
      ],
      "text/plain": [
       "                           STATISTIC Label  Year    Age Group         Sex  \\\n",
       "0  Estimated Population (Persons in April)  2011  0 - 4 years  Both sexes   \n",
       "1  Estimated Population (Persons in April)  2011  0 - 4 years  Both sexes   \n",
       "2  Estimated Population (Persons in April)  2011  0 - 4 years  Both sexes   \n",
       "3  Estimated Population (Persons in April)  2011  0 - 4 years  Both sexes   \n",
       "4  Estimated Population (Persons in April)  2011  0 - 4 years  Both sexes   \n",
       "\n",
       "       Region      UNIT  VALUE  \n",
       "0       State  Thousand  356.0  \n",
       "1      Border  Thousand   30.7  \n",
       "2        West  Thousand   32.6  \n",
       "3    Mid-West  Thousand   35.0  \n",
       "4  South-East  Thousand   32.0  "
      ]
     },
     "execution_count": 3,
     "metadata": {},
     "output_type": "execute_result"
    }
   ],
   "source": [
    "#creating dataframe for Estimated Population file and validating it\n",
    "df_pop = pd.read_csv(\"PEA04.csv\")\n",
    "df_pop.head()"
   ]
  },
  {
   "cell_type": "code",
   "execution_count": 5,
   "id": "5c9ad81a",
   "metadata": {},
   "outputs": [
    {
     "name": "stdout",
     "output_type": "stream",
     "text": [
      "<class 'pandas.core.frame.DataFrame'>\n",
      "RangeIndex: 6669 entries, 0 to 6668\n",
      "Data columns (total 7 columns):\n",
      " #   Column           Non-Null Count  Dtype  \n",
      "---  ------           --------------  -----  \n",
      " 0   STATISTIC Label  6669 non-null   object \n",
      " 1   Year             6669 non-null   int64  \n",
      " 2   Age Group        6669 non-null   object \n",
      " 3   Sex              6669 non-null   object \n",
      " 4   Region           6669 non-null   object \n",
      " 5   UNIT             6669 non-null   object \n",
      " 6   VALUE            6669 non-null   float64\n",
      "dtypes: float64(1), int64(1), object(5)\n",
      "memory usage: 364.8+ KB\n"
     ]
    }
   ],
   "source": [
    "# checking dataframe short summary: data types, null values, nr of the rows\n",
    "df_pop.info()"
   ]
  },
  {
   "cell_type": "markdown",
   "id": "944c26a6",
   "metadata": {},
   "source": [
    "**Brief Overview**\n",
    "\n",
    "* There is no null values\n",
    "* Field 'Age Group' is irrelevant, so can be removed\n",
    "* Fields 'Year', 'Sex' and 'Region' should be deeply analysed by unique values\n",
    "* Field 'VALUE' should be renamed as 'Estimated population' in order to be used as a defined column in the final DataFrame\n",
    "* Each value from 'VALUE' field should be multiplied by 1000 to have nominal values. Thus field 'UNIT' can be deprecated.\n",
    "\n",
    "\n",
    "\n",
    "remove age groups\n",
    "filter sex\n",
    "aggregate data\n",
    "correlate with FY004B?"
   ]
  },
  {
   "cell_type": "code",
   "execution_count": 54,
   "id": "b29c5586",
   "metadata": {},
   "outputs": [
    {
     "data": {
      "text/plain": [
       "array(['Estimated Population (Persons in April)'], dtype=object)"
      ]
     },
     "execution_count": 54,
     "metadata": {},
     "output_type": "execute_result"
    }
   ],
   "source": [
    "df_pop['STATISTIC Label'].unique()"
   ]
  },
  {
   "cell_type": "code",
   "execution_count": 6,
   "id": "0c82fea0",
   "metadata": {},
   "outputs": [
    {
     "data": {
      "text/plain": [
       "array([2011, 2012, 2013, 2014, 2015, 2016, 2017, 2018, 2019, 2020, 2021,\n",
       "       2022, 2023], dtype=int64)"
      ]
     },
     "execution_count": 6,
     "metadata": {},
     "output_type": "execute_result"
    }
   ],
   "source": [
    "df_pop.Year.unique()"
   ]
  },
  {
   "cell_type": "code",
   "execution_count": 7,
   "id": "e41f6d5b",
   "metadata": {},
   "outputs": [
    {
     "data": {
      "text/plain": [
       "array(['Both sexes', 'Male', 'Female'], dtype=object)"
      ]
     },
     "execution_count": 7,
     "metadata": {},
     "output_type": "execute_result"
    }
   ],
   "source": [
    "df_pop.Sex.unique()"
   ]
  },
  {
   "cell_type": "code",
   "execution_count": 8,
   "id": "cc7aeadb",
   "metadata": {
    "scrolled": true
   },
   "outputs": [
    {
     "data": {
      "text/plain": [
       "array(['State', 'Border', 'West', 'Mid-West', 'South-East', 'South-West',\n",
       "       'Dublin', 'Mid-East', 'Midland'], dtype=object)"
      ]
     },
     "execution_count": 8,
     "metadata": {},
     "output_type": "execute_result"
    }
   ],
   "source": [
    "df_pop.Region.unique()"
   ]
  },
  {
   "cell_type": "markdown",
   "id": "a8990e53",
   "metadata": {},
   "source": [
    "**Additional overview**\n",
    "* 'STATISTIC Label' column has only 1 unique value\n",
    "* We have fill data for 2011-2023 years about the estimated population\n",
    "* For the 'Sex' field only \"Both Sexes\" values will be used as relevant. Splitting by 'Male'/'Female' doesn't have any bias as any person can have internet access regardless of their sex or gender identity.\n",
    "* In the 'Region' field we have 8 big regions and \"State\" reflecting all country data. For better clarity \"State\" will be renamed in \"Ireland\", and according to official name \"Midland\" should be renamed in \"Midlands\".  "
   ]
  },
  {
   "cell_type": "code",
   "execution_count": 45,
   "id": "3404c088",
   "metadata": {},
   "outputs": [
    {
     "data": {
      "text/html": [
       "<div>\n",
       "<style scoped>\n",
       "    .dataframe tbody tr th:only-of-type {\n",
       "        vertical-align: middle;\n",
       "    }\n",
       "\n",
       "    .dataframe tbody tr th {\n",
       "        vertical-align: top;\n",
       "    }\n",
       "\n",
       "    .dataframe thead th {\n",
       "        text-align: right;\n",
       "    }\n",
       "</style>\n",
       "<table border=\"1\" class=\"dataframe\">\n",
       "  <thead>\n",
       "    <tr style=\"text-align: right;\">\n",
       "      <th>Year</th>\n",
       "      <th>2011</th>\n",
       "      <th>2012</th>\n",
       "      <th>2013</th>\n",
       "      <th>2014</th>\n",
       "      <th>2015</th>\n",
       "      <th>2016</th>\n",
       "      <th>2017</th>\n",
       "      <th>2018</th>\n",
       "      <th>2019</th>\n",
       "      <th>2020</th>\n",
       "      <th>2021</th>\n",
       "      <th>2022</th>\n",
       "      <th>2023</th>\n",
       "    </tr>\n",
       "    <tr>\n",
       "      <th>Region</th>\n",
       "      <th></th>\n",
       "      <th></th>\n",
       "      <th></th>\n",
       "      <th></th>\n",
       "      <th></th>\n",
       "      <th></th>\n",
       "      <th></th>\n",
       "      <th></th>\n",
       "      <th></th>\n",
       "      <th></th>\n",
       "      <th></th>\n",
       "      <th></th>\n",
       "      <th></th>\n",
       "    </tr>\n",
       "  </thead>\n",
       "  <tbody>\n",
       "    <tr>\n",
       "      <th>Border</th>\n",
       "      <td>784.0</td>\n",
       "      <td>784.2</td>\n",
       "      <td>786.2</td>\n",
       "      <td>784.1</td>\n",
       "      <td>783.8</td>\n",
       "      <td>786.7</td>\n",
       "      <td>800.4</td>\n",
       "      <td>811.5</td>\n",
       "      <td>820.2</td>\n",
       "      <td>824.2</td>\n",
       "      <td>834.1</td>\n",
       "      <td>844.5</td>\n",
       "      <td>864.3</td>\n",
       "    </tr>\n",
       "    <tr>\n",
       "      <th>Dublin</th>\n",
       "      <td>2523.0</td>\n",
       "      <td>2521.3</td>\n",
       "      <td>2531.7</td>\n",
       "      <td>2572.8</td>\n",
       "      <td>2630.6</td>\n",
       "      <td>2671.9</td>\n",
       "      <td>2702.9</td>\n",
       "      <td>2746.2</td>\n",
       "      <td>2797.8</td>\n",
       "      <td>2844.9</td>\n",
       "      <td>2869.4</td>\n",
       "      <td>2936.6</td>\n",
       "      <td>3003.0</td>\n",
       "    </tr>\n",
       "    <tr>\n",
       "      <th>Mid-East</th>\n",
       "      <td>1314.9</td>\n",
       "      <td>1329.3</td>\n",
       "      <td>1332.9</td>\n",
       "      <td>1342.8</td>\n",
       "      <td>1358.6</td>\n",
       "      <td>1381.9</td>\n",
       "      <td>1411.9</td>\n",
       "      <td>1438.6</td>\n",
       "      <td>1463.8</td>\n",
       "      <td>1494.7</td>\n",
       "      <td>1510.5</td>\n",
       "      <td>1547.8</td>\n",
       "      <td>1554.2</td>\n",
       "    </tr>\n",
       "    <tr>\n",
       "      <th>Mid-West</th>\n",
       "      <td>933.6</td>\n",
       "      <td>941.3</td>\n",
       "      <td>941.6</td>\n",
       "      <td>943.6</td>\n",
       "      <td>946.7</td>\n",
       "      <td>945.2</td>\n",
       "      <td>960.4</td>\n",
       "      <td>977.8</td>\n",
       "      <td>986.8</td>\n",
       "      <td>995.8</td>\n",
       "      <td>999.2</td>\n",
       "      <td>1017.5</td>\n",
       "      <td>1039.1</td>\n",
       "    </tr>\n",
       "    <tr>\n",
       "      <th>Midland</th>\n",
       "      <td>567.6</td>\n",
       "      <td>574.1</td>\n",
       "      <td>578.6</td>\n",
       "      <td>579.6</td>\n",
       "      <td>582.3</td>\n",
       "      <td>586.8</td>\n",
       "      <td>598.4</td>\n",
       "      <td>609.5</td>\n",
       "      <td>618.0</td>\n",
       "      <td>619.8</td>\n",
       "      <td>628.2</td>\n",
       "      <td>640.6</td>\n",
       "      <td>649.0</td>\n",
       "    </tr>\n",
       "    <tr>\n",
       "      <th>South-East</th>\n",
       "      <td>820.6</td>\n",
       "      <td>823.2</td>\n",
       "      <td>827.6</td>\n",
       "      <td>826.9</td>\n",
       "      <td>831.2</td>\n",
       "      <td>842.2</td>\n",
       "      <td>853.0</td>\n",
       "      <td>863.0</td>\n",
       "      <td>880.3</td>\n",
       "      <td>890.0</td>\n",
       "      <td>902.3</td>\n",
       "      <td>921.4</td>\n",
       "      <td>937.3</td>\n",
       "    </tr>\n",
       "    <tr>\n",
       "      <th>South-West</th>\n",
       "      <td>1324.6</td>\n",
       "      <td>1334.7</td>\n",
       "      <td>1347.8</td>\n",
       "      <td>1358.9</td>\n",
       "      <td>1357.8</td>\n",
       "      <td>1369.9</td>\n",
       "      <td>1388.1</td>\n",
       "      <td>1405.9</td>\n",
       "      <td>1421.1</td>\n",
       "      <td>1446.5</td>\n",
       "      <td>1454.7</td>\n",
       "      <td>1486.0</td>\n",
       "      <td>1514.8</td>\n",
       "    </tr>\n",
       "    <tr>\n",
       "      <th>State</th>\n",
       "      <td>9149.7</td>\n",
       "      <td>9187.3</td>\n",
       "      <td>9229.3</td>\n",
       "      <td>9291.0</td>\n",
       "      <td>9375.6</td>\n",
       "      <td>9479.4</td>\n",
       "      <td>9621.8</td>\n",
       "      <td>9769.8</td>\n",
       "      <td>9917.0</td>\n",
       "      <td>10059.7</td>\n",
       "      <td>10149.4</td>\n",
       "      <td>10367.9</td>\n",
       "      <td>10563.2</td>\n",
       "    </tr>\n",
       "    <tr>\n",
       "      <th>West</th>\n",
       "      <td>881.6</td>\n",
       "      <td>878.7</td>\n",
       "      <td>883.4</td>\n",
       "      <td>882.3</td>\n",
       "      <td>884.5</td>\n",
       "      <td>895.1</td>\n",
       "      <td>906.5</td>\n",
       "      <td>917.5</td>\n",
       "      <td>929.4</td>\n",
       "      <td>944.4</td>\n",
       "      <td>951.0</td>\n",
       "      <td>973.2</td>\n",
       "      <td>1001.6</td>\n",
       "    </tr>\n",
       "  </tbody>\n",
       "</table>\n",
       "</div>"
      ],
      "text/plain": [
       "Year          2011    2012    2013    2014    2015    2016    2017    2018  \\\n",
       "Region                                                                       \n",
       "Border       784.0   784.2   786.2   784.1   783.8   786.7   800.4   811.5   \n",
       "Dublin      2523.0  2521.3  2531.7  2572.8  2630.6  2671.9  2702.9  2746.2   \n",
       "Mid-East    1314.9  1329.3  1332.9  1342.8  1358.6  1381.9  1411.9  1438.6   \n",
       "Mid-West     933.6   941.3   941.6   943.6   946.7   945.2   960.4   977.8   \n",
       "Midland      567.6   574.1   578.6   579.6   582.3   586.8   598.4   609.5   \n",
       "South-East   820.6   823.2   827.6   826.9   831.2   842.2   853.0   863.0   \n",
       "South-West  1324.6  1334.7  1347.8  1358.9  1357.8  1369.9  1388.1  1405.9   \n",
       "State       9149.7  9187.3  9229.3  9291.0  9375.6  9479.4  9621.8  9769.8   \n",
       "West         881.6   878.7   883.4   882.3   884.5   895.1   906.5   917.5   \n",
       "\n",
       "Year          2019     2020     2021     2022     2023  \n",
       "Region                                                  \n",
       "Border       820.2    824.2    834.1    844.5    864.3  \n",
       "Dublin      2797.8   2844.9   2869.4   2936.6   3003.0  \n",
       "Mid-East    1463.8   1494.7   1510.5   1547.8   1554.2  \n",
       "Mid-West     986.8    995.8    999.2   1017.5   1039.1  \n",
       "Midland      618.0    619.8    628.2    640.6    649.0  \n",
       "South-East   880.3    890.0    902.3    921.4    937.3  \n",
       "South-West  1421.1   1446.5   1454.7   1486.0   1514.8  \n",
       "State       9917.0  10059.7  10149.4  10367.9  10563.2  \n",
       "West         929.4    944.4    951.0    973.2   1001.6  "
      ]
     },
     "execution_count": 45,
     "metadata": {},
     "output_type": "execute_result"
    }
   ],
   "source": [
    "# Plot a histogram of population changings year by year for the whole coutry \n",
    "\n",
    "filtered_df = df_pop.query('Sex == \"Both sexes\"')\n",
    "\n",
    "# Create a pivot table with Year as columns, Region as rows, and Value as values\n",
    "pivot1 = filtered_df.pivot_table(values='VALUE', index='Region', columns='Year', aggfunc=\"sum\", fill_value=0)\n",
    "pivot1"
   ]
  },
  {
   "cell_type": "markdown",
   "id": "3455539e",
   "metadata": {},
   "source": [
    "# PLOT a graph?"
   ]
  },
  {
   "cell_type": "markdown",
   "id": "2b854e83",
   "metadata": {},
   "source": [
    "# Households with Internet access \n",
    "# Overview of 3 files in bulk"
   ]
  },
  {
   "cell_type": "code",
   "execution_count": 81,
   "id": "13ff2bbd",
   "metadata": {},
   "outputs": [
    {
     "data": {
      "text/html": [
       "<div>\n",
       "<style scoped>\n",
       "    .dataframe tbody tr th:only-of-type {\n",
       "        vertical-align: middle;\n",
       "    }\n",
       "\n",
       "    .dataframe tbody tr th {\n",
       "        vertical-align: top;\n",
       "    }\n",
       "\n",
       "    .dataframe thead th {\n",
       "        text-align: right;\n",
       "    }\n",
       "</style>\n",
       "<table border=\"1\" class=\"dataframe\">\n",
       "  <thead>\n",
       "    <tr style=\"text-align: right;\">\n",
       "      <th></th>\n",
       "      <th>Statistic Label</th>\n",
       "      <th>Census Year</th>\n",
       "      <th>Internet</th>\n",
       "      <th>County</th>\n",
       "      <th>UNIT</th>\n",
       "      <th>VALUE</th>\n",
       "    </tr>\n",
       "  </thead>\n",
       "  <tbody>\n",
       "    <tr>\n",
       "      <th>0</th>\n",
       "      <td>Households with Internet access</td>\n",
       "      <td>2011</td>\n",
       "      <td>Broadband</td>\n",
       "      <td>Carlow County</td>\n",
       "      <td>Number</td>\n",
       "      <td>11158</td>\n",
       "    </tr>\n",
       "    <tr>\n",
       "      <th>1</th>\n",
       "      <td>Households with Internet access</td>\n",
       "      <td>2011</td>\n",
       "      <td>Broadband</td>\n",
       "      <td>Dublin City</td>\n",
       "      <td>Number</td>\n",
       "      <td>137669</td>\n",
       "    </tr>\n",
       "    <tr>\n",
       "      <th>2</th>\n",
       "      <td>Households with Internet access</td>\n",
       "      <td>2011</td>\n",
       "      <td>Broadband</td>\n",
       "      <td>South Dublin</td>\n",
       "      <td>Number</td>\n",
       "      <td>68306</td>\n",
       "    </tr>\n",
       "    <tr>\n",
       "      <th>3</th>\n",
       "      <td>Households with Internet access</td>\n",
       "      <td>2011</td>\n",
       "      <td>Broadband</td>\n",
       "      <td>Fingal</td>\n",
       "      <td>Number</td>\n",
       "      <td>73868</td>\n",
       "    </tr>\n",
       "    <tr>\n",
       "      <th>4</th>\n",
       "      <td>Households with Internet access</td>\n",
       "      <td>2011</td>\n",
       "      <td>Broadband</td>\n",
       "      <td>Dún Laoghaire-Rathdown</td>\n",
       "      <td>Number</td>\n",
       "      <td>59750</td>\n",
       "    </tr>\n",
       "  </tbody>\n",
       "</table>\n",
       "</div>"
      ],
      "text/plain": [
       "                   Statistic Label  Census Year   Internet  \\\n",
       "0  Households with Internet access         2011  Broadband   \n",
       "1  Households with Internet access         2011  Broadband   \n",
       "2  Households with Internet access         2011  Broadband   \n",
       "3  Households with Internet access         2011  Broadband   \n",
       "4  Households with Internet access         2011  Broadband   \n",
       "\n",
       "                   County    UNIT   VALUE  \n",
       "0           Carlow County  Number   11158  \n",
       "1             Dublin City  Number  137669  \n",
       "2            South Dublin  Number   68306  \n",
       "3                  Fingal  Number   73868  \n",
       "4  Dún Laoghaire-Rathdown  Number   59750  "
      ]
     },
     "execution_count": 81,
     "metadata": {},
     "output_type": "execute_result"
    }
   ],
   "source": [
    "#creating dataframe for SAP2011 file and validating it\n",
    "\n",
    "df_it11 = pd.read_csv(\"SAP2011.csv\")\n",
    "df_it11.head()"
   ]
  },
  {
   "cell_type": "code",
   "execution_count": 62,
   "id": "fcc719f7",
   "metadata": {},
   "outputs": [
    {
     "name": "stdout",
     "output_type": "stream",
     "text": [
      "<class 'pandas.core.frame.DataFrame'>\n",
      "RangeIndex: 170 entries, 0 to 169\n",
      "Data columns (total 6 columns):\n",
      " #   Column           Non-Null Count  Dtype \n",
      "---  ------           --------------  ----- \n",
      " 0   Statistic Label  170 non-null    object\n",
      " 1   Census Year      170 non-null    int64 \n",
      " 2   Internet         170 non-null    object\n",
      " 3   County           170 non-null    object\n",
      " 4   UNIT             170 non-null    object\n",
      " 5   VALUE            170 non-null    int64 \n",
      "dtypes: int64(2), object(4)\n",
      "memory usage: 8.1+ KB\n"
     ]
    }
   ],
   "source": [
    "# checking dataframe short summary: data types, null values, nr of the rows\n",
    "\n",
    "df_it11.info()"
   ]
  },
  {
   "cell_type": "code",
   "execution_count": 42,
   "id": "7fa4867c",
   "metadata": {
    "scrolled": true
   },
   "outputs": [
    {
     "data": {
      "text/html": [
       "<div>\n",
       "<style scoped>\n",
       "    .dataframe tbody tr th:only-of-type {\n",
       "        vertical-align: middle;\n",
       "    }\n",
       "\n",
       "    .dataframe tbody tr th {\n",
       "        vertical-align: top;\n",
       "    }\n",
       "\n",
       "    .dataframe thead th {\n",
       "        text-align: right;\n",
       "    }\n",
       "</style>\n",
       "<table border=\"1\" class=\"dataframe\">\n",
       "  <thead>\n",
       "    <tr style=\"text-align: right;\">\n",
       "      <th></th>\n",
       "      <th>Statistic Label</th>\n",
       "      <th>Census Year</th>\n",
       "      <th>County</th>\n",
       "      <th>Internet</th>\n",
       "      <th>UNIT</th>\n",
       "      <th>VALUE</th>\n",
       "    </tr>\n",
       "  </thead>\n",
       "  <tbody>\n",
       "    <tr>\n",
       "      <th>0</th>\n",
       "      <td>Households with Internet access</td>\n",
       "      <td>2016</td>\n",
       "      <td>Carlow</td>\n",
       "      <td>Broadband</td>\n",
       "      <td>Number</td>\n",
       "      <td>13539</td>\n",
       "    </tr>\n",
       "    <tr>\n",
       "      <th>1</th>\n",
       "      <td>Households with Internet access</td>\n",
       "      <td>2016</td>\n",
       "      <td>Carlow</td>\n",
       "      <td>Other</td>\n",
       "      <td>Number</td>\n",
       "      <td>1852</td>\n",
       "    </tr>\n",
       "    <tr>\n",
       "      <th>2</th>\n",
       "      <td>Households with Internet access</td>\n",
       "      <td>2016</td>\n",
       "      <td>Carlow</td>\n",
       "      <td>No</td>\n",
       "      <td>Number</td>\n",
       "      <td>4432</td>\n",
       "    </tr>\n",
       "    <tr>\n",
       "      <th>3</th>\n",
       "      <td>Households with Internet access</td>\n",
       "      <td>2016</td>\n",
       "      <td>Carlow</td>\n",
       "      <td>Not Stated</td>\n",
       "      <td>Number</td>\n",
       "      <td>642</td>\n",
       "    </tr>\n",
       "    <tr>\n",
       "      <th>4</th>\n",
       "      <td>Households with Internet access</td>\n",
       "      <td>2016</td>\n",
       "      <td>Carlow</td>\n",
       "      <td>Total</td>\n",
       "      <td>Number</td>\n",
       "      <td>20465</td>\n",
       "    </tr>\n",
       "  </tbody>\n",
       "</table>\n",
       "</div>"
      ],
      "text/plain": [
       "                   Statistic Label  Census Year  County    Internet    UNIT  \\\n",
       "0  Households with Internet access         2016  Carlow   Broadband  Number   \n",
       "1  Households with Internet access         2016  Carlow       Other  Number   \n",
       "2  Households with Internet access         2016  Carlow          No  Number   \n",
       "3  Households with Internet access         2016  Carlow  Not Stated  Number   \n",
       "4  Households with Internet access         2016  Carlow       Total  Number   \n",
       "\n",
       "   VALUE  \n",
       "0  13539  \n",
       "1   1852  \n",
       "2   4432  \n",
       "3    642  \n",
       "4  20465  "
      ]
     },
     "execution_count": 42,
     "metadata": {},
     "output_type": "execute_result"
    }
   ],
   "source": [
    "#creating dataframe for SAP2011 file and validating it\n",
    "\n",
    "df_it16 = pd.read_csv(\"SAP2016.csv\")\n",
    "df_it16.head()"
   ]
  },
  {
   "cell_type": "code",
   "execution_count": 63,
   "id": "891eaade",
   "metadata": {},
   "outputs": [
    {
     "name": "stdout",
     "output_type": "stream",
     "text": [
      "<class 'pandas.core.frame.DataFrame'>\n",
      "RangeIndex: 155 entries, 0 to 154\n",
      "Data columns (total 6 columns):\n",
      " #   Column           Non-Null Count  Dtype \n",
      "---  ------           --------------  ----- \n",
      " 0   Statistic Label  155 non-null    object\n",
      " 1   Census Year      155 non-null    int64 \n",
      " 2   County           155 non-null    object\n",
      " 3   Internet         155 non-null    object\n",
      " 4   UNIT             155 non-null    object\n",
      " 5   VALUE            155 non-null    int64 \n",
      "dtypes: int64(2), object(4)\n",
      "memory usage: 7.4+ KB\n"
     ]
    }
   ],
   "source": [
    "# checking dataframe short summary: data types, null values, nr of the rows\n",
    "\n",
    "df_it16.info()"
   ]
  },
  {
   "cell_type": "code",
   "execution_count": 43,
   "id": "05902248",
   "metadata": {
    "scrolled": false
   },
   "outputs": [
    {
     "data": {
      "text/html": [
       "<div>\n",
       "<style scoped>\n",
       "    .dataframe tbody tr th:only-of-type {\n",
       "        vertical-align: middle;\n",
       "    }\n",
       "\n",
       "    .dataframe tbody tr th {\n",
       "        vertical-align: top;\n",
       "    }\n",
       "\n",
       "    .dataframe thead th {\n",
       "        text-align: right;\n",
       "    }\n",
       "</style>\n",
       "<table border=\"1\" class=\"dataframe\">\n",
       "  <thead>\n",
       "    <tr style=\"text-align: right;\">\n",
       "      <th></th>\n",
       "      <th>Statistic Label</th>\n",
       "      <th>Census Year</th>\n",
       "      <th>Internet</th>\n",
       "      <th>NUTS 3 Region</th>\n",
       "      <th>UNIT</th>\n",
       "      <th>VALUE</th>\n",
       "    </tr>\n",
       "  </thead>\n",
       "  <tbody>\n",
       "    <tr>\n",
       "      <th>0</th>\n",
       "      <td>Households with Internet access</td>\n",
       "      <td>2022</td>\n",
       "      <td>Broadband</td>\n",
       "      <td>Ireland</td>\n",
       "      <td>Number</td>\n",
       "      <td>1457883</td>\n",
       "    </tr>\n",
       "    <tr>\n",
       "      <th>1</th>\n",
       "      <td>Households with Internet access</td>\n",
       "      <td>2022</td>\n",
       "      <td>Broadband</td>\n",
       "      <td>Border</td>\n",
       "      <td>Number</td>\n",
       "      <td>116928</td>\n",
       "    </tr>\n",
       "    <tr>\n",
       "      <th>2</th>\n",
       "      <td>Households with Internet access</td>\n",
       "      <td>2022</td>\n",
       "      <td>Broadband</td>\n",
       "      <td>West</td>\n",
       "      <td>Number</td>\n",
       "      <td>134086</td>\n",
       "    </tr>\n",
       "    <tr>\n",
       "      <th>3</th>\n",
       "      <td>Households with Internet access</td>\n",
       "      <td>2022</td>\n",
       "      <td>Broadband</td>\n",
       "      <td>Mid-West</td>\n",
       "      <td>Number</td>\n",
       "      <td>137622</td>\n",
       "    </tr>\n",
       "    <tr>\n",
       "      <th>4</th>\n",
       "      <td>Households with Internet access</td>\n",
       "      <td>2022</td>\n",
       "      <td>Broadband</td>\n",
       "      <td>South-East</td>\n",
       "      <td>Number</td>\n",
       "      <td>124415</td>\n",
       "    </tr>\n",
       "  </tbody>\n",
       "</table>\n",
       "</div>"
      ],
      "text/plain": [
       "                   Statistic Label  Census Year   Internet NUTS 3 Region  \\\n",
       "0  Households with Internet access         2022  Broadband       Ireland   \n",
       "1  Households with Internet access         2022  Broadband        Border   \n",
       "2  Households with Internet access         2022  Broadband          West   \n",
       "3  Households with Internet access         2022  Broadband      Mid-West   \n",
       "4  Households with Internet access         2022  Broadband    South-East   \n",
       "\n",
       "     UNIT    VALUE  \n",
       "0  Number  1457883  \n",
       "1  Number   116928  \n",
       "2  Number   134086  \n",
       "3  Number   137622  \n",
       "4  Number   124415  "
      ]
     },
     "execution_count": 43,
     "metadata": {},
     "output_type": "execute_result"
    }
   ],
   "source": [
    "#creating dataframe for SAP2011 file and validating it\n",
    "\n",
    "df_it22 = pd.read_csv(\"SAP2022.csv\")\n",
    "df_it22.head()"
   ]
  },
  {
   "cell_type": "code",
   "execution_count": 64,
   "id": "eb5533ef",
   "metadata": {},
   "outputs": [
    {
     "name": "stdout",
     "output_type": "stream",
     "text": [
      "<class 'pandas.core.frame.DataFrame'>\n",
      "RangeIndex: 45 entries, 0 to 44\n",
      "Data columns (total 6 columns):\n",
      " #   Column           Non-Null Count  Dtype \n",
      "---  ------           --------------  ----- \n",
      " 0   Statistic Label  45 non-null     object\n",
      " 1   Census Year      45 non-null     int64 \n",
      " 2   Internet         45 non-null     object\n",
      " 3   NUTS 3 Region    45 non-null     object\n",
      " 4   UNIT             45 non-null     object\n",
      " 5   VALUE            45 non-null     int64 \n",
      "dtypes: int64(2), object(4)\n",
      "memory usage: 2.2+ KB\n"
     ]
    }
   ],
   "source": [
    "# checking dataframe short summary: data types, null values, nr of the rows\n",
    "\n",
    "df_it22.info()"
   ]
  },
  {
   "cell_type": "markdown",
   "id": "cc625d3e",
   "metadata": {},
   "source": [
    "**Brief overview**\n",
    "\n",
    "* All 3 files have same structure: 2 integer fileds and 4 fileds with object type data.\n",
    "* in the SAP2016 columns 'County' and 'Internet' are in different order. This would need to be changed.\n",
    "* Column 'VALUE' will be renamed in 'Households with Internet access', in order to be used as a defined column in the final DataFrame\n",
    "* SAP2022 uses NUTS3 regions, and other 2 files uses counties. For all 3 files column with counties and regions needs to be analysed with more attention and to find a strategy to be unified. "
   ]
  },
  {
   "cell_type": "code",
   "execution_count": 56,
   "id": "7439c169",
   "metadata": {
    "scrolled": true
   },
   "outputs": [
    {
     "data": {
      "text/plain": [
       "array(['Households with Internet access'], dtype=object)"
      ]
     },
     "execution_count": 56,
     "metadata": {},
     "output_type": "execute_result"
    }
   ],
   "source": [
    "#analysing unique value in the 'Statistic Label' field for all 3 files, \n",
    "#in order to make sure that we have stats only for \"Households with Internet access\"\n",
    "\n",
    "#2011\n",
    "\n",
    "df_it11['Statistic Label'].unique()"
   ]
  },
  {
   "cell_type": "code",
   "execution_count": 74,
   "id": "08feec4d",
   "metadata": {},
   "outputs": [
    {
     "data": {
      "text/plain": [
       "array(['Broadband', 'Other', 'No', 'Not Stated', 'Total'], dtype=object)"
      ]
     },
     "execution_count": 74,
     "metadata": {},
     "output_type": "execute_result"
    }
   ],
   "source": [
    "df_it11['Internet'].unique()"
   ]
  },
  {
   "cell_type": "code",
   "execution_count": 57,
   "id": "f74f6558",
   "metadata": {},
   "outputs": [
    {
     "data": {
      "text/plain": [
       "array(['Households with Internet access'], dtype=object)"
      ]
     },
     "execution_count": 57,
     "metadata": {},
     "output_type": "execute_result"
    }
   ],
   "source": [
    "#2016\n",
    "\n",
    "df_it16['Statistic Label'].unique()"
   ]
  },
  {
   "cell_type": "code",
   "execution_count": 75,
   "id": "0ba0ce00",
   "metadata": {},
   "outputs": [
    {
     "data": {
      "text/plain": [
       "array(['Broadband', 'Other', 'No', 'Not Stated', 'Total'], dtype=object)"
      ]
     },
     "execution_count": 75,
     "metadata": {},
     "output_type": "execute_result"
    }
   ],
   "source": [
    "df_it16['Internet'].unique()"
   ]
  },
  {
   "cell_type": "code",
   "execution_count": 59,
   "id": "9bf5810a",
   "metadata": {},
   "outputs": [
    {
     "data": {
      "text/plain": [
       "array(['Households with Internet access'], dtype=object)"
      ]
     },
     "execution_count": 59,
     "metadata": {},
     "output_type": "execute_result"
    }
   ],
   "source": [
    "#2022\n",
    "\n",
    "df_it22['Statistic Label'].unique()"
   ]
  },
  {
   "cell_type": "code",
   "execution_count": 76,
   "id": "13159f11",
   "metadata": {},
   "outputs": [
    {
     "data": {
      "text/plain": [
       "array(['Broadband', 'No', 'Not stated', 'Other', 'Total'], dtype=object)"
      ]
     },
     "execution_count": 76,
     "metadata": {},
     "output_type": "execute_result"
    }
   ],
   "source": [
    "df_it22['Internet'].unique()"
   ]
  },
  {
   "cell_type": "markdown",
   "id": "678234f4",
   "metadata": {},
   "source": [
    "**Additional overview**\n",
    "* Column 'Statistic Label' has only 1 value for all 3 files, so there is no need for changes\n",
    "* Column 'Internet' contain 'Total' value, that will create a duplication in the numbers in case of any aggregation, so all rows with 'Total' value need to be removed.\n",
    "* We have 'Broadband' and 'Other' values for those who have Internet Access, so as a furute potential aggregation for these values can be 'Yes' as an opposite to those households without access.\n",
    "* 'Not Stated' value is an undefined field, that would need a separate deeper analysis."
   ]
  },
  {
   "cell_type": "code",
   "execution_count": 65,
   "id": "0f176eee",
   "metadata": {
    "scrolled": true
   },
   "outputs": [
    {
     "data": {
      "text/plain": [
       "array(['Carlow County', 'Dublin City', 'South Dublin', 'Fingal',\n",
       "       'Dún Laoghaire-Rathdown', 'Kildare County', 'Kilkenny County',\n",
       "       'Laois County', 'Longford County', 'Louth County', 'Meath County',\n",
       "       'Offaly County', 'Westmeath County', 'Wexford County',\n",
       "       'Wicklow County', 'Clare County', 'Cork City', 'Cork County',\n",
       "       'Kerry County', 'Limerick City', 'Limerick County',\n",
       "       'North Tipperary', 'South Tipperary', 'Waterford City',\n",
       "       'Waterford County', 'Galway City', 'Galway County',\n",
       "       'Leitrim County', 'Mayo County', 'Roscommon County',\n",
       "       'Sligo County', 'Cavan County', 'Donegal County',\n",
       "       'Monaghan County'], dtype=object)"
      ]
     },
     "execution_count": 65,
     "metadata": {},
     "output_type": "execute_result"
    }
   ],
   "source": [
    "#analysing regions and counties\n",
    "\n",
    "#2011\n",
    "\n",
    "df_it11.County.unique()"
   ]
  },
  {
   "cell_type": "code",
   "execution_count": 66,
   "id": "3b51a4cf",
   "metadata": {},
   "outputs": [
    {
     "data": {
      "text/plain": [
       "array(['Carlow', 'Cavan', 'Clare', 'Cork City', 'Cork County', 'Donegal',\n",
       "       'Dublin City', 'Dún Laoghaire-Rathdown', 'Fingal', 'Galway City',\n",
       "       'Galway County', 'Kerry', 'Kildare', 'Kilkenny', 'Laois',\n",
       "       'Leitrim', 'Limerick City and County', 'Longford', 'Louth', 'Mayo',\n",
       "       'Meath', 'Monaghan', 'Offaly', 'Roscommon', 'Sligo',\n",
       "       'South Dublin', 'Tipperary', 'Waterford City and County',\n",
       "       'Westmeath', 'Wexford', 'Wicklow'], dtype=object)"
      ]
     },
     "execution_count": 66,
     "metadata": {},
     "output_type": "execute_result"
    }
   ],
   "source": [
    "#2016\n",
    "\n",
    "df_it16.County.unique()"
   ]
  },
  {
   "cell_type": "code",
   "execution_count": 68,
   "id": "847a9055",
   "metadata": {},
   "outputs": [
    {
     "data": {
      "text/plain": [
       "array(['Ireland', 'Border', 'West', 'Mid-West', 'South-East',\n",
       "       'South-West', 'Dublin', 'Mid-East', 'Midlands'], dtype=object)"
      ]
     },
     "execution_count": 68,
     "metadata": {},
     "output_type": "execute_result"
    }
   ],
   "source": [
    "#2022\n",
    "\n",
    "df_it22['NUTS 3 Region'].unique()"
   ]
  },
  {
   "cell_type": "markdown",
   "id": "0a0ad2ce",
   "metadata": {},
   "source": [
    "**Additional overview**\n",
    "\n",
    "* In the SAP2022 we have aggregated regions, as well as in file with Estimated Population, so there will be no changes for values in this column, except the name. Column 'NUTS 3 Region' will be renamed in \"Region\"\n",
    "* In order to unify counties in the files SAP2011 and SAP2016, following steps will be applied:\n",
    "  1. removing all excessive words as \"City\", \"County\", \"City and County\" and spaces (if needed)\n",
    "  2. new column \"Region\" will be created and each row will have appropriate according value.\n",
    "  3. Values from \"County\" column will be replaced with values from \"Region\" column.\n",
    "  4. Column \"Region\" will be removed\n",
    "  5. Column \"County\" will be renamed in \"Region\"\n",
    "  \n",
    "Thus we will have 3 files with identical structure and unified values.\n",
    "Last step will be to aggregate all 3 files in 1 dataframe"
   ]
  },
  {
   "cell_type": "markdown",
   "id": "39db4b95",
   "metadata": {},
   "source": [
    "# Irish Regions file overview"
   ]
  },
  {
   "cell_type": "code",
   "execution_count": 70,
   "id": "db83b7f2",
   "metadata": {
    "scrolled": false
   },
   "outputs": [
    {
     "data": {
      "text/html": [
       "<div>\n",
       "<style scoped>\n",
       "    .dataframe tbody tr th:only-of-type {\n",
       "        vertical-align: middle;\n",
       "    }\n",
       "\n",
       "    .dataframe tbody tr th {\n",
       "        vertical-align: top;\n",
       "    }\n",
       "\n",
       "    .dataframe thead th {\n",
       "        text-align: right;\n",
       "    }\n",
       "</style>\n",
       "<table border=\"1\" class=\"dataframe\">\n",
       "  <thead>\n",
       "    <tr style=\"text-align: right;\">\n",
       "      <th></th>\n",
       "      <th>Name of region</th>\n",
       "      <th>Constituent counties</th>\n",
       "      <th>Type of area</th>\n",
       "    </tr>\n",
       "  </thead>\n",
       "  <tbody>\n",
       "    <tr>\n",
       "      <th>0</th>\n",
       "      <td>Border</td>\n",
       "      <td>Cavan</td>\n",
       "      <td>Administrative county</td>\n",
       "    </tr>\n",
       "    <tr>\n",
       "      <th>1</th>\n",
       "      <td>NaN</td>\n",
       "      <td>Donegal</td>\n",
       "      <td>Administrative county</td>\n",
       "    </tr>\n",
       "    <tr>\n",
       "      <th>2</th>\n",
       "      <td>NaN</td>\n",
       "      <td>Leitrim</td>\n",
       "      <td>Administrative county</td>\n",
       "    </tr>\n",
       "    <tr>\n",
       "      <th>3</th>\n",
       "      <td>NaN</td>\n",
       "      <td>Louth</td>\n",
       "      <td>Administrative county</td>\n",
       "    </tr>\n",
       "    <tr>\n",
       "      <th>4</th>\n",
       "      <td>NaN</td>\n",
       "      <td>Monaghan</td>\n",
       "      <td>Administrative county</td>\n",
       "    </tr>\n",
       "  </tbody>\n",
       "</table>\n",
       "</div>"
      ],
      "text/plain": [
       "  Name of region  Constituent counties           Type of area\n",
       "0          Border                Cavan  Administrative county\n",
       "1             NaN              Donegal  Administrative county\n",
       "2             NaN              Leitrim  Administrative county\n",
       "3             NaN                Louth  Administrative county\n",
       "4             NaN             Monaghan  Administrative county"
      ]
     },
     "execution_count": 70,
     "metadata": {},
     "output_type": "execute_result"
    }
   ],
   "source": [
    "df_reg = pd.read_csv(\"Regions.csv\")\n",
    "df_reg.head()"
   ]
  },
  {
   "cell_type": "code",
   "execution_count": 71,
   "id": "ee8db847",
   "metadata": {},
   "outputs": [
    {
     "name": "stdout",
     "output_type": "stream",
     "text": [
      "<class 'pandas.core.frame.DataFrame'>\n",
      "RangeIndex: 42 entries, 0 to 41\n",
      "Data columns (total 3 columns):\n",
      " #   Column                Non-Null Count  Dtype \n",
      "---  ------                --------------  ----- \n",
      " 0   Name of region        8 non-null      object\n",
      " 1   Constituent counties  35 non-null     object\n",
      " 2    Type of area         35 non-null     object\n",
      "dtypes: object(3)\n",
      "memory usage: 1.1+ KB\n"
     ]
    }
   ],
   "source": [
    "# checking dataframe short summary: data types, null values, nr of the rows\n",
    "\n",
    "df_reg.info()"
   ]
  },
  {
   "cell_type": "code",
   "execution_count": 73,
   "id": "ba3216c6",
   "metadata": {},
   "outputs": [
    {
     "name": "stdout",
     "output_type": "stream",
     "text": [
      "   Name of region     Constituent counties           Type of area\n",
      "0           Border                   Cavan  Administrative county\n",
      "1              NaN                 Donegal  Administrative county\n",
      "2              NaN                 Leitrim  Administrative county\n",
      "3              NaN                   Louth  Administrative county\n",
      "4              NaN                Monaghan  Administrative county\n",
      "5              NaN                   Sligo  Administrative county\n",
      "6              NaN                     NaN                    NaN\n",
      "7           Dublin                  Dublin                   City\n",
      "8              NaN  Dún Laoghaire-Rathdown  Administrative county\n",
      "9              NaN                  Fingal  Administrative county\n",
      "10             NaN            South Dublin  Administrative county\n",
      "11             NaN                     NaN                    NaN\n",
      "12        Mid-East                 Kildare  Administrative county\n",
      "13             NaN                   Meath  Administrative county\n",
      "14             NaN                 Wicklow  Administrative county\n",
      "15             NaN                     NaN                    NaN\n",
      "16         Midland                   Laois  Administrative county\n",
      "17             NaN                Longford  Administrative county\n",
      "18             NaN                  Offaly  Administrative county\n",
      "19             NaN               Westmeath  Administrative county\n",
      "20             NaN                     NaN                    NaN\n",
      "21        Mid-West                   Clare  Administrative county\n",
      "22             NaN                Limerick                   City\n",
      "23             NaN                Limerick  Administrative county\n",
      "24             NaN        North Tipperary   Administrative county\n",
      "25             NaN               Tipperary  Administrative county\n",
      "26             NaN                     NaN                    NaN\n",
      "27      South-East                  Carlow  Administrative county\n",
      "28             NaN                Kilkenny  Administrative county\n",
      "29             NaN        South Tipperary   Administrative county\n",
      "30             NaN               Waterford                   City\n",
      "31             NaN               Waterford  Administrative county\n",
      "32             NaN                 Wexford  Administrative county\n",
      "33             NaN                     NaN                    NaN\n",
      "34      South-West                    Cork                   City\n",
      "35             NaN                    Cork  Administrative county\n",
      "36             NaN                   Kerry  Administrative county\n",
      "37             NaN                     NaN                    NaN\n",
      "38            West                  Galway                   City\n",
      "39             NaN                  Galway  Administrative county\n",
      "40             NaN                    Mayo  Administrative county\n",
      "41             NaN               Roscommon  Administrative county\n"
     ]
    }
   ],
   "source": [
    "#print all 35 rows to see full view\n",
    "print(df_reg)"
   ]
  },
  {
   "cell_type": "markdown",
   "id": "da4c42f6",
   "metadata": {},
   "source": [
    "**Overview**\n",
    "* In order to have acording region for every county, there will be a need to fill all NaNs with region name. I will use \"fill with previous valid value\" method.\n",
    "* all excessive empty rows will be removed"
   ]
  },
  {
   "cell_type": "markdown",
   "id": "9aff27bf",
   "metadata": {},
   "source": [
    "# Auxiliary file overview\n",
    "\n",
    "# Private households vs Number of people per household\t"
   ]
  },
  {
   "cell_type": "code",
   "execution_count": 77,
   "id": "15ad7a78",
   "metadata": {
    "scrolled": false
   },
   "outputs": [
    {
     "data": {
      "text/html": [
       "<div>\n",
       "<style scoped>\n",
       "    .dataframe tbody tr th:only-of-type {\n",
       "        vertical-align: middle;\n",
       "    }\n",
       "\n",
       "    .dataframe tbody tr th {\n",
       "        vertical-align: top;\n",
       "    }\n",
       "\n",
       "    .dataframe thead th {\n",
       "        text-align: right;\n",
       "    }\n",
       "</style>\n",
       "<table border=\"1\" class=\"dataframe\">\n",
       "  <thead>\n",
       "    <tr style=\"text-align: right;\">\n",
       "      <th></th>\n",
       "      <th>Statistic Label</th>\n",
       "      <th>CensusYear</th>\n",
       "      <th>County and City</th>\n",
       "      <th>UNIT</th>\n",
       "      <th>VALUE</th>\n",
       "    </tr>\n",
       "  </thead>\n",
       "  <tbody>\n",
       "    <tr>\n",
       "      <th>0</th>\n",
       "      <td>Private households</td>\n",
       "      <td>2011</td>\n",
       "      <td>State</td>\n",
       "      <td>Number</td>\n",
       "      <td>1654208.0</td>\n",
       "    </tr>\n",
       "    <tr>\n",
       "      <th>1</th>\n",
       "      <td>Private households</td>\n",
       "      <td>2011</td>\n",
       "      <td>Carlow</td>\n",
       "      <td>Number</td>\n",
       "      <td>19436.0</td>\n",
       "    </tr>\n",
       "    <tr>\n",
       "      <th>2</th>\n",
       "      <td>Private households</td>\n",
       "      <td>2011</td>\n",
       "      <td>Dublin City</td>\n",
       "      <td>Number</td>\n",
       "      <td>208008.0</td>\n",
       "    </tr>\n",
       "    <tr>\n",
       "      <th>3</th>\n",
       "      <td>Private households</td>\n",
       "      <td>2011</td>\n",
       "      <td>Dún Laoghaire-Rathdown</td>\n",
       "      <td>Number</td>\n",
       "      <td>75819.0</td>\n",
       "    </tr>\n",
       "    <tr>\n",
       "      <th>4</th>\n",
       "      <td>Private households</td>\n",
       "      <td>2011</td>\n",
       "      <td>Fingal</td>\n",
       "      <td>Number</td>\n",
       "      <td>93146.0</td>\n",
       "    </tr>\n",
       "  </tbody>\n",
       "</table>\n",
       "</div>"
      ],
      "text/plain": [
       "      Statistic Label  CensusYear         County and City    UNIT      VALUE\n",
       "0  Private households        2011                   State  Number  1654208.0\n",
       "1  Private households        2011                  Carlow  Number    19436.0\n",
       "2  Private households        2011             Dublin City  Number   208008.0\n",
       "3  Private households        2011  Dún Laoghaire-Rathdown  Number    75819.0\n",
       "4  Private households        2011                  Fingal  Number    93146.0"
      ]
     },
     "execution_count": 77,
     "metadata": {},
     "output_type": "execute_result"
    }
   ],
   "source": [
    "df_aux = pd.read_csv(\"FY004B.csv\")\n",
    "df_aux.head()"
   ]
  },
  {
   "cell_type": "code",
   "execution_count": 78,
   "id": "02d72a05",
   "metadata": {},
   "outputs": [
    {
     "name": "stdout",
     "output_type": "stream",
     "text": [
      "<class 'pandas.core.frame.DataFrame'>\n",
      "RangeIndex: 279 entries, 0 to 278\n",
      "Data columns (total 5 columns):\n",
      " #   Column           Non-Null Count  Dtype  \n",
      "---  ------           --------------  -----  \n",
      " 0   Statistic Label  279 non-null    object \n",
      " 1   CensusYear       279 non-null    int64  \n",
      " 2   County and City  279 non-null    object \n",
      " 3   UNIT             279 non-null    object \n",
      " 4   VALUE            279 non-null    float64\n",
      "dtypes: float64(1), int64(1), object(3)\n",
      "memory usage: 11.0+ KB\n"
     ]
    }
   ],
   "source": [
    "# checking dataframe short summary: data types, null values, nr of the rows\n",
    "\n",
    "df_aux.info()"
   ]
  },
  {
   "cell_type": "code",
   "execution_count": 21,
   "id": "2f940763",
   "metadata": {
    "scrolled": true
   },
   "outputs": [
    {
     "data": {
      "text/plain": [
       "array([2011, 2016, 2022], dtype=int64)"
      ]
     },
     "execution_count": 21,
     "metadata": {},
     "output_type": "execute_result"
    }
   ],
   "source": [
    "df_aux.CensusYear.unique()"
   ]
  },
  {
   "cell_type": "code",
   "execution_count": 79,
   "id": "0179056a",
   "metadata": {
    "scrolled": true
   },
   "outputs": [
    {
     "data": {
      "text/plain": [
       "array(['Private households', 'Persons in private households',\n",
       "       'Average number of persons in private households'], dtype=object)"
      ]
     },
     "execution_count": 79,
     "metadata": {},
     "output_type": "execute_result"
    }
   ],
   "source": [
    "df_aux['Statistic Label'].unique()"
   ]
  },
  {
   "cell_type": "code",
   "execution_count": 80,
   "id": "80f9431c",
   "metadata": {
    "scrolled": false
   },
   "outputs": [
    {
     "data": {
      "text/plain": [
       "array(['State', 'Carlow', 'Dublin City', 'Dún Laoghaire-Rathdown',\n",
       "       'Fingal', 'South Dublin', 'Kildare', 'Kilkenny', 'Laois',\n",
       "       'Longford', 'Louth', 'Meath', 'Offaly', 'Westmeath', 'Wexford',\n",
       "       'Wicklow', 'Clare', 'Cork City and Cork County', 'Kerry',\n",
       "       'Limerick City and County', 'Tipperary',\n",
       "       'Waterford City and County', 'Galway City', 'Galway County',\n",
       "       'Leitrim', 'Mayo', 'Roscommon', 'Sligo', 'Cavan', 'Donegal',\n",
       "       'Monaghan'], dtype=object)"
      ]
     },
     "execution_count": 80,
     "metadata": {},
     "output_type": "execute_result"
    }
   ],
   "source": [
    "df_aux['County and City'].unique()"
   ]
  },
  {
   "cell_type": "markdown",
   "id": "e2c4531d",
   "metadata": {},
   "source": [
    "**Overview**\n",
    "* We have same 3 values for years from SAP data frame\n",
    "* 'Average number of persons in private households' value is excessive, so will be removed\n",
    "* Similar approach for  'County and City' needs to be applied. I.e. counties will be replased with according regions and all the data will be aggregated.\n",
    "* Field 'VALUE' will be replaced with 2 fields => 'Private households' and 'Persons in private households', in order to be used in the final dataframe as defined values."
   ]
  },
  {
   "cell_type": "markdown",
   "id": "08551bfe",
   "metadata": {},
   "source": [
    "created final file with columns\n",
    "Year\n",
    "Region\n",
    "Type of internet connection\n",
    "Nr of estimated people\n",
    "Nr pf people with Internet connection\n"
   ]
  }
 ],
 "metadata": {
  "kernelspec": {
   "display_name": "Python 3 (ipykernel)",
   "language": "python",
   "name": "python3"
  },
  "language_info": {
   "codemirror_mode": {
    "name": "ipython",
    "version": 3
   },
   "file_extension": ".py",
   "mimetype": "text/x-python",
   "name": "python",
   "nbconvert_exporter": "python",
   "pygments_lexer": "ipython3",
   "version": "3.11.4"
  }
 },
 "nbformat": 4,
 "nbformat_minor": 5
}
