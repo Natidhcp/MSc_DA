{
 "cells": [
  {
   "cell_type": "markdown",
   "id": "48a9e967",
   "metadata": {},
   "source": [
    "##  Main Data  Sources\n",
    "##### Estimated Population\n",
    "Home -> Population Estimates -> Annual Population Estimates -> PEA04 - Estimated Population (Persons in April)\n",
    "##### Households with Internet access - 2011\n",
    "Home -> SAPMAP 2011 -> Theme 15: PC and Internet Access ->\n",
    "    SAP2011T15T3CTY - Households with Internet access\n",
    "##### Households with Internet access - 2016\n",
    "Home -> SAPMAP 2016 -> Theme 15: Motor Car Availability, PC Ownership and Internet Access ->\n",
    "    SAP2016T15T3CTY - Households with Internet access\n",
    "##### Households with Internet access - 2022\n",
    "Home -> SAPMAP 2022 -> Theme 15: Motor Car Availability, PC Ownership and Internet Access ->\n",
    "    SAP2022T15T2NUTS - Households with Internet access\n",
    "##  Auxiliary Data  Sources\n",
    "##### Average Number of Persons per Private Household \n",
    "Home -> Census 2022 -> Summary Results -> FY004B - Average Number of Persons per Private Household\n",
    "##### IRISH REGIONS\n",
    "https://www.cso.ie/en/media/csoie/releasespublications/documents/ep/censuspreliminaryresults/2022/backgroundnotes/NUTS3_Region.xlsx"
   ]
  },
  {
   "cell_type": "code",
   "execution_count": 136,
   "id": "1630e1cc",
   "metadata": {},
   "outputs": [],
   "source": [
    "##IMPORTING LIBRARIES\n",
    "import pandas as pd\n",
    "import statistics as stats\n",
    "import numpy as np\n",
    "import matplotlib.pyplot as plt\n",
    "import seaborn as sns"
   ]
  },
  {
   "cell_type": "code",
   "execution_count": 137,
   "id": "1db0cbce",
   "metadata": {},
   "outputs": [],
   "source": [
    "# Suppress the warnings\n",
    "import warnings\n",
    "warnings.filterwarnings('ignore')"
   ]
  },
  {
   "cell_type": "markdown",
   "id": "cab80b62",
   "metadata": {},
   "source": [
    "# Estimated Population file overview"
   ]
  },
  {
   "cell_type": "code",
   "execution_count": 122,
   "id": "55fffe31",
   "metadata": {
    "scrolled": false
   },
   "outputs": [
    {
     "data": {
      "text/html": [
       "<div>\n",
       "<style scoped>\n",
       "    .dataframe tbody tr th:only-of-type {\n",
       "        vertical-align: middle;\n",
       "    }\n",
       "\n",
       "    .dataframe tbody tr th {\n",
       "        vertical-align: top;\n",
       "    }\n",
       "\n",
       "    .dataframe thead th {\n",
       "        text-align: right;\n",
       "    }\n",
       "</style>\n",
       "<table border=\"1\" class=\"dataframe\">\n",
       "  <thead>\n",
       "    <tr style=\"text-align: right;\">\n",
       "      <th></th>\n",
       "      <th>STATISTIC Label</th>\n",
       "      <th>Year</th>\n",
       "      <th>Age Group</th>\n",
       "      <th>Sex</th>\n",
       "      <th>Region</th>\n",
       "      <th>UNIT</th>\n",
       "      <th>VALUE</th>\n",
       "    </tr>\n",
       "  </thead>\n",
       "  <tbody>\n",
       "    <tr>\n",
       "      <th>0</th>\n",
       "      <td>Estimated Population (Persons in April)</td>\n",
       "      <td>2011</td>\n",
       "      <td>0 - 4 years</td>\n",
       "      <td>Both sexes</td>\n",
       "      <td>State</td>\n",
       "      <td>Thousand</td>\n",
       "      <td>356.0</td>\n",
       "    </tr>\n",
       "    <tr>\n",
       "      <th>1</th>\n",
       "      <td>Estimated Population (Persons in April)</td>\n",
       "      <td>2011</td>\n",
       "      <td>0 - 4 years</td>\n",
       "      <td>Both sexes</td>\n",
       "      <td>Border</td>\n",
       "      <td>Thousand</td>\n",
       "      <td>30.7</td>\n",
       "    </tr>\n",
       "    <tr>\n",
       "      <th>2</th>\n",
       "      <td>Estimated Population (Persons in April)</td>\n",
       "      <td>2011</td>\n",
       "      <td>0 - 4 years</td>\n",
       "      <td>Both sexes</td>\n",
       "      <td>West</td>\n",
       "      <td>Thousand</td>\n",
       "      <td>32.6</td>\n",
       "    </tr>\n",
       "    <tr>\n",
       "      <th>3</th>\n",
       "      <td>Estimated Population (Persons in April)</td>\n",
       "      <td>2011</td>\n",
       "      <td>0 - 4 years</td>\n",
       "      <td>Both sexes</td>\n",
       "      <td>Mid-West</td>\n",
       "      <td>Thousand</td>\n",
       "      <td>35.0</td>\n",
       "    </tr>\n",
       "    <tr>\n",
       "      <th>4</th>\n",
       "      <td>Estimated Population (Persons in April)</td>\n",
       "      <td>2011</td>\n",
       "      <td>0 - 4 years</td>\n",
       "      <td>Both sexes</td>\n",
       "      <td>South-East</td>\n",
       "      <td>Thousand</td>\n",
       "      <td>32.0</td>\n",
       "    </tr>\n",
       "  </tbody>\n",
       "</table>\n",
       "</div>"
      ],
      "text/plain": [
       "                           STATISTIC Label  Year    Age Group         Sex  \\\n",
       "0  Estimated Population (Persons in April)  2011  0 - 4 years  Both sexes   \n",
       "1  Estimated Population (Persons in April)  2011  0 - 4 years  Both sexes   \n",
       "2  Estimated Population (Persons in April)  2011  0 - 4 years  Both sexes   \n",
       "3  Estimated Population (Persons in April)  2011  0 - 4 years  Both sexes   \n",
       "4  Estimated Population (Persons in April)  2011  0 - 4 years  Both sexes   \n",
       "\n",
       "       Region      UNIT  VALUE  \n",
       "0       State  Thousand  356.0  \n",
       "1      Border  Thousand   30.7  \n",
       "2        West  Thousand   32.6  \n",
       "3    Mid-West  Thousand   35.0  \n",
       "4  South-East  Thousand   32.0  "
      ]
     },
     "execution_count": 122,
     "metadata": {},
     "output_type": "execute_result"
    }
   ],
   "source": [
    "#creating dataframe for Estimated Population file and validating it\n",
    "df_pop = pd.read_csv(\"PEA04.csv\")\n",
    "df_pop.head()"
   ]
  },
  {
   "cell_type": "code",
   "execution_count": 123,
   "id": "f1ef6b35",
   "metadata": {},
   "outputs": [
    {
     "name": "stdout",
     "output_type": "stream",
     "text": [
      "<class 'pandas.core.frame.DataFrame'>\n",
      "RangeIndex: 6669 entries, 0 to 6668\n",
      "Data columns (total 7 columns):\n",
      " #   Column           Non-Null Count  Dtype  \n",
      "---  ------           --------------  -----  \n",
      " 0   STATISTIC Label  6669 non-null   object \n",
      " 1   Year             6669 non-null   int64  \n",
      " 2   Age Group        6669 non-null   object \n",
      " 3   Sex              6669 non-null   object \n",
      " 4   Region           6669 non-null   object \n",
      " 5   UNIT             6669 non-null   object \n",
      " 6   VALUE            6669 non-null   float64\n",
      "dtypes: float64(1), int64(1), object(5)\n",
      "memory usage: 364.8+ KB\n"
     ]
    }
   ],
   "source": [
    "# checking dataframe short summary: data types, null values, nr of the rows\n",
    "df_pop.info()"
   ]
  },
  {
   "cell_type": "markdown",
   "id": "944c26a6",
   "metadata": {},
   "source": [
    "**Brief Overview**\n",
    "\n",
    "* There is no null values\n",
    "* Field 'Age Group' is irrelevant, so can be removed\n",
    "* Fields 'Year', 'Sex' and 'Region' should be deeply analysed by unique values\n",
    "* Field 'VALUE' should be renamed as 'Estimated population' in order to be used as a defined column in the final DataFrame\n",
    "* Each value from 'VALUE' field should be multiplied by 1000 to have nominal values. Thus field 'UNIT' can be deprecated.\n",
    "* Age Group column is excessive for our scope, so will be removed and data should be aggregated later on."
   ]
  },
  {
   "cell_type": "markdown",
   "id": "f9a80954",
   "metadata": {},
   "source": [
    "**Deeper dive into data details**"
   ]
  },
  {
   "cell_type": "code",
   "execution_count": 124,
   "id": "dd63f0d4",
   "metadata": {
    "scrolled": true
   },
   "outputs": [
    {
     "data": {
      "text/html": [
       "<div>\n",
       "<style scoped>\n",
       "    .dataframe tbody tr th:only-of-type {\n",
       "        vertical-align: middle;\n",
       "    }\n",
       "\n",
       "    .dataframe tbody tr th {\n",
       "        vertical-align: top;\n",
       "    }\n",
       "\n",
       "    .dataframe thead th {\n",
       "        text-align: right;\n",
       "    }\n",
       "</style>\n",
       "<table border=\"1\" class=\"dataframe\">\n",
       "  <thead>\n",
       "    <tr style=\"text-align: right;\">\n",
       "      <th></th>\n",
       "      <th>Year</th>\n",
       "      <th>VALUE</th>\n",
       "    </tr>\n",
       "  </thead>\n",
       "  <tbody>\n",
       "    <tr>\n",
       "      <th>count</th>\n",
       "      <td>6669.000000</td>\n",
       "      <td>6669.000000</td>\n",
       "    </tr>\n",
       "    <tr>\n",
       "      <th>mean</th>\n",
       "      <td>2017.000000</td>\n",
       "      <td>75.670460</td>\n",
       "    </tr>\n",
       "    <tr>\n",
       "      <th>std</th>\n",
       "      <td>3.741938</td>\n",
       "      <td>281.512172</td>\n",
       "    </tr>\n",
       "    <tr>\n",
       "      <th>min</th>\n",
       "      <td>2011.000000</td>\n",
       "      <td>1.200000</td>\n",
       "    </tr>\n",
       "    <tr>\n",
       "      <th>25%</th>\n",
       "      <td>2014.000000</td>\n",
       "      <td>12.500000</td>\n",
       "    </tr>\n",
       "    <tr>\n",
       "      <th>50%</th>\n",
       "      <td>2017.000000</td>\n",
       "      <td>20.700000</td>\n",
       "    </tr>\n",
       "    <tr>\n",
       "      <th>75%</th>\n",
       "      <td>2020.000000</td>\n",
       "      <td>42.200000</td>\n",
       "    </tr>\n",
       "    <tr>\n",
       "      <th>max</th>\n",
       "      <td>2023.000000</td>\n",
       "      <td>5281.600000</td>\n",
       "    </tr>\n",
       "  </tbody>\n",
       "</table>\n",
       "</div>"
      ],
      "text/plain": [
       "              Year        VALUE\n",
       "count  6669.000000  6669.000000\n",
       "mean   2017.000000    75.670460\n",
       "std       3.741938   281.512172\n",
       "min    2011.000000     1.200000\n",
       "25%    2014.000000    12.500000\n",
       "50%    2017.000000    20.700000\n",
       "75%    2020.000000    42.200000\n",
       "max    2023.000000  5281.600000"
      ]
     },
     "execution_count": 124,
     "metadata": {},
     "output_type": "execute_result"
    }
   ],
   "source": [
    "#analysing all numerical data\n",
    "df_pop.describe()"
   ]
  },
  {
   "cell_type": "code",
   "execution_count": 125,
   "id": "ab13d2d1",
   "metadata": {
    "scrolled": false
   },
   "outputs": [
    {
     "data": {
      "text/html": [
       "<div>\n",
       "<style scoped>\n",
       "    .dataframe tbody tr th:only-of-type {\n",
       "        vertical-align: middle;\n",
       "    }\n",
       "\n",
       "    .dataframe tbody tr th {\n",
       "        vertical-align: top;\n",
       "    }\n",
       "\n",
       "    .dataframe thead th {\n",
       "        text-align: right;\n",
       "    }\n",
       "</style>\n",
       "<table border=\"1\" class=\"dataframe\">\n",
       "  <thead>\n",
       "    <tr style=\"text-align: right;\">\n",
       "      <th></th>\n",
       "      <th>STATISTIC Label</th>\n",
       "      <th>Year</th>\n",
       "      <th>Age Group</th>\n",
       "      <th>Sex</th>\n",
       "      <th>Region</th>\n",
       "      <th>UNIT</th>\n",
       "      <th>VALUE</th>\n",
       "    </tr>\n",
       "  </thead>\n",
       "  <tbody>\n",
       "    <tr>\n",
       "      <th>count</th>\n",
       "      <td>6669</td>\n",
       "      <td>6669.000000</td>\n",
       "      <td>6669</td>\n",
       "      <td>6669</td>\n",
       "      <td>6669</td>\n",
       "      <td>6669</td>\n",
       "      <td>6669.000000</td>\n",
       "    </tr>\n",
       "    <tr>\n",
       "      <th>unique</th>\n",
       "      <td>1</td>\n",
       "      <td>NaN</td>\n",
       "      <td>19</td>\n",
       "      <td>3</td>\n",
       "      <td>9</td>\n",
       "      <td>1</td>\n",
       "      <td>NaN</td>\n",
       "    </tr>\n",
       "    <tr>\n",
       "      <th>top</th>\n",
       "      <td>Estimated Population (Persons in April)</td>\n",
       "      <td>NaN</td>\n",
       "      <td>0 - 4 years</td>\n",
       "      <td>Both sexes</td>\n",
       "      <td>State</td>\n",
       "      <td>Thousand</td>\n",
       "      <td>NaN</td>\n",
       "    </tr>\n",
       "    <tr>\n",
       "      <th>freq</th>\n",
       "      <td>6669</td>\n",
       "      <td>NaN</td>\n",
       "      <td>351</td>\n",
       "      <td>2223</td>\n",
       "      <td>741</td>\n",
       "      <td>6669</td>\n",
       "      <td>NaN</td>\n",
       "    </tr>\n",
       "    <tr>\n",
       "      <th>mean</th>\n",
       "      <td>NaN</td>\n",
       "      <td>2017.000000</td>\n",
       "      <td>NaN</td>\n",
       "      <td>NaN</td>\n",
       "      <td>NaN</td>\n",
       "      <td>NaN</td>\n",
       "      <td>75.670460</td>\n",
       "    </tr>\n",
       "    <tr>\n",
       "      <th>std</th>\n",
       "      <td>NaN</td>\n",
       "      <td>3.741938</td>\n",
       "      <td>NaN</td>\n",
       "      <td>NaN</td>\n",
       "      <td>NaN</td>\n",
       "      <td>NaN</td>\n",
       "      <td>281.512172</td>\n",
       "    </tr>\n",
       "    <tr>\n",
       "      <th>min</th>\n",
       "      <td>NaN</td>\n",
       "      <td>2011.000000</td>\n",
       "      <td>NaN</td>\n",
       "      <td>NaN</td>\n",
       "      <td>NaN</td>\n",
       "      <td>NaN</td>\n",
       "      <td>1.200000</td>\n",
       "    </tr>\n",
       "    <tr>\n",
       "      <th>25%</th>\n",
       "      <td>NaN</td>\n",
       "      <td>2014.000000</td>\n",
       "      <td>NaN</td>\n",
       "      <td>NaN</td>\n",
       "      <td>NaN</td>\n",
       "      <td>NaN</td>\n",
       "      <td>12.500000</td>\n",
       "    </tr>\n",
       "    <tr>\n",
       "      <th>50%</th>\n",
       "      <td>NaN</td>\n",
       "      <td>2017.000000</td>\n",
       "      <td>NaN</td>\n",
       "      <td>NaN</td>\n",
       "      <td>NaN</td>\n",
       "      <td>NaN</td>\n",
       "      <td>20.700000</td>\n",
       "    </tr>\n",
       "    <tr>\n",
       "      <th>75%</th>\n",
       "      <td>NaN</td>\n",
       "      <td>2020.000000</td>\n",
       "      <td>NaN</td>\n",
       "      <td>NaN</td>\n",
       "      <td>NaN</td>\n",
       "      <td>NaN</td>\n",
       "      <td>42.200000</td>\n",
       "    </tr>\n",
       "    <tr>\n",
       "      <th>max</th>\n",
       "      <td>NaN</td>\n",
       "      <td>2023.000000</td>\n",
       "      <td>NaN</td>\n",
       "      <td>NaN</td>\n",
       "      <td>NaN</td>\n",
       "      <td>NaN</td>\n",
       "      <td>5281.600000</td>\n",
       "    </tr>\n",
       "  </tbody>\n",
       "</table>\n",
       "</div>"
      ],
      "text/plain": [
       "                                STATISTIC Label         Year    Age Group  \\\n",
       "count                                      6669  6669.000000         6669   \n",
       "unique                                        1          NaN           19   \n",
       "top     Estimated Population (Persons in April)          NaN  0 - 4 years   \n",
       "freq                                       6669          NaN          351   \n",
       "mean                                        NaN  2017.000000          NaN   \n",
       "std                                         NaN     3.741938          NaN   \n",
       "min                                         NaN  2011.000000          NaN   \n",
       "25%                                         NaN  2014.000000          NaN   \n",
       "50%                                         NaN  2017.000000          NaN   \n",
       "75%                                         NaN  2020.000000          NaN   \n",
       "max                                         NaN  2023.000000          NaN   \n",
       "\n",
       "               Sex Region      UNIT        VALUE  \n",
       "count         6669   6669      6669  6669.000000  \n",
       "unique           3      9         1          NaN  \n",
       "top     Both sexes  State  Thousand          NaN  \n",
       "freq          2223    741      6669          NaN  \n",
       "mean           NaN    NaN       NaN    75.670460  \n",
       "std            NaN    NaN       NaN   281.512172  \n",
       "min            NaN    NaN       NaN     1.200000  \n",
       "25%            NaN    NaN       NaN    12.500000  \n",
       "50%            NaN    NaN       NaN    20.700000  \n",
       "75%            NaN    NaN       NaN    42.200000  \n",
       "max            NaN    NaN       NaN  5281.600000  "
      ]
     },
     "execution_count": 125,
     "metadata": {},
     "output_type": "execute_result"
    }
   ],
   "source": [
    "#analysing categorical data\n",
    "df_pop.describe(include = 'all')"
   ]
  },
  {
   "cell_type": "code",
   "execution_count": 126,
   "id": "436d2941",
   "metadata": {},
   "outputs": [],
   "source": [
    "#checking all relevant columns for their unique values, to get detailed picture"
   ]
  },
  {
   "cell_type": "code",
   "execution_count": 127,
   "id": "a88aff93",
   "metadata": {},
   "outputs": [
    {
     "data": {
      "text/plain": [
       "array([2011, 2012, 2013, 2014, 2015, 2016, 2017, 2018, 2019, 2020, 2021,\n",
       "       2022, 2023], dtype=int64)"
      ]
     },
     "execution_count": 127,
     "metadata": {},
     "output_type": "execute_result"
    }
   ],
   "source": [
    "df_pop.Year.unique()"
   ]
  },
  {
   "cell_type": "code",
   "execution_count": 128,
   "id": "35e360de",
   "metadata": {},
   "outputs": [
    {
     "data": {
      "text/plain": [
       "array(['Both sexes', 'Male', 'Female'], dtype=object)"
      ]
     },
     "execution_count": 128,
     "metadata": {},
     "output_type": "execute_result"
    }
   ],
   "source": [
    "df_pop.Sex.unique()"
   ]
  },
  {
   "cell_type": "code",
   "execution_count": 129,
   "id": "eb03f04c",
   "metadata": {
    "scrolled": true
   },
   "outputs": [
    {
     "data": {
      "text/plain": [
       "array(['State', 'Border', 'West', 'Mid-West', 'South-East', 'South-West',\n",
       "       'Dublin', 'Mid-East', 'Midland'], dtype=object)"
      ]
     },
     "execution_count": 129,
     "metadata": {},
     "output_type": "execute_result"
    }
   ],
   "source": [
    "df_pop.Region.unique()"
   ]
  },
  {
   "cell_type": "markdown",
   "id": "556e605d",
   "metadata": {},
   "source": [
    "**Additional overview**\n",
    "1. 'STATISTIC Label' column has only 1 unique value \"Estimated Population (Persons in April)\". Column \"VALUE\" is numeric and contain data represented in thousands, according to field \"UNIT\". \n",
    "    * Meaning: for our scope column \"VALUE\" can take name \"Estimated Population\" and it will have more clarity on what kind of data do we have. To exclude additional explanation about units, we can multiply Values with 1000 and add \"Nr.\" to the column name. As a result, instead of 3 complementary fields, we will have 1 field with name \"Nr. of Estimated Population\" that clearly reflect it's values.\n",
    "2. We have fill data for 2011-2023 years about the estimated population. \n",
    "    * Meaning: This gives us the possibility to use this field as a base for future aggregations.\n",
    "3. Column 'Sex' has 3 unique values: slitting to 'Male' and 'Female' and sum of them as 'Both sexes' value.\n",
    "    * Meaning: For the 'Sex' field only \"Both Sexes\" values will be used as relevant. Splitting by 'Male'/'Female' doesn't have any bias as any person can have internet access regardless of their sex or gender identity.\n",
    "4. In the 'Region' field we have 8 big regions. Value \"State\" contain summarised data for the whole country. \n",
    "    * Meaning: For more clear reading, \"State\" will be renamed in \"Ireland\". According to official name \"Midland\" should be renamed in \"Midlands\"(check NUTS3 Region classification)."
   ]
  },
  {
   "cell_type": "code",
   "execution_count": 130,
   "id": "fec55ad5",
   "metadata": {
    "scrolled": false
   },
   "outputs": [
    {
     "data": {
      "image/png": "[encoded data removed]",
      "text/plain": [
       "<Figure size 640x480 with 1 Axes>"
      ]
     },
     "metadata": {},
     "output_type": "display_data"
    }
   ],
   "source": [
    "# Create a plot for population changings year by year for the whole coutry\n",
    "\n",
    "# Filter the data to only include the \"Both Sexes\" and \"State\" regions\n",
    "df_filtered = df_pop[\n",
    "    (df_pop[\"Sex\"] == \"Both sexes\") & (df_pop[\"Region\"] == \"State\")\n",
    "]\n",
    "\n",
    "# Group the data by year and calculate the sum of the \"VALUE\" column\n",
    "df_grouped = df_filtered.groupby(\"Year\")[\"VALUE\"].sum()\n",
    "\n",
    "# Create a line plot of the grouped data\n",
    "sns.lineplot(x=df_grouped.index, y=df_grouped.values)\n",
    "\n",
    "# Add labels and title\n",
    "plt.xlabel(\"Year\")\n",
    "plt.ylabel(\"Total Population\")\n",
    "plt.title(\"Total Population for All Years (Both Sexes, State)\")\n",
    "\n",
    "# Show the plot\n",
    "plt.show()"
   ]
  },
  {
   "cell_type": "markdown",
   "id": "aa62c3a2",
   "metadata": {},
   "source": [
    "It is clear that we have positive tendency in population growth year by year\n",
    "* Meaning: For our scope we can expect that number of population using internet access will grow accordingly"
   ]
  },
  {
   "cell_type": "code",
   "execution_count": 134,
   "id": "9f0bac34",
   "metadata": {
    "scrolled": true
   },
   "outputs": [
    {
     "data": {
      "text/html": [
       "<div>\n",
       "<style scoped>\n",
       "    .dataframe tbody tr th:only-of-type {\n",
       "        vertical-align: middle;\n",
       "    }\n",
       "\n",
       "    .dataframe tbody tr th {\n",
       "        vertical-align: top;\n",
       "    }\n",
       "\n",
       "    .dataframe thead th {\n",
       "        text-align: right;\n",
       "    }\n",
       "</style>\n",
       "<table border=\"1\" class=\"dataframe\">\n",
       "  <thead>\n",
       "    <tr style=\"text-align: right;\">\n",
       "      <th>Year</th>\n",
       "      <th>2011</th>\n",
       "      <th>2012</th>\n",
       "      <th>2013</th>\n",
       "      <th>2014</th>\n",
       "      <th>2015</th>\n",
       "      <th>2016</th>\n",
       "      <th>2017</th>\n",
       "      <th>2018</th>\n",
       "      <th>2019</th>\n",
       "      <th>2020</th>\n",
       "      <th>2021</th>\n",
       "      <th>2022</th>\n",
       "      <th>2023</th>\n",
       "    </tr>\n",
       "    <tr>\n",
       "      <th>Region</th>\n",
       "      <th></th>\n",
       "      <th></th>\n",
       "      <th></th>\n",
       "      <th></th>\n",
       "      <th></th>\n",
       "      <th></th>\n",
       "      <th></th>\n",
       "      <th></th>\n",
       "      <th></th>\n",
       "      <th></th>\n",
       "      <th></th>\n",
       "      <th></th>\n",
       "      <th></th>\n",
       "    </tr>\n",
       "  </thead>\n",
       "  <tbody>\n",
       "    <tr>\n",
       "      <th>Border</th>\n",
       "      <td>784.0</td>\n",
       "      <td>784.2</td>\n",
       "      <td>786.2</td>\n",
       "      <td>784.1</td>\n",
       "      <td>783.8</td>\n",
       "      <td>786.7</td>\n",
       "      <td>800.4</td>\n",
       "      <td>811.5</td>\n",
       "      <td>820.2</td>\n",
       "      <td>824.2</td>\n",
       "      <td>834.1</td>\n",
       "      <td>844.5</td>\n",
       "      <td>864.3</td>\n",
       "    </tr>\n",
       "    <tr>\n",
       "      <th>Dublin</th>\n",
       "      <td>2523.0</td>\n",
       "      <td>2521.3</td>\n",
       "      <td>2531.7</td>\n",
       "      <td>2572.8</td>\n",
       "      <td>2630.6</td>\n",
       "      <td>2671.9</td>\n",
       "      <td>2702.9</td>\n",
       "      <td>2746.2</td>\n",
       "      <td>2797.8</td>\n",
       "      <td>2844.9</td>\n",
       "      <td>2869.4</td>\n",
       "      <td>2936.6</td>\n",
       "      <td>3003.0</td>\n",
       "    </tr>\n",
       "    <tr>\n",
       "      <th>Mid-East</th>\n",
       "      <td>1314.9</td>\n",
       "      <td>1329.3</td>\n",
       "      <td>1332.9</td>\n",
       "      <td>1342.8</td>\n",
       "      <td>1358.6</td>\n",
       "      <td>1381.9</td>\n",
       "      <td>1411.9</td>\n",
       "      <td>1438.6</td>\n",
       "      <td>1463.8</td>\n",
       "      <td>1494.7</td>\n",
       "      <td>1510.5</td>\n",
       "      <td>1547.8</td>\n",
       "      <td>1554.2</td>\n",
       "    </tr>\n",
       "    <tr>\n",
       "      <th>Mid-West</th>\n",
       "      <td>933.6</td>\n",
       "      <td>941.3</td>\n",
       "      <td>941.6</td>\n",
       "      <td>943.6</td>\n",
       "      <td>946.7</td>\n",
       "      <td>945.2</td>\n",
       "      <td>960.4</td>\n",
       "      <td>977.8</td>\n",
       "      <td>986.8</td>\n",
       "      <td>995.8</td>\n",
       "      <td>999.2</td>\n",
       "      <td>1017.5</td>\n",
       "      <td>1039.1</td>\n",
       "    </tr>\n",
       "    <tr>\n",
       "      <th>Midland</th>\n",
       "      <td>567.6</td>\n",
       "      <td>574.1</td>\n",
       "      <td>578.6</td>\n",
       "      <td>579.6</td>\n",
       "      <td>582.3</td>\n",
       "      <td>586.8</td>\n",
       "      <td>598.4</td>\n",
       "      <td>609.5</td>\n",
       "      <td>618.0</td>\n",
       "      <td>619.8</td>\n",
       "      <td>628.2</td>\n",
       "      <td>640.6</td>\n",
       "      <td>649.0</td>\n",
       "    </tr>\n",
       "    <tr>\n",
       "      <th>South-East</th>\n",
       "      <td>820.6</td>\n",
       "      <td>823.2</td>\n",
       "      <td>827.6</td>\n",
       "      <td>826.9</td>\n",
       "      <td>831.2</td>\n",
       "      <td>842.2</td>\n",
       "      <td>853.0</td>\n",
       "      <td>863.0</td>\n",
       "      <td>880.3</td>\n",
       "      <td>890.0</td>\n",
       "      <td>902.3</td>\n",
       "      <td>921.4</td>\n",
       "      <td>937.3</td>\n",
       "    </tr>\n",
       "    <tr>\n",
       "      <th>South-West</th>\n",
       "      <td>1324.6</td>\n",
       "      <td>1334.7</td>\n",
       "      <td>1347.8</td>\n",
       "      <td>1358.9</td>\n",
       "      <td>1357.8</td>\n",
       "      <td>1369.9</td>\n",
       "      <td>1388.1</td>\n",
       "      <td>1405.9</td>\n",
       "      <td>1421.1</td>\n",
       "      <td>1446.5</td>\n",
       "      <td>1454.7</td>\n",
       "      <td>1486.0</td>\n",
       "      <td>1514.8</td>\n",
       "    </tr>\n",
       "    <tr>\n",
       "      <th>State</th>\n",
       "      <td>9149.7</td>\n",
       "      <td>9187.3</td>\n",
       "      <td>9229.3</td>\n",
       "      <td>9291.0</td>\n",
       "      <td>9375.6</td>\n",
       "      <td>9479.4</td>\n",
       "      <td>9621.8</td>\n",
       "      <td>9769.8</td>\n",
       "      <td>9917.0</td>\n",
       "      <td>10059.7</td>\n",
       "      <td>10149.4</td>\n",
       "      <td>10367.9</td>\n",
       "      <td>10563.2</td>\n",
       "    </tr>\n",
       "    <tr>\n",
       "      <th>West</th>\n",
       "      <td>881.6</td>\n",
       "      <td>878.7</td>\n",
       "      <td>883.4</td>\n",
       "      <td>882.3</td>\n",
       "      <td>884.5</td>\n",
       "      <td>895.1</td>\n",
       "      <td>906.5</td>\n",
       "      <td>917.5</td>\n",
       "      <td>929.4</td>\n",
       "      <td>944.4</td>\n",
       "      <td>951.0</td>\n",
       "      <td>973.2</td>\n",
       "      <td>1001.6</td>\n",
       "    </tr>\n",
       "  </tbody>\n",
       "</table>\n",
       "</div>"
      ],
      "text/plain": [
       "Year          2011    2012    2013    2014    2015    2016    2017    2018  \\\n",
       "Region                                                                       \n",
       "Border       784.0   784.2   786.2   784.1   783.8   786.7   800.4   811.5   \n",
       "Dublin      2523.0  2521.3  2531.7  2572.8  2630.6  2671.9  2702.9  2746.2   \n",
       "Mid-East    1314.9  1329.3  1332.9  1342.8  1358.6  1381.9  1411.9  1438.6   \n",
       "Mid-West     933.6   941.3   941.6   943.6   946.7   945.2   960.4   977.8   \n",
       "Midland      567.6   574.1   578.6   579.6   582.3   586.8   598.4   609.5   \n",
       "South-East   820.6   823.2   827.6   826.9   831.2   842.2   853.0   863.0   \n",
       "South-West  1324.6  1334.7  1347.8  1358.9  1357.8  1369.9  1388.1  1405.9   \n",
       "State       9149.7  9187.3  9229.3  9291.0  9375.6  9479.4  9621.8  9769.8   \n",
       "West         881.6   878.7   883.4   882.3   884.5   895.1   906.5   917.5   \n",
       "\n",
       "Year          2019     2020     2021     2022     2023  \n",
       "Region                                                  \n",
       "Border       820.2    824.2    834.1    844.5    864.3  \n",
       "Dublin      2797.8   2844.9   2869.4   2936.6   3003.0  \n",
       "Mid-East    1463.8   1494.7   1510.5   1547.8   1554.2  \n",
       "Mid-West     986.8    995.8    999.2   1017.5   1039.1  \n",
       "Midland      618.0    619.8    628.2    640.6    649.0  \n",
       "South-East   880.3    890.0    902.3    921.4    937.3  \n",
       "South-West  1421.1   1446.5   1454.7   1486.0   1514.8  \n",
       "State       9917.0  10059.7  10149.4  10367.9  10563.2  \n",
       "West         929.4    944.4    951.0    973.2   1001.6  "
      ]
     },
     "execution_count": 134,
     "metadata": {},
     "output_type": "execute_result"
    }
   ],
   "source": [
    "# Create a pivot table to assess population changing year by year per each region\n",
    "pivot1 = filtered_df.pivot_table(values='VALUE', index='Region', columns='Year', aggfunc=\"sum\", fill_value=0)\n",
    "pivot1"
   ]
  },
  {
   "cell_type": "code",
   "execution_count": 131,
   "id": "f08f9ace",
   "metadata": {
    "scrolled": true
   },
   "outputs": [
    {
     "data": {
      "image/png": "[encoded data removed]",
      "text/plain": [
       "<Figure size 640x480 with 1 Axes>"
      ]
     },
     "metadata": {},
     "output_type": "display_data"
    }
   ],
   "source": [
    "# Filter the data to only include the \"Both Sexes\" and regions\n",
    "df_filtered = df_pop[\n",
    "    (df_pop[\"Sex\"] == \"Both sexes\") & (df_pop[\"Region\"] != \"State\")\n",
    "]\n",
    "\n",
    "# Create a line plot for each region\n",
    "for region in df_filtered[\"Region\"].unique():\n",
    "    sns.lineplot(\n",
    "        x=df_filtered[df_filtered[\"Region\"] == region][\"Year\"],\n",
    "        y=df_filtered[df_filtered[\"Region\"] == region][\"VALUE\"],\n",
    "        label=region,\n",
    "    )\n",
    "\n",
    "# Add labels and title\n",
    "plt.xlabel(\"Year\")\n",
    "plt.ylabel(\"Total Population\")\n",
    "plt.title(\"Total Population for All Years and Regions (Both Sexes)\")\n",
    "\n",
    "# Show the plot\n",
    "plt.show()"
   ]
  },
  {
   "cell_type": "markdown",
   "id": "6d34653d",
   "metadata": {},
   "source": [
    "* Meaning: Due to different ranges of the values for population number we don't have clear visibility on trend per each region. To handle this it will be good to plot the data separately per each region"
   ]
  },
  {
   "cell_type": "code",
   "execution_count": 132,
   "id": "babea246",
   "metadata": {
    "scrolled": false
   },
   "outputs": [
    {
     "data": {
      "image/png": "[encoded data removed]",
      "text/plain": [
       "<Figure size 400x200 with 1 Axes>"
      ]
     },
     "metadata": {},
     "output_type": "display_data"
    },
    {
     "data": {
      "image/png": "[encoded data removed]",
      "text/plain": [
       "<Figure size 400x200 with 1 Axes>"
      ]
     },
     "metadata": {},
     "output_type": "display_data"
    },
    {
     "data": {
      "image/png": "[encoded data removed]",
      "text/plain": [
       "<Figure size 400x200 with 1 Axes>"
      ]
     },
     "metadata": {},
     "output_type": "display_data"
    },
    {
     "data": {
      "image/png": "[encoded data removed]",
      "text/plain": [
       "<Figure size 400x200 with 1 Axes>"
      ]
     },
     "metadata": {},
     "output_type": "display_data"
    },
    {
     "data": {
      "image/png": "[encoded data removed]",
      "text/plain": [
       "<Figure size 400x200 with 1 Axes>"
      ]
     },
     "metadata": {},
     "output_type": "display_data"
    },
    {
     "data": {
      "image/png": "[encoded data removed]",
      "text/plain": [
       "<Figure size 400x200 with 1 Axes>"
      ]
     },
     "metadata": {},
     "output_type": "display_data"
    },
    {
     "data": {
      "image/png": "[encoded data removed]",
      "text/plain": [
       "<Figure size 400x200 with 1 Axes>"
      ]
     },
     "metadata": {},
     "output_type": "display_data"
    },
    {
     "data": {
      "image/png": "[encoded data removed]",
      "text/plain": [
       "<Figure size 400x200 with 1 Axes>"
      ]
     },
     "metadata": {},
     "output_type": "display_data"
    }
   ],
   "source": [
    "# Filter the data to only include the \"Both Sexes\" and \"State\" regions\n",
    "df_filtered1 = df_pop[\n",
    "    (df_pop[\"Sex\"] == \"Both sexes\") & (df_pop[\"Region\"] == \"Border\")\n",
    "]\n",
    "\n",
    "# Group the data by year and calculate the sum of the \"VALUE\" column\n",
    "df_grouped1 = df_filtered1.groupby(\"Year\")[\"VALUE\"].sum()\n",
    "\n",
    "# Create a line plot of the grouped data\n",
    "\n",
    "fig, ax = plt.subplots(figsize=(4, 2))\n",
    "\n",
    "# Create the line plot\n",
    "sns.lineplot(x=df_grouped1.index, y=df_grouped1.values, ax=ax)\n",
    "\n",
    "# Add labels and title\n",
    "plt.xlabel(\"Year\")\n",
    "plt.ylabel(\"Total Population\")\n",
    "plt.title(\"Total Population for All Years (Both Sexes, Border)\")\n",
    "\n",
    "# Show the plot\n",
    "plt.show()\n",
    "\n",
    "#Doing the same for rest of regions\n",
    "# West\n",
    "df_filtered2 = df_pop[(df_pop[\"Sex\"] == \"Both sexes\") & (df_pop[\"Region\"] == \"West\")]\n",
    "df_grouped2 = df_filtered2.groupby(\"Year\")[\"VALUE\"].sum()\n",
    "fig, ax = plt.subplots(figsize=(4, 2))\n",
    "sns.lineplot(x=df_grouped2.index, y=df_grouped2.values, ax=ax)\n",
    "plt.xlabel(\"Year\")\n",
    "plt.ylabel(\"Total Population\")\n",
    "plt.title(\"Total Population for All Years (Both Sexes, West)\")\n",
    "plt.show()\n",
    "\n",
    "\n",
    "# Mid-West\n",
    "df_filtered3 = df_pop[(df_pop[\"Sex\"] == \"Both sexes\") & (df_pop[\"Region\"] == \"Mid-West\")]\n",
    "df_grouped3 = df_filtered3.groupby(\"Year\")[\"VALUE\"].sum()\n",
    "fig, ax = plt.subplots(figsize=(4, 2))\n",
    "sns.lineplot(x=df_grouped3.index, y=df_grouped3.values, ax=ax)\n",
    "plt.xlabel(\"Year\")\n",
    "plt.ylabel(\"Total Population\")\n",
    "plt.title(\"Total Population for All Years (Both Sexes, Mid-West)\")\n",
    "plt.show()\n",
    "\n",
    "# Mid-East\n",
    "df_filtered4 = df_pop[(df_pop[\"Sex\"] == \"Both sexes\") & (df_pop[\"Region\"] == \"Mid-East\")]\n",
    "df_grouped4 = df_filtered4.groupby(\"Year\")[\"VALUE\"].sum()\n",
    "fig, ax = plt.subplots(figsize=(4, 2))\n",
    "sns.lineplot(x=df_grouped4.index, y=df_grouped4.values, ax=ax)\n",
    "plt.xlabel(\"Year\")\n",
    "plt.ylabel(\"Total Population\")\n",
    "plt.title(\"Total Population for All Years (Both Sexes, Mid-East)\")\n",
    "plt.show()\n",
    "\n",
    "# South-East\n",
    "df_filtered5 = df_pop[(df_pop[\"Sex\"] == \"Both sexes\") & (df_pop[\"Region\"] == \"South-East\")]\n",
    "df_grouped5 = df_filtered5.groupby(\"Year\")[\"VALUE\"].sum()\n",
    "fig, ax = plt.subplots(figsize=(4, 2))\n",
    "sns.lineplot(x=df_grouped5.index, y=df_grouped5.values, ax=ax)\n",
    "plt.xlabel(\"Year\")\n",
    "plt.ylabel(\"Total Population\")\n",
    "plt.title(\"Total Population for All Years (Both Sexes, South-East)\")\n",
    "plt.show()\n",
    "\n",
    "\n",
    "# South-West\n",
    "df_filtered6 = df_pop[(df_pop[\"Sex\"] == \"Both sexes\") & (df_pop[\"Region\"] == \"South-West\")]\n",
    "df_grouped6 = df_filtered6.groupby(\"Year\")[\"VALUE\"].sum()\n",
    "fig, ax = plt.subplots(figsize=(4, 2))\n",
    "sns.lineplot(x=df_grouped6.index, y=df_grouped6.values, ax=ax)\n",
    "plt.xlabel(\"Year\")\n",
    "plt.ylabel(\"Total Population\")\n",
    "plt.title(\"Total Population for All Years (Both Sexes, South-West)\")\n",
    "plt.show()\n",
    "\n",
    "\n",
    "# Midland\n",
    "df_filtered7 = df_pop[(df_pop[\"Sex\"] == \"Both sexes\") & (df_pop[\"Region\"] == \"Midland\")]\n",
    "df_grouped7 = df_filtered7.groupby(\"Year\")[\"VALUE\"].sum()\n",
    "fig, ax = plt.subplots(figsize=(4, 2))\n",
    "sns.lineplot(x=df_grouped7.index, y=df_grouped7.values, ax=ax)\n",
    "plt.xlabel(\"Year\")\n",
    "plt.ylabel(\"Total Population\")\n",
    "plt.title(\"Total Population for All Years (Both Sexes, Midland)\")\n",
    "plt.show()\n",
    "\n",
    "# Dublin\n",
    "df_filtered8 = df_pop[(df_pop[\"Sex\"] == \"Both sexes\") & (df_pop[\"Region\"] == \"Dublin\")]\n",
    "df_grouped8 = df_filtered8.groupby(\"Year\")[\"VALUE\"].sum()\n",
    "fig, ax = plt.subplots(figsize=(4, 2))\n",
    "sns.lineplot(x=df_grouped8.index, y=df_grouped8.values, ax=ax)\n",
    "plt.xlabel(\"Year\")\n",
    "plt.ylabel(\"Total Population\")\n",
    "plt.title(\"Total Population for All Years (Both Sexes, Dublin)\")\n",
    "plt.show()\n",
    "\n"
   ]
  },
  {
   "cell_type": "markdown",
   "id": "6741b193",
   "metadata": {},
   "source": [
    "**Meaning**\n",
    "Each region has positive trend in data population growth, so it is expected to have growth in the internet access availability"
   ]
  },
  {
   "cell_type": "markdown",
   "id": "d7d1259b",
   "metadata": {},
   "source": [
    "# Households with Internet access \n",
    "# Overview of 3 files in bulk"
   ]
  },
  {
   "cell_type": "code",
   "execution_count": 138,
   "id": "13ff2bbd",
   "metadata": {},
   "outputs": [
    {
     "data": {
      "text/html": [
       "<div>\n",
       "<style scoped>\n",
       "    .dataframe tbody tr th:only-of-type {\n",
       "        vertical-align: middle;\n",
       "    }\n",
       "\n",
       "    .dataframe tbody tr th {\n",
       "        vertical-align: top;\n",
       "    }\n",
       "\n",
       "    .dataframe thead th {\n",
       "        text-align: right;\n",
       "    }\n",
       "</style>\n",
       "<table border=\"1\" class=\"dataframe\">\n",
       "  <thead>\n",
       "    <tr style=\"text-align: right;\">\n",
       "      <th></th>\n",
       "      <th>Statistic Label</th>\n",
       "      <th>Census Year</th>\n",
       "      <th>Internet</th>\n",
       "      <th>County</th>\n",
       "      <th>UNIT</th>\n",
       "      <th>VALUE</th>\n",
       "    </tr>\n",
       "  </thead>\n",
       "  <tbody>\n",
       "    <tr>\n",
       "      <th>0</th>\n",
       "      <td>Households with Internet access</td>\n",
       "      <td>2011</td>\n",
       "      <td>Broadband</td>\n",
       "      <td>Carlow County</td>\n",
       "      <td>Number</td>\n",
       "      <td>11158</td>\n",
       "    </tr>\n",
       "    <tr>\n",
       "      <th>1</th>\n",
       "      <td>Households with Internet access</td>\n",
       "      <td>2011</td>\n",
       "      <td>Broadband</td>\n",
       "      <td>Dublin City</td>\n",
       "      <td>Number</td>\n",
       "      <td>137669</td>\n",
       "    </tr>\n",
       "    <tr>\n",
       "      <th>2</th>\n",
       "      <td>Households with Internet access</td>\n",
       "      <td>2011</td>\n",
       "      <td>Broadband</td>\n",
       "      <td>South Dublin</td>\n",
       "      <td>Number</td>\n",
       "      <td>68306</td>\n",
       "    </tr>\n",
       "    <tr>\n",
       "      <th>3</th>\n",
       "      <td>Households with Internet access</td>\n",
       "      <td>2011</td>\n",
       "      <td>Broadband</td>\n",
       "      <td>Fingal</td>\n",
       "      <td>Number</td>\n",
       "      <td>73868</td>\n",
       "    </tr>\n",
       "    <tr>\n",
       "      <th>4</th>\n",
       "      <td>Households with Internet access</td>\n",
       "      <td>2011</td>\n",
       "      <td>Broadband</td>\n",
       "      <td>Dún Laoghaire-Rathdown</td>\n",
       "      <td>Number</td>\n",
       "      <td>59750</td>\n",
       "    </tr>\n",
       "  </tbody>\n",
       "</table>\n",
       "</div>"
      ],
      "text/plain": [
       "                   Statistic Label  Census Year   Internet  \\\n",
       "0  Households with Internet access         2011  Broadband   \n",
       "1  Households with Internet access         2011  Broadband   \n",
       "2  Households with Internet access         2011  Broadband   \n",
       "3  Households with Internet access         2011  Broadband   \n",
       "4  Households with Internet access         2011  Broadband   \n",
       "\n",
       "                   County    UNIT   VALUE  \n",
       "0           Carlow County  Number   11158  \n",
       "1             Dublin City  Number  137669  \n",
       "2            South Dublin  Number   68306  \n",
       "3                  Fingal  Number   73868  \n",
       "4  Dún Laoghaire-Rathdown  Number   59750  "
      ]
     },
     "execution_count": 138,
     "metadata": {},
     "output_type": "execute_result"
    }
   ],
   "source": [
    "#creating dataframe for SAP2011 file and validating it\n",
    "\n",
    "df_it11 = pd.read_csv(\"SAP2011.csv\")\n",
    "df_it11.head()"
   ]
  },
  {
   "cell_type": "code",
   "execution_count": 139,
   "id": "653255b4",
   "metadata": {},
   "outputs": [
    {
     "name": "stdout",
     "output_type": "stream",
     "text": [
      "<class 'pandas.core.frame.DataFrame'>\n",
      "RangeIndex: 170 entries, 0 to 169\n",
      "Data columns (total 6 columns):\n",
      " #   Column           Non-Null Count  Dtype \n",
      "---  ------           --------------  ----- \n",
      " 0   Statistic Label  170 non-null    object\n",
      " 1   Census Year      170 non-null    int64 \n",
      " 2   Internet         170 non-null    object\n",
      " 3   County           170 non-null    object\n",
      " 4   UNIT             170 non-null    object\n",
      " 5   VALUE            170 non-null    int64 \n",
      "dtypes: int64(2), object(4)\n",
      "memory usage: 8.1+ KB\n"
     ]
    }
   ],
   "source": [
    "# checking dataframe short summary: data types, null values, nr of the rows\n",
    "\n",
    "df_it11.info()"
   ]
  },
  {
   "cell_type": "code",
   "execution_count": 140,
   "id": "7fa4867c",
   "metadata": {
    "scrolled": true
   },
   "outputs": [
    {
     "data": {
      "text/html": [
       "<div>\n",
       "<style scoped>\n",
       "    .dataframe tbody tr th:only-of-type {\n",
       "        vertical-align: middle;\n",
       "    }\n",
       "\n",
       "    .dataframe tbody tr th {\n",
       "        vertical-align: top;\n",
       "    }\n",
       "\n",
       "    .dataframe thead th {\n",
       "        text-align: right;\n",
       "    }\n",
       "</style>\n",
       "<table border=\"1\" class=\"dataframe\">\n",
       "  <thead>\n",
       "    <tr style=\"text-align: right;\">\n",
       "      <th></th>\n",
       "      <th>Statistic Label</th>\n",
       "      <th>Census Year</th>\n",
       "      <th>County</th>\n",
       "      <th>Internet</th>\n",
       "      <th>UNIT</th>\n",
       "      <th>VALUE</th>\n",
       "    </tr>\n",
       "  </thead>\n",
       "  <tbody>\n",
       "    <tr>\n",
       "      <th>0</th>\n",
       "      <td>Households with Internet access</td>\n",
       "      <td>2016</td>\n",
       "      <td>Carlow</td>\n",
       "      <td>Broadband</td>\n",
       "      <td>Number</td>\n",
       "      <td>13539</td>\n",
       "    </tr>\n",
       "    <tr>\n",
       "      <th>1</th>\n",
       "      <td>Households with Internet access</td>\n",
       "      <td>2016</td>\n",
       "      <td>Carlow</td>\n",
       "      <td>Other</td>\n",
       "      <td>Number</td>\n",
       "      <td>1852</td>\n",
       "    </tr>\n",
       "    <tr>\n",
       "      <th>2</th>\n",
       "      <td>Households with Internet access</td>\n",
       "      <td>2016</td>\n",
       "      <td>Carlow</td>\n",
       "      <td>No</td>\n",
       "      <td>Number</td>\n",
       "      <td>4432</td>\n",
       "    </tr>\n",
       "    <tr>\n",
       "      <th>3</th>\n",
       "      <td>Households with Internet access</td>\n",
       "      <td>2016</td>\n",
       "      <td>Carlow</td>\n",
       "      <td>Not Stated</td>\n",
       "      <td>Number</td>\n",
       "      <td>642</td>\n",
       "    </tr>\n",
       "    <tr>\n",
       "      <th>4</th>\n",
       "      <td>Households with Internet access</td>\n",
       "      <td>2016</td>\n",
       "      <td>Carlow</td>\n",
       "      <td>Total</td>\n",
       "      <td>Number</td>\n",
       "      <td>20465</td>\n",
       "    </tr>\n",
       "  </tbody>\n",
       "</table>\n",
       "</div>"
      ],
      "text/plain": [
       "                   Statistic Label  Census Year  County    Internet    UNIT  \\\n",
       "0  Households with Internet access         2016  Carlow   Broadband  Number   \n",
       "1  Households with Internet access         2016  Carlow       Other  Number   \n",
       "2  Households with Internet access         2016  Carlow          No  Number   \n",
       "3  Households with Internet access         2016  Carlow  Not Stated  Number   \n",
       "4  Households with Internet access         2016  Carlow       Total  Number   \n",
       "\n",
       "   VALUE  \n",
       "0  13539  \n",
       "1   1852  \n",
       "2   4432  \n",
       "3    642  \n",
       "4  20465  "
      ]
     },
     "execution_count": 140,
     "metadata": {},
     "output_type": "execute_result"
    }
   ],
   "source": [
    "#creating dataframe for SAP2011 file and validating it\n",
    "\n",
    "df_it16 = pd.read_csv(\"SAP2016.csv\")\n",
    "df_it16.head()"
   ]
  },
  {
   "cell_type": "code",
   "execution_count": 141,
   "id": "ac0866bf",
   "metadata": {},
   "outputs": [
    {
     "name": "stdout",
     "output_type": "stream",
     "text": [
      "<class 'pandas.core.frame.DataFrame'>\n",
      "RangeIndex: 155 entries, 0 to 154\n",
      "Data columns (total 6 columns):\n",
      " #   Column           Non-Null Count  Dtype \n",
      "---  ------           --------------  ----- \n",
      " 0   Statistic Label  155 non-null    object\n",
      " 1   Census Year      155 non-null    int64 \n",
      " 2   County           155 non-null    object\n",
      " 3   Internet         155 non-null    object\n",
      " 4   UNIT             155 non-null    object\n",
      " 5   VALUE            155 non-null    int64 \n",
      "dtypes: int64(2), object(4)\n",
      "memory usage: 7.4+ KB\n"
     ]
    }
   ],
   "source": [
    "# checking dataframe short summary: data types, null values, nr of the rows\n",
    "\n",
    "df_it16.info()"
   ]
  },
  {
   "cell_type": "code",
   "execution_count": 142,
   "id": "05902248",
   "metadata": {
    "scrolled": false
   },
   "outputs": [
    {
     "data": {
      "text/html": [
       "<div>\n",
       "<style scoped>\n",
       "    .dataframe tbody tr th:only-of-type {\n",
       "        vertical-align: middle;\n",
       "    }\n",
       "\n",
       "    .dataframe tbody tr th {\n",
       "        vertical-align: top;\n",
       "    }\n",
       "\n",
       "    .dataframe thead th {\n",
       "        text-align: right;\n",
       "    }\n",
       "</style>\n",
       "<table border=\"1\" class=\"dataframe\">\n",
       "  <thead>\n",
       "    <tr style=\"text-align: right;\">\n",
       "      <th></th>\n",
       "      <th>Statistic Label</th>\n",
       "      <th>Census Year</th>\n",
       "      <th>Internet</th>\n",
       "      <th>NUTS 3 Region</th>\n",
       "      <th>UNIT</th>\n",
       "      <th>VALUE</th>\n",
       "    </tr>\n",
       "  </thead>\n",
       "  <tbody>\n",
       "    <tr>\n",
       "      <th>0</th>\n",
       "      <td>Households with Internet access</td>\n",
       "      <td>2022</td>\n",
       "      <td>Broadband</td>\n",
       "      <td>Ireland</td>\n",
       "      <td>Number</td>\n",
       "      <td>1457883</td>\n",
       "    </tr>\n",
       "    <tr>\n",
       "      <th>1</th>\n",
       "      <td>Households with Internet access</td>\n",
       "      <td>2022</td>\n",
       "      <td>Broadband</td>\n",
       "      <td>Border</td>\n",
       "      <td>Number</td>\n",
       "      <td>116928</td>\n",
       "    </tr>\n",
       "    <tr>\n",
       "      <th>2</th>\n",
       "      <td>Households with Internet access</td>\n",
       "      <td>2022</td>\n",
       "      <td>Broadband</td>\n",
       "      <td>West</td>\n",
       "      <td>Number</td>\n",
       "      <td>134086</td>\n",
       "    </tr>\n",
       "    <tr>\n",
       "      <th>3</th>\n",
       "      <td>Households with Internet access</td>\n",
       "      <td>2022</td>\n",
       "      <td>Broadband</td>\n",
       "      <td>Mid-West</td>\n",
       "      <td>Number</td>\n",
       "      <td>137622</td>\n",
       "    </tr>\n",
       "    <tr>\n",
       "      <th>4</th>\n",
       "      <td>Households with Internet access</td>\n",
       "      <td>2022</td>\n",
       "      <td>Broadband</td>\n",
       "      <td>South-East</td>\n",
       "      <td>Number</td>\n",
       "      <td>124415</td>\n",
       "    </tr>\n",
       "  </tbody>\n",
       "</table>\n",
       "</div>"
      ],
      "text/plain": [
       "                   Statistic Label  Census Year   Internet NUTS 3 Region  \\\n",
       "0  Households with Internet access         2022  Broadband       Ireland   \n",
       "1  Households with Internet access         2022  Broadband        Border   \n",
       "2  Households with Internet access         2022  Broadband          West   \n",
       "3  Households with Internet access         2022  Broadband      Mid-West   \n",
       "4  Households with Internet access         2022  Broadband    South-East   \n",
       "\n",
       "     UNIT    VALUE  \n",
       "0  Number  1457883  \n",
       "1  Number   116928  \n",
       "2  Number   134086  \n",
       "3  Number   137622  \n",
       "4  Number   124415  "
      ]
     },
     "execution_count": 142,
     "metadata": {},
     "output_type": "execute_result"
    }
   ],
   "source": [
    "#creating dataframe for SAP2011 file and validating it\n",
    "\n",
    "df_it22 = pd.read_csv(\"SAP2022.csv\")\n",
    "df_it22.head()"
   ]
  },
  {
   "cell_type": "code",
   "execution_count": 143,
   "id": "74478ac0",
   "metadata": {},
   "outputs": [
    {
     "name": "stdout",
     "output_type": "stream",
     "text": [
      "<class 'pandas.core.frame.DataFrame'>\n",
      "RangeIndex: 45 entries, 0 to 44\n",
      "Data columns (total 6 columns):\n",
      " #   Column           Non-Null Count  Dtype \n",
      "---  ------           --------------  ----- \n",
      " 0   Statistic Label  45 non-null     object\n",
      " 1   Census Year      45 non-null     int64 \n",
      " 2   Internet         45 non-null     object\n",
      " 3   NUTS 3 Region    45 non-null     object\n",
      " 4   UNIT             45 non-null     object\n",
      " 5   VALUE            45 non-null     int64 \n",
      "dtypes: int64(2), object(4)\n",
      "memory usage: 2.2+ KB\n"
     ]
    }
   ],
   "source": [
    "# checking dataframe short summary: data types, null values, nr of the rows\n",
    "\n",
    "df_it22.info()"
   ]
  },
  {
   "cell_type": "markdown",
   "id": "dc241b17",
   "metadata": {},
   "source": [
    "**Brief overview**\n",
    "\n",
    "1. **Observation:** there are 3 files with the same data for different years. **Meaning:** all files can be to aggregate in 1 dataframe\n",
    "2.  **Observation:** All 3 files have same structure: 2 integer fileds and 4 fileds with object type data.\n",
    "    **Meaning: Having same data structure give us a possibility to combine all 3 files in 1 without data type changes\n",
    "3. **Observation:** in the SAP2016 columns 'County' and 'Internet' are in different order. \n",
    "    **Meaning: This would need to be changed in order to have possibility to merge all 3 data frames wihtout having data inconsistency\n",
    "4.  **Observation:** Column 'VALUE' has a vague general name. \n",
    "    **Meaning: This might be confusing in the future, so the name of the column needs to be changed in a way to reflect contained data\n",
    "5. **Observation:** SAP2022 uses NUTS3 regions, and other 2 files have column \"County\"\n",
    "       **Meaning: For all 3 files column with counties and regions need more detailed analisys"
   ]
  },
  {
   "cell_type": "markdown",
   "id": "d0082a51",
   "metadata": {},
   "source": [
    "**Let's have a descriptive analysis for each file**"
   ]
  },
  {
   "cell_type": "code",
   "execution_count": 145,
   "id": "ae84a6ab",
   "metadata": {
    "scrolled": true
   },
   "outputs": [
    {
     "data": {
      "text/html": [
       "<div>\n",
       "<style scoped>\n",
       "    .dataframe tbody tr th:only-of-type {\n",
       "        vertical-align: middle;\n",
       "    }\n",
       "\n",
       "    .dataframe tbody tr th {\n",
       "        vertical-align: top;\n",
       "    }\n",
       "\n",
       "    .dataframe thead th {\n",
       "        text-align: right;\n",
       "    }\n",
       "</style>\n",
       "<table border=\"1\" class=\"dataframe\">\n",
       "  <thead>\n",
       "    <tr style=\"text-align: right;\">\n",
       "      <th></th>\n",
       "      <th>Statistic Label</th>\n",
       "      <th>Census Year</th>\n",
       "      <th>Internet</th>\n",
       "      <th>County</th>\n",
       "      <th>UNIT</th>\n",
       "      <th>VALUE</th>\n",
       "    </tr>\n",
       "  </thead>\n",
       "  <tbody>\n",
       "    <tr>\n",
       "      <th>count</th>\n",
       "      <td>170</td>\n",
       "      <td>170.0</td>\n",
       "      <td>170</td>\n",
       "      <td>170</td>\n",
       "      <td>170</td>\n",
       "      <td>170.000000</td>\n",
       "    </tr>\n",
       "    <tr>\n",
       "      <th>unique</th>\n",
       "      <td>1</td>\n",
       "      <td>NaN</td>\n",
       "      <td>5</td>\n",
       "      <td>34</td>\n",
       "      <td>1</td>\n",
       "      <td>NaN</td>\n",
       "    </tr>\n",
       "    <tr>\n",
       "      <th>top</th>\n",
       "      <td>Households with Internet access</td>\n",
       "      <td>NaN</td>\n",
       "      <td>Broadband</td>\n",
       "      <td>Carlow County</td>\n",
       "      <td>Number</td>\n",
       "      <td>NaN</td>\n",
       "    </tr>\n",
       "    <tr>\n",
       "      <th>freq</th>\n",
       "      <td>170</td>\n",
       "      <td>NaN</td>\n",
       "      <td>34</td>\n",
       "      <td>5</td>\n",
       "      <td>170</td>\n",
       "      <td>NaN</td>\n",
       "    </tr>\n",
       "    <tr>\n",
       "      <th>mean</th>\n",
       "      <td>NaN</td>\n",
       "      <td>2011.0</td>\n",
       "      <td>NaN</td>\n",
       "      <td>NaN</td>\n",
       "      <td>NaN</td>\n",
       "      <td>19404.800000</td>\n",
       "    </tr>\n",
       "    <tr>\n",
       "      <th>std</th>\n",
       "      <td>NaN</td>\n",
       "      <td>0.0</td>\n",
       "      <td>NaN</td>\n",
       "      <td>NaN</td>\n",
       "      <td>NaN</td>\n",
       "      <td>27962.747345</td>\n",
       "    </tr>\n",
       "    <tr>\n",
       "      <th>min</th>\n",
       "      <td>NaN</td>\n",
       "      <td>2011.0</td>\n",
       "      <td>NaN</td>\n",
       "      <td>NaN</td>\n",
       "      <td>NaN</td>\n",
       "      <td>307.000000</td>\n",
       "    </tr>\n",
       "    <tr>\n",
       "      <th>25%</th>\n",
       "      <td>NaN</td>\n",
       "      <td>2011.0</td>\n",
       "      <td>NaN</td>\n",
       "      <td>NaN</td>\n",
       "      <td>NaN</td>\n",
       "      <td>2522.000000</td>\n",
       "    </tr>\n",
       "    <tr>\n",
       "      <th>50%</th>\n",
       "      <td>NaN</td>\n",
       "      <td>2011.0</td>\n",
       "      <td>NaN</td>\n",
       "      <td>NaN</td>\n",
       "      <td>NaN</td>\n",
       "      <td>10701.000000</td>\n",
       "    </tr>\n",
       "    <tr>\n",
       "      <th>75%</th>\n",
       "      <td>NaN</td>\n",
       "      <td>2011.0</td>\n",
       "      <td>NaN</td>\n",
       "      <td>NaN</td>\n",
       "      <td>NaN</td>\n",
       "      <td>25468.500000</td>\n",
       "    </tr>\n",
       "    <tr>\n",
       "      <th>max</th>\n",
       "      <td>NaN</td>\n",
       "      <td>2011.0</td>\n",
       "      <td>NaN</td>\n",
       "      <td>NaN</td>\n",
       "      <td>NaN</td>\n",
       "      <td>207847.000000</td>\n",
       "    </tr>\n",
       "  </tbody>\n",
       "</table>\n",
       "</div>"
      ],
      "text/plain": [
       "                        Statistic Label  Census Year   Internet  \\\n",
       "count                               170        170.0        170   \n",
       "unique                                1          NaN          5   \n",
       "top     Households with Internet access          NaN  Broadband   \n",
       "freq                                170          NaN         34   \n",
       "mean                                NaN       2011.0        NaN   \n",
       "std                                 NaN          0.0        NaN   \n",
       "min                                 NaN       2011.0        NaN   \n",
       "25%                                 NaN       2011.0        NaN   \n",
       "50%                                 NaN       2011.0        NaN   \n",
       "75%                                 NaN       2011.0        NaN   \n",
       "max                                 NaN       2011.0        NaN   \n",
       "\n",
       "               County    UNIT          VALUE  \n",
       "count             170     170     170.000000  \n",
       "unique             34       1            NaN  \n",
       "top     Carlow County  Number            NaN  \n",
       "freq                5     170            NaN  \n",
       "mean              NaN     NaN   19404.800000  \n",
       "std               NaN     NaN   27962.747345  \n",
       "min               NaN     NaN     307.000000  \n",
       "25%               NaN     NaN    2522.000000  \n",
       "50%               NaN     NaN   10701.000000  \n",
       "75%               NaN     NaN   25468.500000  \n",
       "max               NaN     NaN  207847.000000  "
      ]
     },
     "execution_count": 145,
     "metadata": {},
     "output_type": "execute_result"
    }
   ],
   "source": [
    "df_it11.describe(include = 'all')"
   ]
  },
  {
   "cell_type": "code",
   "execution_count": 146,
   "id": "601873b0",
   "metadata": {},
   "outputs": [
    {
     "data": {
      "text/html": [
       "<div>\n",
       "<style scoped>\n",
       "    .dataframe tbody tr th:only-of-type {\n",
       "        vertical-align: middle;\n",
       "    }\n",
       "\n",
       "    .dataframe tbody tr th {\n",
       "        vertical-align: top;\n",
       "    }\n",
       "\n",
       "    .dataframe thead th {\n",
       "        text-align: right;\n",
       "    }\n",
       "</style>\n",
       "<table border=\"1\" class=\"dataframe\">\n",
       "  <thead>\n",
       "    <tr style=\"text-align: right;\">\n",
       "      <th></th>\n",
       "      <th>Statistic Label</th>\n",
       "      <th>Census Year</th>\n",
       "      <th>County</th>\n",
       "      <th>Internet</th>\n",
       "      <th>UNIT</th>\n",
       "      <th>VALUE</th>\n",
       "    </tr>\n",
       "  </thead>\n",
       "  <tbody>\n",
       "    <tr>\n",
       "      <th>count</th>\n",
       "      <td>155</td>\n",
       "      <td>155.0</td>\n",
       "      <td>155</td>\n",
       "      <td>155</td>\n",
       "      <td>155</td>\n",
       "      <td>155.000000</td>\n",
       "    </tr>\n",
       "    <tr>\n",
       "      <th>unique</th>\n",
       "      <td>1</td>\n",
       "      <td>NaN</td>\n",
       "      <td>31</td>\n",
       "      <td>5</td>\n",
       "      <td>1</td>\n",
       "      <td>NaN</td>\n",
       "    </tr>\n",
       "    <tr>\n",
       "      <th>top</th>\n",
       "      <td>Households with Internet access</td>\n",
       "      <td>NaN</td>\n",
       "      <td>Carlow</td>\n",
       "      <td>Broadband</td>\n",
       "      <td>Number</td>\n",
       "      <td>NaN</td>\n",
       "    </tr>\n",
       "    <tr>\n",
       "      <th>freq</th>\n",
       "      <td>155</td>\n",
       "      <td>NaN</td>\n",
       "      <td>5</td>\n",
       "      <td>31</td>\n",
       "      <td>155</td>\n",
       "      <td>NaN</td>\n",
       "    </tr>\n",
       "    <tr>\n",
       "      <th>mean</th>\n",
       "      <td>NaN</td>\n",
       "      <td>2016.0</td>\n",
       "      <td>NaN</td>\n",
       "      <td>NaN</td>\n",
       "      <td>NaN</td>\n",
       "      <td>21905.354839</td>\n",
       "    </tr>\n",
       "    <tr>\n",
       "      <th>std</th>\n",
       "      <td>NaN</td>\n",
       "      <td>0.0</td>\n",
       "      <td>NaN</td>\n",
       "      <td>NaN</td>\n",
       "      <td>NaN</td>\n",
       "      <td>31139.218370</td>\n",
       "    </tr>\n",
       "    <tr>\n",
       "      <th>min</th>\n",
       "      <td>NaN</td>\n",
       "      <td>2016.0</td>\n",
       "      <td>NaN</td>\n",
       "      <td>NaN</td>\n",
       "      <td>NaN</td>\n",
       "      <td>328.000000</td>\n",
       "    </tr>\n",
       "    <tr>\n",
       "      <th>25%</th>\n",
       "      <td>NaN</td>\n",
       "      <td>2016.0</td>\n",
       "      <td>NaN</td>\n",
       "      <td>NaN</td>\n",
       "      <td>NaN</td>\n",
       "      <td>2927.000000</td>\n",
       "    </tr>\n",
       "    <tr>\n",
       "      <th>50%</th>\n",
       "      <td>NaN</td>\n",
       "      <td>2016.0</td>\n",
       "      <td>NaN</td>\n",
       "      <td>NaN</td>\n",
       "      <td>NaN</td>\n",
       "      <td>8887.000000</td>\n",
       "    </tr>\n",
       "    <tr>\n",
       "      <th>75%</th>\n",
       "      <td>NaN</td>\n",
       "      <td>2016.0</td>\n",
       "      <td>NaN</td>\n",
       "      <td>NaN</td>\n",
       "      <td>NaN</td>\n",
       "      <td>29787.500000</td>\n",
       "    </tr>\n",
       "    <tr>\n",
       "      <th>max</th>\n",
       "      <td>NaN</td>\n",
       "      <td>2016.0</td>\n",
       "      <td>NaN</td>\n",
       "      <td>NaN</td>\n",
       "      <td>NaN</td>\n",
       "      <td>211591.000000</td>\n",
       "    </tr>\n",
       "  </tbody>\n",
       "</table>\n",
       "</div>"
      ],
      "text/plain": [
       "                        Statistic Label  Census Year  County   Internet  \\\n",
       "count                               155        155.0     155        155   \n",
       "unique                                1          NaN      31          5   \n",
       "top     Households with Internet access          NaN  Carlow  Broadband   \n",
       "freq                                155          NaN       5         31   \n",
       "mean                                NaN       2016.0     NaN        NaN   \n",
       "std                                 NaN          0.0     NaN        NaN   \n",
       "min                                 NaN       2016.0     NaN        NaN   \n",
       "25%                                 NaN       2016.0     NaN        NaN   \n",
       "50%                                 NaN       2016.0     NaN        NaN   \n",
       "75%                                 NaN       2016.0     NaN        NaN   \n",
       "max                                 NaN       2016.0     NaN        NaN   \n",
       "\n",
       "          UNIT          VALUE  \n",
       "count      155     155.000000  \n",
       "unique       1            NaN  \n",
       "top     Number            NaN  \n",
       "freq       155            NaN  \n",
       "mean       NaN   21905.354839  \n",
       "std        NaN   31139.218370  \n",
       "min        NaN     328.000000  \n",
       "25%        NaN    2927.000000  \n",
       "50%        NaN    8887.000000  \n",
       "75%        NaN   29787.500000  \n",
       "max        NaN  211591.000000  "
      ]
     },
     "execution_count": 146,
     "metadata": {},
     "output_type": "execute_result"
    }
   ],
   "source": [
    "df_it16.describe(include = 'all')"
   ]
  },
  {
   "cell_type": "code",
   "execution_count": 147,
   "id": "52f275f5",
   "metadata": {
    "scrolled": true
   },
   "outputs": [
    {
     "data": {
      "text/html": [
       "<div>\n",
       "<style scoped>\n",
       "    .dataframe tbody tr th:only-of-type {\n",
       "        vertical-align: middle;\n",
       "    }\n",
       "\n",
       "    .dataframe tbody tr th {\n",
       "        vertical-align: top;\n",
       "    }\n",
       "\n",
       "    .dataframe thead th {\n",
       "        text-align: right;\n",
       "    }\n",
       "</style>\n",
       "<table border=\"1\" class=\"dataframe\">\n",
       "  <thead>\n",
       "    <tr style=\"text-align: right;\">\n",
       "      <th></th>\n",
       "      <th>Statistic Label</th>\n",
       "      <th>Census Year</th>\n",
       "      <th>Internet</th>\n",
       "      <th>NUTS 3 Region</th>\n",
       "      <th>UNIT</th>\n",
       "      <th>VALUE</th>\n",
       "    </tr>\n",
       "  </thead>\n",
       "  <tbody>\n",
       "    <tr>\n",
       "      <th>count</th>\n",
       "      <td>45</td>\n",
       "      <td>45.0</td>\n",
       "      <td>45</td>\n",
       "      <td>45</td>\n",
       "      <td>45</td>\n",
       "      <td>4.500000e+01</td>\n",
       "    </tr>\n",
       "    <tr>\n",
       "      <th>unique</th>\n",
       "      <td>1</td>\n",
       "      <td>NaN</td>\n",
       "      <td>5</td>\n",
       "      <td>9</td>\n",
       "      <td>1</td>\n",
       "      <td>NaN</td>\n",
       "    </tr>\n",
       "    <tr>\n",
       "      <th>top</th>\n",
       "      <td>Households with Internet access</td>\n",
       "      <td>NaN</td>\n",
       "      <td>Broadband</td>\n",
       "      <td>Ireland</td>\n",
       "      <td>Number</td>\n",
       "      <td>NaN</td>\n",
       "    </tr>\n",
       "    <tr>\n",
       "      <th>freq</th>\n",
       "      <td>45</td>\n",
       "      <td>NaN</td>\n",
       "      <td>9</td>\n",
       "      <td>5</td>\n",
       "      <td>45</td>\n",
       "      <td>NaN</td>\n",
       "    </tr>\n",
       "    <tr>\n",
       "      <th>mean</th>\n",
       "      <td>NaN</td>\n",
       "      <td>2022.0</td>\n",
       "      <td>NaN</td>\n",
       "      <td>NaN</td>\n",
       "      <td>NaN</td>\n",
       "      <td>1.632647e+05</td>\n",
       "    </tr>\n",
       "    <tr>\n",
       "      <th>std</th>\n",
       "      <td>NaN</td>\n",
       "      <td>0.0</td>\n",
       "      <td>NaN</td>\n",
       "      <td>NaN</td>\n",
       "      <td>NaN</td>\n",
       "      <td>3.454294e+05</td>\n",
       "    </tr>\n",
       "    <tr>\n",
       "      <th>min</th>\n",
       "      <td>NaN</td>\n",
       "      <td>2022.0</td>\n",
       "      <td>NaN</td>\n",
       "      <td>NaN</td>\n",
       "      <td>NaN</td>\n",
       "      <td>5.184000e+03</td>\n",
       "    </tr>\n",
       "    <tr>\n",
       "      <th>25%</th>\n",
       "      <td>NaN</td>\n",
       "      <td>2022.0</td>\n",
       "      <td>NaN</td>\n",
       "      <td>NaN</td>\n",
       "      <td>NaN</td>\n",
       "      <td>1.342300e+04</td>\n",
       "    </tr>\n",
       "    <tr>\n",
       "      <th>50%</th>\n",
       "      <td>NaN</td>\n",
       "      <td>2022.0</td>\n",
       "      <td>NaN</td>\n",
       "      <td>NaN</td>\n",
       "      <td>NaN</td>\n",
       "      <td>2.628400e+04</td>\n",
       "    </tr>\n",
       "    <tr>\n",
       "      <th>75%</th>\n",
       "      <td>NaN</td>\n",
       "      <td>2022.0</td>\n",
       "      <td>NaN</td>\n",
       "      <td>NaN</td>\n",
       "      <td>NaN</td>\n",
       "      <td>1.598660e+05</td>\n",
       "    </tr>\n",
       "    <tr>\n",
       "      <th>max</th>\n",
       "      <td>NaN</td>\n",
       "      <td>2022.0</td>\n",
       "      <td>NaN</td>\n",
       "      <td>NaN</td>\n",
       "      <td>NaN</td>\n",
       "      <td>1.836728e+06</td>\n",
       "    </tr>\n",
       "  </tbody>\n",
       "</table>\n",
       "</div>"
      ],
      "text/plain": [
       "                        Statistic Label  Census Year   Internet NUTS 3 Region  \\\n",
       "count                                45         45.0         45            45   \n",
       "unique                                1          NaN          5             9   \n",
       "top     Households with Internet access          NaN  Broadband       Ireland   \n",
       "freq                                 45          NaN          9             5   \n",
       "mean                                NaN       2022.0        NaN           NaN   \n",
       "std                                 NaN          0.0        NaN           NaN   \n",
       "min                                 NaN       2022.0        NaN           NaN   \n",
       "25%                                 NaN       2022.0        NaN           NaN   \n",
       "50%                                 NaN       2022.0        NaN           NaN   \n",
       "75%                                 NaN       2022.0        NaN           NaN   \n",
       "max                                 NaN       2022.0        NaN           NaN   \n",
       "\n",
       "          UNIT         VALUE  \n",
       "count       45  4.500000e+01  \n",
       "unique       1           NaN  \n",
       "top     Number           NaN  \n",
       "freq        45           NaN  \n",
       "mean       NaN  1.632647e+05  \n",
       "std        NaN  3.454294e+05  \n",
       "min        NaN  5.184000e+03  \n",
       "25%        NaN  1.342300e+04  \n",
       "50%        NaN  2.628400e+04  \n",
       "75%        NaN  1.598660e+05  \n",
       "max        NaN  1.836728e+06  "
      ]
     },
     "execution_count": 147,
     "metadata": {},
     "output_type": "execute_result"
    }
   ],
   "source": [
    "df_it22.describe(include = 'all')"
   ]
  },
  {
   "cell_type": "code",
   "execution_count": 56,
   "id": "7303fd5d",
   "metadata": {
    "scrolled": true
   },
   "outputs": [
    {
     "data": {
      "text/plain": [
       "array(['Households with Internet access'], dtype=object)"
      ]
     },
     "execution_count": 56,
     "metadata": {},
     "output_type": "execute_result"
    }
   ],
   "source": [
    "#analysing unique value in the 'Statistic Label' field for all 3 files, \n",
    "#in order to make sure that we have stats only for \"Households with Internet access\"\n",
    "\n",
    "#2011\n",
    "\n",
    "df_it11['Statistic Label'].unique()"
   ]
  },
  {
   "cell_type": "code",
   "execution_count": 74,
   "id": "62435a56",
   "metadata": {},
   "outputs": [
    {
     "data": {
      "text/plain": [
       "array(['Broadband', 'Other', 'No', 'Not Stated', 'Total'], dtype=object)"
      ]
     },
     "execution_count": 74,
     "metadata": {},
     "output_type": "execute_result"
    }
   ],
   "source": [
    "df_it11['Internet'].unique()"
   ]
  },
  {
   "cell_type": "code",
   "execution_count": 57,
   "id": "01e7abb1",
   "metadata": {},
   "outputs": [
    {
     "data": {
      "text/plain": [
       "array(['Households with Internet access'], dtype=object)"
      ]
     },
     "execution_count": 57,
     "metadata": {},
     "output_type": "execute_result"
    }
   ],
   "source": [
    "#2016\n",
    "\n",
    "df_it16['Statistic Label'].unique()"
   ]
  },
  {
   "cell_type": "code",
   "execution_count": 75,
   "id": "39f574e8",
   "metadata": {},
   "outputs": [
    {
     "data": {
      "text/plain": [
       "array(['Broadband', 'Other', 'No', 'Not Stated', 'Total'], dtype=object)"
      ]
     },
     "execution_count": 75,
     "metadata": {},
     "output_type": "execute_result"
    }
   ],
   "source": [
    "df_it16['Internet'].unique()"
   ]
  },
  {
   "cell_type": "code",
   "execution_count": 59,
   "id": "989a7332",
   "metadata": {},
   "outputs": [
    {
     "data": {
      "text/plain": [
       "array(['Households with Internet access'], dtype=object)"
      ]
     },
     "execution_count": 59,
     "metadata": {},
     "output_type": "execute_result"
    }
   ],
   "source": [
    "#2022\n",
    "\n",
    "df_it22['Statistic Label'].unique()"
   ]
  },
  {
   "cell_type": "code",
   "execution_count": 76,
   "id": "ce0910c5",
   "metadata": {},
   "outputs": [
    {
     "data": {
      "text/plain": [
       "array(['Broadband', 'No', 'Not stated', 'Other', 'Total'], dtype=object)"
      ]
     },
     "execution_count": 76,
     "metadata": {},
     "output_type": "execute_result"
    }
   ],
   "source": [
    "df_it22['Internet'].unique()"
   ]
  },
  {
   "cell_type": "markdown",
   "id": "4417818b",
   "metadata": {},
   "source": [
    "**Overview**\n",
    "1. **Observation:** Column 'Statistic Label' has only 1 value for all 3 files, so there is no need for changes\n",
    "    **Meaning:** Value from 'Statistic Label' column can be used as a name instead of \"VALUE\" column, it will give us more clarity later on on the data processing stage.\n",
    "    \n",
    "2. **Observation:** Column 'Internet' contain 'Total' value.\n",
    "    **Meaning:** This will create a duplication in the numbers in case of any aggregation, so all rows with 'Total' value need to be removed.\n",
    "    \n",
    "3. **Observation:** Column 'Internet' contain 'Broadband' and 'Other' values for those who have Internet Access.\n",
    "    **Meaning:**  future potential aggregation for these values can be 'Yes' as an opposite to those households without access.\n",
    "    \n",
    "4. **Observation:** Column 'Internet' contain 'Not Stated' value. \n",
    "    **Meaning:** These rows would need a separate deeper analysis.\n",
    "5. **Observation:** \"CensusYear\" column has 1 value. **Meaning** this is expected as each file contain data for 1 specific year.    "
   ]
  },
  {
   "cell_type": "markdown",
   "id": "44e4d1d6",
   "metadata": {},
   "source": [
    "**Exploring regions and counties**"
   ]
  },
  {
   "cell_type": "code",
   "execution_count": 65,
   "id": "c1680b1b",
   "metadata": {
    "scrolled": true
   },
   "outputs": [
    {
     "data": {
      "text/plain": [
       "array(['Carlow County', 'Dublin City', 'South Dublin', 'Fingal',\n",
       "       'Dún Laoghaire-Rathdown', 'Kildare County', 'Kilkenny County',\n",
       "       'Laois County', 'Longford County', 'Louth County', 'Meath County',\n",
       "       'Offaly County', 'Westmeath County', 'Wexford County',\n",
       "       'Wicklow County', 'Clare County', 'Cork City', 'Cork County',\n",
       "       'Kerry County', 'Limerick City', 'Limerick County',\n",
       "       'North Tipperary', 'South Tipperary', 'Waterford City',\n",
       "       'Waterford County', 'Galway City', 'Galway County',\n",
       "       'Leitrim County', 'Mayo County', 'Roscommon County',\n",
       "       'Sligo County', 'Cavan County', 'Donegal County',\n",
       "       'Monaghan County'], dtype=object)"
      ]
     },
     "execution_count": 65,
     "metadata": {},
     "output_type": "execute_result"
    }
   ],
   "source": [
    "#2011\n",
    "\n",
    "df_it11.County.unique()"
   ]
  },
  {
   "cell_type": "code",
   "execution_count": 66,
   "id": "b2e6ce92",
   "metadata": {},
   "outputs": [
    {
     "data": {
      "text/plain": [
       "array(['Carlow', 'Cavan', 'Clare', 'Cork City', 'Cork County', 'Donegal',\n",
       "       'Dublin City', 'Dún Laoghaire-Rathdown', 'Fingal', 'Galway City',\n",
       "       'Galway County', 'Kerry', 'Kildare', 'Kilkenny', 'Laois',\n",
       "       'Leitrim', 'Limerick City and County', 'Longford', 'Louth', 'Mayo',\n",
       "       'Meath', 'Monaghan', 'Offaly', 'Roscommon', 'Sligo',\n",
       "       'South Dublin', 'Tipperary', 'Waterford City and County',\n",
       "       'Westmeath', 'Wexford', 'Wicklow'], dtype=object)"
      ]
     },
     "execution_count": 66,
     "metadata": {},
     "output_type": "execute_result"
    }
   ],
   "source": [
    "#2016\n",
    "\n",
    "df_it16.County.unique()"
   ]
  },
  {
   "cell_type": "code",
   "execution_count": 68,
   "id": "6a461b12",
   "metadata": {},
   "outputs": [
    {
     "data": {
      "text/plain": [
       "array(['Ireland', 'Border', 'West', 'Mid-West', 'South-East',\n",
       "       'South-West', 'Dublin', 'Mid-East', 'Midlands'], dtype=object)"
      ]
     },
     "execution_count": 68,
     "metadata": {},
     "output_type": "execute_result"
    }
   ],
   "source": [
    "#2022\n",
    "\n",
    "df_it22['NUTS 3 Region'].unique()"
   ]
  },
  {
   "cell_type": "markdown",
   "id": "15b965f2",
   "metadata": {},
   "source": [
    "**Overview**\n",
    "\n",
    "1. **Observation:** In the SAP2022 we have aggregated regions, as well as in file with Estimated Population. \n",
    "    **Meaning:**  there will be no changes for values in this column, except the name. Column 'NUTS 3 Region' will be renamed in \"Region\" for easier unification, clear reading and single name through all files\n",
    "2.  **Observation:** counties in the \"County\" column in the files SAP2011 and SAP2016 have different classification and names.\n",
    "    **Meaning:** In order to have 3 files with identical structure and unified values for regions following steps will be applied for the files SAP2011 and SAP2016:\n",
    "      1. for column \"County\": removing all excessive words as \"City\", \"County\", \"City and County\" and spaces (if needed) \n",
    "      2. new column \"Region\" will be created and each row will have assigned appropriate according value.\n",
    "      3. Values from \"County\" column will be replaced with values from \"Region\" column.\n",
    "      4. Column \"Region\" will be removed\n",
    "      5. Column \"County\" will be renamed in \"Region\"\n",
    "3. **Observation:** We have inconsistency in regions and counties for all 3 files. **Meaning** any kind of aggregation will be irrelevant, except sum. By summarising all the values we obtain total number of households with internet connection in each year. This way we can compare these values with each other and having a trend. **Action:** Data visualisation can be applied\n",
    "4. **Observation:** We have same types of internet connection in all 3 files. **Meaning:** This can be used to calculate % of each connection type in dependance of total. **Action:** Data visualisation can be applied"
   ]
  },
  {
   "cell_type": "markdown",
   "id": "ec45f473",
   "metadata": {},
   "source": [
    "**Let's apply actions from last steps of our overview. I.e.**\n",
    "* summarising all the values we obtain total number of households with internet connection in each year. This way we can compare these values with each other and having a trend."
   ]
  },
  {
   "cell_type": "code",
   "execution_count": 150,
   "id": "2259265e",
   "metadata": {},
   "outputs": [
    {
     "data": {
      "text/html": [
       "<div>\n",
       "<style scoped>\n",
       "    .dataframe tbody tr th:only-of-type {\n",
       "        vertical-align: middle;\n",
       "    }\n",
       "\n",
       "    .dataframe tbody tr th {\n",
       "        vertical-align: top;\n",
       "    }\n",
       "\n",
       "    .dataframe thead th {\n",
       "        text-align: right;\n",
       "    }\n",
       "</style>\n",
       "<table border=\"1\" class=\"dataframe\">\n",
       "  <thead>\n",
       "    <tr style=\"text-align: right;\">\n",
       "      <th></th>\n",
       "      <th>Statistic Label</th>\n",
       "      <th>Census Year</th>\n",
       "      <th>Internet</th>\n",
       "      <th>County</th>\n",
       "      <th>UNIT</th>\n",
       "      <th>VALUE</th>\n",
       "    </tr>\n",
       "  </thead>\n",
       "  <tbody>\n",
       "    <tr>\n",
       "      <th>0</th>\n",
       "      <td>Households with Internet access</td>\n",
       "      <td>2011</td>\n",
       "      <td>Broadband</td>\n",
       "      <td>Carlow County</td>\n",
       "      <td>Number</td>\n",
       "      <td>11158</td>\n",
       "    </tr>\n",
       "    <tr>\n",
       "      <th>1</th>\n",
       "      <td>Households with Internet access</td>\n",
       "      <td>2011</td>\n",
       "      <td>Broadband</td>\n",
       "      <td>Dublin City</td>\n",
       "      <td>Number</td>\n",
       "      <td>137669</td>\n",
       "    </tr>\n",
       "    <tr>\n",
       "      <th>2</th>\n",
       "      <td>Households with Internet access</td>\n",
       "      <td>2011</td>\n",
       "      <td>Broadband</td>\n",
       "      <td>South Dublin</td>\n",
       "      <td>Number</td>\n",
       "      <td>68306</td>\n",
       "    </tr>\n",
       "    <tr>\n",
       "      <th>3</th>\n",
       "      <td>Households with Internet access</td>\n",
       "      <td>2011</td>\n",
       "      <td>Broadband</td>\n",
       "      <td>Fingal</td>\n",
       "      <td>Number</td>\n",
       "      <td>73868</td>\n",
       "    </tr>\n",
       "    <tr>\n",
       "      <th>4</th>\n",
       "      <td>Households with Internet access</td>\n",
       "      <td>2011</td>\n",
       "      <td>Broadband</td>\n",
       "      <td>Dún Laoghaire-Rathdown</td>\n",
       "      <td>Number</td>\n",
       "      <td>59750</td>\n",
       "    </tr>\n",
       "  </tbody>\n",
       "</table>\n",
       "</div>"
      ],
      "text/plain": [
       "                   Statistic Label  Census Year   Internet  \\\n",
       "0  Households with Internet access         2011  Broadband   \n",
       "1  Households with Internet access         2011  Broadband   \n",
       "2  Households with Internet access         2011  Broadband   \n",
       "3  Households with Internet access         2011  Broadband   \n",
       "4  Households with Internet access         2011  Broadband   \n",
       "\n",
       "                   County    UNIT   VALUE  \n",
       "0           Carlow County  Number   11158  \n",
       "1             Dublin City  Number  137669  \n",
       "2            South Dublin  Number   68306  \n",
       "3                  Fingal  Number   73868  \n",
       "4  Dún Laoghaire-Rathdown  Number   59750  "
      ]
     },
     "execution_count": 150,
     "metadata": {},
     "output_type": "execute_result"
    }
   ],
   "source": [
    "df_it11.head()"
   ]
  },
  {
   "cell_type": "code",
   "execution_count": 165,
   "id": "9d135d90",
   "metadata": {},
   "outputs": [
    {
     "data": {
      "text/plain": [
       "3298816"
      ]
     },
     "execution_count": 165,
     "metadata": {},
     "output_type": "execute_result"
    }
   ],
   "source": [
    "Total_11 = df_it11['VALUE'].sum()\n",
    "Total_11"
   ]
  },
  {
   "cell_type": "code",
   "execution_count": 155,
   "id": "bff1fac2",
   "metadata": {},
   "outputs": [
    {
     "data": {
      "text/html": [
       "<div>\n",
       "<style scoped>\n",
       "    .dataframe tbody tr th:only-of-type {\n",
       "        vertical-align: middle;\n",
       "    }\n",
       "\n",
       "    .dataframe tbody tr th {\n",
       "        vertical-align: top;\n",
       "    }\n",
       "\n",
       "    .dataframe thead th {\n",
       "        text-align: right;\n",
       "    }\n",
       "</style>\n",
       "<table border=\"1\" class=\"dataframe\">\n",
       "  <thead>\n",
       "    <tr style=\"text-align: right;\">\n",
       "      <th></th>\n",
       "      <th>Statistic Label</th>\n",
       "      <th>Census Year</th>\n",
       "      <th>County</th>\n",
       "      <th>Internet</th>\n",
       "      <th>UNIT</th>\n",
       "      <th>VALUE</th>\n",
       "    </tr>\n",
       "  </thead>\n",
       "  <tbody>\n",
       "    <tr>\n",
       "      <th>0</th>\n",
       "      <td>Households with Internet access</td>\n",
       "      <td>2016</td>\n",
       "      <td>Carlow</td>\n",
       "      <td>Broadband</td>\n",
       "      <td>Number</td>\n",
       "      <td>13539</td>\n",
       "    </tr>\n",
       "    <tr>\n",
       "      <th>1</th>\n",
       "      <td>Households with Internet access</td>\n",
       "      <td>2016</td>\n",
       "      <td>Carlow</td>\n",
       "      <td>Other</td>\n",
       "      <td>Number</td>\n",
       "      <td>1852</td>\n",
       "    </tr>\n",
       "    <tr>\n",
       "      <th>2</th>\n",
       "      <td>Households with Internet access</td>\n",
       "      <td>2016</td>\n",
       "      <td>Carlow</td>\n",
       "      <td>No</td>\n",
       "      <td>Number</td>\n",
       "      <td>4432</td>\n",
       "    </tr>\n",
       "    <tr>\n",
       "      <th>3</th>\n",
       "      <td>Households with Internet access</td>\n",
       "      <td>2016</td>\n",
       "      <td>Carlow</td>\n",
       "      <td>Not Stated</td>\n",
       "      <td>Number</td>\n",
       "      <td>642</td>\n",
       "    </tr>\n",
       "    <tr>\n",
       "      <th>4</th>\n",
       "      <td>Households with Internet access</td>\n",
       "      <td>2016</td>\n",
       "      <td>Carlow</td>\n",
       "      <td>Total</td>\n",
       "      <td>Number</td>\n",
       "      <td>20465</td>\n",
       "    </tr>\n",
       "  </tbody>\n",
       "</table>\n",
       "</div>"
      ],
      "text/plain": [
       "                   Statistic Label  Census Year  County    Internet    UNIT  \\\n",
       "0  Households with Internet access         2016  Carlow   Broadband  Number   \n",
       "1  Households with Internet access         2016  Carlow       Other  Number   \n",
       "2  Households with Internet access         2016  Carlow          No  Number   \n",
       "3  Households with Internet access         2016  Carlow  Not Stated  Number   \n",
       "4  Households with Internet access         2016  Carlow       Total  Number   \n",
       "\n",
       "   VALUE  \n",
       "0  13539  \n",
       "1   1852  \n",
       "2   4432  \n",
       "3    642  \n",
       "4  20465  "
      ]
     },
     "execution_count": 155,
     "metadata": {},
     "output_type": "execute_result"
    }
   ],
   "source": [
    "df_it16.head()"
   ]
  },
  {
   "cell_type": "code",
   "execution_count": 166,
   "id": "d2a32fdd",
   "metadata": {},
   "outputs": [
    {
     "data": {
      "text/plain": [
       "3395330"
      ]
     },
     "execution_count": 166,
     "metadata": {},
     "output_type": "execute_result"
    }
   ],
   "source": [
    "Total_16 = df_it16[\"VALUE\"].sum()\n",
    "Total_16"
   ]
  },
  {
   "cell_type": "code",
   "execution_count": 157,
   "id": "0b239b59",
   "metadata": {},
   "outputs": [
    {
     "data": {
      "text/html": [
       "<div>\n",
       "<style scoped>\n",
       "    .dataframe tbody tr th:only-of-type {\n",
       "        vertical-align: middle;\n",
       "    }\n",
       "\n",
       "    .dataframe tbody tr th {\n",
       "        vertical-align: top;\n",
       "    }\n",
       "\n",
       "    .dataframe thead th {\n",
       "        text-align: right;\n",
       "    }\n",
       "</style>\n",
       "<table border=\"1\" class=\"dataframe\">\n",
       "  <thead>\n",
       "    <tr style=\"text-align: right;\">\n",
       "      <th></th>\n",
       "      <th>Statistic Label</th>\n",
       "      <th>Census Year</th>\n",
       "      <th>Internet</th>\n",
       "      <th>NUTS 3 Region</th>\n",
       "      <th>UNIT</th>\n",
       "      <th>VALUE</th>\n",
       "    </tr>\n",
       "  </thead>\n",
       "  <tbody>\n",
       "    <tr>\n",
       "      <th>0</th>\n",
       "      <td>Households with Internet access</td>\n",
       "      <td>2022</td>\n",
       "      <td>Broadband</td>\n",
       "      <td>Ireland</td>\n",
       "      <td>Number</td>\n",
       "      <td>1457883</td>\n",
       "    </tr>\n",
       "    <tr>\n",
       "      <th>1</th>\n",
       "      <td>Households with Internet access</td>\n",
       "      <td>2022</td>\n",
       "      <td>Broadband</td>\n",
       "      <td>Border</td>\n",
       "      <td>Number</td>\n",
       "      <td>116928</td>\n",
       "    </tr>\n",
       "    <tr>\n",
       "      <th>2</th>\n",
       "      <td>Households with Internet access</td>\n",
       "      <td>2022</td>\n",
       "      <td>Broadband</td>\n",
       "      <td>West</td>\n",
       "      <td>Number</td>\n",
       "      <td>134086</td>\n",
       "    </tr>\n",
       "    <tr>\n",
       "      <th>3</th>\n",
       "      <td>Households with Internet access</td>\n",
       "      <td>2022</td>\n",
       "      <td>Broadband</td>\n",
       "      <td>Mid-West</td>\n",
       "      <td>Number</td>\n",
       "      <td>137622</td>\n",
       "    </tr>\n",
       "    <tr>\n",
       "      <th>4</th>\n",
       "      <td>Households with Internet access</td>\n",
       "      <td>2022</td>\n",
       "      <td>Broadband</td>\n",
       "      <td>South-East</td>\n",
       "      <td>Number</td>\n",
       "      <td>124415</td>\n",
       "    </tr>\n",
       "  </tbody>\n",
       "</table>\n",
       "</div>"
      ],
      "text/plain": [
       "                   Statistic Label  Census Year   Internet NUTS 3 Region  \\\n",
       "0  Households with Internet access         2022  Broadband       Ireland   \n",
       "1  Households with Internet access         2022  Broadband        Border   \n",
       "2  Households with Internet access         2022  Broadband          West   \n",
       "3  Households with Internet access         2022  Broadband      Mid-West   \n",
       "4  Households with Internet access         2022  Broadband    South-East   \n",
       "\n",
       "     UNIT    VALUE  \n",
       "0  Number  1457883  \n",
       "1  Number   116928  \n",
       "2  Number   134086  \n",
       "3  Number   137622  \n",
       "4  Number   124415  "
      ]
     },
     "execution_count": 157,
     "metadata": {},
     "output_type": "execute_result"
    }
   ],
   "source": [
    "df_it22.head()"
   ]
  },
  {
   "cell_type": "code",
   "execution_count": 168,
   "id": "eb44c0a8",
   "metadata": {
    "scrolled": true
   },
   "outputs": [
    {
     "data": {
      "text/plain": [
       "7346912"
      ]
     },
     "execution_count": 168,
     "metadata": {},
     "output_type": "execute_result"
    }
   ],
   "source": [
    "Total_22 = df_it22[\"VALUE\"].sum()\n",
    "Total_22"
   ]
  },
  {
   "cell_type": "code",
   "execution_count": 169,
   "id": "915857c5",
   "metadata": {},
   "outputs": [
    {
     "data": {
      "text/html": [
       "<div>\n",
       "<style scoped>\n",
       "    .dataframe tbody tr th:only-of-type {\n",
       "        vertical-align: middle;\n",
       "    }\n",
       "\n",
       "    .dataframe tbody tr th {\n",
       "        vertical-align: top;\n",
       "    }\n",
       "\n",
       "    .dataframe thead th {\n",
       "        text-align: right;\n",
       "    }\n",
       "</style>\n",
       "<table border=\"1\" class=\"dataframe\">\n",
       "  <thead>\n",
       "    <tr style=\"text-align: right;\">\n",
       "      <th></th>\n",
       "      <th>Year</th>\n",
       "      <th>Total Households with Internet access</th>\n",
       "    </tr>\n",
       "  </thead>\n",
       "  <tbody>\n",
       "    <tr>\n",
       "      <th>0</th>\n",
       "      <td>2011</td>\n",
       "      <td>3298816</td>\n",
       "    </tr>\n",
       "    <tr>\n",
       "      <th>1</th>\n",
       "      <td>2016</td>\n",
       "      <td>3395330</td>\n",
       "    </tr>\n",
       "    <tr>\n",
       "      <th>2</th>\n",
       "      <td>2022</td>\n",
       "      <td>7346912</td>\n",
       "    </tr>\n",
       "  </tbody>\n",
       "</table>\n",
       "</div>"
      ],
      "text/plain": [
       "   Year  Total Households with Internet access\n",
       "0  2011                                3298816\n",
       "1  2016                                3395330\n",
       "2  2022                                7346912"
      ]
     },
     "execution_count": 169,
     "metadata": {},
     "output_type": "execute_result"
    }
   ],
   "source": [
    "Total_df = pd.DataFrame({'Year': ['2011', '2016', '2022'], \n",
    "                         'Total Households with Internet access': [Total_11, Total_16, Total_22]})\n",
    "Total_df"
   ]
  },
  {
   "cell_type": "code",
   "execution_count": 175,
   "id": "785e88ed",
   "metadata": {
    "scrolled": true
   },
   "outputs": [
    {
     "data": {
      "image/png": "[encoded data removed]",
      "text/plain": [
       "<Figure size 800x300 with 1 Axes>"
      ]
     },
     "metadata": {},
     "output_type": "display_data"
    }
   ],
   "source": [
    "# Create a subplot that is 8 inches wide and 3 inch high\n",
    "fig, ax = plt.subplots(figsize=(8, 3))\n",
    "\n",
    "# Plot the Total Households with Internet access over the years on the subplot\n",
    "ax.plot(Total_df['Year'], Total_df['Total Households with Internet access'])\n",
    "\n",
    "# Set the title and labels for the plot\n",
    "plt.title('Total Households with Internet Access Over Time')\n",
    "plt.xlabel('Year')\n",
    "plt.ylabel('Total Households with Internet Access')\n",
    "\n",
    "# Show the plot\n",
    "plt.show()"
   ]
  },
  {
   "cell_type": "markdown",
   "id": "1290a10c",
   "metadata": {},
   "source": [
    "**Observation** We can see a sharp growth spurt in the number of internet connections between 2016 and 2022. This can be furher analysed and used for future conclusions."
   ]
  },
  {
   "cell_type": "markdown",
   "id": "cfe06e51",
   "metadata": {},
   "source": [
    "* calculate % of each connection type in dependance of total. "
   ]
  },
  {
   "cell_type": "code",
   "execution_count": 187,
   "id": "17686a8d",
   "metadata": {},
   "outputs": [
    {
     "data": {
      "image/png": "[encoded data removed]",
      "text/plain": [
       "<Figure size 640x480 with 1 Axes>"
      ]
     },
     "metadata": {},
     "output_type": "display_data"
    },
    {
     "data": {
      "image/png": "[encoded data removed]",
      "text/plain": [
       "<Figure size 640x480 with 1 Axes>"
      ]
     },
     "metadata": {},
     "output_type": "display_data"
    },
    {
     "data": {
      "image/png": "[encoded data removed]",
      "text/plain": [
       "<Figure size 640x480 with 1 Axes>"
      ]
     },
     "metadata": {},
     "output_type": "display_data"
    }
   ],
   "source": [
    "# **2011**\n",
    "\n",
    "# Value \"Total\" is irrelevant as a type of internet connection and will be removed from next graph\n",
    "df_it11 = df_it11[df_it11['Internet'] != 'Total']\n",
    "\n",
    "# Aggregate the values for each internet type\n",
    "aggregated_values = df_it11.groupby('Internet')['VALUE'].sum()\n",
    "\n",
    "# Get the percentage of each internet type\n",
    "percent_of_each_internet_type = aggregated_values / aggregated_values.sum()\n",
    "\n",
    "# Create a pie chart of the percent of each internet type\n",
    "plt.pie(percent_of_each_internet_type, labels=aggregated_values.index, autopct=\"%1.1f%%\", radius=0.8)\n",
    "plt.title(\"Percentage of Each Internet Type for 2011 year\")\n",
    "\n",
    "# Show the plot\n",
    "plt.show()\n",
    "\n",
    "\n",
    "# same for **2016**\n",
    "\n",
    "df_it16 = df_it16[df_it16['Internet'] != 'Total']\n",
    "aggregated_values = df_it16.groupby('Internet')['VALUE'].sum()\n",
    "percent_of_each_internet_type = aggregated_values / aggregated_values.sum()\n",
    "plt.pie(percent_of_each_internet_type, labels=aggregated_values.index, autopct=\"%1.1f%%\", radius=0.8)\n",
    "plt.title(\"Percentage of Each Internet Type for 2016 year\")\n",
    "plt.show()\n",
    "\n",
    "\n",
    "# same for **2022**\n",
    "\n",
    "df_it22 = df_it22[df_it22['Internet'] != 'Total']\n",
    "aggregated_values = df_it22.groupby('Internet')['VALUE'].sum()\n",
    "percent_of_each_internet_type = aggregated_values / aggregated_values.sum()\n",
    "plt.pie(percent_of_each_internet_type, labels=aggregated_values.index, autopct=\"%1.1f%%\", radius=0.8)\n",
    "plt.title(\"Percentage of Each Internet Type for 2022 year\")\n",
    "plt.show()\n"
   ]
  },
  {
   "cell_type": "markdown",
   "id": "d2806ca7",
   "metadata": {},
   "source": [
    "**Observation:** \n",
    "* We can see that % of **broadband type of connection is increasing** (from 63.8% in 2011 to 79.4% in 2022)  **as well as % of those who not stated the status of their internet access availability** (from 2.3% in 2011 to 7.9% in 2022). \n",
    "* We see **negative progression for those households who don't have Internet Acces** (from 25.8% in 2011 to 8.7% in 2022) **as well as for households with Internet connection type different from broadband**(from 8.1% in 2011 to 4% in 2022)\n",
    "\n",
    "**Meaning:** Despite the fact that our data needs to be processed, cleaned and modified, already at this point we have a confirmation for correlation between population positive growth and increase of households with Internet Access."
   ]
  },
  {
   "cell_type": "markdown",
   "id": "36655c69",
   "metadata": {},
   "source": [
    "# Auxiliary file overview\n",
    "\n",
    "# Irish Regions\n",
    "\n",
    "**Disclamer** For the auxiliary files there will be no descriptive statistic, nor data visualisation applied as irrelevant action. There will be just overview and defining of further actions"
   ]
  },
  {
   "cell_type": "code",
   "execution_count": 70,
   "id": "db83b7f2",
   "metadata": {
    "scrolled": false
   },
   "outputs": [
    {
     "data": {
      "text/html": [
       "<div>\n",
       "<style scoped>\n",
       "    .dataframe tbody tr th:only-of-type {\n",
       "        vertical-align: middle;\n",
       "    }\n",
       "\n",
       "    .dataframe tbody tr th {\n",
       "        vertical-align: top;\n",
       "    }\n",
       "\n",
       "    .dataframe thead th {\n",
       "        text-align: right;\n",
       "    }\n",
       "</style>\n",
       "<table border=\"1\" class=\"dataframe\">\n",
       "  <thead>\n",
       "    <tr style=\"text-align: right;\">\n",
       "      <th></th>\n",
       "      <th>Name of region</th>\n",
       "      <th>Constituent counties</th>\n",
       "      <th>Type of area</th>\n",
       "    </tr>\n",
       "  </thead>\n",
       "  <tbody>\n",
       "    <tr>\n",
       "      <th>0</th>\n",
       "      <td>Border</td>\n",
       "      <td>Cavan</td>\n",
       "      <td>Administrative county</td>\n",
       "    </tr>\n",
       "    <tr>\n",
       "      <th>1</th>\n",
       "      <td>NaN</td>\n",
       "      <td>Donegal</td>\n",
       "      <td>Administrative county</td>\n",
       "    </tr>\n",
       "    <tr>\n",
       "      <th>2</th>\n",
       "      <td>NaN</td>\n",
       "      <td>Leitrim</td>\n",
       "      <td>Administrative county</td>\n",
       "    </tr>\n",
       "    <tr>\n",
       "      <th>3</th>\n",
       "      <td>NaN</td>\n",
       "      <td>Louth</td>\n",
       "      <td>Administrative county</td>\n",
       "    </tr>\n",
       "    <tr>\n",
       "      <th>4</th>\n",
       "      <td>NaN</td>\n",
       "      <td>Monaghan</td>\n",
       "      <td>Administrative county</td>\n",
       "    </tr>\n",
       "  </tbody>\n",
       "</table>\n",
       "</div>"
      ],
      "text/plain": [
       "  Name of region  Constituent counties           Type of area\n",
       "0          Border                Cavan  Administrative county\n",
       "1             NaN              Donegal  Administrative county\n",
       "2             NaN              Leitrim  Administrative county\n",
       "3             NaN                Louth  Administrative county\n",
       "4             NaN             Monaghan  Administrative county"
      ]
     },
     "execution_count": 70,
     "metadata": {},
     "output_type": "execute_result"
    }
   ],
   "source": [
    "df_reg = pd.read_csv(\"Regions.csv\")\n",
    "df_reg.head()"
   ]
  },
  {
   "cell_type": "code",
   "execution_count": 71,
   "id": "61bc7d14",
   "metadata": {},
   "outputs": [
    {
     "name": "stdout",
     "output_type": "stream",
     "text": [
      "<class 'pandas.core.frame.DataFrame'>\n",
      "RangeIndex: 42 entries, 0 to 41\n",
      "Data columns (total 3 columns):\n",
      " #   Column                Non-Null Count  Dtype \n",
      "---  ------                --------------  ----- \n",
      " 0   Name of region        8 non-null      object\n",
      " 1   Constituent counties  35 non-null     object\n",
      " 2    Type of area         35 non-null     object\n",
      "dtypes: object(3)\n",
      "memory usage: 1.1+ KB\n"
     ]
    }
   ],
   "source": [
    "# checking dataframe short summary: data types, null values, nr of the rows\n",
    "\n",
    "df_reg.info()"
   ]
  },
  {
   "cell_type": "code",
   "execution_count": 73,
   "id": "26c8f9bf",
   "metadata": {},
   "outputs": [
    {
     "name": "stdout",
     "output_type": "stream",
     "text": [
      "   Name of region     Constituent counties           Type of area\n",
      "0           Border                   Cavan  Administrative county\n",
      "1              NaN                 Donegal  Administrative county\n",
      "2              NaN                 Leitrim  Administrative county\n",
      "3              NaN                   Louth  Administrative county\n",
      "4              NaN                Monaghan  Administrative county\n",
      "5              NaN                   Sligo  Administrative county\n",
      "6              NaN                     NaN                    NaN\n",
      "7           Dublin                  Dublin                   City\n",
      "8              NaN  Dún Laoghaire-Rathdown  Administrative county\n",
      "9              NaN                  Fingal  Administrative county\n",
      "10             NaN            South Dublin  Administrative county\n",
      "11             NaN                     NaN                    NaN\n",
      "12        Mid-East                 Kildare  Administrative county\n",
      "13             NaN                   Meath  Administrative county\n",
      "14             NaN                 Wicklow  Administrative county\n",
      "15             NaN                     NaN                    NaN\n",
      "16         Midland                   Laois  Administrative county\n",
      "17             NaN                Longford  Administrative county\n",
      "18             NaN                  Offaly  Administrative county\n",
      "19             NaN               Westmeath  Administrative county\n",
      "20             NaN                     NaN                    NaN\n",
      "21        Mid-West                   Clare  Administrative county\n",
      "22             NaN                Limerick                   City\n",
      "23             NaN                Limerick  Administrative county\n",
      "24             NaN        North Tipperary   Administrative county\n",
      "25             NaN               Tipperary  Administrative county\n",
      "26             NaN                     NaN                    NaN\n",
      "27      South-East                  Carlow  Administrative county\n",
      "28             NaN                Kilkenny  Administrative county\n",
      "29             NaN        South Tipperary   Administrative county\n",
      "30             NaN               Waterford                   City\n",
      "31             NaN               Waterford  Administrative county\n",
      "32             NaN                 Wexford  Administrative county\n",
      "33             NaN                     NaN                    NaN\n",
      "34      South-West                    Cork                   City\n",
      "35             NaN                    Cork  Administrative county\n",
      "36             NaN                   Kerry  Administrative county\n",
      "37             NaN                     NaN                    NaN\n",
      "38            West                  Galway                   City\n",
      "39             NaN                  Galway  Administrative county\n",
      "40             NaN                    Mayo  Administrative county\n",
      "41             NaN               Roscommon  Administrative county\n"
     ]
    }
   ],
   "source": [
    "#print all 35 rows to see full view\n",
    "print(df_reg)"
   ]
  },
  {
   "cell_type": "markdown",
   "id": "3e2d1e89",
   "metadata": {},
   "source": [
    "**Overview**\n",
    "* In order to have acording region for every county, there will be a need to fill all NaNs with region name. I will use \"fill with previous valid value\" method.\n",
    "* all excessive empty rows will be removed"
   ]
  },
  {
   "cell_type": "markdown",
   "id": "5b0c6f8d",
   "metadata": {},
   "source": [
    "# Auxiliary file overview\n",
    "\n",
    "# Private households vs Number of people per household\t"
   ]
  },
  {
   "cell_type": "code",
   "execution_count": 77,
   "id": "15ad7a78",
   "metadata": {
    "scrolled": false
   },
   "outputs": [
    {
     "data": {
      "text/html": [
       "<div>\n",
       "<style scoped>\n",
       "    .dataframe tbody tr th:only-of-type {\n",
       "        vertical-align: middle;\n",
       "    }\n",
       "\n",
       "    .dataframe tbody tr th {\n",
       "        vertical-align: top;\n",
       "    }\n",
       "\n",
       "    .dataframe thead th {\n",
       "        text-align: right;\n",
       "    }\n",
       "</style>\n",
       "<table border=\"1\" class=\"dataframe\">\n",
       "  <thead>\n",
       "    <tr style=\"text-align: right;\">\n",
       "      <th></th>\n",
       "      <th>Statistic Label</th>\n",
       "      <th>CensusYear</th>\n",
       "      <th>County and City</th>\n",
       "      <th>UNIT</th>\n",
       "      <th>VALUE</th>\n",
       "    </tr>\n",
       "  </thead>\n",
       "  <tbody>\n",
       "    <tr>\n",
       "      <th>0</th>\n",
       "      <td>Private households</td>\n",
       "      <td>2011</td>\n",
       "      <td>State</td>\n",
       "      <td>Number</td>\n",
       "      <td>1654208.0</td>\n",
       "    </tr>\n",
       "    <tr>\n",
       "      <th>1</th>\n",
       "      <td>Private households</td>\n",
       "      <td>2011</td>\n",
       "      <td>Carlow</td>\n",
       "      <td>Number</td>\n",
       "      <td>19436.0</td>\n",
       "    </tr>\n",
       "    <tr>\n",
       "      <th>2</th>\n",
       "      <td>Private households</td>\n",
       "      <td>2011</td>\n",
       "      <td>Dublin City</td>\n",
       "      <td>Number</td>\n",
       "      <td>208008.0</td>\n",
       "    </tr>\n",
       "    <tr>\n",
       "      <th>3</th>\n",
       "      <td>Private households</td>\n",
       "      <td>2011</td>\n",
       "      <td>Dún Laoghaire-Rathdown</td>\n",
       "      <td>Number</td>\n",
       "      <td>75819.0</td>\n",
       "    </tr>\n",
       "    <tr>\n",
       "      <th>4</th>\n",
       "      <td>Private households</td>\n",
       "      <td>2011</td>\n",
       "      <td>Fingal</td>\n",
       "      <td>Number</td>\n",
       "      <td>93146.0</td>\n",
       "    </tr>\n",
       "  </tbody>\n",
       "</table>\n",
       "</div>"
      ],
      "text/plain": [
       "      Statistic Label  CensusYear         County and City    UNIT      VALUE\n",
       "0  Private households        2011                   State  Number  1654208.0\n",
       "1  Private households        2011                  Carlow  Number    19436.0\n",
       "2  Private households        2011             Dublin City  Number   208008.0\n",
       "3  Private households        2011  Dún Laoghaire-Rathdown  Number    75819.0\n",
       "4  Private households        2011                  Fingal  Number    93146.0"
      ]
     },
     "execution_count": 77,
     "metadata": {},
     "output_type": "execute_result"
    }
   ],
   "source": [
    "df_aux = pd.read_csv(\"FY004B.csv\")\n",
    "df_aux.head()"
   ]
  },
  {
   "cell_type": "code",
   "execution_count": 78,
   "id": "2d7dc292",
   "metadata": {},
   "outputs": [
    {
     "name": "stdout",
     "output_type": "stream",
     "text": [
      "<class 'pandas.core.frame.DataFrame'>\n",
      "RangeIndex: 279 entries, 0 to 278\n",
      "Data columns (total 5 columns):\n",
      " #   Column           Non-Null Count  Dtype  \n",
      "---  ------           --------------  -----  \n",
      " 0   Statistic Label  279 non-null    object \n",
      " 1   CensusYear       279 non-null    int64  \n",
      " 2   County and City  279 non-null    object \n",
      " 3   UNIT             279 non-null    object \n",
      " 4   VALUE            279 non-null    float64\n",
      "dtypes: float64(1), int64(1), object(3)\n",
      "memory usage: 11.0+ KB\n"
     ]
    }
   ],
   "source": [
    "# checking dataframe short summary: data types, null values, nr of the rows\n",
    "\n",
    "df_aux.info()"
   ]
  },
  {
   "cell_type": "code",
   "execution_count": 21,
   "id": "2f940763",
   "metadata": {
    "scrolled": true
   },
   "outputs": [
    {
     "data": {
      "text/plain": [
       "array([2011, 2016, 2022], dtype=int64)"
      ]
     },
     "execution_count": 21,
     "metadata": {},
     "output_type": "execute_result"
    }
   ],
   "source": [
    "df_aux.CensusYear.unique()"
   ]
  },
  {
   "cell_type": "code",
   "execution_count": 79,
   "id": "489bbe43",
   "metadata": {
    "scrolled": true
   },
   "outputs": [
    {
     "data": {
      "text/plain": [
       "array(['Private households', 'Persons in private households',\n",
       "       'Average number of persons in private households'], dtype=object)"
      ]
     },
     "execution_count": 79,
     "metadata": {},
     "output_type": "execute_result"
    }
   ],
   "source": [
    "df_aux['Statistic Label'].unique()"
   ]
  },
  {
   "cell_type": "code",
   "execution_count": 80,
   "id": "e8f739ed",
   "metadata": {
    "scrolled": false
   },
   "outputs": [
    {
     "data": {
      "text/plain": [
       "array(['State', 'Carlow', 'Dublin City', 'Dún Laoghaire-Rathdown',\n",
       "       'Fingal', 'South Dublin', 'Kildare', 'Kilkenny', 'Laois',\n",
       "       'Longford', 'Louth', 'Meath', 'Offaly', 'Westmeath', 'Wexford',\n",
       "       'Wicklow', 'Clare', 'Cork City and Cork County', 'Kerry',\n",
       "       'Limerick City and County', 'Tipperary',\n",
       "       'Waterford City and County', 'Galway City', 'Galway County',\n",
       "       'Leitrim', 'Mayo', 'Roscommon', 'Sligo', 'Cavan', 'Donegal',\n",
       "       'Monaghan'], dtype=object)"
      ]
     },
     "execution_count": 80,
     "metadata": {},
     "output_type": "execute_result"
    }
   ],
   "source": [
    "df_aux['County and City'].unique()"
   ]
  },
  {
   "cell_type": "markdown",
   "id": "5a6b2a06",
   "metadata": {},
   "source": [
    "**Overview**\n",
    "* We have same 3 values for years as in SAP data frame\n",
    "* 'Average number of persons in private households' value is excessive, so will be removed\n",
    "* Similar approach for  'County and City' needs to be applied. I.e. counties will be replased with according regions and all the data will be aggregated.\n",
    "* Field 'VALUE' will be replaced with 2 fields => 'Private households' and 'Persons in private households', in order to be used in the final dataframe as defined values."
   ]
  }
 ],
 "metadata": {
  "kernelspec": {
   "display_name": "Python 3 (ipykernel)",
   "language": "python",
   "name": "python3"
  },
  "language_info": {
   "codemirror_mode": {
    "name": "ipython",
    "version": 3
   },
   "file_extension": ".py",
   "mimetype": "text/x-python",
   "name": "python",
   "nbconvert_exporter": "python",
   "pygments_lexer": "ipython3",
   "version": "3.11.4"
  }
 },
 "nbformat": 4,
 "nbformat_minor": 5
}
