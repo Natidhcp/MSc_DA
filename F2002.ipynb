{
 "cells": [
  {
   "cell_type": "markdown",
   "id": "9d6f6bb9",
   "metadata": {},
   "source": [
    "# Step 4.  Average number of people per household will be assessed with using of additional file with Ireland Administrative regions classification:\n",
    "\n",
    "•\tAverage number of people per household per counties and country for 2011, 2016, 2022\n",
    "\n",
    "It will be 2 parts:\n",
    "    \n",
    "    1. data cleaning for data frame with Ireland's regions classification. This data frame will be used in the future for cases where data are collected per county and/or city instead of region.\n",
    "    \n",
    "    2. data exploring, cleaning, processing, visualising for data frame with Average Number of Persons per Private Household."
   ]
  },
  {
   "cell_type": "code",
   "execution_count": 5,
   "id": "398ff480",
   "metadata": {},
   "outputs": [],
   "source": [
    "#IMPORTING LIBRARIES\n",
    "import pandas as pd\n",
    "import statistics as stats\n",
    "import numpy as np\n",
    "import matplotlib.pyplot as plt\n",
    "import seaborn as sns\n",
    "\n",
    "# Suppress the warnings\n",
    "import warnings\n",
    "warnings.filterwarnings('ignore')"
   ]
  },
  {
   "cell_type": "code",
   "execution_count": 6,
   "id": "9742aef1",
   "metadata": {},
   "outputs": [
    {
     "data": {
      "text/html": [
       "<div>\n",
       "<style scoped>\n",
       "    .dataframe tbody tr th:only-of-type {\n",
       "        vertical-align: middle;\n",
       "    }\n",
       "\n",
       "    .dataframe tbody tr th {\n",
       "        vertical-align: top;\n",
       "    }\n",
       "\n",
       "    .dataframe thead th {\n",
       "        text-align: right;\n",
       "    }\n",
       "</style>\n",
       "<table border=\"1\" class=\"dataframe\">\n",
       "  <thead>\n",
       "    <tr style=\"text-align: right;\">\n",
       "      <th></th>\n",
       "      <th>Name of region</th>\n",
       "      <th>Constituent counties</th>\n",
       "      <th>Type of area</th>\n",
       "    </tr>\n",
       "  </thead>\n",
       "  <tbody>\n",
       "    <tr>\n",
       "      <th>0</th>\n",
       "      <td>Border</td>\n",
       "      <td>Cavan</td>\n",
       "      <td>Administrative county</td>\n",
       "    </tr>\n",
       "    <tr>\n",
       "      <th>1</th>\n",
       "      <td>NaN</td>\n",
       "      <td>Donegal</td>\n",
       "      <td>Administrative county</td>\n",
       "    </tr>\n",
       "    <tr>\n",
       "      <th>2</th>\n",
       "      <td>NaN</td>\n",
       "      <td>Leitrim</td>\n",
       "      <td>Administrative county</td>\n",
       "    </tr>\n",
       "    <tr>\n",
       "      <th>3</th>\n",
       "      <td>NaN</td>\n",
       "      <td>Louth</td>\n",
       "      <td>Administrative county</td>\n",
       "    </tr>\n",
       "    <tr>\n",
       "      <th>4</th>\n",
       "      <td>NaN</td>\n",
       "      <td>Monaghan</td>\n",
       "      <td>Administrative county</td>\n",
       "    </tr>\n",
       "    <tr>\n",
       "      <th>5</th>\n",
       "      <td>NaN</td>\n",
       "      <td>Sligo</td>\n",
       "      <td>Administrative county</td>\n",
       "    </tr>\n",
       "    <tr>\n",
       "      <th>6</th>\n",
       "      <td>NaN</td>\n",
       "      <td>NaN</td>\n",
       "      <td>NaN</td>\n",
       "    </tr>\n",
       "    <tr>\n",
       "      <th>7</th>\n",
       "      <td>Dublin</td>\n",
       "      <td>Dublin</td>\n",
       "      <td>City</td>\n",
       "    </tr>\n",
       "    <tr>\n",
       "      <th>8</th>\n",
       "      <td>NaN</td>\n",
       "      <td>Dún Laoghaire-Rathdown</td>\n",
       "      <td>Administrative county</td>\n",
       "    </tr>\n",
       "    <tr>\n",
       "      <th>9</th>\n",
       "      <td>NaN</td>\n",
       "      <td>Fingal</td>\n",
       "      <td>Administrative county</td>\n",
       "    </tr>\n",
       "    <tr>\n",
       "      <th>10</th>\n",
       "      <td>NaN</td>\n",
       "      <td>South Dublin</td>\n",
       "      <td>Administrative county</td>\n",
       "    </tr>\n",
       "    <tr>\n",
       "      <th>11</th>\n",
       "      <td>NaN</td>\n",
       "      <td>NaN</td>\n",
       "      <td>NaN</td>\n",
       "    </tr>\n",
       "    <tr>\n",
       "      <th>12</th>\n",
       "      <td>Mid-East</td>\n",
       "      <td>Kildare</td>\n",
       "      <td>Administrative county</td>\n",
       "    </tr>\n",
       "    <tr>\n",
       "      <th>13</th>\n",
       "      <td>NaN</td>\n",
       "      <td>Meath</td>\n",
       "      <td>Administrative county</td>\n",
       "    </tr>\n",
       "    <tr>\n",
       "      <th>14</th>\n",
       "      <td>NaN</td>\n",
       "      <td>Wicklow</td>\n",
       "      <td>Administrative county</td>\n",
       "    </tr>\n",
       "    <tr>\n",
       "      <th>15</th>\n",
       "      <td>NaN</td>\n",
       "      <td>NaN</td>\n",
       "      <td>NaN</td>\n",
       "    </tr>\n",
       "    <tr>\n",
       "      <th>16</th>\n",
       "      <td>Midlands</td>\n",
       "      <td>Laois</td>\n",
       "      <td>Administrative county</td>\n",
       "    </tr>\n",
       "    <tr>\n",
       "      <th>17</th>\n",
       "      <td>NaN</td>\n",
       "      <td>Longford</td>\n",
       "      <td>Administrative county</td>\n",
       "    </tr>\n",
       "    <tr>\n",
       "      <th>18</th>\n",
       "      <td>NaN</td>\n",
       "      <td>Offaly</td>\n",
       "      <td>Administrative county</td>\n",
       "    </tr>\n",
       "    <tr>\n",
       "      <th>19</th>\n",
       "      <td>NaN</td>\n",
       "      <td>Westmeath</td>\n",
       "      <td>Administrative county</td>\n",
       "    </tr>\n",
       "    <tr>\n",
       "      <th>20</th>\n",
       "      <td>NaN</td>\n",
       "      <td>NaN</td>\n",
       "      <td>NaN</td>\n",
       "    </tr>\n",
       "    <tr>\n",
       "      <th>21</th>\n",
       "      <td>Mid-West</td>\n",
       "      <td>Clare</td>\n",
       "      <td>Administrative county</td>\n",
       "    </tr>\n",
       "    <tr>\n",
       "      <th>22</th>\n",
       "      <td>NaN</td>\n",
       "      <td>Limerick</td>\n",
       "      <td>City</td>\n",
       "    </tr>\n",
       "    <tr>\n",
       "      <th>23</th>\n",
       "      <td>NaN</td>\n",
       "      <td>Limerick</td>\n",
       "      <td>Administrative county</td>\n",
       "    </tr>\n",
       "    <tr>\n",
       "      <th>24</th>\n",
       "      <td>NaN</td>\n",
       "      <td>North Tipperary</td>\n",
       "      <td>Administrative county</td>\n",
       "    </tr>\n",
       "    <tr>\n",
       "      <th>25</th>\n",
       "      <td>NaN</td>\n",
       "      <td>Tipperary</td>\n",
       "      <td>Administrative county</td>\n",
       "    </tr>\n",
       "    <tr>\n",
       "      <th>26</th>\n",
       "      <td>NaN</td>\n",
       "      <td>NaN</td>\n",
       "      <td>NaN</td>\n",
       "    </tr>\n",
       "    <tr>\n",
       "      <th>27</th>\n",
       "      <td>South-East</td>\n",
       "      <td>Carlow</td>\n",
       "      <td>Administrative county</td>\n",
       "    </tr>\n",
       "    <tr>\n",
       "      <th>28</th>\n",
       "      <td>NaN</td>\n",
       "      <td>Kilkenny</td>\n",
       "      <td>Administrative county</td>\n",
       "    </tr>\n",
       "    <tr>\n",
       "      <th>29</th>\n",
       "      <td>NaN</td>\n",
       "      <td>South Tipperary</td>\n",
       "      <td>Administrative county</td>\n",
       "    </tr>\n",
       "    <tr>\n",
       "      <th>30</th>\n",
       "      <td>NaN</td>\n",
       "      <td>Waterford</td>\n",
       "      <td>City</td>\n",
       "    </tr>\n",
       "    <tr>\n",
       "      <th>31</th>\n",
       "      <td>NaN</td>\n",
       "      <td>Waterford</td>\n",
       "      <td>Administrative county</td>\n",
       "    </tr>\n",
       "    <tr>\n",
       "      <th>32</th>\n",
       "      <td>NaN</td>\n",
       "      <td>Wexford</td>\n",
       "      <td>Administrative county</td>\n",
       "    </tr>\n",
       "    <tr>\n",
       "      <th>33</th>\n",
       "      <td>NaN</td>\n",
       "      <td>NaN</td>\n",
       "      <td>NaN</td>\n",
       "    </tr>\n",
       "    <tr>\n",
       "      <th>34</th>\n",
       "      <td>South-West</td>\n",
       "      <td>Cork</td>\n",
       "      <td>City</td>\n",
       "    </tr>\n",
       "    <tr>\n",
       "      <th>35</th>\n",
       "      <td>NaN</td>\n",
       "      <td>Cork</td>\n",
       "      <td>Administrative county</td>\n",
       "    </tr>\n",
       "    <tr>\n",
       "      <th>36</th>\n",
       "      <td>NaN</td>\n",
       "      <td>Kerry</td>\n",
       "      <td>Administrative county</td>\n",
       "    </tr>\n",
       "    <tr>\n",
       "      <th>37</th>\n",
       "      <td>NaN</td>\n",
       "      <td>NaN</td>\n",
       "      <td>NaN</td>\n",
       "    </tr>\n",
       "    <tr>\n",
       "      <th>38</th>\n",
       "      <td>West</td>\n",
       "      <td>Galway</td>\n",
       "      <td>City</td>\n",
       "    </tr>\n",
       "    <tr>\n",
       "      <th>39</th>\n",
       "      <td>NaN</td>\n",
       "      <td>Galway</td>\n",
       "      <td>Administrative county</td>\n",
       "    </tr>\n",
       "    <tr>\n",
       "      <th>40</th>\n",
       "      <td>NaN</td>\n",
       "      <td>Mayo</td>\n",
       "      <td>Administrative county</td>\n",
       "    </tr>\n",
       "    <tr>\n",
       "      <th>41</th>\n",
       "      <td>NaN</td>\n",
       "      <td>Roscommon</td>\n",
       "      <td>Administrative county</td>\n",
       "    </tr>\n",
       "  </tbody>\n",
       "</table>\n",
       "</div>"
      ],
      "text/plain": [
       "   Name of region     Constituent counties           Type of area\n",
       "0           Border                   Cavan  Administrative county\n",
       "1              NaN                 Donegal  Administrative county\n",
       "2              NaN                 Leitrim  Administrative county\n",
       "3              NaN                   Louth  Administrative county\n",
       "4              NaN                Monaghan  Administrative county\n",
       "5              NaN                   Sligo  Administrative county\n",
       "6              NaN                     NaN                    NaN\n",
       "7           Dublin                  Dublin                   City\n",
       "8              NaN  Dún Laoghaire-Rathdown  Administrative county\n",
       "9              NaN                  Fingal  Administrative county\n",
       "10             NaN            South Dublin  Administrative county\n",
       "11             NaN                     NaN                    NaN\n",
       "12        Mid-East                 Kildare  Administrative county\n",
       "13             NaN                   Meath  Administrative county\n",
       "14             NaN                 Wicklow  Administrative county\n",
       "15             NaN                     NaN                    NaN\n",
       "16        Midlands                   Laois  Administrative county\n",
       "17             NaN                Longford  Administrative county\n",
       "18             NaN                  Offaly  Administrative county\n",
       "19             NaN               Westmeath  Administrative county\n",
       "20             NaN                     NaN                    NaN\n",
       "21        Mid-West                   Clare  Administrative county\n",
       "22             NaN                Limerick                   City\n",
       "23             NaN                Limerick  Administrative county\n",
       "24             NaN        North Tipperary   Administrative county\n",
       "25             NaN               Tipperary  Administrative county\n",
       "26             NaN                     NaN                    NaN\n",
       "27      South-East                  Carlow  Administrative county\n",
       "28             NaN                Kilkenny  Administrative county\n",
       "29             NaN        South Tipperary   Administrative county\n",
       "30             NaN               Waterford                   City\n",
       "31             NaN               Waterford  Administrative county\n",
       "32             NaN                 Wexford  Administrative county\n",
       "33             NaN                     NaN                    NaN\n",
       "34      South-West                    Cork                   City\n",
       "35             NaN                    Cork  Administrative county\n",
       "36             NaN                   Kerry  Administrative county\n",
       "37             NaN                     NaN                    NaN\n",
       "38            West                  Galway                   City\n",
       "39             NaN                  Galway  Administrative county\n",
       "40             NaN                    Mayo  Administrative county\n",
       "41             NaN               Roscommon  Administrative county"
      ]
     },
     "execution_count": 6,
     "metadata": {},
     "output_type": "execute_result"
    }
   ],
   "source": [
    "# Loading file with Ireland's regions classification and displaing it\n",
    "df_reg = pd.read_csv(\"Regions.csv\")\n",
    "df_reg"
   ]
  },
  {
   "cell_type": "code",
   "execution_count": 7,
   "id": "59a3ce25",
   "metadata": {},
   "outputs": [
    {
     "data": {
      "text/html": [
       "<div>\n",
       "<style scoped>\n",
       "    .dataframe tbody tr th:only-of-type {\n",
       "        vertical-align: middle;\n",
       "    }\n",
       "\n",
       "    .dataframe tbody tr th {\n",
       "        vertical-align: top;\n",
       "    }\n",
       "\n",
       "    .dataframe thead th {\n",
       "        text-align: right;\n",
       "    }\n",
       "</style>\n",
       "<table border=\"1\" class=\"dataframe\">\n",
       "  <thead>\n",
       "    <tr style=\"text-align: right;\">\n",
       "      <th></th>\n",
       "      <th>Name of region</th>\n",
       "      <th>Constituent counties</th>\n",
       "      <th>Type of area</th>\n",
       "    </tr>\n",
       "  </thead>\n",
       "  <tbody>\n",
       "    <tr>\n",
       "      <th>34</th>\n",
       "      <td>South-West</td>\n",
       "      <td>Cork</td>\n",
       "      <td>City</td>\n",
       "    </tr>\n",
       "    <tr>\n",
       "      <th>2</th>\n",
       "      <td>Border</td>\n",
       "      <td>Leitrim</td>\n",
       "      <td>Administrative county</td>\n",
       "    </tr>\n",
       "    <tr>\n",
       "      <th>5</th>\n",
       "      <td>Border</td>\n",
       "      <td>Sligo</td>\n",
       "      <td>Administrative county</td>\n",
       "    </tr>\n",
       "    <tr>\n",
       "      <th>30</th>\n",
       "      <td>South-East</td>\n",
       "      <td>Waterford</td>\n",
       "      <td>City</td>\n",
       "    </tr>\n",
       "    <tr>\n",
       "      <th>21</th>\n",
       "      <td>Mid-West</td>\n",
       "      <td>Clare</td>\n",
       "      <td>Administrative county</td>\n",
       "    </tr>\n",
       "    <tr>\n",
       "      <th>15</th>\n",
       "      <td>Mid-East</td>\n",
       "      <td>NaN</td>\n",
       "      <td>NaN</td>\n",
       "    </tr>\n",
       "    <tr>\n",
       "      <th>33</th>\n",
       "      <td>South-East</td>\n",
       "      <td>NaN</td>\n",
       "      <td>NaN</td>\n",
       "    </tr>\n",
       "    <tr>\n",
       "      <th>4</th>\n",
       "      <td>Border</td>\n",
       "      <td>Monaghan</td>\n",
       "      <td>Administrative county</td>\n",
       "    </tr>\n",
       "  </tbody>\n",
       "</table>\n",
       "</div>"
      ],
      "text/plain": [
       "   Name of region  Constituent counties           Type of area\n",
       "34      South-West                 Cork                   City\n",
       "2           Border              Leitrim  Administrative county\n",
       "5           Border                Sligo  Administrative county\n",
       "30      South-East            Waterford                   City\n",
       "21        Mid-West                Clare  Administrative county\n",
       "15        Mid-East                  NaN                    NaN\n",
       "33      South-East                  NaN                    NaN\n",
       "4           Border             Monaghan  Administrative county"
      ]
     },
     "execution_count": 7,
     "metadata": {},
     "output_type": "execute_result"
    }
   ],
   "source": [
    "#Using 'ffill' method in the column with Regions to fill NAs with the last valid value \n",
    "df_reg[\"Name of region \"] = df_reg[\"Name of region \"].fillna(method='ffill')\n",
    "df_reg.sample(8)"
   ]
  },
  {
   "cell_type": "code",
   "execution_count": 8,
   "id": "41747763",
   "metadata": {},
   "outputs": [],
   "source": [
    "# dropping rows with empty values\n",
    "df_reg = df_reg.dropna()"
   ]
  },
  {
   "cell_type": "code",
   "execution_count": 9,
   "id": "f176a310",
   "metadata": {},
   "outputs": [],
   "source": [
    "# North Tiperrary and South Tiperrary contain additional space at the end, so removing it\n",
    "df_reg[\"Constituent counties\"] = df_reg[\"Constituent counties\"].str.replace(f'Tipperary ', 'Tipperary')"
   ]
  },
  {
   "cell_type": "code",
   "execution_count": 10,
   "id": "7c1388a2",
   "metadata": {
    "scrolled": false
   },
   "outputs": [
    {
     "data": {
      "text/html": [
       "<div>\n",
       "<style scoped>\n",
       "    .dataframe tbody tr th:only-of-type {\n",
       "        vertical-align: middle;\n",
       "    }\n",
       "\n",
       "    .dataframe tbody tr th {\n",
       "        vertical-align: top;\n",
       "    }\n",
       "\n",
       "    .dataframe thead th {\n",
       "        text-align: right;\n",
       "    }\n",
       "</style>\n",
       "<table border=\"1\" class=\"dataframe\">\n",
       "  <thead>\n",
       "    <tr style=\"text-align: right;\">\n",
       "      <th></th>\n",
       "      <th>Name of region</th>\n",
       "      <th>Constituent counties</th>\n",
       "      <th>Type of area</th>\n",
       "    </tr>\n",
       "  </thead>\n",
       "  <tbody>\n",
       "    <tr>\n",
       "      <th>0</th>\n",
       "      <td>Border</td>\n",
       "      <td>Cavan</td>\n",
       "      <td>Administrative county</td>\n",
       "    </tr>\n",
       "    <tr>\n",
       "      <th>1</th>\n",
       "      <td>Border</td>\n",
       "      <td>Donegal</td>\n",
       "      <td>Administrative county</td>\n",
       "    </tr>\n",
       "    <tr>\n",
       "      <th>2</th>\n",
       "      <td>Border</td>\n",
       "      <td>Leitrim</td>\n",
       "      <td>Administrative county</td>\n",
       "    </tr>\n",
       "    <tr>\n",
       "      <th>3</th>\n",
       "      <td>Border</td>\n",
       "      <td>Louth</td>\n",
       "      <td>Administrative county</td>\n",
       "    </tr>\n",
       "    <tr>\n",
       "      <th>4</th>\n",
       "      <td>Border</td>\n",
       "      <td>Monaghan</td>\n",
       "      <td>Administrative county</td>\n",
       "    </tr>\n",
       "    <tr>\n",
       "      <th>5</th>\n",
       "      <td>Border</td>\n",
       "      <td>Sligo</td>\n",
       "      <td>Administrative county</td>\n",
       "    </tr>\n",
       "    <tr>\n",
       "      <th>7</th>\n",
       "      <td>Dublin</td>\n",
       "      <td>Dublin</td>\n",
       "      <td>City</td>\n",
       "    </tr>\n",
       "    <tr>\n",
       "      <th>8</th>\n",
       "      <td>Dublin</td>\n",
       "      <td>Dún Laoghaire-Rathdown</td>\n",
       "      <td>Administrative county</td>\n",
       "    </tr>\n",
       "    <tr>\n",
       "      <th>9</th>\n",
       "      <td>Dublin</td>\n",
       "      <td>Fingal</td>\n",
       "      <td>Administrative county</td>\n",
       "    </tr>\n",
       "    <tr>\n",
       "      <th>10</th>\n",
       "      <td>Dublin</td>\n",
       "      <td>South Dublin</td>\n",
       "      <td>Administrative county</td>\n",
       "    </tr>\n",
       "    <tr>\n",
       "      <th>12</th>\n",
       "      <td>Mid-East</td>\n",
       "      <td>Kildare</td>\n",
       "      <td>Administrative county</td>\n",
       "    </tr>\n",
       "    <tr>\n",
       "      <th>13</th>\n",
       "      <td>Mid-East</td>\n",
       "      <td>Meath</td>\n",
       "      <td>Administrative county</td>\n",
       "    </tr>\n",
       "    <tr>\n",
       "      <th>14</th>\n",
       "      <td>Mid-East</td>\n",
       "      <td>Wicklow</td>\n",
       "      <td>Administrative county</td>\n",
       "    </tr>\n",
       "    <tr>\n",
       "      <th>16</th>\n",
       "      <td>Midlands</td>\n",
       "      <td>Laois</td>\n",
       "      <td>Administrative county</td>\n",
       "    </tr>\n",
       "    <tr>\n",
       "      <th>17</th>\n",
       "      <td>Midlands</td>\n",
       "      <td>Longford</td>\n",
       "      <td>Administrative county</td>\n",
       "    </tr>\n",
       "    <tr>\n",
       "      <th>18</th>\n",
       "      <td>Midlands</td>\n",
       "      <td>Offaly</td>\n",
       "      <td>Administrative county</td>\n",
       "    </tr>\n",
       "    <tr>\n",
       "      <th>19</th>\n",
       "      <td>Midlands</td>\n",
       "      <td>Westmeath</td>\n",
       "      <td>Administrative county</td>\n",
       "    </tr>\n",
       "    <tr>\n",
       "      <th>21</th>\n",
       "      <td>Mid-West</td>\n",
       "      <td>Clare</td>\n",
       "      <td>Administrative county</td>\n",
       "    </tr>\n",
       "    <tr>\n",
       "      <th>22</th>\n",
       "      <td>Mid-West</td>\n",
       "      <td>Limerick</td>\n",
       "      <td>City</td>\n",
       "    </tr>\n",
       "    <tr>\n",
       "      <th>23</th>\n",
       "      <td>Mid-West</td>\n",
       "      <td>Limerick</td>\n",
       "      <td>Administrative county</td>\n",
       "    </tr>\n",
       "    <tr>\n",
       "      <th>24</th>\n",
       "      <td>Mid-West</td>\n",
       "      <td>North Tipperary</td>\n",
       "      <td>Administrative county</td>\n",
       "    </tr>\n",
       "    <tr>\n",
       "      <th>25</th>\n",
       "      <td>Mid-West</td>\n",
       "      <td>Tipperary</td>\n",
       "      <td>Administrative county</td>\n",
       "    </tr>\n",
       "    <tr>\n",
       "      <th>27</th>\n",
       "      <td>South-East</td>\n",
       "      <td>Carlow</td>\n",
       "      <td>Administrative county</td>\n",
       "    </tr>\n",
       "    <tr>\n",
       "      <th>28</th>\n",
       "      <td>South-East</td>\n",
       "      <td>Kilkenny</td>\n",
       "      <td>Administrative county</td>\n",
       "    </tr>\n",
       "    <tr>\n",
       "      <th>29</th>\n",
       "      <td>South-East</td>\n",
       "      <td>South Tipperary</td>\n",
       "      <td>Administrative county</td>\n",
       "    </tr>\n",
       "    <tr>\n",
       "      <th>30</th>\n",
       "      <td>South-East</td>\n",
       "      <td>Waterford</td>\n",
       "      <td>City</td>\n",
       "    </tr>\n",
       "    <tr>\n",
       "      <th>31</th>\n",
       "      <td>South-East</td>\n",
       "      <td>Waterford</td>\n",
       "      <td>Administrative county</td>\n",
       "    </tr>\n",
       "    <tr>\n",
       "      <th>32</th>\n",
       "      <td>South-East</td>\n",
       "      <td>Wexford</td>\n",
       "      <td>Administrative county</td>\n",
       "    </tr>\n",
       "    <tr>\n",
       "      <th>34</th>\n",
       "      <td>South-West</td>\n",
       "      <td>Cork</td>\n",
       "      <td>City</td>\n",
       "    </tr>\n",
       "    <tr>\n",
       "      <th>35</th>\n",
       "      <td>South-West</td>\n",
       "      <td>Cork</td>\n",
       "      <td>Administrative county</td>\n",
       "    </tr>\n",
       "    <tr>\n",
       "      <th>36</th>\n",
       "      <td>South-West</td>\n",
       "      <td>Kerry</td>\n",
       "      <td>Administrative county</td>\n",
       "    </tr>\n",
       "    <tr>\n",
       "      <th>38</th>\n",
       "      <td>West</td>\n",
       "      <td>Galway</td>\n",
       "      <td>City</td>\n",
       "    </tr>\n",
       "    <tr>\n",
       "      <th>39</th>\n",
       "      <td>West</td>\n",
       "      <td>Galway</td>\n",
       "      <td>Administrative county</td>\n",
       "    </tr>\n",
       "    <tr>\n",
       "      <th>40</th>\n",
       "      <td>West</td>\n",
       "      <td>Mayo</td>\n",
       "      <td>Administrative county</td>\n",
       "    </tr>\n",
       "    <tr>\n",
       "      <th>41</th>\n",
       "      <td>West</td>\n",
       "      <td>Roscommon</td>\n",
       "      <td>Administrative county</td>\n",
       "    </tr>\n",
       "  </tbody>\n",
       "</table>\n",
       "</div>"
      ],
      "text/plain": [
       "   Name of region     Constituent counties           Type of area\n",
       "0           Border                   Cavan  Administrative county\n",
       "1           Border                 Donegal  Administrative county\n",
       "2           Border                 Leitrim  Administrative county\n",
       "3           Border                   Louth  Administrative county\n",
       "4           Border                Monaghan  Administrative county\n",
       "5           Border                   Sligo  Administrative county\n",
       "7           Dublin                  Dublin                   City\n",
       "8           Dublin  Dún Laoghaire-Rathdown  Administrative county\n",
       "9           Dublin                  Fingal  Administrative county\n",
       "10          Dublin            South Dublin  Administrative county\n",
       "12        Mid-East                 Kildare  Administrative county\n",
       "13        Mid-East                   Meath  Administrative county\n",
       "14        Mid-East                 Wicklow  Administrative county\n",
       "16        Midlands                   Laois  Administrative county\n",
       "17        Midlands                Longford  Administrative county\n",
       "18        Midlands                  Offaly  Administrative county\n",
       "19        Midlands               Westmeath  Administrative county\n",
       "21        Mid-West                   Clare  Administrative county\n",
       "22        Mid-West                Limerick                   City\n",
       "23        Mid-West                Limerick  Administrative county\n",
       "24        Mid-West         North Tipperary  Administrative county\n",
       "25        Mid-West               Tipperary  Administrative county\n",
       "27      South-East                  Carlow  Administrative county\n",
       "28      South-East                Kilkenny  Administrative county\n",
       "29      South-East         South Tipperary  Administrative county\n",
       "30      South-East               Waterford                   City\n",
       "31      South-East               Waterford  Administrative county\n",
       "32      South-East                 Wexford  Administrative county\n",
       "34      South-West                    Cork                   City\n",
       "35      South-West                    Cork  Administrative county\n",
       "36      South-West                   Kerry  Administrative county\n",
       "38            West                  Galway                   City\n",
       "39            West                  Galway  Administrative county\n",
       "40            West                    Mayo  Administrative county\n",
       "41            West               Roscommon  Administrative county"
      ]
     },
     "execution_count": 10,
     "metadata": {},
     "output_type": "execute_result"
    }
   ],
   "source": [
    "#checking is every row from \"Constituent counties\" has according value in \"Name of region\"\n",
    "df_reg"
   ]
  },
  {
   "cell_type": "markdown",
   "id": "677b614b",
   "metadata": {},
   "source": [
    "# Average Number of Persons per Private Household - EDA"
   ]
  },
  {
   "cell_type": "markdown",
   "id": "342ace41",
   "metadata": {},
   "source": [
    "main goal: to have Average Number of Persons per Private Household for each year from range 2011 - 2022"
   ]
  },
  {
   "cell_type": "markdown",
   "id": "5471eda8",
   "metadata": {},
   "source": [
    "### Part 1 - Aggregating values from 42 counties/cities into 9 regions"
   ]
  },
  {
   "cell_type": "code",
   "execution_count": 11,
   "id": "8db203ba",
   "metadata": {},
   "outputs": [
    {
     "data": {
      "text/html": [
       "<div>\n",
       "<style scoped>\n",
       "    .dataframe tbody tr th:only-of-type {\n",
       "        vertical-align: middle;\n",
       "    }\n",
       "\n",
       "    .dataframe tbody tr th {\n",
       "        vertical-align: top;\n",
       "    }\n",
       "\n",
       "    .dataframe thead th {\n",
       "        text-align: right;\n",
       "    }\n",
       "</style>\n",
       "<table border=\"1\" class=\"dataframe\">\n",
       "  <thead>\n",
       "    <tr style=\"text-align: right;\">\n",
       "      <th></th>\n",
       "      <th>Statistic Label</th>\n",
       "      <th>CensusYear</th>\n",
       "      <th>County</th>\n",
       "      <th>UNIT</th>\n",
       "      <th>VALUE</th>\n",
       "    </tr>\n",
       "  </thead>\n",
       "  <tbody>\n",
       "    <tr>\n",
       "      <th>0</th>\n",
       "      <td>Average Number of Persons per Private Househol...</td>\n",
       "      <td>1971</td>\n",
       "      <td>Co. Clare</td>\n",
       "      <td>Number</td>\n",
       "      <td>3.81</td>\n",
       "    </tr>\n",
       "    <tr>\n",
       "      <th>1</th>\n",
       "      <td>Average Number of Persons per Private Househol...</td>\n",
       "      <td>1971</td>\n",
       "      <td>Co. Cork</td>\n",
       "      <td>Number</td>\n",
       "      <td>3.93</td>\n",
       "    </tr>\n",
       "    <tr>\n",
       "      <th>2</th>\n",
       "      <td>Average Number of Persons per Private Househol...</td>\n",
       "      <td>1971</td>\n",
       "      <td>Co. Cavan</td>\n",
       "      <td>Number</td>\n",
       "      <td>3.64</td>\n",
       "    </tr>\n",
       "    <tr>\n",
       "      <th>3</th>\n",
       "      <td>Average Number of Persons per Private Househol...</td>\n",
       "      <td>1971</td>\n",
       "      <td>Co. Carlow</td>\n",
       "      <td>Number</td>\n",
       "      <td>4.17</td>\n",
       "    </tr>\n",
       "    <tr>\n",
       "      <th>4</th>\n",
       "      <td>Average Number of Persons per Private Househol...</td>\n",
       "      <td>1971</td>\n",
       "      <td>Co. Donegal</td>\n",
       "      <td>Number</td>\n",
       "      <td>3.90</td>\n",
       "    </tr>\n",
       "  </tbody>\n",
       "</table>\n",
       "</div>"
      ],
      "text/plain": [
       "                                     Statistic Label  CensusYear       County  \\\n",
       "0  Average Number of Persons per Private Househol...        1971    Co. Clare   \n",
       "1  Average Number of Persons per Private Househol...        1971     Co. Cork   \n",
       "2  Average Number of Persons per Private Househol...        1971    Co. Cavan   \n",
       "3  Average Number of Persons per Private Househol...        1971   Co. Carlow   \n",
       "4  Average Number of Persons per Private Househol...        1971  Co. Donegal   \n",
       "\n",
       "     UNIT  VALUE  \n",
       "0  Number   3.81  \n",
       "1  Number   3.93  \n",
       "2  Number   3.64  \n",
       "3  Number   4.17  \n",
       "4  Number   3.90  "
      ]
     },
     "execution_count": 11,
     "metadata": {},
     "output_type": "execute_result"
    }
   ],
   "source": [
    "# Loading file with Average Number of Persons per Private Household and displaing it\n",
    "df_avg = pd.read_csv(\"F2002.csv\")\n",
    "df_avg.head()"
   ]
  },
  {
   "cell_type": "code",
   "execution_count": 12,
   "id": "fe03fe0c",
   "metadata": {},
   "outputs": [
    {
     "data": {
      "text/plain": [
       "array(['Co. Clare', 'Co. Cork', 'Co. Cavan', 'Co. Carlow', 'Co. Donegal',\n",
       "       'Co. Dublin', 'Co. Galway', 'Co. Kildare', 'Co. Kilkenny',\n",
       "       'Co. Kerry', 'Co. Longford', 'Co. Louth', 'Co. Limerick',\n",
       "       'Co. Leitrim', 'Co. Laois', 'Co. Meath', 'Co. Monaghan',\n",
       "       'Co. Mayo', 'Co. Offaly', 'Co. Roscommon', 'Co. Sligo',\n",
       "       'Co. Tipperary', 'Co. Waterford', 'Co. Wicklow', 'Co. Westmeath',\n",
       "       'Co. Wexford', 'Ireland'], dtype=object)"
      ]
     },
     "execution_count": 12,
     "metadata": {},
     "output_type": "execute_result"
    }
   ],
   "source": [
    "# first, I will check values in \"County\" and replace them with according region name\n",
    "df_avg.County.unique()"
   ]
  },
  {
   "cell_type": "code",
   "execution_count": 13,
   "id": "1c8134aa",
   "metadata": {},
   "outputs": [
    {
     "data": {
      "text/plain": [
       "array(['Clare', 'Cork', 'Cavan', 'Carlow', 'Donegal', 'Dublin', 'Galway',\n",
       "       'Kildare', 'Kilkenny', 'Kerry', 'Longford', 'Louth', 'Limerick',\n",
       "       'Leitrim', 'Laois', 'Meath', 'Monaghan', 'Mayo', 'Offaly',\n",
       "       'Roscommon', 'Sligo', 'Tipperary', 'Waterford', 'Wicklow',\n",
       "       'Westmeath', 'Wexford', 'Ireland'], dtype=object)"
      ]
     },
     "execution_count": 13,
     "metadata": {},
     "output_type": "execute_result"
    }
   ],
   "source": [
    "#Removing symbols \".\" and \"Co\" for future easier processing\n",
    "df_avg['County'] = df_avg['County'].str.replace('.', '')\n",
    "df_avg['County'] = df_avg['County'].str.replace('Co ', '')\n",
    "df_avg.County.unique()"
   ]
  },
  {
   "cell_type": "code",
   "execution_count": 14,
   "id": "d2fa6a33",
   "metadata": {},
   "outputs": [],
   "source": [
    "\n",
    "#Function \"create_region_column\" is working with 2 dataframes as arguments:\n",
    "#for eah element from column \"County\" in the \"df\" will check if there is according name in \"Constituent counties\" column\n",
    "#from \"df_reg\" and if so value from column \"Name of region\" will be taken for new \"Name of Region\" column\n",
    "\n",
    "#As a result we will have new column \"Region\" with an according region value for each county/city\n",
    "\n",
    "def create_region_column(df, df_reg):\n",
    "    df['Name of Region'] = df['County'].apply(\n",
    "        lambda x: df_reg.loc[df_reg['Constituent counties'] == x, 'Name of region '].iloc[0] \n",
    "        if x in df_reg['Constituent counties'].to_list() else x)\n",
    "    return df"
   ]
  },
  {
   "cell_type": "code",
   "execution_count": 15,
   "id": "cd0888b9",
   "metadata": {},
   "outputs": [
    {
     "data": {
      "text/html": [
       "<div>\n",
       "<style scoped>\n",
       "    .dataframe tbody tr th:only-of-type {\n",
       "        vertical-align: middle;\n",
       "    }\n",
       "\n",
       "    .dataframe tbody tr th {\n",
       "        vertical-align: top;\n",
       "    }\n",
       "\n",
       "    .dataframe thead th {\n",
       "        text-align: right;\n",
       "    }\n",
       "</style>\n",
       "<table border=\"1\" class=\"dataframe\">\n",
       "  <thead>\n",
       "    <tr style=\"text-align: right;\">\n",
       "      <th></th>\n",
       "      <th>Statistic Label</th>\n",
       "      <th>CensusYear</th>\n",
       "      <th>County</th>\n",
       "      <th>UNIT</th>\n",
       "      <th>VALUE</th>\n",
       "      <th>Name of Region</th>\n",
       "    </tr>\n",
       "  </thead>\n",
       "  <tbody>\n",
       "    <tr>\n",
       "      <th>29</th>\n",
       "      <td>Average Number of Persons per Private Househol...</td>\n",
       "      <td>1981</td>\n",
       "      <td>Cavan</td>\n",
       "      <td>Number</td>\n",
       "      <td>3.52</td>\n",
       "      <td>Border</td>\n",
       "    </tr>\n",
       "    <tr>\n",
       "      <th>194</th>\n",
       "      <td>Average Number of Persons per Private Househol...</td>\n",
       "      <td>2022</td>\n",
       "      <td>Dublin</td>\n",
       "      <td>Number</td>\n",
       "      <td>2.73</td>\n",
       "      <td>Dublin</td>\n",
       "    </tr>\n",
       "    <tr>\n",
       "      <th>138</th>\n",
       "      <td>Average Number of Persons per Private Househol...</td>\n",
       "      <td>2011</td>\n",
       "      <td>Carlow</td>\n",
       "      <td>Number</td>\n",
       "      <td>2.79</td>\n",
       "      <td>South-East</td>\n",
       "    </tr>\n",
       "    <tr>\n",
       "      <th>151</th>\n",
       "      <td>Average Number of Persons per Private Househol...</td>\n",
       "      <td>2011</td>\n",
       "      <td>Monaghan</td>\n",
       "      <td>Number</td>\n",
       "      <td>2.85</td>\n",
       "      <td>Border</td>\n",
       "    </tr>\n",
       "    <tr>\n",
       "      <th>211</th>\n",
       "      <td>Average Number of Persons per Private Househol...</td>\n",
       "      <td>2022</td>\n",
       "      <td>Waterford</td>\n",
       "      <td>Number</td>\n",
       "      <td>2.62</td>\n",
       "      <td>South-East</td>\n",
       "    </tr>\n",
       "    <tr>\n",
       "      <th>22</th>\n",
       "      <td>Average Number of Persons per Private Househol...</td>\n",
       "      <td>1971</td>\n",
       "      <td>Waterford</td>\n",
       "      <td>Number</td>\n",
       "      <td>3.91</td>\n",
       "      <td>South-East</td>\n",
       "    </tr>\n",
       "    <tr>\n",
       "      <th>196</th>\n",
       "      <td>Average Number of Persons per Private Househol...</td>\n",
       "      <td>2022</td>\n",
       "      <td>Kildare</td>\n",
       "      <td>Number</td>\n",
       "      <td>2.98</td>\n",
       "      <td>Mid-East</td>\n",
       "    </tr>\n",
       "    <tr>\n",
       "      <th>208</th>\n",
       "      <td>Average Number of Persons per Private Househol...</td>\n",
       "      <td>2022</td>\n",
       "      <td>Roscommon</td>\n",
       "      <td>Number</td>\n",
       "      <td>2.66</td>\n",
       "      <td>West</td>\n",
       "    </tr>\n",
       "    <tr>\n",
       "      <th>206</th>\n",
       "      <td>Average Number of Persons per Private Househol...</td>\n",
       "      <td>2022</td>\n",
       "      <td>Mayo</td>\n",
       "      <td>Number</td>\n",
       "      <td>2.59</td>\n",
       "      <td>West</td>\n",
       "    </tr>\n",
       "    <tr>\n",
       "      <th>214</th>\n",
       "      <td>Average Number of Persons per Private Househol...</td>\n",
       "      <td>2022</td>\n",
       "      <td>Wexford</td>\n",
       "      <td>Number</td>\n",
       "      <td>2.72</td>\n",
       "      <td>South-East</td>\n",
       "    </tr>\n",
       "  </tbody>\n",
       "</table>\n",
       "</div>"
      ],
      "text/plain": [
       "                                       Statistic Label  CensusYear     County  \\\n",
       "29   Average Number of Persons per Private Househol...        1981      Cavan   \n",
       "194  Average Number of Persons per Private Househol...        2022     Dublin   \n",
       "138  Average Number of Persons per Private Househol...        2011     Carlow   \n",
       "151  Average Number of Persons per Private Househol...        2011   Monaghan   \n",
       "211  Average Number of Persons per Private Househol...        2022  Waterford   \n",
       "22   Average Number of Persons per Private Househol...        1971  Waterford   \n",
       "196  Average Number of Persons per Private Househol...        2022    Kildare   \n",
       "208  Average Number of Persons per Private Househol...        2022  Roscommon   \n",
       "206  Average Number of Persons per Private Househol...        2022       Mayo   \n",
       "214  Average Number of Persons per Private Househol...        2022    Wexford   \n",
       "\n",
       "       UNIT  VALUE Name of Region  \n",
       "29   Number   3.52         Border  \n",
       "194  Number   2.73         Dublin  \n",
       "138  Number   2.79     South-East  \n",
       "151  Number   2.85         Border  \n",
       "211  Number   2.62     South-East  \n",
       "22   Number   3.91     South-East  \n",
       "196  Number   2.98       Mid-East  \n",
       "208  Number   2.66           West  \n",
       "206  Number   2.59           West  \n",
       "214  Number   2.72     South-East  "
      ]
     },
     "execution_count": 15,
     "metadata": {},
     "output_type": "execute_result"
    }
   ],
   "source": [
    "#applying fuction to current dataframe and checking if new column is created with correct values\n",
    "df_avg = create_region_column(df_avg, df_reg)\n",
    "\n",
    "#I will use \".sample\" method as it gives list of random values and in this case will be more informative\n",
    "df_avg.sample(10)"
   ]
  },
  {
   "cell_type": "code",
   "execution_count": 16,
   "id": "1a4d4a9c",
   "metadata": {
    "scrolled": true
   },
   "outputs": [
    {
     "data": {
      "text/html": [
       "<div>\n",
       "<style scoped>\n",
       "    .dataframe tbody tr th:only-of-type {\n",
       "        vertical-align: middle;\n",
       "    }\n",
       "\n",
       "    .dataframe tbody tr th {\n",
       "        vertical-align: top;\n",
       "    }\n",
       "\n",
       "    .dataframe thead th {\n",
       "        text-align: right;\n",
       "    }\n",
       "</style>\n",
       "<table border=\"1\" class=\"dataframe\">\n",
       "  <thead>\n",
       "    <tr style=\"text-align: right;\">\n",
       "      <th></th>\n",
       "      <th>Statistic Label</th>\n",
       "      <th>CensusYear</th>\n",
       "      <th>Name of Region</th>\n",
       "      <th>UNIT</th>\n",
       "      <th>VALUE</th>\n",
       "    </tr>\n",
       "  </thead>\n",
       "  <tbody>\n",
       "    <tr>\n",
       "      <th>0</th>\n",
       "      <td>Average Number of Persons per Private Househol...</td>\n",
       "      <td>1971</td>\n",
       "      <td>Mid-West</td>\n",
       "      <td>Number</td>\n",
       "      <td>3.81</td>\n",
       "    </tr>\n",
       "    <tr>\n",
       "      <th>1</th>\n",
       "      <td>Average Number of Persons per Private Househol...</td>\n",
       "      <td>1971</td>\n",
       "      <td>South-West</td>\n",
       "      <td>Number</td>\n",
       "      <td>3.93</td>\n",
       "    </tr>\n",
       "    <tr>\n",
       "      <th>2</th>\n",
       "      <td>Average Number of Persons per Private Househol...</td>\n",
       "      <td>1971</td>\n",
       "      <td>Border</td>\n",
       "      <td>Number</td>\n",
       "      <td>3.64</td>\n",
       "    </tr>\n",
       "    <tr>\n",
       "      <th>3</th>\n",
       "      <td>Average Number of Persons per Private Househol...</td>\n",
       "      <td>1971</td>\n",
       "      <td>South-East</td>\n",
       "      <td>Number</td>\n",
       "      <td>4.17</td>\n",
       "    </tr>\n",
       "    <tr>\n",
       "      <th>4</th>\n",
       "      <td>Average Number of Persons per Private Househol...</td>\n",
       "      <td>1971</td>\n",
       "      <td>Border</td>\n",
       "      <td>Number</td>\n",
       "      <td>3.90</td>\n",
       "    </tr>\n",
       "  </tbody>\n",
       "</table>\n",
       "</div>"
      ],
      "text/plain": [
       "                                     Statistic Label  CensusYear  \\\n",
       "0  Average Number of Persons per Private Househol...        1971   \n",
       "1  Average Number of Persons per Private Househol...        1971   \n",
       "2  Average Number of Persons per Private Househol...        1971   \n",
       "3  Average Number of Persons per Private Househol...        1971   \n",
       "4  Average Number of Persons per Private Househol...        1971   \n",
       "\n",
       "  Name of Region    UNIT  VALUE  \n",
       "0       Mid-West  Number   3.81  \n",
       "1     South-West  Number   3.93  \n",
       "2         Border  Number   3.64  \n",
       "3     South-East  Number   4.17  \n",
       "4         Border  Number   3.90  "
      ]
     },
     "execution_count": 16,
     "metadata": {},
     "output_type": "execute_result"
    }
   ],
   "source": [
    "# reagganging columns: replacing \"County\" with  'Name of Region'\n",
    "df_avg = pd.DataFrame(df_avg,columns=['Statistic Label','CensusYear', 'Name of Region','UNIT','VALUE'])\n",
    "df_avg.head()"
   ]
  },
  {
   "cell_type": "code",
   "execution_count": 17,
   "id": "3367d62f",
   "metadata": {},
   "outputs": [
    {
     "data": {
      "text/plain": [
       "array(['Mid-West', 'South-West', 'Border', 'South-East', 'Dublin', 'West',\n",
       "       'Mid-East', 'Midlands', 'Ireland'], dtype=object)"
      ]
     },
     "execution_count": 17,
     "metadata": {},
     "output_type": "execute_result"
    }
   ],
   "source": [
    "# Checking 'Name of Region' for unique values to make sure that there is only regions\n",
    "df_avg[\"Name of Region\"].unique()"
   ]
  },
  {
   "cell_type": "code",
   "execution_count": 18,
   "id": "6f22ad3c",
   "metadata": {},
   "outputs": [
    {
     "name": "stdout",
     "output_type": "stream",
     "text": [
      "<class 'pandas.core.frame.DataFrame'>\n",
      "RangeIndex: 216 entries, 0 to 215\n",
      "Data columns (total 5 columns):\n",
      " #   Column           Non-Null Count  Dtype  \n",
      "---  ------           --------------  -----  \n",
      " 0   Statistic Label  216 non-null    object \n",
      " 1   CensusYear       216 non-null    int64  \n",
      " 2   Name of Region   216 non-null    object \n",
      " 3   UNIT             216 non-null    object \n",
      " 4   VALUE            216 non-null    float64\n",
      "dtypes: float64(1), int64(1), object(3)\n",
      "memory usage: 8.6+ KB\n"
     ]
    }
   ],
   "source": [
    "# checking null values\n",
    "df_avg.info()"
   ]
  },
  {
   "cell_type": "code",
   "execution_count": 19,
   "id": "c7c84d47",
   "metadata": {},
   "outputs": [],
   "source": [
    "# Group the DataFrame by the 'Statistic Label', 'CensusYear', 'Name of Region', and 'UNIT' columns\n",
    "df_grouped = df_avg.groupby(['Statistic Label','CensusYear', 'Name of Region','UNIT'])\n",
    "\n",
    "# Calculate the mean of the 'VALUE' column for each group\n",
    "df_agg = df_grouped['VALUE'].mean()"
   ]
  },
  {
   "cell_type": "code",
   "execution_count": 20,
   "id": "4805a8c9",
   "metadata": {
    "scrolled": true
   },
   "outputs": [
    {
     "data": {
      "text/plain": [
       "Statistic Label                                                             CensusYear  Name of Region  UNIT  \n",
       "Average Number of Persons per Private Household in Permanent Housing Units  1971        Border          Number    3.726667\n",
       "                                                                                        Dublin          Number    3.940000\n",
       "                                                                                        Ireland         Number    3.940000\n",
       "                                                                                        Mid-East        Number    4.126667\n",
       "                                                                                        Mid-West        Number    3.923333\n",
       "Name: VALUE, dtype: float64"
      ]
     },
     "execution_count": 20,
     "metadata": {},
     "output_type": "execute_result"
    }
   ],
   "source": [
    "df_agg.head()"
   ]
  },
  {
   "cell_type": "code",
   "execution_count": 21,
   "id": "6494f66b",
   "metadata": {
    "scrolled": true
   },
   "outputs": [
    {
     "data": {
      "text/html": [
       "<div>\n",
       "<style scoped>\n",
       "    .dataframe tbody tr th:only-of-type {\n",
       "        vertical-align: middle;\n",
       "    }\n",
       "\n",
       "    .dataframe tbody tr th {\n",
       "        vertical-align: top;\n",
       "    }\n",
       "\n",
       "    .dataframe thead th {\n",
       "        text-align: right;\n",
       "    }\n",
       "</style>\n",
       "<table border=\"1\" class=\"dataframe\">\n",
       "  <thead>\n",
       "    <tr style=\"text-align: right;\">\n",
       "      <th></th>\n",
       "      <th>Statistic Label</th>\n",
       "      <th>CensusYear</th>\n",
       "      <th>Name of Region</th>\n",
       "      <th>UNIT</th>\n",
       "      <th>VALUE</th>\n",
       "    </tr>\n",
       "  </thead>\n",
       "  <tbody>\n",
       "    <tr>\n",
       "      <th>0</th>\n",
       "      <td>Average Number of Persons per Private Househol...</td>\n",
       "      <td>1971</td>\n",
       "      <td>Border</td>\n",
       "      <td>Number</td>\n",
       "      <td>3.726667</td>\n",
       "    </tr>\n",
       "    <tr>\n",
       "      <th>1</th>\n",
       "      <td>Average Number of Persons per Private Househol...</td>\n",
       "      <td>1971</td>\n",
       "      <td>Dublin</td>\n",
       "      <td>Number</td>\n",
       "      <td>3.940000</td>\n",
       "    </tr>\n",
       "    <tr>\n",
       "      <th>2</th>\n",
       "      <td>Average Number of Persons per Private Househol...</td>\n",
       "      <td>1971</td>\n",
       "      <td>Ireland</td>\n",
       "      <td>Number</td>\n",
       "      <td>3.940000</td>\n",
       "    </tr>\n",
       "    <tr>\n",
       "      <th>3</th>\n",
       "      <td>Average Number of Persons per Private Househol...</td>\n",
       "      <td>1971</td>\n",
       "      <td>Mid-East</td>\n",
       "      <td>Number</td>\n",
       "      <td>4.126667</td>\n",
       "    </tr>\n",
       "    <tr>\n",
       "      <th>4</th>\n",
       "      <td>Average Number of Persons per Private Househol...</td>\n",
       "      <td>1971</td>\n",
       "      <td>Mid-West</td>\n",
       "      <td>Number</td>\n",
       "      <td>3.923333</td>\n",
       "    </tr>\n",
       "  </tbody>\n",
       "</table>\n",
       "</div>"
      ],
      "text/plain": [
       "                                     Statistic Label  CensusYear  \\\n",
       "0  Average Number of Persons per Private Househol...        1971   \n",
       "1  Average Number of Persons per Private Househol...        1971   \n",
       "2  Average Number of Persons per Private Househol...        1971   \n",
       "3  Average Number of Persons per Private Househol...        1971   \n",
       "4  Average Number of Persons per Private Househol...        1971   \n",
       "\n",
       "  Name of Region    UNIT     VALUE  \n",
       "0         Border  Number  3.726667  \n",
       "1         Dublin  Number  3.940000  \n",
       "2        Ireland  Number  3.940000  \n",
       "3       Mid-East  Number  4.126667  \n",
       "4       Mid-West  Number  3.923333  "
      ]
     },
     "execution_count": 21,
     "metadata": {},
     "output_type": "execute_result"
    }
   ],
   "source": [
    "#resetting the indexes after aggregation\n",
    "df_agg = df_agg.reset_index()\n",
    "df_agg.head()"
   ]
  },
  {
   "cell_type": "markdown",
   "id": "0a407986",
   "metadata": {},
   "source": [
    "### Part 2 - Exploring the data"
   ]
  },
  {
   "cell_type": "code",
   "execution_count": 22,
   "id": "2159be52",
   "metadata": {
    "scrolled": true
   },
   "outputs": [
    {
     "data": {
      "text/plain": [
       "array([1971, 1981, 1991, 2002, 2006, 2011, 2016, 2022], dtype=int64)"
      ]
     },
     "execution_count": 22,
     "metadata": {},
     "output_type": "execute_result"
    }
   ],
   "source": [
    "# verifying available years\n",
    "df_agg.CensusYear.unique()"
   ]
  },
  {
   "cell_type": "markdown",
   "id": "2524fad5",
   "metadata": {},
   "source": [
    "**Observation**\n",
    "\n",
    "relevant range for the project is 2011- 2022, and there are gaps between the data in this range."
   ]
  },
  {
   "cell_type": "markdown",
   "id": "bf01e891",
   "metadata": {},
   "source": [
    "##### Let's visualise the dynamics for each region on how average number of persons was changing in time\n",
    "in order to have clear view let's plot a separate view for each of the region and arrange them in 2 columns"
   ]
  },
  {
   "cell_type": "code",
   "execution_count": 27,
   "id": "38e00156",
   "metadata": {},
   "outputs": [],
   "source": [
    "unique_region_names = df_agg['Name of Region'].unique()"
   ]
  },
  {
   "cell_type": "code",
   "execution_count": 38,
   "id": "cf7e38d1",
   "metadata": {},
   "outputs": [
    {
     "data": {
      "image/png": "[encoded data removed]",
      "text/plain": [
       "<Figure size 600x400 with 1 Axes>"
      ]
     },
     "metadata": {},
     "output_type": "display_data"
    }
   ],
   "source": [
    "#Visualising resulting data frame. \n",
    "# Plotting all regions on same graph identify trend\n",
    "plt.figure(figsize=(6, 4))\n",
    "for region in unique_region_names:\n",
    "    df_region = df_agg[df_agg['Name of Region'] == region]\n",
    "    plt.plot(df_region['CensusYear'], df_region['VALUE'], label=region)\n",
    "    plt.title('Nr of People per Househols')\n",
    "    plt.legend(loc='upper right')\n",
    "    plt.xlabel(\"Year\")"
   ]
  },
  {
   "cell_type": "markdown",
   "id": "ed54d7b5",
   "metadata": {},
   "source": [
    "**Observation**\n",
    "Ranges from 2011 to 2016 and from 2016 to 2022 have linear dependency and values for them are very close.\n",
    "This mean that we can filer values for 2011, 2016 and 2022 and check their mean and standard deviation.  "
   ]
  },
  {
   "cell_type": "code",
   "execution_count": 40,
   "id": "6d62f65b",
   "metadata": {},
   "outputs": [],
   "source": [
    "#Filtering years\n",
    "df_agg = df_agg.drop(df_agg[(df_agg[\"CensusYear\"] != 2011) & (df_agg[\"CensusYear\"] != 2016) &\n",
    "                            (df_agg[\"CensusYear\"] != 2022)].index)"
   ]
  },
  {
   "cell_type": "code",
   "execution_count": 41,
   "id": "3410e85d",
   "metadata": {
    "scrolled": true
   },
   "outputs": [
    {
     "data": {
      "text/plain": [
       "array([2011, 2016, 2022], dtype=int64)"
      ]
     },
     "execution_count": 41,
     "metadata": {},
     "output_type": "execute_result"
    }
   ],
   "source": [
    "# checking unique values to be sure that filter is applied\n",
    "df_agg.CensusYear.unique()"
   ]
  },
  {
   "cell_type": "code",
   "execution_count": 42,
   "id": "f07eeeee",
   "metadata": {
    "scrolled": true
   },
   "outputs": [
    {
     "data": {
      "text/html": [
       "<div>\n",
       "<style scoped>\n",
       "    .dataframe tbody tr th:only-of-type {\n",
       "        vertical-align: middle;\n",
       "    }\n",
       "\n",
       "    .dataframe tbody tr th {\n",
       "        vertical-align: top;\n",
       "    }\n",
       "\n",
       "    .dataframe thead th {\n",
       "        text-align: right;\n",
       "    }\n",
       "</style>\n",
       "<table border=\"1\" class=\"dataframe\">\n",
       "  <thead>\n",
       "    <tr style=\"text-align: right;\">\n",
       "      <th></th>\n",
       "      <th>CensusYear</th>\n",
       "      <th>VALUE</th>\n",
       "    </tr>\n",
       "  </thead>\n",
       "  <tbody>\n",
       "    <tr>\n",
       "      <th>count</th>\n",
       "      <td>27.000000</td>\n",
       "      <td>27.000000</td>\n",
       "    </tr>\n",
       "    <tr>\n",
       "      <th>mean</th>\n",
       "      <td>2016.333333</td>\n",
       "      <td>2.740833</td>\n",
       "    </tr>\n",
       "    <tr>\n",
       "      <th>std</th>\n",
       "      <td>4.582576</td>\n",
       "      <td>0.083977</td>\n",
       "    </tr>\n",
       "    <tr>\n",
       "      <th>min</th>\n",
       "      <td>2011.000000</td>\n",
       "      <td>2.650000</td>\n",
       "    </tr>\n",
       "    <tr>\n",
       "      <th>25%</th>\n",
       "      <td>2011.000000</td>\n",
       "      <td>2.690000</td>\n",
       "    </tr>\n",
       "    <tr>\n",
       "      <th>50%</th>\n",
       "      <td>2016.000000</td>\n",
       "      <td>2.728333</td>\n",
       "    </tr>\n",
       "    <tr>\n",
       "      <th>75%</th>\n",
       "      <td>2022.000000</td>\n",
       "      <td>2.748750</td>\n",
       "    </tr>\n",
       "    <tr>\n",
       "      <th>max</th>\n",
       "      <td>2022.000000</td>\n",
       "      <td>2.966667</td>\n",
       "    </tr>\n",
       "  </tbody>\n",
       "</table>\n",
       "</div>"
      ],
      "text/plain": [
       "        CensusYear      VALUE\n",
       "count    27.000000  27.000000\n",
       "mean   2016.333333   2.740833\n",
       "std       4.582576   0.083977\n",
       "min    2011.000000   2.650000\n",
       "25%    2011.000000   2.690000\n",
       "50%    2016.000000   2.728333\n",
       "75%    2022.000000   2.748750\n",
       "max    2022.000000   2.966667"
      ]
     },
     "execution_count": 42,
     "metadata": {},
     "output_type": "execute_result"
    }
   ],
   "source": [
    "#checking mean and standard deviation\n",
    "df_agg.describe()"
   ]
  },
  {
   "cell_type": "markdown",
   "id": "5178dd6b",
   "metadata": {},
   "source": [
    "**Observation**\n",
    "\n",
    "Having linear consistent dependency and low standard deviation (0.08) we can use interpolation method in order to fill missing values"
   ]
  },
  {
   "cell_type": "markdown",
   "id": "9221cc26",
   "metadata": {},
   "source": [
    "# Interpolating NAs"
   ]
  },
  {
   "cell_type": "markdown",
   "id": "18eb1762",
   "metadata": {},
   "source": [
    "##### step 1 :\n",
    "Create rows with missing calues. I.e. \n",
    "\n",
    "years to interpolate = [2012, 2013, 2014, 2015, 2017, 2018, 2019, 2020, 2021]\n",
    "\n",
    "for list of regions: ['Mid-West', 'South-West', 'Border', 'South-East', 'Dublin', 'West', 'Mid-East', 'Midlands', 'Ireland']"
   ]
  },
  {
   "cell_type": "code",
   "execution_count": 43,
   "id": "41415c9a",
   "metadata": {},
   "outputs": [],
   "source": [
    "# Create a set to store the unique names of the regions\n",
    "region_names = set()\n",
    "\n",
    "# Iterate over the data frame and add each region name to the set\n",
    "for region in df_agg['Name of Region']:\n",
    "    region_names.add(region)\n",
    "\n",
    "# Convert the set to a list\n",
    "unique_region_names = list(region_names)"
   ]
  },
  {
   "cell_type": "code",
   "execution_count": 44,
   "id": "9783c1d9",
   "metadata": {
    "scrolled": true
   },
   "outputs": [
    {
     "data": {
      "text/plain": [
       "['South-West',\n",
       " 'Mid-East',\n",
       " 'Border',\n",
       " 'West',\n",
       " 'Ireland',\n",
       " 'Dublin',\n",
       " 'Mid-West',\n",
       " 'Midlands',\n",
       " 'South-East']"
      ]
     },
     "execution_count": 44,
     "metadata": {},
     "output_type": "execute_result"
    }
   ],
   "source": [
    "#checking the list\n",
    "unique_region_names"
   ]
  },
  {
   "cell_type": "code",
   "execution_count": 45,
   "id": "7e18073d",
   "metadata": {
    "scrolled": false
   },
   "outputs": [
    {
     "data": {
      "text/plain": [
       "array([2011, 2016, 2022], dtype=int64)"
      ]
     },
     "execution_count": 45,
     "metadata": {},
     "output_type": "execute_result"
    }
   ],
   "source": [
    "#checking current years\n",
    "df_agg.CensusYear.unique()"
   ]
  },
  {
   "cell_type": "code",
   "execution_count": 46,
   "id": "01a7719c",
   "metadata": {
    "scrolled": false
   },
   "outputs": [
    {
     "data": {
      "text/plain": [
       "(27, 5)"
      ]
     },
     "execution_count": 46,
     "metadata": {},
     "output_type": "execute_result"
    }
   ],
   "source": [
    "# checking nr of rows and columns\n",
    "df_agg.shape"
   ]
  },
  {
   "cell_type": "code",
   "execution_count": 47,
   "id": "79f79cc4",
   "metadata": {},
   "outputs": [],
   "source": [
    "years_to_interpolate = [2012, 2013, 2014, 2015, 2017, 2018, 2019, 2020, 2021]\n",
    "\n",
    "# Create a list of lists, where each sublist contains the values for a single row in the new data frame\n",
    "data = []\n",
    "for year in years_to_interpolate:\n",
    "    for region in unique_region_names:\n",
    "        row = [np.nan, year, region, np.nan, np.nan]\n",
    "        data.append(row)"
   ]
  },
  {
   "cell_type": "code",
   "execution_count": 48,
   "id": "d355b764",
   "metadata": {},
   "outputs": [],
   "source": [
    "# creating a data frame for each year and region with empty values for other columns\n",
    "df = pd.DataFrame(data, columns=['Statistic Label', 'CensusYear', 'Name of Region', 'UNIT', 'VALUE'])"
   ]
  },
  {
   "cell_type": "code",
   "execution_count": 49,
   "id": "1c219f72",
   "metadata": {
    "scrolled": false
   },
   "outputs": [
    {
     "data": {
      "text/html": [
       "<div>\n",
       "<style scoped>\n",
       "    .dataframe tbody tr th:only-of-type {\n",
       "        vertical-align: middle;\n",
       "    }\n",
       "\n",
       "    .dataframe tbody tr th {\n",
       "        vertical-align: top;\n",
       "    }\n",
       "\n",
       "    .dataframe thead th {\n",
       "        text-align: right;\n",
       "    }\n",
       "</style>\n",
       "<table border=\"1\" class=\"dataframe\">\n",
       "  <thead>\n",
       "    <tr style=\"text-align: right;\">\n",
       "      <th></th>\n",
       "      <th>Statistic Label</th>\n",
       "      <th>CensusYear</th>\n",
       "      <th>Name of Region</th>\n",
       "      <th>UNIT</th>\n",
       "      <th>VALUE</th>\n",
       "    </tr>\n",
       "  </thead>\n",
       "  <tbody>\n",
       "    <tr>\n",
       "      <th>0</th>\n",
       "      <td>NaN</td>\n",
       "      <td>2012</td>\n",
       "      <td>South-West</td>\n",
       "      <td>NaN</td>\n",
       "      <td>NaN</td>\n",
       "    </tr>\n",
       "    <tr>\n",
       "      <th>1</th>\n",
       "      <td>NaN</td>\n",
       "      <td>2012</td>\n",
       "      <td>Mid-East</td>\n",
       "      <td>NaN</td>\n",
       "      <td>NaN</td>\n",
       "    </tr>\n",
       "    <tr>\n",
       "      <th>2</th>\n",
       "      <td>NaN</td>\n",
       "      <td>2012</td>\n",
       "      <td>Border</td>\n",
       "      <td>NaN</td>\n",
       "      <td>NaN</td>\n",
       "    </tr>\n",
       "    <tr>\n",
       "      <th>3</th>\n",
       "      <td>NaN</td>\n",
       "      <td>2012</td>\n",
       "      <td>West</td>\n",
       "      <td>NaN</td>\n",
       "      <td>NaN</td>\n",
       "    </tr>\n",
       "    <tr>\n",
       "      <th>4</th>\n",
       "      <td>NaN</td>\n",
       "      <td>2012</td>\n",
       "      <td>Ireland</td>\n",
       "      <td>NaN</td>\n",
       "      <td>NaN</td>\n",
       "    </tr>\n",
       "  </tbody>\n",
       "</table>\n",
       "</div>"
      ],
      "text/plain": [
       "   Statistic Label  CensusYear Name of Region  UNIT  VALUE\n",
       "0              NaN        2012     South-West   NaN    NaN\n",
       "1              NaN        2012       Mid-East   NaN    NaN\n",
       "2              NaN        2012         Border   NaN    NaN\n",
       "3              NaN        2012           West   NaN    NaN\n",
       "4              NaN        2012        Ireland   NaN    NaN"
      ]
     },
     "execution_count": 49,
     "metadata": {},
     "output_type": "execute_result"
    }
   ],
   "source": [
    "df.head()"
   ]
  },
  {
   "cell_type": "markdown",
   "id": "1b18260f",
   "metadata": {},
   "source": [
    "##### Step 2:\n",
    "combining created data frame with existing one, sorting rows by years and interpolating missing values "
   ]
  },
  {
   "cell_type": "code",
   "execution_count": 50,
   "id": "4e192060",
   "metadata": {},
   "outputs": [],
   "source": [
    "# combining created data frame with existing one\n",
    "df_agg = pd.concat([df_agg, df], ignore_index=True)"
   ]
  },
  {
   "cell_type": "code",
   "execution_count": 51,
   "id": "e25a81da",
   "metadata": {
    "scrolled": true
   },
   "outputs": [
    {
     "name": "stdout",
     "output_type": "stream",
     "text": [
      "<class 'pandas.core.frame.DataFrame'>\n",
      "RangeIndex: 108 entries, 0 to 107\n",
      "Data columns (total 5 columns):\n",
      " #   Column           Non-Null Count  Dtype  \n",
      "---  ------           --------------  -----  \n",
      " 0   Statistic Label  27 non-null     object \n",
      " 1   CensusYear       108 non-null    int64  \n",
      " 2   Name of Region   108 non-null    object \n",
      " 3   UNIT             27 non-null     object \n",
      " 4   VALUE            27 non-null     float64\n",
      "dtypes: float64(1), int64(1), object(3)\n",
      "memory usage: 4.3+ KB\n"
     ]
    }
   ],
   "source": [
    "# checking min year and max year to make sure that concatination was successful\n",
    "df_agg.info()"
   ]
  },
  {
   "cell_type": "code",
   "execution_count": 52,
   "id": "4c10d806",
   "metadata": {},
   "outputs": [],
   "source": [
    "# dropping columns 'Statistic Label' and 'UNIT', as they will be excessive\n",
    "df_agg = df_agg.drop(['Statistic Label', 'UNIT'], axis=1)"
   ]
  },
  {
   "cell_type": "code",
   "execution_count": 53,
   "id": "aac16ba7",
   "metadata": {},
   "outputs": [],
   "source": [
    "# Sort the DataFrame 'df_pop' by 'year' in ascending order\n",
    "df_agg = df_agg.sort_values(by=['CensusYear',\"Name of Region\"], ascending=True)\n",
    "\n",
    "# Reset the index of the DataFrame 'df_pop'\n",
    "df_agg = df_agg.reset_index(drop=True)"
   ]
  },
  {
   "cell_type": "code",
   "execution_count": 54,
   "id": "0e029522",
   "metadata": {},
   "outputs": [],
   "source": [
    "# Group the DataFrame by region\n",
    "grouped_dataframe = df_agg.groupby(\"Name of Region\")\n",
    "\n",
    "# Interpolate the missing values in each region\n",
    "interpolated_dataframe = grouped_dataframe.apply(lambda group: group.interpolate(method=\"linear\", axis=0))\n",
    "\n",
    "# Ungroup the DataFrame\n",
    "interpolated_dataframe = interpolated_dataframe.reset_index(drop=True)\n"
   ]
  },
  {
   "cell_type": "code",
   "execution_count": 55,
   "id": "4f8cf7af",
   "metadata": {},
   "outputs": [],
   "source": [
    "# Sort the DataFrame 'df_pop' by 'year' in ascending order\n",
    "df_agg = interpolated_dataframe.sort_values(by=['CensusYear'], ascending=True)\n",
    "\n",
    "# Reset the index of the DataFrame 'df_pop'\n",
    "df_agg = df_agg.reset_index(drop=True)"
   ]
  },
  {
   "cell_type": "code",
   "execution_count": 56,
   "id": "a9cd46da",
   "metadata": {
    "scrolled": true
   },
   "outputs": [
    {
     "name": "stdout",
     "output_type": "stream",
     "text": [
      "<class 'pandas.core.frame.DataFrame'>\n",
      "RangeIndex: 108 entries, 0 to 107\n",
      "Data columns (total 3 columns):\n",
      " #   Column          Non-Null Count  Dtype  \n",
      "---  ------          --------------  -----  \n",
      " 0   CensusYear      108 non-null    int64  \n",
      " 1   Name of Region  108 non-null    object \n",
      " 2   VALUE           108 non-null    float64\n",
      "dtypes: float64(1), int64(1), object(1)\n",
      "memory usage: 2.7+ KB\n"
     ]
    }
   ],
   "source": [
    "# Verifying null values\n",
    "df_agg.info()"
   ]
  },
  {
   "cell_type": "code",
   "execution_count": 57,
   "id": "68dd59b9",
   "metadata": {
    "scrolled": true
   },
   "outputs": [
    {
     "data": {
      "text/html": [
       "<div>\n",
       "<style scoped>\n",
       "    .dataframe tbody tr th:only-of-type {\n",
       "        vertical-align: middle;\n",
       "    }\n",
       "\n",
       "    .dataframe tbody tr th {\n",
       "        vertical-align: top;\n",
       "    }\n",
       "\n",
       "    .dataframe thead th {\n",
       "        text-align: right;\n",
       "    }\n",
       "</style>\n",
       "<table border=\"1\" class=\"dataframe\">\n",
       "  <thead>\n",
       "    <tr style=\"text-align: right;\">\n",
       "      <th></th>\n",
       "      <th>CensusYear</th>\n",
       "      <th>Name of Region</th>\n",
       "      <th>VALUE</th>\n",
       "    </tr>\n",
       "  </thead>\n",
       "  <tbody>\n",
       "    <tr>\n",
       "      <th>34</th>\n",
       "      <td>2014</td>\n",
       "      <td>Dublin</td>\n",
       "      <td>2.698000</td>\n",
       "    </tr>\n",
       "    <tr>\n",
       "      <th>18</th>\n",
       "      <td>2013</td>\n",
       "      <td>Mid-West</td>\n",
       "      <td>2.698000</td>\n",
       "    </tr>\n",
       "    <tr>\n",
       "      <th>85</th>\n",
       "      <td>2020</td>\n",
       "      <td>Dublin</td>\n",
       "      <td>2.730000</td>\n",
       "    </tr>\n",
       "    <tr>\n",
       "      <th>1</th>\n",
       "      <td>2011</td>\n",
       "      <td>Midlands</td>\n",
       "      <td>2.792500</td>\n",
       "    </tr>\n",
       "    <tr>\n",
       "      <th>48</th>\n",
       "      <td>2016</td>\n",
       "      <td>South-East</td>\n",
       "      <td>2.732500</td>\n",
       "    </tr>\n",
       "    <tr>\n",
       "      <th>89</th>\n",
       "      <td>2020</td>\n",
       "      <td>South-East</td>\n",
       "      <td>2.725833</td>\n",
       "    </tr>\n",
       "    <tr>\n",
       "      <th>51</th>\n",
       "      <td>2016</td>\n",
       "      <td>Ireland</td>\n",
       "      <td>2.750000</td>\n",
       "    </tr>\n",
       "    <tr>\n",
       "      <th>79</th>\n",
       "      <td>2019</td>\n",
       "      <td>Mid-West</td>\n",
       "      <td>2.685000</td>\n",
       "    </tr>\n",
       "    <tr>\n",
       "      <th>52</th>\n",
       "      <td>2016</td>\n",
       "      <td>Border</td>\n",
       "      <td>2.706667</td>\n",
       "    </tr>\n",
       "    <tr>\n",
       "      <th>95</th>\n",
       "      <td>2021</td>\n",
       "      <td>Midlands</td>\n",
       "      <td>2.805417</td>\n",
       "    </tr>\n",
       "  </tbody>\n",
       "</table>\n",
       "</div>"
      ],
      "text/plain": [
       "    CensusYear Name of Region     VALUE\n",
       "34        2014         Dublin  2.698000\n",
       "18        2013       Mid-West  2.698000\n",
       "85        2020         Dublin  2.730000\n",
       "1         2011       Midlands  2.792500\n",
       "48        2016     South-East  2.732500\n",
       "89        2020     South-East  2.725833\n",
       "51        2016        Ireland  2.750000\n",
       "79        2019       Mid-West  2.685000\n",
       "52        2016         Border  2.706667\n",
       "95        2021       Midlands  2.805417"
      ]
     },
     "execution_count": 57,
     "metadata": {},
     "output_type": "execute_result"
    }
   ],
   "source": [
    "# checking random values\n",
    "df_agg.sample(10)"
   ]
  },
  {
   "cell_type": "code",
   "execution_count": 58,
   "id": "ce463b29",
   "metadata": {},
   "outputs": [],
   "source": [
    "# rounding numbers up to 3 decimal point\n",
    "df_agg['VALUE'] = df_agg['VALUE'].apply(lambda x: '{:.3f}'.format(x))\n",
    "df_agg['VALUE'] = df_agg['VALUE'].astype(float)"
   ]
  },
  {
   "cell_type": "code",
   "execution_count": 59,
   "id": "ccc33b91",
   "metadata": {},
   "outputs": [],
   "source": [
    "# creating new view to the data frame for easier reading and use in the future calculations\n",
    "df_agg = df_agg.rename(columns={'VALUE': 'Average Nr of Persons Household','CensusYear': 'Year','Name of Region': 'Region'})"
   ]
  },
  {
   "cell_type": "code",
   "execution_count": 60,
   "id": "91a46a58",
   "metadata": {
    "scrolled": true
   },
   "outputs": [
    {
     "name": "stdout",
     "output_type": "stream",
     "text": [
      "<class 'pandas.core.frame.DataFrame'>\n",
      "RangeIndex: 108 entries, 0 to 107\n",
      "Data columns (total 3 columns):\n",
      " #   Column                           Non-Null Count  Dtype  \n",
      "---  ------                           --------------  -----  \n",
      " 0   Year                             108 non-null    int64  \n",
      " 1   Region                           108 non-null    object \n",
      " 2   Average Nr of Persons Household  108 non-null    float64\n",
      "dtypes: float64(1), int64(1), object(1)\n",
      "memory usage: 2.7+ KB\n"
     ]
    }
   ],
   "source": [
    "# checkinh new view\n",
    "df_agg.info()"
   ]
  },
  {
   "cell_type": "markdown",
   "id": "4b6f4981",
   "metadata": {},
   "source": [
    "##### Step 3: Visualising resulting data frame"
   ]
  },
  {
   "cell_type": "code",
   "execution_count": 66,
   "id": "11364b38",
   "metadata": {
    "scrolled": false
   },
   "outputs": [
    {
     "data": {
      "image/png": "[encoded data removed]",
      "text/plain": [
       "<Figure size 800x1000 with 9 Axes>"
      ]
     },
     "metadata": {},
     "output_type": "display_data"
    }
   ],
   "source": [
    "# Create a 2-column grid layout\n",
    "gs = GridSpec(nrows=5, ncols=2)\n",
    "# Create a figure\n",
    "fig = plt.figure(figsize=(8, 10))\n",
    "fig.suptitle(\"Average Nr of People per Household for years 2011 - 2022\")\n",
    "# Add subplots to the figure using the grid layout\n",
    "axs = []\n",
    "for i, region in enumerate(df_agg['Region'].unique()):\n",
    "    ax = fig.add_subplot(gs[i])\n",
    "    axs.append(ax)\n",
    "\n",
    "# Plot the graphs for each region\n",
    "for i, region in enumerate(df_agg['Region'].unique()):\n",
    "    ax = axs[i]\n",
    "\n",
    "    # Get the subset of the data frame for the current region\n",
    "    df_region = df_agg[df_agg['Region'] == region]\n",
    "    # Plot the graph for the current region\n",
    "    ax.plot(df_region['Year'], round(df_region['Average Nr of Persons Household'],3), label=region)\n",
    "    ax.set_title(f'{region}')\n",
    "    \n",
    "# Adjust the layout of the figure\n",
    "fig.tight_layout()\n",
    "# Show the plot\n",
    "plt.show()"
   ]
  },
  {
   "cell_type": "code",
   "execution_count": null,
   "id": "6a099262",
   "metadata": {},
   "outputs": [],
   "source": []
  },
  {
   "cell_type": "markdown",
   "id": "41ee82bd",
   "metadata": {},
   "source": [
    "**Observation**\n",
    "\n",
    "Not all of the graphs are smooth, however this will not create big bias on other data."
   ]
  },
  {
   "cell_type": "code",
   "execution_count": 86,
   "id": "9550b7db",
   "metadata": {},
   "outputs": [],
   "source": [
    "df_agg.to_csv(\"F2002_c.csv\", index = False)"
   ]
  },
  {
   "cell_type": "code",
   "execution_count": null,
   "id": "4c34b851",
   "metadata": {},
   "outputs": [],
   "source": []
  }
 ],
 "metadata": {
  "kernelspec": {
   "display_name": "Python 3 (ipykernel)",
   "language": "python",
   "name": "python3"
  },
  "language_info": {
   "codemirror_mode": {
    "name": "ipython",
    "version": 3
   },
   "file_extension": ".py",
   "mimetype": "text/x-python",
   "name": "python",
   "nbconvert_exporter": "python",
   "pygments_lexer": "ipython3",
   "version": "3.11.4"
  }
 },
 "nbformat": 4,
 "nbformat_minor": 5
}
