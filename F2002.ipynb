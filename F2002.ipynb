{
 "cells": [
  {
   "cell_type": "code",
   "execution_count": 1,
   "id": "398ff480",
   "metadata": {},
   "outputs": [],
   "source": [
    "##IMPORTING LIBRARIES\n",
    "import pandas as pd\n",
    "import statistics as stats\n",
    "import numpy as np\n",
    "import matplotlib.pyplot as plt\n",
    "import seaborn as sns\n",
    "\n",
    "# Suppress the warnings\n",
    "import warnings\n",
    "warnings.filterwarnings('ignore')"
   ]
  },
  {
   "cell_type": "code",
   "execution_count": 2,
   "id": "9052f587",
   "metadata": {
    "scrolled": true
   },
   "outputs": [
    {
     "data": {
      "text/html": [
       "<div>\n",
       "<style scoped>\n",
       "    .dataframe tbody tr th:only-of-type {\n",
       "        vertical-align: middle;\n",
       "    }\n",
       "\n",
       "    .dataframe tbody tr th {\n",
       "        vertical-align: top;\n",
       "    }\n",
       "\n",
       "    .dataframe thead th {\n",
       "        text-align: right;\n",
       "    }\n",
       "</style>\n",
       "<table border=\"1\" class=\"dataframe\">\n",
       "  <thead>\n",
       "    <tr style=\"text-align: right;\">\n",
       "      <th></th>\n",
       "      <th>Statistic Label</th>\n",
       "      <th>CensusYear</th>\n",
       "      <th>County</th>\n",
       "      <th>UNIT</th>\n",
       "      <th>VALUE</th>\n",
       "    </tr>\n",
       "  </thead>\n",
       "  <tbody>\n",
       "    <tr>\n",
       "      <th>0</th>\n",
       "      <td>Average Number of Persons per Private Househol...</td>\n",
       "      <td>1971</td>\n",
       "      <td>Co. Clare</td>\n",
       "      <td>Number</td>\n",
       "      <td>3.81</td>\n",
       "    </tr>\n",
       "    <tr>\n",
       "      <th>1</th>\n",
       "      <td>Average Number of Persons per Private Househol...</td>\n",
       "      <td>1971</td>\n",
       "      <td>Co. Cork</td>\n",
       "      <td>Number</td>\n",
       "      <td>3.93</td>\n",
       "    </tr>\n",
       "    <tr>\n",
       "      <th>2</th>\n",
       "      <td>Average Number of Persons per Private Househol...</td>\n",
       "      <td>1971</td>\n",
       "      <td>Co. Cavan</td>\n",
       "      <td>Number</td>\n",
       "      <td>3.64</td>\n",
       "    </tr>\n",
       "    <tr>\n",
       "      <th>3</th>\n",
       "      <td>Average Number of Persons per Private Househol...</td>\n",
       "      <td>1971</td>\n",
       "      <td>Co. Carlow</td>\n",
       "      <td>Number</td>\n",
       "      <td>4.17</td>\n",
       "    </tr>\n",
       "    <tr>\n",
       "      <th>4</th>\n",
       "      <td>Average Number of Persons per Private Househol...</td>\n",
       "      <td>1971</td>\n",
       "      <td>Co. Donegal</td>\n",
       "      <td>Number</td>\n",
       "      <td>3.90</td>\n",
       "    </tr>\n",
       "  </tbody>\n",
       "</table>\n",
       "</div>"
      ],
      "text/plain": [
       "                                     Statistic Label  CensusYear       County  \\\n",
       "0  Average Number of Persons per Private Househol...        1971    Co. Clare   \n",
       "1  Average Number of Persons per Private Househol...        1971     Co. Cork   \n",
       "2  Average Number of Persons per Private Househol...        1971    Co. Cavan   \n",
       "3  Average Number of Persons per Private Househol...        1971   Co. Carlow   \n",
       "4  Average Number of Persons per Private Househol...        1971  Co. Donegal   \n",
       "\n",
       "     UNIT  VALUE  \n",
       "0  Number   3.81  \n",
       "1  Number   3.93  \n",
       "2  Number   3.64  \n",
       "3  Number   4.17  \n",
       "4  Number   3.90  "
      ]
     },
     "execution_count": 2,
     "metadata": {},
     "output_type": "execute_result"
    }
   ],
   "source": [
    "df_pop = pd.read_csv(\"F2002.csv\")\n",
    "df_pop.head()"
   ]
  },
  {
   "cell_type": "code",
   "execution_count": 3,
   "id": "9742aef1",
   "metadata": {},
   "outputs": [],
   "source": [
    "df_reg = pd.read_csv(\"Regions.csv\")"
   ]
  },
  {
   "cell_type": "code",
   "execution_count": 4,
   "id": "59a3ce25",
   "metadata": {},
   "outputs": [
    {
     "data": {
      "text/html": [
       "<div>\n",
       "<style scoped>\n",
       "    .dataframe tbody tr th:only-of-type {\n",
       "        vertical-align: middle;\n",
       "    }\n",
       "\n",
       "    .dataframe tbody tr th {\n",
       "        vertical-align: top;\n",
       "    }\n",
       "\n",
       "    .dataframe thead th {\n",
       "        text-align: right;\n",
       "    }\n",
       "</style>\n",
       "<table border=\"1\" class=\"dataframe\">\n",
       "  <thead>\n",
       "    <tr style=\"text-align: right;\">\n",
       "      <th></th>\n",
       "      <th>Name of region</th>\n",
       "      <th>Constituent counties</th>\n",
       "      <th>Type of area</th>\n",
       "    </tr>\n",
       "  </thead>\n",
       "  <tbody>\n",
       "    <tr>\n",
       "      <th>30</th>\n",
       "      <td>South-East</td>\n",
       "      <td>Waterford</td>\n",
       "      <td>City</td>\n",
       "    </tr>\n",
       "    <tr>\n",
       "      <th>7</th>\n",
       "      <td>Dublin</td>\n",
       "      <td>Dublin</td>\n",
       "      <td>City</td>\n",
       "    </tr>\n",
       "    <tr>\n",
       "      <th>34</th>\n",
       "      <td>South-West</td>\n",
       "      <td>Cork</td>\n",
       "      <td>City</td>\n",
       "    </tr>\n",
       "    <tr>\n",
       "      <th>20</th>\n",
       "      <td>Midlands</td>\n",
       "      <td>NaN</td>\n",
       "      <td>NaN</td>\n",
       "    </tr>\n",
       "    <tr>\n",
       "      <th>17</th>\n",
       "      <td>Midlands</td>\n",
       "      <td>Longford</td>\n",
       "      <td>Administrative county</td>\n",
       "    </tr>\n",
       "    <tr>\n",
       "      <th>2</th>\n",
       "      <td>Border</td>\n",
       "      <td>Leitrim</td>\n",
       "      <td>Administrative county</td>\n",
       "    </tr>\n",
       "    <tr>\n",
       "      <th>6</th>\n",
       "      <td>Border</td>\n",
       "      <td>NaN</td>\n",
       "      <td>NaN</td>\n",
       "    </tr>\n",
       "    <tr>\n",
       "      <th>10</th>\n",
       "      <td>Dublin</td>\n",
       "      <td>South Dublin</td>\n",
       "      <td>Administrative county</td>\n",
       "    </tr>\n",
       "  </tbody>\n",
       "</table>\n",
       "</div>"
      ],
      "text/plain": [
       "   Name of region  Constituent counties           Type of area\n",
       "30      South-East            Waterford                   City\n",
       "7           Dublin               Dublin                   City\n",
       "34      South-West                 Cork                   City\n",
       "20        Midlands                  NaN                    NaN\n",
       "17        Midlands             Longford  Administrative county\n",
       "2           Border              Leitrim  Administrative county\n",
       "6           Border                  NaN                    NaN\n",
       "10          Dublin         South Dublin  Administrative county"
      ]
     },
     "execution_count": 4,
     "metadata": {},
     "output_type": "execute_result"
    }
   ],
   "source": [
    "#Using 'ffill' method in the column with Regions to fill NAs with the last valid value \n",
    "df_reg[\"Name of region \"] = df_reg[\"Name of region \"].fillna(method='ffill')\n",
    "df_reg.sample(8)"
   ]
  },
  {
   "cell_type": "code",
   "execution_count": 5,
   "id": "41747763",
   "metadata": {},
   "outputs": [],
   "source": [
    "df_reg = df_reg.dropna()"
   ]
  },
  {
   "cell_type": "code",
   "execution_count": 6,
   "id": "f176a310",
   "metadata": {},
   "outputs": [],
   "source": [
    "# North Tiperrary and South Tiperrary contain additional space at the end, just remove it\n",
    "df_reg[\"Constituent counties\"] = df_reg[\"Constituent counties\"].str.replace(f'Tipperary ', 'Tipperary')"
   ]
  },
  {
   "cell_type": "code",
   "execution_count": 7,
   "id": "7c1388a2",
   "metadata": {
    "scrolled": true
   },
   "outputs": [
    {
     "data": {
      "text/plain": [
       "array(['Cavan', 'Donegal', 'Leitrim', 'Louth', 'Monaghan', 'Sligo',\n",
       "       'Dublin', 'Dún Laoghaire-Rathdown', 'Fingal', 'South Dublin',\n",
       "       'Kildare', 'Meath', 'Wicklow', 'Laois', 'Longford', 'Offaly',\n",
       "       'Westmeath', 'Clare', 'Limerick', 'North Tipperary', 'Tipperary',\n",
       "       'Carlow', 'Kilkenny', 'South Tipperary', 'Waterford', 'Wexford',\n",
       "       'Cork', 'Kerry', 'Galway', 'Mayo', 'Roscommon'], dtype=object)"
      ]
     },
     "execution_count": 7,
     "metadata": {},
     "output_type": "execute_result"
    }
   ],
   "source": [
    "#final check\n",
    "df_reg[\"Constituent counties\"].unique()"
   ]
  },
  {
   "cell_type": "code",
   "execution_count": 8,
   "id": "8db203ba",
   "metadata": {},
   "outputs": [],
   "source": [
    "df_pop = pd.read_csv(\"F2002.csv\")"
   ]
  },
  {
   "cell_type": "code",
   "execution_count": 9,
   "id": "1c8134aa",
   "metadata": {},
   "outputs": [
    {
     "data": {
      "text/plain": [
       "array(['Clare', 'Cork', 'Cavan', 'Carlow', 'Donegal', 'Dublin', 'Galway',\n",
       "       'Kildare', 'Kilkenny', 'Kerry', 'Longford', 'Louth', 'Limerick',\n",
       "       'Leitrim', 'Laois', 'Meath', 'Monaghan', 'Mayo', 'Offaly',\n",
       "       'Roscommon', 'Sligo', 'Tipperary', 'Waterford', 'Wicklow',\n",
       "       'Westmeath', 'Wexford', 'Ireland'], dtype=object)"
      ]
     },
     "execution_count": 9,
     "metadata": {},
     "output_type": "execute_result"
    }
   ],
   "source": [
    "df_pop['County'] = df_pop['County'].str.replace('.', '')\n",
    "df_pop['County'] = df_pop['County'].str.replace('Co ', '')\n",
    "df_pop.County.unique()"
   ]
  },
  {
   "cell_type": "code",
   "execution_count": 10,
   "id": "d2fa6a33",
   "metadata": {},
   "outputs": [],
   "source": [
    "#column Region  will be created in the dataFrame\n",
    "\n",
    "#Function is working with 2 dataframes as arguments:\n",
    "#for eah element from column \"County\" in the df_it will check if there is according name in \n",
    "#\"Constituent counties\" column from df_reg\n",
    "#and if so value from column \"Name of region\" will be taken for new column\n",
    "\n",
    "def create_region_column(df_it, df_reg):\n",
    "    df_it['Region'] = df_it['County'].apply(\n",
    "        lambda x: df_reg.loc[df_reg['Constituent counties'] == x, 'Name of region '].iloc[0] \n",
    "        if x in df_reg['Constituent counties'].to_list() else x)\n",
    "    return df_it"
   ]
  },
  {
   "cell_type": "code",
   "execution_count": 11,
   "id": "cd0888b9",
   "metadata": {},
   "outputs": [],
   "source": [
    "#applying fuction to current dataframe and checking if new column is created with correct values\n",
    "df_pop = create_region_column(df_pop, df_reg)"
   ]
  },
  {
   "cell_type": "code",
   "execution_count": 12,
   "id": "4e89b5cb",
   "metadata": {},
   "outputs": [],
   "source": [
    "#replacing the counties with regions and checking \n",
    "df_pop[\"County\"] = df_pop[\"Region\"]"
   ]
  },
  {
   "cell_type": "code",
   "execution_count": 13,
   "id": "6f55f308",
   "metadata": {
    "scrolled": true
   },
   "outputs": [
    {
     "data": {
      "text/plain": [
       "array(['Mid-West', 'South-West', 'Border', 'South-East', 'Dublin', 'West',\n",
       "       'Mid-East', 'Midlands', 'Ireland'], dtype=object)"
      ]
     },
     "execution_count": 13,
     "metadata": {},
     "output_type": "execute_result"
    }
   ],
   "source": [
    "df_pop = df_pop.rename(columns={'County': 'Name of Region'})\n",
    "df_pop = df_pop.drop(columns=[\"Region\"])\n",
    "df_pop[\"Name of Region\"].unique()"
   ]
  },
  {
   "cell_type": "code",
   "execution_count": 14,
   "id": "c7c84d47",
   "metadata": {},
   "outputs": [],
   "source": [
    "# Group the DataFrame by the 'Statistic Label', 'CensusYear', 'Name of Region', and 'UNIT' columns\n",
    "df_grouped = df_pop.groupby(['Statistic Label','CensusYear', 'Name of Region','UNIT'])\n",
    "\n",
    "# Calculate the mean of the 'VALUE' column for each group\n",
    "df_agg = df_grouped['VALUE'].mean()"
   ]
  },
  {
   "cell_type": "code",
   "execution_count": 15,
   "id": "4805a8c9",
   "metadata": {
    "scrolled": true
   },
   "outputs": [
    {
     "data": {
      "text/plain": [
       "Statistic Label                                                             CensusYear  Name of Region  UNIT  \n",
       "Average Number of Persons per Private Household in Permanent Housing Units  1971        Border          Number    3.726667\n",
       "                                                                                        Dublin          Number    3.940000\n",
       "                                                                                        Ireland         Number    3.940000\n",
       "                                                                                        Mid-East        Number    4.126667\n",
       "                                                                                        Mid-West        Number    3.923333\n",
       "Name: VALUE, dtype: float64"
      ]
     },
     "execution_count": 15,
     "metadata": {},
     "output_type": "execute_result"
    }
   ],
   "source": [
    "df_agg.head()"
   ]
  },
  {
   "cell_type": "code",
   "execution_count": 16,
   "id": "6494f66b",
   "metadata": {
    "scrolled": false
   },
   "outputs": [
    {
     "data": {
      "text/html": [
       "<div>\n",
       "<style scoped>\n",
       "    .dataframe tbody tr th:only-of-type {\n",
       "        vertical-align: middle;\n",
       "    }\n",
       "\n",
       "    .dataframe tbody tr th {\n",
       "        vertical-align: top;\n",
       "    }\n",
       "\n",
       "    .dataframe thead th {\n",
       "        text-align: right;\n",
       "    }\n",
       "</style>\n",
       "<table border=\"1\" class=\"dataframe\">\n",
       "  <thead>\n",
       "    <tr style=\"text-align: right;\">\n",
       "      <th></th>\n",
       "      <th>Statistic Label</th>\n",
       "      <th>CensusYear</th>\n",
       "      <th>Name of Region</th>\n",
       "      <th>UNIT</th>\n",
       "      <th>VALUE</th>\n",
       "    </tr>\n",
       "  </thead>\n",
       "  <tbody>\n",
       "    <tr>\n",
       "      <th>0</th>\n",
       "      <td>Average Number of Persons per Private Househol...</td>\n",
       "      <td>1971</td>\n",
       "      <td>Border</td>\n",
       "      <td>Number</td>\n",
       "      <td>3.726667</td>\n",
       "    </tr>\n",
       "    <tr>\n",
       "      <th>1</th>\n",
       "      <td>Average Number of Persons per Private Househol...</td>\n",
       "      <td>1971</td>\n",
       "      <td>Dublin</td>\n",
       "      <td>Number</td>\n",
       "      <td>3.940000</td>\n",
       "    </tr>\n",
       "    <tr>\n",
       "      <th>2</th>\n",
       "      <td>Average Number of Persons per Private Househol...</td>\n",
       "      <td>1971</td>\n",
       "      <td>Ireland</td>\n",
       "      <td>Number</td>\n",
       "      <td>3.940000</td>\n",
       "    </tr>\n",
       "    <tr>\n",
       "      <th>3</th>\n",
       "      <td>Average Number of Persons per Private Househol...</td>\n",
       "      <td>1971</td>\n",
       "      <td>Mid-East</td>\n",
       "      <td>Number</td>\n",
       "      <td>4.126667</td>\n",
       "    </tr>\n",
       "    <tr>\n",
       "      <th>4</th>\n",
       "      <td>Average Number of Persons per Private Househol...</td>\n",
       "      <td>1971</td>\n",
       "      <td>Mid-West</td>\n",
       "      <td>Number</td>\n",
       "      <td>3.923333</td>\n",
       "    </tr>\n",
       "  </tbody>\n",
       "</table>\n",
       "</div>"
      ],
      "text/plain": [
       "                                     Statistic Label  CensusYear  \\\n",
       "0  Average Number of Persons per Private Househol...        1971   \n",
       "1  Average Number of Persons per Private Househol...        1971   \n",
       "2  Average Number of Persons per Private Househol...        1971   \n",
       "3  Average Number of Persons per Private Househol...        1971   \n",
       "4  Average Number of Persons per Private Househol...        1971   \n",
       "\n",
       "  Name of Region    UNIT     VALUE  \n",
       "0         Border  Number  3.726667  \n",
       "1         Dublin  Number  3.940000  \n",
       "2        Ireland  Number  3.940000  \n",
       "3       Mid-East  Number  4.126667  \n",
       "4       Mid-West  Number  3.923333  "
      ]
     },
     "execution_count": 16,
     "metadata": {},
     "output_type": "execute_result"
    }
   ],
   "source": [
    "df_agg = df_agg.reset_index()\n",
    "df_agg.head()"
   ]
  },
  {
   "cell_type": "code",
   "execution_count": 17,
   "id": "ff5cb2d9",
   "metadata": {},
   "outputs": [],
   "source": [
    "df_agg.to_csv(\"F2002_m.csv\", index = False)"
   ]
  },
  {
   "cell_type": "markdown",
   "id": "9221cc26",
   "metadata": {},
   "source": [
    "# second part \n",
    "#### interpolating NAs"
   ]
  },
  {
   "cell_type": "code",
   "execution_count": 18,
   "id": "81f2443d",
   "metadata": {},
   "outputs": [],
   "source": [
    "df_pop = pd.read_csv(\"F2002_m.csv\")"
   ]
  },
  {
   "cell_type": "code",
   "execution_count": 19,
   "id": "41415c9a",
   "metadata": {},
   "outputs": [],
   "source": [
    "# Create a set to store the unique names of the regions\n",
    "region_names = set()\n",
    "\n",
    "# Iterate over the data frame and add each region name to the set\n",
    "for region in df_pop['Name of Region']:\n",
    "    region_names.add(region)\n",
    "\n",
    "# Convert the set to a list\n",
    "unique_region_names = list(region_names)"
   ]
  },
  {
   "cell_type": "code",
   "execution_count": 20,
   "id": "9783c1d9",
   "metadata": {
    "scrolled": true
   },
   "outputs": [
    {
     "data": {
      "text/plain": [
       "['Midlands',\n",
       " 'Mid-West',\n",
       " 'South-West',\n",
       " 'Border',\n",
       " 'South-East',\n",
       " 'Dublin',\n",
       " 'Ireland',\n",
       " 'Mid-East',\n",
       " 'West']"
      ]
     },
     "execution_count": 20,
     "metadata": {},
     "output_type": "execute_result"
    }
   ],
   "source": [
    "unique_region_names"
   ]
  },
  {
   "cell_type": "code",
   "execution_count": 21,
   "id": "7e18073d",
   "metadata": {
    "scrolled": false
   },
   "outputs": [
    {
     "data": {
      "text/plain": [
       "array([1971, 1981, 1991, 2002, 2006, 2011, 2016, 2022], dtype=int64)"
      ]
     },
     "execution_count": 21,
     "metadata": {},
     "output_type": "execute_result"
    }
   ],
   "source": [
    "df_pop.CensusYear.unique()"
   ]
  },
  {
   "cell_type": "code",
   "execution_count": 22,
   "id": "01a7719c",
   "metadata": {
    "scrolled": true
   },
   "outputs": [
    {
     "name": "stdout",
     "output_type": "stream",
     "text": [
      "<class 'pandas.core.frame.DataFrame'>\n",
      "RangeIndex: 72 entries, 0 to 71\n",
      "Data columns (total 5 columns):\n",
      " #   Column           Non-Null Count  Dtype  \n",
      "---  ------           --------------  -----  \n",
      " 0   Statistic Label  72 non-null     object \n",
      " 1   CensusYear       72 non-null     int64  \n",
      " 2   Name of Region   72 non-null     object \n",
      " 3   UNIT             72 non-null     object \n",
      " 4   VALUE            72 non-null     float64\n",
      "dtypes: float64(1), int64(1), object(3)\n",
      "memory usage: 2.9+ KB\n"
     ]
    }
   ],
   "source": [
    "df_pop.info()"
   ]
  },
  {
   "cell_type": "code",
   "execution_count": 23,
   "id": "79f79cc4",
   "metadata": {},
   "outputs": [],
   "source": [
    "years_to_interpolate = [2007, 2008, 2009, 2010, 2012, 2013, 2014, 2015, 2017, 2018, 2019, 2020, 2021]\n",
    "\n",
    "# Create a list of lists, where each sublist contains the values for a single row in the new data frame\n",
    "data = []\n",
    "for year in years_to_interpolate:\n",
    "    for region in unique_region_names:\n",
    "        row = [np.nan, year, region, np.nan, np.nan]\n",
    "        data.append(row)"
   ]
  },
  {
   "cell_type": "code",
   "execution_count": 24,
   "id": "d355b764",
   "metadata": {},
   "outputs": [],
   "source": [
    "df = pd.DataFrame(data, columns=['Statistic Label', 'CensusYear', 'Name of Region', 'UNIT', 'VALUE'])"
   ]
  },
  {
   "cell_type": "code",
   "execution_count": 25,
   "id": "1c219f72",
   "metadata": {
    "scrolled": true
   },
   "outputs": [
    {
     "data": {
      "text/html": [
       "<div>\n",
       "<style scoped>\n",
       "    .dataframe tbody tr th:only-of-type {\n",
       "        vertical-align: middle;\n",
       "    }\n",
       "\n",
       "    .dataframe tbody tr th {\n",
       "        vertical-align: top;\n",
       "    }\n",
       "\n",
       "    .dataframe thead th {\n",
       "        text-align: right;\n",
       "    }\n",
       "</style>\n",
       "<table border=\"1\" class=\"dataframe\">\n",
       "  <thead>\n",
       "    <tr style=\"text-align: right;\">\n",
       "      <th></th>\n",
       "      <th>Statistic Label</th>\n",
       "      <th>CensusYear</th>\n",
       "      <th>Name of Region</th>\n",
       "      <th>UNIT</th>\n",
       "      <th>VALUE</th>\n",
       "    </tr>\n",
       "  </thead>\n",
       "  <tbody>\n",
       "    <tr>\n",
       "      <th>0</th>\n",
       "      <td>NaN</td>\n",
       "      <td>2007</td>\n",
       "      <td>Midlands</td>\n",
       "      <td>NaN</td>\n",
       "      <td>NaN</td>\n",
       "    </tr>\n",
       "    <tr>\n",
       "      <th>1</th>\n",
       "      <td>NaN</td>\n",
       "      <td>2007</td>\n",
       "      <td>Mid-West</td>\n",
       "      <td>NaN</td>\n",
       "      <td>NaN</td>\n",
       "    </tr>\n",
       "    <tr>\n",
       "      <th>2</th>\n",
       "      <td>NaN</td>\n",
       "      <td>2007</td>\n",
       "      <td>South-West</td>\n",
       "      <td>NaN</td>\n",
       "      <td>NaN</td>\n",
       "    </tr>\n",
       "    <tr>\n",
       "      <th>3</th>\n",
       "      <td>NaN</td>\n",
       "      <td>2007</td>\n",
       "      <td>Border</td>\n",
       "      <td>NaN</td>\n",
       "      <td>NaN</td>\n",
       "    </tr>\n",
       "    <tr>\n",
       "      <th>4</th>\n",
       "      <td>NaN</td>\n",
       "      <td>2007</td>\n",
       "      <td>South-East</td>\n",
       "      <td>NaN</td>\n",
       "      <td>NaN</td>\n",
       "    </tr>\n",
       "  </tbody>\n",
       "</table>\n",
       "</div>"
      ],
      "text/plain": [
       "   Statistic Label  CensusYear Name of Region  UNIT  VALUE\n",
       "0              NaN        2007       Midlands   NaN    NaN\n",
       "1              NaN        2007       Mid-West   NaN    NaN\n",
       "2              NaN        2007     South-West   NaN    NaN\n",
       "3              NaN        2007         Border   NaN    NaN\n",
       "4              NaN        2007     South-East   NaN    NaN"
      ]
     },
     "execution_count": 25,
     "metadata": {},
     "output_type": "execute_result"
    }
   ],
   "source": [
    "df.head()"
   ]
  },
  {
   "cell_type": "code",
   "execution_count": 26,
   "id": "4e192060",
   "metadata": {},
   "outputs": [],
   "source": [
    "df_pop = pd.concat([df_pop, df], ignore_index=True)"
   ]
  },
  {
   "cell_type": "code",
   "execution_count": 27,
   "id": "e25a81da",
   "metadata": {
    "scrolled": true
   },
   "outputs": [
    {
     "data": {
      "text/html": [
       "<div>\n",
       "<style scoped>\n",
       "    .dataframe tbody tr th:only-of-type {\n",
       "        vertical-align: middle;\n",
       "    }\n",
       "\n",
       "    .dataframe tbody tr th {\n",
       "        vertical-align: top;\n",
       "    }\n",
       "\n",
       "    .dataframe thead th {\n",
       "        text-align: right;\n",
       "    }\n",
       "</style>\n",
       "<table border=\"1\" class=\"dataframe\">\n",
       "  <thead>\n",
       "    <tr style=\"text-align: right;\">\n",
       "      <th></th>\n",
       "      <th>Statistic Label</th>\n",
       "      <th>CensusYear</th>\n",
       "      <th>Name of Region</th>\n",
       "      <th>UNIT</th>\n",
       "      <th>VALUE</th>\n",
       "    </tr>\n",
       "  </thead>\n",
       "  <tbody>\n",
       "    <tr>\n",
       "      <th>0</th>\n",
       "      <td>Average Number of Persons per Private Househol...</td>\n",
       "      <td>1971</td>\n",
       "      <td>Border</td>\n",
       "      <td>Number</td>\n",
       "      <td>3.726667</td>\n",
       "    </tr>\n",
       "    <tr>\n",
       "      <th>1</th>\n",
       "      <td>Average Number of Persons per Private Househol...</td>\n",
       "      <td>1971</td>\n",
       "      <td>Dublin</td>\n",
       "      <td>Number</td>\n",
       "      <td>3.940000</td>\n",
       "    </tr>\n",
       "    <tr>\n",
       "      <th>2</th>\n",
       "      <td>Average Number of Persons per Private Househol...</td>\n",
       "      <td>1971</td>\n",
       "      <td>Ireland</td>\n",
       "      <td>Number</td>\n",
       "      <td>3.940000</td>\n",
       "    </tr>\n",
       "    <tr>\n",
       "      <th>3</th>\n",
       "      <td>Average Number of Persons per Private Househol...</td>\n",
       "      <td>1971</td>\n",
       "      <td>Mid-East</td>\n",
       "      <td>Number</td>\n",
       "      <td>4.126667</td>\n",
       "    </tr>\n",
       "    <tr>\n",
       "      <th>4</th>\n",
       "      <td>Average Number of Persons per Private Househol...</td>\n",
       "      <td>1971</td>\n",
       "      <td>Mid-West</td>\n",
       "      <td>Number</td>\n",
       "      <td>3.923333</td>\n",
       "    </tr>\n",
       "  </tbody>\n",
       "</table>\n",
       "</div>"
      ],
      "text/plain": [
       "                                     Statistic Label  CensusYear  \\\n",
       "0  Average Number of Persons per Private Househol...        1971   \n",
       "1  Average Number of Persons per Private Househol...        1971   \n",
       "2  Average Number of Persons per Private Househol...        1971   \n",
       "3  Average Number of Persons per Private Househol...        1971   \n",
       "4  Average Number of Persons per Private Househol...        1971   \n",
       "\n",
       "  Name of Region    UNIT     VALUE  \n",
       "0         Border  Number  3.726667  \n",
       "1         Dublin  Number  3.940000  \n",
       "2        Ireland  Number  3.940000  \n",
       "3       Mid-East  Number  4.126667  \n",
       "4       Mid-West  Number  3.923333  "
      ]
     },
     "execution_count": 27,
     "metadata": {},
     "output_type": "execute_result"
    }
   ],
   "source": [
    "df_pop.head()"
   ]
  },
  {
   "cell_type": "code",
   "execution_count": 28,
   "id": "129d0f60",
   "metadata": {},
   "outputs": [],
   "source": [
    "df_pop['Statistic Label'] = df_pop['Statistic Label'].fillna('Average Number of Persons per Private Household in Permanent Housing Units')\n",
    "df_pop['UNIT'] = df_pop['UNIT'].fillna('Number')"
   ]
  },
  {
   "cell_type": "code",
   "execution_count": 29,
   "id": "aac16ba7",
   "metadata": {},
   "outputs": [],
   "source": [
    "# Sort the DataFrame 'df_pop' by 'year' in ascending order\n",
    "df_pop = df_pop.sort_values(by=['CensusYear'], ascending=True)\n",
    "\n",
    "# Reset the index of the DataFrame 'df_pop'\n",
    "df_pop = df_pop.reset_index(drop=True)"
   ]
  },
  {
   "cell_type": "code",
   "execution_count": 30,
   "id": "0e029522",
   "metadata": {},
   "outputs": [],
   "source": [
    "# Group the DataFrame by region\n",
    "grouped_dataframe = df_pop.groupby(\"Name of Region\")\n",
    "\n",
    "# Interpolate the missing values in each region\n",
    "interpolated_dataframe = grouped_dataframe.apply(lambda group: group.interpolate(method=\"linear\", axis=0))\n",
    "\n",
    "# Ungroup the DataFrame\n",
    "interpolated_dataframe = interpolated_dataframe.reset_index(drop=True)\n"
   ]
  },
  {
   "cell_type": "code",
   "execution_count": 31,
   "id": "8551cc28",
   "metadata": {},
   "outputs": [],
   "source": [
    "# Sort the DataFrame 'df_pop' by 'year' in ascending order\n",
    "df_pop = interpolated_dataframe.sort_values(by=['CensusYear'], ascending=True)\n",
    "\n",
    "# Reset the index of the DataFrame 'df_pop'\n",
    "df_pop = df_pop.reset_index(drop=True)"
   ]
  },
  {
   "cell_type": "code",
   "execution_count": 32,
   "id": "68dd59b9",
   "metadata": {
    "scrolled": false
   },
   "outputs": [
    {
     "data": {
      "text/html": [
       "<div>\n",
       "<style scoped>\n",
       "    .dataframe tbody tr th:only-of-type {\n",
       "        vertical-align: middle;\n",
       "    }\n",
       "\n",
       "    .dataframe tbody tr th {\n",
       "        vertical-align: top;\n",
       "    }\n",
       "\n",
       "    .dataframe thead th {\n",
       "        text-align: right;\n",
       "    }\n",
       "</style>\n",
       "<table border=\"1\" class=\"dataframe\">\n",
       "  <thead>\n",
       "    <tr style=\"text-align: right;\">\n",
       "      <th></th>\n",
       "      <th>Statistic Label</th>\n",
       "      <th>CensusYear</th>\n",
       "      <th>Name of Region</th>\n",
       "      <th>UNIT</th>\n",
       "      <th>VALUE</th>\n",
       "    </tr>\n",
       "  </thead>\n",
       "  <tbody>\n",
       "    <tr>\n",
       "      <th>0</th>\n",
       "      <td>Average Number of Persons per Private Househol...</td>\n",
       "      <td>1971</td>\n",
       "      <td>Border</td>\n",
       "      <td>Number</td>\n",
       "      <td>3.726667</td>\n",
       "    </tr>\n",
       "    <tr>\n",
       "      <th>1</th>\n",
       "      <td>Average Number of Persons per Private Househol...</td>\n",
       "      <td>1971</td>\n",
       "      <td>South-West</td>\n",
       "      <td>Number</td>\n",
       "      <td>3.910000</td>\n",
       "    </tr>\n",
       "    <tr>\n",
       "      <th>2</th>\n",
       "      <td>Average Number of Persons per Private Househol...</td>\n",
       "      <td>1971</td>\n",
       "      <td>Ireland</td>\n",
       "      <td>Number</td>\n",
       "      <td>3.940000</td>\n",
       "    </tr>\n",
       "    <tr>\n",
       "      <th>3</th>\n",
       "      <td>Average Number of Persons per Private Househol...</td>\n",
       "      <td>1971</td>\n",
       "      <td>South-East</td>\n",
       "      <td>Number</td>\n",
       "      <td>4.047500</td>\n",
       "    </tr>\n",
       "    <tr>\n",
       "      <th>4</th>\n",
       "      <td>Average Number of Persons per Private Househol...</td>\n",
       "      <td>1971</td>\n",
       "      <td>Mid-East</td>\n",
       "      <td>Number</td>\n",
       "      <td>4.126667</td>\n",
       "    </tr>\n",
       "  </tbody>\n",
       "</table>\n",
       "</div>"
      ],
      "text/plain": [
       "                                     Statistic Label  CensusYear  \\\n",
       "0  Average Number of Persons per Private Househol...        1971   \n",
       "1  Average Number of Persons per Private Househol...        1971   \n",
       "2  Average Number of Persons per Private Househol...        1971   \n",
       "3  Average Number of Persons per Private Househol...        1971   \n",
       "4  Average Number of Persons per Private Househol...        1971   \n",
       "\n",
       "  Name of Region    UNIT     VALUE  \n",
       "0         Border  Number  3.726667  \n",
       "1     South-West  Number  3.910000  \n",
       "2        Ireland  Number  3.940000  \n",
       "3     South-East  Number  4.047500  \n",
       "4       Mid-East  Number  4.126667  "
      ]
     },
     "execution_count": 32,
     "metadata": {},
     "output_type": "execute_result"
    }
   ],
   "source": [
    "df_pop.head()"
   ]
  },
  {
   "cell_type": "code",
   "execution_count": 33,
   "id": "ce463b29",
   "metadata": {},
   "outputs": [],
   "source": [
    "df_pop['VALUE'] = df_pop['VALUE'].apply(lambda x: '{:.3f}'.format(x))"
   ]
  },
  {
   "cell_type": "code",
   "execution_count": 34,
   "id": "ccc33b91",
   "metadata": {},
   "outputs": [],
   "source": [
    "df_pop = df_pop.rename(columns={'VALUE': 'Average Nr of Persons Household','CensusYear': 'Year','Name of Region': 'Region'})"
   ]
  },
  {
   "cell_type": "code",
   "execution_count": 35,
   "id": "a42b2561",
   "metadata": {},
   "outputs": [],
   "source": [
    "df_pop = pd.DataFrame(df_pop, columns=['Year', 'Region', 'Average Nr of Persons Household'])"
   ]
  },
  {
   "cell_type": "code",
   "execution_count": 36,
   "id": "dd7f36cf",
   "metadata": {
    "scrolled": true
   },
   "outputs": [
    {
     "data": {
      "text/html": [
       "<div>\n",
       "<style scoped>\n",
       "    .dataframe tbody tr th:only-of-type {\n",
       "        vertical-align: middle;\n",
       "    }\n",
       "\n",
       "    .dataframe tbody tr th {\n",
       "        vertical-align: top;\n",
       "    }\n",
       "\n",
       "    .dataframe thead th {\n",
       "        text-align: right;\n",
       "    }\n",
       "</style>\n",
       "<table border=\"1\" class=\"dataframe\">\n",
       "  <thead>\n",
       "    <tr style=\"text-align: right;\">\n",
       "      <th></th>\n",
       "      <th>Year</th>\n",
       "      <th>Region</th>\n",
       "      <th>Average Nr of Persons Household</th>\n",
       "    </tr>\n",
       "  </thead>\n",
       "  <tbody>\n",
       "    <tr>\n",
       "      <th>0</th>\n",
       "      <td>1971</td>\n",
       "      <td>Border</td>\n",
       "      <td>3.727</td>\n",
       "    </tr>\n",
       "    <tr>\n",
       "      <th>1</th>\n",
       "      <td>1971</td>\n",
       "      <td>South-West</td>\n",
       "      <td>3.910</td>\n",
       "    </tr>\n",
       "    <tr>\n",
       "      <th>2</th>\n",
       "      <td>1971</td>\n",
       "      <td>Ireland</td>\n",
       "      <td>3.940</td>\n",
       "    </tr>\n",
       "    <tr>\n",
       "      <th>3</th>\n",
       "      <td>1971</td>\n",
       "      <td>South-East</td>\n",
       "      <td>4.047</td>\n",
       "    </tr>\n",
       "    <tr>\n",
       "      <th>4</th>\n",
       "      <td>1971</td>\n",
       "      <td>Mid-East</td>\n",
       "      <td>4.127</td>\n",
       "    </tr>\n",
       "  </tbody>\n",
       "</table>\n",
       "</div>"
      ],
      "text/plain": [
       "   Year      Region Average Nr of Persons Household\n",
       "0  1971      Border                           3.727\n",
       "1  1971  South-West                           3.910\n",
       "2  1971     Ireland                           3.940\n",
       "3  1971  South-East                           4.047\n",
       "4  1971    Mid-East                           4.127"
      ]
     },
     "execution_count": 36,
     "metadata": {},
     "output_type": "execute_result"
    }
   ],
   "source": [
    "df_pop.head()"
   ]
  },
  {
   "cell_type": "code",
   "execution_count": 37,
   "id": "9550b7db",
   "metadata": {},
   "outputs": [],
   "source": [
    "df_pop.to_csv(\"F2002_c.csv\", index = False)"
   ]
  }
 ],
 "metadata": {
  "kernelspec": {
   "display_name": "Python 3 (ipykernel)",
   "language": "python",
   "name": "python3"
  },
  "language_info": {
   "codemirror_mode": {
    "name": "ipython",
    "version": 3
   },
   "file_extension": ".py",
   "mimetype": "text/x-python",
   "name": "python",
   "nbconvert_exporter": "python",
   "pygments_lexer": "ipython3",
   "version": "3.11.4"
  }
 },
 "nbformat": 4,
 "nbformat_minor": 5
}
