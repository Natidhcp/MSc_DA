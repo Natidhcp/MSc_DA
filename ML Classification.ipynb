{
 "cells": [
  {
   "cell_type": "code",
   "execution_count": 76,
   "id": "605e1e2f",
   "metadata": {},
   "outputs": [],
   "source": [
    "##IMPORTING LIBRARIES\n",
    "import pandas as pd\n",
    "import numpy as np\n",
    "import matplotlib.pyplot as plt\n",
    "import seaborn as sns\n",
    "from sklearn.linear_model import LinearRegression\n",
    "%matplotlib inline\n",
    "import matplotlib.pyplot as plt\n",
    "from sklearn.linear_model import Lasso\n",
    "from sklearn.linear_model import Ridge\n",
    "from sklearn.tree import DecisionTreeRegressor\n",
    "from statsmodels.tools.eval_measures import mse, rmse\n",
    "from sklearn.ensemble import RandomForestRegressor\n",
    "from sklearn.model_selection import train_test_split\n",
    "from sklearn.linear_model import LogisticRegression\n",
    "from matplotlib.gridspec import GridSpec\n",
    "import matplotlib.ticker as ticker\n",
    "from sklearn.linear_model import LogisticRegression\n",
    "from sklearn.svm import SVC\n",
    "from sklearn.ensemble import RandomForestClassifier\n",
    "import numpy as np\n",
    "from sklearn.datasets import load_digits\n",
    "import matplotlib.pyplot as plt\n",
    "digits = load_digits()\n",
    "\n",
    "import warnings\n",
    "warnings.filterwarnings('ignore')"
   ]
  },
  {
   "cell_type": "code",
   "execution_count": 3,
   "id": "5a9ed9f0",
   "metadata": {},
   "outputs": [
    {
     "data": {
      "text/html": [
       "<div>\n",
       "<style scoped>\n",
       "    .dataframe tbody tr th:only-of-type {\n",
       "        vertical-align: middle;\n",
       "    }\n",
       "\n",
       "    .dataframe tbody tr th {\n",
       "        vertical-align: top;\n",
       "    }\n",
       "\n",
       "    .dataframe thead th {\n",
       "        text-align: right;\n",
       "    }\n",
       "</style>\n",
       "<table border=\"1\" class=\"dataframe\">\n",
       "  <thead>\n",
       "    <tr style=\"text-align: right;\">\n",
       "      <th></th>\n",
       "      <th>Year</th>\n",
       "      <th>Region</th>\n",
       "      <th>Estimated Population nr</th>\n",
       "      <th>Nr of Persons with Internet Access</th>\n",
       "      <th>% of Persons with Internet Access</th>\n",
       "    </tr>\n",
       "  </thead>\n",
       "  <tbody>\n",
       "    <tr>\n",
       "      <th>0</th>\n",
       "      <td>2011</td>\n",
       "      <td>Border</td>\n",
       "      <td>784000.0</td>\n",
       "      <td>517440.0</td>\n",
       "      <td>66.0</td>\n",
       "    </tr>\n",
       "    <tr>\n",
       "      <th>1</th>\n",
       "      <td>2011</td>\n",
       "      <td>Dublin</td>\n",
       "      <td>2523000.0</td>\n",
       "      <td>2119320.0</td>\n",
       "      <td>84.0</td>\n",
       "    </tr>\n",
       "    <tr>\n",
       "      <th>2</th>\n",
       "      <td>2011</td>\n",
       "      <td>Ireland</td>\n",
       "      <td>9149700.0</td>\n",
       "      <td>7136766.0</td>\n",
       "      <td>78.0</td>\n",
       "    </tr>\n",
       "    <tr>\n",
       "      <th>3</th>\n",
       "      <td>2011</td>\n",
       "      <td>Mid-East</td>\n",
       "      <td>1314900.0</td>\n",
       "      <td>1143963.0</td>\n",
       "      <td>87.0</td>\n",
       "    </tr>\n",
       "    <tr>\n",
       "      <th>4</th>\n",
       "      <td>2011</td>\n",
       "      <td>Mid-West</td>\n",
       "      <td>933600.0</td>\n",
       "      <td>718872.0</td>\n",
       "      <td>77.0</td>\n",
       "    </tr>\n",
       "  </tbody>\n",
       "</table>\n",
       "</div>"
      ],
      "text/plain": [
       "   Year    Region  Estimated Population nr  \\\n",
       "0  2011    Border                 784000.0   \n",
       "1  2011    Dublin                2523000.0   \n",
       "2  2011   Ireland                9149700.0   \n",
       "3  2011  Mid-East                1314900.0   \n",
       "4  2011  Mid-West                 933600.0   \n",
       "\n",
       "   Nr of Persons with Internet Access  % of Persons with Internet Access  \n",
       "0                            517440.0                               66.0  \n",
       "1                           2119320.0                               84.0  \n",
       "2                           7136766.0                               78.0  \n",
       "3                           1143963.0                               87.0  \n",
       "4                            718872.0                               77.0  "
      ]
     },
     "execution_count": 3,
     "metadata": {},
     "output_type": "execute_result"
    }
   ],
   "source": [
    "df_pr = pd.read_csv(\"FINAL.csv\")\n",
    "df_pr.head()"
   ]
  },
  {
   "cell_type": "code",
   "execution_count": 15,
   "id": "45858be6",
   "metadata": {},
   "outputs": [
    {
     "data": {
      "text/html": [
       "<div>\n",
       "<style scoped>\n",
       "    .dataframe tbody tr th:only-of-type {\n",
       "        vertical-align: middle;\n",
       "    }\n",
       "\n",
       "    .dataframe tbody tr th {\n",
       "        vertical-align: top;\n",
       "    }\n",
       "\n",
       "    .dataframe thead th {\n",
       "        text-align: right;\n",
       "    }\n",
       "</style>\n",
       "<table border=\"1\" class=\"dataframe\">\n",
       "  <thead>\n",
       "    <tr style=\"text-align: right;\">\n",
       "      <th></th>\n",
       "      <th>Year</th>\n",
       "      <th>Region</th>\n",
       "      <th>Predicted Estimated Population nr</th>\n",
       "    </tr>\n",
       "  </thead>\n",
       "  <tbody>\n",
       "    <tr>\n",
       "      <th>0</th>\n",
       "      <td>2023</td>\n",
       "      <td>South-West</td>\n",
       "      <td>1483545.23</td>\n",
       "    </tr>\n",
       "    <tr>\n",
       "      <th>1</th>\n",
       "      <td>2024</td>\n",
       "      <td>South-West</td>\n",
       "      <td>1497658.74</td>\n",
       "    </tr>\n",
       "    <tr>\n",
       "      <th>2</th>\n",
       "      <td>2025</td>\n",
       "      <td>South-West</td>\n",
       "      <td>1511772.24</td>\n",
       "    </tr>\n",
       "    <tr>\n",
       "      <th>3</th>\n",
       "      <td>2026</td>\n",
       "      <td>South-West</td>\n",
       "      <td>1525885.75</td>\n",
       "    </tr>\n",
       "    <tr>\n",
       "      <th>4</th>\n",
       "      <td>2027</td>\n",
       "      <td>South-West</td>\n",
       "      <td>1539999.26</td>\n",
       "    </tr>\n",
       "  </tbody>\n",
       "</table>\n",
       "</div>"
      ],
      "text/plain": [
       "   Year      Region  Predicted Estimated Population nr\n",
       "0  2023  South-West                         1483545.23\n",
       "1  2024  South-West                         1497658.74\n",
       "2  2025  South-West                         1511772.24\n",
       "3  2026  South-West                         1525885.75\n",
       "4  2027  South-West                         1539999.26"
      ]
     },
     "execution_count": 15,
     "metadata": {},
     "output_type": "execute_result"
    }
   ],
   "source": [
    "dfe = pd.read_csv(\"dfe.csv\")\n",
    "dfe.head()"
   ]
  },
  {
   "cell_type": "code",
   "execution_count": 16,
   "id": "e2de8af9",
   "metadata": {
    "scrolled": true
   },
   "outputs": [
    {
     "data": {
      "text/html": [
       "<div>\n",
       "<style scoped>\n",
       "    .dataframe tbody tr th:only-of-type {\n",
       "        vertical-align: middle;\n",
       "    }\n",
       "\n",
       "    .dataframe tbody tr th {\n",
       "        vertical-align: top;\n",
       "    }\n",
       "\n",
       "    .dataframe thead th {\n",
       "        text-align: right;\n",
       "    }\n",
       "</style>\n",
       "<table border=\"1\" class=\"dataframe\">\n",
       "  <thead>\n",
       "    <tr style=\"text-align: right;\">\n",
       "      <th></th>\n",
       "      <th>Year</th>\n",
       "      <th>Region</th>\n",
       "      <th>Predicted Nr of Persons with Internet Access</th>\n",
       "    </tr>\n",
       "  </thead>\n",
       "  <tbody>\n",
       "    <tr>\n",
       "      <th>0</th>\n",
       "      <td>2023</td>\n",
       "      <td>Dublin</td>\n",
       "      <td>2897494.35</td>\n",
       "    </tr>\n",
       "    <tr>\n",
       "      <th>1</th>\n",
       "      <td>2024</td>\n",
       "      <td>Dublin</td>\n",
       "      <td>2963599.76</td>\n",
       "    </tr>\n",
       "    <tr>\n",
       "      <th>2</th>\n",
       "      <td>2025</td>\n",
       "      <td>Dublin</td>\n",
       "      <td>3029705.16</td>\n",
       "    </tr>\n",
       "    <tr>\n",
       "      <th>3</th>\n",
       "      <td>2026</td>\n",
       "      <td>Dublin</td>\n",
       "      <td>3095810.56</td>\n",
       "    </tr>\n",
       "    <tr>\n",
       "      <th>4</th>\n",
       "      <td>2027</td>\n",
       "      <td>Dublin</td>\n",
       "      <td>3161915.97</td>\n",
       "    </tr>\n",
       "  </tbody>\n",
       "</table>\n",
       "</div>"
      ],
      "text/plain": [
       "   Year  Region  Predicted Nr of Persons with Internet Access\n",
       "0  2023  Dublin                                    2897494.35\n",
       "1  2024  Dublin                                    2963599.76\n",
       "2  2025  Dublin                                    3029705.16\n",
       "3  2026  Dublin                                    3095810.56\n",
       "4  2027  Dublin                                    3161915.97"
      ]
     },
     "execution_count": 16,
     "metadata": {},
     "output_type": "execute_result"
    }
   ],
   "source": [
    "dfp = pd.read_csv(\"dfp.csv\")\n",
    "dfp.head()"
   ]
  },
  {
   "cell_type": "code",
   "execution_count": 37,
   "id": "199812c2",
   "metadata": {},
   "outputs": [],
   "source": [
    "df_pred = dfe.merge(dfp, on=['Year', 'Region'], how='left')"
   ]
  },
  {
   "cell_type": "code",
   "execution_count": 38,
   "id": "c66fd573",
   "metadata": {
    "scrolled": false
   },
   "outputs": [
    {
     "data": {
      "text/html": [
       "<div>\n",
       "<style scoped>\n",
       "    .dataframe tbody tr th:only-of-type {\n",
       "        vertical-align: middle;\n",
       "    }\n",
       "\n",
       "    .dataframe tbody tr th {\n",
       "        vertical-align: top;\n",
       "    }\n",
       "\n",
       "    .dataframe thead th {\n",
       "        text-align: right;\n",
       "    }\n",
       "</style>\n",
       "<table border=\"1\" class=\"dataframe\">\n",
       "  <thead>\n",
       "    <tr style=\"text-align: right;\">\n",
       "      <th></th>\n",
       "      <th>Year</th>\n",
       "      <th>Predicted Estimated Population nr</th>\n",
       "      <th>Predicted Nr of Persons with Internet Access</th>\n",
       "    </tr>\n",
       "  </thead>\n",
       "  <tbody>\n",
       "    <tr>\n",
       "      <th>count</th>\n",
       "      <td>45.000000</td>\n",
       "      <td>4.500000e+01</td>\n",
       "      <td>4.500000e+01</td>\n",
       "    </tr>\n",
       "    <tr>\n",
       "      <th>mean</th>\n",
       "      <td>2025.000000</td>\n",
       "      <td>2.348936e+06</td>\n",
       "      <td>2.297097e+06</td>\n",
       "    </tr>\n",
       "    <tr>\n",
       "      <th>std</th>\n",
       "      <td>1.430194</td>\n",
       "      <td>3.021037e+06</td>\n",
       "      <td>2.975458e+06</td>\n",
       "    </tr>\n",
       "    <tr>\n",
       "      <th>min</th>\n",
       "      <td>2023.000000</td>\n",
       "      <td>6.407404e+05</td>\n",
       "      <td>6.093294e+05</td>\n",
       "    </tr>\n",
       "    <tr>\n",
       "      <th>25%</th>\n",
       "      <td>2024.000000</td>\n",
       "      <td>9.239048e+05</td>\n",
       "      <td>8.838055e+05</td>\n",
       "    </tr>\n",
       "    <tr>\n",
       "      <th>50%</th>\n",
       "      <td>2025.000000</td>\n",
       "      <td>1.024233e+06</td>\n",
       "      <td>9.914065e+05</td>\n",
       "    </tr>\n",
       "    <tr>\n",
       "      <th>75%</th>\n",
       "      <td>2026.000000</td>\n",
       "      <td>1.612315e+06</td>\n",
       "      <td>1.567357e+06</td>\n",
       "    </tr>\n",
       "    <tr>\n",
       "      <th>max</th>\n",
       "      <td>2027.000000</td>\n",
       "      <td>1.079840e+07</td>\n",
       "      <td>1.084817e+07</td>\n",
       "    </tr>\n",
       "  </tbody>\n",
       "</table>\n",
       "</div>"
      ],
      "text/plain": [
       "              Year  Predicted Estimated Population nr  \\\n",
       "count    45.000000                       4.500000e+01   \n",
       "mean   2025.000000                       2.348936e+06   \n",
       "std       1.430194                       3.021037e+06   \n",
       "min    2023.000000                       6.407404e+05   \n",
       "25%    2024.000000                       9.239048e+05   \n",
       "50%    2025.000000                       1.024233e+06   \n",
       "75%    2026.000000                       1.612315e+06   \n",
       "max    2027.000000                       1.079840e+07   \n",
       "\n",
       "       Predicted Nr of Persons with Internet Access  \n",
       "count                                  4.500000e+01  \n",
       "mean                                   2.297097e+06  \n",
       "std                                    2.975458e+06  \n",
       "min                                    6.093294e+05  \n",
       "25%                                    8.838055e+05  \n",
       "50%                                    9.914065e+05  \n",
       "75%                                    1.567357e+06  \n",
       "max                                    1.084817e+07  "
      ]
     },
     "execution_count": 38,
     "metadata": {},
     "output_type": "execute_result"
    }
   ],
   "source": [
    "df_pred.describe()"
   ]
  },
  {
   "cell_type": "code",
   "execution_count": 39,
   "id": "30242054",
   "metadata": {
    "scrolled": true
   },
   "outputs": [
    {
     "data": {
      "text/html": [
       "<div>\n",
       "<style scoped>\n",
       "    .dataframe tbody tr th:only-of-type {\n",
       "        vertical-align: middle;\n",
       "    }\n",
       "\n",
       "    .dataframe tbody tr th {\n",
       "        vertical-align: top;\n",
       "    }\n",
       "\n",
       "    .dataframe thead th {\n",
       "        text-align: right;\n",
       "    }\n",
       "</style>\n",
       "<table border=\"1\" class=\"dataframe\">\n",
       "  <thead>\n",
       "    <tr style=\"text-align: right;\">\n",
       "      <th></th>\n",
       "      <th>Year</th>\n",
       "      <th>Region</th>\n",
       "      <th>Predicted Estimated Population nr</th>\n",
       "      <th>Predicted Nr of Persons with Internet Access</th>\n",
       "      <th>% of Persons with Internet Access</th>\n",
       "    </tr>\n",
       "  </thead>\n",
       "  <tbody>\n",
       "    <tr>\n",
       "      <th>0</th>\n",
       "      <td>2023</td>\n",
       "      <td>South-West</td>\n",
       "      <td>1483545.23</td>\n",
       "      <td>1413930.25</td>\n",
       "      <td>95.307526</td>\n",
       "    </tr>\n",
       "    <tr>\n",
       "      <th>1</th>\n",
       "      <td>2024</td>\n",
       "      <td>South-West</td>\n",
       "      <td>1497658.74</td>\n",
       "      <td>1447736.28</td>\n",
       "      <td>96.666633</td>\n",
       "    </tr>\n",
       "    <tr>\n",
       "      <th>2</th>\n",
       "      <td>2025</td>\n",
       "      <td>South-West</td>\n",
       "      <td>1511772.24</td>\n",
       "      <td>1481542.29</td>\n",
       "      <td>98.000363</td>\n",
       "    </tr>\n",
       "    <tr>\n",
       "      <th>3</th>\n",
       "      <td>2026</td>\n",
       "      <td>South-West</td>\n",
       "      <td>1525885.75</td>\n",
       "      <td>1515348.32</td>\n",
       "      <td>99.309422</td>\n",
       "    </tr>\n",
       "    <tr>\n",
       "      <th>4</th>\n",
       "      <td>2027</td>\n",
       "      <td>South-West</td>\n",
       "      <td>1539999.26</td>\n",
       "      <td>1549154.34</td>\n",
       "      <td>100.594486</td>\n",
       "    </tr>\n",
       "  </tbody>\n",
       "</table>\n",
       "</div>"
      ],
      "text/plain": [
       "   Year      Region  Predicted Estimated Population nr  \\\n",
       "0  2023  South-West                         1483545.23   \n",
       "1  2024  South-West                         1497658.74   \n",
       "2  2025  South-West                         1511772.24   \n",
       "3  2026  South-West                         1525885.75   \n",
       "4  2027  South-West                         1539999.26   \n",
       "\n",
       "   Predicted Nr of Persons with Internet Access  \\\n",
       "0                                    1413930.25   \n",
       "1                                    1447736.28   \n",
       "2                                    1481542.29   \n",
       "3                                    1515348.32   \n",
       "4                                    1549154.34   \n",
       "\n",
       "   % of Persons with Internet Access  \n",
       "0                          95.307526  \n",
       "1                          96.666633  \n",
       "2                          98.000363  \n",
       "3                          99.309422  \n",
       "4                         100.594486  "
      ]
     },
     "execution_count": 39,
     "metadata": {},
     "output_type": "execute_result"
    }
   ],
   "source": [
    "df_pred['% of Persons with Internet Access'] = df_pred['Predicted Nr of Persons with Internet Access']/df_pred['Predicted Estimated Population nr']*100\n",
    "df_pred.head()"
   ]
  },
  {
   "cell_type": "code",
   "execution_count": 40,
   "id": "4e6c6ec3",
   "metadata": {},
   "outputs": [],
   "source": [
    "#renaming columns to concat them with data frame with years from \n",
    "df_pred = df_pred.rename(columns={'Predicted Estimated Population nr': 'Estimated Population nr',\n",
    "                                  'Predicted Nr of Persons with Internet Access': 'Nr of Persons with Internet Access'})"
   ]
  },
  {
   "cell_type": "code",
   "execution_count": 52,
   "id": "bf0cb6a0",
   "metadata": {},
   "outputs": [],
   "source": [
    "df_final = pd.concat([df_pr,df_pred],ignore_index=True)"
   ]
  },
  {
   "cell_type": "code",
   "execution_count": 53,
   "id": "6ec04ff2",
   "metadata": {},
   "outputs": [
    {
     "data": {
      "text/html": [
       "<div>\n",
       "<style scoped>\n",
       "    .dataframe tbody tr th:only-of-type {\n",
       "        vertical-align: middle;\n",
       "    }\n",
       "\n",
       "    .dataframe tbody tr th {\n",
       "        vertical-align: top;\n",
       "    }\n",
       "\n",
       "    .dataframe thead th {\n",
       "        text-align: right;\n",
       "    }\n",
       "</style>\n",
       "<table border=\"1\" class=\"dataframe\">\n",
       "  <thead>\n",
       "    <tr style=\"text-align: right;\">\n",
       "      <th></th>\n",
       "      <th>Year</th>\n",
       "      <th>Estimated Population nr</th>\n",
       "      <th>Nr of Persons with Internet Access</th>\n",
       "      <th>% of Persons with Internet Access</th>\n",
       "    </tr>\n",
       "  </thead>\n",
       "  <tbody>\n",
       "    <tr>\n",
       "      <th>count</th>\n",
       "      <td>153.000000</td>\n",
       "      <td>1.530000e+02</td>\n",
       "      <td>1.530000e+02</td>\n",
       "      <td>153.000000</td>\n",
       "    </tr>\n",
       "    <tr>\n",
       "      <th>mean</th>\n",
       "      <td>2019.000000</td>\n",
       "      <td>2.201954e+06</td>\n",
       "      <td>1.993112e+06</td>\n",
       "      <td>89.245769</td>\n",
       "    </tr>\n",
       "    <tr>\n",
       "      <th>std</th>\n",
       "      <td>4.915068</td>\n",
       "      <td>2.809968e+06</td>\n",
       "      <td>2.580067e+06</td>\n",
       "      <td>7.590618</td>\n",
       "    </tr>\n",
       "    <tr>\n",
       "      <th>min</th>\n",
       "      <td>2011.000000</td>\n",
       "      <td>5.676000e+05</td>\n",
       "      <td>4.248340e+05</td>\n",
       "      <td>66.000000</td>\n",
       "    </tr>\n",
       "    <tr>\n",
       "      <th>25%</th>\n",
       "      <td>2015.000000</td>\n",
       "      <td>8.433529e+05</td>\n",
       "      <td>7.205340e+05</td>\n",
       "      <td>85.000000</td>\n",
       "    </tr>\n",
       "    <tr>\n",
       "      <th>50%</th>\n",
       "      <td>2019.000000</td>\n",
       "      <td>9.958000e+05</td>\n",
       "      <td>9.309599e+05</td>\n",
       "      <td>89.500000</td>\n",
       "    </tr>\n",
       "    <tr>\n",
       "      <th>75%</th>\n",
       "      <td>2023.000000</td>\n",
       "      <td>1.550029e+06</td>\n",
       "      <td>1.515348e+06</td>\n",
       "      <td>95.307526</td>\n",
       "    </tr>\n",
       "    <tr>\n",
       "      <th>max</th>\n",
       "      <td>2027.000000</td>\n",
       "      <td>1.079840e+07</td>\n",
       "      <td>1.084817e+07</td>\n",
       "      <td>104.962482</td>\n",
       "    </tr>\n",
       "  </tbody>\n",
       "</table>\n",
       "</div>"
      ],
      "text/plain": [
       "              Year  Estimated Population nr  \\\n",
       "count   153.000000             1.530000e+02   \n",
       "mean   2019.000000             2.201954e+06   \n",
       "std       4.915068             2.809968e+06   \n",
       "min    2011.000000             5.676000e+05   \n",
       "25%    2015.000000             8.433529e+05   \n",
       "50%    2019.000000             9.958000e+05   \n",
       "75%    2023.000000             1.550029e+06   \n",
       "max    2027.000000             1.079840e+07   \n",
       "\n",
       "       Nr of Persons with Internet Access  % of Persons with Internet Access  \n",
       "count                        1.530000e+02                         153.000000  \n",
       "mean                         1.993112e+06                          89.245769  \n",
       "std                          2.580067e+06                           7.590618  \n",
       "min                          4.248340e+05                          66.000000  \n",
       "25%                          7.205340e+05                          85.000000  \n",
       "50%                          9.309599e+05                          89.500000  \n",
       "75%                          1.515348e+06                          95.307526  \n",
       "max                          1.084817e+07                         104.962482  "
      ]
     },
     "execution_count": 53,
     "metadata": {},
     "output_type": "execute_result"
    }
   ],
   "source": [
    "df_final.describe()"
   ]
  },
  {
   "cell_type": "code",
   "execution_count": 98,
   "id": "4761d2b9",
   "metadata": {},
   "outputs": [],
   "source": [
    "df_final['YN'] = df_final['% of Persons with Internet Access'].apply(lambda x: 0 if x < 99 else 1)"
   ]
  },
  {
   "cell_type": "code",
   "execution_count": 58,
   "id": "224657a9",
   "metadata": {
    "scrolled": false
   },
   "outputs": [
    {
     "data": {
      "text/html": [
       "<div>\n",
       "<style scoped>\n",
       "    .dataframe tbody tr th:only-of-type {\n",
       "        vertical-align: middle;\n",
       "    }\n",
       "\n",
       "    .dataframe tbody tr th {\n",
       "        vertical-align: top;\n",
       "    }\n",
       "\n",
       "    .dataframe thead th {\n",
       "        text-align: right;\n",
       "    }\n",
       "</style>\n",
       "<table border=\"1\" class=\"dataframe\">\n",
       "  <thead>\n",
       "    <tr style=\"text-align: right;\">\n",
       "      <th></th>\n",
       "      <th>Year</th>\n",
       "      <th>Estimated Population nr</th>\n",
       "      <th>Nr of Persons with Internet Access</th>\n",
       "      <th>% of Persons with Internet Access</th>\n",
       "      <th>YN</th>\n",
       "    </tr>\n",
       "  </thead>\n",
       "  <tbody>\n",
       "    <tr>\n",
       "      <th>count</th>\n",
       "      <td>153.000000</td>\n",
       "      <td>1.530000e+02</td>\n",
       "      <td>1.530000e+02</td>\n",
       "      <td>153.000000</td>\n",
       "      <td>153.000000</td>\n",
       "    </tr>\n",
       "    <tr>\n",
       "      <th>mean</th>\n",
       "      <td>2019.000000</td>\n",
       "      <td>2.201954e+06</td>\n",
       "      <td>1.993112e+06</td>\n",
       "      <td>89.245769</td>\n",
       "      <td>0.535948</td>\n",
       "    </tr>\n",
       "    <tr>\n",
       "      <th>std</th>\n",
       "      <td>4.915068</td>\n",
       "      <td>2.809968e+06</td>\n",
       "      <td>2.580067e+06</td>\n",
       "      <td>7.590618</td>\n",
       "      <td>0.500344</td>\n",
       "    </tr>\n",
       "    <tr>\n",
       "      <th>min</th>\n",
       "      <td>2011.000000</td>\n",
       "      <td>5.676000e+05</td>\n",
       "      <td>4.248340e+05</td>\n",
       "      <td>66.000000</td>\n",
       "      <td>0.000000</td>\n",
       "    </tr>\n",
       "    <tr>\n",
       "      <th>25%</th>\n",
       "      <td>2015.000000</td>\n",
       "      <td>8.433529e+05</td>\n",
       "      <td>7.205340e+05</td>\n",
       "      <td>85.000000</td>\n",
       "      <td>0.000000</td>\n",
       "    </tr>\n",
       "    <tr>\n",
       "      <th>50%</th>\n",
       "      <td>2019.000000</td>\n",
       "      <td>9.958000e+05</td>\n",
       "      <td>9.309599e+05</td>\n",
       "      <td>89.500000</td>\n",
       "      <td>1.000000</td>\n",
       "    </tr>\n",
       "    <tr>\n",
       "      <th>75%</th>\n",
       "      <td>2023.000000</td>\n",
       "      <td>1.550029e+06</td>\n",
       "      <td>1.515348e+06</td>\n",
       "      <td>95.307526</td>\n",
       "      <td>1.000000</td>\n",
       "    </tr>\n",
       "    <tr>\n",
       "      <th>max</th>\n",
       "      <td>2027.000000</td>\n",
       "      <td>1.079840e+07</td>\n",
       "      <td>1.084817e+07</td>\n",
       "      <td>104.962482</td>\n",
       "      <td>1.000000</td>\n",
       "    </tr>\n",
       "  </tbody>\n",
       "</table>\n",
       "</div>"
      ],
      "text/plain": [
       "              Year  Estimated Population nr  \\\n",
       "count   153.000000             1.530000e+02   \n",
       "mean   2019.000000             2.201954e+06   \n",
       "std       4.915068             2.809968e+06   \n",
       "min    2011.000000             5.676000e+05   \n",
       "25%    2015.000000             8.433529e+05   \n",
       "50%    2019.000000             9.958000e+05   \n",
       "75%    2023.000000             1.550029e+06   \n",
       "max    2027.000000             1.079840e+07   \n",
       "\n",
       "       Nr of Persons with Internet Access  % of Persons with Internet Access  \\\n",
       "count                        1.530000e+02                         153.000000   \n",
       "mean                         1.993112e+06                          89.245769   \n",
       "std                          2.580067e+06                           7.590618   \n",
       "min                          4.248340e+05                          66.000000   \n",
       "25%                          7.205340e+05                          85.000000   \n",
       "50%                          9.309599e+05                          89.500000   \n",
       "75%                          1.515348e+06                          95.307526   \n",
       "max                          1.084817e+07                         104.962482   \n",
       "\n",
       "               YN  \n",
       "count  153.000000  \n",
       "mean     0.535948  \n",
       "std      0.500344  \n",
       "min      0.000000  \n",
       "25%      0.000000  \n",
       "50%      1.000000  \n",
       "75%      1.000000  \n",
       "max      1.000000  "
      ]
     },
     "execution_count": 58,
     "metadata": {},
     "output_type": "execute_result"
    }
   ],
   "source": [
    "df_final.describe()"
   ]
  },
  {
   "cell_type": "code",
   "execution_count": null,
   "id": "77f0794f",
   "metadata": {},
   "outputs": [],
   "source": []
  },
  {
   "cell_type": "code",
   "execution_count": 106,
   "id": "1db65a10",
   "metadata": {},
   "outputs": [],
   "source": [
    "df_lreg = df_final.drop(df_final[(df_final[\"Region\"] != 'Ireland') ].index)\n",
    "\n",
    "X = df_lreg[['Year']]\n",
    "y = df_lreg['YN']\n",
    "\n",
    "X_train, X_test, y_train, y_test = train_test_split(X, y, test_size = 0.3)"
   ]
  },
  {
   "cell_type": "markdown",
   "id": "de49af41",
   "metadata": {},
   "source": [
    "Logistic Regression"
   ]
  },
  {
   "cell_type": "code",
   "execution_count": 109,
   "id": "e714dd98",
   "metadata": {},
   "outputs": [
    {
     "data": {
      "text/plain": [
       "1.0"
      ]
     },
     "execution_count": 109,
     "metadata": {},
     "output_type": "execute_result"
    }
   ],
   "source": [
    "lr = LogisticRegression(solver='liblinear',multi_class='ovr')\n",
    "lr.fit(X_train, y_train)\n",
    "lr.score(X_test, y_test)"
   ]
  },
  {
   "cell_type": "markdown",
   "id": "dac62d50",
   "metadata": {},
   "source": [
    "SVM"
   ]
  },
  {
   "cell_type": "code",
   "execution_count": 110,
   "id": "7b84b338",
   "metadata": {
    "scrolled": true
   },
   "outputs": [
    {
     "data": {
      "text/plain": [
       "1.0"
      ]
     },
     "execution_count": 110,
     "metadata": {},
     "output_type": "execute_result"
    }
   ],
   "source": [
    "svm = SVC(gamma='auto')\n",
    "svm.fit(X_train, y_train)\n",
    "svm.score(X_test, y_test)"
   ]
  },
  {
   "cell_type": "markdown",
   "id": "3cdd17ef",
   "metadata": {},
   "source": [
    "Random Forest"
   ]
  },
  {
   "cell_type": "code",
   "execution_count": 111,
   "id": "75f87aa0",
   "metadata": {
    "scrolled": true
   },
   "outputs": [
    {
     "data": {
      "text/plain": [
       "1.0"
      ]
     },
     "execution_count": 111,
     "metadata": {},
     "output_type": "execute_result"
    }
   ],
   "source": [
    "rf = RandomForestClassifier(n_estimators=40)\n",
    "rf.fit(X_train, y_train)\n",
    "rf.score(X_test, y_test)"
   ]
  },
  {
   "cell_type": "code",
   "execution_count": 112,
   "id": "fe43f220",
   "metadata": {},
   "outputs": [],
   "source": [
    "from sklearn.model_selection import cross_val_score\n"
   ]
  },
  {
   "cell_type": "markdown",
   "id": "c6877af5",
   "metadata": {},
   "source": [
    "Logistic regression model performance using cross_val_score"
   ]
  },
  {
   "cell_type": "code",
   "execution_count": 113,
   "id": "f65d4f9f",
   "metadata": {
    "scrolled": true
   },
   "outputs": [
    {
     "data": {
      "text/plain": [
       "0.9193099610461881"
      ]
     },
     "execution_count": 113,
     "metadata": {},
     "output_type": "execute_result"
    }
   ],
   "source": [
    "log_reg_score = cross_val_score(LogisticRegression(solver='liblinear',multi_class='ovr'), digits.data, digits.target,cv=3)\n",
    "np.average(log_reg_score)"
   ]
  },
  {
   "cell_type": "markdown",
   "id": "a71625e3",
   "metadata": {},
   "source": [
    "svm model performance using cross_val_score"
   ]
  },
  {
   "cell_type": "code",
   "execution_count": 114,
   "id": "58b9bc9f",
   "metadata": {},
   "outputs": [
    {
     "data": {
      "text/plain": [
       "0.4346132442960489"
      ]
     },
     "execution_count": 114,
     "metadata": {},
     "output_type": "execute_result"
    }
   ],
   "source": [
    "svm_score = cross_val_score(SVC(gamma='auto'), digits.data, digits.target,cv=3)\n",
    "np.average(svm_score)"
   ]
  },
  {
   "cell_type": "markdown",
   "id": "e6008d34",
   "metadata": {},
   "source": [
    "random forest performance using cross_val_score"
   ]
  },
  {
   "cell_type": "code",
   "execution_count": 115,
   "id": "0f9ce241",
   "metadata": {
    "scrolled": true
   },
   "outputs": [
    {
     "data": {
      "text/plain": [
       "0.9298831385642737"
      ]
     },
     "execution_count": 115,
     "metadata": {},
     "output_type": "execute_result"
    }
   ],
   "source": [
    "ran_forest = cross_val_score(RandomForestClassifier(n_estimators=40),digits.data, digits.target,cv=3)\n",
    "np.average(ran_forest)"
   ]
  },
  {
   "cell_type": "code",
   "execution_count": 120,
   "id": "bcc4bb4b",
   "metadata": {},
   "outputs": [],
   "source": [
    "years_to_predict = np.array([2023, 2024, 2025, 2026, 2027,2028,2029,2030])"
   ]
  },
  {
   "cell_type": "code",
   "execution_count": 119,
   "id": "80e9d312",
   "metadata": {},
   "outputs": [
    {
     "data": {
      "text/plain": [
       "array([0], dtype=int64)"
      ]
     },
     "execution_count": 119,
     "metadata": {},
     "output_type": "execute_result"
    }
   ],
   "source": [
    "pred = rf.predict([[2025]])\n",
    "pred"
   ]
  },
  {
   "cell_type": "code",
   "execution_count": null,
   "id": "1f36682f",
   "metadata": {},
   "outputs": [],
   "source": []
  },
  {
   "cell_type": "code",
   "execution_count": null,
   "id": "c8f64861",
   "metadata": {},
   "outputs": [],
   "source": []
  }
 ],
 "metadata": {
  "kernelspec": {
   "display_name": "Python 3 (ipykernel)",
   "language": "python",
   "name": "python3"
  },
  "language_info": {
   "codemirror_mode": {
    "name": "ipython",
    "version": 3
   },
   "file_extension": ".py",
   "mimetype": "text/x-python",
   "name": "python",
   "nbconvert_exporter": "python",
   "pygments_lexer": "ipython3",
   "version": "3.11.4"
  }
 },
 "nbformat": 4,
 "nbformat_minor": 5
}
